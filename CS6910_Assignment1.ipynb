{
  "nbformat": 4,
  "nbformat_minor": 0,
  "metadata": {
    "colab": {
      "name": "CS6910_Assignment1.ipynb",
      "provenance": [],
      "include_colab_link": true
    },
    "kernelspec": {
      "name": "python3",
      "display_name": "Python 3"
    },
    "language_info": {
      "name": "python"
    }
  },
  "cells": [
    {
      "cell_type": "markdown",
      "metadata": {
        "id": "view-in-github",
        "colab_type": "text"
      },
      "source": [
        "<a href=\"https://colab.research.google.com/github/dipnarayan501/Deep_learning/blob/main/CS6910_Assignment1.ipynb\" target=\"_parent\"><img src=\"https://colab.research.google.com/assets/colab-badge.svg\" alt=\"Open In Colab\"/></a>"
      ]
    },
    {
      "cell_type": "markdown",
      "source": [
        "Importing Libraries and downloading data "
      ],
      "metadata": {
        "id": "baI4ffvI_8Dg"
      }
    },
    {
      "cell_type": "code",
      "execution_count": null,
      "metadata": {
        "id": "9l-P-RsIMmT1"
      },
      "outputs": [],
      "source": [
        "import numpy as np\n",
        "import pandas as pd\n",
        "from tensorflow.keras.datasets import mnist, fashion_mnist\n",
        "from sklearn.model_selection import train_test_split\n",
        "from sklearn.metrics import accuracy_score\n",
        "import numpy as np\n",
        "from sklearn.metrics import mean_squared_error\n"
      ]
    },
    {
      "cell_type": "markdown",
      "source": [
        "Question 1 : Prepare dataset from fashion mnist "
      ],
      "metadata": {
        "id": "PLx2IzTkuEwm"
      }
    },
    {
      "cell_type": "code",
      "source": [
        "def prepare_dataset():\n",
        "    (X, y), (X_test, y_test) = fashion_mnist.load_data()\n",
        "\n",
        "    # Reshaping the data matrices\n",
        "    X = X.reshape(X.shape[0], -1)\n",
        "    X_test = X_test.reshape(X_test.shape[0], -1)\n",
        "\n",
        "    # Normalizing the pixel intensities\n",
        "    X = X/255.0\n",
        "    X_test = X_test/255.0\n",
        "    \n",
        "# splitting the X_train into a training set and validation set\n",
        "    X_train, X_val, y_train, y_val = train_test_split(X, y, test_size=0.1, random_state=42)\n",
        "\n",
        "  # encoding for class labels  \n",
        "    y_train_encode = np.zeros((10,y_train.shape[0]))\n",
        "    y_train_encode[y_train, np.array(list(range(y_train.shape[0])))] = 1\n",
        "\n",
        "    y_val_encode = np.zeros((10,y_val.shape[0]))\n",
        "    y_val_encode[y_val, np.array(list(range(y_val.shape[0])))] = 1\n",
        "\n",
        "    \n",
        "    #print training validation and test set \n",
        "    print(\"Number of examples in training set\")\n",
        "    print(X_train.shape)\n",
        "    print(y_train_encode.shape)\n",
        "    print(y_train.shape)\n",
        "    \n",
        "    print(\"No of examples in validation set\")\n",
        "    print(X_val.shape)\n",
        "    print(y_val.shape)\n",
        "    print(\"No of examples in test set\")\n",
        "    print(X_test.shape)\n",
        "    print(y_test.shape)\n",
        "    \n",
        "    return X_train.T, y_train_encode, y_train.T ,X_val.T, y_val.T, X_test.T, y_test.T, y_val_encode\n",
        "\n",
        "#return all train valid test data \n",
        "X_train, y_train_encode, y_train ,X_val, y_val, X_test, y_test,y_val_encode = prepare_dataset()"
      ],
      "metadata": {
        "id": "_wGhduubMw9h",
        "colab": {
          "base_uri": "https://localhost:8080/"
        },
        "outputId": "e49e3ea3-dc7e-4638-bdf2-ba32ae272f73"
      },
      "execution_count": null,
      "outputs": [
        {
          "output_type": "stream",
          "name": "stdout",
          "text": [
            "Downloading data from https://storage.googleapis.com/tensorflow/tf-keras-datasets/train-labels-idx1-ubyte.gz\n",
            "32768/29515 [=================================] - 0s 0us/step\n",
            "40960/29515 [=========================================] - 0s 0us/step\n",
            "Downloading data from https://storage.googleapis.com/tensorflow/tf-keras-datasets/train-images-idx3-ubyte.gz\n",
            "26427392/26421880 [==============================] - 0s 0us/step\n",
            "26435584/26421880 [==============================] - 1s 0us/step\n",
            "Downloading data from https://storage.googleapis.com/tensorflow/tf-keras-datasets/t10k-labels-idx1-ubyte.gz\n",
            "16384/5148 [===============================================================================================] - 0s 0us/step\n",
            "Downloading data from https://storage.googleapis.com/tensorflow/tf-keras-datasets/t10k-images-idx3-ubyte.gz\n",
            "4423680/4422102 [==============================] - 0s 0us/step\n",
            "4431872/4422102 [==============================] - 0s 0us/step\n",
            "Number of examples in training set\n",
            "(54000, 784)\n",
            "(10, 54000)\n",
            "(54000,)\n",
            "No of examples in validation set\n",
            "(6000, 784)\n",
            "(6000,)\n",
            "No of examples in test set\n",
            "(10000, 784)\n",
            "(10000,)\n"
          ]
        }
      ]
    },
    {
      "cell_type": "markdown",
      "source": [
        "plot sample image each class in WANDB"
      ],
      "metadata": {
        "id": "EHBq-5MrxKel"
      }
    },
    {
      "cell_type": "code",
      "source": [
        "#Number classes \n",
        "num_classes = 10\n",
        "class_names = ['T-shirt/top', 'Trouser', 'Pullover', 'Dress', 'Coat',\n",
        "               'Sandal', 'Shirt', 'Sneaker', 'Bag', 'Ankle boot']\n",
        "#logging sample image in each class in wandb                \n",
        "wandb.init(project=\"ASSIGNMENT_1\", entity=\"\", name=\"log_images\")\n",
        "#images is a list containing one sample image per class \n",
        "indices = [list(y_train.T).index(i) for i in range(num_classes)]\n",
        "images = []\n",
        "captions = []\n",
        "for index in indices:\n",
        "    images.append(X_train.T[index].reshape((28, 28)))\n",
        "    captions.append(class_names[y_train.T[index]])\n",
        "\n",
        "# Log one sample image of each class to wandb\n",
        "wandb.log({\"Image from each class\": [wandb.Image(image, caption=caption) for image, caption in zip(images, captions)]})"
      ],
      "metadata": {
        "id": "1g5o5KdOxOS7"
      },
      "execution_count": null,
      "outputs": []
    },
    {
      "cell_type": "markdown",
      "source": [
        "Question.2   Initialize Activation Function Sigmoid,Relu,Tanh,Softmax and derivatives Sigmoid,derivatives Relu and derivatives Tanh "
      ],
      "metadata": {
        "id": "fLRrIi6GFif8"
      }
    },
    {
      "cell_type": "code",
      "source": [
        "# initialize sigmoid function \n",
        "def sigmoid(x):\n",
        "    return 1. / (1.+np.exp(-x))\n",
        "# initialize relu function    \n",
        "def relu(x):\n",
        "    return np.maximum(0,x)\n",
        "# initialize tanh function\n",
        "def tanh(x):\n",
        "    return 1.*(np.exp(x)+np.exp(-x))/(np.exp(x)-np.exp(-x))\n",
        "# initialize softmax function    \n",
        "def softmax(x):\n",
        "    soft = np.zeros(x.shape)\n",
        "    for i in range(0, x.shape[1]):\n",
        "        numr = np.exp(x[:, i])\n",
        "        soft[:, i] = numr/np.sum(numr)\n",
        "    return soft\n",
        "\n",
        "\n",
        "#Derivatives of sigmoid function\n",
        "def sigmoid_derivative(x):\n",
        "    return sigmoid(x) * (1-sigmoid(x))\n",
        "#Derivatives of relu function    \n",
        "def relu_derivative(x):\n",
        "    return 1*(x>0)\n",
        "#Derivatives of tanh function\n",
        "def tanh_derivative(x):\n",
        "    return (1 - (np.tanh(x)**2))\n",
        "\n",
        "#Initialisation of parameters\n",
        "def initialize_parameters(input_layer, hidden_layer, output_layer,initilisation):\n",
        "    weights = []\n",
        "    biases  = []\n",
        "    #  list of number of neurons per layer specifying layer dimensions in the format [#input_features,#hiddenunits.outputclass]\n",
        "    layers = [input_layer] + hidden_layer + [output_layer]  \n",
        "    for i in range(len(hidden_layer)+1):\n",
        "        if initilisation == 'random': # initilisation mode random\n",
        "            weights.append(np.random.rand(layers[i+1], layers[i])*0.01)\n",
        "        if initilisation == 'xavier': # initilisation mode xavier \n",
        "            weights.append(np.random.randn(layers[i+1],layers[i])*np.sqrt(2/layers[i+1]))\n",
        "        biases.append(np.random.randn(layers[i+1],1))\n",
        "    return weights, biases\n"
      ],
      "metadata": {
        "id": "JCRWxL9ZMxDH"
      },
      "execution_count": null,
      "outputs": []
    },
    {
      "cell_type": "markdown",
      "source": [
        "Question 2 and 3 initilisation Feedforward and back propogation, six optimizer function \n",
        "sgd,\n",
        "momentum based gradient descent,\n",
        "nesterov accelerated gradient descent,\n",
        "rmsprop,\n",
        "adam,\n",
        "nadam,"
      ],
      "metadata": {
        "id": "johGQ_bFLShj"
      }
    },
    {
      "cell_type": "code",
      "source": [
        "\n",
        "class ANN:\n",
        "\n",
        "    def __init__(self,n_inputs,n_hidden,n_outputs,initialisation, activation,loss):\n",
        "           \n",
        "        self.input_layer   = n_inputs # input layer\n",
        "        self.output_layer  = n_outputs # output layer\n",
        "        self.hidden_layer   = n_hidden # hidden layer\n",
        "        self.activation = activation # activation function (sigmiod,reli,tahn,softmax)\n",
        "        self.loss_function = loss # loss (mse entropy)\n",
        "        self.weights    = []\n",
        "        self.biases     = []\n",
        "        self.initialisation = initialisation\n",
        "        self.weights,self.biases = initialize_parameters(self.input_layer,self.hidden_layer,self.output_layer,self.initialisation)\n",
        "\n",
        "    \n",
        "    \n",
        "    #Forward Propogation code here\n",
        "    def forward_propagation(X, weights, biases,activation):\n",
        "\n",
        "        A = []  #pre-activation\n",
        "       \n",
        "        H  = []    # post activation\n",
        "        W      = weights  # weights\n",
        "        b      = biases   # biases \n",
        "\n",
        "        k=0\n",
        "        A.append(np.dot(W[k],X)+b[k])\n",
        "        if activation == 'sigmoid':\n",
        "          H.append(sigmoid(A[k]))\n",
        "        elif activation == 'tanh':\n",
        "          H.append(tanh(A[k]))\n",
        "        elif activation == 'relu':\n",
        "          H.append(relu(A[k]))\n",
        "\n",
        "\n",
        "        for k in range(1,len(hidden_layer)):\n",
        "            A.append(np.dot(W[k],H[k-1])+b[k])\n",
        "            if activation == 'sigmoid':\n",
        "              H.append(sigmoid(A[k]))\n",
        "            elif activation == 'tanh':\n",
        "              H.append(tanh(A[k]))\n",
        "            elif activation == 'relu':\n",
        "              H.append(relu(A[k]))\n",
        "            elif activation == 'leaky_relu':\n",
        "              H.append(leaky_relu(A[k]))\n",
        "\n",
        "        k=len(hidden_layer)\n",
        "        A.append(np.dot(W[k],H[k-1])+b[k])\n",
        "        H.append(softmax(A[k]))\n",
        "\n",
        "        return A , H\n",
        "        A, H = forward_propagation(X_train, weights, biases, 'sigmoid') # activation function for output layer\n",
        "        for i in range(len(A)):\n",
        "          print(A[i].shape)\n",
        "          for i in range(len(H)):\n",
        "            print(H[i].shape)\n",
        "    \n",
        "\n",
        "\n",
        "     #Back propogation\n",
        "    def back_propagation(self,X_train,y_train):\n",
        "\n",
        "        g_a  = [0]*(len(self.hidden_layer)+1)\n",
        "        g_h  = [0]*(len(self.hidden_layer)+1)\n",
        "        g_w  = [0]*(len(self.weights))\n",
        "        g_b  = [0]*(len(self.biases))\n",
        "\n",
        "        n_samples = X_train.shape[1] \n",
        "\n",
        "        for k in reversed(range(len(self.hidden_layer)+1)):\n",
        "            if k == len(self.hidden_layer):\n",
        "              if self.loss_function == 'cross_entropy':\n",
        "                  g_a[k] = self.H[k]  - y_train  \n",
        "              elif self.loss_function == 'square_loss': \n",
        "                  g_a[k] = (self.H[k] - y_train) * self.H[k] * (1 - self.H[k]) \n",
        "                \n",
        "            else:\n",
        "                g_h[k] = (1/n_samples)*np.matmul(self.weights[k+1].T,g_a[k+1])\n",
        "                if self.activation == 'sigmoid':\n",
        "                  g_a[k] = (1/n_samples)*np.multiply(g_h[k],sigmoid_derivative(self.A[k]))\n",
        "                elif self.activation == 'tanh':\n",
        "                  g_a[k] = (1/n_samples)*np.multiply(g_h[k],tanh_derivative(self.A[k]))\n",
        "                elif self.activation == 'relu':\n",
        "                  g_a[k] = (1/n_samples)*np.multiply(g_h[k],relu_derivative(self.A[k]))\n",
        "                \n",
        "\n",
        "            if k == 0:\n",
        "                g_w[k] = (1/n_samples)*np.matmul(g_a[k],X_train.T) \n",
        "            else:\n",
        "                g_w[k] = (1/n_samples)*np.matmul(g_a[k],self.H[k-1].T)\n",
        "\n",
        "            g_b[k]  = (1/n_samples)*np.sum(g_a[k], axis=1, keepdims = True)\n",
        "        return g_w,g_b   # return gradients\n",
        "    def predict(self, X,y ):\n",
        "      output =  self.forward_propagation(X)\n",
        "      out_class=(np.argmax(output,axis=0))\n",
        "      accuracy = round(accuracy_score(y, out_class) * 100, 3)\n",
        "      return accuracy\n",
        "#This block contains functions that implement stochastic gradient descent, momentum, RMSprop, \n",
        "#Adam. Nadam and Nestorov accelerated gradient are implemented inside the fit predict function.\n",
        "\n",
        "    def fit_predict(self,X_train,y_train,X_val ,y_val ,epochs,learning_rate,optimiser='gd',batch_size = 64,lambd=0.0005): \n",
        "      steps = 0\n",
        "      pre_update_w = np.multiply(self.weights,0) # previous update weight\n",
        "      pre_update_b = np.multiply(self.biases,0) # previous update biases\n",
        "      update_w = np.multiply(self.weights,0) # update weight \n",
        "      update_b = np.multiply(self.biases,0) # update biases\n",
        "      vw = 0.0 #contains previous W and b values, accumulated in a weighted fashion along with the gradients \n",
        "      vb = 0.0 # contains previous W and b values, accumulated in a weighted fashion along with the gradients^2\n",
        "      eps = 1e-8 # for numerical stability\n",
        "      a1 =0.0  # for numerical stability\n",
        "      gamma = 0.9 # for numerical stability\n",
        "      beta = 0.999 # for numerical stability\n",
        "      beta1 = 0.9 # for numerical stability\n",
        "      beta2 = 0.999 # for numerical stability\n",
        "      m_t, v_t, m_hat_w, v_hat_w, m_b,v_b,m_hat_b,v_hat_b = 0.0,0.0,0.0,0.0,0.0,0.0,0.0,0.0 \n",
        "\n",
        "      for i in range(epochs):\n",
        "        \n",
        "\n",
        "            for batch in range(0, X_train.shape[1], batch_size):\n",
        "\n",
        "              train_b_imag =  X_train[:,batch:batch+batch_size]\n",
        "              train_l_imag =  y_train_encode[:,batch:batch+batch_size]\n",
        "              output =  self.forward_propagation(train_b_imag)\n",
        "              g_weights,g_biases = self.back_propagation(train_b_imag,train_l_imag)\n",
        "\n",
        "              #gradient descent\n",
        "              if optimiser == 'gd':\n",
        "                 self.weights = self.weights - np.multiply(learning_rate,g_weights) - np.multiply(learning_rate*lambd,self.weights)\n",
        "                 self.biases = self.biases - np.multiply(learning_rate,g_biases)\n",
        "              #Momemtum gradiend descent code\n",
        "              if optimiser == 'mgd':\n",
        "                 \n",
        "                 update_w = np.multiply(gamma,pre_update_w) + np.multiply(learning_rate,g_weights)\n",
        "                 self.weights = self.weights - update_w - np.multiply(learning_rate*lambd,self.weights)\n",
        "                \n",
        "                 update_b = np.multiply(gamma,pre_update_b) + np.multiply(learning_rate,g_biases)\n",
        "                 self.biases = self.biases - update_b\n",
        "                 pre_update_w = update_w\n",
        "                 pre_update_b = update_b\n",
        "\n",
        "\n",
        "\n",
        "              #NAG code here\n",
        "              if optimiser == 'ngd':\n",
        "                 \n",
        "                 cache_w = self.weights\n",
        "                 cache_b = self.biases\n",
        "                 self.weights = self.weights - np.multiply(gamma,pre_update_w)\n",
        "                 self.biases = self.biases - np.multiply(gamma,pre_update_b)\n",
        "                 output =  self.forward_propagation(train_b_imag)\n",
        "                 g_weights,g_biases = self.back_propagation(train_b_imag,train_l_imag)\n",
        "\n",
        "                 update_w = np.multiply(gamma,pre_update_w) + np.multiply(learning_rate,g_weights)\n",
        "                 cache_w = cache_w - update_w - np.multiply(learning_rate*lambd,cache_w)\n",
        "                    \n",
        "                 update_b = np.multiply(gamma,pre_update_b) + np.multiply(learning_rate,g_biases)\n",
        "                 cache_b = cache_b - update_b\n",
        "                 \n",
        "                 self.weights = cache_w\n",
        "                 self.biases = cache_b\n",
        "                 pre_update_w = update_w\n",
        "                 pre_update_b = update_b\n",
        "\n",
        "\n",
        "\n",
        "              #RMS prop code here \n",
        "              if optimiser == 'rmsprop': \n",
        "\n",
        "                 vw = np.multiply(vw,beta) + np.multiply(1-beta,np.power(g_weights,2))\n",
        "                 vb = np.multiply(vb,beta) + np.multiply(1-beta,np.power(g_biases,2))\n",
        "\n",
        "          \n",
        "                 update_w = np.multiply(g_weights,learning_rate/np.power(vw+eps,1/2))\n",
        "                 update_b = np.multiply(g_biases,learning_rate/np.power(vb+eps,1/2))\n",
        "                 \n",
        "                 self.weights = self.weights - update_w - np.multiply(learning_rate*lambd,self.weights)\n",
        "                 self.biases = self.biases - update_b\n",
        "              #Adam code here    \n",
        "              if optimiser == 'adam':\n",
        "                 m_t = np.multiply(beta1,m_t) + np.multiply(1-beta1,g_weights)\n",
        "                 v_t = np.multiply(beta2,v_t) + np.multiply(1-beta2,np.power(g_weights,2))\n",
        "                 m_b = np.multiply(beta1,m_b) + np.multiply(1-beta1,g_biases)\n",
        "                 v_b = np.multiply(beta2,v_b) + np.multiply(1-beta2,np.power(g_biases,2))\n",
        "                \n",
        "                 m_hat_w = m_t/(1 - np.power(beta1,i+1))\n",
        "                 m_hat_b = m_b/(1 - np.power(beta1,i+1))\n",
        "                \n",
        "                 v_hat_w = v_t/(1 - np.power(beta2,i+1))\n",
        "                 v_hat_b = v_b/(1 - np.power(beta2,i+1))\n",
        "                 update_w = (learning_rate / np.power(v_hat_w + eps, 1/2)) * m_hat_w\n",
        "                 update_b = (learning_rate / np.power(v_hat_b + eps, 1/2)) * m_hat_b\n",
        "                 self.weights = self.weights - update_w - np.multiply(learning_rate*lambd,self.weights)\n",
        "                 self.biases = self.biases - update_b\n",
        "              #Nadam code here\n",
        "              if optimiser == 'nadam':\n",
        "                 \n",
        "                 self.weights = self.weights - np.multiply(gamma,update_w)\n",
        "                 self.biases  = self.biases  - np.multiply(gamma,update_b)\n",
        "\n",
        "                 g_weights,g_biases = self.back_propagation(train_b_imag,train_l_imag)\n",
        "\n",
        "                 m_t =  np.multiply(beta1,m_t) + np.multiply(1 - beta1,g_weights)\n",
        "                 v_t =  np.multiply(beta2,v_t) + np.multiply(1 - beta2,np.power(g_weights, 2))\n",
        "\n",
        "                 m_b =  np.multiply(beta1,m_b) + np.multiply(1 - beta1,g_biases)\n",
        "                 v_b =  np.multiply(beta2,v_b) + np.multiply(1 - beta2,np.power(g_biases, 2))\n",
        "                \n",
        "                 m_hat_w = m_t / (1 - np.power(beta1, i+1)) \n",
        "                 v_hat_t = v_t / (1 - np.power(beta2, i+1))\n",
        "\n",
        "                 m_hat_b = m_b / (1 - np.power(beta1, i+1)) \n",
        "                 v_hat_b = v_b / (1 - np.power(beta2, i+1))\n",
        "  \n",
        "                 a1 = (1-beta1)/(1-np.power(beta,i+1))\n",
        "                 update_w = np.multiply(learning_rate/(np.power(v_hat_t + eps,1/2)),(np.multiply(a1,g_weights) + np.multiply(beta1,m_hat_w)))#(a4 + a2))\n",
        "                 update_b = np.multiply(learning_rate/(np.power(v_hat_b + eps,1/2)),(np.multiply(a1,g_biases)+np.multiply(beta1,m_hat_b) ))#(a5 + a3))\n",
        "                 self.weights = self.weights - update_w - np.multiply(learning_rate*lambd,self.weights)\n",
        "                 self.biases = self.biases - update_b\n",
        "            #Training loss for full dataset\n",
        "            predicted_train = self.forward_propagation(X_train)\n",
        "            predicted_train_label=(np.argmax(predicted_train,axis=0)) \n",
        "            # accuracy  \n",
        "            acc1 = round(accuracy_score(y_train, predicted_train_label) * 100, 3)\n",
        "\n",
        "            predicted_val = self.forward_propagation(X_val)\n",
        "            predicted_val_label=(np.argmax(predicted_val,axis=0))\n",
        "              \n",
        "            acc2 = round(accuracy_score(y_val, predicted_val_label) * 100, 3)\n",
        "\n",
        "            a =self.weights[1:len(self.hidden_layer)]\n",
        "            b = np.sum([(np.sum((a[i]**2).reshape(1,-1))) for i in range(len(a))]) \n",
        "            if self.loss_function == 'cross_entropy':\n",
        "              train_loss = (-np.sum(np.multiply(y_train_encode,np.log(predicted_train)))+((lambd/2.)*b))/y_train.shape[0]\n",
        "              val_loss = (-np.sum(np.multiply(y_val_encode,np.log(predicted_val)))+((lambd/2.)*b))/y_val.shape[0]\n",
        "           #print the training accuracy , training loss , validation accuracy , validation loss  \n",
        "            print('Epoch {}: training_accuracy = {:.2f} %, training_loss= {:.5f}  ,Validation accuracy = {:.2f} ,Validation loss = {:.5f}'.format(i,acc1,train_loss,acc2,val_loss))\n",
        "          # login wandb \n",
        "            wandb.log({\"val_accuracy\": acc2,\"accuracy\": acc1,\"steps\":epochs,\"train_loss\":train_loss,\"val_loss\":val_loss},)\n",
        "\n",
        "            \n",
        "\n",
        "         \n",
        "      return acc1,acc2,train_loss,val_loss\n",
        "    \n"
      ],
      "metadata": {
        "id": "XThPMeSPMxFO"
      },
      "execution_count": null,
      "outputs": []
    },
    {
      "cell_type": "markdown",
      "source": [
        "login into wandb "
      ],
      "metadata": {
        "id": "lrxdnnJnyB2a"
      }
    },
    {
      "cell_type": "code",
      "source": [
        "%pip install wandb -q\n",
        "import wandb\n",
        "wandb.login()"
      ],
      "metadata": {
        "id": "WVawwPLGMxHo"
      },
      "execution_count": null,
      "outputs": []
    },
    {
      "cell_type": "markdown",
      "source": [
        "In this cell, we set up the configurations for the various hyperparameters and use the Sweeps feature to find the combination that gives us best validation accuracy.(WANDB)"
      ],
      "metadata": {
        "id": "SHWTwybByEaI"
      }
    },
    {
      "cell_type": "code",
      "source": [
        "sweep_config = {\n",
        "    'method': 'random', #grid, random\n",
        "    'metric': {\n",
        "      'name': 'val_accuracy',\n",
        "      'goal': 'maximize'  \n",
        "    },\n",
        "    'parameters': {\n",
        "        'epochs': {\n",
        "            'values': [5,10,20,40]\n",
        "        },\n",
        "        'learning_rate': {\n",
        "            'values': [1e-2,1e-3]\n",
        "        },\n",
        "        'loss_function':{\n",
        "            'values':['cross_entropy']\n",
        "        },\n",
        "        'initilisation':{\n",
        "            'values':['xavier']\n",
        "        },\n",
        "        'batch_size':{\n",
        "            'values':[32,64,128]\n",
        "        },\n",
        "        'optimiser': {\n",
        "            'values': ['gd','mgd','ngd', 'rmsprop','adam','nadam']\n",
        "        },\n",
        "        'activation': {\n",
        "            'values': ['relu','tanh','sigmoid']\n",
        "        },\n",
        "        'hidden_layer': {\n",
        "            'values': [[32,64,128],\n",
        "                       [32,32,32],[32,32,32,32],[32,32,32,32,32],[64,64,64],\n",
        "                       [64,64,64,64],[64,64,64,64,64],[128,128,128],\n",
        "                       [128,128,128,128],[128,128,128,128,128]]\n",
        "        },\n",
        "        \n",
        "        'weight_decay':{\n",
        "            'values':[0.0,0.0005]\n",
        "        }\n",
        "        \n",
        "    }\n",
        "}"
      ],
      "metadata": {
        "id": "RBs--0RWMxKB"
      },
      "execution_count": null,
      "outputs": []
    },
    {
      "cell_type": "markdown",
      "source": [
        "sweep running  ID "
      ],
      "metadata": {
        "id": "fH7BtP0-yJxf"
      }
    },
    {
      "cell_type": "code",
      "source": [
        "sweep_id = wandb.sweep(sweep_config, entity=\"\", project=\"ASSIGNMENT_1\")"
      ],
      "metadata": {
        "id": "utyrQ8jwyQWX"
      },
      "execution_count": null,
      "outputs": []
    },
    {
      "cell_type": "markdown",
      "source": [
        "Define train fit"
      ],
      "metadata": {
        "id": "_Jmw-PnWyk3f"
      }
    },
    {
      "cell_type": "code",
      "source": [
        "def train():\n",
        "    #steps = 10\n",
        "    # Default values for hyper-parameters we're going to sweep over\n",
        "    config_defaults = {\n",
        "        'epochs': 5,\n",
        "        'input_layer': 28*28,\n",
        "        'output_layer': 10,\n",
        "        'batch_size':64,\n",
        "        'weight_decay':0.005,\n",
        "        'learning_rate': 1e-3,\n",
        "        'hidden_layer':[16,16,16],\n",
        "        'learning_rate':1e-2,\n",
        "        'optimiser':'mgd',\n",
        "        'activation':'sigmoid',\n",
        "        'initialisation':'xavier',\n",
        "        'loss_function':'cross_entropy'\n",
        "        \n",
        "    }\n",
        "\n",
        "    # Initialize a new wandb run\n",
        "    wandb.init(project='ASSIGNMENT_1', entity='',config=config_defaults)\n",
        "    \n",
        "    \n",
        "    # Config is a variable that holds and saves hyperparameters and inputs\n",
        "    config = wandb.config\n",
        "    learning_rate = config.learning_rate\n",
        "    epochs = config.epochs\n",
        "    hidden_layer = config.hidden_layer\n",
        "    activation = config.activation\n",
        "    optimiser = config.optimiser\n",
        "    input_layer = config.input_layer\n",
        "    output_layer = config.output_layer\n",
        "    batch_size = config.batch_size\n",
        "    weight_decay = config.weight_decay\n",
        "    loss_function = config.loss_function\n",
        "    initialisation = config.initilisation\n",
        "    #run_name = \"init_{}_act_{}_lr_{}_opt_{}_L2_{}_bs_{}_ep_{}_hh_{}\".format(initialisation,activation,learning_rate,optimiser, weight_decay,batch_size, epochs, hidden_layer)\n",
        "    \n",
        "    #wandb.run.name = run_name\n",
        "    #wandb.run.save()\n",
        "    #wandb.run.finish()\n",
        "    # Model training here\n",
        "    sweep_network    = ANN(input_layer, hidden_layer, output_layer,initialisation,activation,loss_function)\n",
        "    acc1,acc2,train_loss,val_loss  = sweep_network.fit_predict(X_train,y_train,X_val,y_val,epochs,learning_rate,optimiser,batch_size,weight_decay)\n"
      ],
      "metadata": {
        "id": "g_QwLrtaynFm"
      },
      "execution_count": null,
      "outputs": []
    },
    {
      "cell_type": "markdown",
      "source": [
        "Running sweeps configuration "
      ],
      "metadata": {
        "id": "NDtToQpQy2q-"
      }
    },
    {
      "cell_type": "code",
      "source": [
        "import warnings\n",
        "warnings.filterwarnings(\"ignore\", category=np.VisibleDeprecationWarning)\n",
        "wandb.agent(sweep_id, train, count=100)"
      ],
      "metadata": {
        "id": "rs8cuX8Wy5jN"
      },
      "execution_count": null,
      "outputs": []
    }
  ]
}