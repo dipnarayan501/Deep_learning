{
  "nbformat": 4,
  "nbformat_minor": 0,
  "metadata": {
    "colab": {
      "name": "Assignment1_test.ipynb",
      "provenance": [],
      "include_colab_link": true
    },
    "kernelspec": {
      "name": "python3",
      "display_name": "Python 3"
    },
    "language_info": {
      "name": "python"
    }
  },
  "cells": [
    {
      "cell_type": "markdown",
      "metadata": {
        "id": "view-in-github",
        "colab_type": "text"
      },
      "source": [
        "<a href=\"https://colab.research.google.com/github/dipnarayan501/Deep_learning/blob/main/Assignment1_test.ipynb\" target=\"_parent\"><img src=\"https://colab.research.google.com/assets/colab-badge.svg\" alt=\"Open In Colab\"/></a>"
      ]
    },
    {
      "cell_type": "code",
      "execution_count": 10,
      "metadata": {
        "id": "jnQVIKXtk6iG"
      },
      "outputs": [],
      "source": [
        "#Importing libraries\n",
        "\n",
        "import numpy as np\n",
        "import pandas as pd\n",
        "from tensorflow.keras.datasets import mnist, fashion_mnist\n",
        "from sklearn.model_selection import train_test_split"
      ]
    },
    {
      "cell_type": "markdown",
      "source": [
        "Download the fashion-MNIST dataset and plot 1 sample image for each class as shown in the grid below. Use \"from keras.datasets import fashion_mnist\" for getting the fashion mnist dataset."
      ],
      "metadata": {
        "id": "9Wa6eNWlNT9O"
      }
    },
    {
      "cell_type": "code",
      "source": [
        "# Preparing Dataset\n",
        "\n",
        "def prepare_dataset():\n",
        "    (X, y), (X_test, y_test) = fashion_mnist.load_data()\n",
        "\n",
        "    # Reshaping the data matrices\n",
        "    X = X.reshape(X.shape[0], -1)\n",
        "    X_test = X_test.reshape(X_test.shape[0], -1)\n",
        "\n",
        "    # Normalizing the pixel intensities\n",
        "    X = X/255.0\n",
        "    X_test = X_test/255.0\n",
        "    \n",
        "    \n",
        "    X_train, X_val, y_train, y_val = train_test_split(X, y, test_size=0.1, random_state=42)\n",
        "    \n",
        "    y_train_encode = np.zeros((10,y_train.shape[0]))\n",
        "    y_train_encode[y_train, np.array(list(range(y_train.shape[0])))] = 1\n",
        "\n",
        "    # Split the X_train into a training set and validation set\n",
        "    \n",
        "    \n",
        "    print(\"Number of examples in training set\")\n",
        "    print(X_train.shape)\n",
        "    print(y_train_encode.shape)\n",
        "    print(y_train.shape)\n",
        "    \n",
        "    print(\"No of examples in validation set\")\n",
        "    print(X_val.shape)\n",
        "    print(y_val.shape)\n",
        "    print(\"No of examples in test set\")\n",
        "    print(X_test.shape)\n",
        "    print(y_test.shape)\n",
        "    \n",
        "    return X_train.T, y_train_encode, y_train.T ,X_val.T, y_val.T, X_test.T, y_test.T\n",
        "\n",
        "\n",
        "X_train, y_train_encode, y_train ,X_val, y_val, X_test, y_test = prepare_dataset()"
      ],
      "metadata": {
        "colab": {
          "base_uri": "https://localhost:8080/"
        },
        "id": "m9mZ5N-wl31c",
        "outputId": "daa858ab-d7d9-4b7c-b2ae-a5bb6a060fc3"
      },
      "execution_count": 11,
      "outputs": [
        {
          "output_type": "stream",
          "name": "stdout",
          "text": [
            "Number of examples in training set\n",
            "(54000, 784)\n",
            "(10, 54000)\n",
            "(54000,)\n",
            "No of examples in validation set\n",
            "(6000, 784)\n",
            "(6000,)\n",
            "No of examples in test set\n",
            "(10000, 784)\n",
            "(10000,)\n"
          ]
        }
      ]
    },
    {
      "cell_type": "code",
      "source": [
        "#Activation functions\n",
        "\n",
        "def sigmoid(x):\n",
        "    return 1. / (1.+np.exp(-x))\n",
        "def relu(x):\n",
        "    return np.maximum(0,x)\n",
        "def tanh(x):\n",
        "    return np.tanh(x)\n",
        "def softmax(x):\n",
        "    soft = np.zeros(x.shape)\n",
        "    for i in range(0, x.shape[1]):\n",
        "        numr = np.exp(x[:, i])\n",
        "        soft[:, i] = numr/np.sum(numr)\n",
        "    return soft\n",
        "\n",
        "\n",
        "def sigmoid_derivative(x):\n",
        "    return sigmoid(x) * (1-sigmoid(x))\n",
        "def relu_derivative(x):\n",
        "    return 1*(x>0)\n",
        "def tanh_derivative(x):\n",
        "    return (1 - (np.tanh(x)**2))\n",
        "\n"
      ],
      "metadata": {
        "id": "wcAC2XONl4BH"
      },
      "execution_count": 12,
      "outputs": []
    },
    {
      "cell_type": "code",
      "source": [
        "#Initializing parameters\n",
        "output_layer = 10\n",
        "input_layer = X_test.shape[0]\n",
        "hidden_layer = [64, 64]\n",
        "#Example  28*28,[64,64],output_classes\n",
        "def initialize_parameters(input_layer, hidden_layer, output_layer,mode):\n",
        "    weights = []\n",
        "    biases  = []\n",
        "    layers = [input_layer] + hidden_layer + [output_layer]\n",
        "    for i in range(len(hidden_layer)+1):\n",
        "        if mode == 'random_normal':\n",
        "            weights.append(np.random.randn(layers[i+1], layers[i])) * 0.01\n",
        "        if mode == 'xavier':\n",
        "            weights.append(np.random.randn(layers[i+1],layers[i])*np.sqrt(2/layers[i+1]))\n",
        "        biases.append(np.random.randn(layers[i+1],1))\n",
        "    return weights, biases\n",
        "weights, biases = initialize_parameters(input_layer, hidden_layer, output_layer, 'xavier')\n",
        "for i in range(len(weights)):\n",
        "    print(weights[i].shape)\n",
        "    \n",
        "for i in range(len(biases)):\n",
        "    print(biases[i].shape)\n"
      ],
      "metadata": {
        "colab": {
          "base_uri": "https://localhost:8080/"
        },
        "id": "1SNjmibWl4EH",
        "outputId": "68e82191-58f8-459a-ed3d-c671223848e8"
      },
      "execution_count": 13,
      "outputs": [
        {
          "output_type": "stream",
          "name": "stdout",
          "text": [
            "(64, 784)\n",
            "(64, 64)\n",
            "(10, 64)\n",
            "(64, 1)\n",
            "(64, 1)\n",
            "(10, 1)\n"
          ]
        }
      ]
    },
    {
      "cell_type": "code",
      "source": [
        "#Forward Propogation\n",
        "def forward_propagation(X, weights, biases,activation):\n",
        "\n",
        "        A = []  #pre-activation\n",
        "       \n",
        "        H  = []    # post activation\n",
        "        W      = weights\n",
        "        b      = biases\n",
        "\n",
        "        k=0\n",
        "        A.append(np.dot(W[k],X)+b[k])\n",
        "        if activation == 'sigmoid':\n",
        "          H.append(sigmoid(A[k]))\n",
        "        elif activation == 'tanh':\n",
        "          H.append(tanh(A[k]))\n",
        "        elif activation == 'relu':\n",
        "          H.append(relu(A[k]))\n",
        "        #elif self.activation == 'leaky_relu':\n",
        "         # H.append(leaky_relu(A[k]))\n",
        "\n",
        "        for k in range(1,len(hidden_layer)):\n",
        "            A.append(np.dot(W[k],H[k-1])+b[k])\n",
        "            if activation == 'sigmoid':\n",
        "              H.append(sigmoid(A[k]))\n",
        "            elif activation == 'tanh':\n",
        "              H.append(tanh(A[k]))\n",
        "            elif activation == 'relu':\n",
        "              H.append(relu(A[k]))\n",
        "            elif activation == 'leaky_relu':\n",
        "              H.append(leaky_relu(A[k]))\n",
        "\n",
        "        k=len(hidden_layer)\n",
        "        A.append(np.dot(W[k],H[k-1])+b[k])\n",
        "        H.append(softmax(A[k]))\n",
        "\n",
        "        return A , H\n",
        "\n",
        "   \n",
        "A, H = forward_propagation(X_train, weights, biases, 'sigmoid')\n",
        "for i in range(len(A)):\n",
        "    print(A[i].shape)\n",
        "   \n",
        "for i in range(len(H)):\n",
        "    print(H[i].shape)\n"
      ],
      "metadata": {
        "id": "aFoyzmlgl4Nm",
        "colab": {
          "base_uri": "https://localhost:8080/"
        },
        "outputId": "407db4c8-8859-4c67-a088-47dd58825d93"
      },
      "execution_count": 14,
      "outputs": [
        {
          "output_type": "stream",
          "name": "stdout",
          "text": [
            "(64, 54000)\n",
            "(64, 54000)\n",
            "(10, 54000)\n",
            "(64, 54000)\n",
            "(64, 54000)\n",
            "(10, 54000)\n"
          ]
        }
      ]
    },
    {
      "cell_type": "code",
      "source": [
        "#Backward propogation\n",
        "def back_propagation(X_train,y_train,weights,biases,A ,H, activation ,loss_function):\n",
        "    #Initialzing gradients\n",
        "    g_weights = [0]*(len(weights))\n",
        "    g_biases  = [0]*(len(biases))\n",
        "    g_a       = [0]*(len(hidden_layer)+1)\n",
        "    g_h       = [0]*(len(hidden_layer)+1)\n",
        "    n_samples = X_train.shape[0]  # Change depending on the dimensions of data\n",
        "\n",
        "\n",
        "    for k in range(len(hidden_layer),-1,-1): #2,1,0\n",
        "        \n",
        "        if k == len(hidden_layer):\n",
        "            if loss_function == 'cross_entropy':\n",
        "                g_a[k] = H[k]  - y_train  # keep or remove T depending on the dimensions of data\n",
        "            elif loss_function == 'square_loss': \n",
        "                g_a[k] = (H[k] - y_train) * H[k] * (1 - H[k])\n",
        "            \n",
        "       \n",
        "        else:\n",
        "            g_h[k] = (1/n_samples)*np.dot(weights[k+1].T,g_a[k+1])\n",
        "            if activation == 'sigmoid':\n",
        "                g_a[k] = (1/n_samples)*np.multiply(g_h[k],sigmoid_derivative(A[k]))\n",
        "            elif self.activation == 'tanh':\n",
        "                g_a[k] = (1/n_samples)*np.multiply(g_h[k],tanh_derivative(A[k]))\n",
        "            elif  activation == 'relu':\n",
        "                g_a[k] = (1/n_samples)*np.multiply(g_h[k],relu_derivative(A[k]))\n",
        "\n",
        "\n",
        "        if k == 0:\n",
        "            g_weights[k] = (1/n_samples)*np.dot(g_a[k],X_train.T)\n",
        "        else:\n",
        "            g_weights[k] = (1/n_samples)*np.dot(g_a[k],H[k-1].T)\n",
        "\n",
        "        g_biases[k]  = (1/n_samples)*np.sum(g_a[k], axis=1, keepdims = True)\n",
        "    return g_weights,g_biases\n",
        "\n",
        "g_weights,g_biases = back_propagation(X_train,y_train_encode,weights,biases,A,H,'sigmoid', 'square_loss')\n",
        "for i in range(len(g_weights)):\n",
        "    print(g_weights[i].shape)\n",
        "    \n",
        "for i in range(len(g_biases)):\n",
        "    print(g_biases[i].shape)\n"
      ],
      "metadata": {
        "id": "_XAyDRZumtLX",
        "outputId": "b0e6b774-5fad-4d67-fbc1-2a9a1a455284",
        "colab": {
          "base_uri": "https://localhost:8080/"
        }
      },
      "execution_count": 15,
      "outputs": [
        {
          "output_type": "stream",
          "name": "stdout",
          "text": [
            "(64, 784)\n",
            "(64, 64)\n",
            "(10, 64)\n",
            "(64, 1)\n",
            "(64, 1)\n",
            "(10, 1)\n"
          ]
        }
      ]
    },
    {
      "cell_type": "code",
      "source": [
        ""
      ],
      "metadata": {
        "id": "Q890hw2QmtOt"
      },
      "execution_count": null,
      "outputs": []
    },
    {
      "cell_type": "code",
      "source": [
        ""
      ],
      "metadata": {
        "id": "N0KTHlZUmtT8"
      },
      "execution_count": null,
      "outputs": []
    }
  ]
}