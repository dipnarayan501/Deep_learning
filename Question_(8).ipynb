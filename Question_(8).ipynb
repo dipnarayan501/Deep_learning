{
  "cells": [
    {
      "cell_type": "markdown",
      "metadata": {
        "id": "view-in-github",
        "colab_type": "text"
      },
      "source": [
        "<a href=\"https://colab.research.google.com/github/dipnarayan501/Deep_learning/blob/main/Question_8.ipynb\" target=\"_parent\"><img src=\"https://colab.research.google.com/assets/colab-badge.svg\" alt=\"Open In Colab\"/></a>"
      ]
    },
    {
      "cell_type": "code",
      "execution_count": 1,
      "metadata": {
        "id": "ko4IB5IGiglb"
      },
      "outputs": [],
      "source": [
        "import numpy as np\n",
        "import pandas as pd\n",
        "from tensorflow.keras.datasets import mnist, fashion_mnist\n",
        "from sklearn.model_selection import train_test_split\n",
        "from sklearn.metrics import accuracy_score"
      ]
    },
    {
      "cell_type": "markdown",
      "metadata": {
        "id": "DT6lYU11FiFo"
      },
      "source": [
        ""
      ]
    },
    {
      "cell_type": "code",
      "execution_count": 2,
      "metadata": {
        "colab": {
          "base_uri": "https://localhost:8080/"
        },
        "id": "WoUZlhrgCfFB",
        "outputId": "d88bf9f3-0c80-4b64-c527-1db9e45e32b7"
      },
      "outputs": [
        {
          "output_type": "stream",
          "name": "stderr",
          "text": [
            "\u001b[34m\u001b[1mwandb\u001b[0m: Currently logged in as: \u001b[33mmoni6264\u001b[0m (use `wandb login --relogin` to force relogin)\n"
          ]
        },
        {
          "output_type": "execute_result",
          "data": {
            "text/plain": [
              "True"
            ]
          },
          "metadata": {},
          "execution_count": 2
        }
      ],
      "source": [
        "%pip install wandb -q\n",
        "import wandb\n",
        "wandb.login()"
      ]
    },
    {
      "cell_type": "code",
      "execution_count": 3,
      "metadata": {
        "colab": {
          "base_uri": "https://localhost:8080/"
        },
        "id": "Wwo-MSGkisv1",
        "outputId": "ae9d4b6a-27ae-4d54-aee5-a4b9a057cabf"
      },
      "outputs": [
        {
          "output_type": "stream",
          "name": "stdout",
          "text": [
            "Number of examples in training set\n",
            "(54000, 784)\n",
            "(10, 54000)\n",
            "(54000,)\n",
            "No of examples in validation set\n",
            "(6000, 784)\n",
            "(6000,)\n",
            "No of examples in test set\n",
            "(10000, 784)\n",
            "(10000,)\n"
          ]
        }
      ],
      "source": [
        "def prepare_dataset():\n",
        "    (X, y), (X_test, y_test) = fashion_mnist.load_data()\n",
        "\n",
        "    # Reshaping the data matrices\n",
        "    X = X.reshape(X.shape[0], -1)\n",
        "    X_test = X_test.reshape(X_test.shape[0], -1)\n",
        "\n",
        "    # Normalizing the pixel intensities\n",
        "    X = X/255.0\n",
        "    X_test = X_test/255.0\n",
        "    \n",
        "    \n",
        "    X_train, X_val, y_train, y_val = train_test_split(X, y, test_size=0.1, random_state=42)\n",
        "    \n",
        "    y_train_encode = np.zeros((10,y_train.shape[0]))\n",
        "    y_train_encode[y_train, np.array(list(range(y_train.shape[0])))] = 1\n",
        "\n",
        "    y_val_encode = np.zeros((10,y_val.shape[0]))\n",
        "    y_val_encode[y_val, np.array(list(range(y_val.shape[0])))] = 1\n",
        "\n",
        "    \n",
        "    \n",
        "    print(\"Number of examples in training set\")\n",
        "    print(X_train.shape)\n",
        "    print(y_train_encode.shape)\n",
        "    print(y_train.shape)\n",
        "    \n",
        "    print(\"No of examples in validation set\")\n",
        "    print(X_val.shape)\n",
        "    print(y_val.shape)\n",
        "    print(\"No of examples in test set\")\n",
        "    print(X_test.shape)\n",
        "    print(y_test.shape)\n",
        "    \n",
        "    return X_train.T, y_train_encode, y_train.T ,X_val.T, y_val.T, X_test.T, y_test.T, y_val_encode\n",
        "\n",
        "\n",
        "X_train, y_train_encode, y_train ,X_val, y_val, X_test, y_test,y_val_encode = prepare_dataset() "
      ]
    },
    {
      "cell_type": "code",
      "execution_count": 4,
      "metadata": {
        "id": "GwjRo0SlFanx",
        "colab": {
          "base_uri": "https://localhost:8080/",
          "height": 34
        },
        "outputId": "77709d63-b730-44d7-930e-6cac04cdff15"
      },
      "outputs": [
        {
          "output_type": "display_data",
          "data": {
            "text/html": [
              "\n",
              "                    Syncing run <strong><a href=\"https://wandb.ai/moni6264/test_100/runs/480vdosa\" target=\"_blank\">log_images</a></strong> to <a href=\"https://wandb.ai/moni6264/test_100\" target=\"_blank\">Weights & Biases</a> (<a href=\"https://docs.wandb.com/integrations/jupyter.html\" target=\"_blank\">docs</a>).<br/>\n",
              "\n",
              "                "
            ],
            "text/plain": [
              "<IPython.core.display.HTML object>"
            ]
          },
          "metadata": {}
        }
      ],
      "source": [
        "num_classes = 10\n",
        "class_names = ['T-shirt/top', 'Trouser', 'Pullover', 'Dress', 'Coat',\n",
        "               'Sandal', 'Shirt', 'Sneaker', 'Bag', 'Ankle boot']\n",
        "               \n",
        "wandb.init(project=\"test_100\", entity=\"moni6264\", name=\"log_images\")\n",
        "indices = [list(y_train.T).index(i) for i in range(num_classes)]\n",
        "images = []\n",
        "captions = []\n",
        "for index in indices:\n",
        "    images.append(X_train.T[index].reshape((28, 28)))\n",
        "    captions.append(class_names[y_train.T[index]])\n",
        "\n",
        "# Log one sample image of each class to wandb\n",
        "wandb.log({\"Image from each class\": [wandb.Image(image, caption=caption) for image, caption in zip(images, captions)]})"
      ]
    },
    {
      "cell_type": "code",
      "execution_count": 5,
      "metadata": {
        "id": "juGkHHcjiszG"
      },
      "outputs": [],
      "source": [
        "def sigmoid(x):\n",
        "    return 1. / (1.+np.exp(-x))\n",
        "def relu(x):\n",
        "    return np.maximum(0,x)\n",
        "def tanh(x):\n",
        "    return np.tanh(x)\n",
        "def softmax(x):\n",
        "    soft = np.zeros(x.shape)\n",
        "    for i in range(0, x.shape[1]):\n",
        "        numr = np.exp(x[:, i])\n",
        "        soft[:, i] = numr/np.sum(numr)\n",
        "    return soft\n",
        "\n",
        "#Derivatives\n",
        "def sigmoid_derivative(x):\n",
        "    return sigmoid(x) * (1-sigmoid(x))\n",
        "def relu_derivative(x):\n",
        "    return 1*(x>0) \n",
        "def tanh_derivative(x):\n",
        "    return (1 - (np.tanh(x)**2))\n",
        "\n",
        "def softmax(x):\n",
        "    soft = np.zeros(x.shape)\n",
        "    for i in range(0, x.shape[1]):\n",
        "        numr = np.exp(x[:, i])\n",
        "        soft[:, i] = numr/np.sum(numr)\n",
        "    return soft\n",
        "\n",
        "def initialize_parameters(input_layer, hidden_layer, output_layer,initilisation):\n",
        "    weights = []\n",
        "    biases  = []\n",
        "    layers = [input_layer] + hidden_layer + [output_layer]\n",
        "    for i in range(len(hidden_layer)+1):\n",
        "        if initilisation == 'random':\n",
        "            weights.append(np.random.rand(layers[i+1], layers[i])*0.01)\n",
        "        if initilisation == 'xavier':\n",
        "            weights.append(np.random.randn(layers[i+1],layers[i])*np.sqrt(2/layers[i+1]))\n",
        "        biases.append(np.random.randn(layers[i+1],1))\n",
        "    return weights, biases"
      ]
    },
    {
      "cell_type": "code",
      "execution_count": 7,
      "metadata": {
        "id": "D6K0GHxCis18"
      },
      "outputs": [],
      "source": [
        "import numpy as np\n",
        "from sklearn.metrics import mean_squared_error\n",
        "\n",
        "class ANN:\n",
        "\n",
        "    def __init__(self,input_layer,hidden_layer,output_layer ,initialisation, activation,loss_function):\n",
        "           \n",
        "        self.input_layer   = input_layer\n",
        "        self.output_layer  = output_layer\n",
        "        self.hidden_layer   = hidden_layer\n",
        "        self.activation = activation\n",
        "        self.loss_function = loss_function\n",
        "        self.weights    = []\n",
        "        self.biases     = []\n",
        "        self.initialisation = initialisation\n",
        "        self.weights,self.biases = initialize_parameters(self.input_layer,self.hidden_layer,self.output_layer,self.initialisation)\n",
        "\n",
        "    \n",
        "    \n",
        "    #Forward_propogation\n",
        "    def forward_propagation(self,input):\n",
        "\n",
        "        self.A = []\n",
        "        self.H  = []\n",
        "        k=0\n",
        "        \n",
        "        self.A.append(np.matmul(self.weights[k],input)+self.biases[k])\n",
        "        if self.activation == 'sigmoid':\n",
        "          self.H.append(sigmoid(self.A[k]))\n",
        "        elif self.activation == 'tanh':\n",
        "          self.H.append(tanh(self.A[k]))\n",
        "        elif self.activation == 'relu': \n",
        "          self.H.append(relu(self.A[k])) \n",
        "\n",
        "\n",
        "        for k in range(1,len(self.hidden_layer)):\n",
        "            self.A.append(np.matmul(self.weights[k],self.H[k-1])+self.biases[k])\n",
        "            if self.activation == 'sigmoid':\n",
        "              self.H.append(sigmoid(self.A[k]))\n",
        "            elif self.activation == 'tanh':\n",
        "              self.H.append(tanh(self.A[k]))\n",
        "            elif self.activation == 'relu': \n",
        "              self.H.append(relu(self.A[k])) \n",
        "  \n",
        "\n",
        "\n",
        "        k=len(self.hidden_layer)\n",
        "        self.A.append(np.matmul(self.weights[k],self.H[k-1])+self.biases[k])\n",
        "        self.H.append(softmax(self.A[k]))\n",
        "\n",
        "        return self.H[-1]\n",
        "  #Backward propogation\n",
        "    def back_propagation(self,X_train,y_train):\n",
        "        g_a  = [0]*(len(self.hidden_layer)+1)\n",
        "        g_h  = [0]*(len(self.hidden_layer)+1)\n",
        "        g_w  = [0]*(len(self.weights))\n",
        "        g_b  = [0]*(len(self.biases))\n",
        "\n",
        "        n_samples = X_train.shape[1]  # Change depending on the dimensions of data\n",
        "\n",
        "\n",
        "        for k in reversed(range(len(self.hidden_layer)+1)):\n",
        "            if k == len(self.hidden_layer):\n",
        "              if self.loss_function == 'cross_entropy':\n",
        "                  g_a[k] = self.H[k]  - y_train  # keep or remove T depending on the dimensions of data\n",
        "              elif self.loss_function == 'square_loss': \n",
        "                  g_a[k] = (self.H[k] - y_train) * self.H[k] * (1 - self.H[k]) \n",
        "                \n",
        "            else:\n",
        "                g_h[k] = (1/n_samples)*np.matmul(self.weights[k+1].T,g_a[k+1])\n",
        "                if self.activation == 'sigmoid':\n",
        "                  g_a[k] = (1/n_samples)*np.multiply(g_h[k],sigmoid_derivative(self.A[k]))\n",
        "                elif self.activation == 'tanh':\n",
        "                  g_a[k] = (1/n_samples)*np.multiply(g_h[k],tanh_derivative(self.A[k]))\n",
        "                elif self.activation == 'relu':\n",
        "                  g_a[k] = (1/n_samples)*np.multiply(g_h[k],relu_derivative(self.A[k]))\n",
        "                \n",
        "\n",
        "            if k == 0:\n",
        "                g_w[k] = (1/n_samples)*np.matmul(g_a[k],X_train.T) \n",
        "            else:\n",
        "                g_w[k] = (1/n_samples)*np.matmul(g_a[k],self.H[k-1].T)\n",
        "\n",
        "            g_b[k]  = (1/n_samples)*np.sum(g_a[k], axis=1, keepdims = True)\n",
        "        return g_w,g_b\n",
        "\n",
        "\n",
        "    def predict(self, X,y ):\n",
        "      output =  self.forward_propagation(X)\n",
        "      out_class=(np.argmax(output,axis=0))\n",
        "      accuracy = round(accuracy_score(y, out_class) * 100, 3)\n",
        "      return accuracy\n",
        "    def fit_predict(self,X_train,y_train,X_val ,y_val ,epochs,learning_rate,optimiser='gd',batch_size = 64,lambd=0.0005): \n",
        "      steps = 0\n",
        "      pre_update_w = np.multiply(self.weights,0)\n",
        "      pre_update_b = np.multiply(self.biases,0)\n",
        "      update_w = np.multiply(self.weights,0)\n",
        "      update_b = np.multiply(self.biases,0)\n",
        "      vw = 0.0\n",
        "      vb = 0.0\n",
        "      eps = 1e-8\n",
        "      a1 =0.0\n",
        "      gamma = 0.9\n",
        "      beta = 0.999\n",
        "      beta1 = 0.9\n",
        "      beta2 = 0.999\n",
        "      m_t, v_t, m_hat_w, v_hat_w, m_b,v_b,m_hat_b,v_hat_b = 0.0,0.0,0.0,0.0,0.0,0.0,0.0,0.0 \n",
        "\n",
        "      for i in range(epochs):\n",
        "        \n",
        "\n",
        "            for batch in range(0, X_train.shape[1], batch_size):\n",
        "\n",
        "              train_b_imag =  X_train[:,batch:batch+batch_size]\n",
        "              train_l_imag =  y_train_encode[:,batch:batch+batch_size]\n",
        "              output =  self.forward_propagation(train_b_imag)\n",
        "              g_weights,g_biases = self.back_propagation(train_b_imag,train_l_imag)\n",
        "              if optimiser == 'gd':\n",
        "                 self.weights = self.weights - np.multiply(learning_rate,g_weights) - np.multiply(learning_rate*lambd,self.weights)\n",
        "                 self.biases = self.biases - np.multiply(learning_rate,g_biases)\n",
        "             \n",
        "              if optimiser == 'mgd':\n",
        "                 \n",
        "                 update_w = np.multiply(gamma,pre_update_w) + np.multiply(learning_rate,g_weights)\n",
        "                 self.weights = self.weights - update_w - np.multiply(learning_rate*lambd,self.weights)\n",
        "                \n",
        "                 update_b = np.multiply(gamma,pre_update_b) + np.multiply(learning_rate,g_biases)\n",
        "                 self.biases = self.biases - update_b\n",
        "                 pre_update_w = update_w\n",
        "                 pre_update_b = update_b\n",
        "\n",
        "              if optimiser == 'ngd':\n",
        "                 \n",
        "                 cache_w = self.weights\n",
        "                 cache_b = self.biases\n",
        "                 self.weights = self.weights - np.multiply(gamma,pre_update_w)\n",
        "                 self.biases = self.biases - np.multiply(gamma,pre_update_b)\n",
        "                 output =  self.forward_propagation(train_b_imag)\n",
        "                 g_weights,g_biases = self.back_propagation(train_b_imag,train_l_imag)\n",
        "\n",
        "                 update_w = np.multiply(gamma,pre_update_w) + np.multiply(learning_rate,g_weights)\n",
        "                 cache_w = cache_w - update_w - np.multiply(learning_rate*lambd,cache_w)\n",
        "                    \n",
        "                 update_b = np.multiply(gamma,pre_update_b) + np.multiply(learning_rate,g_biases)\n",
        "                 cache_b = cache_b - update_b\n",
        "                 \n",
        "                 self.weights = cache_w\n",
        "                 self.biases = cache_b\n",
        "                 pre_update_w = update_w\n",
        "                 pre_update_b = update_b\n",
        "                \n",
        "              if optimiser == 'rmsprop': \n",
        "\n",
        "                 vw = np.multiply(vw,beta) + np.multiply(1-beta,np.power(g_weights,2))\n",
        "                 vb = np.multiply(vb,beta) + np.multiply(1-beta,np.power(g_biases,2))\n",
        "\n",
        "          \n",
        "                 update_w = np.multiply(g_weights,learning_rate/np.power(vw+eps,1/2))\n",
        "                 update_b = np.multiply(g_biases,learning_rate/np.power(vb+eps,1/2))\n",
        "                 \n",
        "                 self.weights = self.weights - update_w - np.multiply(learning_rate*lambd,self.weights)\n",
        "                 self.biases = self.biases - update_b\n",
        "                    \n",
        "              if optimiser == 'adam':\n",
        "                 m_t = np.multiply(beta1,m_t) + np.multiply(1-beta1,g_weights)\n",
        "                 v_t = np.multiply(beta2,v_t) + np.multiply(1-beta2,np.power(g_weights,2))\n",
        "                 m_b = np.multiply(beta1,m_b) + np.multiply(1-beta1,g_biases)\n",
        "                 v_b = np.multiply(beta2,v_b) + np.multiply(1-beta2,np.power(g_biases,2))\n",
        "                \n",
        "                 m_hat_w = m_t/(1 - np.power(beta1,i+1))\n",
        "                 m_hat_b = m_b/(1 - np.power(beta1,i+1))\n",
        "                \n",
        "                 v_hat_w = v_t/(1 - np.power(beta2,i+1))\n",
        "                 v_hat_b = v_b/(1 - np.power(beta2,i+1))\n",
        "                 update_w = (learning_rate / np.power(v_hat_w + eps, 1/2)) * m_hat_w\n",
        "                 update_b = (learning_rate / np.power(v_hat_b + eps, 1/2)) * m_hat_b\n",
        "                 self.weights = self.weights - update_w - np.multiply(learning_rate*lambd,self.weights)\n",
        "                 self.biases = self.biases - update_b\n",
        "\n",
        "              if optimiser == 'nadam':\n",
        "                 \n",
        "                 self.weights = self.weights - np.multiply(gamma,update_w)\n",
        "                 self.biases  = self.biases  - np.multiply(gamma,update_b)\n",
        "\n",
        "                 g_weights,g_biases = self.back_propagation(train_b_imag,train_l_imag)\n",
        "\n",
        "                 m_t =  np.multiply(beta1,m_t) + np.multiply(1 - beta1,g_weights)\n",
        "                 v_t =  np.multiply(beta2,v_t) + np.multiply(1 - beta2,np.power(g_weights, 2))\n",
        "\n",
        "                 m_b =  np.multiply(beta1,m_b) + np.multiply(1 - beta1,g_biases)\n",
        "                 v_b =  np.multiply(beta2,v_b) + np.multiply(1 - beta2,np.power(g_biases, 2))\n",
        "                \n",
        "                 m_hat_w = m_t / (1 - np.power(beta1, i+1)) \n",
        "                 v_hat_t = v_t / (1 - np.power(beta2, i+1))\n",
        "\n",
        "                 m_hat_b = m_b / (1 - np.power(beta1, i+1)) \n",
        "                 v_hat_b = v_b / (1 - np.power(beta2, i+1))\n",
        "  \n",
        "                 a1 = (1-beta1)/(1-np.power(beta,i+1))\n",
        "                 update_w = np.multiply(learning_rate/(np.power(v_hat_t + eps,1/2)),(np.multiply(a1,g_weights) + np.multiply(beta1,m_hat_w)))#(a4 + a2))\n",
        "                 update_b = np.multiply(learning_rate/(np.power(v_hat_b + eps,1/2)),(np.multiply(a1,g_biases)+np.multiply(beta1,m_hat_b) ))#(a5 + a3))\n",
        "                 self.weights = self.weights - update_w - np.multiply(learning_rate*lambd,self.weights)\n",
        "                 self.biases = self.biases - update_b\n",
        "                \n",
        "            \n",
        "            #Training loss for full dataset\n",
        "            predicted_train = self.forward_propagation(X_train)\n",
        "            predicted_train_label=(np.argmax(predicted_train,axis=0)) \n",
        "             \n",
        "            acc1 = round(accuracy_score(y_train, predicted_train_label) * 100, 3)\n",
        "\n",
        "            predicted_val = self.forward_propagation(X_val)\n",
        "            predicted_val_label=(np.argmax(predicted_val,axis=0))\n",
        "              \n",
        "            acc2 = round(accuracy_score(y_val, predicted_val_label) * 100, 3)\n",
        "\n",
        "            a =self.weights[1:len(self.hidden_layer)]\n",
        "            b = np.sum([(np.sum((a[i]**2).reshape(1,-1))) for i in range(len(a))]) \n",
        "            if self.loss_function == 'cross_entropy':\n",
        "              train_loss = (-np.sum(np.multiply(y_train_encode,np.log(predicted_train)))+((lambd/2.)*b))/y_train.shape[0]\n",
        "              val_loss = (-np.sum(np.multiply(y_val_encode,np.log(predicted_val)))+((lambd/2.)*b))/y_val.shape[0]\n",
        "            elif self.loss_function == 'square_loss':\n",
        "              val_loss =((1/2) * np.sum((y_val_encode- predicted_val)**2))/y_val.shape[0]\n",
        "              train_loss = (1/2) * np.sum((y_train_encode - predicted_train)**2)/y_train.shape[0]\n",
        "\n",
        "\n",
        "\n",
        "            print('Epoch {}: training_accuracy = {:.2f} %, training_loss= {:.5f}  ,Validation accuracy = {:.2f} ,Validation loss = {:.5f}'.format(i,acc1,train_loss,acc2,val_loss))\n",
        "            \n",
        "            wandb.log({\"val_accuracy\": acc2,\"train_accuracy\": acc1,\"steps\":epochs,\"train_loss\":train_loss,\"val_loss\":val_loss},)\n",
        "\n",
        "\n",
        "         \n",
        "      return acc1,acc2,train_loss,val_loss"
      ]
    },
    {
      "cell_type": "code",
      "execution_count": 8,
      "metadata": {
        "colab": {
          "base_uri": "https://localhost:8080/"
        },
        "id": "Tv8393RPis4Y",
        "outputId": "1eebffb2-1b21-44b8-ab0b-f829bf55c040"
      },
      "outputs": [
        {
          "output_type": "stream",
          "name": "stderr",
          "text": [
            "\u001b[34m\u001b[1mwandb\u001b[0m: \u001b[33mWARNING\u001b[0m Calling wandb.login() after wandb.init() has no effect.\n"
          ]
        },
        {
          "output_type": "execute_result",
          "data": {
            "text/plain": [
              "True"
            ]
          },
          "metadata": {},
          "execution_count": 8
        }
      ],
      "source": [
        "%pip install wandb -q\n",
        "import wandb\n",
        "wandb.login()"
      ]
    },
    {
      "cell_type": "code",
      "execution_count": 9,
      "metadata": {
        "id": "1UApiZ6CmGD_"
      },
      "outputs": [],
      "source": [
        "sweep_config = {\n",
        "    'method': 'random', #grid, random\n",
        "    'metric': {\n",
        "      'name': 'val_accuracy',\n",
        "      'goal': 'maximize' \n",
        "    },\n",
        "    'parameters': {\n",
        "        'epochs': {\n",
        "            'values': [10,15,20]\n",
        "        },\n",
        "        'learning_rate': {\n",
        "            'values': [1e-2,1e-3]\n",
        "        },\n",
        "        'optimiser': {\n",
        "            'values': ['gd','mgd','ngd', 'rmsprop','adam','nadam']\n",
        "        },\n",
        "        'activation': {\n",
        "            'values': ['relu','tanh','sigmoid']\n",
        "        },\n",
        "        'hidden_layer': {\n",
        "            'values': [[32,64],[64,64,64],[32,64,128],[128,128,128],[32,64,128,256]]\n",
        "        },\n",
        "        'batch_size':{\n",
        "            'values':[64,128,256]\n",
        "        },\n",
        "        'weight_decay':{\n",
        "            'values':[0.0,0.5,0.0005]\n",
        "        },\n",
        "        'loss_function':{\n",
        "            'values':['square_loss']\n",
        "        },\n",
        "        'initilisation':{\n",
        "            'values':['xavier']\n",
        "        }\n",
        "    }\n",
        "}"
      ]
    },
    {
      "cell_type": "code",
      "execution_count": 10,
      "metadata": {
        "colab": {
          "base_uri": "https://localhost:8080/"
        },
        "id": "aXvZnFe8mGG7",
        "outputId": "10f5c947-692d-45c3-ff4c-6afc89574d7a"
      },
      "outputs": [
        {
          "output_type": "stream",
          "name": "stdout",
          "text": [
            "Create sweep with ID: 4hhn4fkp\n",
            "Sweep URL: https://wandb.ai/moni6264/test_mse_50/sweeps/4hhn4fkp\n"
          ]
        }
      ],
      "source": [
        "sweep_id = wandb.sweep(sweep_config, entity=\"moni6264\", project=\"test_mse_50\")"
      ]
    },
    {
      "cell_type": "code",
      "execution_count": 11,
      "metadata": {
        "id": "szx0S2KUmGKD"
      },
      "outputs": [],
      "source": [
        "def train():\n",
        "    #steps = 10\n",
        "    # Default values for hyper-parameters we're going to sweep over\n",
        "    config_defaults = {\n",
        "        'epochs': 5,\n",
        "        'input_layer': 28*28,\n",
        "        'output_layer': 10,\n",
        "        'batch_size':64,\n",
        "        'weight_decay':0.005,\n",
        "        'learning_rate': 1e-3,\n",
        "        'hidden_layer':[16,16,16],\n",
        "        'learning_rate':1e-2,\n",
        "        'optimiser':'mgd',\n",
        "        'activation':'sigmoid',\n",
        "        'initialisation':'xavier',\n",
        "        'loss_function':'square_loss'\n",
        "        \n",
        "    }\n",
        "\n",
        "    # Initialize a new wandb run\n",
        "    wandb.init(project='test_mse_50', entity='moni6264',config=config_defaults)\n",
        "    \n",
        "    \n",
        "    # Config is a variable that holds and saves hyperparameters and inputs\n",
        "    config = wandb.config\n",
        "    learning_rate = config.learning_rate\n",
        "    epochs = config.epochs\n",
        "    hidden_layer = config.hidden_layer\n",
        "    activation = config.activation\n",
        "    optimiser = config.optimiser\n",
        "    input_layer = config.input_layer\n",
        "    output_layer = config.output_layer\n",
        "    batch_size = config.batch_size\n",
        "    weight_decay = config.weight_decay\n",
        "    loss_function = config.loss_function\n",
        "    initialisation = config.initilisation\n",
        "\n",
        "    # Model training here\n",
        "    sweep_network    = ANN(input_layer, hidden_layer, output_layer,initialisation,activation,loss_function)\n",
        "    acc1,acc2,train_loss,val_loss  = sweep_network.fit_predict(X_train,y_train,X_val,y_val,epochs,learning_rate,optimiser,batch_size,weight_decay)\n"
      ]
    },
    {
      "cell_type": "code",
      "execution_count": 12,
      "metadata": {
        "colab": {
          "base_uri": "https://localhost:8080/",
          "height": 1000,
          "referenced_widgets": [
            "2925170c10134679a51ab5ec4ec7608f",
            "ccc0137981de4904ab2f8d297194dffb",
            "620e2a1c0dd54a56b7a3dfbee7bde3c5",
            "aee7857a2027433ebad0c09bbe9a2470",
            "9c76329160254156b1f91a44bfc15626",
            "c504304d5c784d50a676db149cfcad62",
            "a799e8d79047480bbb3e05969f206fb9",
            "1186ead5db3b4f5494f918c8d58de816",
            "6b823928fa214762bd01e4352489852d",
            "4074a383c238401e98b5caf290ca0079",
            "39802fd2015f4d7197ddc95cb9a1637d",
            "330ecd2afbcc4ed8bddaf187c6859deb",
            "7ed1262ae7b749728058fac6489de74b",
            "5c13b725143141d0b82e8feef0d7a319",
            "917f64f35d1b4b20a6b837c7f08531dc",
            "e5d8c1967b1740b8b23d104e4925b1a1",
            "509c7c00dad54c11a49507268509164b",
            "da87254b8cbe4c0aa7e00d81f5da6a4e",
            "57096d2d59224e8d9506d98bc09e9913",
            "87580b8b5d064f42877bd187aea9d9fc",
            "db396d7ee91c47638f43ee1544aa4dfa",
            "cf625086143f401ea45c3a3c870de4b6",
            "c441ccfb09e1461e8cb5cfa4cc4aa5c4",
            "cf09a4b7e2ed404c81c9a8c78ee32811",
            "de09e285eab5439e98d6535070131c6a",
            "8054bd7b1f7a43ada9f93a3d7a4381ce",
            "4467f78be0ca4f28902dbd02c6a07922",
            "067cf74ea10745cc98893f1481ce4f90",
            "c9db936601574da98a8e5279fc634b06",
            "4bee8cb1fa7043318b0979506f43ce15",
            "db94cba348d94f648ec73fa1d4c47551",
            "e8d97d4262314b6186137b0615116bb1",
            "c9deace7704e4afa96689f0ab020660b",
            "bff41aebd87b4122b54e0f498fde2f27",
            "cdd3a8be33024b298c2b19384d985d31",
            "2969e1ba047f474ab5761b38a171df53",
            "7e9a8faa40b742a8b2eb788f369aba31",
            "dff5b670e5294bdab6232a6325ec4ae8",
            "d7b97a8005384abeae9318c908f6fa9c",
            "a91185256b56405bb8bb2652b2792cd0",
            "831d752314db41cba1637fac28d0553a",
            "6550d8dc1722403091676253e9301e3b",
            "0fb4549f9e1c4e57a882c9625c07e6ad",
            "05dc44381d224511a8b3f3c1fea4d713",
            "ee1792ca151d4c93b44351832c9ad5f9",
            "c8abf88b03de4a40bdecf84309dfb520",
            "a063c7bba933403c8161e938bf28195a",
            "52ff14b9b7c5473ca062672746705c7b",
            "7427b3d5b3434a0ba5b83933530b6dc0",
            "5753bc80daa2459eaf16e322ecdebb6a",
            "503b4dddbdfb4416813d73d92ccf18b1",
            "4e8f7d5b48734cc39f766193e0dbb1c9",
            "64faabffa2774f72a82a75ab5b8df220",
            "a11048e359eb43b5a57e3b09022ed248",
            "5419d0a1cb654c3ea0d5c2bf576fb470",
            "f862d3d4612f4beca3487ae823320c36",
            "544fb2cdb5c14b3c81debb2d32023304",
            "6f628e596c194b3c964aee2ee5ddda2a",
            "cef80f94730f4996891e41e86a5c068c",
            "35e54e8951534e0c8cb9853db380086e",
            "4a3dc53fb7ba4e62a5b408aa7de68377",
            "7fdf9ac80e4146cfba4cc3805a53cd4d",
            "0cd8b6e18f0d4977bc5cb260f2aed828",
            "5305289cbaca40c1b10005e5a0a9e676",
            "467105aef24c413a83d1a0bf20acdac2",
            "8179d5893b834a54913fcc76bad8dcf1",
            "f4894576463a4560af05e0829fa54f59",
            "c7222aa95b4d4f09aca8226e525f0352",
            "68a5a723fdee4824a743b830b3bbc240",
            "ed3c1b0ee0644ca083224b2d323dc78f",
            "bfdb18b8bdc44adb9a70904189665aea",
            "d7b31cfe126741babd3cf39056ae3822",
            "1b2c1afbece04dc69210a0e9861cb2a2",
            "f829c2ce3bb0414b80f81021318dc7b3",
            "fa1d48ac8e4343ad9bce8e1a3e116c71",
            "16be7734b27b4253b83d8ece77375b2f",
            "f5e319cc0a49420d80c0f305f78e0e45",
            "0bbaeb8780d6411d824215aa188da433",
            "3fcdf2dfbc7844c585f984e6b9dc1dca",
            "45eb3d6e08c44ed0a3dcb009118c572d",
            "4a8c3013fafb4bf686e2dd80dd73ca5b",
            "4e79829771b64fb58f8dc8ca4ba01701",
            "2558e188b1cd4ba895ddaf7c211a68ac",
            "3e790389527c4abca4fb246e52ad4f64",
            "26068e6e2ab14ea39b8bc9254617882c",
            "9129037c5f414343bf696494e3082c2e",
            "2ab82fb816fb465b87cac593b309e4b5",
            "19ee71fd73784fbfb75904c02e0ec437",
            "a67994d94969471e8108dd56f156bca3",
            "18589921fb7843a2bc63a5d6da943def",
            "88613174c685476d96aa16ef60945db9",
            "51bbd38bf6e543a1ba84e2c8d13d372c",
            "a5bca07b177942a08b0badd3243ba4ad",
            "3cfb81031bf240df9814eb54741b9b7a",
            "62d712ecbdb845edbb122ffe41dcad11",
            "36d6449008da47219def719353fc916d",
            "b23a097efb064063811d55dfc0f56a52",
            "31a5cc4551954d439cdff2dd361580f4",
            "811bebdd1c0a4ffaa6f6853751497882",
            "863f70dbb6114d06a6a4b784440045a8",
            "0ef006e1ee6141a6bd8fd9739cd35baf",
            "9b56cfd783bb450399fc0f4cd5b5ab32",
            "51c98b35659b4138b29c5b1bc01cd00a",
            "8dbaf925eef14bab83e86cfd012ce547",
            "a6849b3d76bf438a9ba63111cbebfa1d",
            "fdaddc93c0a046d9b83ac85851affe82",
            "11796c1d56a146079788ac607aaa64a3",
            "1a81852827f347ab96c2aa1999ef3607",
            "2d5f415b203b422e92764c2d199ac604",
            "cae183ba5d074b6ba543ff36b4e4ebe2",
            "bc1f3483487445d1bdf4ea429c0f4360",
            "1bcb34f05e04429ab288547daa34e139",
            "43bc6461d25c43adaa3513b89c97749b",
            "f8aa8bf3460f4d6d96780b7cf4982892",
            "2305df873c824472a847caf2b2d285db",
            "86ccde384b684e3391a97950e0a3ea90",
            "493932adb175463ba65a4a66c06192e8",
            "93eedbb8a5db4231aac413ed5477827b",
            "b5afe59ae44e4c2b8235f72c3b749e7c",
            "eb8eb55d060c458da8ad75dad34f37cf",
            "4eabd7b8697a42f284501a4b787f7aa5",
            "20d7279109d24eb0abb727c1cd8c7026",
            "43a5b48004ba4bc88d21996190fce19c",
            "d24d4c19154a4ec89464162e0303e0a4",
            "075d43d7cccc4eef8437b6b795c6e07c",
            "79a566e84da2424e8a92b9f4e2a80f10",
            "5e021e6c4bf24c7cb0e1325c940dbb6f",
            "37e10af000474c79b24f1d57581ad960",
            "25e78492cc2a45c0a1870cdc425df440",
            "74fc37ce14fe4ee3b63dd49bbdc1fa71",
            "1ae89406a2654661a22a332969300674",
            "31138a69e721486db544beddead0434f",
            "bafc1869958f44b58748ac7718b681b4",
            "0fc40bcbe1234f458217be1abecf2cb6",
            "d5d9a74befc248d2b7b19975958ca2fb",
            "85b8de37473843f183155f6255447c49",
            "5884aa35adf540cd87caafdd4d885bfe",
            "d7760b6b8d824163bef58f3a902a017e",
            "f1e0936f96954ad0ba8e8b4824a01328",
            "296aa56026b4493ebce97ca3f96c060d",
            "58d730e0041e46d18ee73a69fb03708a",
            "d372dffd984a480d94b053bc597a5a89",
            "c6da7ad5dec0466ca022cbaea79185d0",
            "5becacf709544a73889b4bd15cf1d28a",
            "c31042e507744a349ac8eb02ce66715d",
            "da08bfa1c1e045f5847a7514dc9d9f28",
            "db6aeb8a15494ffa93515208dcda3e9c",
            "1b4aa97a853c48f6afa617950c7ca953",
            "c485dfbc0eff4579a945fa0e3f6ed863",
            "7c30a1806f164c729839d7c235fa6cfe",
            "87f0cd868c614399adf5fac8bdf73eea",
            "994d2459b83d44e7a3ef1605132c7e93",
            "e915e617ed1644fcaeb0105c0584815a",
            "30ce59809c3b48b894d418437d8b9b01",
            "ec35d7f5be754200a77c5087b5a70b11",
            "9a03e220f9934faf8b3ff00d7f08ad4a",
            "7e11a96f2b5947939fc5ffcc70d33c24",
            "cbb4c90c7cf14ffcb878914a7fadc2af",
            "707062b15bda4a02a6698f2bbc24c584",
            "6f2a27507f9f443cb956630dcab17be2",
            "35e3124883674a6e912c248f811557a9",
            "593fc05b8b1548fbb2dc70bfc71e8630",
            "8b2158ee834646148fa61aeb0756b875",
            "5f2f52c80d714b8a8b9d6c23362e624d",
            "c66d6eb938f94300b081a215a358bc12",
            "2b2bc74185414c3da01f5345b5dfddb7",
            "4f2cd98fd7144dcaa3b74946b32bc443",
            "87eaf2e0b127480e8f28bbb968c6723e",
            "ced8746940d94a50977237c83993b0f6",
            "37937ebe14544fb29b9835b92e3088a5",
            "7b24cebeb9dc4cb2987f05d2904e102d",
            "9b9b6f1bfcd14af1af0b33a53e9917b4",
            "f2212444fb2a46ca88f282d78a3b93e1",
            "8e79fdcf8b37427589ffb64149832177",
            "804482c2589f485dbca683615bed582d",
            "17823460f4154439a1c8e122187238fd",
            "477f228acdb848028c0f3f26674986a8",
            "00990609006341c08f9fd6ae99a491d7",
            "7738b1761fd846efab3b45a0393c76bf",
            "d1b5fb0b9649459398b68c7b6869b9fc",
            "7ee841a177594f7589c3fb2a4fbf774a",
            "49a9caf94876456a9913e448dd577cde",
            "efb16e937afb4cdbbcc4303b376177c5",
            "305f9967ea2648dbbf6f39d004a61c1e",
            "dcf337cd39774799987005fc77de2676",
            "6a76092c103b49cb93ba45d36b9a89c3",
            "32e79a95ea7345a29260f42bcc0ff9dc",
            "ec7e3c35533e4c058d8651215840d852",
            "8baef3c8430d4e2e8492673eaddd9384",
            "1d9719e3bc104b89b0cc1b39e4ee240b",
            "b6b9dce0f82245b1a95b5b8e59b5bdd9",
            "3150395c9b6c44bdb4ef80399ea57a28",
            "d4e2bc29bbb948fcba65e82673d2f59a",
            "3ae95cc53b5b4a598adf875d8e1bd6c4",
            "100fa5ea6ad8427d9f2e1bf4d4a3a42f",
            "7750dbb740124746b6ec0c61e87967d4",
            "5ecd4d2c86d34f95b5756de7e9dd6e96",
            "c471ac4664a9451fb0b580849a4ff81f",
            "8d89c25e3f214fe19dcbc19f0ba672e6",
            "1165e3b14585448bb42d9f1efe4200f9",
            "794dcf13df0e4618b8abf27559598b90",
            "8bafc5336bde4b359beba24c1582ee9e",
            "25975c2d613446e48bf32aad487ed991",
            "b29622201f0c487eafb964cc58a29bb6",
            "525583bd32974a4fb2e4235ce74616c6",
            "bd499339ec464ee58155047f1e17d5f2",
            "dd58132a220242c0b779e10d9964fabb",
            "e597c6986b43462cbacfa9179794f164",
            "0a3592aa593440779bd44dee7dc87b91",
            "326879fc74ab445d9a161ff2965857fa",
            "43e02806ad7445dfb5b382a6e867b668",
            "de79855947f94087b96c336d8aeac93d",
            "0f85c62250a046a3a4d0281011036d1c",
            "59ef0af623f14b719c20b92e137d4235",
            "48c4b1106d664ecd8123fe6de88195d3",
            "c88bd7f608ad40ab9d6e7a27892c23cb",
            "2b5a7c9de4554aab97b7adcb35cbc165",
            "6b0914242edd4034a99e271c3195c9a7",
            "610105609ce9411fab496f8e6490327d",
            "21fe6157929e47bfb60edc31cc40a788",
            "7955ee0933dc455aacb9cd98fd7c41e7",
            "b090b0c53c334dc8ae206c506c8e8cb7",
            "229ff7d6f7c340efb647f0c4b1ecae7a",
            "d38ba9d3296f4e4b8b6cb424001c3e0f",
            "e6fc1db7d1ef439495695bb0642a9f0a",
            "e53d2e13e0cf4b0491bc537fe1478cf4",
            "4b4440af43574c41a4b854efc44f5f47",
            "f9d51794e4094e63971b1c9dbcdaf0a9",
            "334cbc60d80d46d5b2594f7854c75a54",
            "b47e868950ed4c05b2ac7d43a9575015",
            "97ff26e8379d46799087e406cfe594e0",
            "1253556f54a94a57a50f30777a384e2e",
            "89f566ad2c9f483caf644dcbb1b7ae85",
            "5adc5f2de65647fb87125127bd2c052c",
            "4c7b8427a22c4dcb96b2aa1f080d9c08",
            "ee4e6f985ce44d599109c2f83ac4a75b",
            "3dd6ee45cca342e1913ec8111a4ebd56",
            "59e7825da7f64b8ca5352f284731068b",
            "dd38d8bac34a4aadb8647f9cd65b3024",
            "8bb5b909744c4ee9bfcac49dd22b95dd",
            "7d8fd0e2ef884b17b46312a952517047",
            "8371c044486e46cc8fe35cc8772931de",
            "73acaea89a1b46ea91a1050759daeb70",
            "108bbc9f8c4042baacc6ca9239b1158b",
            "a9198aeba9c44b1ab69b652ea6823d9b",
            "5ed4000609fe45fabb14ac9e0e1c2a6b",
            "d3eb3e83c5874c0fa1e97a25c654971f",
            "e02d7c3da6a9421eaca53d8bd67930e9",
            "ad523b000c544c28842a1808bf98bb90",
            "68c5d9b157a34bb9901b4b7ef45ce5e6",
            "a111b5ec0e0a4526973fac2a10d5e766",
            "f45b5148ee774f2b85043f2dc48e3d40",
            "d7b13a45f7f648b6b71a1aef5276ecc3",
            "d7e69c93d6624a8e8c3d7c276340b9c4",
            "f54af2f9355e460986b64d0fc05d4d80",
            "ec601abdddd740af8e247d552420d195",
            "f080a00d0dec4888af8c1908101deae6",
            "4daa5537a50e49f8be0692ec259551d9",
            "55a9c6c802db4a2bac7c2eaadf7649be",
            "fd8908482af84e60940faf2c45d02f90",
            "8c11a945c10141fa8b07ffb087a61c5d",
            "685e1680ffa14b25b90f78e647f36be4",
            "c7e08219100f40879a9ad622413fb819",
            "25b4c8b1af2e4f2eb787501cc563784c",
            "ed9bcbe8158847efa5a6d157653ccddd",
            "07e473d7fc0847e6a8438da00a1dd7d4",
            "adb8905897694b6893cda94f692f4ae6",
            "4c5ff8f6c3f2417fae67f377e6179e9d",
            "ec37b0ae3309405e89bc3241f7aea184",
            "f4644d2ea2974c07a9f35a33b27e6e90",
            "1d2ec5fe55164ee78dd9ea387fc01aec",
            "89daf9f2f65943408098f3de93ef0454",
            "240df98fc3cf47f6bfcf97151e823d37",
            "986b1aa60f5a478d8ff9f8c0e3713ebe",
            "97d527ecf628428687b038f4336ffd03",
            "e96a7467be974da0956008b70ee6b800",
            "4d141b14c1b94eb4be4741fcaadd95eb",
            "3bfdd68efa84461d9ea9103f23cb02a8",
            "8352715f36194a3ab08230bef2cd7a2a",
            "aed5f44c8ee0455383703ceee418200f",
            "194750b4a6bc4cc08107d67a800cbcca",
            "023379f651b547f6b1ccc5d45b3390fc",
            "cf75ea10f11146789904ad1872df5089",
            "7f384228c82742bea7b97eea56f65d31",
            "1192c8742656498f810e07513a423c7d",
            "a7598801bb8d4d74be9f1cfbe6c91557",
            "1d4cd2b838a94aa8b32d0b7086b56e8a",
            "cc7d2d35b863459ba18499419c264d99",
            "e193e7b926ac458bacbec078aad57096",
            "2edb034a02a142cca6fd8cac5661ddb7",
            "5a473eed93044b6fa7a3aa304c915c7c",
            "9b1971bf0ed94d59b5b18d9556185a75",
            "c0eed216ef8d4c1aa09503529c0d3124",
            "ebd2f7d82d9a4af98a83d0ad008865cb",
            "ffb5c3cbd8ee4dbbaa157d42d8654179",
            "01f496a260814e989306fe88f2be6e42",
            "fa101fb4eae7465a9c676c5ef5b10e71",
            "c52e57cd5e484c4fa8008f70ea472f98",
            "b11caf868c72421883eb779e7cd5aee5",
            "49c8d7b4702c40399046c389479d9aeb",
            "43e59d2dc36d475bbef723537ce8d50d",
            "283d2008711144ad930dfa80b030bc9d",
            "6310220dd73b4684af0cb77bdd8a8337",
            "aca78d286f9d4aa3884327258a0b7e02",
            "1d0b6a369bce4661a4e485d701eda799",
            "546b5574e7fb4353aef490bf58050a91",
            "c15af0ea8cf04866be944a55c01ea8ab",
            "07bbfe3dc5e743d18c2da0c7d69eafd1",
            "dea370dd4f344cbd9d7179f8754a7942",
            "fdd278c19d4d4c9489f3d35b985b1c8c",
            "14e054837edd4373aac5f040dda35ef8",
            "4f9e64925ce74261a25ae3fe836e3333",
            "eae8c28b75184ec292bb128cc2b7a7a8",
            "b30a4925c7524fdc84354a45699b081a",
            "604c70d81ac64ab3a444544e19281e03",
            "4636c5591bff4375a3be17084b91bdb7",
            "bee5fe8d4500410bb6075dba303991f3",
            "9d5d39943c8c49a7bc53d3197bbbfff9",
            "51685ff497604b97806b7dac704c4f1f",
            "7d5cf934922842b68c3e4983fd664fbe",
            "9f5db92724ce4d048b9d21368812ee44",
            "e35a256401484bebb4fc4143dbde1a57",
            "723014a0e0d7487b82e828084ed914e2",
            "faf9d46cb0ce4e1cbd06c8d3c6033271",
            "2206c32ef7044542a8884b698be806b6",
            "41269efe4b7d45569d78c1f299f2dc34",
            "cb9af72693b9481ba5494b60570585b0",
            "be8cf20ce5bb4105969bce6f6dbcd2e9",
            "04af3481ccce48bf96f9b1f41127ae91",
            "15e3041085384bf1ac0e0c189d7731aa",
            "8489649ad8b74a1caff08e3a9de6dc2a",
            "aa12036204de4842952cde1571484516",
            "cf54b1dd2b9d4017ae5d461543129dc2",
            "d1c437433ce641dc962a4dfbe8bedca3",
            "124ce66eea094b4a9d887803d7a34e90",
            "31afe8b8a8894ba0bffe2b8c8a634911",
            "60119958536849f7a270dc946d91c916",
            "3debec8a26a040dca142788c972eb729",
            "404ac5f5febe416aaeaf264e682215a5",
            "c41d5497e06847e28dbba3b40e6ee9bb",
            "086db0eda95a4549b67f9d0dbb220b1b",
            "a59e2c585ea34fe88dff4f6469e7a8b5",
            "53faf3be6449462888b524f948561241",
            "1941925846ff47f78ac40225394d3358",
            "43275a0dd4de431f8aeeffb4dbdb3d3d",
            "fc540515cbe24585a9358aa5e4a3ebe6",
            "d36671a344964660a6ddba263e69ce47",
            "19e0113beaeb4afab053a2b3e5053531",
            "afee7f6294be4b5b8bae7f094530270c",
            "f132e279a009401fa8bedee1db1d37f9",
            "d097d2bb3fc74a168e25b32adf0bee1d",
            "19a84e15782d4261b4643ce1f9c7b6c7",
            "f2720a7161284bc4a20a1721d925ca32",
            "84e4012e30814f7ab65e4310a6ab1823",
            "381265c0d88b4ef596197cdfca41c1da",
            "5749f84840094aaeadad50303a237f55",
            "e7fa8c4c12f5485b958dcc811721e92d",
            "3409389b3621495d8e995fb3d9216acc",
            "e0027f65492449c8af562ab7142c4ef8",
            "8b655912b7304de2be52d476021084ae",
            "f7a8f8e12ae244569f8b5ae0ccae8288",
            "576480ed248142afa9b82d5d92360ee1",
            "f1266995bbe94b63983e248a45d26101",
            "7e856d3a855f45c89bdb71bb13efc70e",
            "8755f22ea83b41dba3c402cf7ffeb3c2",
            "3ba4f870e1164f37af967d622e217185",
            "ba8efe4a6fde416987b346e6f8e9cdb3",
            "93ed2f3ff7f6496b90d7bf28f34bc413",
            "083561ec11004e958e725fd84d627183",
            "dba1df2c9bc6443bb0f867805245e094",
            "354a0584d7e84f608cb22f8659dcb458",
            "e91052c4f7254946ac15f5b5a5df9778",
            "f4ab454beeaf48f090b48d7ec98eb722",
            "83144f5ee6e34daa987b636d5f52d67c",
            "f3127b6df51b4a189f4764a470c752e5",
            "ea7d801e71cf4a9cb8351079c60132e6",
            "e25042bf9ccc40c2bab5c42894bd8e77",
            "cee67067f72742ec8d69e5090205f5cf",
            "1203262d5e324041967e3e46d67d2051",
            "ff895a4f08f24718980521f5b20a8436",
            "bead629eaa2e4326bab448940d0d7363",
            "d73408dc70264a479471023462b1f35e",
            "068496dd79cd47a88e01483ddb6dfe8a",
            "cb9c9768ca914cf49ef5bd9fa6b84b65",
            "79a85e4ba9114c67a8268100097cc260",
            "29de0065eed24b2b9b64db1965e9ddb2",
            "03058b3d23ee40f2a3c8c4ea1f3d9bc1",
            "64c46dec013048f98ea63a27043ef914",
            "16955f6ee95346a39fbe979ea5438b9b",
            "4960ee14cd6f4bfda4964f08c6bfd365",
            "2e808e00120c466da4a443e12c5ad3be",
            "6f70806b87b648d8b25d54d9000734b7",
            "731b39c2d8274fb5889e7507c7150b0c",
            "f0dbdefc066849d288a0b598828ce48e",
            "c7ee7067601a4e28acd0abbdd9cae57e",
            "66e6594089cc4a9f96259be9b103c583",
            "da2f544facbd420597c652007a78045d",
            "373262a6ab704fa58a9425283e6022b4",
            "0767c2cc2feb4b31b5bdeef98c4f926a",
            "36fe0c6b573741dca8b08dc21c8dc840"
          ]
        },
        "id": "Udnot6I7mGMI",
        "outputId": "087d1ed9-58e4-4a6d-f846-8822ccacd0e0"
      },
      "outputs": [
        {
          "output_type": "stream",
          "name": "stderr",
          "text": [
            "\u001b[34m\u001b[1mwandb\u001b[0m: \u001b[33mWARNING\u001b[0m Calling wandb.login() after wandb.init() has no effect.\n",
            "\u001b[34m\u001b[1mwandb\u001b[0m: Agent Starting Run: grtfqakv with config:\n",
            "\u001b[34m\u001b[1mwandb\u001b[0m: \tactivation: sigmoid\n",
            "\u001b[34m\u001b[1mwandb\u001b[0m: \tbatch_size: 256\n",
            "\u001b[34m\u001b[1mwandb\u001b[0m: \tepochs: 10\n",
            "\u001b[34m\u001b[1mwandb\u001b[0m: \thidden_layer: [128, 128, 128]\n",
            "\u001b[34m\u001b[1mwandb\u001b[0m: \tinitilisation: xavier\n",
            "\u001b[34m\u001b[1mwandb\u001b[0m: \tlearning_rate: 0.01\n",
            "\u001b[34m\u001b[1mwandb\u001b[0m: \tloss_function: square_loss\n",
            "\u001b[34m\u001b[1mwandb\u001b[0m: \toptimiser: rmsprop\n",
            "\u001b[34m\u001b[1mwandb\u001b[0m: \tweight_decay: 0.0005\n",
            "\u001b[34m\u001b[1mwandb\u001b[0m: \u001b[33mWARNING\u001b[0m Ignored wandb.init() arg project when running a sweep.\n",
            "\u001b[34m\u001b[1mwandb\u001b[0m: \u001b[33mWARNING\u001b[0m Ignored wandb.init() arg entity when running a sweep.\n"
          ]
        },
        {
          "output_type": "display_data",
          "data": {
            "text/html": [
              "\n",
              "                    Syncing run <strong><a href=\"https://wandb.ai/moni6264/test_mse_50/runs/grtfqakv\" target=\"_blank\">zesty-sweep-1</a></strong> to <a href=\"https://wandb.ai/moni6264/test_mse_50\" target=\"_blank\">Weights & Biases</a> (<a href=\"https://docs.wandb.com/integrations/jupyter.html\" target=\"_blank\">docs</a>).<br/>\n",
              "Sweep page: <a href=\"https://wandb.ai/moni6264/test_mse_50/sweeps/4hhn4fkp\" target=\"_blank\">https://wandb.ai/moni6264/test_mse_50/sweeps/4hhn4fkp</a><br/>\n",
              "\n",
              "                "
            ],
            "text/plain": [
              "<IPython.core.display.HTML object>"
            ]
          },
          "metadata": {}
        },
        {
          "output_type": "stream",
          "name": "stdout",
          "text": [
            "Epoch 0: training_accuracy = 34.16 %, training_loss= 0.44232  ,Validation accuracy = 33.73 ,Validation loss = 0.44263\n",
            "Epoch 1: training_accuracy = 35.87 %, training_loss= 0.43438  ,Validation accuracy = 35.17 ,Validation loss = 0.43471\n",
            "Epoch 2: training_accuracy = 38.34 %, training_loss= 0.42697  ,Validation accuracy = 37.30 ,Validation loss = 0.42740\n",
            "Epoch 3: training_accuracy = 38.60 %, training_loss= 0.41926  ,Validation accuracy = 37.57 ,Validation loss = 0.41983\n",
            "Epoch 4: training_accuracy = 39.34 %, training_loss= 0.41092  ,Validation accuracy = 38.18 ,Validation loss = 0.41153\n",
            "Epoch 5: training_accuracy = 39.69 %, training_loss= 0.40321  ,Validation accuracy = 38.88 ,Validation loss = 0.40383\n",
            "Epoch 6: training_accuracy = 38.17 %, training_loss= 0.40850  ,Validation accuracy = 36.88 ,Validation loss = 0.40974\n",
            "Epoch 7: training_accuracy = 42.87 %, training_loss= 0.38805  ,Validation accuracy = 42.37 ,Validation loss = 0.38892\n",
            "Epoch 8: training_accuracy = 42.37 %, training_loss= 0.39978  ,Validation accuracy = 41.25 ,Validation loss = 0.40228\n",
            "Epoch 9: training_accuracy = 39.81 %, training_loss= 0.39763  ,Validation accuracy = 39.05 ,Validation loss = 0.39878\n"
          ]
        },
        {
          "output_type": "display_data",
          "data": {
            "text/html": [
              "<br/>Waiting for W&B process to finish, PID 597... <strong style=\"color:green\">(success).</strong>"
            ],
            "text/plain": [
              "<IPython.core.display.HTML object>"
            ]
          },
          "metadata": {}
        },
        {
          "output_type": "display_data",
          "data": {
            "application/vnd.jupyter.widget-view+json": {
              "model_id": "2925170c10134679a51ab5ec4ec7608f",
              "version_minor": 0,
              "version_major": 2
            },
            "text/plain": [
              "VBox(children=(Label(value=' 0.00MB of 0.00MB uploaded (0.00MB deduped)\\r'), FloatProgress(value=1.0, max=1.0)…"
            ]
          },
          "metadata": {}
        },
        {
          "output_type": "display_data",
          "data": {
            "text/html": [
              "<style>\n",
              "    table.wandb td:nth-child(1) { padding: 0 10px; text-align: right }\n",
              "    .wandb-row { display: flex; flex-direction: row; flex-wrap: wrap; width: 100% }\n",
              "    .wandb-col { display: flex; flex-direction: column; flex-basis: 100%; flex: 1; padding: 10px; }\n",
              "    </style>\n",
              "<div class=\"wandb-row\"><div class=\"wandb-col\">\n",
              "<h3>Run history:</h3><br/><table class=\"wandb\"><tr><td>steps</td><td>▁▁▁▁▁▁▁▁▁▁</td></tr><tr><td>train_accuracy</td><td>▁▂▄▅▅▅▄██▆</td></tr><tr><td>train_loss</td><td>█▇▆▅▄▃▄▁▃▂</td></tr><tr><td>val_accuracy</td><td>▁▂▄▄▅▅▄█▇▅</td></tr><tr><td>val_loss</td><td>█▇▆▅▄▃▄▁▃▂</td></tr></table><br/></div><div class=\"wandb-col\">\n",
              "<h3>Run summary:</h3><br/><table class=\"wandb\"><tr><td>steps</td><td>10</td></tr><tr><td>train_accuracy</td><td>39.807</td></tr><tr><td>train_loss</td><td>0.39763</td></tr><tr><td>val_accuracy</td><td>39.05</td></tr><tr><td>val_loss</td><td>0.39878</td></tr></table>\n",
              "</div></div>\n",
              "Synced 5 W&B file(s), 0 media file(s), 0 artifact file(s) and 0 other file(s)\n",
              "<br/>Synced <strong style=\"color:#cdcd00\">zesty-sweep-1</strong>: <a href=\"https://wandb.ai/moni6264/test_mse_50/runs/grtfqakv\" target=\"_blank\">https://wandb.ai/moni6264/test_mse_50/runs/grtfqakv</a><br/>\n",
              "Find logs at: <code>./wandb/run-20220225_054035-grtfqakv/logs</code><br/>\n"
            ],
            "text/plain": [
              "<IPython.core.display.HTML object>"
            ]
          },
          "metadata": {}
        },
        {
          "output_type": "stream",
          "name": "stderr",
          "text": [
            "\u001b[34m\u001b[1mwandb\u001b[0m: Sweep Agent: Waiting for job.\n",
            "\u001b[34m\u001b[1mwandb\u001b[0m: Job received.\n",
            "\u001b[34m\u001b[1mwandb\u001b[0m: Agent Starting Run: 9p1jocxc with config:\n",
            "\u001b[34m\u001b[1mwandb\u001b[0m: \tactivation: tanh\n",
            "\u001b[34m\u001b[1mwandb\u001b[0m: \tbatch_size: 64\n",
            "\u001b[34m\u001b[1mwandb\u001b[0m: \tepochs: 15\n",
            "\u001b[34m\u001b[1mwandb\u001b[0m: \thidden_layer: [32, 64, 128, 256]\n",
            "\u001b[34m\u001b[1mwandb\u001b[0m: \tinitilisation: xavier\n",
            "\u001b[34m\u001b[1mwandb\u001b[0m: \tlearning_rate: 0.01\n",
            "\u001b[34m\u001b[1mwandb\u001b[0m: \tloss_function: square_loss\n",
            "\u001b[34m\u001b[1mwandb\u001b[0m: \toptimiser: gd\n",
            "\u001b[34m\u001b[1mwandb\u001b[0m: \tweight_decay: 0.5\n",
            "\u001b[34m\u001b[1mwandb\u001b[0m: \u001b[33mWARNING\u001b[0m Ignored wandb.init() arg project when running a sweep.\n",
            "\u001b[34m\u001b[1mwandb\u001b[0m: \u001b[33mWARNING\u001b[0m Ignored wandb.init() arg entity when running a sweep.\n"
          ]
        },
        {
          "output_type": "display_data",
          "data": {
            "text/html": [
              "\n",
              "                    Syncing run <strong><a href=\"https://wandb.ai/moni6264/test_mse_50/runs/9p1jocxc\" target=\"_blank\">leafy-sweep-2</a></strong> to <a href=\"https://wandb.ai/moni6264/test_mse_50\" target=\"_blank\">Weights & Biases</a> (<a href=\"https://docs.wandb.com/integrations/jupyter.html\" target=\"_blank\">docs</a>).<br/>\n",
              "Sweep page: <a href=\"https://wandb.ai/moni6264/test_mse_50/sweeps/4hhn4fkp\" target=\"_blank\">https://wandb.ai/moni6264/test_mse_50/sweeps/4hhn4fkp</a><br/>\n",
              "\n",
              "                "
            ],
            "text/plain": [
              "<IPython.core.display.HTML object>"
            ]
          },
          "metadata": {}
        },
        {
          "output_type": "stream",
          "name": "stdout",
          "text": [
            "Epoch 0: training_accuracy = 9.98 %, training_loss= 0.45518  ,Validation accuracy = 10.18 ,Validation loss = 0.45440\n",
            "Epoch 1: training_accuracy = 9.98 %, training_loss= 0.45507  ,Validation accuracy = 10.18 ,Validation loss = 0.45429\n",
            "Epoch 2: training_accuracy = 9.98 %, training_loss= 0.45487  ,Validation accuracy = 10.18 ,Validation loss = 0.45410\n",
            "Epoch 3: training_accuracy = 9.98 %, training_loss= 0.45467  ,Validation accuracy = 10.18 ,Validation loss = 0.45392\n",
            "Epoch 4: training_accuracy = 9.98 %, training_loss= 0.45449  ,Validation accuracy = 10.18 ,Validation loss = 0.45374\n",
            "Epoch 5: training_accuracy = 9.98 %, training_loss= 0.45431  ,Validation accuracy = 10.18 ,Validation loss = 0.45357\n",
            "Epoch 6: training_accuracy = 9.98 %, training_loss= 0.45413  ,Validation accuracy = 10.18 ,Validation loss = 0.45341\n",
            "Epoch 7: training_accuracy = 9.98 %, training_loss= 0.45396  ,Validation accuracy = 10.18 ,Validation loss = 0.45325\n",
            "Epoch 8: training_accuracy = 9.98 %, training_loss= 0.45380  ,Validation accuracy = 10.18 ,Validation loss = 0.45310\n",
            "Epoch 9: training_accuracy = 9.98 %, training_loss= 0.45364  ,Validation accuracy = 10.18 ,Validation loss = 0.45296\n",
            "Epoch 10: training_accuracy = 9.98 %, training_loss= 0.45349  ,Validation accuracy = 10.18 ,Validation loss = 0.45281\n",
            "Epoch 11: training_accuracy = 9.98 %, training_loss= 0.45334  ,Validation accuracy = 10.18 ,Validation loss = 0.45268\n",
            "Epoch 12: training_accuracy = 9.98 %, training_loss= 0.45320  ,Validation accuracy = 10.18 ,Validation loss = 0.45255\n",
            "Epoch 13: training_accuracy = 9.98 %, training_loss= 0.45306  ,Validation accuracy = 10.18 ,Validation loss = 0.45242\n",
            "Epoch 14: training_accuracy = 9.98 %, training_loss= 0.45293  ,Validation accuracy = 10.18 ,Validation loss = 0.45230\n"
          ]
        },
        {
          "output_type": "display_data",
          "data": {
            "text/html": [
              "<br/>Waiting for W&B process to finish, PID 640... <strong style=\"color:green\">(success).</strong>"
            ],
            "text/plain": [
              "<IPython.core.display.HTML object>"
            ]
          },
          "metadata": {}
        },
        {
          "output_type": "display_data",
          "data": {
            "application/vnd.jupyter.widget-view+json": {
              "model_id": "6b823928fa214762bd01e4352489852d",
              "version_minor": 0,
              "version_major": 2
            },
            "text/plain": [
              "VBox(children=(Label(value=' 0.00MB of 0.00MB uploaded (0.00MB deduped)\\r'), FloatProgress(value=1.0, max=1.0)…"
            ]
          },
          "metadata": {}
        },
        {
          "output_type": "display_data",
          "data": {
            "text/html": [
              "<style>\n",
              "    table.wandb td:nth-child(1) { padding: 0 10px; text-align: right }\n",
              "    .wandb-row { display: flex; flex-direction: row; flex-wrap: wrap; width: 100% }\n",
              "    .wandb-col { display: flex; flex-direction: column; flex-basis: 100%; flex: 1; padding: 10px; }\n",
              "    </style>\n",
              "<div class=\"wandb-row\"><div class=\"wandb-col\">\n",
              "<h3>Run history:</h3><br/><table class=\"wandb\"><tr><td>steps</td><td>▁▁▁▁▁▁▁▁▁▁▁▁▁▁▁</td></tr><tr><td>train_accuracy</td><td>▁▁▁▁▁▁▁▁▁▁▁▁▁▁▁</td></tr><tr><td>train_loss</td><td>██▇▆▆▅▅▄▄▃▃▂▂▁▁</td></tr><tr><td>val_accuracy</td><td>▁▁▁▁▁▁▁▁▁▁▁▁▁▁▁</td></tr><tr><td>val_loss</td><td>██▇▆▆▅▅▄▄▃▃▂▂▁▁</td></tr></table><br/></div><div class=\"wandb-col\">\n",
              "<h3>Run summary:</h3><br/><table class=\"wandb\"><tr><td>steps</td><td>15</td></tr><tr><td>train_accuracy</td><td>9.98</td></tr><tr><td>train_loss</td><td>0.45293</td></tr><tr><td>val_accuracy</td><td>10.183</td></tr><tr><td>val_loss</td><td>0.4523</td></tr></table>\n",
              "</div></div>\n",
              "Synced 5 W&B file(s), 0 media file(s), 0 artifact file(s) and 0 other file(s)\n",
              "<br/>Synced <strong style=\"color:#cdcd00\">leafy-sweep-2</strong>: <a href=\"https://wandb.ai/moni6264/test_mse_50/runs/9p1jocxc\" target=\"_blank\">https://wandb.ai/moni6264/test_mse_50/runs/9p1jocxc</a><br/>\n",
              "Find logs at: <code>./wandb/run-20220225_054224-9p1jocxc/logs</code><br/>\n"
            ],
            "text/plain": [
              "<IPython.core.display.HTML object>"
            ]
          },
          "metadata": {}
        },
        {
          "output_type": "stream",
          "name": "stderr",
          "text": [
            "\u001b[34m\u001b[1mwandb\u001b[0m: Agent Starting Run: q4ghrt8i with config:\n",
            "\u001b[34m\u001b[1mwandb\u001b[0m: \tactivation: relu\n",
            "\u001b[34m\u001b[1mwandb\u001b[0m: \tbatch_size: 256\n",
            "\u001b[34m\u001b[1mwandb\u001b[0m: \tepochs: 15\n",
            "\u001b[34m\u001b[1mwandb\u001b[0m: \thidden_layer: [32, 64, 128]\n",
            "\u001b[34m\u001b[1mwandb\u001b[0m: \tinitilisation: xavier\n",
            "\u001b[34m\u001b[1mwandb\u001b[0m: \tlearning_rate: 0.01\n",
            "\u001b[34m\u001b[1mwandb\u001b[0m: \tloss_function: square_loss\n",
            "\u001b[34m\u001b[1mwandb\u001b[0m: \toptimiser: rmsprop\n",
            "\u001b[34m\u001b[1mwandb\u001b[0m: \tweight_decay: 0\n",
            "\u001b[34m\u001b[1mwandb\u001b[0m: \u001b[33mWARNING\u001b[0m Ignored wandb.init() arg project when running a sweep.\n",
            "\u001b[34m\u001b[1mwandb\u001b[0m: \u001b[33mWARNING\u001b[0m Ignored wandb.init() arg entity when running a sweep.\n"
          ]
        },
        {
          "output_type": "display_data",
          "data": {
            "text/html": [
              "\n",
              "                    Syncing run <strong><a href=\"https://wandb.ai/moni6264/test_mse_50/runs/q4ghrt8i\" target=\"_blank\">pious-sweep-3</a></strong> to <a href=\"https://wandb.ai/moni6264/test_mse_50\" target=\"_blank\">Weights & Biases</a> (<a href=\"https://docs.wandb.com/integrations/jupyter.html\" target=\"_blank\">docs</a>).<br/>\n",
              "Sweep page: <a href=\"https://wandb.ai/moni6264/test_mse_50/sweeps/4hhn4fkp\" target=\"_blank\">https://wandb.ai/moni6264/test_mse_50/sweeps/4hhn4fkp</a><br/>\n",
              "\n",
              "                "
            ],
            "text/plain": [
              "<IPython.core.display.HTML object>"
            ]
          },
          "metadata": {}
        },
        {
          "output_type": "stream",
          "name": "stdout",
          "text": [
            "Epoch 0: training_accuracy = 9.96 %, training_loss= 0.90035  ,Validation accuracy = 10.32 ,Validation loss = 0.89683\n",
            "Epoch 1: training_accuracy = 9.96 %, training_loss= 0.90035  ,Validation accuracy = 10.32 ,Validation loss = 0.89683\n",
            "Epoch 2: training_accuracy = 9.96 %, training_loss= 0.90035  ,Validation accuracy = 10.32 ,Validation loss = 0.89683\n",
            "Epoch 3: training_accuracy = 9.96 %, training_loss= 0.90035  ,Validation accuracy = 10.32 ,Validation loss = 0.89683\n",
            "Epoch 4: training_accuracy = 9.96 %, training_loss= 0.90035  ,Validation accuracy = 10.32 ,Validation loss = 0.89683\n",
            "Epoch 5: training_accuracy = 9.96 %, training_loss= 0.90035  ,Validation accuracy = 10.32 ,Validation loss = 0.89683\n",
            "Epoch 6: training_accuracy = 9.96 %, training_loss= 0.90035  ,Validation accuracy = 10.32 ,Validation loss = 0.89683\n",
            "Epoch 7: training_accuracy = 9.96 %, training_loss= 0.90035  ,Validation accuracy = 10.32 ,Validation loss = 0.89683\n",
            "Epoch 8: training_accuracy = 9.96 %, training_loss= 0.90035  ,Validation accuracy = 10.32 ,Validation loss = 0.89683\n",
            "Epoch 9: training_accuracy = 9.96 %, training_loss= 0.90035  ,Validation accuracy = 10.32 ,Validation loss = 0.89683\n",
            "Epoch 10: training_accuracy = 9.96 %, training_loss= 0.90035  ,Validation accuracy = 10.32 ,Validation loss = 0.89683\n",
            "Epoch 11: training_accuracy = 9.96 %, training_loss= 0.90035  ,Validation accuracy = 10.32 ,Validation loss = 0.89683\n",
            "Epoch 12: training_accuracy = 9.96 %, training_loss= 0.90035  ,Validation accuracy = 10.32 ,Validation loss = 0.89683\n",
            "Epoch 13: training_accuracy = 9.96 %, training_loss= 0.90034  ,Validation accuracy = 10.32 ,Validation loss = 0.89681\n"
          ]
        },
        {
          "output_type": "stream",
          "name": "stderr",
          "text": [
            "/usr/local/lib/python3.7/dist-packages/ipykernel_launcher.py:26: RuntimeWarning: invalid value encountered in true_divide\n"
          ]
        },
        {
          "output_type": "stream",
          "name": "stdout",
          "text": [
            "Epoch 14: training_accuracy = 10.01 %, training_loss= nan  ,Validation accuracy = 9.95 ,Validation loss = nan\n"
          ]
        },
        {
          "output_type": "display_data",
          "data": {
            "text/html": [
              "<br/>Waiting for W&B process to finish, PID 679... <strong style=\"color:green\">(success).</strong>"
            ],
            "text/plain": [
              "<IPython.core.display.HTML object>"
            ]
          },
          "metadata": {}
        },
        {
          "output_type": "display_data",
          "data": {
            "application/vnd.jupyter.widget-view+json": {
              "model_id": "509c7c00dad54c11a49507268509164b",
              "version_minor": 0,
              "version_major": 2
            },
            "text/plain": [
              "VBox(children=(Label(value=' 0.00MB of 0.00MB uploaded (0.00MB deduped)\\r'), FloatProgress(value=1.0, max=1.0)…"
            ]
          },
          "metadata": {}
        },
        {
          "output_type": "display_data",
          "data": {
            "text/html": [
              "<style>\n",
              "    table.wandb td:nth-child(1) { padding: 0 10px; text-align: right }\n",
              "    .wandb-row { display: flex; flex-direction: row; flex-wrap: wrap; width: 100% }\n",
              "    .wandb-col { display: flex; flex-direction: column; flex-basis: 100%; flex: 1; padding: 10px; }\n",
              "    </style>\n",
              "<div class=\"wandb-row\"><div class=\"wandb-col\">\n",
              "<h3>Run history:</h3><br/><table class=\"wandb\"><tr><td>steps</td><td>▁▁▁▁▁▁▁▁▁▁▁▁▁▁▁</td></tr><tr><td>train_accuracy</td><td>▁▁▁▁▁▁▁▁▁▁▁▁▁▁█</td></tr><tr><td>train_loss</td><td>█████████████▁ </td></tr><tr><td>val_accuracy</td><td>██████████████▁</td></tr><tr><td>val_loss</td><td>█████████████▁ </td></tr></table><br/></div><div class=\"wandb-col\">\n",
              "<h3>Run summary:</h3><br/><table class=\"wandb\"><tr><td>steps</td><td>15</td></tr><tr><td>train_accuracy</td><td>10.006</td></tr><tr><td>train_loss</td><td>nan</td></tr><tr><td>val_accuracy</td><td>9.95</td></tr><tr><td>val_loss</td><td>nan</td></tr></table>\n",
              "</div></div>\n",
              "Synced 5 W&B file(s), 0 media file(s), 0 artifact file(s) and 0 other file(s)\n",
              "<br/>Synced <strong style=\"color:#cdcd00\">pious-sweep-3</strong>: <a href=\"https://wandb.ai/moni6264/test_mse_50/runs/q4ghrt8i\" target=\"_blank\">https://wandb.ai/moni6264/test_mse_50/runs/q4ghrt8i</a><br/>\n",
              "Find logs at: <code>./wandb/run-20220225_054448-q4ghrt8i/logs</code><br/>\n"
            ],
            "text/plain": [
              "<IPython.core.display.HTML object>"
            ]
          },
          "metadata": {}
        },
        {
          "output_type": "stream",
          "name": "stderr",
          "text": [
            "\u001b[34m\u001b[1mwandb\u001b[0m: Agent Starting Run: 0houkc9v with config:\n",
            "\u001b[34m\u001b[1mwandb\u001b[0m: \tactivation: tanh\n",
            "\u001b[34m\u001b[1mwandb\u001b[0m: \tbatch_size: 256\n",
            "\u001b[34m\u001b[1mwandb\u001b[0m: \tepochs: 10\n",
            "\u001b[34m\u001b[1mwandb\u001b[0m: \thidden_layer: [32, 64, 128]\n",
            "\u001b[34m\u001b[1mwandb\u001b[0m: \tinitilisation: xavier\n",
            "\u001b[34m\u001b[1mwandb\u001b[0m: \tlearning_rate: 0.001\n",
            "\u001b[34m\u001b[1mwandb\u001b[0m: \tloss_function: square_loss\n",
            "\u001b[34m\u001b[1mwandb\u001b[0m: \toptimiser: ngd\n",
            "\u001b[34m\u001b[1mwandb\u001b[0m: \tweight_decay: 0.5\n",
            "\u001b[34m\u001b[1mwandb\u001b[0m: \u001b[33mWARNING\u001b[0m Ignored wandb.init() arg project when running a sweep.\n",
            "\u001b[34m\u001b[1mwandb\u001b[0m: \u001b[33mWARNING\u001b[0m Ignored wandb.init() arg entity when running a sweep.\n"
          ]
        },
        {
          "output_type": "stream",
          "name": "stdout",
          "text": [
            "Epoch 0: training_accuracy = 17.77 %, training_loss= 0.48095  ,Validation accuracy = 17.17 ,Validation loss = 0.48332\n",
            "Epoch 1: training_accuracy = 18.29 %, training_loss= 0.45864  ,Validation accuracy = 17.50 ,Validation loss = 0.46040\n",
            "Epoch 2: training_accuracy = 19.00 %, training_loss= 0.45082  ,Validation accuracy = 18.18 ,Validation loss = 0.45218\n",
            "Epoch 3: training_accuracy = 19.83 %, training_loss= 0.44965  ,Validation accuracy = 18.87 ,Validation loss = 0.45073\n",
            "Epoch 4: training_accuracy = 20.64 %, training_loss= 0.44969  ,Validation accuracy = 19.48 ,Validation loss = 0.45057\n",
            "Epoch 5: training_accuracy = 21.35 %, training_loss= 0.45000  ,Validation accuracy = 20.52 ,Validation loss = 0.45072\n",
            "Epoch 6: training_accuracy = 21.63 %, training_loss= 0.45068  ,Validation accuracy = 20.90 ,Validation loss = 0.45129\n",
            "Epoch 7: training_accuracy = 21.25 %, training_loss= 0.45150  ,Validation accuracy = 20.52 ,Validation loss = 0.45202\n",
            "Epoch 8: training_accuracy = 20.14 %, training_loss= 0.45206  ,Validation accuracy = 19.70 ,Validation loss = 0.45252\n",
            "Epoch 9: training_accuracy = 18.28 %, training_loss= 0.45225  ,Validation accuracy = 18.10 ,Validation loss = 0.45266\n"
          ]
        },
        {
          "output_type": "display_data",
          "data": {
            "text/html": [
              "<br/>Waiting for W&B process to finish, PID 718... <strong style=\"color:green\">(success).</strong>"
            ],
            "text/plain": [
              "<IPython.core.display.HTML object>"
            ]
          },
          "metadata": {}
        },
        {
          "output_type": "display_data",
          "data": {
            "application/vnd.jupyter.widget-view+json": {
              "model_id": "de09e285eab5439e98d6535070131c6a",
              "version_minor": 0,
              "version_major": 2
            },
            "text/plain": [
              "VBox(children=(Label(value=' 0.00MB of 0.00MB uploaded (0.00MB deduped)\\r'), FloatProgress(value=1.0, max=1.0)…"
            ]
          },
          "metadata": {}
        },
        {
          "output_type": "display_data",
          "data": {
            "text/html": [
              "<style>\n",
              "    table.wandb td:nth-child(1) { padding: 0 10px; text-align: right }\n",
              "    .wandb-row { display: flex; flex-direction: row; flex-wrap: wrap; width: 100% }\n",
              "    .wandb-col { display: flex; flex-direction: column; flex-basis: 100%; flex: 1; padding: 10px; }\n",
              "    </style>\n",
              "<div class=\"wandb-row\"><div class=\"wandb-col\">\n",
              "<h3>Run history:</h3><br/><table class=\"wandb\"><tr><td>steps</td><td>▁▁▁▁▁▁▁▁▁▁</td></tr><tr><td>train_accuracy</td><td>▁▂▃▅▆▇█▇▅▂</td></tr><tr><td>train_loss</td><td>█▃▁▁▁▁▁▁▂▂</td></tr><tr><td>val_accuracy</td><td>▁▂▃▄▅▇█▇▆▃</td></tr><tr><td>val_loss</td><td>█▃▁▁▁▁▁▁▁▁</td></tr></table><br/></div><div class=\"wandb-col\">\n",
              "<h3>Run summary:</h3><br/><table class=\"wandb\"><tr><td>steps</td><td>10</td></tr><tr><td>train_accuracy</td><td>18.281</td></tr><tr><td>train_loss</td><td>0.45225</td></tr><tr><td>val_accuracy</td><td>18.1</td></tr><tr><td>val_loss</td><td>0.45266</td></tr></table>\n",
              "</div></div>\n",
              "Synced 5 W&B file(s), 0 media file(s), 0 artifact file(s) and 0 other file(s)\n",
              "<br/>Synced <strong style=\"color:#cdcd00\">eternal-sweep-4</strong>: <a href=\"https://wandb.ai/moni6264/test_mse_50/runs/0houkc9v\" target=\"_blank\">https://wandb.ai/moni6264/test_mse_50/runs/0houkc9v</a><br/>\n",
              "Find logs at: <code>./wandb/run-20220225_054557-0houkc9v/logs</code><br/>\n"
            ],
            "text/plain": [
              "<IPython.core.display.HTML object>"
            ]
          },
          "metadata": {}
        },
        {
          "output_type": "stream",
          "name": "stderr",
          "text": [
            "\u001b[34m\u001b[1mwandb\u001b[0m: Agent Starting Run: j0g41keq with config:\n",
            "\u001b[34m\u001b[1mwandb\u001b[0m: \tactivation: relu\n",
            "\u001b[34m\u001b[1mwandb\u001b[0m: \tbatch_size: 128\n",
            "\u001b[34m\u001b[1mwandb\u001b[0m: \tepochs: 20\n",
            "\u001b[34m\u001b[1mwandb\u001b[0m: \thidden_layer: [32, 64]\n",
            "\u001b[34m\u001b[1mwandb\u001b[0m: \tinitilisation: xavier\n",
            "\u001b[34m\u001b[1mwandb\u001b[0m: \tlearning_rate: 0.01\n",
            "\u001b[34m\u001b[1mwandb\u001b[0m: \tloss_function: square_loss\n",
            "\u001b[34m\u001b[1mwandb\u001b[0m: \toptimiser: adam\n",
            "\u001b[34m\u001b[1mwandb\u001b[0m: \tweight_decay: 0.5\n",
            "\u001b[34m\u001b[1mwandb\u001b[0m: \u001b[33mWARNING\u001b[0m Ignored wandb.init() arg project when running a sweep.\n",
            "\u001b[34m\u001b[1mwandb\u001b[0m: \u001b[33mWARNING\u001b[0m Ignored wandb.init() arg entity when running a sweep.\n"
          ]
        },
        {
          "output_type": "display_data",
          "data": {
            "text/html": [
              "\n",
              "                    Syncing run <strong><a href=\"https://wandb.ai/moni6264/test_mse_50/runs/j0g41keq\" target=\"_blank\">efficient-sweep-5</a></strong> to <a href=\"https://wandb.ai/moni6264/test_mse_50\" target=\"_blank\">Weights & Biases</a> (<a href=\"https://docs.wandb.com/integrations/jupyter.html\" target=\"_blank\">docs</a>).<br/>\n",
              "Sweep page: <a href=\"https://wandb.ai/moni6264/test_mse_50/sweeps/4hhn4fkp\" target=\"_blank\">https://wandb.ai/moni6264/test_mse_50/sweeps/4hhn4fkp</a><br/>\n",
              "\n",
              "                "
            ],
            "text/plain": [
              "<IPython.core.display.HTML object>"
            ]
          },
          "metadata": {}
        },
        {
          "output_type": "stream",
          "name": "stdout",
          "text": [
            "Epoch 0: training_accuracy = 36.46 %, training_loss= 0.40937  ,Validation accuracy = 35.68 ,Validation loss = 0.41052\n",
            "Epoch 1: training_accuracy = 9.96 %, training_loss= 0.44996  ,Validation accuracy = 10.32 ,Validation loss = 0.44982\n",
            "Epoch 2: training_accuracy = 9.96 %, training_loss= 0.45010  ,Validation accuracy = 10.35 ,Validation loss = 0.44999\n",
            "Epoch 3: training_accuracy = 9.96 %, training_loss= 0.45009  ,Validation accuracy = 10.35 ,Validation loss = 0.44999\n",
            "Epoch 4: training_accuracy = 9.96 %, training_loss= 0.45009  ,Validation accuracy = 10.35 ,Validation loss = 0.44998\n",
            "Epoch 5: training_accuracy = 9.96 %, training_loss= 0.45009  ,Validation accuracy = 10.35 ,Validation loss = 0.44998\n",
            "Epoch 6: training_accuracy = 9.96 %, training_loss= 0.45009  ,Validation accuracy = 10.35 ,Validation loss = 0.44998\n",
            "Epoch 7: training_accuracy = 9.96 %, training_loss= 0.45010  ,Validation accuracy = 10.35 ,Validation loss = 0.44998\n",
            "Epoch 8: training_accuracy = 9.96 %, training_loss= 0.45010  ,Validation accuracy = 10.35 ,Validation loss = 0.44998\n",
            "Epoch 9: training_accuracy = 9.96 %, training_loss= 0.45010  ,Validation accuracy = 10.35 ,Validation loss = 0.44998\n",
            "Epoch 10: training_accuracy = 9.96 %, training_loss= 0.45011  ,Validation accuracy = 10.35 ,Validation loss = 0.44998\n",
            "Epoch 11: training_accuracy = 9.96 %, training_loss= 0.45011  ,Validation accuracy = 10.35 ,Validation loss = 0.44998\n",
            "Epoch 12: training_accuracy = 9.96 %, training_loss= 0.45011  ,Validation accuracy = 10.35 ,Validation loss = 0.44998\n",
            "Epoch 13: training_accuracy = 9.96 %, training_loss= 0.45011  ,Validation accuracy = 10.35 ,Validation loss = 0.44998\n",
            "Epoch 14: training_accuracy = 9.96 %, training_loss= 0.45011  ,Validation accuracy = 10.35 ,Validation loss = 0.44998\n",
            "Epoch 15: training_accuracy = 9.96 %, training_loss= 0.45011  ,Validation accuracy = 10.35 ,Validation loss = 0.44998\n",
            "Epoch 16: training_accuracy = 9.96 %, training_loss= 0.45011  ,Validation accuracy = 10.35 ,Validation loss = 0.44998\n",
            "Epoch 17: training_accuracy = 9.96 %, training_loss= 0.45011  ,Validation accuracy = 10.35 ,Validation loss = 0.44998\n",
            "Epoch 18: training_accuracy = 9.96 %, training_loss= 0.45012  ,Validation accuracy = 10.35 ,Validation loss = 0.44998\n",
            "Epoch 19: training_accuracy = 9.96 %, training_loss= 0.45012  ,Validation accuracy = 10.35 ,Validation loss = 0.44998\n"
          ]
        },
        {
          "output_type": "display_data",
          "data": {
            "text/html": [
              "<br/>Waiting for W&B process to finish, PID 757... <strong style=\"color:green\">(success).</strong>"
            ],
            "text/plain": [
              "<IPython.core.display.HTML object>"
            ]
          },
          "metadata": {}
        },
        {
          "output_type": "display_data",
          "data": {
            "application/vnd.jupyter.widget-view+json": {
              "model_id": "c9deace7704e4afa96689f0ab020660b",
              "version_minor": 0,
              "version_major": 2
            },
            "text/plain": [
              "VBox(children=(Label(value=' 0.00MB of 0.00MB uploaded (0.00MB deduped)\\r'), FloatProgress(value=1.0, max=1.0)…"
            ]
          },
          "metadata": {}
        },
        {
          "output_type": "display_data",
          "data": {
            "text/html": [
              "<style>\n",
              "    table.wandb td:nth-child(1) { padding: 0 10px; text-align: right }\n",
              "    .wandb-row { display: flex; flex-direction: row; flex-wrap: wrap; width: 100% }\n",
              "    .wandb-col { display: flex; flex-direction: column; flex-basis: 100%; flex: 1; padding: 10px; }\n",
              "    </style>\n",
              "<div class=\"wandb-row\"><div class=\"wandb-col\">\n",
              "<h3>Run history:</h3><br/><table class=\"wandb\"><tr><td>steps</td><td>▁▁▁▁▁▁▁▁▁▁▁▁▁▁▁▁▁▁▁▁</td></tr><tr><td>train_accuracy</td><td>█▁▁▁▁▁▁▁▁▁▁▁▁▁▁▁▁▁▁▁</td></tr><tr><td>train_loss</td><td>▁███████████████████</td></tr><tr><td>val_accuracy</td><td>█▁▁▁▁▁▁▁▁▁▁▁▁▁▁▁▁▁▁▁</td></tr><tr><td>val_loss</td><td>▁███████████████████</td></tr></table><br/></div><div class=\"wandb-col\">\n",
              "<h3>Run summary:</h3><br/><table class=\"wandb\"><tr><td>steps</td><td>20</td></tr><tr><td>train_accuracy</td><td>9.961</td></tr><tr><td>train_loss</td><td>0.45012</td></tr><tr><td>val_accuracy</td><td>10.35</td></tr><tr><td>val_loss</td><td>0.44998</td></tr></table>\n",
              "</div></div>\n",
              "Synced 5 W&B file(s), 0 media file(s), 0 artifact file(s) and 0 other file(s)\n",
              "<br/>Synced <strong style=\"color:#cdcd00\">efficient-sweep-5</strong>: <a href=\"https://wandb.ai/moni6264/test_mse_50/runs/j0g41keq\" target=\"_blank\">https://wandb.ai/moni6264/test_mse_50/runs/j0g41keq</a><br/>\n",
              "Find logs at: <code>./wandb/run-20220225_054731-j0g41keq/logs</code><br/>\n"
            ],
            "text/plain": [
              "<IPython.core.display.HTML object>"
            ]
          },
          "metadata": {}
        },
        {
          "output_type": "stream",
          "name": "stderr",
          "text": [
            "\u001b[34m\u001b[1mwandb\u001b[0m: Agent Starting Run: 7u7puqea with config:\n",
            "\u001b[34m\u001b[1mwandb\u001b[0m: \tactivation: relu\n",
            "\u001b[34m\u001b[1mwandb\u001b[0m: \tbatch_size: 64\n",
            "\u001b[34m\u001b[1mwandb\u001b[0m: \tepochs: 20\n",
            "\u001b[34m\u001b[1mwandb\u001b[0m: \thidden_layer: [32, 64, 128]\n",
            "\u001b[34m\u001b[1mwandb\u001b[0m: \tinitilisation: xavier\n",
            "\u001b[34m\u001b[1mwandb\u001b[0m: \tlearning_rate: 0.001\n",
            "\u001b[34m\u001b[1mwandb\u001b[0m: \tloss_function: square_loss\n",
            "\u001b[34m\u001b[1mwandb\u001b[0m: \toptimiser: gd\n",
            "\u001b[34m\u001b[1mwandb\u001b[0m: \tweight_decay: 0.5\n",
            "\u001b[34m\u001b[1mwandb\u001b[0m: \u001b[33mWARNING\u001b[0m Ignored wandb.init() arg project when running a sweep.\n",
            "\u001b[34m\u001b[1mwandb\u001b[0m: \u001b[33mWARNING\u001b[0m Ignored wandb.init() arg entity when running a sweep.\n"
          ]
        },
        {
          "output_type": "display_data",
          "data": {
            "text/html": [
              "\n",
              "                    Syncing run <strong><a href=\"https://wandb.ai/moni6264/test_mse_50/runs/7u7puqea\" target=\"_blank\">bright-sweep-6</a></strong> to <a href=\"https://wandb.ai/moni6264/test_mse_50\" target=\"_blank\">Weights & Biases</a> (<a href=\"https://docs.wandb.com/integrations/jupyter.html\" target=\"_blank\">docs</a>).<br/>\n",
              "Sweep page: <a href=\"https://wandb.ai/moni6264/test_mse_50/sweeps/4hhn4fkp\" target=\"_blank\">https://wandb.ai/moni6264/test_mse_50/sweeps/4hhn4fkp</a><br/>\n",
              "\n",
              "                "
            ],
            "text/plain": [
              "<IPython.core.display.HTML object>"
            ]
          },
          "metadata": {}
        },
        {
          "output_type": "stream",
          "name": "stdout",
          "text": [
            "Epoch 0: training_accuracy = 8.12 %, training_loss= 0.60004  ,Validation accuracy = 7.27 ,Validation loss = 0.60427\n",
            "Epoch 1: training_accuracy = 12.35 %, training_loss= 0.48076  ,Validation accuracy = 11.88 ,Validation loss = 0.48225\n",
            "Epoch 2: training_accuracy = 10.02 %, training_loss= 0.46643  ,Validation accuracy = 9.78 ,Validation loss = 0.46703\n",
            "Epoch 3: training_accuracy = 10.02 %, training_loss= 0.46182  ,Validation accuracy = 9.78 ,Validation loss = 0.46205\n",
            "Epoch 4: training_accuracy = 10.02 %, training_loss= 0.45916  ,Validation accuracy = 9.78 ,Validation loss = 0.45931\n",
            "Epoch 5: training_accuracy = 10.02 %, training_loss= 0.45739  ,Validation accuracy = 9.78 ,Validation loss = 0.45756\n",
            "Epoch 6: training_accuracy = 10.02 %, training_loss= 0.45664  ,Validation accuracy = 9.78 ,Validation loss = 0.45684\n",
            "Epoch 7: training_accuracy = 10.02 %, training_loss= 0.45640  ,Validation accuracy = 9.78 ,Validation loss = 0.45663\n",
            "Epoch 8: training_accuracy = 10.02 %, training_loss= 0.45631  ,Validation accuracy = 9.78 ,Validation loss = 0.45654\n",
            "Epoch 9: training_accuracy = 10.02 %, training_loss= 0.45624  ,Validation accuracy = 9.78 ,Validation loss = 0.45649\n",
            "Epoch 10: training_accuracy = 10.02 %, training_loss= 0.45619  ,Validation accuracy = 9.78 ,Validation loss = 0.45644\n",
            "Epoch 11: training_accuracy = 10.02 %, training_loss= 0.45615  ,Validation accuracy = 9.78 ,Validation loss = 0.45640\n",
            "Epoch 12: training_accuracy = 10.02 %, training_loss= 0.45611  ,Validation accuracy = 9.78 ,Validation loss = 0.45635\n",
            "Epoch 13: training_accuracy = 10.02 %, training_loss= 0.45607  ,Validation accuracy = 9.78 ,Validation loss = 0.45632\n",
            "Epoch 14: training_accuracy = 10.02 %, training_loss= 0.45604  ,Validation accuracy = 9.78 ,Validation loss = 0.45628\n",
            "Epoch 15: training_accuracy = 10.02 %, training_loss= 0.45600  ,Validation accuracy = 9.78 ,Validation loss = 0.45625\n",
            "Epoch 16: training_accuracy = 10.02 %, training_loss= 0.45597  ,Validation accuracy = 9.78 ,Validation loss = 0.45622\n",
            "Epoch 17: training_accuracy = 10.02 %, training_loss= 0.45595  ,Validation accuracy = 9.78 ,Validation loss = 0.45619\n",
            "Epoch 18: training_accuracy = 10.02 %, training_loss= 0.45592  ,Validation accuracy = 9.78 ,Validation loss = 0.45616\n",
            "Epoch 19: training_accuracy = 10.02 %, training_loss= 0.45589  ,Validation accuracy = 9.78 ,Validation loss = 0.45613\n"
          ]
        },
        {
          "output_type": "display_data",
          "data": {
            "text/html": [
              "<br/>Waiting for W&B process to finish, PID 796... <strong style=\"color:green\">(success).</strong>"
            ],
            "text/plain": [
              "<IPython.core.display.HTML object>"
            ]
          },
          "metadata": {}
        },
        {
          "output_type": "display_data",
          "data": {
            "application/vnd.jupyter.widget-view+json": {
              "model_id": "831d752314db41cba1637fac28d0553a",
              "version_minor": 0,
              "version_major": 2
            },
            "text/plain": [
              "VBox(children=(Label(value=' 0.00MB of 0.00MB uploaded (0.00MB deduped)\\r'), FloatProgress(value=1.0, max=1.0)…"
            ]
          },
          "metadata": {}
        },
        {
          "output_type": "display_data",
          "data": {
            "text/html": [
              "<style>\n",
              "    table.wandb td:nth-child(1) { padding: 0 10px; text-align: right }\n",
              "    .wandb-row { display: flex; flex-direction: row; flex-wrap: wrap; width: 100% }\n",
              "    .wandb-col { display: flex; flex-direction: column; flex-basis: 100%; flex: 1; padding: 10px; }\n",
              "    </style>\n",
              "<div class=\"wandb-row\"><div class=\"wandb-col\">\n",
              "<h3>Run history:</h3><br/><table class=\"wandb\"><tr><td>steps</td><td>▁▁▁▁▁▁▁▁▁▁▁▁▁▁▁▁▁▁▁▁</td></tr><tr><td>train_accuracy</td><td>▁█▄▄▄▄▄▄▄▄▄▄▄▄▄▄▄▄▄▄</td></tr><tr><td>train_loss</td><td>█▂▂▁▁▁▁▁▁▁▁▁▁▁▁▁▁▁▁▁</td></tr><tr><td>val_accuracy</td><td>▁█▅▅▅▅▅▅▅▅▅▅▅▅▅▅▅▅▅▅</td></tr><tr><td>val_loss</td><td>█▂▂▁▁▁▁▁▁▁▁▁▁▁▁▁▁▁▁▁</td></tr></table><br/></div><div class=\"wandb-col\">\n",
              "<h3>Run summary:</h3><br/><table class=\"wandb\"><tr><td>steps</td><td>20</td></tr><tr><td>train_accuracy</td><td>10.024</td></tr><tr><td>train_loss</td><td>0.45589</td></tr><tr><td>val_accuracy</td><td>9.783</td></tr><tr><td>val_loss</td><td>0.45613</td></tr></table>\n",
              "</div></div>\n",
              "Synced 5 W&B file(s), 0 media file(s), 0 artifact file(s) and 0 other file(s)\n",
              "<br/>Synced <strong style=\"color:#cdcd00\">bright-sweep-6</strong>: <a href=\"https://wandb.ai/moni6264/test_mse_50/runs/7u7puqea\" target=\"_blank\">https://wandb.ai/moni6264/test_mse_50/runs/7u7puqea</a><br/>\n",
              "Find logs at: <code>./wandb/run-20220225_054855-7u7puqea/logs</code><br/>\n"
            ],
            "text/plain": [
              "<IPython.core.display.HTML object>"
            ]
          },
          "metadata": {}
        },
        {
          "output_type": "stream",
          "name": "stderr",
          "text": [
            "\u001b[34m\u001b[1mwandb\u001b[0m: Agent Starting Run: mrv95sc1 with config:\n",
            "\u001b[34m\u001b[1mwandb\u001b[0m: \tactivation: sigmoid\n",
            "\u001b[34m\u001b[1mwandb\u001b[0m: \tbatch_size: 128\n",
            "\u001b[34m\u001b[1mwandb\u001b[0m: \tepochs: 20\n",
            "\u001b[34m\u001b[1mwandb\u001b[0m: \thidden_layer: [128, 128, 128]\n",
            "\u001b[34m\u001b[1mwandb\u001b[0m: \tinitilisation: xavier\n",
            "\u001b[34m\u001b[1mwandb\u001b[0m: \tlearning_rate: 0.001\n",
            "\u001b[34m\u001b[1mwandb\u001b[0m: \tloss_function: square_loss\n",
            "\u001b[34m\u001b[1mwandb\u001b[0m: \toptimiser: mgd\n",
            "\u001b[34m\u001b[1mwandb\u001b[0m: \tweight_decay: 0.5\n",
            "\u001b[34m\u001b[1mwandb\u001b[0m: \u001b[33mWARNING\u001b[0m Ignored wandb.init() arg project when running a sweep.\n",
            "\u001b[34m\u001b[1mwandb\u001b[0m: \u001b[33mWARNING\u001b[0m Ignored wandb.init() arg entity when running a sweep.\n"
          ]
        },
        {
          "output_type": "display_data",
          "data": {
            "text/html": [
              "\n",
              "                    Syncing run <strong><a href=\"https://wandb.ai/moni6264/test_mse_50/runs/mrv95sc1\" target=\"_blank\">whole-sweep-7</a></strong> to <a href=\"https://wandb.ai/moni6264/test_mse_50\" target=\"_blank\">Weights & Biases</a> (<a href=\"https://docs.wandb.com/integrations/jupyter.html\" target=\"_blank\">docs</a>).<br/>\n",
              "Sweep page: <a href=\"https://wandb.ai/moni6264/test_mse_50/sweeps/4hhn4fkp\" target=\"_blank\">https://wandb.ai/moni6264/test_mse_50/sweeps/4hhn4fkp</a><br/>\n",
              "\n",
              "                "
            ],
            "text/plain": [
              "<IPython.core.display.HTML object>"
            ]
          },
          "metadata": {}
        },
        {
          "output_type": "stream",
          "name": "stdout",
          "text": [
            "Epoch 0: training_accuracy = 11.52 %, training_loss= 0.46035  ,Validation accuracy = 12.12 ,Validation loss = 0.45981\n",
            "Epoch 1: training_accuracy = 10.04 %, training_loss= 0.45695  ,Validation accuracy = 10.57 ,Validation loss = 0.45673\n",
            "Epoch 2: training_accuracy = 9.95 %, training_loss= 0.45544  ,Validation accuracy = 10.45 ,Validation loss = 0.45547\n",
            "Epoch 3: training_accuracy = 9.95 %, training_loss= 0.45472  ,Validation accuracy = 10.45 ,Validation loss = 0.45481\n",
            "Epoch 4: training_accuracy = 9.95 %, training_loss= 0.45388  ,Validation accuracy = 10.45 ,Validation loss = 0.45395\n",
            "Epoch 5: training_accuracy = 9.95 %, training_loss= 0.45279  ,Validation accuracy = 10.45 ,Validation loss = 0.45280\n",
            "Epoch 6: training_accuracy = 9.95 %, training_loss= 0.45174  ,Validation accuracy = 10.45 ,Validation loss = 0.45166\n",
            "Epoch 7: training_accuracy = 9.95 %, training_loss= 0.45116  ,Validation accuracy = 10.45 ,Validation loss = 0.45101\n",
            "Epoch 8: training_accuracy = 9.95 %, training_loss= 0.45100  ,Validation accuracy = 10.45 ,Validation loss = 0.45080\n",
            "Epoch 9: training_accuracy = 9.95 %, training_loss= 0.45096  ,Validation accuracy = 10.45 ,Validation loss = 0.45075\n",
            "Epoch 10: training_accuracy = 9.95 %, training_loss= 0.45095  ,Validation accuracy = 10.45 ,Validation loss = 0.45074\n",
            "Epoch 11: training_accuracy = 9.95 %, training_loss= 0.45094  ,Validation accuracy = 10.45 ,Validation loss = 0.45073\n",
            "Epoch 12: training_accuracy = 9.95 %, training_loss= 0.45093  ,Validation accuracy = 10.45 ,Validation loss = 0.45072\n",
            "Epoch 13: training_accuracy = 9.95 %, training_loss= 0.45093  ,Validation accuracy = 10.45 ,Validation loss = 0.45071\n",
            "Epoch 14: training_accuracy = 9.95 %, training_loss= 0.45092  ,Validation accuracy = 10.45 ,Validation loss = 0.45071\n",
            "Epoch 15: training_accuracy = 9.95 %, training_loss= 0.45091  ,Validation accuracy = 10.45 ,Validation loss = 0.45070\n",
            "Epoch 16: training_accuracy = 9.95 %, training_loss= 0.45090  ,Validation accuracy = 10.45 ,Validation loss = 0.45069\n",
            "Epoch 17: training_accuracy = 9.95 %, training_loss= 0.45089  ,Validation accuracy = 10.45 ,Validation loss = 0.45068\n",
            "Epoch 18: training_accuracy = 9.95 %, training_loss= 0.45089  ,Validation accuracy = 10.45 ,Validation loss = 0.45068\n",
            "Epoch 19: training_accuracy = 9.95 %, training_loss= 0.45088  ,Validation accuracy = 10.45 ,Validation loss = 0.45067\n"
          ]
        },
        {
          "output_type": "display_data",
          "data": {
            "text/html": [
              "<br/>Waiting for W&B process to finish, PID 835... <strong style=\"color:green\">(success).</strong>"
            ],
            "text/plain": [
              "<IPython.core.display.HTML object>"
            ]
          },
          "metadata": {}
        },
        {
          "output_type": "display_data",
          "data": {
            "application/vnd.jupyter.widget-view+json": {
              "model_id": "7427b3d5b3434a0ba5b83933530b6dc0",
              "version_minor": 0,
              "version_major": 2
            },
            "text/plain": [
              "VBox(children=(Label(value=' 0.00MB of 0.00MB uploaded (0.00MB deduped)\\r'), FloatProgress(value=1.0, max=1.0)…"
            ]
          },
          "metadata": {}
        },
        {
          "output_type": "display_data",
          "data": {
            "text/html": [
              "<style>\n",
              "    table.wandb td:nth-child(1) { padding: 0 10px; text-align: right }\n",
              "    .wandb-row { display: flex; flex-direction: row; flex-wrap: wrap; width: 100% }\n",
              "    .wandb-col { display: flex; flex-direction: column; flex-basis: 100%; flex: 1; padding: 10px; }\n",
              "    </style>\n",
              "<div class=\"wandb-row\"><div class=\"wandb-col\">\n",
              "<h3>Run history:</h3><br/><table class=\"wandb\"><tr><td>steps</td><td>▁▁▁▁▁▁▁▁▁▁▁▁▁▁▁▁▁▁▁▁</td></tr><tr><td>train_accuracy</td><td>█▁▁▁▁▁▁▁▁▁▁▁▁▁▁▁▁▁▁▁</td></tr><tr><td>train_loss</td><td>█▅▄▄▃▂▂▁▁▁▁▁▁▁▁▁▁▁▁▁</td></tr><tr><td>val_accuracy</td><td>█▁▁▁▁▁▁▁▁▁▁▁▁▁▁▁▁▁▁▁</td></tr><tr><td>val_loss</td><td>█▆▅▄▄▃▂▁▁▁▁▁▁▁▁▁▁▁▁▁</td></tr></table><br/></div><div class=\"wandb-col\">\n",
              "<h3>Run summary:</h3><br/><table class=\"wandb\"><tr><td>steps</td><td>20</td></tr><tr><td>train_accuracy</td><td>9.95</td></tr><tr><td>train_loss</td><td>0.45088</td></tr><tr><td>val_accuracy</td><td>10.45</td></tr><tr><td>val_loss</td><td>0.45067</td></tr></table>\n",
              "</div></div>\n",
              "Synced 5 W&B file(s), 0 media file(s), 0 artifact file(s) and 0 other file(s)\n",
              "<br/>Synced <strong style=\"color:#cdcd00\">whole-sweep-7</strong>: <a href=\"https://wandb.ai/moni6264/test_mse_50/runs/mrv95sc1\" target=\"_blank\">https://wandb.ai/moni6264/test_mse_50/runs/mrv95sc1</a><br/>\n",
              "Find logs at: <code>./wandb/run-20220225_055035-mrv95sc1/logs</code><br/>\n"
            ],
            "text/plain": [
              "<IPython.core.display.HTML object>"
            ]
          },
          "metadata": {}
        },
        {
          "output_type": "stream",
          "name": "stderr",
          "text": [
            "\u001b[34m\u001b[1mwandb\u001b[0m: Agent Starting Run: 7tapx29q with config:\n",
            "\u001b[34m\u001b[1mwandb\u001b[0m: \tactivation: relu\n",
            "\u001b[34m\u001b[1mwandb\u001b[0m: \tbatch_size: 256\n",
            "\u001b[34m\u001b[1mwandb\u001b[0m: \tepochs: 10\n",
            "\u001b[34m\u001b[1mwandb\u001b[0m: \thidden_layer: [32, 64, 128]\n",
            "\u001b[34m\u001b[1mwandb\u001b[0m: \tinitilisation: xavier\n",
            "\u001b[34m\u001b[1mwandb\u001b[0m: \tlearning_rate: 0.01\n",
            "\u001b[34m\u001b[1mwandb\u001b[0m: \tloss_function: square_loss\n",
            "\u001b[34m\u001b[1mwandb\u001b[0m: \toptimiser: nadam\n",
            "\u001b[34m\u001b[1mwandb\u001b[0m: \tweight_decay: 0\n",
            "\u001b[34m\u001b[1mwandb\u001b[0m: \u001b[33mWARNING\u001b[0m Ignored wandb.init() arg project when running a sweep.\n",
            "\u001b[34m\u001b[1mwandb\u001b[0m: \u001b[33mWARNING\u001b[0m Ignored wandb.init() arg entity when running a sweep.\n"
          ]
        },
        {
          "output_type": "display_data",
          "data": {
            "text/html": [
              "\n",
              "                    Syncing run <strong><a href=\"https://wandb.ai/moni6264/test_mse_50/runs/7tapx29q\" target=\"_blank\">treasured-sweep-8</a></strong> to <a href=\"https://wandb.ai/moni6264/test_mse_50\" target=\"_blank\">Weights & Biases</a> (<a href=\"https://docs.wandb.com/integrations/jupyter.html\" target=\"_blank\">docs</a>).<br/>\n",
              "Sweep page: <a href=\"https://wandb.ai/moni6264/test_mse_50/sweeps/4hhn4fkp\" target=\"_blank\">https://wandb.ai/moni6264/test_mse_50/sweeps/4hhn4fkp</a><br/>\n",
              "\n",
              "                "
            ],
            "text/plain": [
              "<IPython.core.display.HTML object>"
            ]
          },
          "metadata": {}
        },
        {
          "output_type": "stream",
          "name": "stdout",
          "text": [
            "Epoch 0: training_accuracy = 10.02 %, training_loss= 0.89976  ,Validation accuracy = 9.78 ,Validation loss = 0.90217\n",
            "Epoch 1: training_accuracy = 10.02 %, training_loss= 0.89976  ,Validation accuracy = 9.78 ,Validation loss = 0.90217\n",
            "Epoch 2: training_accuracy = 10.02 %, training_loss= 0.89976  ,Validation accuracy = 9.78 ,Validation loss = 0.90217\n",
            "Epoch 3: training_accuracy = 10.02 %, training_loss= 0.89976  ,Validation accuracy = 9.78 ,Validation loss = 0.90217\n",
            "Epoch 4: training_accuracy = 10.02 %, training_loss= 0.89976  ,Validation accuracy = 9.78 ,Validation loss = 0.90217\n",
            "Epoch 5: training_accuracy = 10.02 %, training_loss= 0.89976  ,Validation accuracy = 9.78 ,Validation loss = 0.90217\n",
            "Epoch 6: training_accuracy = 10.02 %, training_loss= 0.89976  ,Validation accuracy = 9.78 ,Validation loss = 0.90217\n",
            "Epoch 7: training_accuracy = 10.02 %, training_loss= 0.89976  ,Validation accuracy = 9.78 ,Validation loss = 0.90217\n",
            "Epoch 8: training_accuracy = 10.02 %, training_loss= 0.89976  ,Validation accuracy = 9.78 ,Validation loss = 0.90217\n",
            "Epoch 9: training_accuracy = 10.02 %, training_loss= 0.89976  ,Validation accuracy = 9.78 ,Validation loss = 0.90217\n"
          ]
        },
        {
          "output_type": "display_data",
          "data": {
            "text/html": [
              "<br/>Waiting for W&B process to finish, PID 874... <strong style=\"color:green\">(success).</strong>"
            ],
            "text/plain": [
              "<IPython.core.display.HTML object>"
            ]
          },
          "metadata": {}
        },
        {
          "output_type": "display_data",
          "data": {
            "application/vnd.jupyter.widget-view+json": {
              "model_id": "544fb2cdb5c14b3c81debb2d32023304",
              "version_minor": 0,
              "version_major": 2
            },
            "text/plain": [
              "VBox(children=(Label(value=' 0.00MB of 0.00MB uploaded (0.00MB deduped)\\r'), FloatProgress(value=1.0, max=1.0)…"
            ]
          },
          "metadata": {}
        },
        {
          "output_type": "display_data",
          "data": {
            "text/html": [
              "<style>\n",
              "    table.wandb td:nth-child(1) { padding: 0 10px; text-align: right }\n",
              "    .wandb-row { display: flex; flex-direction: row; flex-wrap: wrap; width: 100% }\n",
              "    .wandb-col { display: flex; flex-direction: column; flex-basis: 100%; flex: 1; padding: 10px; }\n",
              "    </style>\n",
              "<div class=\"wandb-row\"><div class=\"wandb-col\">\n",
              "<h3>Run history:</h3><br/><table class=\"wandb\"><tr><td>steps</td><td>▁▁▁▁▁▁▁▁▁▁</td></tr><tr><td>train_accuracy</td><td>▁▁▁▁▁▁▁▁▁▁</td></tr><tr><td>train_loss</td><td>▁▁▁▁▁▁▁▁▁▁</td></tr><tr><td>val_accuracy</td><td>▁▁▁▁▁▁▁▁▁▁</td></tr><tr><td>val_loss</td><td>▁▁▁▁▁▁▁▁▁▁</td></tr></table><br/></div><div class=\"wandb-col\">\n",
              "<h3>Run summary:</h3><br/><table class=\"wandb\"><tr><td>steps</td><td>10</td></tr><tr><td>train_accuracy</td><td>10.024</td></tr><tr><td>train_loss</td><td>0.89976</td></tr><tr><td>val_accuracy</td><td>9.783</td></tr><tr><td>val_loss</td><td>0.90217</td></tr></table>\n",
              "</div></div>\n",
              "Synced 5 W&B file(s), 0 media file(s), 0 artifact file(s) and 0 other file(s)\n",
              "<br/>Synced <strong style=\"color:#cdcd00\">treasured-sweep-8</strong>: <a href=\"https://wandb.ai/moni6264/test_mse_50/runs/7tapx29q\" target=\"_blank\">https://wandb.ai/moni6264/test_mse_50/runs/7tapx29q</a><br/>\n",
              "Find logs at: <code>./wandb/run-20220225_055349-7tapx29q/logs</code><br/>\n"
            ],
            "text/plain": [
              "<IPython.core.display.HTML object>"
            ]
          },
          "metadata": {}
        },
        {
          "output_type": "stream",
          "name": "stderr",
          "text": [
            "\u001b[34m\u001b[1mwandb\u001b[0m: Agent Starting Run: wivixwd9 with config:\n",
            "\u001b[34m\u001b[1mwandb\u001b[0m: \tactivation: relu\n",
            "\u001b[34m\u001b[1mwandb\u001b[0m: \tbatch_size: 64\n",
            "\u001b[34m\u001b[1mwandb\u001b[0m: \tepochs: 20\n",
            "\u001b[34m\u001b[1mwandb\u001b[0m: \thidden_layer: [32, 64, 128]\n",
            "\u001b[34m\u001b[1mwandb\u001b[0m: \tinitilisation: xavier\n",
            "\u001b[34m\u001b[1mwandb\u001b[0m: \tlearning_rate: 0.01\n",
            "\u001b[34m\u001b[1mwandb\u001b[0m: \tloss_function: square_loss\n",
            "\u001b[34m\u001b[1mwandb\u001b[0m: \toptimiser: ngd\n",
            "\u001b[34m\u001b[1mwandb\u001b[0m: \tweight_decay: 0\n",
            "\u001b[34m\u001b[1mwandb\u001b[0m: \u001b[33mWARNING\u001b[0m Ignored wandb.init() arg project when running a sweep.\n",
            "\u001b[34m\u001b[1mwandb\u001b[0m: \u001b[33mWARNING\u001b[0m Ignored wandb.init() arg entity when running a sweep.\n"
          ]
        },
        {
          "output_type": "display_data",
          "data": {
            "text/html": [
              "\n",
              "                    Syncing run <strong><a href=\"https://wandb.ai/moni6264/test_mse_50/runs/wivixwd9\" target=\"_blank\">classic-sweep-9</a></strong> to <a href=\"https://wandb.ai/moni6264/test_mse_50\" target=\"_blank\">Weights & Biases</a> (<a href=\"https://docs.wandb.com/integrations/jupyter.html\" target=\"_blank\">docs</a>).<br/>\n",
              "Sweep page: <a href=\"https://wandb.ai/moni6264/test_mse_50/sweeps/4hhn4fkp\" target=\"_blank\">https://wandb.ai/moni6264/test_mse_50/sweeps/4hhn4fkp</a><br/>\n",
              "\n",
              "                "
            ],
            "text/plain": [
              "<IPython.core.display.HTML object>"
            ]
          },
          "metadata": {}
        },
        {
          "output_type": "stream",
          "name": "stdout",
          "text": [
            "Epoch 0: training_accuracy = 47.14 %, training_loss= 0.34372  ,Validation accuracy = 45.83 ,Validation loss = 0.34843\n",
            "Epoch 1: training_accuracy = 56.10 %, training_loss= 0.29090  ,Validation accuracy = 55.40 ,Validation loss = 0.29506\n",
            "Epoch 2: training_accuracy = 60.37 %, training_loss= 0.26516  ,Validation accuracy = 59.50 ,Validation loss = 0.26939\n",
            "Epoch 3: training_accuracy = 62.93 %, training_loss= 0.25109  ,Validation accuracy = 62.28 ,Validation loss = 0.25573\n",
            "Epoch 4: training_accuracy = 64.28 %, training_loss= 0.24257  ,Validation accuracy = 64.17 ,Validation loss = 0.24736\n",
            "Epoch 5: training_accuracy = 65.35 %, training_loss= 0.23662  ,Validation accuracy = 64.83 ,Validation loss = 0.24144\n",
            "Epoch 6: training_accuracy = 66.04 %, training_loss= 0.23211  ,Validation accuracy = 65.85 ,Validation loss = 0.23694\n",
            "Epoch 7: training_accuracy = 66.59 %, training_loss= 0.22853  ,Validation accuracy = 66.60 ,Validation loss = 0.23334\n",
            "Epoch 8: training_accuracy = 67.07 %, training_loss= 0.22557  ,Validation accuracy = 67.00 ,Validation loss = 0.23037\n",
            "Epoch 9: training_accuracy = 67.46 %, training_loss= 0.22307  ,Validation accuracy = 67.13 ,Validation loss = 0.22785\n",
            "Epoch 10: training_accuracy = 67.84 %, training_loss= 0.22093  ,Validation accuracy = 67.52 ,Validation loss = 0.22568\n",
            "Epoch 11: training_accuracy = 68.15 %, training_loss= 0.21907  ,Validation accuracy = 67.98 ,Validation loss = 0.22379\n",
            "Epoch 12: training_accuracy = 68.45 %, training_loss= 0.21743  ,Validation accuracy = 68.30 ,Validation loss = 0.22212\n",
            "Epoch 13: training_accuracy = 68.64 %, training_loss= 0.21598  ,Validation accuracy = 68.53 ,Validation loss = 0.22065\n",
            "Epoch 14: training_accuracy = 68.81 %, training_loss= 0.21469  ,Validation accuracy = 68.77 ,Validation loss = 0.21932\n",
            "Epoch 15: training_accuracy = 68.99 %, training_loss= 0.21353  ,Validation accuracy = 68.80 ,Validation loss = 0.21813\n",
            "Epoch 16: training_accuracy = 69.18 %, training_loss= 0.21248  ,Validation accuracy = 68.98 ,Validation loss = 0.21705\n",
            "Epoch 17: training_accuracy = 69.30 %, training_loss= 0.21152  ,Validation accuracy = 69.23 ,Validation loss = 0.21607\n",
            "Epoch 18: training_accuracy = 69.41 %, training_loss= 0.21065  ,Validation accuracy = 69.33 ,Validation loss = 0.21517\n",
            "Epoch 19: training_accuracy = 69.54 %, training_loss= 0.20985  ,Validation accuracy = 69.47 ,Validation loss = 0.21435\n"
          ]
        },
        {
          "output_type": "display_data",
          "data": {
            "text/html": [
              "<br/>Waiting for W&B process to finish, PID 913... <strong style=\"color:green\">(success).</strong>"
            ],
            "text/plain": [
              "<IPython.core.display.HTML object>"
            ]
          },
          "metadata": {}
        },
        {
          "output_type": "display_data",
          "data": {
            "application/vnd.jupyter.widget-view+json": {
              "model_id": "467105aef24c413a83d1a0bf20acdac2",
              "version_minor": 0,
              "version_major": 2
            },
            "text/plain": [
              "VBox(children=(Label(value=' 0.00MB of 0.00MB uploaded (0.00MB deduped)\\r'), FloatProgress(value=1.0, max=1.0)…"
            ]
          },
          "metadata": {}
        },
        {
          "output_type": "display_data",
          "data": {
            "text/html": [
              "<style>\n",
              "    table.wandb td:nth-child(1) { padding: 0 10px; text-align: right }\n",
              "    .wandb-row { display: flex; flex-direction: row; flex-wrap: wrap; width: 100% }\n",
              "    .wandb-col { display: flex; flex-direction: column; flex-basis: 100%; flex: 1; padding: 10px; }\n",
              "    </style>\n",
              "<div class=\"wandb-row\"><div class=\"wandb-col\">\n",
              "<h3>Run history:</h3><br/><table class=\"wandb\"><tr><td>steps</td><td>▁▁▁▁▁▁▁▁▁▁▁▁▁▁▁▁▁▁▁▁</td></tr><tr><td>train_accuracy</td><td>▁▄▅▆▆▇▇▇▇▇▇█████████</td></tr><tr><td>train_loss</td><td>█▅▄▃▃▂▂▂▂▂▂▁▁▁▁▁▁▁▁▁</td></tr><tr><td>val_accuracy</td><td>▁▄▅▆▆▇▇▇▇▇▇█████████</td></tr><tr><td>val_loss</td><td>█▅▄▃▃▂▂▂▂▂▂▁▁▁▁▁▁▁▁▁</td></tr></table><br/></div><div class=\"wandb-col\">\n",
              "<h3>Run summary:</h3><br/><table class=\"wandb\"><tr><td>steps</td><td>20</td></tr><tr><td>train_accuracy</td><td>69.541</td></tr><tr><td>train_loss</td><td>0.20985</td></tr><tr><td>val_accuracy</td><td>69.467</td></tr><tr><td>val_loss</td><td>0.21435</td></tr></table>\n",
              "</div></div>\n",
              "Synced 5 W&B file(s), 0 media file(s), 0 artifact file(s) and 0 other file(s)\n",
              "<br/>Synced <strong style=\"color:#cdcd00\">classic-sweep-9</strong>: <a href=\"https://wandb.ai/moni6264/test_mse_50/runs/wivixwd9\" target=\"_blank\">https://wandb.ai/moni6264/test_mse_50/runs/wivixwd9</a><br/>\n",
              "Find logs at: <code>./wandb/run-20220225_055446-wivixwd9/logs</code><br/>\n"
            ],
            "text/plain": [
              "<IPython.core.display.HTML object>"
            ]
          },
          "metadata": {}
        },
        {
          "output_type": "stream",
          "name": "stderr",
          "text": [
            "\u001b[34m\u001b[1mwandb\u001b[0m: Agent Starting Run: ajt6esb5 with config:\n",
            "\u001b[34m\u001b[1mwandb\u001b[0m: \tactivation: tanh\n",
            "\u001b[34m\u001b[1mwandb\u001b[0m: \tbatch_size: 128\n",
            "\u001b[34m\u001b[1mwandb\u001b[0m: \tepochs: 15\n",
            "\u001b[34m\u001b[1mwandb\u001b[0m: \thidden_layer: [128, 128, 128]\n",
            "\u001b[34m\u001b[1mwandb\u001b[0m: \tinitilisation: xavier\n",
            "\u001b[34m\u001b[1mwandb\u001b[0m: \tlearning_rate: 0.01\n",
            "\u001b[34m\u001b[1mwandb\u001b[0m: \tloss_function: square_loss\n",
            "\u001b[34m\u001b[1mwandb\u001b[0m: \toptimiser: rmsprop\n",
            "\u001b[34m\u001b[1mwandb\u001b[0m: \tweight_decay: 0.0005\n",
            "\u001b[34m\u001b[1mwandb\u001b[0m: \u001b[33mWARNING\u001b[0m Ignored wandb.init() arg project when running a sweep.\n",
            "\u001b[34m\u001b[1mwandb\u001b[0m: \u001b[33mWARNING\u001b[0m Ignored wandb.init() arg entity when running a sweep.\n"
          ]
        },
        {
          "output_type": "display_data",
          "data": {
            "text/html": [
              "\n",
              "                    Syncing run <strong><a href=\"https://wandb.ai/moni6264/test_mse_50/runs/ajt6esb5\" target=\"_blank\">graceful-sweep-10</a></strong> to <a href=\"https://wandb.ai/moni6264/test_mse_50\" target=\"_blank\">Weights & Biases</a> (<a href=\"https://docs.wandb.com/integrations/jupyter.html\" target=\"_blank\">docs</a>).<br/>\n",
              "Sweep page: <a href=\"https://wandb.ai/moni6264/test_mse_50/sweeps/4hhn4fkp\" target=\"_blank\">https://wandb.ai/moni6264/test_mse_50/sweeps/4hhn4fkp</a><br/>\n",
              "\n",
              "                "
            ],
            "text/plain": [
              "<IPython.core.display.HTML object>"
            ]
          },
          "metadata": {}
        },
        {
          "output_type": "stream",
          "name": "stdout",
          "text": [
            "Epoch 0: training_accuracy = 30.02 %, training_loss= 0.43762  ,Validation accuracy = 29.53 ,Validation loss = 0.43877\n",
            "Epoch 1: training_accuracy = 10.15 %, training_loss= 0.58547  ,Validation accuracy = 10.30 ,Validation loss = 0.58513\n",
            "Epoch 2: training_accuracy = 17.30 %, training_loss= 0.46793  ,Validation accuracy = 17.45 ,Validation loss = 0.46998\n"
          ]
        },
        {
          "output_type": "stream",
          "name": "stderr",
          "text": [
            "/usr/local/lib/python3.7/dist-packages/ipykernel_launcher.py:26: RuntimeWarning: invalid value encountered in true_divide\n"
          ]
        },
        {
          "output_type": "stream",
          "name": "stdout",
          "text": [
            "Epoch 3: training_accuracy = 10.01 %, training_loss= nan  ,Validation accuracy = 9.95 ,Validation loss = nan\n",
            "Epoch 4: training_accuracy = 10.01 %, training_loss= nan  ,Validation accuracy = 9.95 ,Validation loss = nan\n",
            "Epoch 5: training_accuracy = 10.01 %, training_loss= nan  ,Validation accuracy = 9.95 ,Validation loss = nan\n",
            "Epoch 6: training_accuracy = 10.01 %, training_loss= nan  ,Validation accuracy = 9.95 ,Validation loss = nan\n",
            "Epoch 7: training_accuracy = 10.01 %, training_loss= nan  ,Validation accuracy = 9.95 ,Validation loss = nan\n",
            "Epoch 8: training_accuracy = 10.01 %, training_loss= nan  ,Validation accuracy = 9.95 ,Validation loss = nan\n",
            "Epoch 9: training_accuracy = 10.01 %, training_loss= nan  ,Validation accuracy = 9.95 ,Validation loss = nan\n",
            "Epoch 10: training_accuracy = 10.01 %, training_loss= nan  ,Validation accuracy = 9.95 ,Validation loss = nan\n",
            "Epoch 11: training_accuracy = 10.01 %, training_loss= nan  ,Validation accuracy = 9.95 ,Validation loss = nan\n",
            "Epoch 12: training_accuracy = 10.01 %, training_loss= nan  ,Validation accuracy = 9.95 ,Validation loss = nan\n",
            "Epoch 13: training_accuracy = 10.01 %, training_loss= nan  ,Validation accuracy = 9.95 ,Validation loss = nan\n",
            "Epoch 14: training_accuracy = 10.01 %, training_loss= nan  ,Validation accuracy = 9.95 ,Validation loss = nan\n"
          ]
        },
        {
          "output_type": "display_data",
          "data": {
            "text/html": [
              "<br/>Waiting for W&B process to finish, PID 952... <strong style=\"color:green\">(success).</strong>"
            ],
            "text/plain": [
              "<IPython.core.display.HTML object>"
            ]
          },
          "metadata": {}
        },
        {
          "output_type": "display_data",
          "data": {
            "application/vnd.jupyter.widget-view+json": {
              "model_id": "1b2c1afbece04dc69210a0e9861cb2a2",
              "version_minor": 0,
              "version_major": 2
            },
            "text/plain": [
              "VBox(children=(Label(value=' 0.00MB of 0.00MB uploaded (0.00MB deduped)\\r'), FloatProgress(value=1.0, max=1.0)…"
            ]
          },
          "metadata": {}
        },
        {
          "output_type": "display_data",
          "data": {
            "text/html": [
              "<style>\n",
              "    table.wandb td:nth-child(1) { padding: 0 10px; text-align: right }\n",
              "    .wandb-row { display: flex; flex-direction: row; flex-wrap: wrap; width: 100% }\n",
              "    .wandb-col { display: flex; flex-direction: column; flex-basis: 100%; flex: 1; padding: 10px; }\n",
              "    </style>\n",
              "<div class=\"wandb-row\"><div class=\"wandb-col\">\n",
              "<h3>Run history:</h3><br/><table class=\"wandb\"><tr><td>steps</td><td>▁▁▁▁▁▁▁▁▁▁▁▁▁▁▁</td></tr><tr><td>train_accuracy</td><td>█▁▄▁▁▁▁▁▁▁▁▁▁▁▁</td></tr><tr><td>train_loss</td><td>▁█▂            </td></tr><tr><td>val_accuracy</td><td>█▁▄▁▁▁▁▁▁▁▁▁▁▁▁</td></tr><tr><td>val_loss</td><td>▁█▂            </td></tr></table><br/></div><div class=\"wandb-col\">\n",
              "<h3>Run summary:</h3><br/><table class=\"wandb\"><tr><td>steps</td><td>15</td></tr><tr><td>train_accuracy</td><td>10.006</td></tr><tr><td>train_loss</td><td>nan</td></tr><tr><td>val_accuracy</td><td>9.95</td></tr><tr><td>val_loss</td><td>nan</td></tr></table>\n",
              "</div></div>\n",
              "Synced 5 W&B file(s), 0 media file(s), 0 artifact file(s) and 0 other file(s)\n",
              "<br/>Synced <strong style=\"color:#cdcd00\">graceful-sweep-10</strong>: <a href=\"https://wandb.ai/moni6264/test_mse_50/runs/ajt6esb5\" target=\"_blank\">https://wandb.ai/moni6264/test_mse_50/runs/ajt6esb5</a><br/>\n",
              "Find logs at: <code>./wandb/run-20220225_055718-ajt6esb5/logs</code><br/>\n"
            ],
            "text/plain": [
              "<IPython.core.display.HTML object>"
            ]
          },
          "metadata": {}
        },
        {
          "output_type": "stream",
          "name": "stderr",
          "text": [
            "\u001b[34m\u001b[1mwandb\u001b[0m: Agent Starting Run: 6v23pc0j with config:\n",
            "\u001b[34m\u001b[1mwandb\u001b[0m: \tactivation: relu\n",
            "\u001b[34m\u001b[1mwandb\u001b[0m: \tbatch_size: 64\n",
            "\u001b[34m\u001b[1mwandb\u001b[0m: \tepochs: 20\n",
            "\u001b[34m\u001b[1mwandb\u001b[0m: \thidden_layer: [128, 128, 128]\n",
            "\u001b[34m\u001b[1mwandb\u001b[0m: \tinitilisation: xavier\n",
            "\u001b[34m\u001b[1mwandb\u001b[0m: \tlearning_rate: 0.001\n",
            "\u001b[34m\u001b[1mwandb\u001b[0m: \tloss_function: square_loss\n",
            "\u001b[34m\u001b[1mwandb\u001b[0m: \toptimiser: adam\n",
            "\u001b[34m\u001b[1mwandb\u001b[0m: \tweight_decay: 0\n",
            "\u001b[34m\u001b[1mwandb\u001b[0m: \u001b[33mWARNING\u001b[0m Ignored wandb.init() arg project when running a sweep.\n",
            "\u001b[34m\u001b[1mwandb\u001b[0m: \u001b[33mWARNING\u001b[0m Ignored wandb.init() arg entity when running a sweep.\n"
          ]
        },
        {
          "output_type": "display_data",
          "data": {
            "text/html": [
              "\n",
              "                    Syncing run <strong><a href=\"https://wandb.ai/moni6264/test_mse_50/runs/6v23pc0j\" target=\"_blank\">clear-sweep-11</a></strong> to <a href=\"https://wandb.ai/moni6264/test_mse_50\" target=\"_blank\">Weights & Biases</a> (<a href=\"https://docs.wandb.com/integrations/jupyter.html\" target=\"_blank\">docs</a>).<br/>\n",
              "Sweep page: <a href=\"https://wandb.ai/moni6264/test_mse_50/sweeps/4hhn4fkp\" target=\"_blank\">https://wandb.ai/moni6264/test_mse_50/sweeps/4hhn4fkp</a><br/>\n",
              "\n",
              "                "
            ],
            "text/plain": [
              "<IPython.core.display.HTML object>"
            ]
          },
          "metadata": {}
        },
        {
          "output_type": "stream",
          "name": "stdout",
          "text": [
            "Epoch 0: training_accuracy = 67.67 %, training_loss= 0.22317  ,Validation accuracy = 67.53 ,Validation loss = 0.22573\n",
            "Epoch 1: training_accuracy = 70.72 %, training_loss= 0.20465  ,Validation accuracy = 70.53 ,Validation loss = 0.20753\n",
            "Epoch 2: training_accuracy = 71.75 %, training_loss= 0.19731  ,Validation accuracy = 71.13 ,Validation loss = 0.20104\n",
            "Epoch 3: training_accuracy = 72.60 %, training_loss= 0.19180  ,Validation accuracy = 71.80 ,Validation loss = 0.19625\n",
            "Epoch 4: training_accuracy = 73.11 %, training_loss= 0.18777  ,Validation accuracy = 72.28 ,Validation loss = 0.19250\n",
            "Epoch 5: training_accuracy = 73.57 %, training_loss= 0.18446  ,Validation accuracy = 72.83 ,Validation loss = 0.18952\n",
            "Epoch 6: training_accuracy = 73.95 %, training_loss= 0.18179  ,Validation accuracy = 73.20 ,Validation loss = 0.18722\n",
            "Epoch 7: training_accuracy = 74.25 %, training_loss= 0.17962  ,Validation accuracy = 73.47 ,Validation loss = 0.18539\n",
            "Epoch 8: training_accuracy = 74.47 %, training_loss= 0.17782  ,Validation accuracy = 73.62 ,Validation loss = 0.18385\n",
            "Epoch 9: training_accuracy = 74.69 %, training_loss= 0.17631  ,Validation accuracy = 73.78 ,Validation loss = 0.18248\n",
            "Epoch 10: training_accuracy = 74.88 %, training_loss= 0.17499  ,Validation accuracy = 73.88 ,Validation loss = 0.18132\n",
            "Epoch 11: training_accuracy = 75.03 %, training_loss= 0.17378  ,Validation accuracy = 73.92 ,Validation loss = 0.18031\n",
            "Epoch 12: training_accuracy = 75.17 %, training_loss= 0.17272  ,Validation accuracy = 74.08 ,Validation loss = 0.17941\n",
            "Epoch 13: training_accuracy = 75.37 %, training_loss= 0.17172  ,Validation accuracy = 74.17 ,Validation loss = 0.17857\n",
            "Epoch 14: training_accuracy = 75.52 %, training_loss= 0.17080  ,Validation accuracy = 74.33 ,Validation loss = 0.17787\n",
            "Epoch 15: training_accuracy = 75.64 %, training_loss= 0.16995  ,Validation accuracy = 74.50 ,Validation loss = 0.17722\n"
          ]
        },
        {
          "output_type": "stream",
          "name": "stderr",
          "text": [
            "/usr/local/lib/python3.7/dist-packages/ipykernel_launcher.py:26: RuntimeWarning: invalid value encountered in true_divide\n"
          ]
        },
        {
          "output_type": "stream",
          "name": "stdout",
          "text": [
            "Epoch 16: training_accuracy = 10.01 %, training_loss= nan  ,Validation accuracy = 9.95 ,Validation loss = nan\n",
            "Epoch 17: training_accuracy = 10.01 %, training_loss= nan  ,Validation accuracy = 9.95 ,Validation loss = nan\n",
            "Epoch 18: training_accuracy = 10.01 %, training_loss= nan  ,Validation accuracy = 9.95 ,Validation loss = nan\n",
            "Epoch 19: training_accuracy = 10.01 %, training_loss= nan  ,Validation accuracy = 9.95 ,Validation loss = nan\n"
          ]
        },
        {
          "output_type": "display_data",
          "data": {
            "text/html": [
              "<br/>Waiting for W&B process to finish, PID 991... <strong style=\"color:green\">(success).</strong>"
            ],
            "text/plain": [
              "<IPython.core.display.HTML object>"
            ]
          },
          "metadata": {}
        },
        {
          "output_type": "display_data",
          "data": {
            "application/vnd.jupyter.widget-view+json": {
              "model_id": "4a8c3013fafb4bf686e2dd80dd73ca5b",
              "version_minor": 0,
              "version_major": 2
            },
            "text/plain": [
              "VBox(children=(Label(value=' 0.00MB of 0.00MB uploaded (0.00MB deduped)\\r'), FloatProgress(value=1.0, max=1.0)…"
            ]
          },
          "metadata": {}
        },
        {
          "output_type": "display_data",
          "data": {
            "text/html": [
              "<style>\n",
              "    table.wandb td:nth-child(1) { padding: 0 10px; text-align: right }\n",
              "    .wandb-row { display: flex; flex-direction: row; flex-wrap: wrap; width: 100% }\n",
              "    .wandb-col { display: flex; flex-direction: column; flex-basis: 100%; flex: 1; padding: 10px; }\n",
              "    </style>\n",
              "<div class=\"wandb-row\"><div class=\"wandb-col\">\n",
              "<h3>Run history:</h3><br/><table class=\"wandb\"><tr><td>steps</td><td>▁▁▁▁▁▁▁▁▁▁▁▁▁▁▁▁▁▁▁▁</td></tr><tr><td>train_accuracy</td><td>▇▇██████████████▁▁▁▁</td></tr><tr><td>train_loss</td><td>█▆▅▄▃▃▃▂▂▂▂▂▁▁▁▁    </td></tr><tr><td>val_accuracy</td><td>▇███████████████▁▁▁▁</td></tr><tr><td>val_loss</td><td>█▅▄▄▃▃▂▂▂▂▂▁▁▁▁▁    </td></tr></table><br/></div><div class=\"wandb-col\">\n",
              "<h3>Run summary:</h3><br/><table class=\"wandb\"><tr><td>steps</td><td>20</td></tr><tr><td>train_accuracy</td><td>10.006</td></tr><tr><td>train_loss</td><td>nan</td></tr><tr><td>val_accuracy</td><td>9.95</td></tr><tr><td>val_loss</td><td>nan</td></tr></table>\n",
              "</div></div>\n",
              "Synced 5 W&B file(s), 0 media file(s), 0 artifact file(s) and 0 other file(s)\n",
              "<br/>Synced <strong style=\"color:#cdcd00\">clear-sweep-11</strong>: <a href=\"https://wandb.ai/moni6264/test_mse_50/runs/6v23pc0j\" target=\"_blank\">https://wandb.ai/moni6264/test_mse_50/runs/6v23pc0j</a><br/>\n",
              "Find logs at: <code>./wandb/run-20220225_055924-6v23pc0j/logs</code><br/>\n"
            ],
            "text/plain": [
              "<IPython.core.display.HTML object>"
            ]
          },
          "metadata": {}
        },
        {
          "output_type": "stream",
          "name": "stderr",
          "text": [
            "\u001b[34m\u001b[1mwandb\u001b[0m: Agent Starting Run: a8omsbaa with config:\n",
            "\u001b[34m\u001b[1mwandb\u001b[0m: \tactivation: sigmoid\n",
            "\u001b[34m\u001b[1mwandb\u001b[0m: \tbatch_size: 64\n",
            "\u001b[34m\u001b[1mwandb\u001b[0m: \tepochs: 15\n",
            "\u001b[34m\u001b[1mwandb\u001b[0m: \thidden_layer: [128, 128, 128]\n",
            "\u001b[34m\u001b[1mwandb\u001b[0m: \tinitilisation: xavier\n",
            "\u001b[34m\u001b[1mwandb\u001b[0m: \tlearning_rate: 0.01\n",
            "\u001b[34m\u001b[1mwandb\u001b[0m: \tloss_function: square_loss\n",
            "\u001b[34m\u001b[1mwandb\u001b[0m: \toptimiser: ngd\n",
            "\u001b[34m\u001b[1mwandb\u001b[0m: \tweight_decay: 0.0005\n",
            "\u001b[34m\u001b[1mwandb\u001b[0m: \u001b[33mWARNING\u001b[0m Ignored wandb.init() arg project when running a sweep.\n",
            "\u001b[34m\u001b[1mwandb\u001b[0m: \u001b[33mWARNING\u001b[0m Ignored wandb.init() arg entity when running a sweep.\n"
          ]
        },
        {
          "output_type": "display_data",
          "data": {
            "text/html": [
              "\n",
              "                    Syncing run <strong><a href=\"https://wandb.ai/moni6264/test_mse_50/runs/a8omsbaa\" target=\"_blank\">golden-sweep-12</a></strong> to <a href=\"https://wandb.ai/moni6264/test_mse_50\" target=\"_blank\">Weights & Biases</a> (<a href=\"https://docs.wandb.com/integrations/jupyter.html\" target=\"_blank\">docs</a>).<br/>\n",
              "Sweep page: <a href=\"https://wandb.ai/moni6264/test_mse_50/sweeps/4hhn4fkp\" target=\"_blank\">https://wandb.ai/moni6264/test_mse_50/sweeps/4hhn4fkp</a><br/>\n",
              "\n",
              "                "
            ],
            "text/plain": [
              "<IPython.core.display.HTML object>"
            ]
          },
          "metadata": {}
        },
        {
          "output_type": "stream",
          "name": "stdout",
          "text": [
            "Epoch 0: training_accuracy = 16.24 %, training_loss= 0.45072  ,Validation accuracy = 16.70 ,Validation loss = 0.45053\n",
            "Epoch 1: training_accuracy = 17.83 %, training_loss= 0.45021  ,Validation accuracy = 18.22 ,Validation loss = 0.45002\n",
            "Epoch 2: training_accuracy = 19.33 %, training_loss= 0.44971  ,Validation accuracy = 19.80 ,Validation loss = 0.44954\n",
            "Epoch 3: training_accuracy = 20.86 %, training_loss= 0.44923  ,Validation accuracy = 21.52 ,Validation loss = 0.44906\n",
            "Epoch 4: training_accuracy = 22.42 %, training_loss= 0.44876  ,Validation accuracy = 23.20 ,Validation loss = 0.44860\n",
            "Epoch 5: training_accuracy = 23.85 %, training_loss= 0.44831  ,Validation accuracy = 24.58 ,Validation loss = 0.44815\n",
            "Epoch 6: training_accuracy = 25.30 %, training_loss= 0.44787  ,Validation accuracy = 25.90 ,Validation loss = 0.44772\n",
            "Epoch 7: training_accuracy = 26.57 %, training_loss= 0.44744  ,Validation accuracy = 27.12 ,Validation loss = 0.44730\n",
            "Epoch 8: training_accuracy = 27.60 %, training_loss= 0.44703  ,Validation accuracy = 28.12 ,Validation loss = 0.44689\n",
            "Epoch 9: training_accuracy = 28.45 %, training_loss= 0.44662  ,Validation accuracy = 28.97 ,Validation loss = 0.44650\n",
            "Epoch 10: training_accuracy = 29.15 %, training_loss= 0.44624  ,Validation accuracy = 29.55 ,Validation loss = 0.44611\n",
            "Epoch 11: training_accuracy = 29.69 %, training_loss= 0.44586  ,Validation accuracy = 30.37 ,Validation loss = 0.44574\n",
            "Epoch 12: training_accuracy = 30.15 %, training_loss= 0.44549  ,Validation accuracy = 30.98 ,Validation loss = 0.44539\n",
            "Epoch 13: training_accuracy = 30.52 %, training_loss= 0.44514  ,Validation accuracy = 31.32 ,Validation loss = 0.44504\n",
            "Epoch 14: training_accuracy = 30.89 %, training_loss= 0.44480  ,Validation accuracy = 31.72 ,Validation loss = 0.44470\n"
          ]
        },
        {
          "output_type": "display_data",
          "data": {
            "text/html": [
              "<br/>Waiting for W&B process to finish, PID 1036... <strong style=\"color:green\">(success).</strong>"
            ],
            "text/plain": [
              "<IPython.core.display.HTML object>"
            ]
          },
          "metadata": {}
        },
        {
          "output_type": "display_data",
          "data": {
            "application/vnd.jupyter.widget-view+json": {
              "model_id": "a67994d94969471e8108dd56f156bca3",
              "version_minor": 0,
              "version_major": 2
            },
            "text/plain": [
              "VBox(children=(Label(value=' 0.00MB of 0.00MB uploaded (0.00MB deduped)\\r'), FloatProgress(value=1.0, max=1.0)…"
            ]
          },
          "metadata": {}
        },
        {
          "output_type": "display_data",
          "data": {
            "text/html": [
              "<style>\n",
              "    table.wandb td:nth-child(1) { padding: 0 10px; text-align: right }\n",
              "    .wandb-row { display: flex; flex-direction: row; flex-wrap: wrap; width: 100% }\n",
              "    .wandb-col { display: flex; flex-direction: column; flex-basis: 100%; flex: 1; padding: 10px; }\n",
              "    </style>\n",
              "<div class=\"wandb-row\"><div class=\"wandb-col\">\n",
              "<h3>Run history:</h3><br/><table class=\"wandb\"><tr><td>steps</td><td>▁▁▁▁▁▁▁▁▁▁▁▁▁▁▁</td></tr><tr><td>train_accuracy</td><td>▁▂▂▃▄▅▅▆▆▇▇▇███</td></tr><tr><td>train_loss</td><td>█▇▇▆▆▅▅▄▄▃▃▂▂▁▁</td></tr><tr><td>val_accuracy</td><td>▁▂▂▃▄▅▅▆▆▇▇▇███</td></tr><tr><td>val_loss</td><td>█▇▇▆▆▅▅▄▄▃▃▂▂▁▁</td></tr></table><br/></div><div class=\"wandb-col\">\n",
              "<h3>Run summary:</h3><br/><table class=\"wandb\"><tr><td>steps</td><td>15</td></tr><tr><td>train_accuracy</td><td>30.885</td></tr><tr><td>train_loss</td><td>0.4448</td></tr><tr><td>val_accuracy</td><td>31.717</td></tr><tr><td>val_loss</td><td>0.4447</td></tr></table>\n",
              "</div></div>\n",
              "Synced 5 W&B file(s), 0 media file(s), 0 artifact file(s) and 0 other file(s)\n",
              "<br/>Synced <strong style=\"color:#cdcd00\">golden-sweep-12</strong>: <a href=\"https://wandb.ai/moni6264/test_mse_50/runs/a8omsbaa\" target=\"_blank\">https://wandb.ai/moni6264/test_mse_50/runs/a8omsbaa</a><br/>\n",
              "Find logs at: <code>./wandb/run-20220225_060304-a8omsbaa/logs</code><br/>\n"
            ],
            "text/plain": [
              "<IPython.core.display.HTML object>"
            ]
          },
          "metadata": {}
        },
        {
          "output_type": "stream",
          "name": "stderr",
          "text": [
            "\u001b[34m\u001b[1mwandb\u001b[0m: Agent Starting Run: z1cxboaq with config:\n",
            "\u001b[34m\u001b[1mwandb\u001b[0m: \tactivation: relu\n",
            "\u001b[34m\u001b[1mwandb\u001b[0m: \tbatch_size: 128\n",
            "\u001b[34m\u001b[1mwandb\u001b[0m: \tepochs: 15\n",
            "\u001b[34m\u001b[1mwandb\u001b[0m: \thidden_layer: [32, 64, 128, 256]\n",
            "\u001b[34m\u001b[1mwandb\u001b[0m: \tinitilisation: xavier\n",
            "\u001b[34m\u001b[1mwandb\u001b[0m: \tlearning_rate: 0.01\n",
            "\u001b[34m\u001b[1mwandb\u001b[0m: \tloss_function: square_loss\n",
            "\u001b[34m\u001b[1mwandb\u001b[0m: \toptimiser: adam\n",
            "\u001b[34m\u001b[1mwandb\u001b[0m: \tweight_decay: 0.5\n",
            "\u001b[34m\u001b[1mwandb\u001b[0m: \u001b[33mWARNING\u001b[0m Ignored wandb.init() arg project when running a sweep.\n",
            "\u001b[34m\u001b[1mwandb\u001b[0m: \u001b[33mWARNING\u001b[0m Ignored wandb.init() arg entity when running a sweep.\n"
          ]
        },
        {
          "output_type": "display_data",
          "data": {
            "text/html": [
              "\n",
              "                    Syncing run <strong><a href=\"https://wandb.ai/moni6264/test_mse_50/runs/z1cxboaq\" target=\"_blank\">stilted-sweep-13</a></strong> to <a href=\"https://wandb.ai/moni6264/test_mse_50\" target=\"_blank\">Weights & Biases</a> (<a href=\"https://docs.wandb.com/integrations/jupyter.html\" target=\"_blank\">docs</a>).<br/>\n",
              "Sweep page: <a href=\"https://wandb.ai/moni6264/test_mse_50/sweeps/4hhn4fkp\" target=\"_blank\">https://wandb.ai/moni6264/test_mse_50/sweeps/4hhn4fkp</a><br/>\n",
              "\n",
              "                "
            ],
            "text/plain": [
              "<IPython.core.display.HTML object>"
            ]
          },
          "metadata": {}
        },
        {
          "output_type": "stream",
          "name": "stderr",
          "text": [
            "/usr/local/lib/python3.7/dist-packages/ipykernel_launcher.py:26: RuntimeWarning: invalid value encountered in true_divide\n"
          ]
        },
        {
          "output_type": "stream",
          "name": "stdout",
          "text": [
            "Epoch 0: training_accuracy = 10.01 %, training_loss= nan  ,Validation accuracy = 9.95 ,Validation loss = nan\n",
            "Epoch 1: training_accuracy = 10.01 %, training_loss= nan  ,Validation accuracy = 9.95 ,Validation loss = nan\n",
            "Epoch 2: training_accuracy = 10.01 %, training_loss= nan  ,Validation accuracy = 9.95 ,Validation loss = nan\n",
            "Epoch 3: training_accuracy = 10.01 %, training_loss= nan  ,Validation accuracy = 9.95 ,Validation loss = nan\n",
            "Epoch 4: training_accuracy = 10.01 %, training_loss= nan  ,Validation accuracy = 9.95 ,Validation loss = nan\n",
            "Epoch 5: training_accuracy = 10.01 %, training_loss= nan  ,Validation accuracy = 9.95 ,Validation loss = nan\n",
            "Epoch 6: training_accuracy = 10.01 %, training_loss= nan  ,Validation accuracy = 9.95 ,Validation loss = nan\n",
            "Epoch 7: training_accuracy = 10.01 %, training_loss= nan  ,Validation accuracy = 9.95 ,Validation loss = nan\n",
            "Epoch 8: training_accuracy = 10.01 %, training_loss= nan  ,Validation accuracy = 9.95 ,Validation loss = nan\n",
            "Epoch 9: training_accuracy = 10.01 %, training_loss= nan  ,Validation accuracy = 9.95 ,Validation loss = nan\n",
            "Epoch 10: training_accuracy = 10.01 %, training_loss= nan  ,Validation accuracy = 9.95 ,Validation loss = nan\n",
            "Epoch 11: training_accuracy = 10.01 %, training_loss= nan  ,Validation accuracy = 9.95 ,Validation loss = nan\n",
            "Epoch 12: training_accuracy = 10.01 %, training_loss= nan  ,Validation accuracy = 9.95 ,Validation loss = nan\n",
            "Epoch 13: training_accuracy = 10.01 %, training_loss= nan  ,Validation accuracy = 9.95 ,Validation loss = nan\n",
            "Epoch 14: training_accuracy = 10.01 %, training_loss= nan  ,Validation accuracy = 9.95 ,Validation loss = nan\n"
          ]
        },
        {
          "output_type": "display_data",
          "data": {
            "text/html": [
              "<br/>Waiting for W&B process to finish, PID 1075... <strong style=\"color:green\">(success).</strong>"
            ],
            "text/plain": [
              "<IPython.core.display.HTML object>"
            ]
          },
          "metadata": {}
        },
        {
          "output_type": "display_data",
          "data": {
            "application/vnd.jupyter.widget-view+json": {
              "model_id": "b23a097efb064063811d55dfc0f56a52",
              "version_minor": 0,
              "version_major": 2
            },
            "text/plain": [
              "VBox(children=(Label(value=' 0.00MB of 0.00MB uploaded (0.00MB deduped)\\r'), FloatProgress(value=1.0, max=1.0)…"
            ]
          },
          "metadata": {}
        },
        {
          "output_type": "display_data",
          "data": {
            "text/html": [
              "<style>\n",
              "    table.wandb td:nth-child(1) { padding: 0 10px; text-align: right }\n",
              "    .wandb-row { display: flex; flex-direction: row; flex-wrap: wrap; width: 100% }\n",
              "    .wandb-col { display: flex; flex-direction: column; flex-basis: 100%; flex: 1; padding: 10px; }\n",
              "    </style>\n",
              "<div class=\"wandb-row\"><div class=\"wandb-col\">\n",
              "<h3>Run history:</h3><br/><table class=\"wandb\"><tr><td>steps</td><td>▁▁▁▁▁▁▁▁▁▁▁▁▁▁▁</td></tr><tr><td>train_accuracy</td><td>▁▁▁▁▁▁▁▁▁▁▁▁▁▁▁</td></tr><tr><td>train_loss</td><td></td></tr><tr><td>val_accuracy</td><td>▁▁▁▁▁▁▁▁▁▁▁▁▁▁▁</td></tr><tr><td>val_loss</td><td></td></tr></table><br/></div><div class=\"wandb-col\">\n",
              "<h3>Run summary:</h3><br/><table class=\"wandb\"><tr><td>steps</td><td>15</td></tr><tr><td>train_accuracy</td><td>10.006</td></tr><tr><td>train_loss</td><td>nan</td></tr><tr><td>val_accuracy</td><td>9.95</td></tr><tr><td>val_loss</td><td>nan</td></tr></table>\n",
              "</div></div>\n",
              "Synced 5 W&B file(s), 0 media file(s), 0 artifact file(s) and 0 other file(s)\n",
              "<br/>Synced <strong style=\"color:#cdcd00\">stilted-sweep-13</strong>: <a href=\"https://wandb.ai/moni6264/test_mse_50/runs/z1cxboaq\" target=\"_blank\">https://wandb.ai/moni6264/test_mse_50/runs/z1cxboaq</a><br/>\n",
              "Find logs at: <code>./wandb/run-20220225_060736-z1cxboaq/logs</code><br/>\n"
            ],
            "text/plain": [
              "<IPython.core.display.HTML object>"
            ]
          },
          "metadata": {}
        },
        {
          "output_type": "stream",
          "name": "stderr",
          "text": [
            "\u001b[34m\u001b[1mwandb\u001b[0m: Agent Starting Run: 9qh8sjvq with config:\n",
            "\u001b[34m\u001b[1mwandb\u001b[0m: \tactivation: sigmoid\n",
            "\u001b[34m\u001b[1mwandb\u001b[0m: \tbatch_size: 256\n",
            "\u001b[34m\u001b[1mwandb\u001b[0m: \tepochs: 15\n",
            "\u001b[34m\u001b[1mwandb\u001b[0m: \thidden_layer: [128, 128, 128]\n",
            "\u001b[34m\u001b[1mwandb\u001b[0m: \tinitilisation: xavier\n",
            "\u001b[34m\u001b[1mwandb\u001b[0m: \tlearning_rate: 0.01\n",
            "\u001b[34m\u001b[1mwandb\u001b[0m: \tloss_function: square_loss\n",
            "\u001b[34m\u001b[1mwandb\u001b[0m: \toptimiser: ngd\n",
            "\u001b[34m\u001b[1mwandb\u001b[0m: \tweight_decay: 0.0005\n",
            "\u001b[34m\u001b[1mwandb\u001b[0m: \u001b[33mWARNING\u001b[0m Ignored wandb.init() arg project when running a sweep.\n",
            "\u001b[34m\u001b[1mwandb\u001b[0m: \u001b[33mWARNING\u001b[0m Ignored wandb.init() arg entity when running a sweep.\n"
          ]
        },
        {
          "output_type": "display_data",
          "data": {
            "text/html": [
              "\n",
              "                    Syncing run <strong><a href=\"https://wandb.ai/moni6264/test_mse_50/runs/9qh8sjvq\" target=\"_blank\">polished-sweep-14</a></strong> to <a href=\"https://wandb.ai/moni6264/test_mse_50\" target=\"_blank\">Weights & Biases</a> (<a href=\"https://docs.wandb.com/integrations/jupyter.html\" target=\"_blank\">docs</a>).<br/>\n",
              "Sweep page: <a href=\"https://wandb.ai/moni6264/test_mse_50/sweeps/4hhn4fkp\" target=\"_blank\">https://wandb.ai/moni6264/test_mse_50/sweeps/4hhn4fkp</a><br/>\n",
              "\n",
              "                "
            ],
            "text/plain": [
              "<IPython.core.display.HTML object>"
            ]
          },
          "metadata": {}
        },
        {
          "output_type": "stream",
          "name": "stdout",
          "text": [
            "Epoch 0: training_accuracy = 12.02 %, training_loss= 0.45630  ,Validation accuracy = 12.62 ,Validation loss = 0.45632\n",
            "Epoch 1: training_accuracy = 12.55 %, training_loss= 0.45500  ,Validation accuracy = 13.30 ,Validation loss = 0.45499\n",
            "Epoch 2: training_accuracy = 13.03 %, training_loss= 0.45037  ,Validation accuracy = 13.75 ,Validation loss = 0.45017\n",
            "Epoch 3: training_accuracy = 13.56 %, training_loss= 0.45019  ,Validation accuracy = 14.23 ,Validation loss = 0.44999\n",
            "Epoch 4: training_accuracy = 14.14 %, training_loss= 0.45001  ,Validation accuracy = 14.78 ,Validation loss = 0.44982\n",
            "Epoch 5: training_accuracy = 14.63 %, training_loss= 0.44984  ,Validation accuracy = 15.22 ,Validation loss = 0.44965\n",
            "Epoch 6: training_accuracy = 15.21 %, training_loss= 0.44966  ,Validation accuracy = 15.88 ,Validation loss = 0.44948\n",
            "Epoch 7: training_accuracy = 15.87 %, training_loss= 0.44949  ,Validation accuracy = 16.45 ,Validation loss = 0.44931\n",
            "Epoch 8: training_accuracy = 16.46 %, training_loss= 0.44932  ,Validation accuracy = 17.12 ,Validation loss = 0.44914\n",
            "Epoch 9: training_accuracy = 17.10 %, training_loss= 0.44915  ,Validation accuracy = 17.80 ,Validation loss = 0.44898\n",
            "Epoch 10: training_accuracy = 17.73 %, training_loss= 0.44898  ,Validation accuracy = 18.33 ,Validation loss = 0.44881\n",
            "Epoch 11: training_accuracy = 18.39 %, training_loss= 0.44882  ,Validation accuracy = 19.03 ,Validation loss = 0.44865\n",
            "Epoch 12: training_accuracy = 19.08 %, training_loss= 0.44865  ,Validation accuracy = 19.72 ,Validation loss = 0.44849\n",
            "Epoch 13: training_accuracy = 19.71 %, training_loss= 0.44849  ,Validation accuracy = 20.57 ,Validation loss = 0.44833\n",
            "Epoch 14: training_accuracy = 20.40 %, training_loss= 0.44832  ,Validation accuracy = 21.22 ,Validation loss = 0.44817\n"
          ]
        },
        {
          "output_type": "display_data",
          "data": {
            "text/html": [
              "<br/>Waiting for W&B process to finish, PID 1114... <strong style=\"color:green\">(success).</strong>"
            ],
            "text/plain": [
              "<IPython.core.display.HTML object>"
            ]
          },
          "metadata": {}
        },
        {
          "output_type": "display_data",
          "data": {
            "application/vnd.jupyter.widget-view+json": {
              "model_id": "a6849b3d76bf438a9ba63111cbebfa1d",
              "version_minor": 0,
              "version_major": 2
            },
            "text/plain": [
              "VBox(children=(Label(value=' 0.00MB of 0.00MB uploaded (0.00MB deduped)\\r'), FloatProgress(value=1.0, max=1.0)…"
            ]
          },
          "metadata": {}
        },
        {
          "output_type": "display_data",
          "data": {
            "text/html": [
              "<style>\n",
              "    table.wandb td:nth-child(1) { padding: 0 10px; text-align: right }\n",
              "    .wandb-row { display: flex; flex-direction: row; flex-wrap: wrap; width: 100% }\n",
              "    .wandb-col { display: flex; flex-direction: column; flex-basis: 100%; flex: 1; padding: 10px; }\n",
              "    </style>\n",
              "<div class=\"wandb-row\"><div class=\"wandb-col\">\n",
              "<h3>Run history:</h3><br/><table class=\"wandb\"><tr><td>steps</td><td>▁▁▁▁▁▁▁▁▁▁▁▁▁▁▁</td></tr><tr><td>train_accuracy</td><td>▁▁▂▂▃▃▄▄▅▅▆▆▇▇█</td></tr><tr><td>train_loss</td><td>█▇▃▃▂▂▂▂▂▂▂▁▁▁▁</td></tr><tr><td>val_accuracy</td><td>▁▂▂▂▃▃▄▄▅▅▆▆▇▇█</td></tr><tr><td>val_loss</td><td>█▇▃▃▂▂▂▂▂▂▂▁▁▁▁</td></tr></table><br/></div><div class=\"wandb-col\">\n",
              "<h3>Run summary:</h3><br/><table class=\"wandb\"><tr><td>steps</td><td>15</td></tr><tr><td>train_accuracy</td><td>20.396</td></tr><tr><td>train_loss</td><td>0.44832</td></tr><tr><td>val_accuracy</td><td>21.217</td></tr><tr><td>val_loss</td><td>0.44817</td></tr></table>\n",
              "</div></div>\n",
              "Synced 5 W&B file(s), 0 media file(s), 0 artifact file(s) and 0 other file(s)\n",
              "<br/>Synced <strong style=\"color:#cdcd00\">polished-sweep-14</strong>: <a href=\"https://wandb.ai/moni6264/test_mse_50/runs/9qh8sjvq\" target=\"_blank\">https://wandb.ai/moni6264/test_mse_50/runs/9qh8sjvq</a><br/>\n",
              "Find logs at: <code>./wandb/run-20220225_060916-9qh8sjvq/logs</code><br/>\n"
            ],
            "text/plain": [
              "<IPython.core.display.HTML object>"
            ]
          },
          "metadata": {}
        },
        {
          "output_type": "stream",
          "name": "stderr",
          "text": [
            "\u001b[34m\u001b[1mwandb\u001b[0m: Agent Starting Run: x5p9ey0l with config:\n",
            "\u001b[34m\u001b[1mwandb\u001b[0m: \tactivation: tanh\n",
            "\u001b[34m\u001b[1mwandb\u001b[0m: \tbatch_size: 256\n",
            "\u001b[34m\u001b[1mwandb\u001b[0m: \tepochs: 20\n",
            "\u001b[34m\u001b[1mwandb\u001b[0m: \thidden_layer: [128, 128, 128]\n",
            "\u001b[34m\u001b[1mwandb\u001b[0m: \tinitilisation: xavier\n",
            "\u001b[34m\u001b[1mwandb\u001b[0m: \tlearning_rate: 0.001\n",
            "\u001b[34m\u001b[1mwandb\u001b[0m: \tloss_function: square_loss\n",
            "\u001b[34m\u001b[1mwandb\u001b[0m: \toptimiser: gd\n",
            "\u001b[34m\u001b[1mwandb\u001b[0m: \tweight_decay: 0.0005\n",
            "\u001b[34m\u001b[1mwandb\u001b[0m: \u001b[33mWARNING\u001b[0m Ignored wandb.init() arg project when running a sweep.\n",
            "\u001b[34m\u001b[1mwandb\u001b[0m: \u001b[33mWARNING\u001b[0m Ignored wandb.init() arg entity when running a sweep.\n"
          ]
        },
        {
          "output_type": "display_data",
          "data": {
            "text/html": [
              "\n",
              "                    Syncing run <strong><a href=\"https://wandb.ai/moni6264/test_mse_50/runs/x5p9ey0l\" target=\"_blank\">gentle-sweep-15</a></strong> to <a href=\"https://wandb.ai/moni6264/test_mse_50\" target=\"_blank\">Weights & Biases</a> (<a href=\"https://docs.wandb.com/integrations/jupyter.html\" target=\"_blank\">docs</a>).<br/>\n",
              "Sweep page: <a href=\"https://wandb.ai/moni6264/test_mse_50/sweeps/4hhn4fkp\" target=\"_blank\">https://wandb.ai/moni6264/test_mse_50/sweeps/4hhn4fkp</a><br/>\n",
              "\n",
              "                "
            ],
            "text/plain": [
              "<IPython.core.display.HTML object>"
            ]
          },
          "metadata": {}
        },
        {
          "output_type": "stream",
          "name": "stdout",
          "text": [
            "Epoch 0: training_accuracy = 10.95 %, training_loss= 0.77808  ,Validation accuracy = 10.45 ,Validation loss = 0.78409\n",
            "Epoch 1: training_accuracy = 11.51 %, training_loss= 0.73254  ,Validation accuracy = 10.92 ,Validation loss = 0.73854\n",
            "Epoch 2: training_accuracy = 12.16 %, training_loss= 0.67867  ,Validation accuracy = 11.42 ,Validation loss = 0.68371\n",
            "Epoch 3: training_accuracy = 12.82 %, training_loss= 0.63329  ,Validation accuracy = 12.03 ,Validation loss = 0.63666\n",
            "Epoch 4: training_accuracy = 13.14 %, training_loss= 0.60517  ,Validation accuracy = 12.58 ,Validation loss = 0.60715\n",
            "Epoch 5: training_accuracy = 13.14 %, training_loss= 0.58904  ,Validation accuracy = 12.77 ,Validation loss = 0.59026\n",
            "Epoch 6: training_accuracy = 13.12 %, training_loss= 0.57863  ,Validation accuracy = 12.62 ,Validation loss = 0.57951\n",
            "Epoch 7: training_accuracy = 13.08 %, training_loss= 0.57083  ,Validation accuracy = 12.77 ,Validation loss = 0.57160\n",
            "Epoch 8: training_accuracy = 13.07 %, training_loss= 0.56449  ,Validation accuracy = 12.75 ,Validation loss = 0.56524\n",
            "Epoch 9: training_accuracy = 12.99 %, training_loss= 0.55917  ,Validation accuracy = 12.85 ,Validation loss = 0.55996\n",
            "Epoch 10: training_accuracy = 12.94 %, training_loss= 0.55468  ,Validation accuracy = 12.83 ,Validation loss = 0.55553\n",
            "Epoch 11: training_accuracy = 12.94 %, training_loss= 0.55086  ,Validation accuracy = 12.93 ,Validation loss = 0.55177\n",
            "Epoch 12: training_accuracy = 12.92 %, training_loss= 0.54755  ,Validation accuracy = 12.98 ,Validation loss = 0.54853\n",
            "Epoch 13: training_accuracy = 12.90 %, training_loss= 0.54464  ,Validation accuracy = 12.93 ,Validation loss = 0.54568\n",
            "Epoch 14: training_accuracy = 12.83 %, training_loss= 0.54201  ,Validation accuracy = 12.95 ,Validation loss = 0.54312\n",
            "Epoch 15: training_accuracy = 12.86 %, training_loss= 0.53961  ,Validation accuracy = 12.73 ,Validation loss = 0.54077\n",
            "Epoch 16: training_accuracy = 12.80 %, training_loss= 0.53739  ,Validation accuracy = 12.67 ,Validation loss = 0.53859\n",
            "Epoch 17: training_accuracy = 12.77 %, training_loss= 0.53531  ,Validation accuracy = 12.48 ,Validation loss = 0.53655\n",
            "Epoch 18: training_accuracy = 12.71 %, training_loss= 0.53334  ,Validation accuracy = 12.48 ,Validation loss = 0.53462\n",
            "Epoch 19: training_accuracy = 12.58 %, training_loss= 0.53147  ,Validation accuracy = 12.52 ,Validation loss = 0.53278\n"
          ]
        },
        {
          "output_type": "display_data",
          "data": {
            "text/html": [
              "<br/>Waiting for W&B process to finish, PID 1153... <strong style=\"color:green\">(success).</strong>"
            ],
            "text/plain": [
              "<IPython.core.display.HTML object>"
            ]
          },
          "metadata": {}
        },
        {
          "output_type": "display_data",
          "data": {
            "application/vnd.jupyter.widget-view+json": {
              "model_id": "43bc6461d25c43adaa3513b89c97749b",
              "version_minor": 0,
              "version_major": 2
            },
            "text/plain": [
              "VBox(children=(Label(value=' 0.00MB of 0.00MB uploaded (0.00MB deduped)\\r'), FloatProgress(value=1.0, max=1.0)…"
            ]
          },
          "metadata": {}
        },
        {
          "output_type": "display_data",
          "data": {
            "text/html": [
              "<style>\n",
              "    table.wandb td:nth-child(1) { padding: 0 10px; text-align: right }\n",
              "    .wandb-row { display: flex; flex-direction: row; flex-wrap: wrap; width: 100% }\n",
              "    .wandb-col { display: flex; flex-direction: column; flex-basis: 100%; flex: 1; padding: 10px; }\n",
              "    </style>\n",
              "<div class=\"wandb-row\"><div class=\"wandb-col\">\n",
              "<h3>Run history:</h3><br/><table class=\"wandb\"><tr><td>steps</td><td>▁▁▁▁▁▁▁▁▁▁▁▁▁▁▁▁▁▁▁▁</td></tr><tr><td>train_accuracy</td><td>▁▃▅▇██████▇▇▇▇▇▇▇▇▇▆</td></tr><tr><td>train_loss</td><td>█▇▅▄▃▃▂▂▂▂▂▂▁▁▁▁▁▁▁▁</td></tr><tr><td>val_accuracy</td><td>▁▂▄▅▇▇▇▇▇██████▇▇▇▇▇</td></tr><tr><td>val_loss</td><td>█▇▅▄▃▃▂▂▂▂▂▂▁▁▁▁▁▁▁▁</td></tr></table><br/></div><div class=\"wandb-col\">\n",
              "<h3>Run summary:</h3><br/><table class=\"wandb\"><tr><td>steps</td><td>20</td></tr><tr><td>train_accuracy</td><td>12.576</td></tr><tr><td>train_loss</td><td>0.53147</td></tr><tr><td>val_accuracy</td><td>12.517</td></tr><tr><td>val_loss</td><td>0.53278</td></tr></table>\n",
              "</div></div>\n",
              "Synced 5 W&B file(s), 0 media file(s), 0 artifact file(s) and 0 other file(s)\n",
              "<br/>Synced <strong style=\"color:#cdcd00\">gentle-sweep-15</strong>: <a href=\"https://wandb.ai/moni6264/test_mse_50/runs/x5p9ey0l\" target=\"_blank\">https://wandb.ai/moni6264/test_mse_50/runs/x5p9ey0l</a><br/>\n",
              "Find logs at: <code>./wandb/run-20220225_061256-x5p9ey0l/logs</code><br/>\n"
            ],
            "text/plain": [
              "<IPython.core.display.HTML object>"
            ]
          },
          "metadata": {}
        },
        {
          "output_type": "stream",
          "name": "stderr",
          "text": [
            "\u001b[34m\u001b[1mwandb\u001b[0m: Agent Starting Run: vsmuk107 with config:\n",
            "\u001b[34m\u001b[1mwandb\u001b[0m: \tactivation: tanh\n",
            "\u001b[34m\u001b[1mwandb\u001b[0m: \tbatch_size: 64\n",
            "\u001b[34m\u001b[1mwandb\u001b[0m: \tepochs: 20\n",
            "\u001b[34m\u001b[1mwandb\u001b[0m: \thidden_layer: [128, 128, 128]\n",
            "\u001b[34m\u001b[1mwandb\u001b[0m: \tinitilisation: xavier\n",
            "\u001b[34m\u001b[1mwandb\u001b[0m: \tlearning_rate: 0.001\n",
            "\u001b[34m\u001b[1mwandb\u001b[0m: \tloss_function: square_loss\n",
            "\u001b[34m\u001b[1mwandb\u001b[0m: \toptimiser: gd\n",
            "\u001b[34m\u001b[1mwandb\u001b[0m: \tweight_decay: 0.0005\n",
            "\u001b[34m\u001b[1mwandb\u001b[0m: \u001b[33mWARNING\u001b[0m Ignored wandb.init() arg project when running a sweep.\n",
            "\u001b[34m\u001b[1mwandb\u001b[0m: \u001b[33mWARNING\u001b[0m Ignored wandb.init() arg entity when running a sweep.\n"
          ]
        },
        {
          "output_type": "display_data",
          "data": {
            "text/html": [
              "\n",
              "                    Syncing run <strong><a href=\"https://wandb.ai/moni6264/test_mse_50/runs/vsmuk107\" target=\"_blank\">stellar-sweep-16</a></strong> to <a href=\"https://wandb.ai/moni6264/test_mse_50\" target=\"_blank\">Weights & Biases</a> (<a href=\"https://docs.wandb.com/integrations/jupyter.html\" target=\"_blank\">docs</a>).<br/>\n",
              "Sweep page: <a href=\"https://wandb.ai/moni6264/test_mse_50/sweeps/4hhn4fkp\" target=\"_blank\">https://wandb.ai/moni6264/test_mse_50/sweeps/4hhn4fkp</a><br/>\n",
              "\n",
              "                "
            ],
            "text/plain": [
              "<IPython.core.display.HTML object>"
            ]
          },
          "metadata": {}
        },
        {
          "output_type": "stream",
          "name": "stdout",
          "text": [
            "Epoch 0: training_accuracy = 8.78 %, training_loss= 0.58619  ,Validation accuracy = 8.85 ,Validation loss = 0.58322\n",
            "Epoch 1: training_accuracy = 13.18 %, training_loss= 0.53272  ,Validation accuracy = 13.45 ,Validation loss = 0.53190\n",
            "Epoch 2: training_accuracy = 15.97 %, training_loss= 0.51438  ,Validation accuracy = 15.35 ,Validation loss = 0.51435\n",
            "Epoch 3: training_accuracy = 17.34 %, training_loss= 0.50518  ,Validation accuracy = 16.70 ,Validation loss = 0.50547\n",
            "Epoch 4: training_accuracy = 18.06 %, training_loss= 0.49940  ,Validation accuracy = 17.43 ,Validation loss = 0.49987\n",
            "Epoch 5: training_accuracy = 18.54 %, training_loss= 0.49474  ,Validation accuracy = 18.03 ,Validation loss = 0.49534\n",
            "Epoch 6: training_accuracy = 18.89 %, training_loss= 0.49020  ,Validation accuracy = 18.53 ,Validation loss = 0.49089\n",
            "Epoch 7: training_accuracy = 19.34 %, training_loss= 0.48558  ,Validation accuracy = 19.00 ,Validation loss = 0.48635\n",
            "Epoch 8: training_accuracy = 19.85 %, training_loss= 0.48120  ,Validation accuracy = 19.45 ,Validation loss = 0.48205\n",
            "Epoch 9: training_accuracy = 20.31 %, training_loss= 0.47742  ,Validation accuracy = 19.87 ,Validation loss = 0.47837\n",
            "Epoch 10: training_accuracy = 20.76 %, training_loss= 0.47428  ,Validation accuracy = 20.35 ,Validation loss = 0.47531\n",
            "Epoch 11: training_accuracy = 21.17 %, training_loss= 0.47154  ,Validation accuracy = 20.63 ,Validation loss = 0.47265\n",
            "Epoch 12: training_accuracy = 21.53 %, training_loss= 0.46899  ,Validation accuracy = 21.00 ,Validation loss = 0.47018\n",
            "Epoch 13: training_accuracy = 21.88 %, training_loss= 0.46654  ,Validation accuracy = 21.23 ,Validation loss = 0.46779\n",
            "Epoch 14: training_accuracy = 22.25 %, training_loss= 0.46414  ,Validation accuracy = 21.58 ,Validation loss = 0.46546\n",
            "Epoch 15: training_accuracy = 22.62 %, training_loss= 0.46178  ,Validation accuracy = 22.03 ,Validation loss = 0.46316\n",
            "Epoch 16: training_accuracy = 22.94 %, training_loss= 0.45946  ,Validation accuracy = 22.32 ,Validation loss = 0.46088\n",
            "Epoch 17: training_accuracy = 23.32 %, training_loss= 0.45716  ,Validation accuracy = 22.68 ,Validation loss = 0.45864\n",
            "Epoch 18: training_accuracy = 23.68 %, training_loss= 0.45489  ,Validation accuracy = 23.07 ,Validation loss = 0.45642\n",
            "Epoch 19: training_accuracy = 24.03 %, training_loss= 0.45264  ,Validation accuracy = 23.30 ,Validation loss = 0.45422\n"
          ]
        },
        {
          "output_type": "display_data",
          "data": {
            "text/html": [
              "<br/>Waiting for W&B process to finish, PID 1192... <strong style=\"color:green\">(success).</strong>"
            ],
            "text/plain": [
              "<IPython.core.display.HTML object>"
            ]
          },
          "metadata": {}
        },
        {
          "output_type": "display_data",
          "data": {
            "application/vnd.jupyter.widget-view+json": {
              "model_id": "4eabd7b8697a42f284501a4b787f7aa5",
              "version_minor": 0,
              "version_major": 2
            },
            "text/plain": [
              "VBox(children=(Label(value=' 0.00MB of 0.00MB uploaded (0.00MB deduped)\\r'), FloatProgress(value=1.0, max=1.0)…"
            ]
          },
          "metadata": {}
        },
        {
          "output_type": "display_data",
          "data": {
            "text/html": [
              "<style>\n",
              "    table.wandb td:nth-child(1) { padding: 0 10px; text-align: right }\n",
              "    .wandb-row { display: flex; flex-direction: row; flex-wrap: wrap; width: 100% }\n",
              "    .wandb-col { display: flex; flex-direction: column; flex-basis: 100%; flex: 1; padding: 10px; }\n",
              "    </style>\n",
              "<div class=\"wandb-row\"><div class=\"wandb-col\">\n",
              "<h3>Run history:</h3><br/><table class=\"wandb\"><tr><td>steps</td><td>▁▁▁▁▁▁▁▁▁▁▁▁▁▁▁▁▁▁▁▁</td></tr><tr><td>train_accuracy</td><td>▁▃▄▅▅▅▆▆▆▆▇▇▇▇▇▇▇███</td></tr><tr><td>train_loss</td><td>█▅▄▄▃▃▃▃▂▂▂▂▂▂▂▁▁▁▁▁</td></tr><tr><td>val_accuracy</td><td>▁▃▄▅▅▅▆▆▆▆▇▇▇▇▇▇████</td></tr><tr><td>val_loss</td><td>█▅▄▄▃▃▃▃▃▂▂▂▂▂▂▁▁▁▁▁</td></tr></table><br/></div><div class=\"wandb-col\">\n",
              "<h3>Run summary:</h3><br/><table class=\"wandb\"><tr><td>steps</td><td>20</td></tr><tr><td>train_accuracy</td><td>24.028</td></tr><tr><td>train_loss</td><td>0.45264</td></tr><tr><td>val_accuracy</td><td>23.3</td></tr><tr><td>val_loss</td><td>0.45422</td></tr></table>\n",
              "</div></div>\n",
              "Synced 5 W&B file(s), 0 media file(s), 0 artifact file(s) and 0 other file(s)\n",
              "<br/>Synced <strong style=\"color:#cdcd00\">stellar-sweep-16</strong>: <a href=\"https://wandb.ai/moni6264/test_mse_50/runs/vsmuk107\" target=\"_blank\">https://wandb.ai/moni6264/test_mse_50/runs/vsmuk107</a><br/>\n",
              "Find logs at: <code>./wandb/run-20220225_061543-vsmuk107/logs</code><br/>\n"
            ],
            "text/plain": [
              "<IPython.core.display.HTML object>"
            ]
          },
          "metadata": {}
        },
        {
          "output_type": "stream",
          "name": "stderr",
          "text": [
            "\u001b[34m\u001b[1mwandb\u001b[0m: Sweep Agent: Waiting for job.\n",
            "\u001b[34m\u001b[1mwandb\u001b[0m: Job received.\n",
            "\u001b[34m\u001b[1mwandb\u001b[0m: Agent Starting Run: rclrqjd0 with config:\n",
            "\u001b[34m\u001b[1mwandb\u001b[0m: \tactivation: sigmoid\n",
            "\u001b[34m\u001b[1mwandb\u001b[0m: \tbatch_size: 64\n",
            "\u001b[34m\u001b[1mwandb\u001b[0m: \tepochs: 20\n",
            "\u001b[34m\u001b[1mwandb\u001b[0m: \thidden_layer: [32, 64, 128]\n",
            "\u001b[34m\u001b[1mwandb\u001b[0m: \tinitilisation: xavier\n",
            "\u001b[34m\u001b[1mwandb\u001b[0m: \tlearning_rate: 0.001\n",
            "\u001b[34m\u001b[1mwandb\u001b[0m: \tloss_function: square_loss\n",
            "\u001b[34m\u001b[1mwandb\u001b[0m: \toptimiser: adam\n",
            "\u001b[34m\u001b[1mwandb\u001b[0m: \tweight_decay: 0.0005\n",
            "\u001b[34m\u001b[1mwandb\u001b[0m: \u001b[33mWARNING\u001b[0m Ignored wandb.init() arg project when running a sweep.\n",
            "\u001b[34m\u001b[1mwandb\u001b[0m: \u001b[33mWARNING\u001b[0m Ignored wandb.init() arg entity when running a sweep.\n"
          ]
        },
        {
          "output_type": "display_data",
          "data": {
            "text/html": [
              "\n",
              "                    Syncing run <strong><a href=\"https://wandb.ai/moni6264/test_mse_50/runs/rclrqjd0\" target=\"_blank\">dazzling-sweep-17</a></strong> to <a href=\"https://wandb.ai/moni6264/test_mse_50\" target=\"_blank\">Weights & Biases</a> (<a href=\"https://docs.wandb.com/integrations/jupyter.html\" target=\"_blank\">docs</a>).<br/>\n",
              "Sweep page: <a href=\"https://wandb.ai/moni6264/test_mse_50/sweeps/4hhn4fkp\" target=\"_blank\">https://wandb.ai/moni6264/test_mse_50/sweeps/4hhn4fkp</a><br/>\n",
              "\n",
              "                "
            ],
            "text/plain": [
              "<IPython.core.display.HTML object>"
            ]
          },
          "metadata": {}
        },
        {
          "output_type": "stream",
          "name": "stdout",
          "text": [
            "Epoch 0: training_accuracy = 20.06 %, training_loss= 0.44625  ,Validation accuracy = 20.07 ,Validation loss = 0.44613\n",
            "Epoch 1: training_accuracy = 21.99 %, training_loss= 0.44455  ,Validation accuracy = 22.62 ,Validation loss = 0.44448\n",
            "Epoch 2: training_accuracy = 22.50 %, training_loss= 0.44329  ,Validation accuracy = 22.98 ,Validation loss = 0.44325\n",
            "Epoch 3: training_accuracy = 22.84 %, training_loss= 0.44224  ,Validation accuracy = 23.30 ,Validation loss = 0.44222\n",
            "Epoch 4: training_accuracy = 23.14 %, training_loss= 0.44130  ,Validation accuracy = 23.47 ,Validation loss = 0.44131\n",
            "Epoch 5: training_accuracy = 23.34 %, training_loss= 0.44044  ,Validation accuracy = 23.63 ,Validation loss = 0.44046\n",
            "Epoch 6: training_accuracy = 23.54 %, training_loss= 0.43964  ,Validation accuracy = 23.92 ,Validation loss = 0.43967\n",
            "Epoch 7: training_accuracy = 23.65 %, training_loss= 0.43888  ,Validation accuracy = 24.07 ,Validation loss = 0.43892\n",
            "Epoch 8: training_accuracy = 23.80 %, training_loss= 0.43814  ,Validation accuracy = 24.20 ,Validation loss = 0.43820\n",
            "Epoch 9: training_accuracy = 23.89 %, training_loss= 0.43744  ,Validation accuracy = 24.23 ,Validation loss = 0.43751\n",
            "Epoch 10: training_accuracy = 24.08 %, training_loss= 0.43675  ,Validation accuracy = 24.40 ,Validation loss = 0.43683\n",
            "Epoch 11: training_accuracy = 24.21 %, training_loss= 0.43608  ,Validation accuracy = 24.48 ,Validation loss = 0.43618\n",
            "Epoch 12: training_accuracy = 24.35 %, training_loss= 0.43544  ,Validation accuracy = 24.58 ,Validation loss = 0.43554\n",
            "Epoch 13: training_accuracy = 24.46 %, training_loss= 0.43481  ,Validation accuracy = 24.57 ,Validation loss = 0.43492\n",
            "Epoch 14: training_accuracy = 24.62 %, training_loss= 0.43421  ,Validation accuracy = 24.53 ,Validation loss = 0.43433\n",
            "Epoch 15: training_accuracy = 24.76 %, training_loss= 0.43363  ,Validation accuracy = 24.65 ,Validation loss = 0.43376\n",
            "Epoch 16: training_accuracy = 24.89 %, training_loss= 0.43308  ,Validation accuracy = 24.72 ,Validation loss = 0.43322\n",
            "Epoch 17: training_accuracy = 24.99 %, training_loss= 0.43257  ,Validation accuracy = 24.80 ,Validation loss = 0.43271\n",
            "Epoch 18: training_accuracy = 25.11 %, training_loss= 0.43210  ,Validation accuracy = 24.92 ,Validation loss = 0.43225\n",
            "Epoch 19: training_accuracy = 25.23 %, training_loss= 0.43168  ,Validation accuracy = 25.03 ,Validation loss = 0.43184\n"
          ]
        },
        {
          "output_type": "display_data",
          "data": {
            "text/html": [
              "<br/>Waiting for W&B process to finish, PID 1231... <strong style=\"color:green\">(success).</strong>"
            ],
            "text/plain": [
              "<IPython.core.display.HTML object>"
            ]
          },
          "metadata": {}
        },
        {
          "output_type": "display_data",
          "data": {
            "application/vnd.jupyter.widget-view+json": {
              "model_id": "25e78492cc2a45c0a1870cdc425df440",
              "version_minor": 0,
              "version_major": 2
            },
            "text/plain": [
              "VBox(children=(Label(value=' 0.00MB of 0.00MB uploaded (0.00MB deduped)\\r'), FloatProgress(value=1.0, max=1.0)…"
            ]
          },
          "metadata": {}
        },
        {
          "output_type": "display_data",
          "data": {
            "text/html": [
              "<style>\n",
              "    table.wandb td:nth-child(1) { padding: 0 10px; text-align: right }\n",
              "    .wandb-row { display: flex; flex-direction: row; flex-wrap: wrap; width: 100% }\n",
              "    .wandb-col { display: flex; flex-direction: column; flex-basis: 100%; flex: 1; padding: 10px; }\n",
              "    </style>\n",
              "<div class=\"wandb-row\"><div class=\"wandb-col\">\n",
              "<h3>Run history:</h3><br/><table class=\"wandb\"><tr><td>steps</td><td>▁▁▁▁▁▁▁▁▁▁▁▁▁▁▁▁▁▁▁▁</td></tr><tr><td>train_accuracy</td><td>▁▄▄▅▅▅▆▆▆▆▆▇▇▇▇▇████</td></tr><tr><td>train_loss</td><td>█▇▇▆▆▅▅▄▄▄▃▃▃▃▂▂▂▁▁▁</td></tr><tr><td>val_accuracy</td><td>▁▅▅▆▆▆▆▇▇▇▇▇▇▇▇▇████</td></tr><tr><td>val_loss</td><td>█▇▇▆▆▅▅▄▄▄▃▃▃▃▂▂▂▁▁▁</td></tr></table><br/></div><div class=\"wandb-col\">\n",
              "<h3>Run summary:</h3><br/><table class=\"wandb\"><tr><td>steps</td><td>20</td></tr><tr><td>train_accuracy</td><td>25.23</td></tr><tr><td>train_loss</td><td>0.43168</td></tr><tr><td>val_accuracy</td><td>25.033</td></tr><tr><td>val_loss</td><td>0.43184</td></tr></table>\n",
              "</div></div>\n",
              "Synced 5 W&B file(s), 0 media file(s), 0 artifact file(s) and 0 other file(s)\n",
              "<br/>Synced <strong style=\"color:#cdcd00\">dazzling-sweep-17</strong>: <a href=\"https://wandb.ai/moni6264/test_mse_50/runs/rclrqjd0\" target=\"_blank\">https://wandb.ai/moni6264/test_mse_50/runs/rclrqjd0</a><br/>\n",
              "Find logs at: <code>./wandb/run-20220225_061912-rclrqjd0/logs</code><br/>\n"
            ],
            "text/plain": [
              "<IPython.core.display.HTML object>"
            ]
          },
          "metadata": {}
        },
        {
          "output_type": "stream",
          "name": "stderr",
          "text": [
            "\u001b[34m\u001b[1mwandb\u001b[0m: Agent Starting Run: afpftvad with config:\n",
            "\u001b[34m\u001b[1mwandb\u001b[0m: \tactivation: sigmoid\n",
            "\u001b[34m\u001b[1mwandb\u001b[0m: \tbatch_size: 64\n",
            "\u001b[34m\u001b[1mwandb\u001b[0m: \tepochs: 15\n",
            "\u001b[34m\u001b[1mwandb\u001b[0m: \thidden_layer: [64, 64, 64]\n",
            "\u001b[34m\u001b[1mwandb\u001b[0m: \tinitilisation: xavier\n",
            "\u001b[34m\u001b[1mwandb\u001b[0m: \tlearning_rate: 0.01\n",
            "\u001b[34m\u001b[1mwandb\u001b[0m: \tloss_function: square_loss\n",
            "\u001b[34m\u001b[1mwandb\u001b[0m: \toptimiser: ngd\n",
            "\u001b[34m\u001b[1mwandb\u001b[0m: \tweight_decay: 0.5\n",
            "\u001b[34m\u001b[1mwandb\u001b[0m: \u001b[33mWARNING\u001b[0m Ignored wandb.init() arg project when running a sweep.\n",
            "\u001b[34m\u001b[1mwandb\u001b[0m: \u001b[33mWARNING\u001b[0m Ignored wandb.init() arg entity when running a sweep.\n"
          ]
        },
        {
          "output_type": "display_data",
          "data": {
            "text/html": [
              "\n",
              "                    Syncing run <strong><a href=\"https://wandb.ai/moni6264/test_mse_50/runs/afpftvad\" target=\"_blank\">glad-sweep-18</a></strong> to <a href=\"https://wandb.ai/moni6264/test_mse_50\" target=\"_blank\">Weights & Biases</a> (<a href=\"https://docs.wandb.com/integrations/jupyter.html\" target=\"_blank\">docs</a>).<br/>\n",
              "Sweep page: <a href=\"https://wandb.ai/moni6264/test_mse_50/sweeps/4hhn4fkp\" target=\"_blank\">https://wandb.ai/moni6264/test_mse_50/sweeps/4hhn4fkp</a><br/>\n",
              "\n",
              "                "
            ],
            "text/plain": [
              "<IPython.core.display.HTML object>"
            ]
          },
          "metadata": {}
        },
        {
          "output_type": "stream",
          "name": "stdout",
          "text": [
            "Epoch 0: training_accuracy = 10.09 %, training_loss= 0.45124  ,Validation accuracy = 9.17 ,Validation loss = 0.45126\n",
            "Epoch 1: training_accuracy = 10.09 %, training_loss= 0.45091  ,Validation accuracy = 9.17 ,Validation loss = 0.45092\n",
            "Epoch 2: training_accuracy = 10.09 %, training_loss= 0.45066  ,Validation accuracy = 9.17 ,Validation loss = 0.45067\n",
            "Epoch 3: training_accuracy = 10.09 %, training_loss= 0.45049  ,Validation accuracy = 9.17 ,Validation loss = 0.45048\n",
            "Epoch 4: training_accuracy = 10.09 %, training_loss= 0.45036  ,Validation accuracy = 9.17 ,Validation loss = 0.45035\n",
            "Epoch 5: training_accuracy = 9.96 %, training_loss= 0.45026  ,Validation accuracy = 10.35 ,Validation loss = 0.45025\n",
            "Epoch 6: training_accuracy = 9.96 %, training_loss= 0.45020  ,Validation accuracy = 10.35 ,Validation loss = 0.45018\n",
            "Epoch 7: training_accuracy = 9.96 %, training_loss= 0.45015  ,Validation accuracy = 10.35 ,Validation loss = 0.45013\n",
            "Epoch 8: training_accuracy = 9.96 %, training_loss= 0.45011  ,Validation accuracy = 10.35 ,Validation loss = 0.45009\n",
            "Epoch 9: training_accuracy = 9.96 %, training_loss= 0.45008  ,Validation accuracy = 10.35 ,Validation loss = 0.45006\n",
            "Epoch 10: training_accuracy = 9.96 %, training_loss= 0.45007  ,Validation accuracy = 10.35 ,Validation loss = 0.45004\n",
            "Epoch 11: training_accuracy = 9.96 %, training_loss= 0.45005  ,Validation accuracy = 10.35 ,Validation loss = 0.45002\n",
            "Epoch 12: training_accuracy = 9.96 %, training_loss= 0.45004  ,Validation accuracy = 10.35 ,Validation loss = 0.45001\n",
            "Epoch 13: training_accuracy = 9.96 %, training_loss= 0.45004  ,Validation accuracy = 10.35 ,Validation loss = 0.45000\n",
            "Epoch 14: training_accuracy = 9.96 %, training_loss= 0.45003  ,Validation accuracy = 10.35 ,Validation loss = 0.45000\n"
          ]
        },
        {
          "output_type": "display_data",
          "data": {
            "text/html": [
              "<br/>Waiting for W&B process to finish, PID 1270... <strong style=\"color:green\">(success).</strong>"
            ],
            "text/plain": [
              "<IPython.core.display.HTML object>"
            ]
          },
          "metadata": {}
        },
        {
          "output_type": "display_data",
          "data": {
            "application/vnd.jupyter.widget-view+json": {
              "model_id": "5884aa35adf540cd87caafdd4d885bfe",
              "version_minor": 0,
              "version_major": 2
            },
            "text/plain": [
              "VBox(children=(Label(value=' 0.00MB of 0.00MB uploaded (0.00MB deduped)\\r'), FloatProgress(value=1.0, max=1.0)…"
            ]
          },
          "metadata": {}
        },
        {
          "output_type": "display_data",
          "data": {
            "text/html": [
              "<style>\n",
              "    table.wandb td:nth-child(1) { padding: 0 10px; text-align: right }\n",
              "    .wandb-row { display: flex; flex-direction: row; flex-wrap: wrap; width: 100% }\n",
              "    .wandb-col { display: flex; flex-direction: column; flex-basis: 100%; flex: 1; padding: 10px; }\n",
              "    </style>\n",
              "<div class=\"wandb-row\"><div class=\"wandb-col\">\n",
              "<h3>Run history:</h3><br/><table class=\"wandb\"><tr><td>steps</td><td>▁▁▁▁▁▁▁▁▁▁▁▁▁▁▁</td></tr><tr><td>train_accuracy</td><td>█████▁▁▁▁▁▁▁▁▁▁</td></tr><tr><td>train_loss</td><td>█▆▅▄▃▂▂▂▁▁▁▁▁▁▁</td></tr><tr><td>val_accuracy</td><td>▁▁▁▁▁██████████</td></tr><tr><td>val_loss</td><td>█▆▅▄▃▂▂▂▂▁▁▁▁▁▁</td></tr></table><br/></div><div class=\"wandb-col\">\n",
              "<h3>Run summary:</h3><br/><table class=\"wandb\"><tr><td>steps</td><td>15</td></tr><tr><td>train_accuracy</td><td>9.961</td></tr><tr><td>train_loss</td><td>0.45003</td></tr><tr><td>val_accuracy</td><td>10.35</td></tr><tr><td>val_loss</td><td>0.45</td></tr></table>\n",
              "</div></div>\n",
              "Synced 5 W&B file(s), 0 media file(s), 0 artifact file(s) and 0 other file(s)\n",
              "<br/>Synced <strong style=\"color:#cdcd00\">glad-sweep-18</strong>: <a href=\"https://wandb.ai/moni6264/test_mse_50/runs/afpftvad\" target=\"_blank\">https://wandb.ai/moni6264/test_mse_50/runs/afpftvad</a><br/>\n",
              "Find logs at: <code>./wandb/run-20220225_062144-afpftvad/logs</code><br/>\n"
            ],
            "text/plain": [
              "<IPython.core.display.HTML object>"
            ]
          },
          "metadata": {}
        },
        {
          "output_type": "stream",
          "name": "stderr",
          "text": [
            "\u001b[34m\u001b[1mwandb\u001b[0m: Agent Starting Run: 52sizolt with config:\n",
            "\u001b[34m\u001b[1mwandb\u001b[0m: \tactivation: tanh\n",
            "\u001b[34m\u001b[1mwandb\u001b[0m: \tbatch_size: 256\n",
            "\u001b[34m\u001b[1mwandb\u001b[0m: \tepochs: 15\n",
            "\u001b[34m\u001b[1mwandb\u001b[0m: \thidden_layer: [64, 64, 64]\n",
            "\u001b[34m\u001b[1mwandb\u001b[0m: \tinitilisation: xavier\n",
            "\u001b[34m\u001b[1mwandb\u001b[0m: \tlearning_rate: 0.001\n",
            "\u001b[34m\u001b[1mwandb\u001b[0m: \tloss_function: square_loss\n",
            "\u001b[34m\u001b[1mwandb\u001b[0m: \toptimiser: nadam\n",
            "\u001b[34m\u001b[1mwandb\u001b[0m: \tweight_decay: 0.5\n",
            "\u001b[34m\u001b[1mwandb\u001b[0m: \u001b[33mWARNING\u001b[0m Ignored wandb.init() arg project when running a sweep.\n",
            "\u001b[34m\u001b[1mwandb\u001b[0m: \u001b[33mWARNING\u001b[0m Ignored wandb.init() arg entity when running a sweep.\n"
          ]
        },
        {
          "output_type": "display_data",
          "data": {
            "text/html": [
              "\n",
              "                    Syncing run <strong><a href=\"https://wandb.ai/moni6264/test_mse_50/runs/52sizolt\" target=\"_blank\">light-sweep-19</a></strong> to <a href=\"https://wandb.ai/moni6264/test_mse_50\" target=\"_blank\">Weights & Biases</a> (<a href=\"https://docs.wandb.com/integrations/jupyter.html\" target=\"_blank\">docs</a>).<br/>\n",
              "Sweep page: <a href=\"https://wandb.ai/moni6264/test_mse_50/sweeps/4hhn4fkp\" target=\"_blank\">https://wandb.ai/moni6264/test_mse_50/sweeps/4hhn4fkp</a><br/>\n",
              "\n",
              "                "
            ],
            "text/plain": [
              "<IPython.core.display.HTML object>"
            ]
          },
          "metadata": {}
        },
        {
          "output_type": "stream",
          "name": "stdout",
          "text": [
            "Epoch 0: training_accuracy = 68.82 %, training_loss= 0.21387  ,Validation accuracy = 68.02 ,Validation loss = 0.21968\n",
            "Epoch 1: training_accuracy = 71.30 %, training_loss= 0.20362  ,Validation accuracy = 70.20 ,Validation loss = 0.20946\n",
            "Epoch 2: training_accuracy = 71.57 %, training_loss= 0.20701  ,Validation accuracy = 70.55 ,Validation loss = 0.21244\n",
            "Epoch 3: training_accuracy = 70.72 %, training_loss= 0.22238  ,Validation accuracy = 69.37 ,Validation loss = 0.22677\n",
            "Epoch 4: training_accuracy = 67.03 %, training_loss= 0.26093  ,Validation accuracy = 66.28 ,Validation loss = 0.26390\n",
            "Epoch 5: training_accuracy = 57.26 %, training_loss= 0.32077  ,Validation accuracy = 56.88 ,Validation loss = 0.32270\n",
            "Epoch 6: training_accuracy = 44.44 %, training_loss= 0.36539  ,Validation accuracy = 43.65 ,Validation loss = 0.36675\n",
            "Epoch 7: training_accuracy = 32.39 %, training_loss= 0.39338  ,Validation accuracy = 31.25 ,Validation loss = 0.39449\n",
            "Epoch 8: training_accuracy = 25.31 %, training_loss= 0.41018  ,Validation accuracy = 24.38 ,Validation loss = 0.41111\n",
            "Epoch 9: training_accuracy = 21.56 %, training_loss= 0.42060  ,Validation accuracy = 20.72 ,Validation loss = 0.42134\n",
            "Epoch 10: training_accuracy = 20.48 %, training_loss= 0.42767  ,Validation accuracy = 19.62 ,Validation loss = 0.42824\n",
            "Epoch 11: training_accuracy = 20.56 %, training_loss= 0.43285  ,Validation accuracy = 19.73 ,Validation loss = 0.43328\n",
            "Epoch 12: training_accuracy = 21.37 %, training_loss= 0.43684  ,Validation accuracy = 20.52 ,Validation loss = 0.43715\n",
            "Epoch 13: training_accuracy = 23.74 %, training_loss= 0.43997  ,Validation accuracy = 23.25 ,Validation loss = 0.44018\n",
            "Epoch 14: training_accuracy = 29.37 %, training_loss= 0.44244  ,Validation accuracy = 28.60 ,Validation loss = 0.44258\n"
          ]
        },
        {
          "output_type": "display_data",
          "data": {
            "text/html": [
              "<br/>Waiting for W&B process to finish, PID 1309... <strong style=\"color:green\">(success).</strong>"
            ],
            "text/plain": [
              "<IPython.core.display.HTML object>"
            ]
          },
          "metadata": {}
        },
        {
          "output_type": "display_data",
          "data": {
            "application/vnd.jupyter.widget-view+json": {
              "model_id": "c31042e507744a349ac8eb02ce66715d",
              "version_minor": 0,
              "version_major": 2
            },
            "text/plain": [
              "VBox(children=(Label(value=' 0.00MB of 0.00MB uploaded (0.00MB deduped)\\r'), FloatProgress(value=1.0, max=1.0)…"
            ]
          },
          "metadata": {}
        },
        {
          "output_type": "display_data",
          "data": {
            "text/html": [
              "<style>\n",
              "    table.wandb td:nth-child(1) { padding: 0 10px; text-align: right }\n",
              "    .wandb-row { display: flex; flex-direction: row; flex-wrap: wrap; width: 100% }\n",
              "    .wandb-col { display: flex; flex-direction: column; flex-basis: 100%; flex: 1; padding: 10px; }\n",
              "    </style>\n",
              "<div class=\"wandb-row\"><div class=\"wandb-col\">\n",
              "<h3>Run history:</h3><br/><table class=\"wandb\"><tr><td>steps</td><td>▁▁▁▁▁▁▁▁▁▁▁▁▁▁▁</td></tr><tr><td>train_accuracy</td><td>████▇▆▄▃▂▁▁▁▁▁▂</td></tr><tr><td>train_loss</td><td>▁▁▁▂▃▄▆▇▇▇█████</td></tr><tr><td>val_accuracy</td><td>████▇▆▄▃▂▁▁▁▁▁▂</td></tr><tr><td>val_loss</td><td>▁▁▁▂▃▄▆▇▇▇█████</td></tr></table><br/></div><div class=\"wandb-col\">\n",
              "<h3>Run summary:</h3><br/><table class=\"wandb\"><tr><td>steps</td><td>15</td></tr><tr><td>train_accuracy</td><td>29.37</td></tr><tr><td>train_loss</td><td>0.44244</td></tr><tr><td>val_accuracy</td><td>28.6</td></tr><tr><td>val_loss</td><td>0.44258</td></tr></table>\n",
              "</div></div>\n",
              "Synced 5 W&B file(s), 0 media file(s), 0 artifact file(s) and 0 other file(s)\n",
              "<br/>Synced <strong style=\"color:#cdcd00\">light-sweep-19</strong>: <a href=\"https://wandb.ai/moni6264/test_mse_50/runs/52sizolt\" target=\"_blank\">https://wandb.ai/moni6264/test_mse_50/runs/52sizolt</a><br/>\n",
              "Find logs at: <code>./wandb/run-20220225_062443-52sizolt/logs</code><br/>\n"
            ],
            "text/plain": [
              "<IPython.core.display.HTML object>"
            ]
          },
          "metadata": {}
        },
        {
          "output_type": "stream",
          "name": "stderr",
          "text": [
            "\u001b[34m\u001b[1mwandb\u001b[0m: Agent Starting Run: ja3e5gax with config:\n",
            "\u001b[34m\u001b[1mwandb\u001b[0m: \tactivation: relu\n",
            "\u001b[34m\u001b[1mwandb\u001b[0m: \tbatch_size: 128\n",
            "\u001b[34m\u001b[1mwandb\u001b[0m: \tepochs: 20\n",
            "\u001b[34m\u001b[1mwandb\u001b[0m: \thidden_layer: [32, 64, 128]\n",
            "\u001b[34m\u001b[1mwandb\u001b[0m: \tinitilisation: xavier\n",
            "\u001b[34m\u001b[1mwandb\u001b[0m: \tlearning_rate: 0.01\n",
            "\u001b[34m\u001b[1mwandb\u001b[0m: \tloss_function: square_loss\n",
            "\u001b[34m\u001b[1mwandb\u001b[0m: \toptimiser: mgd\n",
            "\u001b[34m\u001b[1mwandb\u001b[0m: \tweight_decay: 0.5\n",
            "\u001b[34m\u001b[1mwandb\u001b[0m: \u001b[33mWARNING\u001b[0m Ignored wandb.init() arg project when running a sweep.\n",
            "\u001b[34m\u001b[1mwandb\u001b[0m: \u001b[33mWARNING\u001b[0m Ignored wandb.init() arg entity when running a sweep.\n"
          ]
        },
        {
          "output_type": "display_data",
          "data": {
            "text/html": [
              "\n",
              "                    Syncing run <strong><a href=\"https://wandb.ai/moni6264/test_mse_50/runs/ja3e5gax\" target=\"_blank\">lucky-sweep-20</a></strong> to <a href=\"https://wandb.ai/moni6264/test_mse_50\" target=\"_blank\">Weights & Biases</a> (<a href=\"https://docs.wandb.com/integrations/jupyter.html\" target=\"_blank\">docs</a>).<br/>\n",
              "Sweep page: <a href=\"https://wandb.ai/moni6264/test_mse_50/sweeps/4hhn4fkp\" target=\"_blank\">https://wandb.ai/moni6264/test_mse_50/sweeps/4hhn4fkp</a><br/>\n",
              "\n",
              "                "
            ],
            "text/plain": [
              "<IPython.core.display.HTML object>"
            ]
          },
          "metadata": {}
        },
        {
          "output_type": "stream",
          "name": "stdout",
          "text": [
            "Epoch 0: training_accuracy = 9.96 %, training_loss= 0.45014  ,Validation accuracy = 10.32 ,Validation loss = 0.45001\n",
            "Epoch 1: training_accuracy = 9.96 %, training_loss= 0.45012  ,Validation accuracy = 10.32 ,Validation loss = 0.45000\n",
            "Epoch 2: training_accuracy = 9.96 %, training_loss= 0.45012  ,Validation accuracy = 10.32 ,Validation loss = 0.45000\n",
            "Epoch 3: training_accuracy = 9.96 %, training_loss= 0.45011  ,Validation accuracy = 10.32 ,Validation loss = 0.45000\n",
            "Epoch 4: training_accuracy = 9.96 %, training_loss= 0.45011  ,Validation accuracy = 10.32 ,Validation loss = 0.44999\n",
            "Epoch 5: training_accuracy = 9.96 %, training_loss= 0.45010  ,Validation accuracy = 10.32 ,Validation loss = 0.44999\n",
            "Epoch 6: training_accuracy = 10.02 %, training_loss= 0.45010  ,Validation accuracy = 9.83 ,Validation loss = 0.44999\n",
            "Epoch 7: training_accuracy = 10.02 %, training_loss= 0.45010  ,Validation accuracy = 9.83 ,Validation loss = 0.44999\n",
            "Epoch 8: training_accuracy = 10.02 %, training_loss= 0.45009  ,Validation accuracy = 9.83 ,Validation loss = 0.44999\n",
            "Epoch 9: training_accuracy = 10.02 %, training_loss= 0.45009  ,Validation accuracy = 9.83 ,Validation loss = 0.44999\n",
            "Epoch 10: training_accuracy = 10.02 %, training_loss= 0.45009  ,Validation accuracy = 9.83 ,Validation loss = 0.44998\n",
            "Epoch 11: training_accuracy = 10.02 %, training_loss= 0.45008  ,Validation accuracy = 9.83 ,Validation loss = 0.44998\n",
            "Epoch 12: training_accuracy = 10.02 %, training_loss= 0.45008  ,Validation accuracy = 9.83 ,Validation loss = 0.44998\n",
            "Epoch 13: training_accuracy = 10.02 %, training_loss= 0.45008  ,Validation accuracy = 9.83 ,Validation loss = 0.44998\n",
            "Epoch 14: training_accuracy = 10.02 %, training_loss= 0.45008  ,Validation accuracy = 9.83 ,Validation loss = 0.44998\n",
            "Epoch 15: training_accuracy = 10.02 %, training_loss= 0.45007  ,Validation accuracy = 9.83 ,Validation loss = 0.44998\n",
            "Epoch 16: training_accuracy = 10.02 %, training_loss= 0.45007  ,Validation accuracy = 9.83 ,Validation loss = 0.44998\n",
            "Epoch 17: training_accuracy = 10.02 %, training_loss= 0.45007  ,Validation accuracy = 9.83 ,Validation loss = 0.44998\n",
            "Epoch 18: training_accuracy = 10.02 %, training_loss= 0.45007  ,Validation accuracy = 9.83 ,Validation loss = 0.44998\n",
            "Epoch 19: training_accuracy = 10.02 %, training_loss= 0.45007  ,Validation accuracy = 9.83 ,Validation loss = 0.44998\n"
          ]
        },
        {
          "output_type": "display_data",
          "data": {
            "text/html": [
              "<br/>Waiting for W&B process to finish, PID 1348... <strong style=\"color:green\">(success).</strong>"
            ],
            "text/plain": [
              "<IPython.core.display.HTML object>"
            ]
          },
          "metadata": {}
        },
        {
          "output_type": "display_data",
          "data": {
            "application/vnd.jupyter.widget-view+json": {
              "model_id": "e915e617ed1644fcaeb0105c0584815a",
              "version_minor": 0,
              "version_major": 2
            },
            "text/plain": [
              "VBox(children=(Label(value=' 0.00MB of 0.00MB uploaded (0.00MB deduped)\\r'), FloatProgress(value=1.0, max=1.0)…"
            ]
          },
          "metadata": {}
        },
        {
          "output_type": "display_data",
          "data": {
            "text/html": [
              "<style>\n",
              "    table.wandb td:nth-child(1) { padding: 0 10px; text-align: right }\n",
              "    .wandb-row { display: flex; flex-direction: row; flex-wrap: wrap; width: 100% }\n",
              "    .wandb-col { display: flex; flex-direction: column; flex-basis: 100%; flex: 1; padding: 10px; }\n",
              "    </style>\n",
              "<div class=\"wandb-row\"><div class=\"wandb-col\">\n",
              "<h3>Run history:</h3><br/><table class=\"wandb\"><tr><td>steps</td><td>▁▁▁▁▁▁▁▁▁▁▁▁▁▁▁▁▁▁▁▁</td></tr><tr><td>train_accuracy</td><td>▁▁▁▁▁▁██████████████</td></tr><tr><td>train_loss</td><td>█▆▆▆▅▅▄▄▄▃▃▃▂▂▂▂▂▁▁▁</td></tr><tr><td>val_accuracy</td><td>██████▁▁▁▁▁▁▁▁▁▁▁▁▁▁</td></tr><tr><td>val_loss</td><td>█▆▆▅▅▄▄▄▃▃▃▂▂▂▂▁▁▁▁▁</td></tr></table><br/></div><div class=\"wandb-col\">\n",
              "<h3>Run summary:</h3><br/><table class=\"wandb\"><tr><td>steps</td><td>20</td></tr><tr><td>train_accuracy</td><td>10.019</td></tr><tr><td>train_loss</td><td>0.45007</td></tr><tr><td>val_accuracy</td><td>9.833</td></tr><tr><td>val_loss</td><td>0.44998</td></tr></table>\n",
              "</div></div>\n",
              "Synced 5 W&B file(s), 0 media file(s), 0 artifact file(s) and 0 other file(s)\n",
              "<br/>Synced <strong style=\"color:#cdcd00\">lucky-sweep-20</strong>: <a href=\"https://wandb.ai/moni6264/test_mse_50/runs/ja3e5gax\" target=\"_blank\">https://wandb.ai/moni6264/test_mse_50/runs/ja3e5gax</a><br/>\n",
              "Find logs at: <code>./wandb/run-20220225_062638-ja3e5gax/logs</code><br/>\n"
            ],
            "text/plain": [
              "<IPython.core.display.HTML object>"
            ]
          },
          "metadata": {}
        },
        {
          "output_type": "stream",
          "name": "stderr",
          "text": [
            "\u001b[34m\u001b[1mwandb\u001b[0m: Agent Starting Run: as3kquxz with config:\n",
            "\u001b[34m\u001b[1mwandb\u001b[0m: \tactivation: sigmoid\n",
            "\u001b[34m\u001b[1mwandb\u001b[0m: \tbatch_size: 64\n",
            "\u001b[34m\u001b[1mwandb\u001b[0m: \tepochs: 20\n",
            "\u001b[34m\u001b[1mwandb\u001b[0m: \thidden_layer: [128, 128, 128]\n",
            "\u001b[34m\u001b[1mwandb\u001b[0m: \tinitilisation: xavier\n",
            "\u001b[34m\u001b[1mwandb\u001b[0m: \tlearning_rate: 0.01\n",
            "\u001b[34m\u001b[1mwandb\u001b[0m: \tloss_function: square_loss\n",
            "\u001b[34m\u001b[1mwandb\u001b[0m: \toptimiser: gd\n",
            "\u001b[34m\u001b[1mwandb\u001b[0m: \tweight_decay: 0\n",
            "\u001b[34m\u001b[1mwandb\u001b[0m: \u001b[33mWARNING\u001b[0m Ignored wandb.init() arg project when running a sweep.\n",
            "\u001b[34m\u001b[1mwandb\u001b[0m: \u001b[33mWARNING\u001b[0m Ignored wandb.init() arg entity when running a sweep.\n"
          ]
        },
        {
          "output_type": "display_data",
          "data": {
            "text/html": [
              "\n",
              "                    Syncing run <strong><a href=\"https://wandb.ai/moni6264/test_mse_50/runs/as3kquxz\" target=\"_blank\">hopeful-sweep-21</a></strong> to <a href=\"https://wandb.ai/moni6264/test_mse_50\" target=\"_blank\">Weights & Biases</a> (<a href=\"https://docs.wandb.com/integrations/jupyter.html\" target=\"_blank\">docs</a>).<br/>\n",
              "Sweep page: <a href=\"https://wandb.ai/moni6264/test_mse_50/sweeps/4hhn4fkp\" target=\"_blank\">https://wandb.ai/moni6264/test_mse_50/sweeps/4hhn4fkp</a><br/>\n",
              "\n",
              "                "
            ],
            "text/plain": [
              "<IPython.core.display.HTML object>"
            ]
          },
          "metadata": {}
        },
        {
          "output_type": "stream",
          "name": "stdout",
          "text": [
            "Epoch 0: training_accuracy = 3.09 %, training_loss= 0.46737  ,Validation accuracy = 3.00 ,Validation loss = 0.46705\n",
            "Epoch 1: training_accuracy = 5.86 %, training_loss= 0.46236  ,Validation accuracy = 5.72 ,Validation loss = 0.46193\n",
            "Epoch 2: training_accuracy = 6.38 %, training_loss= 0.45758  ,Validation accuracy = 6.45 ,Validation loss = 0.45760\n",
            "Epoch 3: training_accuracy = 6.42 %, training_loss= 0.45497  ,Validation accuracy = 6.28 ,Validation loss = 0.45537\n",
            "Epoch 4: training_accuracy = 6.48 %, training_loss= 0.45234  ,Validation accuracy = 6.25 ,Validation loss = 0.45254\n",
            "Epoch 5: training_accuracy = 6.47 %, training_loss= 0.45128  ,Validation accuracy = 5.98 ,Validation loss = 0.45127\n",
            "Epoch 6: training_accuracy = 6.32 %, training_loss= 0.45121  ,Validation accuracy = 5.92 ,Validation loss = 0.45118\n",
            "Epoch 7: training_accuracy = 6.41 %, training_loss= 0.45114  ,Validation accuracy = 6.03 ,Validation loss = 0.45111\n",
            "Epoch 8: training_accuracy = 6.55 %, training_loss= 0.45107  ,Validation accuracy = 6.15 ,Validation loss = 0.45104\n",
            "Epoch 9: training_accuracy = 6.65 %, training_loss= 0.45100  ,Validation accuracy = 6.25 ,Validation loss = 0.45097\n",
            "Epoch 10: training_accuracy = 6.74 %, training_loss= 0.45093  ,Validation accuracy = 6.47 ,Validation loss = 0.45091\n",
            "Epoch 11: training_accuracy = 6.87 %, training_loss= 0.45086  ,Validation accuracy = 6.67 ,Validation loss = 0.45084\n",
            "Epoch 12: training_accuracy = 6.99 %, training_loss= 0.45080  ,Validation accuracy = 6.75 ,Validation loss = 0.45077\n",
            "Epoch 13: training_accuracy = 7.11 %, training_loss= 0.45073  ,Validation accuracy = 6.90 ,Validation loss = 0.45070\n",
            "Epoch 14: training_accuracy = 7.25 %, training_loss= 0.45066  ,Validation accuracy = 7.03 ,Validation loss = 0.45064\n",
            "Epoch 15: training_accuracy = 7.37 %, training_loss= 0.45059  ,Validation accuracy = 7.12 ,Validation loss = 0.45057\n",
            "Epoch 16: training_accuracy = 7.46 %, training_loss= 0.45052  ,Validation accuracy = 7.17 ,Validation loss = 0.45050\n",
            "Epoch 17: training_accuracy = 7.57 %, training_loss= 0.45045  ,Validation accuracy = 7.30 ,Validation loss = 0.45043\n",
            "Epoch 18: training_accuracy = 7.67 %, training_loss= 0.45038  ,Validation accuracy = 7.43 ,Validation loss = 0.45036\n",
            "Epoch 19: training_accuracy = 7.79 %, training_loss= 0.45031  ,Validation accuracy = 7.60 ,Validation loss = 0.45030\n"
          ]
        },
        {
          "output_type": "display_data",
          "data": {
            "text/html": [
              "<br/>Waiting for W&B process to finish, PID 1389... <strong style=\"color:green\">(success).</strong>"
            ],
            "text/plain": [
              "<IPython.core.display.HTML object>"
            ]
          },
          "metadata": {}
        },
        {
          "output_type": "display_data",
          "data": {
            "application/vnd.jupyter.widget-view+json": {
              "model_id": "35e3124883674a6e912c248f811557a9",
              "version_minor": 0,
              "version_major": 2
            },
            "text/plain": [
              "VBox(children=(Label(value=' 0.00MB of 0.00MB uploaded (0.00MB deduped)\\r'), FloatProgress(value=1.0, max=1.0)…"
            ]
          },
          "metadata": {}
        },
        {
          "output_type": "display_data",
          "data": {
            "text/html": [
              "<style>\n",
              "    table.wandb td:nth-child(1) { padding: 0 10px; text-align: right }\n",
              "    .wandb-row { display: flex; flex-direction: row; flex-wrap: wrap; width: 100% }\n",
              "    .wandb-col { display: flex; flex-direction: column; flex-basis: 100%; flex: 1; padding: 10px; }\n",
              "    </style>\n",
              "<div class=\"wandb-row\"><div class=\"wandb-col\">\n",
              "<h3>Run history:</h3><br/><table class=\"wandb\"><tr><td>steps</td><td>▁▁▁▁▁▁▁▁▁▁▁▁▁▁▁▁▁▁▁▁</td></tr><tr><td>train_accuracy</td><td>▁▅▆▆▆▆▆▆▆▆▆▇▇▇▇▇████</td></tr><tr><td>train_loss</td><td>█▆▄▃▂▁▁▁▁▁▁▁▁▁▁▁▁▁▁▁</td></tr><tr><td>val_accuracy</td><td>▁▅▆▆▆▆▅▆▆▆▆▇▇▇▇▇▇███</td></tr><tr><td>val_loss</td><td>█▆▄▃▂▁▁▁▁▁▁▁▁▁▁▁▁▁▁▁</td></tr></table><br/></div><div class=\"wandb-col\">\n",
              "<h3>Run summary:</h3><br/><table class=\"wandb\"><tr><td>steps</td><td>20</td></tr><tr><td>train_accuracy</td><td>7.787</td></tr><tr><td>train_loss</td><td>0.45031</td></tr><tr><td>val_accuracy</td><td>7.6</td></tr><tr><td>val_loss</td><td>0.4503</td></tr></table>\n",
              "</div></div>\n",
              "Synced 5 W&B file(s), 0 media file(s), 0 artifact file(s) and 0 other file(s)\n",
              "<br/>Synced <strong style=\"color:#cdcd00\">hopeful-sweep-21</strong>: <a href=\"https://wandb.ai/moni6264/test_mse_50/runs/as3kquxz\" target=\"_blank\">https://wandb.ai/moni6264/test_mse_50/runs/as3kquxz</a><br/>\n",
              "Find logs at: <code>./wandb/run-20220225_062807-as3kquxz/logs</code><br/>\n"
            ],
            "text/plain": [
              "<IPython.core.display.HTML object>"
            ]
          },
          "metadata": {}
        },
        {
          "output_type": "stream",
          "name": "stderr",
          "text": [
            "\u001b[34m\u001b[1mwandb\u001b[0m: Agent Starting Run: 4xr7scx4 with config:\n",
            "\u001b[34m\u001b[1mwandb\u001b[0m: \tactivation: tanh\n",
            "\u001b[34m\u001b[1mwandb\u001b[0m: \tbatch_size: 64\n",
            "\u001b[34m\u001b[1mwandb\u001b[0m: \tepochs: 20\n",
            "\u001b[34m\u001b[1mwandb\u001b[0m: \thidden_layer: [32, 64, 128, 256]\n",
            "\u001b[34m\u001b[1mwandb\u001b[0m: \tinitilisation: xavier\n",
            "\u001b[34m\u001b[1mwandb\u001b[0m: \tlearning_rate: 0.001\n",
            "\u001b[34m\u001b[1mwandb\u001b[0m: \tloss_function: square_loss\n",
            "\u001b[34m\u001b[1mwandb\u001b[0m: \toptimiser: ngd\n",
            "\u001b[34m\u001b[1mwandb\u001b[0m: \tweight_decay: 0.0005\n",
            "\u001b[34m\u001b[1mwandb\u001b[0m: \u001b[33mWARNING\u001b[0m Ignored wandb.init() arg project when running a sweep.\n",
            "\u001b[34m\u001b[1mwandb\u001b[0m: \u001b[33mWARNING\u001b[0m Ignored wandb.init() arg entity when running a sweep.\n"
          ]
        },
        {
          "output_type": "display_data",
          "data": {
            "text/html": [
              "\n",
              "                    Syncing run <strong><a href=\"https://wandb.ai/moni6264/test_mse_50/runs/4xr7scx4\" target=\"_blank\">vague-sweep-22</a></strong> to <a href=\"https://wandb.ai/moni6264/test_mse_50\" target=\"_blank\">Weights & Biases</a> (<a href=\"https://docs.wandb.com/integrations/jupyter.html\" target=\"_blank\">docs</a>).<br/>\n",
              "Sweep page: <a href=\"https://wandb.ai/moni6264/test_mse_50/sweeps/4hhn4fkp\" target=\"_blank\">https://wandb.ai/moni6264/test_mse_50/sweeps/4hhn4fkp</a><br/>\n",
              "\n",
              "                "
            ],
            "text/plain": [
              "<IPython.core.display.HTML object>"
            ]
          },
          "metadata": {}
        },
        {
          "output_type": "stream",
          "name": "stdout",
          "text": [
            "Epoch 0: training_accuracy = 9.95 %, training_loss= 0.90017  ,Validation accuracy = 10.45 ,Validation loss = 0.89518\n",
            "Epoch 1: training_accuracy = 9.95 %, training_loss= 0.90003  ,Validation accuracy = 10.45 ,Validation loss = 0.89504\n",
            "Epoch 2: training_accuracy = 9.95 %, training_loss= 0.89970  ,Validation accuracy = 10.45 ,Validation loss = 0.89470\n",
            "Epoch 3: training_accuracy = 9.95 %, training_loss= 0.89767  ,Validation accuracy = 10.45 ,Validation loss = 0.89270\n",
            "Epoch 4: training_accuracy = 18.71 %, training_loss= 0.45985  ,Validation accuracy = 18.50 ,Validation loss = 0.46003\n",
            "Epoch 5: training_accuracy = 27.68 %, training_loss= 0.43320  ,Validation accuracy = 26.95 ,Validation loss = 0.43409\n",
            "Epoch 6: training_accuracy = 33.76 %, training_loss= 0.41291  ,Validation accuracy = 33.23 ,Validation loss = 0.41393\n",
            "Epoch 7: training_accuracy = 37.82 %, training_loss= 0.39628  ,Validation accuracy = 37.22 ,Validation loss = 0.39742\n",
            "Epoch 8: training_accuracy = 40.24 %, training_loss= 0.38341  ,Validation accuracy = 40.02 ,Validation loss = 0.38468\n",
            "Epoch 9: training_accuracy = 41.99 %, training_loss= 0.37339  ,Validation accuracy = 41.38 ,Validation loss = 0.37480\n",
            "Epoch 10: training_accuracy = 43.17 %, training_loss= 0.36532  ,Validation accuracy = 42.72 ,Validation loss = 0.36688\n",
            "Epoch 11: training_accuracy = 44.14 %, training_loss= 0.35855  ,Validation accuracy = 43.63 ,Validation loss = 0.36026\n",
            "Epoch 12: training_accuracy = 44.95 %, training_loss= 0.35266  ,Validation accuracy = 44.55 ,Validation loss = 0.35450\n",
            "Epoch 13: training_accuracy = 45.61 %, training_loss= 0.34737  ,Validation accuracy = 45.12 ,Validation loss = 0.34932\n",
            "Epoch 14: training_accuracy = 46.26 %, training_loss= 0.34249  ,Validation accuracy = 45.77 ,Validation loss = 0.34454\n",
            "Epoch 15: training_accuracy = 46.94 %, training_loss= 0.33791  ,Validation accuracy = 46.20 ,Validation loss = 0.34004\n",
            "Epoch 16: training_accuracy = 47.64 %, training_loss= 0.33356  ,Validation accuracy = 46.75 ,Validation loss = 0.33574\n",
            "Epoch 17: training_accuracy = 48.33 %, training_loss= 0.32938  ,Validation accuracy = 47.52 ,Validation loss = 0.33159\n",
            "Epoch 18: training_accuracy = 48.98 %, training_loss= 0.32535  ,Validation accuracy = 48.20 ,Validation loss = 0.32758\n",
            "Epoch 19: training_accuracy = 49.69 %, training_loss= 0.32145  ,Validation accuracy = 49.02 ,Validation loss = 0.32367\n"
          ]
        },
        {
          "output_type": "display_data",
          "data": {
            "text/html": [
              "<br/>Waiting for W&B process to finish, PID 1428... <strong style=\"color:green\">(success).</strong>"
            ],
            "text/plain": [
              "<IPython.core.display.HTML object>"
            ]
          },
          "metadata": {}
        },
        {
          "output_type": "display_data",
          "data": {
            "application/vnd.jupyter.widget-view+json": {
              "model_id": "ced8746940d94a50977237c83993b0f6",
              "version_minor": 0,
              "version_major": 2
            },
            "text/plain": [
              "VBox(children=(Label(value=' 0.00MB of 0.00MB uploaded (0.00MB deduped)\\r'), FloatProgress(value=1.0, max=1.0)…"
            ]
          },
          "metadata": {}
        },
        {
          "output_type": "display_data",
          "data": {
            "text/html": [
              "<style>\n",
              "    table.wandb td:nth-child(1) { padding: 0 10px; text-align: right }\n",
              "    .wandb-row { display: flex; flex-direction: row; flex-wrap: wrap; width: 100% }\n",
              "    .wandb-col { display: flex; flex-direction: column; flex-basis: 100%; flex: 1; padding: 10px; }\n",
              "    </style>\n",
              "<div class=\"wandb-row\"><div class=\"wandb-col\">\n",
              "<h3>Run history:</h3><br/><table class=\"wandb\"><tr><td>steps</td><td>▁▁▁▁▁▁▁▁▁▁▁▁▁▁▁▁▁▁▁▁</td></tr><tr><td>train_accuracy</td><td>▁▁▁▁▃▄▅▆▆▇▇▇▇▇▇█████</td></tr><tr><td>train_loss</td><td>████▃▂▂▂▂▂▂▁▁▁▁▁▁▁▁▁</td></tr><tr><td>val_accuracy</td><td>▁▁▁▁▂▄▅▆▆▇▇▇▇▇▇▇████</td></tr><tr><td>val_loss</td><td>████▃▂▂▂▂▂▂▁▁▁▁▁▁▁▁▁</td></tr></table><br/></div><div class=\"wandb-col\">\n",
              "<h3>Run summary:</h3><br/><table class=\"wandb\"><tr><td>steps</td><td>20</td></tr><tr><td>train_accuracy</td><td>49.693</td></tr><tr><td>train_loss</td><td>0.32145</td></tr><tr><td>val_accuracy</td><td>49.017</td></tr><tr><td>val_loss</td><td>0.32367</td></tr></table>\n",
              "</div></div>\n",
              "Synced 5 W&B file(s), 0 media file(s), 0 artifact file(s) and 0 other file(s)\n",
              "<br/>Synced <strong style=\"color:#cdcd00\">vague-sweep-22</strong>: <a href=\"https://wandb.ai/moni6264/test_mse_50/runs/4xr7scx4\" target=\"_blank\">https://wandb.ai/moni6264/test_mse_50/runs/4xr7scx4</a><br/>\n",
              "Find logs at: <code>./wandb/run-20220225_063137-4xr7scx4/logs</code><br/>\n"
            ],
            "text/plain": [
              "<IPython.core.display.HTML object>"
            ]
          },
          "metadata": {}
        },
        {
          "output_type": "stream",
          "name": "stderr",
          "text": [
            "\u001b[34m\u001b[1mwandb\u001b[0m: Agent Starting Run: vqtcrukk with config:\n",
            "\u001b[34m\u001b[1mwandb\u001b[0m: \tactivation: tanh\n",
            "\u001b[34m\u001b[1mwandb\u001b[0m: \tbatch_size: 64\n",
            "\u001b[34m\u001b[1mwandb\u001b[0m: \tepochs: 10\n",
            "\u001b[34m\u001b[1mwandb\u001b[0m: \thidden_layer: [32, 64]\n",
            "\u001b[34m\u001b[1mwandb\u001b[0m: \tinitilisation: xavier\n",
            "\u001b[34m\u001b[1mwandb\u001b[0m: \tlearning_rate: 0.01\n",
            "\u001b[34m\u001b[1mwandb\u001b[0m: \tloss_function: square_loss\n",
            "\u001b[34m\u001b[1mwandb\u001b[0m: \toptimiser: gd\n",
            "\u001b[34m\u001b[1mwandb\u001b[0m: \tweight_decay: 0.0005\n",
            "\u001b[34m\u001b[1mwandb\u001b[0m: \u001b[33mWARNING\u001b[0m Ignored wandb.init() arg project when running a sweep.\n",
            "\u001b[34m\u001b[1mwandb\u001b[0m: \u001b[33mWARNING\u001b[0m Ignored wandb.init() arg entity when running a sweep.\n"
          ]
        },
        {
          "output_type": "display_data",
          "data": {
            "text/html": [
              "\n",
              "                    Syncing run <strong><a href=\"https://wandb.ai/moni6264/test_mse_50/runs/vqtcrukk\" target=\"_blank\">balmy-sweep-23</a></strong> to <a href=\"https://wandb.ai/moni6264/test_mse_50\" target=\"_blank\">Weights & Biases</a> (<a href=\"https://docs.wandb.com/integrations/jupyter.html\" target=\"_blank\">docs</a>).<br/>\n",
              "Sweep page: <a href=\"https://wandb.ai/moni6264/test_mse_50/sweeps/4hhn4fkp\" target=\"_blank\">https://wandb.ai/moni6264/test_mse_50/sweeps/4hhn4fkp</a><br/>\n",
              "\n",
              "                "
            ],
            "text/plain": [
              "<IPython.core.display.HTML object>"
            ]
          },
          "metadata": {}
        },
        {
          "output_type": "stream",
          "name": "stdout",
          "text": [
            "Epoch 0: training_accuracy = 17.53 %, training_loss= 0.48896  ,Validation accuracy = 17.53 ,Validation loss = 0.48857\n",
            "Epoch 1: training_accuracy = 20.22 %, training_loss= 0.46442  ,Validation accuracy = 19.82 ,Validation loss = 0.46508\n",
            "Epoch 2: training_accuracy = 23.71 %, training_loss= 0.44350  ,Validation accuracy = 23.18 ,Validation loss = 0.44482\n",
            "Epoch 3: training_accuracy = 27.62 %, training_loss= 0.42449  ,Validation accuracy = 26.57 ,Validation loss = 0.42622\n",
            "Epoch 4: training_accuracy = 31.44 %, training_loss= 0.40715  ,Validation accuracy = 30.53 ,Validation loss = 0.40905\n",
            "Epoch 5: training_accuracy = 34.95 %, training_loss= 0.39091  ,Validation accuracy = 33.98 ,Validation loss = 0.39282\n",
            "Epoch 6: training_accuracy = 38.14 %, training_loss= 0.37560  ,Validation accuracy = 37.80 ,Validation loss = 0.37749\n",
            "Epoch 7: training_accuracy = 41.15 %, training_loss= 0.36120  ,Validation accuracy = 40.18 ,Validation loss = 0.36311\n",
            "Epoch 8: training_accuracy = 44.69 %, training_loss= 0.34781  ,Validation accuracy = 43.28 ,Validation loss = 0.34979\n",
            "Epoch 9: training_accuracy = 47.68 %, training_loss= 0.33564  ,Validation accuracy = 46.43 ,Validation loss = 0.33772\n"
          ]
        },
        {
          "output_type": "display_data",
          "data": {
            "text/html": [
              "<br/>Waiting for W&B process to finish, PID 1483... <strong style=\"color:green\">(success).</strong>"
            ],
            "text/plain": [
              "<IPython.core.display.HTML object>"
            ]
          },
          "metadata": {}
        },
        {
          "output_type": "display_data",
          "data": {
            "application/vnd.jupyter.widget-view+json": {
              "model_id": "477f228acdb848028c0f3f26674986a8",
              "version_minor": 0,
              "version_major": 2
            },
            "text/plain": [
              "VBox(children=(Label(value=' 0.00MB of 0.00MB uploaded (0.00MB deduped)\\r'), FloatProgress(value=1.0, max=1.0)…"
            ]
          },
          "metadata": {}
        },
        {
          "output_type": "display_data",
          "data": {
            "text/html": [
              "<style>\n",
              "    table.wandb td:nth-child(1) { padding: 0 10px; text-align: right }\n",
              "    .wandb-row { display: flex; flex-direction: row; flex-wrap: wrap; width: 100% }\n",
              "    .wandb-col { display: flex; flex-direction: column; flex-basis: 100%; flex: 1; padding: 10px; }\n",
              "    </style>\n",
              "<div class=\"wandb-row\"><div class=\"wandb-col\">\n",
              "<h3>Run history:</h3><br/><table class=\"wandb\"><tr><td>steps</td><td>▁▁▁▁▁▁▁▁▁▁</td></tr><tr><td>train_accuracy</td><td>▁▂▂▃▄▅▆▆▇█</td></tr><tr><td>train_loss</td><td>█▇▆▅▄▄▃▂▂▁</td></tr><tr><td>val_accuracy</td><td>▁▂▂▃▄▅▆▆▇█</td></tr><tr><td>val_loss</td><td>█▇▆▅▄▄▃▂▂▁</td></tr></table><br/></div><div class=\"wandb-col\">\n",
              "<h3>Run summary:</h3><br/><table class=\"wandb\"><tr><td>steps</td><td>10</td></tr><tr><td>train_accuracy</td><td>47.68</td></tr><tr><td>train_loss</td><td>0.33564</td></tr><tr><td>val_accuracy</td><td>46.433</td></tr><tr><td>val_loss</td><td>0.33772</td></tr></table>\n",
              "</div></div>\n",
              "Synced 5 W&B file(s), 0 media file(s), 0 artifact file(s) and 0 other file(s)\n",
              "<br/>Synced <strong style=\"color:#cdcd00\">balmy-sweep-23</strong>: <a href=\"https://wandb.ai/moni6264/test_mse_50/runs/vqtcrukk\" target=\"_blank\">https://wandb.ai/moni6264/test_mse_50/runs/vqtcrukk</a><br/>\n",
              "Find logs at: <code>./wandb/run-20220225_063707-vqtcrukk/logs</code><br/>\n"
            ],
            "text/plain": [
              "<IPython.core.display.HTML object>"
            ]
          },
          "metadata": {}
        },
        {
          "output_type": "stream",
          "name": "stderr",
          "text": [
            "\u001b[34m\u001b[1mwandb\u001b[0m: Agent Starting Run: ki72q0ey with config:\n",
            "\u001b[34m\u001b[1mwandb\u001b[0m: \tactivation: sigmoid\n",
            "\u001b[34m\u001b[1mwandb\u001b[0m: \tbatch_size: 256\n",
            "\u001b[34m\u001b[1mwandb\u001b[0m: \tepochs: 10\n",
            "\u001b[34m\u001b[1mwandb\u001b[0m: \thidden_layer: [32, 64, 128]\n",
            "\u001b[34m\u001b[1mwandb\u001b[0m: \tinitilisation: xavier\n",
            "\u001b[34m\u001b[1mwandb\u001b[0m: \tlearning_rate: 0.001\n",
            "\u001b[34m\u001b[1mwandb\u001b[0m: \tloss_function: square_loss\n",
            "\u001b[34m\u001b[1mwandb\u001b[0m: \toptimiser: gd\n",
            "\u001b[34m\u001b[1mwandb\u001b[0m: \tweight_decay: 0.0005\n",
            "\u001b[34m\u001b[1mwandb\u001b[0m: \u001b[33mWARNING\u001b[0m Ignored wandb.init() arg project when running a sweep.\n",
            "\u001b[34m\u001b[1mwandb\u001b[0m: \u001b[33mWARNING\u001b[0m Ignored wandb.init() arg entity when running a sweep.\n"
          ]
        },
        {
          "output_type": "display_data",
          "data": {
            "text/html": [
              "\n",
              "                    Syncing run <strong><a href=\"https://wandb.ai/moni6264/test_mse_50/runs/ki72q0ey\" target=\"_blank\">lyric-sweep-24</a></strong> to <a href=\"https://wandb.ai/moni6264/test_mse_50\" target=\"_blank\">Weights & Biases</a> (<a href=\"https://docs.wandb.com/integrations/jupyter.html\" target=\"_blank\">docs</a>).<br/>\n",
              "Sweep page: <a href=\"https://wandb.ai/moni6264/test_mse_50/sweeps/4hhn4fkp\" target=\"_blank\">https://wandb.ai/moni6264/test_mse_50/sweeps/4hhn4fkp</a><br/>\n",
              "\n",
              "                "
            ],
            "text/plain": [
              "<IPython.core.display.HTML object>"
            ]
          },
          "metadata": {}
        },
        {
          "output_type": "stream",
          "name": "stdout",
          "text": [
            "Epoch 0: training_accuracy = 9.98 %, training_loss= 0.70031  ,Validation accuracy = 10.18 ,Validation loss = 0.69819\n",
            "Epoch 1: training_accuracy = 9.98 %, training_loss= 0.60746  ,Validation accuracy = 10.18 ,Validation loss = 0.60556\n",
            "Epoch 2: training_accuracy = 9.98 %, training_loss= 0.55924  ,Validation accuracy = 10.18 ,Validation loss = 0.55788\n",
            "Epoch 3: training_accuracy = 10.41 %, training_loss= 0.53205  ,Validation accuracy = 10.57 ,Validation loss = 0.53130\n",
            "Epoch 4: training_accuracy = 9.99 %, training_loss= 0.51627  ,Validation accuracy = 10.53 ,Validation loss = 0.51598\n",
            "Epoch 5: training_accuracy = 9.44 %, training_loss= 0.50719  ,Validation accuracy = 9.65 ,Validation loss = 0.50716\n",
            "Epoch 6: training_accuracy = 9.13 %, training_loss= 0.50162  ,Validation accuracy = 9.53 ,Validation loss = 0.50173\n",
            "Epoch 7: training_accuracy = 8.96 %, training_loss= 0.49791  ,Validation accuracy = 9.42 ,Validation loss = 0.49807\n",
            "Epoch 8: training_accuracy = 8.62 %, training_loss= 0.49522  ,Validation accuracy = 8.97 ,Validation loss = 0.49539\n",
            "Epoch 9: training_accuracy = 8.22 %, training_loss= 0.49312  ,Validation accuracy = 8.78 ,Validation loss = 0.49328\n"
          ]
        },
        {
          "output_type": "display_data",
          "data": {
            "text/html": [
              "<br/>Waiting for W&B process to finish, PID 1522... <strong style=\"color:green\">(success).</strong>"
            ],
            "text/plain": [
              "<IPython.core.display.HTML object>"
            ]
          },
          "metadata": {}
        },
        {
          "output_type": "display_data",
          "data": {
            "application/vnd.jupyter.widget-view+json": {
              "model_id": "dcf337cd39774799987005fc77de2676",
              "version_minor": 0,
              "version_major": 2
            },
            "text/plain": [
              "VBox(children=(Label(value=' 0.00MB of 0.00MB uploaded (0.00MB deduped)\\r'), FloatProgress(value=1.0, max=1.0)…"
            ]
          },
          "metadata": {}
        },
        {
          "output_type": "display_data",
          "data": {
            "text/html": [
              "<style>\n",
              "    table.wandb td:nth-child(1) { padding: 0 10px; text-align: right }\n",
              "    .wandb-row { display: flex; flex-direction: row; flex-wrap: wrap; width: 100% }\n",
              "    .wandb-col { display: flex; flex-direction: column; flex-basis: 100%; flex: 1; padding: 10px; }\n",
              "    </style>\n",
              "<div class=\"wandb-row\"><div class=\"wandb-col\">\n",
              "<h3>Run history:</h3><br/><table class=\"wandb\"><tr><td>steps</td><td>▁▁▁▁▁▁▁▁▁▁</td></tr><tr><td>train_accuracy</td><td>▇▇▇█▇▅▄▃▂▁</td></tr><tr><td>train_loss</td><td>█▅▃▂▂▁▁▁▁▁</td></tr><tr><td>val_accuracy</td><td>▆▆▆██▄▄▃▂▁</td></tr><tr><td>val_loss</td><td>█▅▃▂▂▁▁▁▁▁</td></tr></table><br/></div><div class=\"wandb-col\">\n",
              "<h3>Run summary:</h3><br/><table class=\"wandb\"><tr><td>steps</td><td>10</td></tr><tr><td>train_accuracy</td><td>8.222</td></tr><tr><td>train_loss</td><td>0.49312</td></tr><tr><td>val_accuracy</td><td>8.783</td></tr><tr><td>val_loss</td><td>0.49328</td></tr></table>\n",
              "</div></div>\n",
              "Synced 5 W&B file(s), 0 media file(s), 0 artifact file(s) and 0 other file(s)\n",
              "<br/>Synced <strong style=\"color:#cdcd00\">lyric-sweep-24</strong>: <a href=\"https://wandb.ai/moni6264/test_mse_50/runs/ki72q0ey\" target=\"_blank\">https://wandb.ai/moni6264/test_mse_50/runs/ki72q0ey</a><br/>\n",
              "Find logs at: <code>./wandb/run-20220225_063804-ki72q0ey/logs</code><br/>\n"
            ],
            "text/plain": [
              "<IPython.core.display.HTML object>"
            ]
          },
          "metadata": {}
        },
        {
          "output_type": "stream",
          "name": "stderr",
          "text": [
            "\u001b[34m\u001b[1mwandb\u001b[0m: Sweep Agent: Waiting for job.\n",
            "\u001b[34m\u001b[1mwandb\u001b[0m: Job received.\n",
            "\u001b[34m\u001b[1mwandb\u001b[0m: Agent Starting Run: 5opurxgp with config:\n",
            "\u001b[34m\u001b[1mwandb\u001b[0m: \tactivation: relu\n",
            "\u001b[34m\u001b[1mwandb\u001b[0m: \tbatch_size: 256\n",
            "\u001b[34m\u001b[1mwandb\u001b[0m: \tepochs: 10\n",
            "\u001b[34m\u001b[1mwandb\u001b[0m: \thidden_layer: [32, 64, 128]\n",
            "\u001b[34m\u001b[1mwandb\u001b[0m: \tinitilisation: xavier\n",
            "\u001b[34m\u001b[1mwandb\u001b[0m: \tlearning_rate: 0.001\n",
            "\u001b[34m\u001b[1mwandb\u001b[0m: \tloss_function: square_loss\n",
            "\u001b[34m\u001b[1mwandb\u001b[0m: \toptimiser: nadam\n",
            "\u001b[34m\u001b[1mwandb\u001b[0m: \tweight_decay: 0.5\n",
            "\u001b[34m\u001b[1mwandb\u001b[0m: \u001b[33mWARNING\u001b[0m Ignored wandb.init() arg project when running a sweep.\n",
            "\u001b[34m\u001b[1mwandb\u001b[0m: \u001b[33mWARNING\u001b[0m Ignored wandb.init() arg entity when running a sweep.\n"
          ]
        },
        {
          "output_type": "display_data",
          "data": {
            "text/html": [
              "\n",
              "                    Syncing run <strong><a href=\"https://wandb.ai/moni6264/test_mse_50/runs/5opurxgp\" target=\"_blank\">upbeat-sweep-25</a></strong> to <a href=\"https://wandb.ai/moni6264/test_mse_50\" target=\"_blank\">Weights & Biases</a> (<a href=\"https://docs.wandb.com/integrations/jupyter.html\" target=\"_blank\">docs</a>).<br/>\n",
              "Sweep page: <a href=\"https://wandb.ai/moni6264/test_mse_50/sweeps/4hhn4fkp\" target=\"_blank\">https://wandb.ai/moni6264/test_mse_50/sweeps/4hhn4fkp</a><br/>\n",
              "\n",
              "                "
            ],
            "text/plain": [
              "<IPython.core.display.HTML object>"
            ]
          },
          "metadata": {}
        },
        {
          "output_type": "stream",
          "name": "stdout",
          "text": [
            "Epoch 0: training_accuracy = 10.01 %, training_loss= 0.89994  ,Validation accuracy = 9.95 ,Validation loss = 0.90050\n",
            "Epoch 1: training_accuracy = 10.01 %, training_loss= 0.89994  ,Validation accuracy = 9.95 ,Validation loss = 0.90050\n",
            "Epoch 2: training_accuracy = 10.01 %, training_loss= 0.89993  ,Validation accuracy = 9.95 ,Validation loss = 0.90049\n"
          ]
        },
        {
          "output_type": "stream",
          "name": "stderr",
          "text": [
            "/usr/local/lib/python3.7/dist-packages/ipykernel_launcher.py:26: RuntimeWarning: invalid value encountered in true_divide\n"
          ]
        },
        {
          "output_type": "stream",
          "name": "stdout",
          "text": [
            "Epoch 3: training_accuracy = 10.01 %, training_loss= nan  ,Validation accuracy = 9.95 ,Validation loss = nan\n",
            "Epoch 4: training_accuracy = 10.01 %, training_loss= nan  ,Validation accuracy = 9.95 ,Validation loss = nan\n",
            "Epoch 5: training_accuracy = 10.01 %, training_loss= nan  ,Validation accuracy = 9.95 ,Validation loss = nan\n",
            "Epoch 6: training_accuracy = 10.01 %, training_loss= nan  ,Validation accuracy = 9.95 ,Validation loss = nan\n",
            "Epoch 7: training_accuracy = 10.01 %, training_loss= nan  ,Validation accuracy = 9.95 ,Validation loss = nan\n",
            "Epoch 8: training_accuracy = 10.01 %, training_loss= nan  ,Validation accuracy = 9.95 ,Validation loss = nan\n",
            "Epoch 9: training_accuracy = 10.01 %, training_loss= nan  ,Validation accuracy = 9.95 ,Validation loss = nan\n"
          ]
        },
        {
          "output_type": "display_data",
          "data": {
            "text/html": [
              "<br/>Waiting for W&B process to finish, PID 1561... <strong style=\"color:green\">(success).</strong>"
            ],
            "text/plain": [
              "<IPython.core.display.HTML object>"
            ]
          },
          "metadata": {}
        },
        {
          "output_type": "display_data",
          "data": {
            "application/vnd.jupyter.widget-view+json": {
              "model_id": "d4e2bc29bbb948fcba65e82673d2f59a",
              "version_minor": 0,
              "version_major": 2
            },
            "text/plain": [
              "VBox(children=(Label(value=' 0.00MB of 0.00MB uploaded (0.00MB deduped)\\r'), FloatProgress(value=1.0, max=1.0)…"
            ]
          },
          "metadata": {}
        },
        {
          "output_type": "display_data",
          "data": {
            "text/html": [
              "<style>\n",
              "    table.wandb td:nth-child(1) { padding: 0 10px; text-align: right }\n",
              "    .wandb-row { display: flex; flex-direction: row; flex-wrap: wrap; width: 100% }\n",
              "    .wandb-col { display: flex; flex-direction: column; flex-basis: 100%; flex: 1; padding: 10px; }\n",
              "    </style>\n",
              "<div class=\"wandb-row\"><div class=\"wandb-col\">\n",
              "<h3>Run history:</h3><br/><table class=\"wandb\"><tr><td>steps</td><td>▁▁▁▁▁▁▁▁▁▁</td></tr><tr><td>train_accuracy</td><td>▁▁▁▁▁▁▁▁▁▁</td></tr><tr><td>train_loss</td><td>██▁       </td></tr><tr><td>val_accuracy</td><td>▁▁▁▁▁▁▁▁▁▁</td></tr><tr><td>val_loss</td><td>██▁       </td></tr></table><br/></div><div class=\"wandb-col\">\n",
              "<h3>Run summary:</h3><br/><table class=\"wandb\"><tr><td>steps</td><td>10</td></tr><tr><td>train_accuracy</td><td>10.006</td></tr><tr><td>train_loss</td><td>nan</td></tr><tr><td>val_accuracy</td><td>9.95</td></tr><tr><td>val_loss</td><td>nan</td></tr></table>\n",
              "</div></div>\n",
              "Synced 5 W&B file(s), 0 media file(s), 0 artifact file(s) and 0 other file(s)\n",
              "<br/>Synced <strong style=\"color:#cdcd00\">upbeat-sweep-25</strong>: <a href=\"https://wandb.ai/moni6264/test_mse_50/runs/5opurxgp\" target=\"_blank\">https://wandb.ai/moni6264/test_mse_50/runs/5opurxgp</a><br/>\n",
              "Find logs at: <code>./wandb/run-20220225_063923-5opurxgp/logs</code><br/>\n"
            ],
            "text/plain": [
              "<IPython.core.display.HTML object>"
            ]
          },
          "metadata": {}
        },
        {
          "output_type": "stream",
          "name": "stderr",
          "text": [
            "\u001b[34m\u001b[1mwandb\u001b[0m: Agent Starting Run: kqaajhc9 with config:\n",
            "\u001b[34m\u001b[1mwandb\u001b[0m: \tactivation: relu\n",
            "\u001b[34m\u001b[1mwandb\u001b[0m: \tbatch_size: 128\n",
            "\u001b[34m\u001b[1mwandb\u001b[0m: \tepochs: 20\n",
            "\u001b[34m\u001b[1mwandb\u001b[0m: \thidden_layer: [64, 64, 64]\n",
            "\u001b[34m\u001b[1mwandb\u001b[0m: \tinitilisation: xavier\n",
            "\u001b[34m\u001b[1mwandb\u001b[0m: \tlearning_rate: 0.001\n",
            "\u001b[34m\u001b[1mwandb\u001b[0m: \tloss_function: square_loss\n",
            "\u001b[34m\u001b[1mwandb\u001b[0m: \toptimiser: ngd\n",
            "\u001b[34m\u001b[1mwandb\u001b[0m: \tweight_decay: 0.5\n",
            "\u001b[34m\u001b[1mwandb\u001b[0m: \u001b[33mWARNING\u001b[0m Ignored wandb.init() arg project when running a sweep.\n",
            "\u001b[34m\u001b[1mwandb\u001b[0m: \u001b[33mWARNING\u001b[0m Ignored wandb.init() arg entity when running a sweep.\n"
          ]
        },
        {
          "output_type": "display_data",
          "data": {
            "text/html": [
              "\n",
              "                    Syncing run <strong><a href=\"https://wandb.ai/moni6264/test_mse_50/runs/kqaajhc9\" target=\"_blank\">divine-sweep-26</a></strong> to <a href=\"https://wandb.ai/moni6264/test_mse_50\" target=\"_blank\">Weights & Biases</a> (<a href=\"https://docs.wandb.com/integrations/jupyter.html\" target=\"_blank\">docs</a>).<br/>\n",
              "Sweep page: <a href=\"https://wandb.ai/moni6264/test_mse_50/sweeps/4hhn4fkp\" target=\"_blank\">https://wandb.ai/moni6264/test_mse_50/sweeps/4hhn4fkp</a><br/>\n",
              "\n",
              "                "
            ],
            "text/plain": [
              "<IPython.core.display.HTML object>"
            ]
          },
          "metadata": {}
        },
        {
          "output_type": "stream",
          "name": "stdout",
          "text": [
            "Epoch 0: training_accuracy = 16.18 %, training_loss= 0.48328  ,Validation accuracy = 15.85 ,Validation loss = 0.48524\n",
            "Epoch 1: training_accuracy = 20.25 %, training_loss= 0.44755  ,Validation accuracy = 18.95 ,Validation loss = 0.44869\n",
            "Epoch 2: training_accuracy = 20.59 %, training_loss= 0.44643  ,Validation accuracy = 19.93 ,Validation loss = 0.44702\n",
            "Epoch 3: training_accuracy = 19.46 %, training_loss= 0.44893  ,Validation accuracy = 18.63 ,Validation loss = 0.44930\n",
            "Epoch 4: training_accuracy = 18.22 %, training_loss= 0.44916  ,Validation accuracy = 18.40 ,Validation loss = 0.44941\n",
            "Epoch 5: training_accuracy = 13.29 %, training_loss= 0.44946  ,Validation accuracy = 13.38 ,Validation loss = 0.44964\n",
            "Epoch 6: training_accuracy = 9.95 %, training_loss= 0.44992  ,Validation accuracy = 10.45 ,Validation loss = 0.45004\n",
            "Epoch 7: training_accuracy = 9.95 %, training_loss= 0.45019  ,Validation accuracy = 10.45 ,Validation loss = 0.45026\n",
            "Epoch 8: training_accuracy = 9.95 %, training_loss= 0.45032  ,Validation accuracy = 10.45 ,Validation loss = 0.45037\n",
            "Epoch 9: training_accuracy = 9.95 %, training_loss= 0.45035  ,Validation accuracy = 10.45 ,Validation loss = 0.45038\n",
            "Epoch 10: training_accuracy = 9.95 %, training_loss= 0.45036  ,Validation accuracy = 10.45 ,Validation loss = 0.45039\n",
            "Epoch 11: training_accuracy = 9.95 %, training_loss= 0.45037  ,Validation accuracy = 10.45 ,Validation loss = 0.45039\n",
            "Epoch 12: training_accuracy = 9.95 %, training_loss= 0.45037  ,Validation accuracy = 10.45 ,Validation loss = 0.45039\n",
            "Epoch 13: training_accuracy = 9.95 %, training_loss= 0.45036  ,Validation accuracy = 10.45 ,Validation loss = 0.45038\n",
            "Epoch 14: training_accuracy = 9.95 %, training_loss= 0.45036  ,Validation accuracy = 10.45 ,Validation loss = 0.45038\n",
            "Epoch 15: training_accuracy = 9.95 %, training_loss= 0.45036  ,Validation accuracy = 10.45 ,Validation loss = 0.45038\n",
            "Epoch 16: training_accuracy = 9.95 %, training_loss= 0.45035  ,Validation accuracy = 10.45 ,Validation loss = 0.45037\n",
            "Epoch 17: training_accuracy = 9.95 %, training_loss= 0.45035  ,Validation accuracy = 10.45 ,Validation loss = 0.45037\n",
            "Epoch 18: training_accuracy = 9.95 %, training_loss= 0.45034  ,Validation accuracy = 10.45 ,Validation loss = 0.45036\n",
            "Epoch 19: training_accuracy = 9.95 %, training_loss= 0.45034  ,Validation accuracy = 10.45 ,Validation loss = 0.45036\n"
          ]
        },
        {
          "output_type": "display_data",
          "data": {
            "text/html": [
              "<br/>Waiting for W&B process to finish, PID 1600... <strong style=\"color:green\">(success).</strong>"
            ],
            "text/plain": [
              "<IPython.core.display.HTML object>"
            ]
          },
          "metadata": {}
        },
        {
          "output_type": "display_data",
          "data": {
            "application/vnd.jupyter.widget-view+json": {
              "model_id": "794dcf13df0e4618b8abf27559598b90",
              "version_minor": 0,
              "version_major": 2
            },
            "text/plain": [
              "VBox(children=(Label(value=' 0.00MB of 0.00MB uploaded (0.00MB deduped)\\r'), FloatProgress(value=1.0, max=1.0)…"
            ]
          },
          "metadata": {}
        },
        {
          "output_type": "display_data",
          "data": {
            "text/html": [
              "<style>\n",
              "    table.wandb td:nth-child(1) { padding: 0 10px; text-align: right }\n",
              "    .wandb-row { display: flex; flex-direction: row; flex-wrap: wrap; width: 100% }\n",
              "    .wandb-col { display: flex; flex-direction: column; flex-basis: 100%; flex: 1; padding: 10px; }\n",
              "    </style>\n",
              "<div class=\"wandb-row\"><div class=\"wandb-col\">\n",
              "<h3>Run history:</h3><br/><table class=\"wandb\"><tr><td>steps</td><td>▁▁▁▁▁▁▁▁▁▁▁▁▁▁▁▁▁▁▁▁</td></tr><tr><td>train_accuracy</td><td>▅██▇▆▃▁▁▁▁▁▁▁▁▁▁▁▁▁▁</td></tr><tr><td>train_loss</td><td>█▁▁▁▂▂▂▂▂▂▂▂▂▂▂▂▂▂▂▂</td></tr><tr><td>val_accuracy</td><td>▅▇█▇▇▃▁▁▁▁▁▁▁▁▁▁▁▁▁▁</td></tr><tr><td>val_loss</td><td>█▁▁▁▁▁▂▂▂▂▂▂▂▂▂▂▂▂▂▂</td></tr></table><br/></div><div class=\"wandb-col\">\n",
              "<h3>Run summary:</h3><br/><table class=\"wandb\"><tr><td>steps</td><td>20</td></tr><tr><td>train_accuracy</td><td>9.95</td></tr><tr><td>train_loss</td><td>0.45034</td></tr><tr><td>val_accuracy</td><td>10.45</td></tr><tr><td>val_loss</td><td>0.45036</td></tr></table>\n",
              "</div></div>\n",
              "Synced 5 W&B file(s), 0 media file(s), 0 artifact file(s) and 0 other file(s)\n",
              "<br/>Synced <strong style=\"color:#cdcd00\">divine-sweep-26</strong>: <a href=\"https://wandb.ai/moni6264/test_mse_50/runs/kqaajhc9\" target=\"_blank\">https://wandb.ai/moni6264/test_mse_50/runs/kqaajhc9</a><br/>\n",
              "Find logs at: <code>./wandb/run-20220225_064027-kqaajhc9/logs</code><br/>\n"
            ],
            "text/plain": [
              "<IPython.core.display.HTML object>"
            ]
          },
          "metadata": {}
        },
        {
          "output_type": "stream",
          "name": "stderr",
          "text": [
            "\u001b[34m\u001b[1mwandb\u001b[0m: Agent Starting Run: wv7mr7vo with config:\n",
            "\u001b[34m\u001b[1mwandb\u001b[0m: \tactivation: tanh\n",
            "\u001b[34m\u001b[1mwandb\u001b[0m: \tbatch_size: 128\n",
            "\u001b[34m\u001b[1mwandb\u001b[0m: \tepochs: 15\n",
            "\u001b[34m\u001b[1mwandb\u001b[0m: \thidden_layer: [128, 128, 128]\n",
            "\u001b[34m\u001b[1mwandb\u001b[0m: \tinitilisation: xavier\n",
            "\u001b[34m\u001b[1mwandb\u001b[0m: \tlearning_rate: 0.01\n",
            "\u001b[34m\u001b[1mwandb\u001b[0m: \tloss_function: square_loss\n",
            "\u001b[34m\u001b[1mwandb\u001b[0m: \toptimiser: ngd\n",
            "\u001b[34m\u001b[1mwandb\u001b[0m: \tweight_decay: 0\n",
            "\u001b[34m\u001b[1mwandb\u001b[0m: \u001b[33mWARNING\u001b[0m Ignored wandb.init() arg project when running a sweep.\n",
            "\u001b[34m\u001b[1mwandb\u001b[0m: \u001b[33mWARNING\u001b[0m Ignored wandb.init() arg entity when running a sweep.\n"
          ]
        },
        {
          "output_type": "display_data",
          "data": {
            "text/html": [
              "\n",
              "                    Syncing run <strong><a href=\"https://wandb.ai/moni6264/test_mse_50/runs/wv7mr7vo\" target=\"_blank\">wobbly-sweep-27</a></strong> to <a href=\"https://wandb.ai/moni6264/test_mse_50\" target=\"_blank\">Weights & Biases</a> (<a href=\"https://docs.wandb.com/integrations/jupyter.html\" target=\"_blank\">docs</a>).<br/>\n",
              "Sweep page: <a href=\"https://wandb.ai/moni6264/test_mse_50/sweeps/4hhn4fkp\" target=\"_blank\">https://wandb.ai/moni6264/test_mse_50/sweeps/4hhn4fkp</a><br/>\n",
              "\n",
              "                "
            ],
            "text/plain": [
              "<IPython.core.display.HTML object>"
            ]
          },
          "metadata": {}
        },
        {
          "output_type": "stream",
          "name": "stdout",
          "text": [
            "Epoch 0: training_accuracy = 19.78 %, training_loss= 0.46663  ,Validation accuracy = 20.28 ,Validation loss = 0.46362\n",
            "Epoch 1: training_accuracy = 37.98 %, training_loss= 0.38247  ,Validation accuracy = 38.12 ,Validation loss = 0.38012\n",
            "Epoch 2: training_accuracy = 51.98 %, training_loss= 0.31791  ,Validation accuracy = 51.92 ,Validation loss = 0.31759\n",
            "Epoch 3: training_accuracy = 58.88 %, training_loss= 0.27911  ,Validation accuracy = 58.47 ,Validation loss = 0.27951\n",
            "Epoch 4: training_accuracy = 62.81 %, training_loss= 0.25565  ,Validation accuracy = 62.25 ,Validation loss = 0.25663\n",
            "Epoch 5: training_accuracy = 65.21 %, training_loss= 0.24053  ,Validation accuracy = 64.63 ,Validation loss = 0.24191\n",
            "Epoch 6: training_accuracy = 66.83 %, training_loss= 0.23000  ,Validation accuracy = 66.48 ,Validation loss = 0.23170\n",
            "Epoch 7: training_accuracy = 68.00 %, training_loss= 0.22218  ,Validation accuracy = 67.57 ,Validation loss = 0.22414\n",
            "Epoch 8: training_accuracy = 68.95 %, training_loss= 0.21610  ,Validation accuracy = 68.60 ,Validation loss = 0.21827\n",
            "Epoch 9: training_accuracy = 69.61 %, training_loss= 0.21121  ,Validation accuracy = 69.42 ,Validation loss = 0.21355\n",
            "Epoch 10: training_accuracy = 70.31 %, training_loss= 0.20717  ,Validation accuracy = 69.97 ,Validation loss = 0.20965\n",
            "Epoch 11: training_accuracy = 70.88 %, training_loss= 0.20376  ,Validation accuracy = 70.52 ,Validation loss = 0.20636\n",
            "Epoch 12: training_accuracy = 71.27 %, training_loss= 0.20085  ,Validation accuracy = 70.75 ,Validation loss = 0.20354\n",
            "Epoch 13: training_accuracy = 71.70 %, training_loss= 0.19832  ,Validation accuracy = 71.08 ,Validation loss = 0.20108\n",
            "Epoch 14: training_accuracy = 72.02 %, training_loss= 0.19609  ,Validation accuracy = 71.28 ,Validation loss = 0.19891\n"
          ]
        },
        {
          "output_type": "display_data",
          "data": {
            "text/html": [
              "<br/>Waiting for W&B process to finish, PID 1639... <strong style=\"color:green\">(success).</strong>"
            ],
            "text/plain": [
              "<IPython.core.display.HTML object>"
            ]
          },
          "metadata": {}
        },
        {
          "output_type": "display_data",
          "data": {
            "application/vnd.jupyter.widget-view+json": {
              "model_id": "0a3592aa593440779bd44dee7dc87b91",
              "version_minor": 0,
              "version_major": 2
            },
            "text/plain": [
              "VBox(children=(Label(value=' 0.00MB of 0.00MB uploaded (0.00MB deduped)\\r'), FloatProgress(value=1.0, max=1.0)…"
            ]
          },
          "metadata": {}
        },
        {
          "output_type": "display_data",
          "data": {
            "text/html": [
              "<style>\n",
              "    table.wandb td:nth-child(1) { padding: 0 10px; text-align: right }\n",
              "    .wandb-row { display: flex; flex-direction: row; flex-wrap: wrap; width: 100% }\n",
              "    .wandb-col { display: flex; flex-direction: column; flex-basis: 100%; flex: 1; padding: 10px; }\n",
              "    </style>\n",
              "<div class=\"wandb-row\"><div class=\"wandb-col\">\n",
              "<h3>Run history:</h3><br/><table class=\"wandb\"><tr><td>steps</td><td>▁▁▁▁▁▁▁▁▁▁▁▁▁▁▁</td></tr><tr><td>train_accuracy</td><td>▁▃▅▆▇▇▇▇███████</td></tr><tr><td>train_loss</td><td>█▆▄▃▃▂▂▂▂▁▁▁▁▁▁</td></tr><tr><td>val_accuracy</td><td>▁▃▅▆▇▇▇▇███████</td></tr><tr><td>val_loss</td><td>█▆▄▃▃▂▂▂▂▁▁▁▁▁▁</td></tr></table><br/></div><div class=\"wandb-col\">\n",
              "<h3>Run summary:</h3><br/><table class=\"wandb\"><tr><td>steps</td><td>15</td></tr><tr><td>train_accuracy</td><td>72.017</td></tr><tr><td>train_loss</td><td>0.19609</td></tr><tr><td>val_accuracy</td><td>71.283</td></tr><tr><td>val_loss</td><td>0.19891</td></tr></table>\n",
              "</div></div>\n",
              "Synced 5 W&B file(s), 0 media file(s), 0 artifact file(s) and 0 other file(s)\n",
              "<br/>Synced <strong style=\"color:#cdcd00\">wobbly-sweep-27</strong>: <a href=\"https://wandb.ai/moni6264/test_mse_50/runs/wv7mr7vo\" target=\"_blank\">https://wandb.ai/moni6264/test_mse_50/runs/wv7mr7vo</a><br/>\n",
              "Find logs at: <code>./wandb/run-20220225_064304-wv7mr7vo/logs</code><br/>\n"
            ],
            "text/plain": [
              "<IPython.core.display.HTML object>"
            ]
          },
          "metadata": {}
        },
        {
          "output_type": "stream",
          "name": "stderr",
          "text": [
            "\u001b[34m\u001b[1mwandb\u001b[0m: Agent Starting Run: xp64ur0m with config:\n",
            "\u001b[34m\u001b[1mwandb\u001b[0m: \tactivation: relu\n",
            "\u001b[34m\u001b[1mwandb\u001b[0m: \tbatch_size: 256\n",
            "\u001b[34m\u001b[1mwandb\u001b[0m: \tepochs: 10\n",
            "\u001b[34m\u001b[1mwandb\u001b[0m: \thidden_layer: [32, 64]\n",
            "\u001b[34m\u001b[1mwandb\u001b[0m: \tinitilisation: xavier\n",
            "\u001b[34m\u001b[1mwandb\u001b[0m: \tlearning_rate: 0.01\n",
            "\u001b[34m\u001b[1mwandb\u001b[0m: \tloss_function: square_loss\n",
            "\u001b[34m\u001b[1mwandb\u001b[0m: \toptimiser: adam\n",
            "\u001b[34m\u001b[1mwandb\u001b[0m: \tweight_decay: 0.0005\n",
            "\u001b[34m\u001b[1mwandb\u001b[0m: \u001b[33mWARNING\u001b[0m Ignored wandb.init() arg project when running a sweep.\n",
            "\u001b[34m\u001b[1mwandb\u001b[0m: \u001b[33mWARNING\u001b[0m Ignored wandb.init() arg entity when running a sweep.\n"
          ]
        },
        {
          "output_type": "display_data",
          "data": {
            "text/html": [
              "\n",
              "                    Syncing run <strong><a href=\"https://wandb.ai/moni6264/test_mse_50/runs/xp64ur0m\" target=\"_blank\">restful-sweep-28</a></strong> to <a href=\"https://wandb.ai/moni6264/test_mse_50\" target=\"_blank\">Weights & Biases</a> (<a href=\"https://docs.wandb.com/integrations/jupyter.html\" target=\"_blank\">docs</a>).<br/>\n",
              "Sweep page: <a href=\"https://wandb.ai/moni6264/test_mse_50/sweeps/4hhn4fkp\" target=\"_blank\">https://wandb.ai/moni6264/test_mse_50/sweeps/4hhn4fkp</a><br/>\n",
              "\n",
              "                "
            ],
            "text/plain": [
              "<IPython.core.display.HTML object>"
            ]
          },
          "metadata": {}
        },
        {
          "output_type": "stream",
          "name": "stderr",
          "text": [
            "/usr/local/lib/python3.7/dist-packages/ipykernel_launcher.py:26: RuntimeWarning: invalid value encountered in true_divide\n"
          ]
        },
        {
          "output_type": "stream",
          "name": "stdout",
          "text": [
            "Epoch 0: training_accuracy = 10.01 %, training_loss= nan  ,Validation accuracy = 9.95 ,Validation loss = nan\n",
            "Epoch 1: training_accuracy = 10.01 %, training_loss= nan  ,Validation accuracy = 9.95 ,Validation loss = nan\n",
            "Epoch 2: training_accuracy = 10.01 %, training_loss= nan  ,Validation accuracy = 9.95 ,Validation loss = nan\n",
            "Epoch 3: training_accuracy = 10.01 %, training_loss= nan  ,Validation accuracy = 9.95 ,Validation loss = nan\n",
            "Epoch 4: training_accuracy = 10.01 %, training_loss= nan  ,Validation accuracy = 9.95 ,Validation loss = nan\n",
            "Epoch 5: training_accuracy = 10.01 %, training_loss= nan  ,Validation accuracy = 9.95 ,Validation loss = nan\n",
            "Epoch 6: training_accuracy = 10.01 %, training_loss= nan  ,Validation accuracy = 9.95 ,Validation loss = nan\n",
            "Epoch 7: training_accuracy = 10.01 %, training_loss= nan  ,Validation accuracy = 9.95 ,Validation loss = nan\n",
            "Epoch 8: training_accuracy = 10.01 %, training_loss= nan  ,Validation accuracy = 9.95 ,Validation loss = nan\n",
            "Epoch 9: training_accuracy = 10.01 %, training_loss= nan  ,Validation accuracy = 9.95 ,Validation loss = nan\n"
          ]
        },
        {
          "output_type": "display_data",
          "data": {
            "text/html": [
              "<br/>Waiting for W&B process to finish, PID 1678... <strong style=\"color:green\">(success).</strong>"
            ],
            "text/plain": [
              "<IPython.core.display.HTML object>"
            ]
          },
          "metadata": {}
        },
        {
          "output_type": "display_data",
          "data": {
            "application/vnd.jupyter.widget-view+json": {
              "model_id": "2b5a7c9de4554aab97b7adcb35cbc165",
              "version_minor": 0,
              "version_major": 2
            },
            "text/plain": [
              "VBox(children=(Label(value=' 0.00MB of 0.00MB uploaded (0.00MB deduped)\\r'), FloatProgress(value=1.0, max=1.0)…"
            ]
          },
          "metadata": {}
        },
        {
          "output_type": "display_data",
          "data": {
            "text/html": [
              "<style>\n",
              "    table.wandb td:nth-child(1) { padding: 0 10px; text-align: right }\n",
              "    .wandb-row { display: flex; flex-direction: row; flex-wrap: wrap; width: 100% }\n",
              "    .wandb-col { display: flex; flex-direction: column; flex-basis: 100%; flex: 1; padding: 10px; }\n",
              "    </style>\n",
              "<div class=\"wandb-row\"><div class=\"wandb-col\">\n",
              "<h3>Run history:</h3><br/><table class=\"wandb\"><tr><td>steps</td><td>▁▁▁▁▁▁▁▁▁▁</td></tr><tr><td>train_accuracy</td><td>▁▁▁▁▁▁▁▁▁▁</td></tr><tr><td>train_loss</td><td></td></tr><tr><td>val_accuracy</td><td>▁▁▁▁▁▁▁▁▁▁</td></tr><tr><td>val_loss</td><td></td></tr></table><br/></div><div class=\"wandb-col\">\n",
              "<h3>Run summary:</h3><br/><table class=\"wandb\"><tr><td>steps</td><td>10</td></tr><tr><td>train_accuracy</td><td>10.006</td></tr><tr><td>train_loss</td><td>nan</td></tr><tr><td>val_accuracy</td><td>9.95</td></tr><tr><td>val_loss</td><td>nan</td></tr></table>\n",
              "</div></div>\n",
              "Synced 5 W&B file(s), 0 media file(s), 0 artifact file(s) and 0 other file(s)\n",
              "<br/>Synced <strong style=\"color:#cdcd00\">restful-sweep-28</strong>: <a href=\"https://wandb.ai/moni6264/test_mse_50/runs/xp64ur0m\" target=\"_blank\">https://wandb.ai/moni6264/test_mse_50/runs/xp64ur0m</a><br/>\n",
              "Find logs at: <code>./wandb/run-20220225_064700-xp64ur0m/logs</code><br/>\n"
            ],
            "text/plain": [
              "<IPython.core.display.HTML object>"
            ]
          },
          "metadata": {}
        },
        {
          "output_type": "stream",
          "name": "stderr",
          "text": [
            "\u001b[34m\u001b[1mwandb\u001b[0m: Agent Starting Run: j2wd8dz6 with config:\n",
            "\u001b[34m\u001b[1mwandb\u001b[0m: \tactivation: tanh\n",
            "\u001b[34m\u001b[1mwandb\u001b[0m: \tbatch_size: 256\n",
            "\u001b[34m\u001b[1mwandb\u001b[0m: \tepochs: 20\n",
            "\u001b[34m\u001b[1mwandb\u001b[0m: \thidden_layer: [32, 64, 128, 256]\n",
            "\u001b[34m\u001b[1mwandb\u001b[0m: \tinitilisation: xavier\n",
            "\u001b[34m\u001b[1mwandb\u001b[0m: \tlearning_rate: 0.01\n",
            "\u001b[34m\u001b[1mwandb\u001b[0m: \tloss_function: square_loss\n",
            "\u001b[34m\u001b[1mwandb\u001b[0m: \toptimiser: ngd\n",
            "\u001b[34m\u001b[1mwandb\u001b[0m: \tweight_decay: 0.0005\n",
            "\u001b[34m\u001b[1mwandb\u001b[0m: \u001b[33mWARNING\u001b[0m Ignored wandb.init() arg project when running a sweep.\n",
            "\u001b[34m\u001b[1mwandb\u001b[0m: \u001b[33mWARNING\u001b[0m Ignored wandb.init() arg entity when running a sweep.\n"
          ]
        },
        {
          "output_type": "display_data",
          "data": {
            "text/html": [
              "\n",
              "                    Syncing run <strong><a href=\"https://wandb.ai/moni6264/test_mse_50/runs/j2wd8dz6\" target=\"_blank\">kind-sweep-29</a></strong> to <a href=\"https://wandb.ai/moni6264/test_mse_50\" target=\"_blank\">Weights & Biases</a> (<a href=\"https://docs.wandb.com/integrations/jupyter.html\" target=\"_blank\">docs</a>).<br/>\n",
              "Sweep page: <a href=\"https://wandb.ai/moni6264/test_mse_50/sweeps/4hhn4fkp\" target=\"_blank\">https://wandb.ai/moni6264/test_mse_50/sweeps/4hhn4fkp</a><br/>\n",
              "\n",
              "                "
            ],
            "text/plain": [
              "<IPython.core.display.HTML object>"
            ]
          },
          "metadata": {}
        },
        {
          "output_type": "stream",
          "name": "stdout",
          "text": [
            "Epoch 0: training_accuracy = 10.02 %, training_loss= 0.89976  ,Validation accuracy = 9.83 ,Validation loss = 0.90161\n",
            "Epoch 1: training_accuracy = 10.02 %, training_loss= 0.89975  ,Validation accuracy = 9.83 ,Validation loss = 0.90161\n",
            "Epoch 2: training_accuracy = 10.02 %, training_loss= 0.89975  ,Validation accuracy = 9.83 ,Validation loss = 0.90160\n",
            "Epoch 3: training_accuracy = 10.02 %, training_loss= 0.89973  ,Validation accuracy = 9.83 ,Validation loss = 0.90158\n",
            "Epoch 4: training_accuracy = 10.02 %, training_loss= 0.89971  ,Validation accuracy = 9.83 ,Validation loss = 0.90157\n",
            "Epoch 5: training_accuracy = 10.02 %, training_loss= 0.89968  ,Validation accuracy = 9.83 ,Validation loss = 0.90154\n",
            "Epoch 6: training_accuracy = 10.02 %, training_loss= 0.89963  ,Validation accuracy = 9.83 ,Validation loss = 0.90148\n",
            "Epoch 7: training_accuracy = 10.02 %, training_loss= 0.89950  ,Validation accuracy = 9.83 ,Validation loss = 0.90135\n",
            "Epoch 8: training_accuracy = 10.02 %, training_loss= 0.89880  ,Validation accuracy = 9.83 ,Validation loss = 0.90066\n",
            "Epoch 9: training_accuracy = 15.44 %, training_loss= 0.46542  ,Validation accuracy = 15.83 ,Validation loss = 0.46530\n",
            "Epoch 10: training_accuracy = 27.87 %, training_loss= 0.42835  ,Validation accuracy = 28.18 ,Validation loss = 0.42874\n",
            "Epoch 11: training_accuracy = 35.40 %, training_loss= 0.40031  ,Validation accuracy = 35.12 ,Validation loss = 0.40121\n",
            "Epoch 12: training_accuracy = 40.44 %, training_loss= 0.37822  ,Validation accuracy = 40.13 ,Validation loss = 0.37953\n",
            "Epoch 13: training_accuracy = 44.17 %, training_loss= 0.35993  ,Validation accuracy = 43.70 ,Validation loss = 0.36160\n",
            "Epoch 14: training_accuracy = 47.13 %, training_loss= 0.34451  ,Validation accuracy = 46.67 ,Validation loss = 0.34650\n",
            "Epoch 15: training_accuracy = 49.79 %, training_loss= 0.33139  ,Validation accuracy = 49.17 ,Validation loss = 0.33366\n",
            "Epoch 16: training_accuracy = 52.06 %, training_loss= 0.32012  ,Validation accuracy = 51.32 ,Validation loss = 0.32264\n",
            "Epoch 17: training_accuracy = 53.79 %, training_loss= 0.31038  ,Validation accuracy = 53.05 ,Validation loss = 0.31313\n",
            "Epoch 18: training_accuracy = 55.29 %, training_loss= 0.30194  ,Validation accuracy = 54.45 ,Validation loss = 0.30490\n",
            "Epoch 19: training_accuracy = 56.63 %, training_loss= 0.29466  ,Validation accuracy = 55.68 ,Validation loss = 0.29779\n"
          ]
        },
        {
          "output_type": "display_data",
          "data": {
            "text/html": [
              "<br/>Waiting for W&B process to finish, PID 1717... <strong style=\"color:green\">(success).</strong>"
            ],
            "text/plain": [
              "<IPython.core.display.HTML object>"
            ]
          },
          "metadata": {}
        },
        {
          "output_type": "display_data",
          "data": {
            "application/vnd.jupyter.widget-view+json": {
              "model_id": "e6fc1db7d1ef439495695bb0642a9f0a",
              "version_minor": 0,
              "version_major": 2
            },
            "text/plain": [
              "VBox(children=(Label(value=' 0.00MB of 0.00MB uploaded (0.00MB deduped)\\r'), FloatProgress(value=1.0, max=1.0)…"
            ]
          },
          "metadata": {}
        },
        {
          "output_type": "display_data",
          "data": {
            "text/html": [
              "<style>\n",
              "    table.wandb td:nth-child(1) { padding: 0 10px; text-align: right }\n",
              "    .wandb-row { display: flex; flex-direction: row; flex-wrap: wrap; width: 100% }\n",
              "    .wandb-col { display: flex; flex-direction: column; flex-basis: 100%; flex: 1; padding: 10px; }\n",
              "    </style>\n",
              "<div class=\"wandb-row\"><div class=\"wandb-col\">\n",
              "<h3>Run history:</h3><br/><table class=\"wandb\"><tr><td>steps</td><td>▁▁▁▁▁▁▁▁▁▁▁▁▁▁▁▁▁▁▁▁</td></tr><tr><td>train_accuracy</td><td>▁▁▁▁▁▁▁▁▁▂▄▅▆▆▇▇▇███</td></tr><tr><td>train_loss</td><td>█████████▃▃▂▂▂▂▁▁▁▁▁</td></tr><tr><td>val_accuracy</td><td>▁▁▁▁▁▁▁▁▁▂▄▅▆▆▇▇▇███</td></tr><tr><td>val_loss</td><td>█████████▃▃▂▂▂▂▁▁▁▁▁</td></tr></table><br/></div><div class=\"wandb-col\">\n",
              "<h3>Run summary:</h3><br/><table class=\"wandb\"><tr><td>steps</td><td>20</td></tr><tr><td>train_accuracy</td><td>56.635</td></tr><tr><td>train_loss</td><td>0.29466</td></tr><tr><td>val_accuracy</td><td>55.683</td></tr><tr><td>val_loss</td><td>0.29779</td></tr></table>\n",
              "</div></div>\n",
              "Synced 5 W&B file(s), 0 media file(s), 0 artifact file(s) and 0 other file(s)\n",
              "<br/>Synced <strong style=\"color:#cdcd00\">kind-sweep-29</strong>: <a href=\"https://wandb.ai/moni6264/test_mse_50/runs/j2wd8dz6\" target=\"_blank\">https://wandb.ai/moni6264/test_mse_50/runs/j2wd8dz6</a><br/>\n",
              "Find logs at: <code>./wandb/run-20220225_064752-j2wd8dz6/logs</code><br/>\n"
            ],
            "text/plain": [
              "<IPython.core.display.HTML object>"
            ]
          },
          "metadata": {}
        },
        {
          "output_type": "stream",
          "name": "stderr",
          "text": [
            "\u001b[34m\u001b[1mwandb\u001b[0m: Agent Starting Run: 4ggi0z6v with config:\n",
            "\u001b[34m\u001b[1mwandb\u001b[0m: \tactivation: relu\n",
            "\u001b[34m\u001b[1mwandb\u001b[0m: \tbatch_size: 256\n",
            "\u001b[34m\u001b[1mwandb\u001b[0m: \tepochs: 20\n",
            "\u001b[34m\u001b[1mwandb\u001b[0m: \thidden_layer: [32, 64, 128]\n",
            "\u001b[34m\u001b[1mwandb\u001b[0m: \tinitilisation: xavier\n",
            "\u001b[34m\u001b[1mwandb\u001b[0m: \tlearning_rate: 0.01\n",
            "\u001b[34m\u001b[1mwandb\u001b[0m: \tloss_function: square_loss\n",
            "\u001b[34m\u001b[1mwandb\u001b[0m: \toptimiser: ngd\n",
            "\u001b[34m\u001b[1mwandb\u001b[0m: \tweight_decay: 0.0005\n",
            "\u001b[34m\u001b[1mwandb\u001b[0m: \u001b[33mWARNING\u001b[0m Ignored wandb.init() arg project when running a sweep.\n",
            "\u001b[34m\u001b[1mwandb\u001b[0m: \u001b[33mWARNING\u001b[0m Ignored wandb.init() arg entity when running a sweep.\n"
          ]
        },
        {
          "output_type": "display_data",
          "data": {
            "text/html": [
              "\n",
              "                    Syncing run <strong><a href=\"https://wandb.ai/moni6264/test_mse_50/runs/4ggi0z6v\" target=\"_blank\">logical-sweep-30</a></strong> to <a href=\"https://wandb.ai/moni6264/test_mse_50\" target=\"_blank\">Weights & Biases</a> (<a href=\"https://docs.wandb.com/integrations/jupyter.html\" target=\"_blank\">docs</a>).<br/>\n",
              "Sweep page: <a href=\"https://wandb.ai/moni6264/test_mse_50/sweeps/4hhn4fkp\" target=\"_blank\">https://wandb.ai/moni6264/test_mse_50/sweeps/4hhn4fkp</a><br/>\n",
              "\n",
              "                "
            ],
            "text/plain": [
              "<IPython.core.display.HTML object>"
            ]
          },
          "metadata": {}
        },
        {
          "output_type": "stream",
          "name": "stdout",
          "text": [
            "Epoch 0: training_accuracy = 15.77 %, training_loss= 0.54820  ,Validation accuracy = 16.42 ,Validation loss = 0.54243\n",
            "Epoch 1: training_accuracy = 30.11 %, training_loss= 0.44251  ,Validation accuracy = 31.02 ,Validation loss = 0.43815\n",
            "Epoch 2: training_accuracy = 39.40 %, training_loss= 0.38242  ,Validation accuracy = 40.65 ,Validation loss = 0.37855\n",
            "Epoch 3: training_accuracy = 47.67 %, training_loss= 0.33271  ,Validation accuracy = 48.43 ,Validation loss = 0.33048\n",
            "Epoch 4: training_accuracy = 53.93 %, training_loss= 0.29874  ,Validation accuracy = 54.87 ,Validation loss = 0.29649\n",
            "Epoch 5: training_accuracy = 57.47 %, training_loss= 0.27842  ,Validation accuracy = 58.25 ,Validation loss = 0.27619\n",
            "Epoch 6: training_accuracy = 59.94 %, training_loss= 0.26486  ,Validation accuracy = 60.45 ,Validation loss = 0.26284\n",
            "Epoch 7: training_accuracy = 61.53 %, training_loss= 0.25525  ,Validation accuracy = 62.03 ,Validation loss = 0.25351\n",
            "Epoch 8: training_accuracy = 62.78 %, training_loss= 0.24810  ,Validation accuracy = 63.35 ,Validation loss = 0.24665\n",
            "Epoch 9: training_accuracy = 63.71 %, training_loss= 0.24256  ,Validation accuracy = 64.22 ,Validation loss = 0.24136\n",
            "Epoch 10: training_accuracy = 64.44 %, training_loss= 0.23810  ,Validation accuracy = 65.17 ,Validation loss = 0.23713\n",
            "Epoch 11: training_accuracy = 65.10 %, training_loss= 0.23441  ,Validation accuracy = 65.67 ,Validation loss = 0.23363\n",
            "Epoch 12: training_accuracy = 65.65 %, training_loss= 0.23129  ,Validation accuracy = 66.05 ,Validation loss = 0.23067\n",
            "Epoch 13: training_accuracy = 66.09 %, training_loss= 0.22860  ,Validation accuracy = 66.40 ,Validation loss = 0.22812\n",
            "Epoch 14: training_accuracy = 66.50 %, training_loss= 0.22625  ,Validation accuracy = 66.80 ,Validation loss = 0.22589\n",
            "Epoch 15: training_accuracy = 66.85 %, training_loss= 0.22416  ,Validation accuracy = 67.02 ,Validation loss = 0.22390\n",
            "Epoch 16: training_accuracy = 67.25 %, training_loss= 0.22229  ,Validation accuracy = 67.43 ,Validation loss = 0.22212\n",
            "Epoch 17: training_accuracy = 67.55 %, training_loss= 0.22059  ,Validation accuracy = 67.82 ,Validation loss = 0.22051\n",
            "Epoch 18: training_accuracy = 67.79 %, training_loss= 0.21905  ,Validation accuracy = 67.95 ,Validation loss = 0.21903\n",
            "Epoch 19: training_accuracy = 68.06 %, training_loss= 0.21764  ,Validation accuracy = 68.15 ,Validation loss = 0.21768\n"
          ]
        },
        {
          "output_type": "display_data",
          "data": {
            "text/html": [
              "<br/>Waiting for W&B process to finish, PID 1756... <strong style=\"color:green\">(success).</strong>"
            ],
            "text/plain": [
              "<IPython.core.display.HTML object>"
            ]
          },
          "metadata": {}
        },
        {
          "output_type": "display_data",
          "data": {
            "application/vnd.jupyter.widget-view+json": {
              "model_id": "89f566ad2c9f483caf644dcbb1b7ae85",
              "version_minor": 0,
              "version_major": 2
            },
            "text/plain": [
              "VBox(children=(Label(value=' 0.00MB of 0.00MB uploaded (0.00MB deduped)\\r'), FloatProgress(value=1.0, max=1.0)…"
            ]
          },
          "metadata": {}
        },
        {
          "output_type": "display_data",
          "data": {
            "text/html": [
              "<style>\n",
              "    table.wandb td:nth-child(1) { padding: 0 10px; text-align: right }\n",
              "    .wandb-row { display: flex; flex-direction: row; flex-wrap: wrap; width: 100% }\n",
              "    .wandb-col { display: flex; flex-direction: column; flex-basis: 100%; flex: 1; padding: 10px; }\n",
              "    </style>\n",
              "<div class=\"wandb-row\"><div class=\"wandb-col\">\n",
              "<h3>Run history:</h3><br/><table class=\"wandb\"><tr><td>steps</td><td>▁▁▁▁▁▁▁▁▁▁▁▁▁▁▁▁▁▁▁▁</td></tr><tr><td>train_accuracy</td><td>▁▃▄▅▆▇▇▇▇▇██████████</td></tr><tr><td>train_loss</td><td>█▆▄▃▃▂▂▂▂▂▁▁▁▁▁▁▁▁▁▁</td></tr><tr><td>val_accuracy</td><td>▁▃▄▅▆▇▇▇▇▇██████████</td></tr><tr><td>val_loss</td><td>█▆▄▃▃▂▂▂▂▂▁▁▁▁▁▁▁▁▁▁</td></tr></table><br/></div><div class=\"wandb-col\">\n",
              "<h3>Run summary:</h3><br/><table class=\"wandb\"><tr><td>steps</td><td>20</td></tr><tr><td>train_accuracy</td><td>68.065</td></tr><tr><td>train_loss</td><td>0.21764</td></tr><tr><td>val_accuracy</td><td>68.15</td></tr><tr><td>val_loss</td><td>0.21768</td></tr></table>\n",
              "</div></div>\n",
              "Synced 5 W&B file(s), 0 media file(s), 0 artifact file(s) and 0 other file(s)\n",
              "<br/>Synced <strong style=\"color:#cdcd00\">logical-sweep-30</strong>: <a href=\"https://wandb.ai/moni6264/test_mse_50/runs/4ggi0z6v\" target=\"_blank\">https://wandb.ai/moni6264/test_mse_50/runs/4ggi0z6v</a><br/>\n",
              "Find logs at: <code>./wandb/run-20220225_065229-4ggi0z6v/logs</code><br/>\n"
            ],
            "text/plain": [
              "<IPython.core.display.HTML object>"
            ]
          },
          "metadata": {}
        },
        {
          "output_type": "stream",
          "name": "stderr",
          "text": [
            "\u001b[34m\u001b[1mwandb\u001b[0m: Agent Starting Run: 1jhsiqhg with config:\n",
            "\u001b[34m\u001b[1mwandb\u001b[0m: \tactivation: sigmoid\n",
            "\u001b[34m\u001b[1mwandb\u001b[0m: \tbatch_size: 64\n",
            "\u001b[34m\u001b[1mwandb\u001b[0m: \tepochs: 15\n",
            "\u001b[34m\u001b[1mwandb\u001b[0m: \thidden_layer: [32, 64, 128, 256]\n",
            "\u001b[34m\u001b[1mwandb\u001b[0m: \tinitilisation: xavier\n",
            "\u001b[34m\u001b[1mwandb\u001b[0m: \tlearning_rate: 0.001\n",
            "\u001b[34m\u001b[1mwandb\u001b[0m: \tloss_function: square_loss\n",
            "\u001b[34m\u001b[1mwandb\u001b[0m: \toptimiser: gd\n",
            "\u001b[34m\u001b[1mwandb\u001b[0m: \tweight_decay: 0.0005\n",
            "\u001b[34m\u001b[1mwandb\u001b[0m: \u001b[33mWARNING\u001b[0m Ignored wandb.init() arg project when running a sweep.\n",
            "\u001b[34m\u001b[1mwandb\u001b[0m: \u001b[33mWARNING\u001b[0m Ignored wandb.init() arg entity when running a sweep.\n"
          ]
        },
        {
          "output_type": "display_data",
          "data": {
            "text/html": [
              "\n",
              "                    Syncing run <strong><a href=\"https://wandb.ai/moni6264/test_mse_50/runs/1jhsiqhg\" target=\"_blank\">toasty-sweep-31</a></strong> to <a href=\"https://wandb.ai/moni6264/test_mse_50\" target=\"_blank\">Weights & Biases</a> (<a href=\"https://docs.wandb.com/integrations/jupyter.html\" target=\"_blank\">docs</a>).<br/>\n",
              "Sweep page: <a href=\"https://wandb.ai/moni6264/test_mse_50/sweeps/4hhn4fkp\" target=\"_blank\">https://wandb.ai/moni6264/test_mse_50/sweeps/4hhn4fkp</a><br/>\n",
              "\n",
              "                "
            ],
            "text/plain": [
              "<IPython.core.display.HTML object>"
            ]
          },
          "metadata": {}
        },
        {
          "output_type": "stream",
          "name": "stdout",
          "text": [
            "Epoch 0: training_accuracy = 5.59 %, training_loss= 0.50685  ,Validation accuracy = 5.73 ,Validation loss = 0.50899\n",
            "Epoch 1: training_accuracy = 7.66 %, training_loss= 0.48147  ,Validation accuracy = 7.53 ,Validation loss = 0.48293\n",
            "Epoch 2: training_accuracy = 7.66 %, training_loss= 0.46927  ,Validation accuracy = 7.75 ,Validation loss = 0.47021\n",
            "Epoch 3: training_accuracy = 7.69 %, training_loss= 0.46283  ,Validation accuracy = 7.78 ,Validation loss = 0.46351\n",
            "Epoch 4: training_accuracy = 7.92 %, training_loss= 0.45847  ,Validation accuracy = 7.88 ,Validation loss = 0.45895\n",
            "Epoch 5: training_accuracy = 8.38 %, training_loss= 0.45590  ,Validation accuracy = 8.58 ,Validation loss = 0.45625\n",
            "Epoch 6: training_accuracy = 9.75 %, training_loss= 0.45422  ,Validation accuracy = 10.02 ,Validation loss = 0.45446\n",
            "Epoch 7: training_accuracy = 10.68 %, training_loss= 0.45286  ,Validation accuracy = 10.92 ,Validation loss = 0.45303\n",
            "Epoch 8: training_accuracy = 11.00 %, training_loss= 0.45177  ,Validation accuracy = 11.32 ,Validation loss = 0.45189\n",
            "Epoch 9: training_accuracy = 11.56 %, training_loss= 0.45100  ,Validation accuracy = 11.72 ,Validation loss = 0.45107\n",
            "Epoch 10: training_accuracy = 11.89 %, training_loss= 0.45053  ,Validation accuracy = 11.95 ,Validation loss = 0.45057\n",
            "Epoch 11: training_accuracy = 12.05 %, training_loss= 0.45028  ,Validation accuracy = 12.32 ,Validation loss = 0.45030\n",
            "Epoch 12: training_accuracy = 12.21 %, training_loss= 0.45017  ,Validation accuracy = 12.33 ,Validation loss = 0.45018\n",
            "Epoch 13: training_accuracy = 12.20 %, training_loss= 0.45013  ,Validation accuracy = 12.38 ,Validation loss = 0.45013\n",
            "Epoch 14: training_accuracy = 12.26 %, training_loss= 0.45011  ,Validation accuracy = 12.38 ,Validation loss = 0.45011\n"
          ]
        },
        {
          "output_type": "display_data",
          "data": {
            "text/html": [
              "<br/>Waiting for W&B process to finish, PID 1795... <strong style=\"color:green\">(success).</strong>"
            ],
            "text/plain": [
              "<IPython.core.display.HTML object>"
            ]
          },
          "metadata": {}
        },
        {
          "output_type": "display_data",
          "data": {
            "application/vnd.jupyter.widget-view+json": {
              "model_id": "7d8fd0e2ef884b17b46312a952517047",
              "version_minor": 0,
              "version_major": 2
            },
            "text/plain": [
              "VBox(children=(Label(value=' 0.00MB of 0.00MB uploaded (0.00MB deduped)\\r'), FloatProgress(value=1.0, max=1.0)…"
            ]
          },
          "metadata": {}
        },
        {
          "output_type": "display_data",
          "data": {
            "text/html": [
              "<style>\n",
              "    table.wandb td:nth-child(1) { padding: 0 10px; text-align: right }\n",
              "    .wandb-row { display: flex; flex-direction: row; flex-wrap: wrap; width: 100% }\n",
              "    .wandb-col { display: flex; flex-direction: column; flex-basis: 100%; flex: 1; padding: 10px; }\n",
              "    </style>\n",
              "<div class=\"wandb-row\"><div class=\"wandb-col\">\n",
              "<h3>Run history:</h3><br/><table class=\"wandb\"><tr><td>steps</td><td>▁▁▁▁▁▁▁▁▁▁▁▁▁▁▁</td></tr><tr><td>train_accuracy</td><td>▁▃▃▃▃▄▅▆▇▇█████</td></tr><tr><td>train_loss</td><td>█▅▃▃▂▂▂▁▁▁▁▁▁▁▁</td></tr><tr><td>val_accuracy</td><td>▁▃▃▃▃▄▆▆▇▇█████</td></tr><tr><td>val_loss</td><td>█▅▃▃▂▂▂▁▁▁▁▁▁▁▁</td></tr></table><br/></div><div class=\"wandb-col\">\n",
              "<h3>Run summary:</h3><br/><table class=\"wandb\"><tr><td>steps</td><td>15</td></tr><tr><td>train_accuracy</td><td>12.261</td></tr><tr><td>train_loss</td><td>0.45011</td></tr><tr><td>val_accuracy</td><td>12.383</td></tr><tr><td>val_loss</td><td>0.45011</td></tr></table>\n",
              "</div></div>\n",
              "Synced 5 W&B file(s), 0 media file(s), 0 artifact file(s) and 0 other file(s)\n",
              "<br/>Synced <strong style=\"color:#cdcd00\">toasty-sweep-31</strong>: <a href=\"https://wandb.ai/moni6264/test_mse_50/runs/1jhsiqhg\" target=\"_blank\">https://wandb.ai/moni6264/test_mse_50/runs/1jhsiqhg</a><br/>\n",
              "Find logs at: <code>./wandb/run-20220225_065434-1jhsiqhg/logs</code><br/>\n"
            ],
            "text/plain": [
              "<IPython.core.display.HTML object>"
            ]
          },
          "metadata": {}
        },
        {
          "output_type": "stream",
          "name": "stderr",
          "text": [
            "\u001b[34m\u001b[1mwandb\u001b[0m: Agent Starting Run: tgxxebia with config:\n",
            "\u001b[34m\u001b[1mwandb\u001b[0m: \tactivation: relu\n",
            "\u001b[34m\u001b[1mwandb\u001b[0m: \tbatch_size: 64\n",
            "\u001b[34m\u001b[1mwandb\u001b[0m: \tepochs: 10\n",
            "\u001b[34m\u001b[1mwandb\u001b[0m: \thidden_layer: [32, 64, 128, 256]\n",
            "\u001b[34m\u001b[1mwandb\u001b[0m: \tinitilisation: xavier\n",
            "\u001b[34m\u001b[1mwandb\u001b[0m: \tlearning_rate: 0.001\n",
            "\u001b[34m\u001b[1mwandb\u001b[0m: \tloss_function: square_loss\n",
            "\u001b[34m\u001b[1mwandb\u001b[0m: \toptimiser: ngd\n",
            "\u001b[34m\u001b[1mwandb\u001b[0m: \tweight_decay: 0.0005\n",
            "\u001b[34m\u001b[1mwandb\u001b[0m: \u001b[33mWARNING\u001b[0m Ignored wandb.init() arg project when running a sweep.\n",
            "\u001b[34m\u001b[1mwandb\u001b[0m: \u001b[33mWARNING\u001b[0m Ignored wandb.init() arg entity when running a sweep.\n"
          ]
        },
        {
          "output_type": "display_data",
          "data": {
            "text/html": [
              "\n",
              "                    Syncing run <strong><a href=\"https://wandb.ai/moni6264/test_mse_50/runs/tgxxebia\" target=\"_blank\">different-sweep-32</a></strong> to <a href=\"https://wandb.ai/moni6264/test_mse_50\" target=\"_blank\">Weights & Biases</a> (<a href=\"https://docs.wandb.com/integrations/jupyter.html\" target=\"_blank\">docs</a>).<br/>\n",
              "Sweep page: <a href=\"https://wandb.ai/moni6264/test_mse_50/sweeps/4hhn4fkp\" target=\"_blank\">https://wandb.ai/moni6264/test_mse_50/sweeps/4hhn4fkp</a><br/>\n",
              "\n",
              "                "
            ],
            "text/plain": [
              "<IPython.core.display.HTML object>"
            ]
          },
          "metadata": {}
        },
        {
          "output_type": "stream",
          "name": "stdout",
          "text": [
            "Epoch 0: training_accuracy = 10.48 %, training_loss= 0.57117  ,Validation accuracy = 10.53 ,Validation loss = 0.57125\n",
            "Epoch 1: training_accuracy = 16.09 %, training_loss= 0.52194  ,Validation accuracy = 15.97 ,Validation loss = 0.52109\n",
            "Epoch 2: training_accuracy = 19.98 %, training_loss= 0.49219  ,Validation accuracy = 20.30 ,Validation loss = 0.49078\n",
            "Epoch 3: training_accuracy = 23.16 %, training_loss= 0.46876  ,Validation accuracy = 23.42 ,Validation loss = 0.46730\n",
            "Epoch 4: training_accuracy = 26.45 %, training_loss= 0.44714  ,Validation accuracy = 26.50 ,Validation loss = 0.44605\n",
            "Epoch 5: training_accuracy = 31.11 %, training_loss= 0.42439  ,Validation accuracy = 31.43 ,Validation loss = 0.42400\n",
            "Epoch 6: training_accuracy = 35.62 %, training_loss= 0.40215  ,Validation accuracy = 35.75 ,Validation loss = 0.40227\n",
            "Epoch 7: training_accuracy = 39.25 %, training_loss= 0.38334  ,Validation accuracy = 38.98 ,Validation loss = 0.38350\n",
            "Epoch 8: training_accuracy = 42.29 %, training_loss= 0.36759  ,Validation accuracy = 42.13 ,Validation loss = 0.36748\n",
            "Epoch 9: training_accuracy = 44.80 %, training_loss= 0.35401  ,Validation accuracy = 44.52 ,Validation loss = 0.35359\n"
          ]
        },
        {
          "output_type": "display_data",
          "data": {
            "text/html": [
              "<br/>Waiting for W&B process to finish, PID 1846... <strong style=\"color:green\">(success).</strong>"
            ],
            "text/plain": [
              "<IPython.core.display.HTML object>"
            ]
          },
          "metadata": {}
        },
        {
          "output_type": "display_data",
          "data": {
            "application/vnd.jupyter.widget-view+json": {
              "model_id": "ad523b000c544c28842a1808bf98bb90",
              "version_minor": 0,
              "version_major": 2
            },
            "text/plain": [
              "VBox(children=(Label(value=' 0.00MB of 0.00MB uploaded (0.00MB deduped)\\r'), FloatProgress(value=1.0, max=1.0)…"
            ]
          },
          "metadata": {}
        },
        {
          "output_type": "display_data",
          "data": {
            "text/html": [
              "<style>\n",
              "    table.wandb td:nth-child(1) { padding: 0 10px; text-align: right }\n",
              "    .wandb-row { display: flex; flex-direction: row; flex-wrap: wrap; width: 100% }\n",
              "    .wandb-col { display: flex; flex-direction: column; flex-basis: 100%; flex: 1; padding: 10px; }\n",
              "    </style>\n",
              "<div class=\"wandb-row\"><div class=\"wandb-col\">\n",
              "<h3>Run history:</h3><br/><table class=\"wandb\"><tr><td>steps</td><td>▁▁▁▁▁▁▁▁▁▁</td></tr><tr><td>train_accuracy</td><td>▁▂▃▄▄▅▆▇▇█</td></tr><tr><td>train_loss</td><td>█▆▅▅▄▃▃▂▁▁</td></tr><tr><td>val_accuracy</td><td>▁▂▃▄▄▅▆▇██</td></tr><tr><td>val_loss</td><td>█▆▅▅▄▃▃▂▁▁</td></tr></table><br/></div><div class=\"wandb-col\">\n",
              "<h3>Run summary:</h3><br/><table class=\"wandb\"><tr><td>steps</td><td>10</td></tr><tr><td>train_accuracy</td><td>44.802</td></tr><tr><td>train_loss</td><td>0.35401</td></tr><tr><td>val_accuracy</td><td>44.517</td></tr><tr><td>val_loss</td><td>0.35359</td></tr></table>\n",
              "</div></div>\n",
              "Synced 5 W&B file(s), 0 media file(s), 0 artifact file(s) and 0 other file(s)\n",
              "<br/>Synced <strong style=\"color:#cdcd00\">different-sweep-32</strong>: <a href=\"https://wandb.ai/moni6264/test_mse_50/runs/tgxxebia\" target=\"_blank\">https://wandb.ai/moni6264/test_mse_50/runs/tgxxebia</a><br/>\n",
              "Find logs at: <code>./wandb/run-20220225_065716-tgxxebia/logs</code><br/>\n"
            ],
            "text/plain": [
              "<IPython.core.display.HTML object>"
            ]
          },
          "metadata": {}
        },
        {
          "output_type": "stream",
          "name": "stderr",
          "text": [
            "\u001b[34m\u001b[1mwandb\u001b[0m: Agent Starting Run: fa1q6zyu with config:\n",
            "\u001b[34m\u001b[1mwandb\u001b[0m: \tactivation: tanh\n",
            "\u001b[34m\u001b[1mwandb\u001b[0m: \tbatch_size: 256\n",
            "\u001b[34m\u001b[1mwandb\u001b[0m: \tepochs: 15\n",
            "\u001b[34m\u001b[1mwandb\u001b[0m: \thidden_layer: [32, 64]\n",
            "\u001b[34m\u001b[1mwandb\u001b[0m: \tinitilisation: xavier\n",
            "\u001b[34m\u001b[1mwandb\u001b[0m: \tlearning_rate: 0.01\n",
            "\u001b[34m\u001b[1mwandb\u001b[0m: \tloss_function: square_loss\n",
            "\u001b[34m\u001b[1mwandb\u001b[0m: \toptimiser: ngd\n",
            "\u001b[34m\u001b[1mwandb\u001b[0m: \tweight_decay: 0.5\n",
            "\u001b[34m\u001b[1mwandb\u001b[0m: \u001b[33mWARNING\u001b[0m Ignored wandb.init() arg project when running a sweep.\n",
            "\u001b[34m\u001b[1mwandb\u001b[0m: \u001b[33mWARNING\u001b[0m Ignored wandb.init() arg entity when running a sweep.\n"
          ]
        },
        {
          "output_type": "display_data",
          "data": {
            "text/html": [
              "\n",
              "                    Syncing run <strong><a href=\"https://wandb.ai/moni6264/test_mse_50/runs/fa1q6zyu\" target=\"_blank\">fancy-sweep-33</a></strong> to <a href=\"https://wandb.ai/moni6264/test_mse_50\" target=\"_blank\">Weights & Biases</a> (<a href=\"https://docs.wandb.com/integrations/jupyter.html\" target=\"_blank\">docs</a>).<br/>\n",
              "Sweep page: <a href=\"https://wandb.ai/moni6264/test_mse_50/sweeps/4hhn4fkp\" target=\"_blank\">https://wandb.ai/moni6264/test_mse_50/sweeps/4hhn4fkp</a><br/>\n",
              "\n",
              "                "
            ],
            "text/plain": [
              "<IPython.core.display.HTML object>"
            ]
          },
          "metadata": {}
        },
        {
          "output_type": "stream",
          "name": "stdout",
          "text": [
            "Epoch 0: training_accuracy = 15.65 %, training_loss= 0.44835  ,Validation accuracy = 14.97 ,Validation loss = 0.44929\n",
            "Epoch 1: training_accuracy = 10.48 %, training_loss= 0.45105  ,Validation accuracy = 9.48 ,Validation loss = 0.45152\n",
            "Epoch 2: training_accuracy = 10.09 %, training_loss= 0.45127  ,Validation accuracy = 9.17 ,Validation loss = 0.45170\n",
            "Epoch 3: training_accuracy = 10.09 %, training_loss= 0.45120  ,Validation accuracy = 9.17 ,Validation loss = 0.45162\n",
            "Epoch 4: training_accuracy = 10.09 %, training_loss= 0.45112  ,Validation accuracy = 9.17 ,Validation loss = 0.45152\n",
            "Epoch 5: training_accuracy = 10.09 %, training_loss= 0.45104  ,Validation accuracy = 9.17 ,Validation loss = 0.45144\n",
            "Epoch 6: training_accuracy = 10.09 %, training_loss= 0.45098  ,Validation accuracy = 9.17 ,Validation loss = 0.45136\n",
            "Epoch 7: training_accuracy = 10.09 %, training_loss= 0.45091  ,Validation accuracy = 9.17 ,Validation loss = 0.45128\n",
            "Epoch 8: training_accuracy = 10.09 %, training_loss= 0.45085  ,Validation accuracy = 9.17 ,Validation loss = 0.45121\n",
            "Epoch 9: training_accuracy = 10.09 %, training_loss= 0.45079  ,Validation accuracy = 9.17 ,Validation loss = 0.45114\n",
            "Epoch 10: training_accuracy = 10.09 %, training_loss= 0.45074  ,Validation accuracy = 9.17 ,Validation loss = 0.45108\n",
            "Epoch 11: training_accuracy = 10.09 %, training_loss= 0.45069  ,Validation accuracy = 9.17 ,Validation loss = 0.45102\n",
            "Epoch 12: training_accuracy = 10.09 %, training_loss= 0.45065  ,Validation accuracy = 9.17 ,Validation loss = 0.45096\n",
            "Epoch 13: training_accuracy = 10.09 %, training_loss= 0.45060  ,Validation accuracy = 9.17 ,Validation loss = 0.45091\n",
            "Epoch 14: training_accuracy = 10.09 %, training_loss= 0.45056  ,Validation accuracy = 9.17 ,Validation loss = 0.45086\n"
          ]
        },
        {
          "output_type": "display_data",
          "data": {
            "text/html": [
              "<br/>Waiting for W&B process to finish, PID 1885... <strong style=\"color:green\">(success).</strong>"
            ],
            "text/plain": [
              "<IPython.core.display.HTML object>"
            ]
          },
          "metadata": {}
        },
        {
          "output_type": "display_data",
          "data": {
            "application/vnd.jupyter.widget-view+json": {
              "model_id": "f080a00d0dec4888af8c1908101deae6",
              "version_minor": 0,
              "version_major": 2
            },
            "text/plain": [
              "VBox(children=(Label(value=' 0.00MB of 0.00MB uploaded (0.00MB deduped)\\r'), FloatProgress(value=1.0, max=1.0)…"
            ]
          },
          "metadata": {}
        },
        {
          "output_type": "display_data",
          "data": {
            "text/html": [
              "<style>\n",
              "    table.wandb td:nth-child(1) { padding: 0 10px; text-align: right }\n",
              "    .wandb-row { display: flex; flex-direction: row; flex-wrap: wrap; width: 100% }\n",
              "    .wandb-col { display: flex; flex-direction: column; flex-basis: 100%; flex: 1; padding: 10px; }\n",
              "    </style>\n",
              "<div class=\"wandb-row\"><div class=\"wandb-col\">\n",
              "<h3>Run history:</h3><br/><table class=\"wandb\"><tr><td>steps</td><td>▁▁▁▁▁▁▁▁▁▁▁▁▁▁▁</td></tr><tr><td>train_accuracy</td><td>█▁▁▁▁▁▁▁▁▁▁▁▁▁▁</td></tr><tr><td>train_loss</td><td>▁▇███▇▇▇▇▇▇▇▇▆▆</td></tr><tr><td>val_accuracy</td><td>█▁▁▁▁▁▁▁▁▁▁▁▁▁▁</td></tr><tr><td>val_loss</td><td>▁▇██▇▇▇▇▇▆▆▆▆▆▆</td></tr></table><br/></div><div class=\"wandb-col\">\n",
              "<h3>Run summary:</h3><br/><table class=\"wandb\"><tr><td>steps</td><td>15</td></tr><tr><td>train_accuracy</td><td>10.093</td></tr><tr><td>train_loss</td><td>0.45056</td></tr><tr><td>val_accuracy</td><td>9.167</td></tr><tr><td>val_loss</td><td>0.45086</td></tr></table>\n",
              "</div></div>\n",
              "Synced 5 W&B file(s), 0 media file(s), 0 artifact file(s) and 0 other file(s)\n",
              "<br/>Synced <strong style=\"color:#cdcd00\">fancy-sweep-33</strong>: <a href=\"https://wandb.ai/moni6264/test_mse_50/runs/fa1q6zyu\" target=\"_blank\">https://wandb.ai/moni6264/test_mse_50/runs/fa1q6zyu</a><br/>\n",
              "Find logs at: <code>./wandb/run-20220225_065911-fa1q6zyu/logs</code><br/>\n"
            ],
            "text/plain": [
              "<IPython.core.display.HTML object>"
            ]
          },
          "metadata": {}
        },
        {
          "output_type": "stream",
          "name": "stderr",
          "text": [
            "\u001b[34m\u001b[1mwandb\u001b[0m: Agent Starting Run: 5i7alj05 with config:\n",
            "\u001b[34m\u001b[1mwandb\u001b[0m: \tactivation: relu\n",
            "\u001b[34m\u001b[1mwandb\u001b[0m: \tbatch_size: 256\n",
            "\u001b[34m\u001b[1mwandb\u001b[0m: \tepochs: 15\n",
            "\u001b[34m\u001b[1mwandb\u001b[0m: \thidden_layer: [128, 128, 128]\n",
            "\u001b[34m\u001b[1mwandb\u001b[0m: \tinitilisation: xavier\n",
            "\u001b[34m\u001b[1mwandb\u001b[0m: \tlearning_rate: 0.001\n",
            "\u001b[34m\u001b[1mwandb\u001b[0m: \tloss_function: square_loss\n",
            "\u001b[34m\u001b[1mwandb\u001b[0m: \toptimiser: mgd\n",
            "\u001b[34m\u001b[1mwandb\u001b[0m: \tweight_decay: 0.0005\n",
            "\u001b[34m\u001b[1mwandb\u001b[0m: \u001b[33mWARNING\u001b[0m Ignored wandb.init() arg project when running a sweep.\n",
            "\u001b[34m\u001b[1mwandb\u001b[0m: \u001b[33mWARNING\u001b[0m Ignored wandb.init() arg entity when running a sweep.\n"
          ]
        },
        {
          "output_type": "display_data",
          "data": {
            "text/html": [
              "\n",
              "                    Syncing run <strong><a href=\"https://wandb.ai/moni6264/test_mse_50/runs/5i7alj05\" target=\"_blank\">brisk-sweep-34</a></strong> to <a href=\"https://wandb.ai/moni6264/test_mse_50\" target=\"_blank\">Weights & Biases</a> (<a href=\"https://docs.wandb.com/integrations/jupyter.html\" target=\"_blank\">docs</a>).<br/>\n",
              "Sweep page: <a href=\"https://wandb.ai/moni6264/test_mse_50/sweeps/4hhn4fkp\" target=\"_blank\">https://wandb.ai/moni6264/test_mse_50/sweeps/4hhn4fkp</a><br/>\n",
              "\n",
              "                "
            ],
            "text/plain": [
              "<IPython.core.display.HTML object>"
            ]
          },
          "metadata": {}
        },
        {
          "output_type": "stream",
          "name": "stdout",
          "text": [
            "Epoch 0: training_accuracy = 13.10 %, training_loss= 0.62239  ,Validation accuracy = 13.73 ,Validation loss = 0.61957\n",
            "Epoch 1: training_accuracy = 14.83 %, training_loss= 0.59491  ,Validation accuracy = 15.22 ,Validation loss = 0.59357\n",
            "Epoch 2: training_accuracy = 16.12 %, training_loss= 0.57341  ,Validation accuracy = 16.20 ,Validation loss = 0.57388\n",
            "Epoch 3: training_accuracy = 17.95 %, training_loss= 0.55365  ,Validation accuracy = 18.05 ,Validation loss = 0.55432\n",
            "Epoch 4: training_accuracy = 19.86 %, training_loss= 0.53603  ,Validation accuracy = 19.95 ,Validation loss = 0.53660\n",
            "Epoch 5: training_accuracy = 21.62 %, training_loss= 0.52059  ,Validation accuracy = 21.50 ,Validation loss = 0.52099\n",
            "Epoch 6: training_accuracy = 23.22 %, training_loss= 0.50697  ,Validation accuracy = 23.02 ,Validation loss = 0.50725\n",
            "Epoch 7: training_accuracy = 24.76 %, training_loss= 0.49477  ,Validation accuracy = 24.65 ,Validation loss = 0.49502\n",
            "Epoch 8: training_accuracy = 26.09 %, training_loss= 0.48368  ,Validation accuracy = 26.13 ,Validation loss = 0.48396\n",
            "Epoch 9: training_accuracy = 27.51 %, training_loss= 0.47351  ,Validation accuracy = 27.35 ,Validation loss = 0.47385\n",
            "Epoch 10: training_accuracy = 28.76 %, training_loss= 0.46412  ,Validation accuracy = 28.68 ,Validation loss = 0.46454\n",
            "Epoch 11: training_accuracy = 29.87 %, training_loss= 0.45541  ,Validation accuracy = 29.67 ,Validation loss = 0.45591\n",
            "Epoch 12: training_accuracy = 30.92 %, training_loss= 0.44727  ,Validation accuracy = 30.67 ,Validation loss = 0.44785\n",
            "Epoch 13: training_accuracy = 31.96 %, training_loss= 0.43961  ,Validation accuracy = 31.77 ,Validation loss = 0.44027\n",
            "Epoch 14: training_accuracy = 32.92 %, training_loss= 0.43236  ,Validation accuracy = 32.95 ,Validation loss = 0.43312\n"
          ]
        },
        {
          "output_type": "display_data",
          "data": {
            "text/html": [
              "<br/>Waiting for W&B process to finish, PID 1924... <strong style=\"color:green\">(success).</strong>"
            ],
            "text/plain": [
              "<IPython.core.display.HTML object>"
            ]
          },
          "metadata": {}
        },
        {
          "output_type": "display_data",
          "data": {
            "application/vnd.jupyter.widget-view+json": {
              "model_id": "ed9bcbe8158847efa5a6d157653ccddd",
              "version_minor": 0,
              "version_major": 2
            },
            "text/plain": [
              "VBox(children=(Label(value=' 0.00MB of 0.00MB uploaded (0.00MB deduped)\\r'), FloatProgress(value=1.0, max=1.0)…"
            ]
          },
          "metadata": {}
        },
        {
          "output_type": "display_data",
          "data": {
            "text/html": [
              "<style>\n",
              "    table.wandb td:nth-child(1) { padding: 0 10px; text-align: right }\n",
              "    .wandb-row { display: flex; flex-direction: row; flex-wrap: wrap; width: 100% }\n",
              "    .wandb-col { display: flex; flex-direction: column; flex-basis: 100%; flex: 1; padding: 10px; }\n",
              "    </style>\n",
              "<div class=\"wandb-row\"><div class=\"wandb-col\">\n",
              "<h3>Run history:</h3><br/><table class=\"wandb\"><tr><td>steps</td><td>▁▁▁▁▁▁▁▁▁▁▁▁▁▁▁</td></tr><tr><td>train_accuracy</td><td>▁▂▂▃▃▄▅▅▆▆▇▇▇██</td></tr><tr><td>train_loss</td><td>█▇▆▅▅▄▄▃▃▃▂▂▂▁▁</td></tr><tr><td>val_accuracy</td><td>▁▂▂▃▃▄▄▅▆▆▆▇▇██</td></tr><tr><td>val_loss</td><td>█▇▆▆▅▄▄▃▃▃▂▂▂▁▁</td></tr></table><br/></div><div class=\"wandb-col\">\n",
              "<h3>Run summary:</h3><br/><table class=\"wandb\"><tr><td>steps</td><td>15</td></tr><tr><td>train_accuracy</td><td>32.92</td></tr><tr><td>train_loss</td><td>0.43236</td></tr><tr><td>val_accuracy</td><td>32.95</td></tr><tr><td>val_loss</td><td>0.43312</td></tr></table>\n",
              "</div></div>\n",
              "Synced 5 W&B file(s), 0 media file(s), 0 artifact file(s) and 0 other file(s)\n",
              "<br/>Synced <strong style=\"color:#cdcd00\">brisk-sweep-34</strong>: <a href=\"https://wandb.ai/moni6264/test_mse_50/runs/5i7alj05\" target=\"_blank\">https://wandb.ai/moni6264/test_mse_50/runs/5i7alj05</a><br/>\n",
              "Find logs at: <code>./wandb/run-20220225_070050-5i7alj05/logs</code><br/>\n"
            ],
            "text/plain": [
              "<IPython.core.display.HTML object>"
            ]
          },
          "metadata": {}
        },
        {
          "output_type": "stream",
          "name": "stderr",
          "text": [
            "\u001b[34m\u001b[1mwandb\u001b[0m: Agent Starting Run: ec310wlx with config:\n",
            "\u001b[34m\u001b[1mwandb\u001b[0m: \tactivation: relu\n",
            "\u001b[34m\u001b[1mwandb\u001b[0m: \tbatch_size: 256\n",
            "\u001b[34m\u001b[1mwandb\u001b[0m: \tepochs: 10\n",
            "\u001b[34m\u001b[1mwandb\u001b[0m: \thidden_layer: [32, 64]\n",
            "\u001b[34m\u001b[1mwandb\u001b[0m: \tinitilisation: xavier\n",
            "\u001b[34m\u001b[1mwandb\u001b[0m: \tlearning_rate: 0.01\n",
            "\u001b[34m\u001b[1mwandb\u001b[0m: \tloss_function: square_loss\n",
            "\u001b[34m\u001b[1mwandb\u001b[0m: \toptimiser: adam\n",
            "\u001b[34m\u001b[1mwandb\u001b[0m: \tweight_decay: 0\n",
            "\u001b[34m\u001b[1mwandb\u001b[0m: \u001b[33mWARNING\u001b[0m Ignored wandb.init() arg project when running a sweep.\n",
            "\u001b[34m\u001b[1mwandb\u001b[0m: \u001b[33mWARNING\u001b[0m Ignored wandb.init() arg entity when running a sweep.\n"
          ]
        },
        {
          "output_type": "display_data",
          "data": {
            "text/html": [
              "\n",
              "                    Syncing run <strong><a href=\"https://wandb.ai/moni6264/test_mse_50/runs/ec310wlx\" target=\"_blank\">comfy-sweep-35</a></strong> to <a href=\"https://wandb.ai/moni6264/test_mse_50\" target=\"_blank\">Weights & Biases</a> (<a href=\"https://docs.wandb.com/integrations/jupyter.html\" target=\"_blank\">docs</a>).<br/>\n",
              "Sweep page: <a href=\"https://wandb.ai/moni6264/test_mse_50/sweeps/4hhn4fkp\" target=\"_blank\">https://wandb.ai/moni6264/test_mse_50/sweeps/4hhn4fkp</a><br/>\n",
              "\n",
              "                "
            ],
            "text/plain": [
              "<IPython.core.display.HTML object>"
            ]
          },
          "metadata": {}
        },
        {
          "output_type": "stream",
          "name": "stderr",
          "text": [
            "/usr/local/lib/python3.7/dist-packages/ipykernel_launcher.py:26: RuntimeWarning: invalid value encountered in true_divide\n"
          ]
        },
        {
          "output_type": "stream",
          "name": "stdout",
          "text": [
            "Epoch 0: training_accuracy = 10.01 %, training_loss= nan  ,Validation accuracy = 9.95 ,Validation loss = nan\n",
            "Epoch 1: training_accuracy = 10.01 %, training_loss= nan  ,Validation accuracy = 9.95 ,Validation loss = nan\n",
            "Epoch 2: training_accuracy = 10.01 %, training_loss= nan  ,Validation accuracy = 9.95 ,Validation loss = nan\n",
            "Epoch 3: training_accuracy = 10.01 %, training_loss= nan  ,Validation accuracy = 9.95 ,Validation loss = nan\n",
            "Epoch 4: training_accuracy = 10.01 %, training_loss= nan  ,Validation accuracy = 9.95 ,Validation loss = nan\n",
            "Epoch 5: training_accuracy = 10.01 %, training_loss= nan  ,Validation accuracy = 9.95 ,Validation loss = nan\n",
            "Epoch 6: training_accuracy = 10.01 %, training_loss= nan  ,Validation accuracy = 9.95 ,Validation loss = nan\n",
            "Epoch 7: training_accuracy = 10.01 %, training_loss= nan  ,Validation accuracy = 9.95 ,Validation loss = nan\n",
            "Epoch 8: training_accuracy = 10.01 %, training_loss= nan  ,Validation accuracy = 9.95 ,Validation loss = nan\n",
            "Epoch 9: training_accuracy = 10.01 %, training_loss= nan  ,Validation accuracy = 9.95 ,Validation loss = nan\n"
          ]
        },
        {
          "output_type": "display_data",
          "data": {
            "text/html": [
              "<br/>Waiting for W&B process to finish, PID 1963... <strong style=\"color:green\">(success).</strong>"
            ],
            "text/plain": [
              "<IPython.core.display.HTML object>"
            ]
          },
          "metadata": {}
        },
        {
          "output_type": "display_data",
          "data": {
            "application/vnd.jupyter.widget-view+json": {
              "model_id": "240df98fc3cf47f6bfcf97151e823d37",
              "version_minor": 0,
              "version_major": 2
            },
            "text/plain": [
              "VBox(children=(Label(value=' 0.00MB of 0.00MB uploaded (0.00MB deduped)\\r'), FloatProgress(value=1.0, max=1.0)…"
            ]
          },
          "metadata": {}
        },
        {
          "output_type": "display_data",
          "data": {
            "text/html": [
              "<style>\n",
              "    table.wandb td:nth-child(1) { padding: 0 10px; text-align: right }\n",
              "    .wandb-row { display: flex; flex-direction: row; flex-wrap: wrap; width: 100% }\n",
              "    .wandb-col { display: flex; flex-direction: column; flex-basis: 100%; flex: 1; padding: 10px; }\n",
              "    </style>\n",
              "<div class=\"wandb-row\"><div class=\"wandb-col\">\n",
              "<h3>Run history:</h3><br/><table class=\"wandb\"><tr><td>steps</td><td>▁▁▁▁▁▁▁▁▁▁</td></tr><tr><td>train_accuracy</td><td>▁▁▁▁▁▁▁▁▁▁</td></tr><tr><td>train_loss</td><td></td></tr><tr><td>val_accuracy</td><td>▁▁▁▁▁▁▁▁▁▁</td></tr><tr><td>val_loss</td><td></td></tr></table><br/></div><div class=\"wandb-col\">\n",
              "<h3>Run summary:</h3><br/><table class=\"wandb\"><tr><td>steps</td><td>10</td></tr><tr><td>train_accuracy</td><td>10.006</td></tr><tr><td>train_loss</td><td>nan</td></tr><tr><td>val_accuracy</td><td>9.95</td></tr><tr><td>val_loss</td><td>nan</td></tr></table>\n",
              "</div></div>\n",
              "Synced 5 W&B file(s), 0 media file(s), 0 artifact file(s) and 0 other file(s)\n",
              "<br/>Synced <strong style=\"color:#cdcd00\">comfy-sweep-35</strong>: <a href=\"https://wandb.ai/moni6264/test_mse_50/runs/ec310wlx\" target=\"_blank\">https://wandb.ai/moni6264/test_mse_50/runs/ec310wlx</a><br/>\n",
              "Find logs at: <code>./wandb/run-20220225_070229-ec310wlx/logs</code><br/>\n"
            ],
            "text/plain": [
              "<IPython.core.display.HTML object>"
            ]
          },
          "metadata": {}
        },
        {
          "output_type": "stream",
          "name": "stderr",
          "text": [
            "\u001b[34m\u001b[1mwandb\u001b[0m: Agent Starting Run: jcrs498m with config:\n",
            "\u001b[34m\u001b[1mwandb\u001b[0m: \tactivation: tanh\n",
            "\u001b[34m\u001b[1mwandb\u001b[0m: \tbatch_size: 64\n",
            "\u001b[34m\u001b[1mwandb\u001b[0m: \tepochs: 10\n",
            "\u001b[34m\u001b[1mwandb\u001b[0m: \thidden_layer: [32, 64]\n",
            "\u001b[34m\u001b[1mwandb\u001b[0m: \tinitilisation: xavier\n",
            "\u001b[34m\u001b[1mwandb\u001b[0m: \tlearning_rate: 0.01\n",
            "\u001b[34m\u001b[1mwandb\u001b[0m: \tloss_function: square_loss\n",
            "\u001b[34m\u001b[1mwandb\u001b[0m: \toptimiser: adam\n",
            "\u001b[34m\u001b[1mwandb\u001b[0m: \tweight_decay: 0.0005\n",
            "\u001b[34m\u001b[1mwandb\u001b[0m: \u001b[33mWARNING\u001b[0m Ignored wandb.init() arg project when running a sweep.\n",
            "\u001b[34m\u001b[1mwandb\u001b[0m: \u001b[33mWARNING\u001b[0m Ignored wandb.init() arg entity when running a sweep.\n"
          ]
        },
        {
          "output_type": "display_data",
          "data": {
            "text/html": [
              "\n",
              "                    Syncing run <strong><a href=\"https://wandb.ai/moni6264/test_mse_50/runs/jcrs498m\" target=\"_blank\">proud-sweep-36</a></strong> to <a href=\"https://wandb.ai/moni6264/test_mse_50\" target=\"_blank\">Weights & Biases</a> (<a href=\"https://docs.wandb.com/integrations/jupyter.html\" target=\"_blank\">docs</a>).<br/>\n",
              "Sweep page: <a href=\"https://wandb.ai/moni6264/test_mse_50/sweeps/4hhn4fkp\" target=\"_blank\">https://wandb.ai/moni6264/test_mse_50/sweeps/4hhn4fkp</a><br/>\n",
              "\n",
              "                "
            ],
            "text/plain": [
              "<IPython.core.display.HTML object>"
            ]
          },
          "metadata": {}
        },
        {
          "output_type": "stream",
          "name": "stdout",
          "text": [
            "Epoch 0: training_accuracy = 71.05 %, training_loss= 0.20091  ,Validation accuracy = 70.83 ,Validation loss = 0.20043\n",
            "Epoch 1: training_accuracy = 72.04 %, training_loss= 0.19423  ,Validation accuracy = 71.83 ,Validation loss = 0.19371\n",
            "Epoch 2: training_accuracy = 72.69 %, training_loss= 0.19059  ,Validation accuracy = 72.42 ,Validation loss = 0.19012\n",
            "Epoch 3: training_accuracy = 73.04 %, training_loss= 0.18864  ,Validation accuracy = 72.83 ,Validation loss = 0.18834\n",
            "Epoch 4: training_accuracy = 73.22 %, training_loss= 0.18737  ,Validation accuracy = 73.02 ,Validation loss = 0.18725\n",
            "Epoch 5: training_accuracy = 73.36 %, training_loss= 0.18644  ,Validation accuracy = 73.12 ,Validation loss = 0.18651\n",
            "Epoch 6: training_accuracy = 73.47 %, training_loss= 0.18571  ,Validation accuracy = 73.18 ,Validation loss = 0.18596\n",
            "Epoch 7: training_accuracy = 73.55 %, training_loss= 0.18511  ,Validation accuracy = 73.32 ,Validation loss = 0.18554\n",
            "Epoch 8: training_accuracy = 73.63 %, training_loss= 0.18461  ,Validation accuracy = 73.27 ,Validation loss = 0.18519\n",
            "Epoch 9: training_accuracy = 73.71 %, training_loss= 0.18417  ,Validation accuracy = 73.30 ,Validation loss = 0.18489\n"
          ]
        },
        {
          "output_type": "display_data",
          "data": {
            "text/html": [
              "<br/>Waiting for W&B process to finish, PID 2002... <strong style=\"color:green\">(success).</strong>"
            ],
            "text/plain": [
              "<IPython.core.display.HTML object>"
            ]
          },
          "metadata": {}
        },
        {
          "output_type": "display_data",
          "data": {
            "application/vnd.jupyter.widget-view+json": {
              "model_id": "194750b4a6bc4cc08107d67a800cbcca",
              "version_minor": 0,
              "version_major": 2
            },
            "text/plain": [
              "VBox(children=(Label(value=' 0.00MB of 0.00MB uploaded (0.00MB deduped)\\r'), FloatProgress(value=1.0, max=1.0)…"
            ]
          },
          "metadata": {}
        },
        {
          "output_type": "display_data",
          "data": {
            "text/html": [
              "<style>\n",
              "    table.wandb td:nth-child(1) { padding: 0 10px; text-align: right }\n",
              "    .wandb-row { display: flex; flex-direction: row; flex-wrap: wrap; width: 100% }\n",
              "    .wandb-col { display: flex; flex-direction: column; flex-basis: 100%; flex: 1; padding: 10px; }\n",
              "    </style>\n",
              "<div class=\"wandb-row\"><div class=\"wandb-col\">\n",
              "<h3>Run history:</h3><br/><table class=\"wandb\"><tr><td>steps</td><td>▁▁▁▁▁▁▁▁▁▁</td></tr><tr><td>train_accuracy</td><td>▁▄▅▆▇▇▇███</td></tr><tr><td>train_loss</td><td>█▅▄▃▂▂▂▁▁▁</td></tr><tr><td>val_accuracy</td><td>▁▄▅▇▇▇████</td></tr><tr><td>val_loss</td><td>█▅▃▃▂▂▁▁▁▁</td></tr></table><br/></div><div class=\"wandb-col\">\n",
              "<h3>Run summary:</h3><br/><table class=\"wandb\"><tr><td>steps</td><td>10</td></tr><tr><td>train_accuracy</td><td>73.711</td></tr><tr><td>train_loss</td><td>0.18417</td></tr><tr><td>val_accuracy</td><td>73.3</td></tr><tr><td>val_loss</td><td>0.18489</td></tr></table>\n",
              "</div></div>\n",
              "Synced 5 W&B file(s), 0 media file(s), 0 artifact file(s) and 0 other file(s)\n",
              "<br/>Synced <strong style=\"color:#cdcd00\">proud-sweep-36</strong>: <a href=\"https://wandb.ai/moni6264/test_mse_50/runs/jcrs498m\" target=\"_blank\">https://wandb.ai/moni6264/test_mse_50/runs/jcrs498m</a><br/>\n",
              "Find logs at: <code>./wandb/run-20220225_070322-jcrs498m/logs</code><br/>\n"
            ],
            "text/plain": [
              "<IPython.core.display.HTML object>"
            ]
          },
          "metadata": {}
        },
        {
          "output_type": "stream",
          "name": "stderr",
          "text": [
            "\u001b[34m\u001b[1mwandb\u001b[0m: Agent Starting Run: 02gfyett with config:\n",
            "\u001b[34m\u001b[1mwandb\u001b[0m: \tactivation: sigmoid\n",
            "\u001b[34m\u001b[1mwandb\u001b[0m: \tbatch_size: 128\n",
            "\u001b[34m\u001b[1mwandb\u001b[0m: \tepochs: 10\n",
            "\u001b[34m\u001b[1mwandb\u001b[0m: \thidden_layer: [128, 128, 128]\n",
            "\u001b[34m\u001b[1mwandb\u001b[0m: \tinitilisation: xavier\n",
            "\u001b[34m\u001b[1mwandb\u001b[0m: \tlearning_rate: 0.01\n",
            "\u001b[34m\u001b[1mwandb\u001b[0m: \tloss_function: square_loss\n",
            "\u001b[34m\u001b[1mwandb\u001b[0m: \toptimiser: ngd\n",
            "\u001b[34m\u001b[1mwandb\u001b[0m: \tweight_decay: 0.5\n",
            "\u001b[34m\u001b[1mwandb\u001b[0m: \u001b[33mWARNING\u001b[0m Ignored wandb.init() arg project when running a sweep.\n",
            "\u001b[34m\u001b[1mwandb\u001b[0m: \u001b[33mWARNING\u001b[0m Ignored wandb.init() arg entity when running a sweep.\n"
          ]
        },
        {
          "output_type": "display_data",
          "data": {
            "text/html": [
              "\n",
              "                    Syncing run <strong><a href=\"https://wandb.ai/moni6264/test_mse_50/runs/02gfyett\" target=\"_blank\">serene-sweep-37</a></strong> to <a href=\"https://wandb.ai/moni6264/test_mse_50\" target=\"_blank\">Weights & Biases</a> (<a href=\"https://docs.wandb.com/integrations/jupyter.html\" target=\"_blank\">docs</a>).<br/>\n",
              "Sweep page: <a href=\"https://wandb.ai/moni6264/test_mse_50/sweeps/4hhn4fkp\" target=\"_blank\">https://wandb.ai/moni6264/test_mse_50/sweeps/4hhn4fkp</a><br/>\n",
              "\n",
              "                "
            ],
            "text/plain": [
              "<IPython.core.display.HTML object>"
            ]
          },
          "metadata": {}
        },
        {
          "output_type": "stream",
          "name": "stdout",
          "text": [
            "Epoch 0: training_accuracy = 9.95 %, training_loss= 0.45054  ,Validation accuracy = 10.45 ,Validation loss = 0.45048\n",
            "Epoch 1: training_accuracy = 9.95 %, training_loss= 0.45050  ,Validation accuracy = 10.45 ,Validation loss = 0.45043\n",
            "Epoch 2: training_accuracy = 9.95 %, training_loss= 0.45045  ,Validation accuracy = 10.45 ,Validation loss = 0.45039\n",
            "Epoch 3: training_accuracy = 9.95 %, training_loss= 0.45041  ,Validation accuracy = 10.45 ,Validation loss = 0.45034\n",
            "Epoch 4: training_accuracy = 9.95 %, training_loss= 0.45037  ,Validation accuracy = 10.45 ,Validation loss = 0.45031\n",
            "Epoch 5: training_accuracy = 9.95 %, training_loss= 0.45033  ,Validation accuracy = 10.45 ,Validation loss = 0.45027\n",
            "Epoch 6: training_accuracy = 9.95 %, training_loss= 0.45030  ,Validation accuracy = 10.45 ,Validation loss = 0.45024\n",
            "Epoch 7: training_accuracy = 9.95 %, training_loss= 0.45027  ,Validation accuracy = 10.45 ,Validation loss = 0.45021\n",
            "Epoch 8: training_accuracy = 9.95 %, training_loss= 0.45024  ,Validation accuracy = 10.45 ,Validation loss = 0.45019\n",
            "Epoch 9: training_accuracy = 9.95 %, training_loss= 0.45022  ,Validation accuracy = 10.45 ,Validation loss = 0.45017\n"
          ]
        },
        {
          "output_type": "display_data",
          "data": {
            "text/html": [
              "<br/>Waiting for W&B process to finish, PID 2041... <strong style=\"color:green\">(success).</strong>"
            ],
            "text/plain": [
              "<IPython.core.display.HTML object>"
            ]
          },
          "metadata": {}
        },
        {
          "output_type": "display_data",
          "data": {
            "application/vnd.jupyter.widget-view+json": {
              "model_id": "e193e7b926ac458bacbec078aad57096",
              "version_minor": 0,
              "version_major": 2
            },
            "text/plain": [
              "VBox(children=(Label(value=' 0.00MB of 0.00MB uploaded (0.00MB deduped)\\r'), FloatProgress(value=1.0, max=1.0)…"
            ]
          },
          "metadata": {}
        },
        {
          "output_type": "display_data",
          "data": {
            "text/html": [
              "<style>\n",
              "    table.wandb td:nth-child(1) { padding: 0 10px; text-align: right }\n",
              "    .wandb-row { display: flex; flex-direction: row; flex-wrap: wrap; width: 100% }\n",
              "    .wandb-col { display: flex; flex-direction: column; flex-basis: 100%; flex: 1; padding: 10px; }\n",
              "    </style>\n",
              "<div class=\"wandb-row\"><div class=\"wandb-col\">\n",
              "<h3>Run history:</h3><br/><table class=\"wandb\"><tr><td>steps</td><td>▁▁▁▁▁▁▁▁▁▁</td></tr><tr><td>train_accuracy</td><td>▁▁▁▁▁▁▁▁▁▁</td></tr><tr><td>train_loss</td><td>█▇▆▅▄▃▃▂▂▁</td></tr><tr><td>val_accuracy</td><td>▁▁▁▁▁▁▁▁▁▁</td></tr><tr><td>val_loss</td><td>█▇▆▅▄▃▃▂▁▁</td></tr></table><br/></div><div class=\"wandb-col\">\n",
              "<h3>Run summary:</h3><br/><table class=\"wandb\"><tr><td>steps</td><td>10</td></tr><tr><td>train_accuracy</td><td>9.95</td></tr><tr><td>train_loss</td><td>0.45022</td></tr><tr><td>val_accuracy</td><td>10.45</td></tr><tr><td>val_loss</td><td>0.45017</td></tr></table>\n",
              "</div></div>\n",
              "Synced 5 W&B file(s), 0 media file(s), 0 artifact file(s) and 0 other file(s)\n",
              "<br/>Synced <strong style=\"color:#cdcd00\">serene-sweep-37</strong>: <a href=\"https://wandb.ai/moni6264/test_mse_50/runs/02gfyett\" target=\"_blank\">https://wandb.ai/moni6264/test_mse_50/runs/02gfyett</a><br/>\n",
              "Find logs at: <code>./wandb/run-20220225_070430-02gfyett/logs</code><br/>\n"
            ],
            "text/plain": [
              "<IPython.core.display.HTML object>"
            ]
          },
          "metadata": {}
        },
        {
          "output_type": "stream",
          "name": "stderr",
          "text": [
            "\u001b[34m\u001b[1mwandb\u001b[0m: Agent Starting Run: 1c5668th with config:\n",
            "\u001b[34m\u001b[1mwandb\u001b[0m: \tactivation: tanh\n",
            "\u001b[34m\u001b[1mwandb\u001b[0m: \tbatch_size: 128\n",
            "\u001b[34m\u001b[1mwandb\u001b[0m: \tepochs: 10\n",
            "\u001b[34m\u001b[1mwandb\u001b[0m: \thidden_layer: [32, 64, 128]\n",
            "\u001b[34m\u001b[1mwandb\u001b[0m: \tinitilisation: xavier\n",
            "\u001b[34m\u001b[1mwandb\u001b[0m: \tlearning_rate: 0.001\n",
            "\u001b[34m\u001b[1mwandb\u001b[0m: \tloss_function: square_loss\n",
            "\u001b[34m\u001b[1mwandb\u001b[0m: \toptimiser: adam\n",
            "\u001b[34m\u001b[1mwandb\u001b[0m: \tweight_decay: 0.5\n",
            "\u001b[34m\u001b[1mwandb\u001b[0m: \u001b[33mWARNING\u001b[0m Ignored wandb.init() arg project when running a sweep.\n",
            "\u001b[34m\u001b[1mwandb\u001b[0m: \u001b[33mWARNING\u001b[0m Ignored wandb.init() arg entity when running a sweep.\n"
          ]
        },
        {
          "output_type": "display_data",
          "data": {
            "text/html": [
              "\n",
              "                    Syncing run <strong><a href=\"https://wandb.ai/moni6264/test_mse_50/runs/1c5668th\" target=\"_blank\">logical-sweep-38</a></strong> to <a href=\"https://wandb.ai/moni6264/test_mse_50\" target=\"_blank\">Weights & Biases</a> (<a href=\"https://docs.wandb.com/integrations/jupyter.html\" target=\"_blank\">docs</a>).<br/>\n",
              "Sweep page: <a href=\"https://wandb.ai/moni6264/test_mse_50/sweeps/4hhn4fkp\" target=\"_blank\">https://wandb.ai/moni6264/test_mse_50/sweeps/4hhn4fkp</a><br/>\n",
              "\n",
              "                "
            ],
            "text/plain": [
              "<IPython.core.display.HTML object>"
            ]
          },
          "metadata": {}
        },
        {
          "output_type": "stream",
          "name": "stdout",
          "text": [
            "Epoch 0: training_accuracy = 50.98 %, training_loss= 0.33857  ,Validation accuracy = 49.97 ,Validation loss = 0.34057\n",
            "Epoch 1: training_accuracy = 50.64 %, training_loss= 0.35752  ,Validation accuracy = 50.00 ,Validation loss = 0.35893\n",
            "Epoch 2: training_accuracy = 43.69 %, training_loss= 0.39000  ,Validation accuracy = 43.08 ,Validation loss = 0.39076\n",
            "Epoch 3: training_accuracy = 36.23 %, training_loss= 0.41796  ,Validation accuracy = 35.93 ,Validation loss = 0.41821\n",
            "Epoch 4: training_accuracy = 29.12 %, training_loss= 0.43618  ,Validation accuracy = 29.15 ,Validation loss = 0.43619\n",
            "Epoch 5: training_accuracy = 22.28 %, training_loss= 0.44624  ,Validation accuracy = 22.48 ,Validation loss = 0.44614\n",
            "Epoch 6: training_accuracy = 19.92 %, training_loss= 0.45109  ,Validation accuracy = 19.95 ,Validation loss = 0.45093\n",
            "Epoch 7: training_accuracy = 19.87 %, training_loss= 0.44819  ,Validation accuracy = 19.90 ,Validation loss = 0.44822\n",
            "Epoch 8: training_accuracy = 19.84 %, training_loss= 0.44923  ,Validation accuracy = 19.83 ,Validation loss = 0.44924\n",
            "Epoch 9: training_accuracy = 19.43 %, training_loss= 0.44969  ,Validation accuracy = 19.52 ,Validation loss = 0.44969\n"
          ]
        },
        {
          "output_type": "display_data",
          "data": {
            "text/html": [
              "<br/>Waiting for W&B process to finish, PID 2080... <strong style=\"color:green\">(success).</strong>"
            ],
            "text/plain": [
              "<IPython.core.display.HTML object>"
            ]
          },
          "metadata": {}
        },
        {
          "output_type": "display_data",
          "data": {
            "application/vnd.jupyter.widget-view+json": {
              "model_id": "fa101fb4eae7465a9c676c5ef5b10e71",
              "version_minor": 0,
              "version_major": 2
            },
            "text/plain": [
              "VBox(children=(Label(value=' 0.00MB of 0.00MB uploaded (0.00MB deduped)\\r'), FloatProgress(value=1.0, max=1.0)…"
            ]
          },
          "metadata": {}
        },
        {
          "output_type": "display_data",
          "data": {
            "text/html": [
              "<style>\n",
              "    table.wandb td:nth-child(1) { padding: 0 10px; text-align: right }\n",
              "    .wandb-row { display: flex; flex-direction: row; flex-wrap: wrap; width: 100% }\n",
              "    .wandb-col { display: flex; flex-direction: column; flex-basis: 100%; flex: 1; padding: 10px; }\n",
              "    </style>\n",
              "<div class=\"wandb-row\"><div class=\"wandb-col\">\n",
              "<h3>Run history:</h3><br/><table class=\"wandb\"><tr><td>steps</td><td>▁▁▁▁▁▁▁▁▁▁</td></tr><tr><td>train_accuracy</td><td>██▆▅▃▂▁▁▁▁</td></tr><tr><td>train_loss</td><td>▁▂▄▆▇█████</td></tr><tr><td>val_accuracy</td><td>██▆▅▃▂▁▁▁▁</td></tr><tr><td>val_loss</td><td>▁▂▄▆▇█████</td></tr></table><br/></div><div class=\"wandb-col\">\n",
              "<h3>Run summary:</h3><br/><table class=\"wandb\"><tr><td>steps</td><td>10</td></tr><tr><td>train_accuracy</td><td>19.435</td></tr><tr><td>train_loss</td><td>0.44969</td></tr><tr><td>val_accuracy</td><td>19.517</td></tr><tr><td>val_loss</td><td>0.44969</td></tr></table>\n",
              "</div></div>\n",
              "Synced 5 W&B file(s), 0 media file(s), 0 artifact file(s) and 0 other file(s)\n",
              "<br/>Synced <strong style=\"color:#cdcd00\">logical-sweep-38</strong>: <a href=\"https://wandb.ai/moni6264/test_mse_50/runs/1c5668th\" target=\"_blank\">https://wandb.ai/moni6264/test_mse_50/runs/1c5668th</a><br/>\n",
              "Find logs at: <code>./wandb/run-20220225_070722-1c5668th/logs</code><br/>\n"
            ],
            "text/plain": [
              "<IPython.core.display.HTML object>"
            ]
          },
          "metadata": {}
        },
        {
          "output_type": "stream",
          "name": "stderr",
          "text": [
            "\u001b[34m\u001b[1mwandb\u001b[0m: Agent Starting Run: noswe6ix with config:\n",
            "\u001b[34m\u001b[1mwandb\u001b[0m: \tactivation: tanh\n",
            "\u001b[34m\u001b[1mwandb\u001b[0m: \tbatch_size: 64\n",
            "\u001b[34m\u001b[1mwandb\u001b[0m: \tepochs: 15\n",
            "\u001b[34m\u001b[1mwandb\u001b[0m: \thidden_layer: [32, 64, 128]\n",
            "\u001b[34m\u001b[1mwandb\u001b[0m: \tinitilisation: xavier\n",
            "\u001b[34m\u001b[1mwandb\u001b[0m: \tlearning_rate: 0.001\n",
            "\u001b[34m\u001b[1mwandb\u001b[0m: \tloss_function: square_loss\n",
            "\u001b[34m\u001b[1mwandb\u001b[0m: \toptimiser: nadam\n",
            "\u001b[34m\u001b[1mwandb\u001b[0m: \tweight_decay: 0\n",
            "\u001b[34m\u001b[1mwandb\u001b[0m: \u001b[33mWARNING\u001b[0m Ignored wandb.init() arg project when running a sweep.\n",
            "\u001b[34m\u001b[1mwandb\u001b[0m: \u001b[33mWARNING\u001b[0m Ignored wandb.init() arg entity when running a sweep.\n"
          ]
        },
        {
          "output_type": "display_data",
          "data": {
            "text/html": [
              "\n",
              "                    Syncing run <strong><a href=\"https://wandb.ai/moni6264/test_mse_50/runs/noswe6ix\" target=\"_blank\">swept-sweep-39</a></strong> to <a href=\"https://wandb.ai/moni6264/test_mse_50\" target=\"_blank\">Weights & Biases</a> (<a href=\"https://docs.wandb.com/integrations/jupyter.html\" target=\"_blank\">docs</a>).<br/>\n",
              "Sweep page: <a href=\"https://wandb.ai/moni6264/test_mse_50/sweeps/4hhn4fkp\" target=\"_blank\">https://wandb.ai/moni6264/test_mse_50/sweeps/4hhn4fkp</a><br/>\n",
              "\n",
              "                "
            ],
            "text/plain": [
              "<IPython.core.display.HTML object>"
            ]
          },
          "metadata": {}
        },
        {
          "output_type": "stream",
          "name": "stdout",
          "text": [
            "Epoch 0: training_accuracy = 10.09 %, training_loss= 0.89907  ,Validation accuracy = 9.17 ,Validation loss = 0.90833\n",
            "Epoch 1: training_accuracy = 10.09 %, training_loss= 0.89907  ,Validation accuracy = 9.17 ,Validation loss = 0.90833\n",
            "Epoch 2: training_accuracy = 10.09 %, training_loss= 0.89907  ,Validation accuracy = 9.17 ,Validation loss = 0.90833\n",
            "Epoch 3: training_accuracy = 10.09 %, training_loss= 0.89907  ,Validation accuracy = 9.17 ,Validation loss = 0.90833\n",
            "Epoch 4: training_accuracy = 10.09 %, training_loss= 0.89907  ,Validation accuracy = 9.17 ,Validation loss = 0.90833\n",
            "Epoch 5: training_accuracy = 10.09 %, training_loss= 0.89907  ,Validation accuracy = 9.17 ,Validation loss = 0.90833\n",
            "Epoch 6: training_accuracy = 10.09 %, training_loss= 0.89907  ,Validation accuracy = 9.17 ,Validation loss = 0.90833\n",
            "Epoch 7: training_accuracy = 10.09 %, training_loss= 0.89907  ,Validation accuracy = 9.17 ,Validation loss = 0.90833\n",
            "Epoch 8: training_accuracy = 10.09 %, training_loss= 0.89907  ,Validation accuracy = 9.17 ,Validation loss = 0.90833\n",
            "Epoch 9: training_accuracy = 10.09 %, training_loss= 0.89907  ,Validation accuracy = 9.17 ,Validation loss = 0.90833\n",
            "Epoch 10: training_accuracy = 10.09 %, training_loss= 0.89907  ,Validation accuracy = 9.17 ,Validation loss = 0.90833\n",
            "Epoch 11: training_accuracy = 10.09 %, training_loss= 0.89907  ,Validation accuracy = 9.17 ,Validation loss = 0.90833\n",
            "Epoch 12: training_accuracy = 10.09 %, training_loss= 0.89907  ,Validation accuracy = 9.17 ,Validation loss = 0.90833\n",
            "Epoch 13: training_accuracy = 10.09 %, training_loss= 0.89907  ,Validation accuracy = 9.17 ,Validation loss = 0.90833\n",
            "Epoch 14: training_accuracy = 10.09 %, training_loss= 0.89907  ,Validation accuracy = 9.17 ,Validation loss = 0.90833\n"
          ]
        },
        {
          "output_type": "display_data",
          "data": {
            "text/html": [
              "<br/>Waiting for W&B process to finish, PID 2119... <strong style=\"color:green\">(success).</strong>"
            ],
            "text/plain": [
              "<IPython.core.display.HTML object>"
            ]
          },
          "metadata": {}
        },
        {
          "output_type": "display_data",
          "data": {
            "application/vnd.jupyter.widget-view+json": {
              "model_id": "1d0b6a369bce4661a4e485d701eda799",
              "version_minor": 0,
              "version_major": 2
            },
            "text/plain": [
              "VBox(children=(Label(value=' 0.00MB of 0.00MB uploaded (0.00MB deduped)\\r'), FloatProgress(value=1.0, max=1.0)…"
            ]
          },
          "metadata": {}
        },
        {
          "output_type": "display_data",
          "data": {
            "text/html": [
              "<style>\n",
              "    table.wandb td:nth-child(1) { padding: 0 10px; text-align: right }\n",
              "    .wandb-row { display: flex; flex-direction: row; flex-wrap: wrap; width: 100% }\n",
              "    .wandb-col { display: flex; flex-direction: column; flex-basis: 100%; flex: 1; padding: 10px; }\n",
              "    </style>\n",
              "<div class=\"wandb-row\"><div class=\"wandb-col\">\n",
              "<h3>Run history:</h3><br/><table class=\"wandb\"><tr><td>steps</td><td>▁▁▁▁▁▁▁▁▁▁▁▁▁▁▁</td></tr><tr><td>train_accuracy</td><td>▁▁▁▁▁▁▁▁▁▁▁▁▁▁▁</td></tr><tr><td>train_loss</td><td>▁▁▁▁▁▁▁▁▁▁▁▁▁▁▁</td></tr><tr><td>val_accuracy</td><td>▁▁▁▁▁▁▁▁▁▁▁▁▁▁▁</td></tr><tr><td>val_loss</td><td>▁▁▁▁▁▁▁▁▁▁▁▁▁▁▁</td></tr></table><br/></div><div class=\"wandb-col\">\n",
              "<h3>Run summary:</h3><br/><table class=\"wandb\"><tr><td>steps</td><td>15</td></tr><tr><td>train_accuracy</td><td>10.093</td></tr><tr><td>train_loss</td><td>0.89907</td></tr><tr><td>val_accuracy</td><td>9.167</td></tr><tr><td>val_loss</td><td>0.90833</td></tr></table>\n",
              "</div></div>\n",
              "Synced 5 W&B file(s), 0 media file(s), 0 artifact file(s) and 0 other file(s)\n",
              "<br/>Synced <strong style=\"color:#cdcd00\">swept-sweep-39</strong>: <a href=\"https://wandb.ai/moni6264/test_mse_50/runs/noswe6ix\" target=\"_blank\">https://wandb.ai/moni6264/test_mse_50/runs/noswe6ix</a><br/>\n",
              "Find logs at: <code>./wandb/run-20220225_070841-noswe6ix/logs</code><br/>\n"
            ],
            "text/plain": [
              "<IPython.core.display.HTML object>"
            ]
          },
          "metadata": {}
        },
        {
          "output_type": "stream",
          "name": "stderr",
          "text": [
            "\u001b[34m\u001b[1mwandb\u001b[0m: Agent Starting Run: v5u0qkrc with config:\n",
            "\u001b[34m\u001b[1mwandb\u001b[0m: \tactivation: sigmoid\n",
            "\u001b[34m\u001b[1mwandb\u001b[0m: \tbatch_size: 256\n",
            "\u001b[34m\u001b[1mwandb\u001b[0m: \tepochs: 20\n",
            "\u001b[34m\u001b[1mwandb\u001b[0m: \thidden_layer: [32, 64, 128]\n",
            "\u001b[34m\u001b[1mwandb\u001b[0m: \tinitilisation: xavier\n",
            "\u001b[34m\u001b[1mwandb\u001b[0m: \tlearning_rate: 0.001\n",
            "\u001b[34m\u001b[1mwandb\u001b[0m: \tloss_function: square_loss\n",
            "\u001b[34m\u001b[1mwandb\u001b[0m: \toptimiser: nadam\n",
            "\u001b[34m\u001b[1mwandb\u001b[0m: \tweight_decay: 0.0005\n",
            "\u001b[34m\u001b[1mwandb\u001b[0m: \u001b[33mWARNING\u001b[0m Ignored wandb.init() arg project when running a sweep.\n",
            "\u001b[34m\u001b[1mwandb\u001b[0m: \u001b[33mWARNING\u001b[0m Ignored wandb.init() arg entity when running a sweep.\n"
          ]
        },
        {
          "output_type": "display_data",
          "data": {
            "text/html": [
              "\n",
              "                    Syncing run <strong><a href=\"https://wandb.ai/moni6264/test_mse_50/runs/v5u0qkrc\" target=\"_blank\">decent-sweep-40</a></strong> to <a href=\"https://wandb.ai/moni6264/test_mse_50\" target=\"_blank\">Weights & Biases</a> (<a href=\"https://docs.wandb.com/integrations/jupyter.html\" target=\"_blank\">docs</a>).<br/>\n",
              "Sweep page: <a href=\"https://wandb.ai/moni6264/test_mse_50/sweeps/4hhn4fkp\" target=\"_blank\">https://wandb.ai/moni6264/test_mse_50/sweeps/4hhn4fkp</a><br/>\n",
              "\n",
              "                "
            ],
            "text/plain": [
              "<IPython.core.display.HTML object>"
            ]
          },
          "metadata": {}
        },
        {
          "output_type": "stream",
          "name": "stdout",
          "text": [
            "Epoch 0: training_accuracy = 9.99 %, training_loss= 0.45085  ,Validation accuracy = 10.13 ,Validation loss = 0.45054\n",
            "Epoch 1: training_accuracy = 10.15 %, training_loss= 0.44459  ,Validation accuracy = 10.25 ,Validation loss = 0.44439\n",
            "Epoch 2: training_accuracy = 11.88 %, training_loss= 0.43990  ,Validation accuracy = 11.83 ,Validation loss = 0.43975\n",
            "Epoch 3: training_accuracy = 16.83 %, training_loss= 0.43644  ,Validation accuracy = 15.78 ,Validation loss = 0.43632\n",
            "Epoch 4: training_accuracy = 21.52 %, training_loss= 0.43350  ,Validation accuracy = 20.87 ,Validation loss = 0.43341\n",
            "Epoch 5: training_accuracy = 25.52 %, training_loss= 0.43089  ,Validation accuracy = 25.25 ,Validation loss = 0.43083\n",
            "Epoch 6: training_accuracy = 29.35 %, training_loss= 0.42853  ,Validation accuracy = 29.03 ,Validation loss = 0.42850\n",
            "Epoch 7: training_accuracy = 32.56 %, training_loss= 0.42640  ,Validation accuracy = 31.87 ,Validation loss = 0.42639\n",
            "Epoch 8: training_accuracy = 34.91 %, training_loss= 0.42448  ,Validation accuracy = 34.52 ,Validation loss = 0.42451\n",
            "Epoch 9: training_accuracy = 36.71 %, training_loss= 0.42280  ,Validation accuracy = 36.68 ,Validation loss = 0.42286\n",
            "Epoch 10: training_accuracy = 37.99 %, training_loss= 0.42136  ,Validation accuracy = 38.22 ,Validation loss = 0.42143\n",
            "Epoch 11: training_accuracy = 38.90 %, training_loss= 0.42016  ,Validation accuracy = 39.12 ,Validation loss = 0.42026\n",
            "Epoch 12: training_accuracy = 39.59 %, training_loss= 0.41922  ,Validation accuracy = 39.95 ,Validation loss = 0.41933\n",
            "Epoch 13: training_accuracy = 40.15 %, training_loss= 0.41854  ,Validation accuracy = 40.45 ,Validation loss = 0.41866\n",
            "Epoch 14: training_accuracy = 40.55 %, training_loss= 0.41811  ,Validation accuracy = 40.83 ,Validation loss = 0.41825\n",
            "Epoch 15: training_accuracy = 40.82 %, training_loss= 0.41795  ,Validation accuracy = 41.15 ,Validation loss = 0.41809\n",
            "Epoch 16: training_accuracy = 41.00 %, training_loss= 0.41802  ,Validation accuracy = 41.28 ,Validation loss = 0.41817\n",
            "Epoch 17: training_accuracy = 41.05 %, training_loss= 0.41832  ,Validation accuracy = 41.23 ,Validation loss = 0.41847\n",
            "Epoch 18: training_accuracy = 41.12 %, training_loss= 0.41880  ,Validation accuracy = 41.32 ,Validation loss = 0.41896\n",
            "Epoch 19: training_accuracy = 41.12 %, training_loss= 0.41945  ,Validation accuracy = 41.28 ,Validation loss = 0.41960\n"
          ]
        },
        {
          "output_type": "display_data",
          "data": {
            "text/html": [
              "<br/>Waiting for W&B process to finish, PID 2160... <strong style=\"color:green\">(success).</strong>"
            ],
            "text/plain": [
              "<IPython.core.display.HTML object>"
            ]
          },
          "metadata": {}
        },
        {
          "output_type": "display_data",
          "data": {
            "application/vnd.jupyter.widget-view+json": {
              "model_id": "eae8c28b75184ec292bb128cc2b7a7a8",
              "version_minor": 0,
              "version_major": 2
            },
            "text/plain": [
              "VBox(children=(Label(value=' 0.00MB of 0.00MB uploaded (0.00MB deduped)\\r'), FloatProgress(value=1.0, max=1.0)…"
            ]
          },
          "metadata": {}
        },
        {
          "output_type": "display_data",
          "data": {
            "text/html": [
              "<style>\n",
              "    table.wandb td:nth-child(1) { padding: 0 10px; text-align: right }\n",
              "    .wandb-row { display: flex; flex-direction: row; flex-wrap: wrap; width: 100% }\n",
              "    .wandb-col { display: flex; flex-direction: column; flex-basis: 100%; flex: 1; padding: 10px; }\n",
              "    </style>\n",
              "<div class=\"wandb-row\"><div class=\"wandb-col\">\n",
              "<h3>Run history:</h3><br/><table class=\"wandb\"><tr><td>steps</td><td>▁▁▁▁▁▁▁▁▁▁▁▁▁▁▁▁▁▁▁▁</td></tr><tr><td>train_accuracy</td><td>▁▁▁▃▄▄▅▆▇▇▇█████████</td></tr><tr><td>train_loss</td><td>█▇▆▅▄▄▃▃▂▂▂▁▁▁▁▁▁▁▁▁</td></tr><tr><td>val_accuracy</td><td>▁▁▁▂▃▄▅▆▆▇▇█████████</td></tr><tr><td>val_loss</td><td>█▇▆▅▄▄▃▃▂▂▂▁▁▁▁▁▁▁▁▁</td></tr></table><br/></div><div class=\"wandb-col\">\n",
              "<h3>Run summary:</h3><br/><table class=\"wandb\"><tr><td>steps</td><td>20</td></tr><tr><td>train_accuracy</td><td>41.12</td></tr><tr><td>train_loss</td><td>0.41945</td></tr><tr><td>val_accuracy</td><td>41.283</td></tr><tr><td>val_loss</td><td>0.4196</td></tr></table>\n",
              "</div></div>\n",
              "Synced 5 W&B file(s), 0 media file(s), 0 artifact file(s) and 0 other file(s)\n",
              "<br/>Synced <strong style=\"color:#cdcd00\">decent-sweep-40</strong>: <a href=\"https://wandb.ai/moni6264/test_mse_50/runs/v5u0qkrc\" target=\"_blank\">https://wandb.ai/moni6264/test_mse_50/runs/v5u0qkrc</a><br/>\n",
              "Find logs at: <code>./wandb/run-20220225_071107-v5u0qkrc/logs</code><br/>\n"
            ],
            "text/plain": [
              "<IPython.core.display.HTML object>"
            ]
          },
          "metadata": {}
        },
        {
          "output_type": "stream",
          "name": "stderr",
          "text": [
            "\u001b[34m\u001b[1mwandb\u001b[0m: Agent Starting Run: c33lsxac with config:\n",
            "\u001b[34m\u001b[1mwandb\u001b[0m: \tactivation: sigmoid\n",
            "\u001b[34m\u001b[1mwandb\u001b[0m: \tbatch_size: 256\n",
            "\u001b[34m\u001b[1mwandb\u001b[0m: \tepochs: 10\n",
            "\u001b[34m\u001b[1mwandb\u001b[0m: \thidden_layer: [128, 128, 128]\n",
            "\u001b[34m\u001b[1mwandb\u001b[0m: \tinitilisation: xavier\n",
            "\u001b[34m\u001b[1mwandb\u001b[0m: \tlearning_rate: 0.01\n",
            "\u001b[34m\u001b[1mwandb\u001b[0m: \tloss_function: square_loss\n",
            "\u001b[34m\u001b[1mwandb\u001b[0m: \toptimiser: ngd\n",
            "\u001b[34m\u001b[1mwandb\u001b[0m: \tweight_decay: 0.0005\n",
            "\u001b[34m\u001b[1mwandb\u001b[0m: \u001b[33mWARNING\u001b[0m Ignored wandb.init() arg project when running a sweep.\n",
            "\u001b[34m\u001b[1mwandb\u001b[0m: \u001b[33mWARNING\u001b[0m Ignored wandb.init() arg entity when running a sweep.\n"
          ]
        },
        {
          "output_type": "display_data",
          "data": {
            "text/html": [
              "\n",
              "                    Syncing run <strong><a href=\"https://wandb.ai/moni6264/test_mse_50/runs/c33lsxac\" target=\"_blank\">ethereal-sweep-41</a></strong> to <a href=\"https://wandb.ai/moni6264/test_mse_50\" target=\"_blank\">Weights & Biases</a> (<a href=\"https://docs.wandb.com/integrations/jupyter.html\" target=\"_blank\">docs</a>).<br/>\n",
              "Sweep page: <a href=\"https://wandb.ai/moni6264/test_mse_50/sweeps/4hhn4fkp\" target=\"_blank\">https://wandb.ai/moni6264/test_mse_50/sweeps/4hhn4fkp</a><br/>\n",
              "\n",
              "                "
            ],
            "text/plain": [
              "<IPython.core.display.HTML object>"
            ]
          },
          "metadata": {}
        },
        {
          "output_type": "stream",
          "name": "stdout",
          "text": [
            "Epoch 0: training_accuracy = 18.96 %, training_loss= 0.46275  ,Validation accuracy = 18.82 ,Validation loss = 0.46336\n",
            "Epoch 1: training_accuracy = 23.66 %, training_loss= 0.45607  ,Validation accuracy = 24.07 ,Validation loss = 0.45636\n",
            "Epoch 2: training_accuracy = 23.92 %, training_loss= 0.45577  ,Validation accuracy = 24.07 ,Validation loss = 0.45605\n",
            "Epoch 3: training_accuracy = 24.34 %, training_loss= 0.45520  ,Validation accuracy = 24.43 ,Validation loss = 0.45547\n",
            "Epoch 4: training_accuracy = 24.66 %, training_loss= 0.45310  ,Validation accuracy = 24.67 ,Validation loss = 0.45329\n",
            "Epoch 5: training_accuracy = 23.96 %, training_loss= 0.44970  ,Validation accuracy = 24.08 ,Validation loss = 0.44956\n",
            "Epoch 6: training_accuracy = 24.14 %, training_loss= 0.44952  ,Validation accuracy = 24.22 ,Validation loss = 0.44939\n",
            "Epoch 7: training_accuracy = 24.33 %, training_loss= 0.44935  ,Validation accuracy = 24.37 ,Validation loss = 0.44922\n",
            "Epoch 8: training_accuracy = 24.51 %, training_loss= 0.44919  ,Validation accuracy = 24.48 ,Validation loss = 0.44905\n",
            "Epoch 9: training_accuracy = 24.64 %, training_loss= 0.44902  ,Validation accuracy = 24.62 ,Validation loss = 0.44888\n"
          ]
        },
        {
          "output_type": "display_data",
          "data": {
            "text/html": [
              "<br/>Waiting for W&B process to finish, PID 2199... <strong style=\"color:green\">(success).</strong>"
            ],
            "text/plain": [
              "<IPython.core.display.HTML object>"
            ]
          },
          "metadata": {}
        },
        {
          "output_type": "display_data",
          "data": {
            "application/vnd.jupyter.widget-view+json": {
              "model_id": "9f5db92724ce4d048b9d21368812ee44",
              "version_minor": 0,
              "version_major": 2
            },
            "text/plain": [
              "VBox(children=(Label(value=' 0.00MB of 0.00MB uploaded (0.00MB deduped)\\r'), FloatProgress(value=1.0, max=1.0)…"
            ]
          },
          "metadata": {}
        },
        {
          "output_type": "display_data",
          "data": {
            "text/html": [
              "<style>\n",
              "    table.wandb td:nth-child(1) { padding: 0 10px; text-align: right }\n",
              "    .wandb-row { display: flex; flex-direction: row; flex-wrap: wrap; width: 100% }\n",
              "    .wandb-col { display: flex; flex-direction: column; flex-basis: 100%; flex: 1; padding: 10px; }\n",
              "    </style>\n",
              "<div class=\"wandb-row\"><div class=\"wandb-col\">\n",
              "<h3>Run history:</h3><br/><table class=\"wandb\"><tr><td>steps</td><td>▁▁▁▁▁▁▁▁▁▁</td></tr><tr><td>train_accuracy</td><td>▁▇▇██▇▇███</td></tr><tr><td>train_loss</td><td>█▅▄▄▃▁▁▁▁▁</td></tr><tr><td>val_accuracy</td><td>▁▇▇██▇▇███</td></tr><tr><td>val_loss</td><td>█▅▄▄▃▁▁▁▁▁</td></tr></table><br/></div><div class=\"wandb-col\">\n",
              "<h3>Run summary:</h3><br/><table class=\"wandb\"><tr><td>steps</td><td>10</td></tr><tr><td>train_accuracy</td><td>24.643</td></tr><tr><td>train_loss</td><td>0.44902</td></tr><tr><td>val_accuracy</td><td>24.617</td></tr><tr><td>val_loss</td><td>0.44888</td></tr></table>\n",
              "</div></div>\n",
              "Synced 5 W&B file(s), 0 media file(s), 0 artifact file(s) and 0 other file(s)\n",
              "<br/>Synced <strong style=\"color:#cdcd00\">ethereal-sweep-41</strong>: <a href=\"https://wandb.ai/moni6264/test_mse_50/runs/c33lsxac\" target=\"_blank\">https://wandb.ai/moni6264/test_mse_50/runs/c33lsxac</a><br/>\n",
              "Find logs at: <code>./wandb/run-20220225_071350-c33lsxac/logs</code><br/>\n"
            ],
            "text/plain": [
              "<IPython.core.display.HTML object>"
            ]
          },
          "metadata": {}
        },
        {
          "output_type": "stream",
          "name": "stderr",
          "text": [
            "\u001b[34m\u001b[1mwandb\u001b[0m: Agent Starting Run: asujru8v with config:\n",
            "\u001b[34m\u001b[1mwandb\u001b[0m: \tactivation: sigmoid\n",
            "\u001b[34m\u001b[1mwandb\u001b[0m: \tbatch_size: 64\n",
            "\u001b[34m\u001b[1mwandb\u001b[0m: \tepochs: 10\n",
            "\u001b[34m\u001b[1mwandb\u001b[0m: \thidden_layer: [128, 128, 128]\n",
            "\u001b[34m\u001b[1mwandb\u001b[0m: \tinitilisation: xavier\n",
            "\u001b[34m\u001b[1mwandb\u001b[0m: \tlearning_rate: 0.001\n",
            "\u001b[34m\u001b[1mwandb\u001b[0m: \tloss_function: square_loss\n",
            "\u001b[34m\u001b[1mwandb\u001b[0m: \toptimiser: mgd\n",
            "\u001b[34m\u001b[1mwandb\u001b[0m: \tweight_decay: 0.5\n",
            "\u001b[34m\u001b[1mwandb\u001b[0m: \u001b[33mWARNING\u001b[0m Ignored wandb.init() arg project when running a sweep.\n",
            "\u001b[34m\u001b[1mwandb\u001b[0m: \u001b[33mWARNING\u001b[0m Ignored wandb.init() arg entity when running a sweep.\n"
          ]
        },
        {
          "output_type": "display_data",
          "data": {
            "text/html": [
              "\n",
              "                    Syncing run <strong><a href=\"https://wandb.ai/moni6264/test_mse_50/runs/asujru8v\" target=\"_blank\">helpful-sweep-42</a></strong> to <a href=\"https://wandb.ai/moni6264/test_mse_50\" target=\"_blank\">Weights & Biases</a> (<a href=\"https://docs.wandb.com/integrations/jupyter.html\" target=\"_blank\">docs</a>).<br/>\n",
              "Sweep page: <a href=\"https://wandb.ai/moni6264/test_mse_50/sweeps/4hhn4fkp\" target=\"_blank\">https://wandb.ai/moni6264/test_mse_50/sweeps/4hhn4fkp</a><br/>\n",
              "\n",
              "                "
            ],
            "text/plain": [
              "<IPython.core.display.HTML object>"
            ]
          },
          "metadata": {}
        },
        {
          "output_type": "stream",
          "name": "stdout",
          "text": [
            "Epoch 0: training_accuracy = 9.97 %, training_loss= 0.45346  ,Validation accuracy = 9.80 ,Validation loss = 0.45332\n",
            "Epoch 1: training_accuracy = 10.01 %, training_loss= 0.45072  ,Validation accuracy = 9.95 ,Validation loss = 0.45075\n",
            "Epoch 2: training_accuracy = 10.01 %, training_loss= 0.45049  ,Validation accuracy = 9.95 ,Validation loss = 0.45057\n",
            "Epoch 3: training_accuracy = 10.01 %, training_loss= 0.45048  ,Validation accuracy = 9.95 ,Validation loss = 0.45056\n",
            "Epoch 4: training_accuracy = 10.01 %, training_loss= 0.45046  ,Validation accuracy = 9.95 ,Validation loss = 0.45054\n",
            "Epoch 5: training_accuracy = 10.01 %, training_loss= 0.45045  ,Validation accuracy = 9.95 ,Validation loss = 0.45052\n",
            "Epoch 6: training_accuracy = 10.01 %, training_loss= 0.45043  ,Validation accuracy = 9.95 ,Validation loss = 0.45051\n",
            "Epoch 7: training_accuracy = 10.01 %, training_loss= 0.45042  ,Validation accuracy = 9.95 ,Validation loss = 0.45050\n",
            "Epoch 8: training_accuracy = 10.01 %, training_loss= 0.45041  ,Validation accuracy = 9.95 ,Validation loss = 0.45048\n",
            "Epoch 9: training_accuracy = 10.01 %, training_loss= 0.45040  ,Validation accuracy = 9.95 ,Validation loss = 0.45047\n"
          ]
        },
        {
          "output_type": "display_data",
          "data": {
            "text/html": [
              "<br/>Waiting for W&B process to finish, PID 2238... <strong style=\"color:green\">(success).</strong>"
            ],
            "text/plain": [
              "<IPython.core.display.HTML object>"
            ]
          },
          "metadata": {}
        },
        {
          "output_type": "display_data",
          "data": {
            "application/vnd.jupyter.widget-view+json": {
              "model_id": "04af3481ccce48bf96f9b1f41127ae91",
              "version_minor": 0,
              "version_major": 2
            },
            "text/plain": [
              "VBox(children=(Label(value=' 0.00MB of 0.00MB uploaded (0.00MB deduped)\\r'), FloatProgress(value=1.0, max=1.0)…"
            ]
          },
          "metadata": {}
        },
        {
          "output_type": "display_data",
          "data": {
            "text/html": [
              "<style>\n",
              "    table.wandb td:nth-child(1) { padding: 0 10px; text-align: right }\n",
              "    .wandb-row { display: flex; flex-direction: row; flex-wrap: wrap; width: 100% }\n",
              "    .wandb-col { display: flex; flex-direction: column; flex-basis: 100%; flex: 1; padding: 10px; }\n",
              "    </style>\n",
              "<div class=\"wandb-row\"><div class=\"wandb-col\">\n",
              "<h3>Run history:</h3><br/><table class=\"wandb\"><tr><td>steps</td><td>▁▁▁▁▁▁▁▁▁▁</td></tr><tr><td>train_accuracy</td><td>▁█████████</td></tr><tr><td>train_loss</td><td>█▂▁▁▁▁▁▁▁▁</td></tr><tr><td>val_accuracy</td><td>▁█████████</td></tr><tr><td>val_loss</td><td>█▂▁▁▁▁▁▁▁▁</td></tr></table><br/></div><div class=\"wandb-col\">\n",
              "<h3>Run summary:</h3><br/><table class=\"wandb\"><tr><td>steps</td><td>10</td></tr><tr><td>train_accuracy</td><td>10.006</td></tr><tr><td>train_loss</td><td>0.4504</td></tr><tr><td>val_accuracy</td><td>9.95</td></tr><tr><td>val_loss</td><td>0.45047</td></tr></table>\n",
              "</div></div>\n",
              "Synced 5 W&B file(s), 0 media file(s), 0 artifact file(s) and 0 other file(s)\n",
              "<br/>Synced <strong style=\"color:#cdcd00\">helpful-sweep-42</strong>: <a href=\"https://wandb.ai/moni6264/test_mse_50/runs/asujru8v\" target=\"_blank\">https://wandb.ai/moni6264/test_mse_50/runs/asujru8v</a><br/>\n",
              "Find logs at: <code>./wandb/run-20220225_071632-asujru8v/logs</code><br/>\n"
            ],
            "text/plain": [
              "<IPython.core.display.HTML object>"
            ]
          },
          "metadata": {}
        },
        {
          "output_type": "stream",
          "name": "stderr",
          "text": [
            "\u001b[34m\u001b[1mwandb\u001b[0m: Agent Starting Run: 47oz9ptz with config:\n",
            "\u001b[34m\u001b[1mwandb\u001b[0m: \tactivation: tanh\n",
            "\u001b[34m\u001b[1mwandb\u001b[0m: \tbatch_size: 128\n",
            "\u001b[34m\u001b[1mwandb\u001b[0m: \tepochs: 15\n",
            "\u001b[34m\u001b[1mwandb\u001b[0m: \thidden_layer: [32, 64, 128, 256]\n",
            "\u001b[34m\u001b[1mwandb\u001b[0m: \tinitilisation: xavier\n",
            "\u001b[34m\u001b[1mwandb\u001b[0m: \tlearning_rate: 0.001\n",
            "\u001b[34m\u001b[1mwandb\u001b[0m: \tloss_function: square_loss\n",
            "\u001b[34m\u001b[1mwandb\u001b[0m: \toptimiser: ngd\n",
            "\u001b[34m\u001b[1mwandb\u001b[0m: \tweight_decay: 0.5\n",
            "\u001b[34m\u001b[1mwandb\u001b[0m: \u001b[33mWARNING\u001b[0m Ignored wandb.init() arg project when running a sweep.\n",
            "\u001b[34m\u001b[1mwandb\u001b[0m: \u001b[33mWARNING\u001b[0m Ignored wandb.init() arg entity when running a sweep.\n"
          ]
        },
        {
          "output_type": "display_data",
          "data": {
            "text/html": [
              "\n",
              "                    Syncing run <strong><a href=\"https://wandb.ai/moni6264/test_mse_50/runs/47oz9ptz\" target=\"_blank\">fresh-sweep-43</a></strong> to <a href=\"https://wandb.ai/moni6264/test_mse_50\" target=\"_blank\">Weights & Biases</a> (<a href=\"https://docs.wandb.com/integrations/jupyter.html\" target=\"_blank\">docs</a>).<br/>\n",
              "Sweep page: <a href=\"https://wandb.ai/moni6264/test_mse_50/sweeps/4hhn4fkp\" target=\"_blank\">https://wandb.ai/moni6264/test_mse_50/sweeps/4hhn4fkp</a><br/>\n",
              "\n",
              "                "
            ],
            "text/plain": [
              "<IPython.core.display.HTML object>"
            ]
          },
          "metadata": {}
        },
        {
          "output_type": "stream",
          "name": "stdout",
          "text": [
            "Epoch 0: training_accuracy = 8.73 %, training_loss= 0.46647  ,Validation accuracy = 9.00 ,Validation loss = 0.46577\n",
            "Epoch 1: training_accuracy = 10.87 %, training_loss= 0.45226  ,Validation accuracy = 11.35 ,Validation loss = 0.45182\n",
            "Epoch 2: training_accuracy = 8.77 %, training_loss= 0.44977  ,Validation accuracy = 9.30 ,Validation loss = 0.44955\n",
            "Epoch 3: training_accuracy = 9.42 %, training_loss= 0.44976  ,Validation accuracy = 9.88 ,Validation loss = 0.44964\n",
            "Epoch 4: training_accuracy = 9.96 %, training_loss= 0.44991  ,Validation accuracy = 10.35 ,Validation loss = 0.44985\n",
            "Epoch 5: training_accuracy = 9.96 %, training_loss= 0.45002  ,Validation accuracy = 10.35 ,Validation loss = 0.44998\n",
            "Epoch 6: training_accuracy = 9.96 %, training_loss= 0.45008  ,Validation accuracy = 10.35 ,Validation loss = 0.45005\n",
            "Epoch 7: training_accuracy = 9.96 %, training_loss= 0.45011  ,Validation accuracy = 10.35 ,Validation loss = 0.45009\n",
            "Epoch 8: training_accuracy = 9.96 %, training_loss= 0.45011  ,Validation accuracy = 10.35 ,Validation loss = 0.45010\n",
            "Epoch 9: training_accuracy = 9.96 %, training_loss= 0.45012  ,Validation accuracy = 10.35 ,Validation loss = 0.45010\n",
            "Epoch 10: training_accuracy = 9.96 %, training_loss= 0.45012  ,Validation accuracy = 10.35 ,Validation loss = 0.45011\n",
            "Epoch 11: training_accuracy = 9.96 %, training_loss= 0.45012  ,Validation accuracy = 10.35 ,Validation loss = 0.45011\n",
            "Epoch 12: training_accuracy = 9.96 %, training_loss= 0.45012  ,Validation accuracy = 10.35 ,Validation loss = 0.45010\n",
            "Epoch 13: training_accuracy = 9.96 %, training_loss= 0.45011  ,Validation accuracy = 10.35 ,Validation loss = 0.45010\n",
            "Epoch 14: training_accuracy = 9.96 %, training_loss= 0.45011  ,Validation accuracy = 10.35 ,Validation loss = 0.45010\n"
          ]
        },
        {
          "output_type": "display_data",
          "data": {
            "text/html": [
              "<br/>Waiting for W&B process to finish, PID 2279... <strong style=\"color:green\">(success).</strong>"
            ],
            "text/plain": [
              "<IPython.core.display.HTML object>"
            ]
          },
          "metadata": {}
        },
        {
          "output_type": "display_data",
          "data": {
            "application/vnd.jupyter.widget-view+json": {
              "model_id": "60119958536849f7a270dc946d91c916",
              "version_minor": 0,
              "version_major": 2
            },
            "text/plain": [
              "VBox(children=(Label(value=' 0.00MB of 0.00MB uploaded (0.00MB deduped)\\r'), FloatProgress(value=1.0, max=1.0)…"
            ]
          },
          "metadata": {}
        },
        {
          "output_type": "display_data",
          "data": {
            "text/html": [
              "<style>\n",
              "    table.wandb td:nth-child(1) { padding: 0 10px; text-align: right }\n",
              "    .wandb-row { display: flex; flex-direction: row; flex-wrap: wrap; width: 100% }\n",
              "    .wandb-col { display: flex; flex-direction: column; flex-basis: 100%; flex: 1; padding: 10px; }\n",
              "    </style>\n",
              "<div class=\"wandb-row\"><div class=\"wandb-col\">\n",
              "<h3>Run history:</h3><br/><table class=\"wandb\"><tr><td>steps</td><td>▁▁▁▁▁▁▁▁▁▁▁▁▁▁▁</td></tr><tr><td>train_accuracy</td><td>▁█▁▃▅▅▅▅▅▅▅▅▅▅▅</td></tr><tr><td>train_loss</td><td>█▂▁▁▁▁▁▁▁▁▁▁▁▁▁</td></tr><tr><td>val_accuracy</td><td>▁█▂▄▅▅▅▅▅▅▅▅▅▅▅</td></tr><tr><td>val_loss</td><td>█▂▁▁▁▁▁▁▁▁▁▁▁▁▁</td></tr></table><br/></div><div class=\"wandb-col\">\n",
              "<h3>Run summary:</h3><br/><table class=\"wandb\"><tr><td>steps</td><td>15</td></tr><tr><td>train_accuracy</td><td>9.961</td></tr><tr><td>train_loss</td><td>0.45011</td></tr><tr><td>val_accuracy</td><td>10.35</td></tr><tr><td>val_loss</td><td>0.4501</td></tr></table>\n",
              "</div></div>\n",
              "Synced 5 W&B file(s), 0 media file(s), 0 artifact file(s) and 0 other file(s)\n",
              "<br/>Synced <strong style=\"color:#cdcd00\">fresh-sweep-43</strong>: <a href=\"https://wandb.ai/moni6264/test_mse_50/runs/47oz9ptz\" target=\"_blank\">https://wandb.ai/moni6264/test_mse_50/runs/47oz9ptz</a><br/>\n",
              "Find logs at: <code>./wandb/run-20220225_071832-47oz9ptz/logs</code><br/>\n"
            ],
            "text/plain": [
              "<IPython.core.display.HTML object>"
            ]
          },
          "metadata": {}
        },
        {
          "output_type": "stream",
          "name": "stderr",
          "text": [
            "\u001b[34m\u001b[1mwandb\u001b[0m: Agent Starting Run: u2op2mnv with config:\n",
            "\u001b[34m\u001b[1mwandb\u001b[0m: \tactivation: tanh\n",
            "\u001b[34m\u001b[1mwandb\u001b[0m: \tbatch_size: 64\n",
            "\u001b[34m\u001b[1mwandb\u001b[0m: \tepochs: 15\n",
            "\u001b[34m\u001b[1mwandb\u001b[0m: \thidden_layer: [128, 128, 128]\n",
            "\u001b[34m\u001b[1mwandb\u001b[0m: \tinitilisation: xavier\n",
            "\u001b[34m\u001b[1mwandb\u001b[0m: \tlearning_rate: 0.01\n",
            "\u001b[34m\u001b[1mwandb\u001b[0m: \tloss_function: square_loss\n",
            "\u001b[34m\u001b[1mwandb\u001b[0m: \toptimiser: ngd\n",
            "\u001b[34m\u001b[1mwandb\u001b[0m: \tweight_decay: 0\n",
            "\u001b[34m\u001b[1mwandb\u001b[0m: \u001b[33mWARNING\u001b[0m Ignored wandb.init() arg project when running a sweep.\n",
            "\u001b[34m\u001b[1mwandb\u001b[0m: \u001b[33mWARNING\u001b[0m Ignored wandb.init() arg entity when running a sweep.\n"
          ]
        },
        {
          "output_type": "display_data",
          "data": {
            "text/html": [
              "\n",
              "                    Syncing run <strong><a href=\"https://wandb.ai/moni6264/test_mse_50/runs/u2op2mnv\" target=\"_blank\">worthy-sweep-44</a></strong> to <a href=\"https://wandb.ai/moni6264/test_mse_50\" target=\"_blank\">Weights & Biases</a> (<a href=\"https://docs.wandb.com/integrations/jupyter.html\" target=\"_blank\">docs</a>).<br/>\n",
              "Sweep page: <a href=\"https://wandb.ai/moni6264/test_mse_50/sweeps/4hhn4fkp\" target=\"_blank\">https://wandb.ai/moni6264/test_mse_50/sweeps/4hhn4fkp</a><br/>\n",
              "\n",
              "                "
            ],
            "text/plain": [
              "<IPython.core.display.HTML object>"
            ]
          },
          "metadata": {}
        },
        {
          "output_type": "stream",
          "name": "stdout",
          "text": [
            "Epoch 0: training_accuracy = 43.11 %, training_loss= 0.35665  ,Validation accuracy = 42.48 ,Validation loss = 0.35817\n",
            "Epoch 1: training_accuracy = 60.07 %, training_loss= 0.27335  ,Validation accuracy = 58.82 ,Validation loss = 0.27814\n",
            "Epoch 2: training_accuracy = 64.73 %, training_loss= 0.24148  ,Validation accuracy = 63.82 ,Validation loss = 0.24678\n",
            "Epoch 3: training_accuracy = 67.72 %, training_loss= 0.22312  ,Validation accuracy = 66.98 ,Validation loss = 0.22838\n",
            "Epoch 4: training_accuracy = 69.54 %, training_loss= 0.21165  ,Validation accuracy = 68.78 ,Validation loss = 0.21684\n",
            "Epoch 5: training_accuracy = 70.72 %, training_loss= 0.20408  ,Validation accuracy = 69.97 ,Validation loss = 0.20924\n",
            "Epoch 6: training_accuracy = 71.58 %, training_loss= 0.19860  ,Validation accuracy = 70.85 ,Validation loss = 0.20372\n",
            "Epoch 7: training_accuracy = 72.19 %, training_loss= 0.19438  ,Validation accuracy = 71.43 ,Validation loss = 0.19944\n",
            "Epoch 8: training_accuracy = 72.76 %, training_loss= 0.19097  ,Validation accuracy = 71.97 ,Validation loss = 0.19597\n",
            "Epoch 9: training_accuracy = 73.21 %, training_loss= 0.18814  ,Validation accuracy = 72.52 ,Validation loss = 0.19307\n",
            "Epoch 10: training_accuracy = 73.55 %, training_loss= 0.18573  ,Validation accuracy = 72.92 ,Validation loss = 0.19061\n",
            "Epoch 11: training_accuracy = 73.87 %, training_loss= 0.18364  ,Validation accuracy = 73.25 ,Validation loss = 0.18846\n",
            "Epoch 12: training_accuracy = 74.19 %, training_loss= 0.18181  ,Validation accuracy = 73.37 ,Validation loss = 0.18658\n",
            "Epoch 13: training_accuracy = 74.45 %, training_loss= 0.18018  ,Validation accuracy = 73.58 ,Validation loss = 0.18491\n",
            "Epoch 14: training_accuracy = 74.65 %, training_loss= 0.17873  ,Validation accuracy = 73.77 ,Validation loss = 0.18341\n"
          ]
        },
        {
          "output_type": "display_data",
          "data": {
            "text/html": [
              "<br/>Waiting for W&B process to finish, PID 2318... <strong style=\"color:green\">(success).</strong>"
            ],
            "text/plain": [
              "<IPython.core.display.HTML object>"
            ]
          },
          "metadata": {}
        },
        {
          "output_type": "display_data",
          "data": {
            "application/vnd.jupyter.widget-view+json": {
              "model_id": "43275a0dd4de431f8aeeffb4dbdb3d3d",
              "version_minor": 0,
              "version_major": 2
            },
            "text/plain": [
              "VBox(children=(Label(value=' 0.00MB of 0.00MB uploaded (0.00MB deduped)\\r'), FloatProgress(value=1.0, max=1.0)…"
            ]
          },
          "metadata": {}
        },
        {
          "output_type": "display_data",
          "data": {
            "text/html": [
              "<style>\n",
              "    table.wandb td:nth-child(1) { padding: 0 10px; text-align: right }\n",
              "    .wandb-row { display: flex; flex-direction: row; flex-wrap: wrap; width: 100% }\n",
              "    .wandb-col { display: flex; flex-direction: column; flex-basis: 100%; flex: 1; padding: 10px; }\n",
              "    </style>\n",
              "<div class=\"wandb-row\"><div class=\"wandb-col\">\n",
              "<h3>Run history:</h3><br/><table class=\"wandb\"><tr><td>steps</td><td>▁▁▁▁▁▁▁▁▁▁▁▁▁▁▁</td></tr><tr><td>train_accuracy</td><td>▁▅▆▆▇▇▇▇███████</td></tr><tr><td>train_loss</td><td>█▅▃▃▂▂▂▂▁▁▁▁▁▁▁</td></tr><tr><td>val_accuracy</td><td>▁▅▆▆▇▇▇▇███████</td></tr><tr><td>val_loss</td><td>█▅▄▃▂▂▂▂▂▁▁▁▁▁▁</td></tr></table><br/></div><div class=\"wandb-col\">\n",
              "<h3>Run summary:</h3><br/><table class=\"wandb\"><tr><td>steps</td><td>15</td></tr><tr><td>train_accuracy</td><td>74.648</td></tr><tr><td>train_loss</td><td>0.17873</td></tr><tr><td>val_accuracy</td><td>73.767</td></tr><tr><td>val_loss</td><td>0.18341</td></tr></table>\n",
              "</div></div>\n",
              "Synced 5 W&B file(s), 0 media file(s), 0 artifact file(s) and 0 other file(s)\n",
              "<br/>Synced <strong style=\"color:#cdcd00\">worthy-sweep-44</strong>: <a href=\"https://wandb.ai/moni6264/test_mse_50/runs/u2op2mnv\" target=\"_blank\">https://wandb.ai/moni6264/test_mse_50/runs/u2op2mnv</a><br/>\n",
              "Find logs at: <code>./wandb/run-20220225_072206-u2op2mnv/logs</code><br/>\n"
            ],
            "text/plain": [
              "<IPython.core.display.HTML object>"
            ]
          },
          "metadata": {}
        },
        {
          "output_type": "stream",
          "name": "stderr",
          "text": [
            "\u001b[34m\u001b[1mwandb\u001b[0m: Agent Starting Run: q5nb5uvj with config:\n",
            "\u001b[34m\u001b[1mwandb\u001b[0m: \tactivation: sigmoid\n",
            "\u001b[34m\u001b[1mwandb\u001b[0m: \tbatch_size: 256\n",
            "\u001b[34m\u001b[1mwandb\u001b[0m: \tepochs: 20\n",
            "\u001b[34m\u001b[1mwandb\u001b[0m: \thidden_layer: [32, 64]\n",
            "\u001b[34m\u001b[1mwandb\u001b[0m: \tinitilisation: xavier\n",
            "\u001b[34m\u001b[1mwandb\u001b[0m: \tlearning_rate: 0.001\n",
            "\u001b[34m\u001b[1mwandb\u001b[0m: \tloss_function: square_loss\n",
            "\u001b[34m\u001b[1mwandb\u001b[0m: \toptimiser: mgd\n",
            "\u001b[34m\u001b[1mwandb\u001b[0m: \tweight_decay: 0.0005\n",
            "\u001b[34m\u001b[1mwandb\u001b[0m: \u001b[33mWARNING\u001b[0m Ignored wandb.init() arg project when running a sweep.\n",
            "\u001b[34m\u001b[1mwandb\u001b[0m: \u001b[33mWARNING\u001b[0m Ignored wandb.init() arg entity when running a sweep.\n"
          ]
        },
        {
          "output_type": "display_data",
          "data": {
            "text/html": [
              "\n",
              "                    Syncing run <strong><a href=\"https://wandb.ai/moni6264/test_mse_50/runs/q5nb5uvj\" target=\"_blank\">worldly-sweep-45</a></strong> to <a href=\"https://wandb.ai/moni6264/test_mse_50\" target=\"_blank\">Weights & Biases</a> (<a href=\"https://docs.wandb.com/integrations/jupyter.html\" target=\"_blank\">docs</a>).<br/>\n",
              "Sweep page: <a href=\"https://wandb.ai/moni6264/test_mse_50/sweeps/4hhn4fkp\" target=\"_blank\">https://wandb.ai/moni6264/test_mse_50/sweeps/4hhn4fkp</a><br/>\n",
              "\n",
              "                "
            ],
            "text/plain": [
              "<IPython.core.display.HTML object>"
            ]
          },
          "metadata": {}
        },
        {
          "output_type": "stream",
          "name": "stdout",
          "text": [
            "Epoch 0: training_accuracy = 4.46 %, training_loss= 0.50106  ,Validation accuracy = 4.50 ,Validation loss = 0.50043\n",
            "Epoch 1: training_accuracy = 9.32 %, training_loss= 0.49045  ,Validation accuracy = 9.55 ,Validation loss = 0.48990\n",
            "Epoch 2: training_accuracy = 10.68 %, training_loss= 0.48417  ,Validation accuracy = 11.08 ,Validation loss = 0.48364\n",
            "Epoch 3: training_accuracy = 11.20 %, training_loss= 0.47918  ,Validation accuracy = 11.73 ,Validation loss = 0.47870\n",
            "Epoch 4: training_accuracy = 10.79 %, training_loss= 0.47550  ,Validation accuracy = 11.53 ,Validation loss = 0.47504\n",
            "Epoch 5: training_accuracy = 9.70 %, training_loss= 0.47250  ,Validation accuracy = 10.57 ,Validation loss = 0.47208\n",
            "Epoch 6: training_accuracy = 9.13 %, training_loss= 0.46998  ,Validation accuracy = 9.80 ,Validation loss = 0.46962\n",
            "Epoch 7: training_accuracy = 8.90 %, training_loss= 0.46788  ,Validation accuracy = 9.48 ,Validation loss = 0.46760\n",
            "Epoch 8: training_accuracy = 8.69 %, training_loss= 0.46611  ,Validation accuracy = 9.25 ,Validation loss = 0.46594\n",
            "Epoch 9: training_accuracy = 8.58 %, training_loss= 0.46464  ,Validation accuracy = 9.12 ,Validation loss = 0.46457\n",
            "Epoch 10: training_accuracy = 8.55 %, training_loss= 0.46344  ,Validation accuracy = 8.95 ,Validation loss = 0.46347\n",
            "Epoch 11: training_accuracy = 8.43 %, training_loss= 0.46246  ,Validation accuracy = 8.85 ,Validation loss = 0.46255\n",
            "Epoch 12: training_accuracy = 8.16 %, training_loss= 0.46164  ,Validation accuracy = 8.52 ,Validation loss = 0.46177\n",
            "Epoch 13: training_accuracy = 7.87 %, training_loss= 0.46096  ,Validation accuracy = 8.27 ,Validation loss = 0.46111\n",
            "Epoch 14: training_accuracy = 7.66 %, training_loss= 0.46041  ,Validation accuracy = 8.17 ,Validation loss = 0.46058\n",
            "Epoch 15: training_accuracy = 7.58 %, training_loss= 0.46000  ,Validation accuracy = 8.07 ,Validation loss = 0.46017\n",
            "Epoch 16: training_accuracy = 7.57 %, training_loss= 0.45969  ,Validation accuracy = 7.98 ,Validation loss = 0.45985\n",
            "Epoch 17: training_accuracy = 7.54 %, training_loss= 0.45945  ,Validation accuracy = 7.98 ,Validation loss = 0.45961\n",
            "Epoch 18: training_accuracy = 7.51 %, training_loss= 0.45924  ,Validation accuracy = 7.95 ,Validation loss = 0.45940\n",
            "Epoch 19: training_accuracy = 7.52 %, training_loss= 0.45905  ,Validation accuracy = 7.85 ,Validation loss = 0.45921\n"
          ]
        },
        {
          "output_type": "display_data",
          "data": {
            "text/html": [
              "<br/>Waiting for W&B process to finish, PID 2357... <strong style=\"color:green\">(success).</strong>"
            ],
            "text/plain": [
              "<IPython.core.display.HTML object>"
            ]
          },
          "metadata": {}
        },
        {
          "output_type": "display_data",
          "data": {
            "application/vnd.jupyter.widget-view+json": {
              "model_id": "f2720a7161284bc4a20a1721d925ca32",
              "version_minor": 0,
              "version_major": 2
            },
            "text/plain": [
              "VBox(children=(Label(value=' 0.00MB of 0.00MB uploaded (0.00MB deduped)\\r'), FloatProgress(value=1.0, max=1.0)…"
            ]
          },
          "metadata": {}
        },
        {
          "output_type": "display_data",
          "data": {
            "text/html": [
              "<style>\n",
              "    table.wandb td:nth-child(1) { padding: 0 10px; text-align: right }\n",
              "    .wandb-row { display: flex; flex-direction: row; flex-wrap: wrap; width: 100% }\n",
              "    .wandb-col { display: flex; flex-direction: column; flex-basis: 100%; flex: 1; padding: 10px; }\n",
              "    </style>\n",
              "<div class=\"wandb-row\"><div class=\"wandb-col\">\n",
              "<h3>Run history:</h3><br/><table class=\"wandb\"><tr><td>steps</td><td>▁▁▁▁▁▁▁▁▁▁▁▁▁▁▁▁▁▁▁▁</td></tr><tr><td>train_accuracy</td><td>▁▆▇██▆▆▆▅▅▅▅▅▅▄▄▄▄▄▄</td></tr><tr><td>train_loss</td><td>█▆▅▄▄▃▃▂▂▂▂▂▁▁▁▁▁▁▁▁</td></tr><tr><td>val_accuracy</td><td>▁▆▇██▇▆▆▆▅▅▅▅▅▅▄▄▄▄▄</td></tr><tr><td>val_loss</td><td>█▆▅▄▄▃▃▂▂▂▂▂▁▁▁▁▁▁▁▁</td></tr></table><br/></div><div class=\"wandb-col\">\n",
              "<h3>Run summary:</h3><br/><table class=\"wandb\"><tr><td>steps</td><td>20</td></tr><tr><td>train_accuracy</td><td>7.522</td></tr><tr><td>train_loss</td><td>0.45905</td></tr><tr><td>val_accuracy</td><td>7.85</td></tr><tr><td>val_loss</td><td>0.45921</td></tr></table>\n",
              "</div></div>\n",
              "Synced 5 W&B file(s), 0 media file(s), 0 artifact file(s) and 0 other file(s)\n",
              "<br/>Synced <strong style=\"color:#cdcd00\">worldly-sweep-45</strong>: <a href=\"https://wandb.ai/moni6264/test_mse_50/runs/q5nb5uvj\" target=\"_blank\">https://wandb.ai/moni6264/test_mse_50/runs/q5nb5uvj</a><br/>\n",
              "Find logs at: <code>./wandb/run-20220225_072633-q5nb5uvj/logs</code><br/>\n"
            ],
            "text/plain": [
              "<IPython.core.display.HTML object>"
            ]
          },
          "metadata": {}
        },
        {
          "output_type": "stream",
          "name": "stderr",
          "text": [
            "\u001b[34m\u001b[1mwandb\u001b[0m: Agent Starting Run: 54snagck with config:\n",
            "\u001b[34m\u001b[1mwandb\u001b[0m: \tactivation: relu\n",
            "\u001b[34m\u001b[1mwandb\u001b[0m: \tbatch_size: 64\n",
            "\u001b[34m\u001b[1mwandb\u001b[0m: \tepochs: 15\n",
            "\u001b[34m\u001b[1mwandb\u001b[0m: \thidden_layer: [32, 64, 128]\n",
            "\u001b[34m\u001b[1mwandb\u001b[0m: \tinitilisation: xavier\n",
            "\u001b[34m\u001b[1mwandb\u001b[0m: \tlearning_rate: 0.01\n",
            "\u001b[34m\u001b[1mwandb\u001b[0m: \tloss_function: square_loss\n",
            "\u001b[34m\u001b[1mwandb\u001b[0m: \toptimiser: adam\n",
            "\u001b[34m\u001b[1mwandb\u001b[0m: \tweight_decay: 0.5\n",
            "\u001b[34m\u001b[1mwandb\u001b[0m: \u001b[33mWARNING\u001b[0m Ignored wandb.init() arg project when running a sweep.\n",
            "\u001b[34m\u001b[1mwandb\u001b[0m: \u001b[33mWARNING\u001b[0m Ignored wandb.init() arg entity when running a sweep.\n"
          ]
        },
        {
          "output_type": "display_data",
          "data": {
            "text/html": [
              "\n",
              "                    Syncing run <strong><a href=\"https://wandb.ai/moni6264/test_mse_50/runs/54snagck\" target=\"_blank\">dauntless-sweep-46</a></strong> to <a href=\"https://wandb.ai/moni6264/test_mse_50\" target=\"_blank\">Weights & Biases</a> (<a href=\"https://docs.wandb.com/integrations/jupyter.html\" target=\"_blank\">docs</a>).<br/>\n",
              "Sweep page: <a href=\"https://wandb.ai/moni6264/test_mse_50/sweeps/4hhn4fkp\" target=\"_blank\">https://wandb.ai/moni6264/test_mse_50/sweeps/4hhn4fkp</a><br/>\n",
              "\n",
              "                "
            ],
            "text/plain": [
              "<IPython.core.display.HTML object>"
            ]
          },
          "metadata": {}
        },
        {
          "output_type": "stream",
          "name": "stderr",
          "text": [
            "/usr/local/lib/python3.7/dist-packages/ipykernel_launcher.py:26: RuntimeWarning: invalid value encountered in true_divide\n"
          ]
        },
        {
          "output_type": "stream",
          "name": "stdout",
          "text": [
            "Epoch 0: training_accuracy = 10.01 %, training_loss= nan  ,Validation accuracy = 9.95 ,Validation loss = nan\n",
            "Epoch 1: training_accuracy = 10.01 %, training_loss= nan  ,Validation accuracy = 9.95 ,Validation loss = nan\n",
            "Epoch 2: training_accuracy = 10.01 %, training_loss= nan  ,Validation accuracy = 9.95 ,Validation loss = nan\n",
            "Epoch 3: training_accuracy = 10.01 %, training_loss= nan  ,Validation accuracy = 9.95 ,Validation loss = nan\n",
            "Epoch 4: training_accuracy = 10.01 %, training_loss= nan  ,Validation accuracy = 9.95 ,Validation loss = nan\n",
            "Epoch 5: training_accuracy = 10.01 %, training_loss= nan  ,Validation accuracy = 9.95 ,Validation loss = nan\n",
            "Epoch 6: training_accuracy = 10.01 %, training_loss= nan  ,Validation accuracy = 9.95 ,Validation loss = nan\n",
            "Epoch 7: training_accuracy = 10.01 %, training_loss= nan  ,Validation accuracy = 9.95 ,Validation loss = nan\n",
            "Epoch 8: training_accuracy = 10.01 %, training_loss= nan  ,Validation accuracy = 9.95 ,Validation loss = nan\n",
            "Epoch 9: training_accuracy = 10.01 %, training_loss= nan  ,Validation accuracy = 9.95 ,Validation loss = nan\n",
            "Epoch 10: training_accuracy = 10.01 %, training_loss= nan  ,Validation accuracy = 9.95 ,Validation loss = nan\n",
            "Epoch 11: training_accuracy = 10.01 %, training_loss= nan  ,Validation accuracy = 9.95 ,Validation loss = nan\n",
            "Epoch 12: training_accuracy = 10.01 %, training_loss= nan  ,Validation accuracy = 9.95 ,Validation loss = nan\n",
            "Epoch 13: training_accuracy = 10.01 %, training_loss= nan  ,Validation accuracy = 9.95 ,Validation loss = nan\n",
            "Epoch 14: training_accuracy = 10.01 %, training_loss= nan  ,Validation accuracy = 9.95 ,Validation loss = nan\n"
          ]
        },
        {
          "output_type": "display_data",
          "data": {
            "text/html": [
              "<br/>Waiting for W&B process to finish, PID 2396... <strong style=\"color:green\">(success).</strong>"
            ],
            "text/plain": [
              "<IPython.core.display.HTML object>"
            ]
          },
          "metadata": {}
        },
        {
          "output_type": "display_data",
          "data": {
            "application/vnd.jupyter.widget-view+json": {
              "model_id": "f7a8f8e12ae244569f8b5ae0ccae8288",
              "version_minor": 0,
              "version_major": 2
            },
            "text/plain": [
              "VBox(children=(Label(value=' 0.00MB of 0.00MB uploaded (0.00MB deduped)\\r'), FloatProgress(value=1.0, max=1.0)…"
            ]
          },
          "metadata": {}
        },
        {
          "output_type": "display_data",
          "data": {
            "text/html": [
              "<style>\n",
              "    table.wandb td:nth-child(1) { padding: 0 10px; text-align: right }\n",
              "    .wandb-row { display: flex; flex-direction: row; flex-wrap: wrap; width: 100% }\n",
              "    .wandb-col { display: flex; flex-direction: column; flex-basis: 100%; flex: 1; padding: 10px; }\n",
              "    </style>\n",
              "<div class=\"wandb-row\"><div class=\"wandb-col\">\n",
              "<h3>Run history:</h3><br/><table class=\"wandb\"><tr><td>steps</td><td>▁▁▁▁▁▁▁▁▁▁▁▁▁▁▁</td></tr><tr><td>train_accuracy</td><td>▁▁▁▁▁▁▁▁▁▁▁▁▁▁▁</td></tr><tr><td>train_loss</td><td></td></tr><tr><td>val_accuracy</td><td>▁▁▁▁▁▁▁▁▁▁▁▁▁▁▁</td></tr><tr><td>val_loss</td><td></td></tr></table><br/></div><div class=\"wandb-col\">\n",
              "<h3>Run summary:</h3><br/><table class=\"wandb\"><tr><td>steps</td><td>15</td></tr><tr><td>train_accuracy</td><td>10.006</td></tr><tr><td>train_loss</td><td>nan</td></tr><tr><td>val_accuracy</td><td>9.95</td></tr><tr><td>val_loss</td><td>nan</td></tr></table>\n",
              "</div></div>\n",
              "Synced 5 W&B file(s), 0 media file(s), 0 artifact file(s) and 0 other file(s)\n",
              "<br/>Synced <strong style=\"color:#cdcd00\">dauntless-sweep-46</strong>: <a href=\"https://wandb.ai/moni6264/test_mse_50/runs/54snagck\" target=\"_blank\">https://wandb.ai/moni6264/test_mse_50/runs/54snagck</a><br/>\n",
              "Find logs at: <code>./wandb/run-20220225_072807-54snagck/logs</code><br/>\n"
            ],
            "text/plain": [
              "<IPython.core.display.HTML object>"
            ]
          },
          "metadata": {}
        },
        {
          "output_type": "stream",
          "name": "stderr",
          "text": [
            "\u001b[34m\u001b[1mwandb\u001b[0m: Agent Starting Run: cd41qr1p with config:\n",
            "\u001b[34m\u001b[1mwandb\u001b[0m: \tactivation: tanh\n",
            "\u001b[34m\u001b[1mwandb\u001b[0m: \tbatch_size: 128\n",
            "\u001b[34m\u001b[1mwandb\u001b[0m: \tepochs: 15\n",
            "\u001b[34m\u001b[1mwandb\u001b[0m: \thidden_layer: [32, 64, 128, 256]\n",
            "\u001b[34m\u001b[1mwandb\u001b[0m: \tinitilisation: xavier\n",
            "\u001b[34m\u001b[1mwandb\u001b[0m: \tlearning_rate: 0.001\n",
            "\u001b[34m\u001b[1mwandb\u001b[0m: \tloss_function: square_loss\n",
            "\u001b[34m\u001b[1mwandb\u001b[0m: \toptimiser: adam\n",
            "\u001b[34m\u001b[1mwandb\u001b[0m: \tweight_decay: 0.5\n",
            "\u001b[34m\u001b[1mwandb\u001b[0m: \u001b[33mWARNING\u001b[0m Ignored wandb.init() arg project when running a sweep.\n",
            "\u001b[34m\u001b[1mwandb\u001b[0m: \u001b[33mWARNING\u001b[0m Ignored wandb.init() arg entity when running a sweep.\n"
          ]
        },
        {
          "output_type": "display_data",
          "data": {
            "text/html": [
              "\n",
              "                    Syncing run <strong><a href=\"https://wandb.ai/moni6264/test_mse_50/runs/cd41qr1p\" target=\"_blank\">happy-sweep-47</a></strong> to <a href=\"https://wandb.ai/moni6264/test_mse_50\" target=\"_blank\">Weights & Biases</a> (<a href=\"https://docs.wandb.com/integrations/jupyter.html\" target=\"_blank\">docs</a>).<br/>\n",
              "Sweep page: <a href=\"https://wandb.ai/moni6264/test_mse_50/sweeps/4hhn4fkp\" target=\"_blank\">https://wandb.ai/moni6264/test_mse_50/sweeps/4hhn4fkp</a><br/>\n",
              "\n",
              "                "
            ],
            "text/plain": [
              "<IPython.core.display.HTML object>"
            ]
          },
          "metadata": {}
        },
        {
          "output_type": "stream",
          "name": "stdout",
          "text": [
            "Epoch 0: training_accuracy = 53.61 %, training_loss= 0.34232  ,Validation accuracy = 54.30 ,Validation loss = 0.34239\n",
            "Epoch 1: training_accuracy = 45.13 %, training_loss= 0.39364  ,Validation accuracy = 44.80 ,Validation loss = 0.39438\n",
            "Epoch 2: training_accuracy = 36.06 %, training_loss= 0.42629  ,Validation accuracy = 35.48 ,Validation loss = 0.42668\n",
            "Epoch 3: training_accuracy = 32.82 %, training_loss= 0.44042  ,Validation accuracy = 32.80 ,Validation loss = 0.44053\n",
            "Epoch 4: training_accuracy = 25.70 %, training_loss= 0.44627  ,Validation accuracy = 25.78 ,Validation loss = 0.44626\n",
            "Epoch 5: training_accuracy = 20.92 %, training_loss= 0.44863  ,Validation accuracy = 21.00 ,Validation loss = 0.44857\n",
            "Epoch 6: training_accuracy = 18.40 %, training_loss= 0.44954  ,Validation accuracy = 18.75 ,Validation loss = 0.44946\n",
            "Epoch 7: training_accuracy = 19.30 %, training_loss= 0.44988  ,Validation accuracy = 19.72 ,Validation loss = 0.44979\n",
            "Epoch 8: training_accuracy = 17.34 %, training_loss= 0.45000  ,Validation accuracy = 18.05 ,Validation loss = 0.44991\n",
            "Epoch 9: training_accuracy = 9.96 %, training_loss= 0.45004  ,Validation accuracy = 10.35 ,Validation loss = 0.44995\n",
            "Epoch 10: training_accuracy = 9.96 %, training_loss= 0.45006  ,Validation accuracy = 10.35 ,Validation loss = 0.44997\n",
            "Epoch 11: training_accuracy = 9.96 %, training_loss= 0.45006  ,Validation accuracy = 10.35 ,Validation loss = 0.44997\n",
            "Epoch 12: training_accuracy = 9.96 %, training_loss= 0.45006  ,Validation accuracy = 10.35 ,Validation loss = 0.44997\n",
            "Epoch 13: training_accuracy = 9.96 %, training_loss= 0.45007  ,Validation accuracy = 10.35 ,Validation loss = 0.44997\n",
            "Epoch 14: training_accuracy = 9.96 %, training_loss= 0.45007  ,Validation accuracy = 10.35 ,Validation loss = 0.44997\n"
          ]
        },
        {
          "output_type": "display_data",
          "data": {
            "text/html": [
              "<br/>Waiting for W&B process to finish, PID 2437... <strong style=\"color:green\">(success).</strong>"
            ],
            "text/plain": [
              "<IPython.core.display.HTML object>"
            ]
          },
          "metadata": {}
        },
        {
          "output_type": "display_data",
          "data": {
            "application/vnd.jupyter.widget-view+json": {
              "model_id": "083561ec11004e958e725fd84d627183",
              "version_minor": 0,
              "version_major": 2
            },
            "text/plain": [
              "VBox(children=(Label(value=' 0.00MB of 0.00MB uploaded (0.00MB deduped)\\r'), FloatProgress(value=1.0, max=1.0)…"
            ]
          },
          "metadata": {}
        },
        {
          "output_type": "display_data",
          "data": {
            "text/html": [
              "<style>\n",
              "    table.wandb td:nth-child(1) { padding: 0 10px; text-align: right }\n",
              "    .wandb-row { display: flex; flex-direction: row; flex-wrap: wrap; width: 100% }\n",
              "    .wandb-col { display: flex; flex-direction: column; flex-basis: 100%; flex: 1; padding: 10px; }\n",
              "    </style>\n",
              "<div class=\"wandb-row\"><div class=\"wandb-col\">\n",
              "<h3>Run history:</h3><br/><table class=\"wandb\"><tr><td>steps</td><td>▁▁▁▁▁▁▁▁▁▁▁▁▁▁▁</td></tr><tr><td>train_accuracy</td><td>█▇▅▅▄▃▂▂▂▁▁▁▁▁▁</td></tr><tr><td>train_loss</td><td>▁▄▆▇███████████</td></tr><tr><td>val_accuracy</td><td>█▆▅▅▃▃▂▂▂▁▁▁▁▁▁</td></tr><tr><td>val_loss</td><td>▁▄▆▇███████████</td></tr></table><br/></div><div class=\"wandb-col\">\n",
              "<h3>Run summary:</h3><br/><table class=\"wandb\"><tr><td>steps</td><td>15</td></tr><tr><td>train_accuracy</td><td>9.961</td></tr><tr><td>train_loss</td><td>0.45007</td></tr><tr><td>val_accuracy</td><td>10.35</td></tr><tr><td>val_loss</td><td>0.44997</td></tr></table>\n",
              "</div></div>\n",
              "Synced 5 W&B file(s), 0 media file(s), 0 artifact file(s) and 0 other file(s)\n",
              "<br/>Synced <strong style=\"color:#cdcd00\">happy-sweep-47</strong>: <a href=\"https://wandb.ai/moni6264/test_mse_50/runs/cd41qr1p\" target=\"_blank\">https://wandb.ai/moni6264/test_mse_50/runs/cd41qr1p</a><br/>\n",
              "Find logs at: <code>./wandb/run-20220225_072947-cd41qr1p/logs</code><br/>\n"
            ],
            "text/plain": [
              "<IPython.core.display.HTML object>"
            ]
          },
          "metadata": {}
        },
        {
          "output_type": "stream",
          "name": "stderr",
          "text": [
            "\u001b[34m\u001b[1mwandb\u001b[0m: Agent Starting Run: op680yim with config:\n",
            "\u001b[34m\u001b[1mwandb\u001b[0m: \tactivation: tanh\n",
            "\u001b[34m\u001b[1mwandb\u001b[0m: \tbatch_size: 256\n",
            "\u001b[34m\u001b[1mwandb\u001b[0m: \tepochs: 10\n",
            "\u001b[34m\u001b[1mwandb\u001b[0m: \thidden_layer: [128, 128, 128]\n",
            "\u001b[34m\u001b[1mwandb\u001b[0m: \tinitilisation: xavier\n",
            "\u001b[34m\u001b[1mwandb\u001b[0m: \tlearning_rate: 0.01\n",
            "\u001b[34m\u001b[1mwandb\u001b[0m: \tloss_function: square_loss\n",
            "\u001b[34m\u001b[1mwandb\u001b[0m: \toptimiser: mgd\n",
            "\u001b[34m\u001b[1mwandb\u001b[0m: \tweight_decay: 0\n",
            "\u001b[34m\u001b[1mwandb\u001b[0m: \u001b[33mWARNING\u001b[0m Ignored wandb.init() arg project when running a sweep.\n",
            "\u001b[34m\u001b[1mwandb\u001b[0m: \u001b[33mWARNING\u001b[0m Ignored wandb.init() arg entity when running a sweep.\n"
          ]
        },
        {
          "output_type": "display_data",
          "data": {
            "text/html": [
              "\n",
              "                    Syncing run <strong><a href=\"https://wandb.ai/moni6264/test_mse_50/runs/op680yim\" target=\"_blank\">bright-sweep-48</a></strong> to <a href=\"https://wandb.ai/moni6264/test_mse_50\" target=\"_blank\">Weights & Biases</a> (<a href=\"https://docs.wandb.com/integrations/jupyter.html\" target=\"_blank\">docs</a>).<br/>\n",
              "Sweep page: <a href=\"https://wandb.ai/moni6264/test_mse_50/sweeps/4hhn4fkp\" target=\"_blank\">https://wandb.ai/moni6264/test_mse_50/sweeps/4hhn4fkp</a><br/>\n",
              "\n",
              "                "
            ],
            "text/plain": [
              "<IPython.core.display.HTML object>"
            ]
          },
          "metadata": {}
        },
        {
          "output_type": "stream",
          "name": "stdout",
          "text": [
            "Epoch 0: training_accuracy = 16.43 %, training_loss= 0.48677  ,Validation accuracy = 16.73 ,Validation loss = 0.48749\n",
            "Epoch 1: training_accuracy = 28.07 %, training_loss= 0.42573  ,Validation accuracy = 27.33 ,Validation loss = 0.42745\n",
            "Epoch 2: training_accuracy = 42.83 %, training_loss= 0.36495  ,Validation accuracy = 42.82 ,Validation loss = 0.36602\n",
            "Epoch 3: training_accuracy = 50.87 %, training_loss= 0.32338  ,Validation accuracy = 50.78 ,Validation loss = 0.32439\n",
            "Epoch 4: training_accuracy = 56.76 %, training_loss= 0.29250  ,Validation accuracy = 57.27 ,Validation loss = 0.29361\n",
            "Epoch 5: training_accuracy = 60.58 %, training_loss= 0.27046  ,Validation accuracy = 61.05 ,Validation loss = 0.27154\n",
            "Epoch 6: training_accuracy = 63.02 %, training_loss= 0.25501  ,Validation accuracy = 63.23 ,Validation loss = 0.25602\n",
            "Epoch 7: training_accuracy = 64.63 %, training_loss= 0.24366  ,Validation accuracy = 65.08 ,Validation loss = 0.24464\n",
            "Epoch 8: training_accuracy = 65.93 %, training_loss= 0.23492  ,Validation accuracy = 66.30 ,Validation loss = 0.23590\n",
            "Epoch 9: training_accuracy = 67.01 %, training_loss= 0.22793  ,Validation accuracy = 67.35 ,Validation loss = 0.22895\n"
          ]
        },
        {
          "output_type": "display_data",
          "data": {
            "text/html": [
              "<br/>Waiting for W&B process to finish, PID 2476... <strong style=\"color:green\">(success).</strong>"
            ],
            "text/plain": [
              "<IPython.core.display.HTML object>"
            ]
          },
          "metadata": {}
        },
        {
          "output_type": "display_data",
          "data": {
            "application/vnd.jupyter.widget-view+json": {
              "model_id": "e25042bf9ccc40c2bab5c42894bd8e77",
              "version_minor": 0,
              "version_major": 2
            },
            "text/plain": [
              "VBox(children=(Label(value=' 0.00MB of 0.00MB uploaded (0.00MB deduped)\\r'), FloatProgress(value=1.0, max=1.0)…"
            ]
          },
          "metadata": {}
        },
        {
          "output_type": "display_data",
          "data": {
            "text/html": [
              "<style>\n",
              "    table.wandb td:nth-child(1) { padding: 0 10px; text-align: right }\n",
              "    .wandb-row { display: flex; flex-direction: row; flex-wrap: wrap; width: 100% }\n",
              "    .wandb-col { display: flex; flex-direction: column; flex-basis: 100%; flex: 1; padding: 10px; }\n",
              "    </style>\n",
              "<div class=\"wandb-row\"><div class=\"wandb-col\">\n",
              "<h3>Run history:</h3><br/><table class=\"wandb\"><tr><td>steps</td><td>▁▁▁▁▁▁▁▁▁▁</td></tr><tr><td>train_accuracy</td><td>▁▃▅▆▇▇▇███</td></tr><tr><td>train_loss</td><td>█▆▅▄▃▂▂▁▁▁</td></tr><tr><td>val_accuracy</td><td>▁▂▅▆▇▇▇███</td></tr><tr><td>val_loss</td><td>█▆▅▄▃▂▂▁▁▁</td></tr></table><br/></div><div class=\"wandb-col\">\n",
              "<h3>Run summary:</h3><br/><table class=\"wandb\"><tr><td>steps</td><td>10</td></tr><tr><td>train_accuracy</td><td>67.013</td></tr><tr><td>train_loss</td><td>0.22793</td></tr><tr><td>val_accuracy</td><td>67.35</td></tr><tr><td>val_loss</td><td>0.22895</td></tr></table>\n",
              "</div></div>\n",
              "Synced 5 W&B file(s), 0 media file(s), 0 artifact file(s) and 0 other file(s)\n",
              "<br/>Synced <strong style=\"color:#cdcd00\">bright-sweep-48</strong>: <a href=\"https://wandb.ai/moni6264/test_mse_50/runs/op680yim\" target=\"_blank\">https://wandb.ai/moni6264/test_mse_50/runs/op680yim</a><br/>\n",
              "Find logs at: <code>./wandb/run-20220225_073224-op680yim/logs</code><br/>\n"
            ],
            "text/plain": [
              "<IPython.core.display.HTML object>"
            ]
          },
          "metadata": {}
        },
        {
          "output_type": "stream",
          "name": "stderr",
          "text": [
            "\u001b[34m\u001b[1mwandb\u001b[0m: Agent Starting Run: z60plj0x with config:\n",
            "\u001b[34m\u001b[1mwandb\u001b[0m: \tactivation: sigmoid\n",
            "\u001b[34m\u001b[1mwandb\u001b[0m: \tbatch_size: 64\n",
            "\u001b[34m\u001b[1mwandb\u001b[0m: \tepochs: 10\n",
            "\u001b[34m\u001b[1mwandb\u001b[0m: \thidden_layer: [32, 64, 128]\n",
            "\u001b[34m\u001b[1mwandb\u001b[0m: \tinitilisation: xavier\n",
            "\u001b[34m\u001b[1mwandb\u001b[0m: \tlearning_rate: 0.01\n",
            "\u001b[34m\u001b[1mwandb\u001b[0m: \tloss_function: square_loss\n",
            "\u001b[34m\u001b[1mwandb\u001b[0m: \toptimiser: nadam\n",
            "\u001b[34m\u001b[1mwandb\u001b[0m: \tweight_decay: 0.5\n",
            "\u001b[34m\u001b[1mwandb\u001b[0m: \u001b[33mWARNING\u001b[0m Ignored wandb.init() arg project when running a sweep.\n",
            "\u001b[34m\u001b[1mwandb\u001b[0m: \u001b[33mWARNING\u001b[0m Ignored wandb.init() arg entity when running a sweep.\n"
          ]
        },
        {
          "output_type": "display_data",
          "data": {
            "text/html": [
              "\n",
              "                    Syncing run <strong><a href=\"https://wandb.ai/moni6264/test_mse_50/runs/z60plj0x\" target=\"_blank\">likely-sweep-49</a></strong> to <a href=\"https://wandb.ai/moni6264/test_mse_50\" target=\"_blank\">Weights & Biases</a> (<a href=\"https://docs.wandb.com/integrations/jupyter.html\" target=\"_blank\">docs</a>).<br/>\n",
              "Sweep page: <a href=\"https://wandb.ai/moni6264/test_mse_50/sweeps/4hhn4fkp\" target=\"_blank\">https://wandb.ai/moni6264/test_mse_50/sweeps/4hhn4fkp</a><br/>\n",
              "\n",
              "                "
            ],
            "text/plain": [
              "<IPython.core.display.HTML object>"
            ]
          },
          "metadata": {}
        },
        {
          "output_type": "stream",
          "name": "stdout",
          "text": [
            "Epoch 0: training_accuracy = 10.02 %, training_loss= 0.89976  ,Validation accuracy = 9.78 ,Validation loss = 0.90217\n",
            "Epoch 1: training_accuracy = 10.01 %, training_loss= 0.89994  ,Validation accuracy = 9.95 ,Validation loss = 0.90050\n",
            "Epoch 2: training_accuracy = 10.01 %, training_loss= 0.89994  ,Validation accuracy = 9.95 ,Validation loss = 0.90050\n",
            "Epoch 3: training_accuracy = 9.98 %, training_loss= 0.90015  ,Validation accuracy = 10.13 ,Validation loss = 0.89867\n",
            "Epoch 4: training_accuracy = 10.09 %, training_loss= 0.89905  ,Validation accuracy = 9.17 ,Validation loss = 0.90831\n",
            "Epoch 5: training_accuracy = 9.98 %, training_loss= 0.55873  ,Validation accuracy = 10.13 ,Validation loss = 0.55888\n",
            "Epoch 6: training_accuracy = 10.01 %, training_loss= 0.47564  ,Validation accuracy = 9.95 ,Validation loss = 0.47535\n",
            "Epoch 7: training_accuracy = 10.09 %, training_loss= 0.46018  ,Validation accuracy = 9.17 ,Validation loss = 0.46076\n",
            "Epoch 8: training_accuracy = 9.96 %, training_loss= 0.59052  ,Validation accuracy = 10.32 ,Validation loss = 0.58958\n",
            "Epoch 9: training_accuracy = 10.09 %, training_loss= 0.45742  ,Validation accuracy = 9.17 ,Validation loss = 0.45800\n"
          ]
        },
        {
          "output_type": "display_data",
          "data": {
            "text/html": [
              "<br/>Waiting for W&B process to finish, PID 2515... <strong style=\"color:green\">(success).</strong>"
            ],
            "text/plain": [
              "<IPython.core.display.HTML object>"
            ]
          },
          "metadata": {}
        },
        {
          "output_type": "display_data",
          "data": {
            "application/vnd.jupyter.widget-view+json": {
              "model_id": "79a85e4ba9114c67a8268100097cc260",
              "version_minor": 0,
              "version_major": 2
            },
            "text/plain": [
              "VBox(children=(Label(value=' 0.00MB of 0.00MB uploaded (0.00MB deduped)\\r'), FloatProgress(value=1.0, max=1.0)…"
            ]
          },
          "metadata": {}
        },
        {
          "output_type": "display_data",
          "data": {
            "text/html": [
              "<style>\n",
              "    table.wandb td:nth-child(1) { padding: 0 10px; text-align: right }\n",
              "    .wandb-row { display: flex; flex-direction: row; flex-wrap: wrap; width: 100% }\n",
              "    .wandb-col { display: flex; flex-direction: column; flex-basis: 100%; flex: 1; padding: 10px; }\n",
              "    </style>\n",
              "<div class=\"wandb-row\"><div class=\"wandb-col\">\n",
              "<h3>Run history:</h3><br/><table class=\"wandb\"><tr><td>steps</td><td>▁▁▁▁▁▁▁▁▁▁</td></tr><tr><td>train_accuracy</td><td>▄▃▃▂█▂▃█▁█</td></tr><tr><td>train_loss</td><td>█████▃▁▁▃▁</td></tr><tr><td>val_accuracy</td><td>▅▆▆▇▁▇▆▁█▁</td></tr><tr><td>val_loss</td><td>█████▃▁▁▃▁</td></tr></table><br/></div><div class=\"wandb-col\">\n",
              "<h3>Run summary:</h3><br/><table class=\"wandb\"><tr><td>steps</td><td>10</td></tr><tr><td>train_accuracy</td><td>10.093</td></tr><tr><td>train_loss</td><td>0.45742</td></tr><tr><td>val_accuracy</td><td>9.167</td></tr><tr><td>val_loss</td><td>0.458</td></tr></table>\n",
              "</div></div>\n",
              "Synced 5 W&B file(s), 0 media file(s), 0 artifact file(s) and 0 other file(s)\n",
              "<br/>Synced <strong style=\"color:#cdcd00\">likely-sweep-49</strong>: <a href=\"https://wandb.ai/moni6264/test_mse_50/runs/z60plj0x\" target=\"_blank\">https://wandb.ai/moni6264/test_mse_50/runs/z60plj0x</a><br/>\n",
              "Find logs at: <code>./wandb/run-20220225_073403-z60plj0x/logs</code><br/>\n"
            ],
            "text/plain": [
              "<IPython.core.display.HTML object>"
            ]
          },
          "metadata": {}
        },
        {
          "output_type": "stream",
          "name": "stderr",
          "text": [
            "\u001b[34m\u001b[1mwandb\u001b[0m: Agent Starting Run: jnnh69vy with config:\n",
            "\u001b[34m\u001b[1mwandb\u001b[0m: \tactivation: tanh\n",
            "\u001b[34m\u001b[1mwandb\u001b[0m: \tbatch_size: 64\n",
            "\u001b[34m\u001b[1mwandb\u001b[0m: \tepochs: 15\n",
            "\u001b[34m\u001b[1mwandb\u001b[0m: \thidden_layer: [32, 64]\n",
            "\u001b[34m\u001b[1mwandb\u001b[0m: \tinitilisation: xavier\n",
            "\u001b[34m\u001b[1mwandb\u001b[0m: \tlearning_rate: 0.01\n",
            "\u001b[34m\u001b[1mwandb\u001b[0m: \tloss_function: square_loss\n",
            "\u001b[34m\u001b[1mwandb\u001b[0m: \toptimiser: nadam\n",
            "\u001b[34m\u001b[1mwandb\u001b[0m: \tweight_decay: 0.0005\n",
            "\u001b[34m\u001b[1mwandb\u001b[0m: \u001b[33mWARNING\u001b[0m Ignored wandb.init() arg project when running a sweep.\n",
            "\u001b[34m\u001b[1mwandb\u001b[0m: \u001b[33mWARNING\u001b[0m Ignored wandb.init() arg entity when running a sweep.\n"
          ]
        },
        {
          "output_type": "display_data",
          "data": {
            "text/html": [
              "\n",
              "                    Syncing run <strong><a href=\"https://wandb.ai/moni6264/test_mse_50/runs/jnnh69vy\" target=\"_blank\">deep-sweep-50</a></strong> to <a href=\"https://wandb.ai/moni6264/test_mse_50\" target=\"_blank\">Weights & Biases</a> (<a href=\"https://docs.wandb.com/integrations/jupyter.html\" target=\"_blank\">docs</a>).<br/>\n",
              "Sweep page: <a href=\"https://wandb.ai/moni6264/test_mse_50/sweeps/4hhn4fkp\" target=\"_blank\">https://wandb.ai/moni6264/test_mse_50/sweeps/4hhn4fkp</a><br/>\n",
              "\n",
              "                "
            ],
            "text/plain": [
              "<IPython.core.display.HTML object>"
            ]
          },
          "metadata": {}
        },
        {
          "output_type": "stream",
          "name": "stdout",
          "text": [
            "Epoch 0: training_accuracy = 10.02 %, training_loss= 0.89976  ,Validation accuracy = 9.78 ,Validation loss = 0.90217\n",
            "Epoch 1: training_accuracy = 10.02 %, training_loss= 0.89976  ,Validation accuracy = 9.78 ,Validation loss = 0.90217\n",
            "Epoch 2: training_accuracy = 10.02 %, training_loss= 0.89976  ,Validation accuracy = 9.78 ,Validation loss = 0.90217\n",
            "Epoch 3: training_accuracy = 10.02 %, training_loss= 0.89976  ,Validation accuracy = 9.78 ,Validation loss = 0.90217\n",
            "Epoch 4: training_accuracy = 10.02 %, training_loss= 0.89976  ,Validation accuracy = 9.78 ,Validation loss = 0.90217\n",
            "Epoch 5: training_accuracy = 10.02 %, training_loss= 0.89976  ,Validation accuracy = 9.78 ,Validation loss = 0.90217\n",
            "Epoch 6: training_accuracy = 10.02 %, training_loss= 0.89976  ,Validation accuracy = 9.78 ,Validation loss = 0.90217\n",
            "Epoch 7: training_accuracy = 10.02 %, training_loss= 0.89976  ,Validation accuracy = 9.78 ,Validation loss = 0.90217\n",
            "Epoch 8: training_accuracy = 10.02 %, training_loss= 0.89976  ,Validation accuracy = 9.78 ,Validation loss = 0.90217\n",
            "Epoch 9: training_accuracy = 10.02 %, training_loss= 0.89976  ,Validation accuracy = 9.78 ,Validation loss = 0.90217\n",
            "Epoch 10: training_accuracy = 10.02 %, training_loss= 0.89976  ,Validation accuracy = 9.78 ,Validation loss = 0.90217\n",
            "Epoch 11: training_accuracy = 10.02 %, training_loss= 0.89976  ,Validation accuracy = 9.78 ,Validation loss = 0.90217\n",
            "Epoch 12: training_accuracy = 10.02 %, training_loss= 0.89976  ,Validation accuracy = 9.78 ,Validation loss = 0.90217\n",
            "Epoch 13: training_accuracy = 10.02 %, training_loss= 0.89976  ,Validation accuracy = 9.78 ,Validation loss = 0.90217\n",
            "Epoch 14: training_accuracy = 10.02 %, training_loss= 0.89976  ,Validation accuracy = 9.78 ,Validation loss = 0.90217\n"
          ]
        },
        {
          "output_type": "display_data",
          "data": {
            "text/html": [
              "<br/>Waiting for W&B process to finish, PID 2554... <strong style=\"color:green\">(success).</strong>"
            ],
            "text/plain": [
              "<IPython.core.display.HTML object>"
            ]
          },
          "metadata": {}
        },
        {
          "output_type": "display_data",
          "data": {
            "application/vnd.jupyter.widget-view+json": {
              "model_id": "731b39c2d8274fb5889e7507c7150b0c",
              "version_minor": 0,
              "version_major": 2
            },
            "text/plain": [
              "VBox(children=(Label(value=' 0.00MB of 0.00MB uploaded (0.00MB deduped)\\r'), FloatProgress(value=1.0, max=1.0)…"
            ]
          },
          "metadata": {}
        },
        {
          "output_type": "display_data",
          "data": {
            "text/html": [
              "<style>\n",
              "    table.wandb td:nth-child(1) { padding: 0 10px; text-align: right }\n",
              "    .wandb-row { display: flex; flex-direction: row; flex-wrap: wrap; width: 100% }\n",
              "    .wandb-col { display: flex; flex-direction: column; flex-basis: 100%; flex: 1; padding: 10px; }\n",
              "    </style>\n",
              "<div class=\"wandb-row\"><div class=\"wandb-col\">\n",
              "<h3>Run history:</h3><br/><table class=\"wandb\"><tr><td>steps</td><td>▁▁▁▁▁▁▁▁▁▁▁▁▁▁▁</td></tr><tr><td>train_accuracy</td><td>▁▁▁▁▁▁▁▁▁▁▁▁▁▁▁</td></tr><tr><td>train_loss</td><td>▁▁▁▁▁▁▁▁▁▁▁▁▁▁▁</td></tr><tr><td>val_accuracy</td><td>▁▁▁▁▁▁▁▁▁▁▁▁▁▁▁</td></tr><tr><td>val_loss</td><td>▁▁▁▁▁▁▁▁▁▁▁▁▁▁▁</td></tr></table><br/></div><div class=\"wandb-col\">\n",
              "<h3>Run summary:</h3><br/><table class=\"wandb\"><tr><td>steps</td><td>15</td></tr><tr><td>train_accuracy</td><td>10.024</td></tr><tr><td>train_loss</td><td>0.89976</td></tr><tr><td>val_accuracy</td><td>9.783</td></tr><tr><td>val_loss</td><td>0.90217</td></tr></table>\n",
              "</div></div>\n",
              "Synced 5 W&B file(s), 0 media file(s), 0 artifact file(s) and 0 other file(s)\n",
              "<br/>Synced <strong style=\"color:#cdcd00\">deep-sweep-50</strong>: <a href=\"https://wandb.ai/moni6264/test_mse_50/runs/jnnh69vy\" target=\"_blank\">https://wandb.ai/moni6264/test_mse_50/runs/jnnh69vy</a><br/>\n",
              "Find logs at: <code>./wandb/run-20220225_073600-jnnh69vy/logs</code><br/>\n"
            ],
            "text/plain": [
              "<IPython.core.display.HTML object>"
            ]
          },
          "metadata": {}
        }
      ],
      "source": [
        "import warnings\n",
        "warnings.filterwarnings(\"ignore\", category=np.VisibleDeprecationWarning)\n",
        "wandb.agent(sweep_id, train, count=50)"
      ]
    },
    {
      "cell_type": "code",
      "execution_count": null,
      "metadata": {
        "id": "1iPsNWiU-bZc"
      },
      "outputs": [],
      "source": [
        ""
      ]
    },
    {
      "cell_type": "code",
      "execution_count": null,
      "metadata": {
        "id": "GrBDg7hPis7M"
      },
      "outputs": [],
      "source": [
        ""
      ]
    },
    {
      "cell_type": "code",
      "execution_count": null,
      "metadata": {
        "id": "DoHRXgIois-D"
      },
      "outputs": [],
      "source": [
        ""
      ]
    }
  ],
  "metadata": {
    "accelerator": "GPU",
    "colab": {
      "collapsed_sections": [],
      "name": "CS6910_Assignment_1_Question_8.ipynb",
      "provenance": [],
      "include_colab_link": true
    },
    "kernelspec": {
      "display_name": "Python 3",
      "name": "python3"
    },
    "language_info": {
      "name": "python"
    },
    "widgets": {
      "application/vnd.jupyter.widget-state+json": {
        "2925170c10134679a51ab5ec4ec7608f": {
          "model_module": "@jupyter-widgets/controls",
          "model_name": "VBoxModel",
          "model_module_version": "1.5.0",
          "state": {
            "_view_name": "VBoxView",
            "_dom_classes": [],
            "_model_name": "VBoxModel",
            "_view_module": "@jupyter-widgets/controls",
            "_model_module_version": "1.5.0",
            "_view_count": null,
            "_view_module_version": "1.5.0",
            "box_style": "",
            "layout": "IPY_MODEL_ccc0137981de4904ab2f8d297194dffb",
            "_model_module": "@jupyter-widgets/controls",
            "children": [
              "IPY_MODEL_620e2a1c0dd54a56b7a3dfbee7bde3c5",
              "IPY_MODEL_aee7857a2027433ebad0c09bbe9a2470"
            ]
          }
        },
        "ccc0137981de4904ab2f8d297194dffb": {
          "model_module": "@jupyter-widgets/base",
          "model_name": "LayoutModel",
          "model_module_version": "1.2.0",
          "state": {
            "_view_name": "LayoutView",
            "grid_template_rows": null,
            "right": null,
            "justify_content": null,
            "_view_module": "@jupyter-widgets/base",
            "overflow": null,
            "_model_module_version": "1.2.0",
            "_view_count": null,
            "flex_flow": null,
            "width": null,
            "min_width": null,
            "border": null,
            "align_items": null,
            "bottom": null,
            "_model_module": "@jupyter-widgets/base",
            "top": null,
            "grid_column": null,
            "overflow_y": null,
            "overflow_x": null,
            "grid_auto_flow": null,
            "grid_area": null,
            "grid_template_columns": null,
            "flex": null,
            "_model_name": "LayoutModel",
            "justify_items": null,
            "grid_row": null,
            "max_height": null,
            "align_content": null,
            "visibility": null,
            "align_self": null,
            "height": null,
            "min_height": null,
            "padding": null,
            "grid_auto_rows": null,
            "grid_gap": null,
            "max_width": null,
            "order": null,
            "_view_module_version": "1.2.0",
            "grid_template_areas": null,
            "object_position": null,
            "object_fit": null,
            "grid_auto_columns": null,
            "margin": null,
            "display": null,
            "left": null
          }
        },
        "620e2a1c0dd54a56b7a3dfbee7bde3c5": {
          "model_module": "@jupyter-widgets/controls",
          "model_name": "LabelModel",
          "model_module_version": "1.5.0",
          "state": {
            "_view_name": "LabelView",
            "style": "IPY_MODEL_9c76329160254156b1f91a44bfc15626",
            "_dom_classes": [],
            "description": "",
            "_model_name": "LabelModel",
            "placeholder": "​",
            "_view_module": "@jupyter-widgets/controls",
            "_model_module_version": "1.5.0",
            "value": " 0.01MB of 0.01MB uploaded (0.00MB deduped)\r",
            "_view_count": null,
            "_view_module_version": "1.5.0",
            "description_tooltip": null,
            "_model_module": "@jupyter-widgets/controls",
            "layout": "IPY_MODEL_c504304d5c784d50a676db149cfcad62"
          }
        },
        "aee7857a2027433ebad0c09bbe9a2470": {
          "model_module": "@jupyter-widgets/controls",
          "model_name": "FloatProgressModel",
          "model_module_version": "1.5.0",
          "state": {
            "_view_name": "ProgressView",
            "style": "IPY_MODEL_a799e8d79047480bbb3e05969f206fb9",
            "_dom_classes": [],
            "description": "",
            "_model_name": "FloatProgressModel",
            "bar_style": "",
            "max": 1,
            "_view_module": "@jupyter-widgets/controls",
            "_model_module_version": "1.5.0",
            "value": 1,
            "_view_count": null,
            "_view_module_version": "1.5.0",
            "orientation": "horizontal",
            "min": 0,
            "description_tooltip": null,
            "_model_module": "@jupyter-widgets/controls",
            "layout": "IPY_MODEL_1186ead5db3b4f5494f918c8d58de816"
          }
        },
        "9c76329160254156b1f91a44bfc15626": {
          "model_module": "@jupyter-widgets/controls",
          "model_name": "DescriptionStyleModel",
          "model_module_version": "1.5.0",
          "state": {
            "_view_name": "StyleView",
            "_model_name": "DescriptionStyleModel",
            "description_width": "",
            "_view_module": "@jupyter-widgets/base",
            "_model_module_version": "1.5.0",
            "_view_count": null,
            "_view_module_version": "1.2.0",
            "_model_module": "@jupyter-widgets/controls"
          }
        },
        "c504304d5c784d50a676db149cfcad62": {
          "model_module": "@jupyter-widgets/base",
          "model_name": "LayoutModel",
          "model_module_version": "1.2.0",
          "state": {
            "_view_name": "LayoutView",
            "grid_template_rows": null,
            "right": null,
            "justify_content": null,
            "_view_module": "@jupyter-widgets/base",
            "overflow": null,
            "_model_module_version": "1.2.0",
            "_view_count": null,
            "flex_flow": null,
            "width": null,
            "min_width": null,
            "border": null,
            "align_items": null,
            "bottom": null,
            "_model_module": "@jupyter-widgets/base",
            "top": null,
            "grid_column": null,
            "overflow_y": null,
            "overflow_x": null,
            "grid_auto_flow": null,
            "grid_area": null,
            "grid_template_columns": null,
            "flex": null,
            "_model_name": "LayoutModel",
            "justify_items": null,
            "grid_row": null,
            "max_height": null,
            "align_content": null,
            "visibility": null,
            "align_self": null,
            "height": null,
            "min_height": null,
            "padding": null,
            "grid_auto_rows": null,
            "grid_gap": null,
            "max_width": null,
            "order": null,
            "_view_module_version": "1.2.0",
            "grid_template_areas": null,
            "object_position": null,
            "object_fit": null,
            "grid_auto_columns": null,
            "margin": null,
            "display": null,
            "left": null
          }
        },
        "a799e8d79047480bbb3e05969f206fb9": {
          "model_module": "@jupyter-widgets/controls",
          "model_name": "ProgressStyleModel",
          "model_module_version": "1.5.0",
          "state": {
            "_view_name": "StyleView",
            "_model_name": "ProgressStyleModel",
            "description_width": "",
            "_view_module": "@jupyter-widgets/base",
            "_model_module_version": "1.5.0",
            "_view_count": null,
            "_view_module_version": "1.2.0",
            "bar_color": null,
            "_model_module": "@jupyter-widgets/controls"
          }
        },
        "1186ead5db3b4f5494f918c8d58de816": {
          "model_module": "@jupyter-widgets/base",
          "model_name": "LayoutModel",
          "model_module_version": "1.2.0",
          "state": {
            "_view_name": "LayoutView",
            "grid_template_rows": null,
            "right": null,
            "justify_content": null,
            "_view_module": "@jupyter-widgets/base",
            "overflow": null,
            "_model_module_version": "1.2.0",
            "_view_count": null,
            "flex_flow": null,
            "width": null,
            "min_width": null,
            "border": null,
            "align_items": null,
            "bottom": null,
            "_model_module": "@jupyter-widgets/base",
            "top": null,
            "grid_column": null,
            "overflow_y": null,
            "overflow_x": null,
            "grid_auto_flow": null,
            "grid_area": null,
            "grid_template_columns": null,
            "flex": null,
            "_model_name": "LayoutModel",
            "justify_items": null,
            "grid_row": null,
            "max_height": null,
            "align_content": null,
            "visibility": null,
            "align_self": null,
            "height": null,
            "min_height": null,
            "padding": null,
            "grid_auto_rows": null,
            "grid_gap": null,
            "max_width": null,
            "order": null,
            "_view_module_version": "1.2.0",
            "grid_template_areas": null,
            "object_position": null,
            "object_fit": null,
            "grid_auto_columns": null,
            "margin": null,
            "display": null,
            "left": null
          }
        },
        "6b823928fa214762bd01e4352489852d": {
          "model_module": "@jupyter-widgets/controls",
          "model_name": "VBoxModel",
          "model_module_version": "1.5.0",
          "state": {
            "_view_name": "VBoxView",
            "_dom_classes": [],
            "_model_name": "VBoxModel",
            "_view_module": "@jupyter-widgets/controls",
            "_model_module_version": "1.5.0",
            "_view_count": null,
            "_view_module_version": "1.5.0",
            "box_style": "",
            "layout": "IPY_MODEL_4074a383c238401e98b5caf290ca0079",
            "_model_module": "@jupyter-widgets/controls",
            "children": [
              "IPY_MODEL_39802fd2015f4d7197ddc95cb9a1637d",
              "IPY_MODEL_330ecd2afbcc4ed8bddaf187c6859deb"
            ]
          }
        },
        "4074a383c238401e98b5caf290ca0079": {
          "model_module": "@jupyter-widgets/base",
          "model_name": "LayoutModel",
          "model_module_version": "1.2.0",
          "state": {
            "_view_name": "LayoutView",
            "grid_template_rows": null,
            "right": null,
            "justify_content": null,
            "_view_module": "@jupyter-widgets/base",
            "overflow": null,
            "_model_module_version": "1.2.0",
            "_view_count": null,
            "flex_flow": null,
            "width": null,
            "min_width": null,
            "border": null,
            "align_items": null,
            "bottom": null,
            "_model_module": "@jupyter-widgets/base",
            "top": null,
            "grid_column": null,
            "overflow_y": null,
            "overflow_x": null,
            "grid_auto_flow": null,
            "grid_area": null,
            "grid_template_columns": null,
            "flex": null,
            "_model_name": "LayoutModel",
            "justify_items": null,
            "grid_row": null,
            "max_height": null,
            "align_content": null,
            "visibility": null,
            "align_self": null,
            "height": null,
            "min_height": null,
            "padding": null,
            "grid_auto_rows": null,
            "grid_gap": null,
            "max_width": null,
            "order": null,
            "_view_module_version": "1.2.0",
            "grid_template_areas": null,
            "object_position": null,
            "object_fit": null,
            "grid_auto_columns": null,
            "margin": null,
            "display": null,
            "left": null
          }
        },
        "39802fd2015f4d7197ddc95cb9a1637d": {
          "model_module": "@jupyter-widgets/controls",
          "model_name": "LabelModel",
          "model_module_version": "1.5.0",
          "state": {
            "_view_name": "LabelView",
            "style": "IPY_MODEL_7ed1262ae7b749728058fac6489de74b",
            "_dom_classes": [],
            "description": "",
            "_model_name": "LabelModel",
            "placeholder": "​",
            "_view_module": "@jupyter-widgets/controls",
            "_model_module_version": "1.5.0",
            "value": " 0.01MB of 0.01MB uploaded (0.00MB deduped)\r",
            "_view_count": null,
            "_view_module_version": "1.5.0",
            "description_tooltip": null,
            "_model_module": "@jupyter-widgets/controls",
            "layout": "IPY_MODEL_5c13b725143141d0b82e8feef0d7a319"
          }
        },
        "330ecd2afbcc4ed8bddaf187c6859deb": {
          "model_module": "@jupyter-widgets/controls",
          "model_name": "FloatProgressModel",
          "model_module_version": "1.5.0",
          "state": {
            "_view_name": "ProgressView",
            "style": "IPY_MODEL_917f64f35d1b4b20a6b837c7f08531dc",
            "_dom_classes": [],
            "description": "",
            "_model_name": "FloatProgressModel",
            "bar_style": "",
            "max": 1,
            "_view_module": "@jupyter-widgets/controls",
            "_model_module_version": "1.5.0",
            "value": 1,
            "_view_count": null,
            "_view_module_version": "1.5.0",
            "orientation": "horizontal",
            "min": 0,
            "description_tooltip": null,
            "_model_module": "@jupyter-widgets/controls",
            "layout": "IPY_MODEL_e5d8c1967b1740b8b23d104e4925b1a1"
          }
        },
        "7ed1262ae7b749728058fac6489de74b": {
          "model_module": "@jupyter-widgets/controls",
          "model_name": "DescriptionStyleModel",
          "model_module_version": "1.5.0",
          "state": {
            "_view_name": "StyleView",
            "_model_name": "DescriptionStyleModel",
            "description_width": "",
            "_view_module": "@jupyter-widgets/base",
            "_model_module_version": "1.5.0",
            "_view_count": null,
            "_view_module_version": "1.2.0",
            "_model_module": "@jupyter-widgets/controls"
          }
        },
        "5c13b725143141d0b82e8feef0d7a319": {
          "model_module": "@jupyter-widgets/base",
          "model_name": "LayoutModel",
          "model_module_version": "1.2.0",
          "state": {
            "_view_name": "LayoutView",
            "grid_template_rows": null,
            "right": null,
            "justify_content": null,
            "_view_module": "@jupyter-widgets/base",
            "overflow": null,
            "_model_module_version": "1.2.0",
            "_view_count": null,
            "flex_flow": null,
            "width": null,
            "min_width": null,
            "border": null,
            "align_items": null,
            "bottom": null,
            "_model_module": "@jupyter-widgets/base",
            "top": null,
            "grid_column": null,
            "overflow_y": null,
            "overflow_x": null,
            "grid_auto_flow": null,
            "grid_area": null,
            "grid_template_columns": null,
            "flex": null,
            "_model_name": "LayoutModel",
            "justify_items": null,
            "grid_row": null,
            "max_height": null,
            "align_content": null,
            "visibility": null,
            "align_self": null,
            "height": null,
            "min_height": null,
            "padding": null,
            "grid_auto_rows": null,
            "grid_gap": null,
            "max_width": null,
            "order": null,
            "_view_module_version": "1.2.0",
            "grid_template_areas": null,
            "object_position": null,
            "object_fit": null,
            "grid_auto_columns": null,
            "margin": null,
            "display": null,
            "left": null
          }
        },
        "917f64f35d1b4b20a6b837c7f08531dc": {
          "model_module": "@jupyter-widgets/controls",
          "model_name": "ProgressStyleModel",
          "model_module_version": "1.5.0",
          "state": {
            "_view_name": "StyleView",
            "_model_name": "ProgressStyleModel",
            "description_width": "",
            "_view_module": "@jupyter-widgets/base",
            "_model_module_version": "1.5.0",
            "_view_count": null,
            "_view_module_version": "1.2.0",
            "bar_color": null,
            "_model_module": "@jupyter-widgets/controls"
          }
        },
        "e5d8c1967b1740b8b23d104e4925b1a1": {
          "model_module": "@jupyter-widgets/base",
          "model_name": "LayoutModel",
          "model_module_version": "1.2.0",
          "state": {
            "_view_name": "LayoutView",
            "grid_template_rows": null,
            "right": null,
            "justify_content": null,
            "_view_module": "@jupyter-widgets/base",
            "overflow": null,
            "_model_module_version": "1.2.0",
            "_view_count": null,
            "flex_flow": null,
            "width": null,
            "min_width": null,
            "border": null,
            "align_items": null,
            "bottom": null,
            "_model_module": "@jupyter-widgets/base",
            "top": null,
            "grid_column": null,
            "overflow_y": null,
            "overflow_x": null,
            "grid_auto_flow": null,
            "grid_area": null,
            "grid_template_columns": null,
            "flex": null,
            "_model_name": "LayoutModel",
            "justify_items": null,
            "grid_row": null,
            "max_height": null,
            "align_content": null,
            "visibility": null,
            "align_self": null,
            "height": null,
            "min_height": null,
            "padding": null,
            "grid_auto_rows": null,
            "grid_gap": null,
            "max_width": null,
            "order": null,
            "_view_module_version": "1.2.0",
            "grid_template_areas": null,
            "object_position": null,
            "object_fit": null,
            "grid_auto_columns": null,
            "margin": null,
            "display": null,
            "left": null
          }
        },
        "509c7c00dad54c11a49507268509164b": {
          "model_module": "@jupyter-widgets/controls",
          "model_name": "VBoxModel",
          "model_module_version": "1.5.0",
          "state": {
            "_view_name": "VBoxView",
            "_dom_classes": [],
            "_model_name": "VBoxModel",
            "_view_module": "@jupyter-widgets/controls",
            "_model_module_version": "1.5.0",
            "_view_count": null,
            "_view_module_version": "1.5.0",
            "box_style": "",
            "layout": "IPY_MODEL_da87254b8cbe4c0aa7e00d81f5da6a4e",
            "_model_module": "@jupyter-widgets/controls",
            "children": [
              "IPY_MODEL_57096d2d59224e8d9506d98bc09e9913",
              "IPY_MODEL_87580b8b5d064f42877bd187aea9d9fc"
            ]
          }
        },
        "da87254b8cbe4c0aa7e00d81f5da6a4e": {
          "model_module": "@jupyter-widgets/base",
          "model_name": "LayoutModel",
          "model_module_version": "1.2.0",
          "state": {
            "_view_name": "LayoutView",
            "grid_template_rows": null,
            "right": null,
            "justify_content": null,
            "_view_module": "@jupyter-widgets/base",
            "overflow": null,
            "_model_module_version": "1.2.0",
            "_view_count": null,
            "flex_flow": null,
            "width": null,
            "min_width": null,
            "border": null,
            "align_items": null,
            "bottom": null,
            "_model_module": "@jupyter-widgets/base",
            "top": null,
            "grid_column": null,
            "overflow_y": null,
            "overflow_x": null,
            "grid_auto_flow": null,
            "grid_area": null,
            "grid_template_columns": null,
            "flex": null,
            "_model_name": "LayoutModel",
            "justify_items": null,
            "grid_row": null,
            "max_height": null,
            "align_content": null,
            "visibility": null,
            "align_self": null,
            "height": null,
            "min_height": null,
            "padding": null,
            "grid_auto_rows": null,
            "grid_gap": null,
            "max_width": null,
            "order": null,
            "_view_module_version": "1.2.0",
            "grid_template_areas": null,
            "object_position": null,
            "object_fit": null,
            "grid_auto_columns": null,
            "margin": null,
            "display": null,
            "left": null
          }
        },
        "57096d2d59224e8d9506d98bc09e9913": {
          "model_module": "@jupyter-widgets/controls",
          "model_name": "LabelModel",
          "model_module_version": "1.5.0",
          "state": {
            "_view_name": "LabelView",
            "style": "IPY_MODEL_db396d7ee91c47638f43ee1544aa4dfa",
            "_dom_classes": [],
            "description": "",
            "_model_name": "LabelModel",
            "placeholder": "​",
            "_view_module": "@jupyter-widgets/controls",
            "_model_module_version": "1.5.0",
            "value": " 0.01MB of 0.01MB uploaded (0.00MB deduped)\r",
            "_view_count": null,
            "_view_module_version": "1.5.0",
            "description_tooltip": null,
            "_model_module": "@jupyter-widgets/controls",
            "layout": "IPY_MODEL_cf625086143f401ea45c3a3c870de4b6"
          }
        },
        "87580b8b5d064f42877bd187aea9d9fc": {
          "model_module": "@jupyter-widgets/controls",
          "model_name": "FloatProgressModel",
          "model_module_version": "1.5.0",
          "state": {
            "_view_name": "ProgressView",
            "style": "IPY_MODEL_c441ccfb09e1461e8cb5cfa4cc4aa5c4",
            "_dom_classes": [],
            "description": "",
            "_model_name": "FloatProgressModel",
            "bar_style": "",
            "max": 1,
            "_view_module": "@jupyter-widgets/controls",
            "_model_module_version": "1.5.0",
            "value": 1,
            "_view_count": null,
            "_view_module_version": "1.5.0",
            "orientation": "horizontal",
            "min": 0,
            "description_tooltip": null,
            "_model_module": "@jupyter-widgets/controls",
            "layout": "IPY_MODEL_cf09a4b7e2ed404c81c9a8c78ee32811"
          }
        },
        "db396d7ee91c47638f43ee1544aa4dfa": {
          "model_module": "@jupyter-widgets/controls",
          "model_name": "DescriptionStyleModel",
          "model_module_version": "1.5.0",
          "state": {
            "_view_name": "StyleView",
            "_model_name": "DescriptionStyleModel",
            "description_width": "",
            "_view_module": "@jupyter-widgets/base",
            "_model_module_version": "1.5.0",
            "_view_count": null,
            "_view_module_version": "1.2.0",
            "_model_module": "@jupyter-widgets/controls"
          }
        },
        "cf625086143f401ea45c3a3c870de4b6": {
          "model_module": "@jupyter-widgets/base",
          "model_name": "LayoutModel",
          "model_module_version": "1.2.0",
          "state": {
            "_view_name": "LayoutView",
            "grid_template_rows": null,
            "right": null,
            "justify_content": null,
            "_view_module": "@jupyter-widgets/base",
            "overflow": null,
            "_model_module_version": "1.2.0",
            "_view_count": null,
            "flex_flow": null,
            "width": null,
            "min_width": null,
            "border": null,
            "align_items": null,
            "bottom": null,
            "_model_module": "@jupyter-widgets/base",
            "top": null,
            "grid_column": null,
            "overflow_y": null,
            "overflow_x": null,
            "grid_auto_flow": null,
            "grid_area": null,
            "grid_template_columns": null,
            "flex": null,
            "_model_name": "LayoutModel",
            "justify_items": null,
            "grid_row": null,
            "max_height": null,
            "align_content": null,
            "visibility": null,
            "align_self": null,
            "height": null,
            "min_height": null,
            "padding": null,
            "grid_auto_rows": null,
            "grid_gap": null,
            "max_width": null,
            "order": null,
            "_view_module_version": "1.2.0",
            "grid_template_areas": null,
            "object_position": null,
            "object_fit": null,
            "grid_auto_columns": null,
            "margin": null,
            "display": null,
            "left": null
          }
        },
        "c441ccfb09e1461e8cb5cfa4cc4aa5c4": {
          "model_module": "@jupyter-widgets/controls",
          "model_name": "ProgressStyleModel",
          "model_module_version": "1.5.0",
          "state": {
            "_view_name": "StyleView",
            "_model_name": "ProgressStyleModel",
            "description_width": "",
            "_view_module": "@jupyter-widgets/base",
            "_model_module_version": "1.5.0",
            "_view_count": null,
            "_view_module_version": "1.2.0",
            "bar_color": null,
            "_model_module": "@jupyter-widgets/controls"
          }
        },
        "cf09a4b7e2ed404c81c9a8c78ee32811": {
          "model_module": "@jupyter-widgets/base",
          "model_name": "LayoutModel",
          "model_module_version": "1.2.0",
          "state": {
            "_view_name": "LayoutView",
            "grid_template_rows": null,
            "right": null,
            "justify_content": null,
            "_view_module": "@jupyter-widgets/base",
            "overflow": null,
            "_model_module_version": "1.2.0",
            "_view_count": null,
            "flex_flow": null,
            "width": null,
            "min_width": null,
            "border": null,
            "align_items": null,
            "bottom": null,
            "_model_module": "@jupyter-widgets/base",
            "top": null,
            "grid_column": null,
            "overflow_y": null,
            "overflow_x": null,
            "grid_auto_flow": null,
            "grid_area": null,
            "grid_template_columns": null,
            "flex": null,
            "_model_name": "LayoutModel",
            "justify_items": null,
            "grid_row": null,
            "max_height": null,
            "align_content": null,
            "visibility": null,
            "align_self": null,
            "height": null,
            "min_height": null,
            "padding": null,
            "grid_auto_rows": null,
            "grid_gap": null,
            "max_width": null,
            "order": null,
            "_view_module_version": "1.2.0",
            "grid_template_areas": null,
            "object_position": null,
            "object_fit": null,
            "grid_auto_columns": null,
            "margin": null,
            "display": null,
            "left": null
          }
        },
        "de09e285eab5439e98d6535070131c6a": {
          "model_module": "@jupyter-widgets/controls",
          "model_name": "VBoxModel",
          "model_module_version": "1.5.0",
          "state": {
            "_view_name": "VBoxView",
            "_dom_classes": [],
            "_model_name": "VBoxModel",
            "_view_module": "@jupyter-widgets/controls",
            "_model_module_version": "1.5.0",
            "_view_count": null,
            "_view_module_version": "1.5.0",
            "box_style": "",
            "layout": "IPY_MODEL_8054bd7b1f7a43ada9f93a3d7a4381ce",
            "_model_module": "@jupyter-widgets/controls",
            "children": [
              "IPY_MODEL_4467f78be0ca4f28902dbd02c6a07922",
              "IPY_MODEL_067cf74ea10745cc98893f1481ce4f90"
            ]
          }
        },
        "8054bd7b1f7a43ada9f93a3d7a4381ce": {
          "model_module": "@jupyter-widgets/base",
          "model_name": "LayoutModel",
          "model_module_version": "1.2.0",
          "state": {
            "_view_name": "LayoutView",
            "grid_template_rows": null,
            "right": null,
            "justify_content": null,
            "_view_module": "@jupyter-widgets/base",
            "overflow": null,
            "_model_module_version": "1.2.0",
            "_view_count": null,
            "flex_flow": null,
            "width": null,
            "min_width": null,
            "border": null,
            "align_items": null,
            "bottom": null,
            "_model_module": "@jupyter-widgets/base",
            "top": null,
            "grid_column": null,
            "overflow_y": null,
            "overflow_x": null,
            "grid_auto_flow": null,
            "grid_area": null,
            "grid_template_columns": null,
            "flex": null,
            "_model_name": "LayoutModel",
            "justify_items": null,
            "grid_row": null,
            "max_height": null,
            "align_content": null,
            "visibility": null,
            "align_self": null,
            "height": null,
            "min_height": null,
            "padding": null,
            "grid_auto_rows": null,
            "grid_gap": null,
            "max_width": null,
            "order": null,
            "_view_module_version": "1.2.0",
            "grid_template_areas": null,
            "object_position": null,
            "object_fit": null,
            "grid_auto_columns": null,
            "margin": null,
            "display": null,
            "left": null
          }
        },
        "4467f78be0ca4f28902dbd02c6a07922": {
          "model_module": "@jupyter-widgets/controls",
          "model_name": "LabelModel",
          "model_module_version": "1.5.0",
          "state": {
            "_view_name": "LabelView",
            "style": "IPY_MODEL_c9db936601574da98a8e5279fc634b06",
            "_dom_classes": [],
            "description": "",
            "_model_name": "LabelModel",
            "placeholder": "​",
            "_view_module": "@jupyter-widgets/controls",
            "_model_module_version": "1.5.0",
            "value": " 0.01MB of 0.01MB uploaded (0.00MB deduped)\r",
            "_view_count": null,
            "_view_module_version": "1.5.0",
            "description_tooltip": null,
            "_model_module": "@jupyter-widgets/controls",
            "layout": "IPY_MODEL_4bee8cb1fa7043318b0979506f43ce15"
          }
        },
        "067cf74ea10745cc98893f1481ce4f90": {
          "model_module": "@jupyter-widgets/controls",
          "model_name": "FloatProgressModel",
          "model_module_version": "1.5.0",
          "state": {
            "_view_name": "ProgressView",
            "style": "IPY_MODEL_db94cba348d94f648ec73fa1d4c47551",
            "_dom_classes": [],
            "description": "",
            "_model_name": "FloatProgressModel",
            "bar_style": "",
            "max": 1,
            "_view_module": "@jupyter-widgets/controls",
            "_model_module_version": "1.5.0",
            "value": 1,
            "_view_count": null,
            "_view_module_version": "1.5.0",
            "orientation": "horizontal",
            "min": 0,
            "description_tooltip": null,
            "_model_module": "@jupyter-widgets/controls",
            "layout": "IPY_MODEL_e8d97d4262314b6186137b0615116bb1"
          }
        },
        "c9db936601574da98a8e5279fc634b06": {
          "model_module": "@jupyter-widgets/controls",
          "model_name": "DescriptionStyleModel",
          "model_module_version": "1.5.0",
          "state": {
            "_view_name": "StyleView",
            "_model_name": "DescriptionStyleModel",
            "description_width": "",
            "_view_module": "@jupyter-widgets/base",
            "_model_module_version": "1.5.0",
            "_view_count": null,
            "_view_module_version": "1.2.0",
            "_model_module": "@jupyter-widgets/controls"
          }
        },
        "4bee8cb1fa7043318b0979506f43ce15": {
          "model_module": "@jupyter-widgets/base",
          "model_name": "LayoutModel",
          "model_module_version": "1.2.0",
          "state": {
            "_view_name": "LayoutView",
            "grid_template_rows": null,
            "right": null,
            "justify_content": null,
            "_view_module": "@jupyter-widgets/base",
            "overflow": null,
            "_model_module_version": "1.2.0",
            "_view_count": null,
            "flex_flow": null,
            "width": null,
            "min_width": null,
            "border": null,
            "align_items": null,
            "bottom": null,
            "_model_module": "@jupyter-widgets/base",
            "top": null,
            "grid_column": null,
            "overflow_y": null,
            "overflow_x": null,
            "grid_auto_flow": null,
            "grid_area": null,
            "grid_template_columns": null,
            "flex": null,
            "_model_name": "LayoutModel",
            "justify_items": null,
            "grid_row": null,
            "max_height": null,
            "align_content": null,
            "visibility": null,
            "align_self": null,
            "height": null,
            "min_height": null,
            "padding": null,
            "grid_auto_rows": null,
            "grid_gap": null,
            "max_width": null,
            "order": null,
            "_view_module_version": "1.2.0",
            "grid_template_areas": null,
            "object_position": null,
            "object_fit": null,
            "grid_auto_columns": null,
            "margin": null,
            "display": null,
            "left": null
          }
        },
        "db94cba348d94f648ec73fa1d4c47551": {
          "model_module": "@jupyter-widgets/controls",
          "model_name": "ProgressStyleModel",
          "model_module_version": "1.5.0",
          "state": {
            "_view_name": "StyleView",
            "_model_name": "ProgressStyleModel",
            "description_width": "",
            "_view_module": "@jupyter-widgets/base",
            "_model_module_version": "1.5.0",
            "_view_count": null,
            "_view_module_version": "1.2.0",
            "bar_color": null,
            "_model_module": "@jupyter-widgets/controls"
          }
        },
        "e8d97d4262314b6186137b0615116bb1": {
          "model_module": "@jupyter-widgets/base",
          "model_name": "LayoutModel",
          "model_module_version": "1.2.0",
          "state": {
            "_view_name": "LayoutView",
            "grid_template_rows": null,
            "right": null,
            "justify_content": null,
            "_view_module": "@jupyter-widgets/base",
            "overflow": null,
            "_model_module_version": "1.2.0",
            "_view_count": null,
            "flex_flow": null,
            "width": null,
            "min_width": null,
            "border": null,
            "align_items": null,
            "bottom": null,
            "_model_module": "@jupyter-widgets/base",
            "top": null,
            "grid_column": null,
            "overflow_y": null,
            "overflow_x": null,
            "grid_auto_flow": null,
            "grid_area": null,
            "grid_template_columns": null,
            "flex": null,
            "_model_name": "LayoutModel",
            "justify_items": null,
            "grid_row": null,
            "max_height": null,
            "align_content": null,
            "visibility": null,
            "align_self": null,
            "height": null,
            "min_height": null,
            "padding": null,
            "grid_auto_rows": null,
            "grid_gap": null,
            "max_width": null,
            "order": null,
            "_view_module_version": "1.2.0",
            "grid_template_areas": null,
            "object_position": null,
            "object_fit": null,
            "grid_auto_columns": null,
            "margin": null,
            "display": null,
            "left": null
          }
        },
        "c9deace7704e4afa96689f0ab020660b": {
          "model_module": "@jupyter-widgets/controls",
          "model_name": "VBoxModel",
          "model_module_version": "1.5.0",
          "state": {
            "_view_name": "VBoxView",
            "_dom_classes": [],
            "_model_name": "VBoxModel",
            "_view_module": "@jupyter-widgets/controls",
            "_model_module_version": "1.5.0",
            "_view_count": null,
            "_view_module_version": "1.5.0",
            "box_style": "",
            "layout": "IPY_MODEL_bff41aebd87b4122b54e0f498fde2f27",
            "_model_module": "@jupyter-widgets/controls",
            "children": [
              "IPY_MODEL_cdd3a8be33024b298c2b19384d985d31",
              "IPY_MODEL_2969e1ba047f474ab5761b38a171df53"
            ]
          }
        },
        "bff41aebd87b4122b54e0f498fde2f27": {
          "model_module": "@jupyter-widgets/base",
          "model_name": "LayoutModel",
          "model_module_version": "1.2.0",
          "state": {
            "_view_name": "LayoutView",
            "grid_template_rows": null,
            "right": null,
            "justify_content": null,
            "_view_module": "@jupyter-widgets/base",
            "overflow": null,
            "_model_module_version": "1.2.0",
            "_view_count": null,
            "flex_flow": null,
            "width": null,
            "min_width": null,
            "border": null,
            "align_items": null,
            "bottom": null,
            "_model_module": "@jupyter-widgets/base",
            "top": null,
            "grid_column": null,
            "overflow_y": null,
            "overflow_x": null,
            "grid_auto_flow": null,
            "grid_area": null,
            "grid_template_columns": null,
            "flex": null,
            "_model_name": "LayoutModel",
            "justify_items": null,
            "grid_row": null,
            "max_height": null,
            "align_content": null,
            "visibility": null,
            "align_self": null,
            "height": null,
            "min_height": null,
            "padding": null,
            "grid_auto_rows": null,
            "grid_gap": null,
            "max_width": null,
            "order": null,
            "_view_module_version": "1.2.0",
            "grid_template_areas": null,
            "object_position": null,
            "object_fit": null,
            "grid_auto_columns": null,
            "margin": null,
            "display": null,
            "left": null
          }
        },
        "cdd3a8be33024b298c2b19384d985d31": {
          "model_module": "@jupyter-widgets/controls",
          "model_name": "LabelModel",
          "model_module_version": "1.5.0",
          "state": {
            "_view_name": "LabelView",
            "style": "IPY_MODEL_7e9a8faa40b742a8b2eb788f369aba31",
            "_dom_classes": [],
            "description": "",
            "_model_name": "LabelModel",
            "placeholder": "​",
            "_view_module": "@jupyter-widgets/controls",
            "_model_module_version": "1.5.0",
            "value": " 0.01MB of 0.01MB uploaded (0.00MB deduped)\r",
            "_view_count": null,
            "_view_module_version": "1.5.0",
            "description_tooltip": null,
            "_model_module": "@jupyter-widgets/controls",
            "layout": "IPY_MODEL_dff5b670e5294bdab6232a6325ec4ae8"
          }
        },
        "2969e1ba047f474ab5761b38a171df53": {
          "model_module": "@jupyter-widgets/controls",
          "model_name": "FloatProgressModel",
          "model_module_version": "1.5.0",
          "state": {
            "_view_name": "ProgressView",
            "style": "IPY_MODEL_d7b97a8005384abeae9318c908f6fa9c",
            "_dom_classes": [],
            "description": "",
            "_model_name": "FloatProgressModel",
            "bar_style": "",
            "max": 1,
            "_view_module": "@jupyter-widgets/controls",
            "_model_module_version": "1.5.0",
            "value": 1,
            "_view_count": null,
            "_view_module_version": "1.5.0",
            "orientation": "horizontal",
            "min": 0,
            "description_tooltip": null,
            "_model_module": "@jupyter-widgets/controls",
            "layout": "IPY_MODEL_a91185256b56405bb8bb2652b2792cd0"
          }
        },
        "7e9a8faa40b742a8b2eb788f369aba31": {
          "model_module": "@jupyter-widgets/controls",
          "model_name": "DescriptionStyleModel",
          "model_module_version": "1.5.0",
          "state": {
            "_view_name": "StyleView",
            "_model_name": "DescriptionStyleModel",
            "description_width": "",
            "_view_module": "@jupyter-widgets/base",
            "_model_module_version": "1.5.0",
            "_view_count": null,
            "_view_module_version": "1.2.0",
            "_model_module": "@jupyter-widgets/controls"
          }
        },
        "dff5b670e5294bdab6232a6325ec4ae8": {
          "model_module": "@jupyter-widgets/base",
          "model_name": "LayoutModel",
          "model_module_version": "1.2.0",
          "state": {
            "_view_name": "LayoutView",
            "grid_template_rows": null,
            "right": null,
            "justify_content": null,
            "_view_module": "@jupyter-widgets/base",
            "overflow": null,
            "_model_module_version": "1.2.0",
            "_view_count": null,
            "flex_flow": null,
            "width": null,
            "min_width": null,
            "border": null,
            "align_items": null,
            "bottom": null,
            "_model_module": "@jupyter-widgets/base",
            "top": null,
            "grid_column": null,
            "overflow_y": null,
            "overflow_x": null,
            "grid_auto_flow": null,
            "grid_area": null,
            "grid_template_columns": null,
            "flex": null,
            "_model_name": "LayoutModel",
            "justify_items": null,
            "grid_row": null,
            "max_height": null,
            "align_content": null,
            "visibility": null,
            "align_self": null,
            "height": null,
            "min_height": null,
            "padding": null,
            "grid_auto_rows": null,
            "grid_gap": null,
            "max_width": null,
            "order": null,
            "_view_module_version": "1.2.0",
            "grid_template_areas": null,
            "object_position": null,
            "object_fit": null,
            "grid_auto_columns": null,
            "margin": null,
            "display": null,
            "left": null
          }
        },
        "d7b97a8005384abeae9318c908f6fa9c": {
          "model_module": "@jupyter-widgets/controls",
          "model_name": "ProgressStyleModel",
          "model_module_version": "1.5.0",
          "state": {
            "_view_name": "StyleView",
            "_model_name": "ProgressStyleModel",
            "description_width": "",
            "_view_module": "@jupyter-widgets/base",
            "_model_module_version": "1.5.0",
            "_view_count": null,
            "_view_module_version": "1.2.0",
            "bar_color": null,
            "_model_module": "@jupyter-widgets/controls"
          }
        },
        "a91185256b56405bb8bb2652b2792cd0": {
          "model_module": "@jupyter-widgets/base",
          "model_name": "LayoutModel",
          "model_module_version": "1.2.0",
          "state": {
            "_view_name": "LayoutView",
            "grid_template_rows": null,
            "right": null,
            "justify_content": null,
            "_view_module": "@jupyter-widgets/base",
            "overflow": null,
            "_model_module_version": "1.2.0",
            "_view_count": null,
            "flex_flow": null,
            "width": null,
            "min_width": null,
            "border": null,
            "align_items": null,
            "bottom": null,
            "_model_module": "@jupyter-widgets/base",
            "top": null,
            "grid_column": null,
            "overflow_y": null,
            "overflow_x": null,
            "grid_auto_flow": null,
            "grid_area": null,
            "grid_template_columns": null,
            "flex": null,
            "_model_name": "LayoutModel",
            "justify_items": null,
            "grid_row": null,
            "max_height": null,
            "align_content": null,
            "visibility": null,
            "align_self": null,
            "height": null,
            "min_height": null,
            "padding": null,
            "grid_auto_rows": null,
            "grid_gap": null,
            "max_width": null,
            "order": null,
            "_view_module_version": "1.2.0",
            "grid_template_areas": null,
            "object_position": null,
            "object_fit": null,
            "grid_auto_columns": null,
            "margin": null,
            "display": null,
            "left": null
          }
        },
        "831d752314db41cba1637fac28d0553a": {
          "model_module": "@jupyter-widgets/controls",
          "model_name": "VBoxModel",
          "model_module_version": "1.5.0",
          "state": {
            "_view_name": "VBoxView",
            "_dom_classes": [],
            "_model_name": "VBoxModel",
            "_view_module": "@jupyter-widgets/controls",
            "_model_module_version": "1.5.0",
            "_view_count": null,
            "_view_module_version": "1.5.0",
            "box_style": "",
            "layout": "IPY_MODEL_6550d8dc1722403091676253e9301e3b",
            "_model_module": "@jupyter-widgets/controls",
            "children": [
              "IPY_MODEL_0fb4549f9e1c4e57a882c9625c07e6ad",
              "IPY_MODEL_05dc44381d224511a8b3f3c1fea4d713"
            ]
          }
        },
        "6550d8dc1722403091676253e9301e3b": {
          "model_module": "@jupyter-widgets/base",
          "model_name": "LayoutModel",
          "model_module_version": "1.2.0",
          "state": {
            "_view_name": "LayoutView",
            "grid_template_rows": null,
            "right": null,
            "justify_content": null,
            "_view_module": "@jupyter-widgets/base",
            "overflow": null,
            "_model_module_version": "1.2.0",
            "_view_count": null,
            "flex_flow": null,
            "width": null,
            "min_width": null,
            "border": null,
            "align_items": null,
            "bottom": null,
            "_model_module": "@jupyter-widgets/base",
            "top": null,
            "grid_column": null,
            "overflow_y": null,
            "overflow_x": null,
            "grid_auto_flow": null,
            "grid_area": null,
            "grid_template_columns": null,
            "flex": null,
            "_model_name": "LayoutModel",
            "justify_items": null,
            "grid_row": null,
            "max_height": null,
            "align_content": null,
            "visibility": null,
            "align_self": null,
            "height": null,
            "min_height": null,
            "padding": null,
            "grid_auto_rows": null,
            "grid_gap": null,
            "max_width": null,
            "order": null,
            "_view_module_version": "1.2.0",
            "grid_template_areas": null,
            "object_position": null,
            "object_fit": null,
            "grid_auto_columns": null,
            "margin": null,
            "display": null,
            "left": null
          }
        },
        "0fb4549f9e1c4e57a882c9625c07e6ad": {
          "model_module": "@jupyter-widgets/controls",
          "model_name": "LabelModel",
          "model_module_version": "1.5.0",
          "state": {
            "_view_name": "LabelView",
            "style": "IPY_MODEL_ee1792ca151d4c93b44351832c9ad5f9",
            "_dom_classes": [],
            "description": "",
            "_model_name": "LabelModel",
            "placeholder": "​",
            "_view_module": "@jupyter-widgets/controls",
            "_model_module_version": "1.5.0",
            "value": " 0.01MB of 0.01MB uploaded (0.00MB deduped)\r",
            "_view_count": null,
            "_view_module_version": "1.5.0",
            "description_tooltip": null,
            "_model_module": "@jupyter-widgets/controls",
            "layout": "IPY_MODEL_c8abf88b03de4a40bdecf84309dfb520"
          }
        },
        "05dc44381d224511a8b3f3c1fea4d713": {
          "model_module": "@jupyter-widgets/controls",
          "model_name": "FloatProgressModel",
          "model_module_version": "1.5.0",
          "state": {
            "_view_name": "ProgressView",
            "style": "IPY_MODEL_a063c7bba933403c8161e938bf28195a",
            "_dom_classes": [],
            "description": "",
            "_model_name": "FloatProgressModel",
            "bar_style": "",
            "max": 1,
            "_view_module": "@jupyter-widgets/controls",
            "_model_module_version": "1.5.0",
            "value": 1,
            "_view_count": null,
            "_view_module_version": "1.5.0",
            "orientation": "horizontal",
            "min": 0,
            "description_tooltip": null,
            "_model_module": "@jupyter-widgets/controls",
            "layout": "IPY_MODEL_52ff14b9b7c5473ca062672746705c7b"
          }
        },
        "ee1792ca151d4c93b44351832c9ad5f9": {
          "model_module": "@jupyter-widgets/controls",
          "model_name": "DescriptionStyleModel",
          "model_module_version": "1.5.0",
          "state": {
            "_view_name": "StyleView",
            "_model_name": "DescriptionStyleModel",
            "description_width": "",
            "_view_module": "@jupyter-widgets/base",
            "_model_module_version": "1.5.0",
            "_view_count": null,
            "_view_module_version": "1.2.0",
            "_model_module": "@jupyter-widgets/controls"
          }
        },
        "c8abf88b03de4a40bdecf84309dfb520": {
          "model_module": "@jupyter-widgets/base",
          "model_name": "LayoutModel",
          "model_module_version": "1.2.0",
          "state": {
            "_view_name": "LayoutView",
            "grid_template_rows": null,
            "right": null,
            "justify_content": null,
            "_view_module": "@jupyter-widgets/base",
            "overflow": null,
            "_model_module_version": "1.2.0",
            "_view_count": null,
            "flex_flow": null,
            "width": null,
            "min_width": null,
            "border": null,
            "align_items": null,
            "bottom": null,
            "_model_module": "@jupyter-widgets/base",
            "top": null,
            "grid_column": null,
            "overflow_y": null,
            "overflow_x": null,
            "grid_auto_flow": null,
            "grid_area": null,
            "grid_template_columns": null,
            "flex": null,
            "_model_name": "LayoutModel",
            "justify_items": null,
            "grid_row": null,
            "max_height": null,
            "align_content": null,
            "visibility": null,
            "align_self": null,
            "height": null,
            "min_height": null,
            "padding": null,
            "grid_auto_rows": null,
            "grid_gap": null,
            "max_width": null,
            "order": null,
            "_view_module_version": "1.2.0",
            "grid_template_areas": null,
            "object_position": null,
            "object_fit": null,
            "grid_auto_columns": null,
            "margin": null,
            "display": null,
            "left": null
          }
        },
        "a063c7bba933403c8161e938bf28195a": {
          "model_module": "@jupyter-widgets/controls",
          "model_name": "ProgressStyleModel",
          "model_module_version": "1.5.0",
          "state": {
            "_view_name": "StyleView",
            "_model_name": "ProgressStyleModel",
            "description_width": "",
            "_view_module": "@jupyter-widgets/base",
            "_model_module_version": "1.5.0",
            "_view_count": null,
            "_view_module_version": "1.2.0",
            "bar_color": null,
            "_model_module": "@jupyter-widgets/controls"
          }
        },
        "52ff14b9b7c5473ca062672746705c7b": {
          "model_module": "@jupyter-widgets/base",
          "model_name": "LayoutModel",
          "model_module_version": "1.2.0",
          "state": {
            "_view_name": "LayoutView",
            "grid_template_rows": null,
            "right": null,
            "justify_content": null,
            "_view_module": "@jupyter-widgets/base",
            "overflow": null,
            "_model_module_version": "1.2.0",
            "_view_count": null,
            "flex_flow": null,
            "width": null,
            "min_width": null,
            "border": null,
            "align_items": null,
            "bottom": null,
            "_model_module": "@jupyter-widgets/base",
            "top": null,
            "grid_column": null,
            "overflow_y": null,
            "overflow_x": null,
            "grid_auto_flow": null,
            "grid_area": null,
            "grid_template_columns": null,
            "flex": null,
            "_model_name": "LayoutModel",
            "justify_items": null,
            "grid_row": null,
            "max_height": null,
            "align_content": null,
            "visibility": null,
            "align_self": null,
            "height": null,
            "min_height": null,
            "padding": null,
            "grid_auto_rows": null,
            "grid_gap": null,
            "max_width": null,
            "order": null,
            "_view_module_version": "1.2.0",
            "grid_template_areas": null,
            "object_position": null,
            "object_fit": null,
            "grid_auto_columns": null,
            "margin": null,
            "display": null,
            "left": null
          }
        },
        "7427b3d5b3434a0ba5b83933530b6dc0": {
          "model_module": "@jupyter-widgets/controls",
          "model_name": "VBoxModel",
          "model_module_version": "1.5.0",
          "state": {
            "_view_name": "VBoxView",
            "_dom_classes": [],
            "_model_name": "VBoxModel",
            "_view_module": "@jupyter-widgets/controls",
            "_model_module_version": "1.5.0",
            "_view_count": null,
            "_view_module_version": "1.5.0",
            "box_style": "",
            "layout": "IPY_MODEL_5753bc80daa2459eaf16e322ecdebb6a",
            "_model_module": "@jupyter-widgets/controls",
            "children": [
              "IPY_MODEL_503b4dddbdfb4416813d73d92ccf18b1",
              "IPY_MODEL_4e8f7d5b48734cc39f766193e0dbb1c9"
            ]
          }
        },
        "5753bc80daa2459eaf16e322ecdebb6a": {
          "model_module": "@jupyter-widgets/base",
          "model_name": "LayoutModel",
          "model_module_version": "1.2.0",
          "state": {
            "_view_name": "LayoutView",
            "grid_template_rows": null,
            "right": null,
            "justify_content": null,
            "_view_module": "@jupyter-widgets/base",
            "overflow": null,
            "_model_module_version": "1.2.0",
            "_view_count": null,
            "flex_flow": null,
            "width": null,
            "min_width": null,
            "border": null,
            "align_items": null,
            "bottom": null,
            "_model_module": "@jupyter-widgets/base",
            "top": null,
            "grid_column": null,
            "overflow_y": null,
            "overflow_x": null,
            "grid_auto_flow": null,
            "grid_area": null,
            "grid_template_columns": null,
            "flex": null,
            "_model_name": "LayoutModel",
            "justify_items": null,
            "grid_row": null,
            "max_height": null,
            "align_content": null,
            "visibility": null,
            "align_self": null,
            "height": null,
            "min_height": null,
            "padding": null,
            "grid_auto_rows": null,
            "grid_gap": null,
            "max_width": null,
            "order": null,
            "_view_module_version": "1.2.0",
            "grid_template_areas": null,
            "object_position": null,
            "object_fit": null,
            "grid_auto_columns": null,
            "margin": null,
            "display": null,
            "left": null
          }
        },
        "503b4dddbdfb4416813d73d92ccf18b1": {
          "model_module": "@jupyter-widgets/controls",
          "model_name": "LabelModel",
          "model_module_version": "1.5.0",
          "state": {
            "_view_name": "LabelView",
            "style": "IPY_MODEL_64faabffa2774f72a82a75ab5b8df220",
            "_dom_classes": [],
            "description": "",
            "_model_name": "LabelModel",
            "placeholder": "​",
            "_view_module": "@jupyter-widgets/controls",
            "_model_module_version": "1.5.0",
            "value": " 0.01MB of 0.01MB uploaded (0.00MB deduped)\r",
            "_view_count": null,
            "_view_module_version": "1.5.0",
            "description_tooltip": null,
            "_model_module": "@jupyter-widgets/controls",
            "layout": "IPY_MODEL_a11048e359eb43b5a57e3b09022ed248"
          }
        },
        "4e8f7d5b48734cc39f766193e0dbb1c9": {
          "model_module": "@jupyter-widgets/controls",
          "model_name": "FloatProgressModel",
          "model_module_version": "1.5.0",
          "state": {
            "_view_name": "ProgressView",
            "style": "IPY_MODEL_5419d0a1cb654c3ea0d5c2bf576fb470",
            "_dom_classes": [],
            "description": "",
            "_model_name": "FloatProgressModel",
            "bar_style": "",
            "max": 1,
            "_view_module": "@jupyter-widgets/controls",
            "_model_module_version": "1.5.0",
            "value": 1,
            "_view_count": null,
            "_view_module_version": "1.5.0",
            "orientation": "horizontal",
            "min": 0,
            "description_tooltip": null,
            "_model_module": "@jupyter-widgets/controls",
            "layout": "IPY_MODEL_f862d3d4612f4beca3487ae823320c36"
          }
        },
        "64faabffa2774f72a82a75ab5b8df220": {
          "model_module": "@jupyter-widgets/controls",
          "model_name": "DescriptionStyleModel",
          "model_module_version": "1.5.0",
          "state": {
            "_view_name": "StyleView",
            "_model_name": "DescriptionStyleModel",
            "description_width": "",
            "_view_module": "@jupyter-widgets/base",
            "_model_module_version": "1.5.0",
            "_view_count": null,
            "_view_module_version": "1.2.0",
            "_model_module": "@jupyter-widgets/controls"
          }
        },
        "a11048e359eb43b5a57e3b09022ed248": {
          "model_module": "@jupyter-widgets/base",
          "model_name": "LayoutModel",
          "model_module_version": "1.2.0",
          "state": {
            "_view_name": "LayoutView",
            "grid_template_rows": null,
            "right": null,
            "justify_content": null,
            "_view_module": "@jupyter-widgets/base",
            "overflow": null,
            "_model_module_version": "1.2.0",
            "_view_count": null,
            "flex_flow": null,
            "width": null,
            "min_width": null,
            "border": null,
            "align_items": null,
            "bottom": null,
            "_model_module": "@jupyter-widgets/base",
            "top": null,
            "grid_column": null,
            "overflow_y": null,
            "overflow_x": null,
            "grid_auto_flow": null,
            "grid_area": null,
            "grid_template_columns": null,
            "flex": null,
            "_model_name": "LayoutModel",
            "justify_items": null,
            "grid_row": null,
            "max_height": null,
            "align_content": null,
            "visibility": null,
            "align_self": null,
            "height": null,
            "min_height": null,
            "padding": null,
            "grid_auto_rows": null,
            "grid_gap": null,
            "max_width": null,
            "order": null,
            "_view_module_version": "1.2.0",
            "grid_template_areas": null,
            "object_position": null,
            "object_fit": null,
            "grid_auto_columns": null,
            "margin": null,
            "display": null,
            "left": null
          }
        },
        "5419d0a1cb654c3ea0d5c2bf576fb470": {
          "model_module": "@jupyter-widgets/controls",
          "model_name": "ProgressStyleModel",
          "model_module_version": "1.5.0",
          "state": {
            "_view_name": "StyleView",
            "_model_name": "ProgressStyleModel",
            "description_width": "",
            "_view_module": "@jupyter-widgets/base",
            "_model_module_version": "1.5.0",
            "_view_count": null,
            "_view_module_version": "1.2.0",
            "bar_color": null,
            "_model_module": "@jupyter-widgets/controls"
          }
        },
        "f862d3d4612f4beca3487ae823320c36": {
          "model_module": "@jupyter-widgets/base",
          "model_name": "LayoutModel",
          "model_module_version": "1.2.0",
          "state": {
            "_view_name": "LayoutView",
            "grid_template_rows": null,
            "right": null,
            "justify_content": null,
            "_view_module": "@jupyter-widgets/base",
            "overflow": null,
            "_model_module_version": "1.2.0",
            "_view_count": null,
            "flex_flow": null,
            "width": null,
            "min_width": null,
            "border": null,
            "align_items": null,
            "bottom": null,
            "_model_module": "@jupyter-widgets/base",
            "top": null,
            "grid_column": null,
            "overflow_y": null,
            "overflow_x": null,
            "grid_auto_flow": null,
            "grid_area": null,
            "grid_template_columns": null,
            "flex": null,
            "_model_name": "LayoutModel",
            "justify_items": null,
            "grid_row": null,
            "max_height": null,
            "align_content": null,
            "visibility": null,
            "align_self": null,
            "height": null,
            "min_height": null,
            "padding": null,
            "grid_auto_rows": null,
            "grid_gap": null,
            "max_width": null,
            "order": null,
            "_view_module_version": "1.2.0",
            "grid_template_areas": null,
            "object_position": null,
            "object_fit": null,
            "grid_auto_columns": null,
            "margin": null,
            "display": null,
            "left": null
          }
        },
        "544fb2cdb5c14b3c81debb2d32023304": {
          "model_module": "@jupyter-widgets/controls",
          "model_name": "VBoxModel",
          "model_module_version": "1.5.0",
          "state": {
            "_view_name": "VBoxView",
            "_dom_classes": [],
            "_model_name": "VBoxModel",
            "_view_module": "@jupyter-widgets/controls",
            "_model_module_version": "1.5.0",
            "_view_count": null,
            "_view_module_version": "1.5.0",
            "box_style": "",
            "layout": "IPY_MODEL_6f628e596c194b3c964aee2ee5ddda2a",
            "_model_module": "@jupyter-widgets/controls",
            "children": [
              "IPY_MODEL_cef80f94730f4996891e41e86a5c068c",
              "IPY_MODEL_35e54e8951534e0c8cb9853db380086e"
            ]
          }
        },
        "6f628e596c194b3c964aee2ee5ddda2a": {
          "model_module": "@jupyter-widgets/base",
          "model_name": "LayoutModel",
          "model_module_version": "1.2.0",
          "state": {
            "_view_name": "LayoutView",
            "grid_template_rows": null,
            "right": null,
            "justify_content": null,
            "_view_module": "@jupyter-widgets/base",
            "overflow": null,
            "_model_module_version": "1.2.0",
            "_view_count": null,
            "flex_flow": null,
            "width": null,
            "min_width": null,
            "border": null,
            "align_items": null,
            "bottom": null,
            "_model_module": "@jupyter-widgets/base",
            "top": null,
            "grid_column": null,
            "overflow_y": null,
            "overflow_x": null,
            "grid_auto_flow": null,
            "grid_area": null,
            "grid_template_columns": null,
            "flex": null,
            "_model_name": "LayoutModel",
            "justify_items": null,
            "grid_row": null,
            "max_height": null,
            "align_content": null,
            "visibility": null,
            "align_self": null,
            "height": null,
            "min_height": null,
            "padding": null,
            "grid_auto_rows": null,
            "grid_gap": null,
            "max_width": null,
            "order": null,
            "_view_module_version": "1.2.0",
            "grid_template_areas": null,
            "object_position": null,
            "object_fit": null,
            "grid_auto_columns": null,
            "margin": null,
            "display": null,
            "left": null
          }
        },
        "cef80f94730f4996891e41e86a5c068c": {
          "model_module": "@jupyter-widgets/controls",
          "model_name": "LabelModel",
          "model_module_version": "1.5.0",
          "state": {
            "_view_name": "LabelView",
            "style": "IPY_MODEL_4a3dc53fb7ba4e62a5b408aa7de68377",
            "_dom_classes": [],
            "description": "",
            "_model_name": "LabelModel",
            "placeholder": "​",
            "_view_module": "@jupyter-widgets/controls",
            "_model_module_version": "1.5.0",
            "value": " 0.01MB of 0.01MB uploaded (0.00MB deduped)\r",
            "_view_count": null,
            "_view_module_version": "1.5.0",
            "description_tooltip": null,
            "_model_module": "@jupyter-widgets/controls",
            "layout": "IPY_MODEL_7fdf9ac80e4146cfba4cc3805a53cd4d"
          }
        },
        "35e54e8951534e0c8cb9853db380086e": {
          "model_module": "@jupyter-widgets/controls",
          "model_name": "FloatProgressModel",
          "model_module_version": "1.5.0",
          "state": {
            "_view_name": "ProgressView",
            "style": "IPY_MODEL_0cd8b6e18f0d4977bc5cb260f2aed828",
            "_dom_classes": [],
            "description": "",
            "_model_name": "FloatProgressModel",
            "bar_style": "",
            "max": 1,
            "_view_module": "@jupyter-widgets/controls",
            "_model_module_version": "1.5.0",
            "value": 1,
            "_view_count": null,
            "_view_module_version": "1.5.0",
            "orientation": "horizontal",
            "min": 0,
            "description_tooltip": null,
            "_model_module": "@jupyter-widgets/controls",
            "layout": "IPY_MODEL_5305289cbaca40c1b10005e5a0a9e676"
          }
        },
        "4a3dc53fb7ba4e62a5b408aa7de68377": {
          "model_module": "@jupyter-widgets/controls",
          "model_name": "DescriptionStyleModel",
          "model_module_version": "1.5.0",
          "state": {
            "_view_name": "StyleView",
            "_model_name": "DescriptionStyleModel",
            "description_width": "",
            "_view_module": "@jupyter-widgets/base",
            "_model_module_version": "1.5.0",
            "_view_count": null,
            "_view_module_version": "1.2.0",
            "_model_module": "@jupyter-widgets/controls"
          }
        },
        "7fdf9ac80e4146cfba4cc3805a53cd4d": {
          "model_module": "@jupyter-widgets/base",
          "model_name": "LayoutModel",
          "model_module_version": "1.2.0",
          "state": {
            "_view_name": "LayoutView",
            "grid_template_rows": null,
            "right": null,
            "justify_content": null,
            "_view_module": "@jupyter-widgets/base",
            "overflow": null,
            "_model_module_version": "1.2.0",
            "_view_count": null,
            "flex_flow": null,
            "width": null,
            "min_width": null,
            "border": null,
            "align_items": null,
            "bottom": null,
            "_model_module": "@jupyter-widgets/base",
            "top": null,
            "grid_column": null,
            "overflow_y": null,
            "overflow_x": null,
            "grid_auto_flow": null,
            "grid_area": null,
            "grid_template_columns": null,
            "flex": null,
            "_model_name": "LayoutModel",
            "justify_items": null,
            "grid_row": null,
            "max_height": null,
            "align_content": null,
            "visibility": null,
            "align_self": null,
            "height": null,
            "min_height": null,
            "padding": null,
            "grid_auto_rows": null,
            "grid_gap": null,
            "max_width": null,
            "order": null,
            "_view_module_version": "1.2.0",
            "grid_template_areas": null,
            "object_position": null,
            "object_fit": null,
            "grid_auto_columns": null,
            "margin": null,
            "display": null,
            "left": null
          }
        },
        "0cd8b6e18f0d4977bc5cb260f2aed828": {
          "model_module": "@jupyter-widgets/controls",
          "model_name": "ProgressStyleModel",
          "model_module_version": "1.5.0",
          "state": {
            "_view_name": "StyleView",
            "_model_name": "ProgressStyleModel",
            "description_width": "",
            "_view_module": "@jupyter-widgets/base",
            "_model_module_version": "1.5.0",
            "_view_count": null,
            "_view_module_version": "1.2.0",
            "bar_color": null,
            "_model_module": "@jupyter-widgets/controls"
          }
        },
        "5305289cbaca40c1b10005e5a0a9e676": {
          "model_module": "@jupyter-widgets/base",
          "model_name": "LayoutModel",
          "model_module_version": "1.2.0",
          "state": {
            "_view_name": "LayoutView",
            "grid_template_rows": null,
            "right": null,
            "justify_content": null,
            "_view_module": "@jupyter-widgets/base",
            "overflow": null,
            "_model_module_version": "1.2.0",
            "_view_count": null,
            "flex_flow": null,
            "width": null,
            "min_width": null,
            "border": null,
            "align_items": null,
            "bottom": null,
            "_model_module": "@jupyter-widgets/base",
            "top": null,
            "grid_column": null,
            "overflow_y": null,
            "overflow_x": null,
            "grid_auto_flow": null,
            "grid_area": null,
            "grid_template_columns": null,
            "flex": null,
            "_model_name": "LayoutModel",
            "justify_items": null,
            "grid_row": null,
            "max_height": null,
            "align_content": null,
            "visibility": null,
            "align_self": null,
            "height": null,
            "min_height": null,
            "padding": null,
            "grid_auto_rows": null,
            "grid_gap": null,
            "max_width": null,
            "order": null,
            "_view_module_version": "1.2.0",
            "grid_template_areas": null,
            "object_position": null,
            "object_fit": null,
            "grid_auto_columns": null,
            "margin": null,
            "display": null,
            "left": null
          }
        },
        "467105aef24c413a83d1a0bf20acdac2": {
          "model_module": "@jupyter-widgets/controls",
          "model_name": "VBoxModel",
          "model_module_version": "1.5.0",
          "state": {
            "_view_name": "VBoxView",
            "_dom_classes": [],
            "_model_name": "VBoxModel",
            "_view_module": "@jupyter-widgets/controls",
            "_model_module_version": "1.5.0",
            "_view_count": null,
            "_view_module_version": "1.5.0",
            "box_style": "",
            "layout": "IPY_MODEL_8179d5893b834a54913fcc76bad8dcf1",
            "_model_module": "@jupyter-widgets/controls",
            "children": [
              "IPY_MODEL_f4894576463a4560af05e0829fa54f59",
              "IPY_MODEL_c7222aa95b4d4f09aca8226e525f0352"
            ]
          }
        },
        "8179d5893b834a54913fcc76bad8dcf1": {
          "model_module": "@jupyter-widgets/base",
          "model_name": "LayoutModel",
          "model_module_version": "1.2.0",
          "state": {
            "_view_name": "LayoutView",
            "grid_template_rows": null,
            "right": null,
            "justify_content": null,
            "_view_module": "@jupyter-widgets/base",
            "overflow": null,
            "_model_module_version": "1.2.0",
            "_view_count": null,
            "flex_flow": null,
            "width": null,
            "min_width": null,
            "border": null,
            "align_items": null,
            "bottom": null,
            "_model_module": "@jupyter-widgets/base",
            "top": null,
            "grid_column": null,
            "overflow_y": null,
            "overflow_x": null,
            "grid_auto_flow": null,
            "grid_area": null,
            "grid_template_columns": null,
            "flex": null,
            "_model_name": "LayoutModel",
            "justify_items": null,
            "grid_row": null,
            "max_height": null,
            "align_content": null,
            "visibility": null,
            "align_self": null,
            "height": null,
            "min_height": null,
            "padding": null,
            "grid_auto_rows": null,
            "grid_gap": null,
            "max_width": null,
            "order": null,
            "_view_module_version": "1.2.0",
            "grid_template_areas": null,
            "object_position": null,
            "object_fit": null,
            "grid_auto_columns": null,
            "margin": null,
            "display": null,
            "left": null
          }
        },
        "f4894576463a4560af05e0829fa54f59": {
          "model_module": "@jupyter-widgets/controls",
          "model_name": "LabelModel",
          "model_module_version": "1.5.0",
          "state": {
            "_view_name": "LabelView",
            "style": "IPY_MODEL_68a5a723fdee4824a743b830b3bbc240",
            "_dom_classes": [],
            "description": "",
            "_model_name": "LabelModel",
            "placeholder": "​",
            "_view_module": "@jupyter-widgets/controls",
            "_model_module_version": "1.5.0",
            "value": " 0.01MB of 0.01MB uploaded (0.00MB deduped)\r",
            "_view_count": null,
            "_view_module_version": "1.5.0",
            "description_tooltip": null,
            "_model_module": "@jupyter-widgets/controls",
            "layout": "IPY_MODEL_ed3c1b0ee0644ca083224b2d323dc78f"
          }
        },
        "c7222aa95b4d4f09aca8226e525f0352": {
          "model_module": "@jupyter-widgets/controls",
          "model_name": "FloatProgressModel",
          "model_module_version": "1.5.0",
          "state": {
            "_view_name": "ProgressView",
            "style": "IPY_MODEL_bfdb18b8bdc44adb9a70904189665aea",
            "_dom_classes": [],
            "description": "",
            "_model_name": "FloatProgressModel",
            "bar_style": "",
            "max": 1,
            "_view_module": "@jupyter-widgets/controls",
            "_model_module_version": "1.5.0",
            "value": 1,
            "_view_count": null,
            "_view_module_version": "1.5.0",
            "orientation": "horizontal",
            "min": 0,
            "description_tooltip": null,
            "_model_module": "@jupyter-widgets/controls",
            "layout": "IPY_MODEL_d7b31cfe126741babd3cf39056ae3822"
          }
        },
        "68a5a723fdee4824a743b830b3bbc240": {
          "model_module": "@jupyter-widgets/controls",
          "model_name": "DescriptionStyleModel",
          "model_module_version": "1.5.0",
          "state": {
            "_view_name": "StyleView",
            "_model_name": "DescriptionStyleModel",
            "description_width": "",
            "_view_module": "@jupyter-widgets/base",
            "_model_module_version": "1.5.0",
            "_view_count": null,
            "_view_module_version": "1.2.0",
            "_model_module": "@jupyter-widgets/controls"
          }
        },
        "ed3c1b0ee0644ca083224b2d323dc78f": {
          "model_module": "@jupyter-widgets/base",
          "model_name": "LayoutModel",
          "model_module_version": "1.2.0",
          "state": {
            "_view_name": "LayoutView",
            "grid_template_rows": null,
            "right": null,
            "justify_content": null,
            "_view_module": "@jupyter-widgets/base",
            "overflow": null,
            "_model_module_version": "1.2.0",
            "_view_count": null,
            "flex_flow": null,
            "width": null,
            "min_width": null,
            "border": null,
            "align_items": null,
            "bottom": null,
            "_model_module": "@jupyter-widgets/base",
            "top": null,
            "grid_column": null,
            "overflow_y": null,
            "overflow_x": null,
            "grid_auto_flow": null,
            "grid_area": null,
            "grid_template_columns": null,
            "flex": null,
            "_model_name": "LayoutModel",
            "justify_items": null,
            "grid_row": null,
            "max_height": null,
            "align_content": null,
            "visibility": null,
            "align_self": null,
            "height": null,
            "min_height": null,
            "padding": null,
            "grid_auto_rows": null,
            "grid_gap": null,
            "max_width": null,
            "order": null,
            "_view_module_version": "1.2.0",
            "grid_template_areas": null,
            "object_position": null,
            "object_fit": null,
            "grid_auto_columns": null,
            "margin": null,
            "display": null,
            "left": null
          }
        },
        "bfdb18b8bdc44adb9a70904189665aea": {
          "model_module": "@jupyter-widgets/controls",
          "model_name": "ProgressStyleModel",
          "model_module_version": "1.5.0",
          "state": {
            "_view_name": "StyleView",
            "_model_name": "ProgressStyleModel",
            "description_width": "",
            "_view_module": "@jupyter-widgets/base",
            "_model_module_version": "1.5.0",
            "_view_count": null,
            "_view_module_version": "1.2.0",
            "bar_color": null,
            "_model_module": "@jupyter-widgets/controls"
          }
        },
        "d7b31cfe126741babd3cf39056ae3822": {
          "model_module": "@jupyter-widgets/base",
          "model_name": "LayoutModel",
          "model_module_version": "1.2.0",
          "state": {
            "_view_name": "LayoutView",
            "grid_template_rows": null,
            "right": null,
            "justify_content": null,
            "_view_module": "@jupyter-widgets/base",
            "overflow": null,
            "_model_module_version": "1.2.0",
            "_view_count": null,
            "flex_flow": null,
            "width": null,
            "min_width": null,
            "border": null,
            "align_items": null,
            "bottom": null,
            "_model_module": "@jupyter-widgets/base",
            "top": null,
            "grid_column": null,
            "overflow_y": null,
            "overflow_x": null,
            "grid_auto_flow": null,
            "grid_area": null,
            "grid_template_columns": null,
            "flex": null,
            "_model_name": "LayoutModel",
            "justify_items": null,
            "grid_row": null,
            "max_height": null,
            "align_content": null,
            "visibility": null,
            "align_self": null,
            "height": null,
            "min_height": null,
            "padding": null,
            "grid_auto_rows": null,
            "grid_gap": null,
            "max_width": null,
            "order": null,
            "_view_module_version": "1.2.0",
            "grid_template_areas": null,
            "object_position": null,
            "object_fit": null,
            "grid_auto_columns": null,
            "margin": null,
            "display": null,
            "left": null
          }
        },
        "1b2c1afbece04dc69210a0e9861cb2a2": {
          "model_module": "@jupyter-widgets/controls",
          "model_name": "VBoxModel",
          "model_module_version": "1.5.0",
          "state": {
            "_view_name": "VBoxView",
            "_dom_classes": [],
            "_model_name": "VBoxModel",
            "_view_module": "@jupyter-widgets/controls",
            "_model_module_version": "1.5.0",
            "_view_count": null,
            "_view_module_version": "1.5.0",
            "box_style": "",
            "layout": "IPY_MODEL_f829c2ce3bb0414b80f81021318dc7b3",
            "_model_module": "@jupyter-widgets/controls",
            "children": [
              "IPY_MODEL_fa1d48ac8e4343ad9bce8e1a3e116c71",
              "IPY_MODEL_16be7734b27b4253b83d8ece77375b2f"
            ]
          }
        },
        "f829c2ce3bb0414b80f81021318dc7b3": {
          "model_module": "@jupyter-widgets/base",
          "model_name": "LayoutModel",
          "model_module_version": "1.2.0",
          "state": {
            "_view_name": "LayoutView",
            "grid_template_rows": null,
            "right": null,
            "justify_content": null,
            "_view_module": "@jupyter-widgets/base",
            "overflow": null,
            "_model_module_version": "1.2.0",
            "_view_count": null,
            "flex_flow": null,
            "width": null,
            "min_width": null,
            "border": null,
            "align_items": null,
            "bottom": null,
            "_model_module": "@jupyter-widgets/base",
            "top": null,
            "grid_column": null,
            "overflow_y": null,
            "overflow_x": null,
            "grid_auto_flow": null,
            "grid_area": null,
            "grid_template_columns": null,
            "flex": null,
            "_model_name": "LayoutModel",
            "justify_items": null,
            "grid_row": null,
            "max_height": null,
            "align_content": null,
            "visibility": null,
            "align_self": null,
            "height": null,
            "min_height": null,
            "padding": null,
            "grid_auto_rows": null,
            "grid_gap": null,
            "max_width": null,
            "order": null,
            "_view_module_version": "1.2.0",
            "grid_template_areas": null,
            "object_position": null,
            "object_fit": null,
            "grid_auto_columns": null,
            "margin": null,
            "display": null,
            "left": null
          }
        },
        "fa1d48ac8e4343ad9bce8e1a3e116c71": {
          "model_module": "@jupyter-widgets/controls",
          "model_name": "LabelModel",
          "model_module_version": "1.5.0",
          "state": {
            "_view_name": "LabelView",
            "style": "IPY_MODEL_f5e319cc0a49420d80c0f305f78e0e45",
            "_dom_classes": [],
            "description": "",
            "_model_name": "LabelModel",
            "placeholder": "​",
            "_view_module": "@jupyter-widgets/controls",
            "_model_module_version": "1.5.0",
            "value": " 0.01MB of 0.01MB uploaded (0.00MB deduped)\r",
            "_view_count": null,
            "_view_module_version": "1.5.0",
            "description_tooltip": null,
            "_model_module": "@jupyter-widgets/controls",
            "layout": "IPY_MODEL_0bbaeb8780d6411d824215aa188da433"
          }
        },
        "16be7734b27b4253b83d8ece77375b2f": {
          "model_module": "@jupyter-widgets/controls",
          "model_name": "FloatProgressModel",
          "model_module_version": "1.5.0",
          "state": {
            "_view_name": "ProgressView",
            "style": "IPY_MODEL_3fcdf2dfbc7844c585f984e6b9dc1dca",
            "_dom_classes": [],
            "description": "",
            "_model_name": "FloatProgressModel",
            "bar_style": "",
            "max": 1,
            "_view_module": "@jupyter-widgets/controls",
            "_model_module_version": "1.5.0",
            "value": 1,
            "_view_count": null,
            "_view_module_version": "1.5.0",
            "orientation": "horizontal",
            "min": 0,
            "description_tooltip": null,
            "_model_module": "@jupyter-widgets/controls",
            "layout": "IPY_MODEL_45eb3d6e08c44ed0a3dcb009118c572d"
          }
        },
        "f5e319cc0a49420d80c0f305f78e0e45": {
          "model_module": "@jupyter-widgets/controls",
          "model_name": "DescriptionStyleModel",
          "model_module_version": "1.5.0",
          "state": {
            "_view_name": "StyleView",
            "_model_name": "DescriptionStyleModel",
            "description_width": "",
            "_view_module": "@jupyter-widgets/base",
            "_model_module_version": "1.5.0",
            "_view_count": null,
            "_view_module_version": "1.2.0",
            "_model_module": "@jupyter-widgets/controls"
          }
        },
        "0bbaeb8780d6411d824215aa188da433": {
          "model_module": "@jupyter-widgets/base",
          "model_name": "LayoutModel",
          "model_module_version": "1.2.0",
          "state": {
            "_view_name": "LayoutView",
            "grid_template_rows": null,
            "right": null,
            "justify_content": null,
            "_view_module": "@jupyter-widgets/base",
            "overflow": null,
            "_model_module_version": "1.2.0",
            "_view_count": null,
            "flex_flow": null,
            "width": null,
            "min_width": null,
            "border": null,
            "align_items": null,
            "bottom": null,
            "_model_module": "@jupyter-widgets/base",
            "top": null,
            "grid_column": null,
            "overflow_y": null,
            "overflow_x": null,
            "grid_auto_flow": null,
            "grid_area": null,
            "grid_template_columns": null,
            "flex": null,
            "_model_name": "LayoutModel",
            "justify_items": null,
            "grid_row": null,
            "max_height": null,
            "align_content": null,
            "visibility": null,
            "align_self": null,
            "height": null,
            "min_height": null,
            "padding": null,
            "grid_auto_rows": null,
            "grid_gap": null,
            "max_width": null,
            "order": null,
            "_view_module_version": "1.2.0",
            "grid_template_areas": null,
            "object_position": null,
            "object_fit": null,
            "grid_auto_columns": null,
            "margin": null,
            "display": null,
            "left": null
          }
        },
        "3fcdf2dfbc7844c585f984e6b9dc1dca": {
          "model_module": "@jupyter-widgets/controls",
          "model_name": "ProgressStyleModel",
          "model_module_version": "1.5.0",
          "state": {
            "_view_name": "StyleView",
            "_model_name": "ProgressStyleModel",
            "description_width": "",
            "_view_module": "@jupyter-widgets/base",
            "_model_module_version": "1.5.0",
            "_view_count": null,
            "_view_module_version": "1.2.0",
            "bar_color": null,
            "_model_module": "@jupyter-widgets/controls"
          }
        },
        "45eb3d6e08c44ed0a3dcb009118c572d": {
          "model_module": "@jupyter-widgets/base",
          "model_name": "LayoutModel",
          "model_module_version": "1.2.0",
          "state": {
            "_view_name": "LayoutView",
            "grid_template_rows": null,
            "right": null,
            "justify_content": null,
            "_view_module": "@jupyter-widgets/base",
            "overflow": null,
            "_model_module_version": "1.2.0",
            "_view_count": null,
            "flex_flow": null,
            "width": null,
            "min_width": null,
            "border": null,
            "align_items": null,
            "bottom": null,
            "_model_module": "@jupyter-widgets/base",
            "top": null,
            "grid_column": null,
            "overflow_y": null,
            "overflow_x": null,
            "grid_auto_flow": null,
            "grid_area": null,
            "grid_template_columns": null,
            "flex": null,
            "_model_name": "LayoutModel",
            "justify_items": null,
            "grid_row": null,
            "max_height": null,
            "align_content": null,
            "visibility": null,
            "align_self": null,
            "height": null,
            "min_height": null,
            "padding": null,
            "grid_auto_rows": null,
            "grid_gap": null,
            "max_width": null,
            "order": null,
            "_view_module_version": "1.2.0",
            "grid_template_areas": null,
            "object_position": null,
            "object_fit": null,
            "grid_auto_columns": null,
            "margin": null,
            "display": null,
            "left": null
          }
        },
        "4a8c3013fafb4bf686e2dd80dd73ca5b": {
          "model_module": "@jupyter-widgets/controls",
          "model_name": "VBoxModel",
          "model_module_version": "1.5.0",
          "state": {
            "_view_name": "VBoxView",
            "_dom_classes": [],
            "_model_name": "VBoxModel",
            "_view_module": "@jupyter-widgets/controls",
            "_model_module_version": "1.5.0",
            "_view_count": null,
            "_view_module_version": "1.5.0",
            "box_style": "",
            "layout": "IPY_MODEL_4e79829771b64fb58f8dc8ca4ba01701",
            "_model_module": "@jupyter-widgets/controls",
            "children": [
              "IPY_MODEL_2558e188b1cd4ba895ddaf7c211a68ac",
              "IPY_MODEL_3e790389527c4abca4fb246e52ad4f64"
            ]
          }
        },
        "4e79829771b64fb58f8dc8ca4ba01701": {
          "model_module": "@jupyter-widgets/base",
          "model_name": "LayoutModel",
          "model_module_version": "1.2.0",
          "state": {
            "_view_name": "LayoutView",
            "grid_template_rows": null,
            "right": null,
            "justify_content": null,
            "_view_module": "@jupyter-widgets/base",
            "overflow": null,
            "_model_module_version": "1.2.0",
            "_view_count": null,
            "flex_flow": null,
            "width": null,
            "min_width": null,
            "border": null,
            "align_items": null,
            "bottom": null,
            "_model_module": "@jupyter-widgets/base",
            "top": null,
            "grid_column": null,
            "overflow_y": null,
            "overflow_x": null,
            "grid_auto_flow": null,
            "grid_area": null,
            "grid_template_columns": null,
            "flex": null,
            "_model_name": "LayoutModel",
            "justify_items": null,
            "grid_row": null,
            "max_height": null,
            "align_content": null,
            "visibility": null,
            "align_self": null,
            "height": null,
            "min_height": null,
            "padding": null,
            "grid_auto_rows": null,
            "grid_gap": null,
            "max_width": null,
            "order": null,
            "_view_module_version": "1.2.0",
            "grid_template_areas": null,
            "object_position": null,
            "object_fit": null,
            "grid_auto_columns": null,
            "margin": null,
            "display": null,
            "left": null
          }
        },
        "2558e188b1cd4ba895ddaf7c211a68ac": {
          "model_module": "@jupyter-widgets/controls",
          "model_name": "LabelModel",
          "model_module_version": "1.5.0",
          "state": {
            "_view_name": "LabelView",
            "style": "IPY_MODEL_26068e6e2ab14ea39b8bc9254617882c",
            "_dom_classes": [],
            "description": "",
            "_model_name": "LabelModel",
            "placeholder": "​",
            "_view_module": "@jupyter-widgets/controls",
            "_model_module_version": "1.5.0",
            "value": " 0.01MB of 0.01MB uploaded (0.00MB deduped)\r",
            "_view_count": null,
            "_view_module_version": "1.5.0",
            "description_tooltip": null,
            "_model_module": "@jupyter-widgets/controls",
            "layout": "IPY_MODEL_9129037c5f414343bf696494e3082c2e"
          }
        },
        "3e790389527c4abca4fb246e52ad4f64": {
          "model_module": "@jupyter-widgets/controls",
          "model_name": "FloatProgressModel",
          "model_module_version": "1.5.0",
          "state": {
            "_view_name": "ProgressView",
            "style": "IPY_MODEL_2ab82fb816fb465b87cac593b309e4b5",
            "_dom_classes": [],
            "description": "",
            "_model_name": "FloatProgressModel",
            "bar_style": "",
            "max": 1,
            "_view_module": "@jupyter-widgets/controls",
            "_model_module_version": "1.5.0",
            "value": 1,
            "_view_count": null,
            "_view_module_version": "1.5.0",
            "orientation": "horizontal",
            "min": 0,
            "description_tooltip": null,
            "_model_module": "@jupyter-widgets/controls",
            "layout": "IPY_MODEL_19ee71fd73784fbfb75904c02e0ec437"
          }
        },
        "26068e6e2ab14ea39b8bc9254617882c": {
          "model_module": "@jupyter-widgets/controls",
          "model_name": "DescriptionStyleModel",
          "model_module_version": "1.5.0",
          "state": {
            "_view_name": "StyleView",
            "_model_name": "DescriptionStyleModel",
            "description_width": "",
            "_view_module": "@jupyter-widgets/base",
            "_model_module_version": "1.5.0",
            "_view_count": null,
            "_view_module_version": "1.2.0",
            "_model_module": "@jupyter-widgets/controls"
          }
        },
        "9129037c5f414343bf696494e3082c2e": {
          "model_module": "@jupyter-widgets/base",
          "model_name": "LayoutModel",
          "model_module_version": "1.2.0",
          "state": {
            "_view_name": "LayoutView",
            "grid_template_rows": null,
            "right": null,
            "justify_content": null,
            "_view_module": "@jupyter-widgets/base",
            "overflow": null,
            "_model_module_version": "1.2.0",
            "_view_count": null,
            "flex_flow": null,
            "width": null,
            "min_width": null,
            "border": null,
            "align_items": null,
            "bottom": null,
            "_model_module": "@jupyter-widgets/base",
            "top": null,
            "grid_column": null,
            "overflow_y": null,
            "overflow_x": null,
            "grid_auto_flow": null,
            "grid_area": null,
            "grid_template_columns": null,
            "flex": null,
            "_model_name": "LayoutModel",
            "justify_items": null,
            "grid_row": null,
            "max_height": null,
            "align_content": null,
            "visibility": null,
            "align_self": null,
            "height": null,
            "min_height": null,
            "padding": null,
            "grid_auto_rows": null,
            "grid_gap": null,
            "max_width": null,
            "order": null,
            "_view_module_version": "1.2.0",
            "grid_template_areas": null,
            "object_position": null,
            "object_fit": null,
            "grid_auto_columns": null,
            "margin": null,
            "display": null,
            "left": null
          }
        },
        "2ab82fb816fb465b87cac593b309e4b5": {
          "model_module": "@jupyter-widgets/controls",
          "model_name": "ProgressStyleModel",
          "model_module_version": "1.5.0",
          "state": {
            "_view_name": "StyleView",
            "_model_name": "ProgressStyleModel",
            "description_width": "",
            "_view_module": "@jupyter-widgets/base",
            "_model_module_version": "1.5.0",
            "_view_count": null,
            "_view_module_version": "1.2.0",
            "bar_color": null,
            "_model_module": "@jupyter-widgets/controls"
          }
        },
        "19ee71fd73784fbfb75904c02e0ec437": {
          "model_module": "@jupyter-widgets/base",
          "model_name": "LayoutModel",
          "model_module_version": "1.2.0",
          "state": {
            "_view_name": "LayoutView",
            "grid_template_rows": null,
            "right": null,
            "justify_content": null,
            "_view_module": "@jupyter-widgets/base",
            "overflow": null,
            "_model_module_version": "1.2.0",
            "_view_count": null,
            "flex_flow": null,
            "width": null,
            "min_width": null,
            "border": null,
            "align_items": null,
            "bottom": null,
            "_model_module": "@jupyter-widgets/base",
            "top": null,
            "grid_column": null,
            "overflow_y": null,
            "overflow_x": null,
            "grid_auto_flow": null,
            "grid_area": null,
            "grid_template_columns": null,
            "flex": null,
            "_model_name": "LayoutModel",
            "justify_items": null,
            "grid_row": null,
            "max_height": null,
            "align_content": null,
            "visibility": null,
            "align_self": null,
            "height": null,
            "min_height": null,
            "padding": null,
            "grid_auto_rows": null,
            "grid_gap": null,
            "max_width": null,
            "order": null,
            "_view_module_version": "1.2.0",
            "grid_template_areas": null,
            "object_position": null,
            "object_fit": null,
            "grid_auto_columns": null,
            "margin": null,
            "display": null,
            "left": null
          }
        },
        "a67994d94969471e8108dd56f156bca3": {
          "model_module": "@jupyter-widgets/controls",
          "model_name": "VBoxModel",
          "model_module_version": "1.5.0",
          "state": {
            "_view_name": "VBoxView",
            "_dom_classes": [],
            "_model_name": "VBoxModel",
            "_view_module": "@jupyter-widgets/controls",
            "_model_module_version": "1.5.0",
            "_view_count": null,
            "_view_module_version": "1.5.0",
            "box_style": "",
            "layout": "IPY_MODEL_18589921fb7843a2bc63a5d6da943def",
            "_model_module": "@jupyter-widgets/controls",
            "children": [
              "IPY_MODEL_88613174c685476d96aa16ef60945db9",
              "IPY_MODEL_51bbd38bf6e543a1ba84e2c8d13d372c"
            ]
          }
        },
        "18589921fb7843a2bc63a5d6da943def": {
          "model_module": "@jupyter-widgets/base",
          "model_name": "LayoutModel",
          "model_module_version": "1.2.0",
          "state": {
            "_view_name": "LayoutView",
            "grid_template_rows": null,
            "right": null,
            "justify_content": null,
            "_view_module": "@jupyter-widgets/base",
            "overflow": null,
            "_model_module_version": "1.2.0",
            "_view_count": null,
            "flex_flow": null,
            "width": null,
            "min_width": null,
            "border": null,
            "align_items": null,
            "bottom": null,
            "_model_module": "@jupyter-widgets/base",
            "top": null,
            "grid_column": null,
            "overflow_y": null,
            "overflow_x": null,
            "grid_auto_flow": null,
            "grid_area": null,
            "grid_template_columns": null,
            "flex": null,
            "_model_name": "LayoutModel",
            "justify_items": null,
            "grid_row": null,
            "max_height": null,
            "align_content": null,
            "visibility": null,
            "align_self": null,
            "height": null,
            "min_height": null,
            "padding": null,
            "grid_auto_rows": null,
            "grid_gap": null,
            "max_width": null,
            "order": null,
            "_view_module_version": "1.2.0",
            "grid_template_areas": null,
            "object_position": null,
            "object_fit": null,
            "grid_auto_columns": null,
            "margin": null,
            "display": null,
            "left": null
          }
        },
        "88613174c685476d96aa16ef60945db9": {
          "model_module": "@jupyter-widgets/controls",
          "model_name": "LabelModel",
          "model_module_version": "1.5.0",
          "state": {
            "_view_name": "LabelView",
            "style": "IPY_MODEL_a5bca07b177942a08b0badd3243ba4ad",
            "_dom_classes": [],
            "description": "",
            "_model_name": "LabelModel",
            "placeholder": "​",
            "_view_module": "@jupyter-widgets/controls",
            "_model_module_version": "1.5.0",
            "value": " 0.01MB of 0.01MB uploaded (0.00MB deduped)\r",
            "_view_count": null,
            "_view_module_version": "1.5.0",
            "description_tooltip": null,
            "_model_module": "@jupyter-widgets/controls",
            "layout": "IPY_MODEL_3cfb81031bf240df9814eb54741b9b7a"
          }
        },
        "51bbd38bf6e543a1ba84e2c8d13d372c": {
          "model_module": "@jupyter-widgets/controls",
          "model_name": "FloatProgressModel",
          "model_module_version": "1.5.0",
          "state": {
            "_view_name": "ProgressView",
            "style": "IPY_MODEL_62d712ecbdb845edbb122ffe41dcad11",
            "_dom_classes": [],
            "description": "",
            "_model_name": "FloatProgressModel",
            "bar_style": "",
            "max": 1,
            "_view_module": "@jupyter-widgets/controls",
            "_model_module_version": "1.5.0",
            "value": 1,
            "_view_count": null,
            "_view_module_version": "1.5.0",
            "orientation": "horizontal",
            "min": 0,
            "description_tooltip": null,
            "_model_module": "@jupyter-widgets/controls",
            "layout": "IPY_MODEL_36d6449008da47219def719353fc916d"
          }
        },
        "a5bca07b177942a08b0badd3243ba4ad": {
          "model_module": "@jupyter-widgets/controls",
          "model_name": "DescriptionStyleModel",
          "model_module_version": "1.5.0",
          "state": {
            "_view_name": "StyleView",
            "_model_name": "DescriptionStyleModel",
            "description_width": "",
            "_view_module": "@jupyter-widgets/base",
            "_model_module_version": "1.5.0",
            "_view_count": null,
            "_view_module_version": "1.2.0",
            "_model_module": "@jupyter-widgets/controls"
          }
        },
        "3cfb81031bf240df9814eb54741b9b7a": {
          "model_module": "@jupyter-widgets/base",
          "model_name": "LayoutModel",
          "model_module_version": "1.2.0",
          "state": {
            "_view_name": "LayoutView",
            "grid_template_rows": null,
            "right": null,
            "justify_content": null,
            "_view_module": "@jupyter-widgets/base",
            "overflow": null,
            "_model_module_version": "1.2.0",
            "_view_count": null,
            "flex_flow": null,
            "width": null,
            "min_width": null,
            "border": null,
            "align_items": null,
            "bottom": null,
            "_model_module": "@jupyter-widgets/base",
            "top": null,
            "grid_column": null,
            "overflow_y": null,
            "overflow_x": null,
            "grid_auto_flow": null,
            "grid_area": null,
            "grid_template_columns": null,
            "flex": null,
            "_model_name": "LayoutModel",
            "justify_items": null,
            "grid_row": null,
            "max_height": null,
            "align_content": null,
            "visibility": null,
            "align_self": null,
            "height": null,
            "min_height": null,
            "padding": null,
            "grid_auto_rows": null,
            "grid_gap": null,
            "max_width": null,
            "order": null,
            "_view_module_version": "1.2.0",
            "grid_template_areas": null,
            "object_position": null,
            "object_fit": null,
            "grid_auto_columns": null,
            "margin": null,
            "display": null,
            "left": null
          }
        },
        "62d712ecbdb845edbb122ffe41dcad11": {
          "model_module": "@jupyter-widgets/controls",
          "model_name": "ProgressStyleModel",
          "model_module_version": "1.5.0",
          "state": {
            "_view_name": "StyleView",
            "_model_name": "ProgressStyleModel",
            "description_width": "",
            "_view_module": "@jupyter-widgets/base",
            "_model_module_version": "1.5.0",
            "_view_count": null,
            "_view_module_version": "1.2.0",
            "bar_color": null,
            "_model_module": "@jupyter-widgets/controls"
          }
        },
        "36d6449008da47219def719353fc916d": {
          "model_module": "@jupyter-widgets/base",
          "model_name": "LayoutModel",
          "model_module_version": "1.2.0",
          "state": {
            "_view_name": "LayoutView",
            "grid_template_rows": null,
            "right": null,
            "justify_content": null,
            "_view_module": "@jupyter-widgets/base",
            "overflow": null,
            "_model_module_version": "1.2.0",
            "_view_count": null,
            "flex_flow": null,
            "width": null,
            "min_width": null,
            "border": null,
            "align_items": null,
            "bottom": null,
            "_model_module": "@jupyter-widgets/base",
            "top": null,
            "grid_column": null,
            "overflow_y": null,
            "overflow_x": null,
            "grid_auto_flow": null,
            "grid_area": null,
            "grid_template_columns": null,
            "flex": null,
            "_model_name": "LayoutModel",
            "justify_items": null,
            "grid_row": null,
            "max_height": null,
            "align_content": null,
            "visibility": null,
            "align_self": null,
            "height": null,
            "min_height": null,
            "padding": null,
            "grid_auto_rows": null,
            "grid_gap": null,
            "max_width": null,
            "order": null,
            "_view_module_version": "1.2.0",
            "grid_template_areas": null,
            "object_position": null,
            "object_fit": null,
            "grid_auto_columns": null,
            "margin": null,
            "display": null,
            "left": null
          }
        },
        "b23a097efb064063811d55dfc0f56a52": {
          "model_module": "@jupyter-widgets/controls",
          "model_name": "VBoxModel",
          "model_module_version": "1.5.0",
          "state": {
            "_view_name": "VBoxView",
            "_dom_classes": [],
            "_model_name": "VBoxModel",
            "_view_module": "@jupyter-widgets/controls",
            "_model_module_version": "1.5.0",
            "_view_count": null,
            "_view_module_version": "1.5.0",
            "box_style": "",
            "layout": "IPY_MODEL_31a5cc4551954d439cdff2dd361580f4",
            "_model_module": "@jupyter-widgets/controls",
            "children": [
              "IPY_MODEL_811bebdd1c0a4ffaa6f6853751497882",
              "IPY_MODEL_863f70dbb6114d06a6a4b784440045a8"
            ]
          }
        },
        "31a5cc4551954d439cdff2dd361580f4": {
          "model_module": "@jupyter-widgets/base",
          "model_name": "LayoutModel",
          "model_module_version": "1.2.0",
          "state": {
            "_view_name": "LayoutView",
            "grid_template_rows": null,
            "right": null,
            "justify_content": null,
            "_view_module": "@jupyter-widgets/base",
            "overflow": null,
            "_model_module_version": "1.2.0",
            "_view_count": null,
            "flex_flow": null,
            "width": null,
            "min_width": null,
            "border": null,
            "align_items": null,
            "bottom": null,
            "_model_module": "@jupyter-widgets/base",
            "top": null,
            "grid_column": null,
            "overflow_y": null,
            "overflow_x": null,
            "grid_auto_flow": null,
            "grid_area": null,
            "grid_template_columns": null,
            "flex": null,
            "_model_name": "LayoutModel",
            "justify_items": null,
            "grid_row": null,
            "max_height": null,
            "align_content": null,
            "visibility": null,
            "align_self": null,
            "height": null,
            "min_height": null,
            "padding": null,
            "grid_auto_rows": null,
            "grid_gap": null,
            "max_width": null,
            "order": null,
            "_view_module_version": "1.2.0",
            "grid_template_areas": null,
            "object_position": null,
            "object_fit": null,
            "grid_auto_columns": null,
            "margin": null,
            "display": null,
            "left": null
          }
        },
        "811bebdd1c0a4ffaa6f6853751497882": {
          "model_module": "@jupyter-widgets/controls",
          "model_name": "LabelModel",
          "model_module_version": "1.5.0",
          "state": {
            "_view_name": "LabelView",
            "style": "IPY_MODEL_0ef006e1ee6141a6bd8fd9739cd35baf",
            "_dom_classes": [],
            "description": "",
            "_model_name": "LabelModel",
            "placeholder": "​",
            "_view_module": "@jupyter-widgets/controls",
            "_model_module_version": "1.5.0",
            "value": " 0.01MB of 0.01MB uploaded (0.00MB deduped)\r",
            "_view_count": null,
            "_view_module_version": "1.5.0",
            "description_tooltip": null,
            "_model_module": "@jupyter-widgets/controls",
            "layout": "IPY_MODEL_9b56cfd783bb450399fc0f4cd5b5ab32"
          }
        },
        "863f70dbb6114d06a6a4b784440045a8": {
          "model_module": "@jupyter-widgets/controls",
          "model_name": "FloatProgressModel",
          "model_module_version": "1.5.0",
          "state": {
            "_view_name": "ProgressView",
            "style": "IPY_MODEL_51c98b35659b4138b29c5b1bc01cd00a",
            "_dom_classes": [],
            "description": "",
            "_model_name": "FloatProgressModel",
            "bar_style": "",
            "max": 1,
            "_view_module": "@jupyter-widgets/controls",
            "_model_module_version": "1.5.0",
            "value": 1,
            "_view_count": null,
            "_view_module_version": "1.5.0",
            "orientation": "horizontal",
            "min": 0,
            "description_tooltip": null,
            "_model_module": "@jupyter-widgets/controls",
            "layout": "IPY_MODEL_8dbaf925eef14bab83e86cfd012ce547"
          }
        },
        "0ef006e1ee6141a6bd8fd9739cd35baf": {
          "model_module": "@jupyter-widgets/controls",
          "model_name": "DescriptionStyleModel",
          "model_module_version": "1.5.0",
          "state": {
            "_view_name": "StyleView",
            "_model_name": "DescriptionStyleModel",
            "description_width": "",
            "_view_module": "@jupyter-widgets/base",
            "_model_module_version": "1.5.0",
            "_view_count": null,
            "_view_module_version": "1.2.0",
            "_model_module": "@jupyter-widgets/controls"
          }
        },
        "9b56cfd783bb450399fc0f4cd5b5ab32": {
          "model_module": "@jupyter-widgets/base",
          "model_name": "LayoutModel",
          "model_module_version": "1.2.0",
          "state": {
            "_view_name": "LayoutView",
            "grid_template_rows": null,
            "right": null,
            "justify_content": null,
            "_view_module": "@jupyter-widgets/base",
            "overflow": null,
            "_model_module_version": "1.2.0",
            "_view_count": null,
            "flex_flow": null,
            "width": null,
            "min_width": null,
            "border": null,
            "align_items": null,
            "bottom": null,
            "_model_module": "@jupyter-widgets/base",
            "top": null,
            "grid_column": null,
            "overflow_y": null,
            "overflow_x": null,
            "grid_auto_flow": null,
            "grid_area": null,
            "grid_template_columns": null,
            "flex": null,
            "_model_name": "LayoutModel",
            "justify_items": null,
            "grid_row": null,
            "max_height": null,
            "align_content": null,
            "visibility": null,
            "align_self": null,
            "height": null,
            "min_height": null,
            "padding": null,
            "grid_auto_rows": null,
            "grid_gap": null,
            "max_width": null,
            "order": null,
            "_view_module_version": "1.2.0",
            "grid_template_areas": null,
            "object_position": null,
            "object_fit": null,
            "grid_auto_columns": null,
            "margin": null,
            "display": null,
            "left": null
          }
        },
        "51c98b35659b4138b29c5b1bc01cd00a": {
          "model_module": "@jupyter-widgets/controls",
          "model_name": "ProgressStyleModel",
          "model_module_version": "1.5.0",
          "state": {
            "_view_name": "StyleView",
            "_model_name": "ProgressStyleModel",
            "description_width": "",
            "_view_module": "@jupyter-widgets/base",
            "_model_module_version": "1.5.0",
            "_view_count": null,
            "_view_module_version": "1.2.0",
            "bar_color": null,
            "_model_module": "@jupyter-widgets/controls"
          }
        },
        "8dbaf925eef14bab83e86cfd012ce547": {
          "model_module": "@jupyter-widgets/base",
          "model_name": "LayoutModel",
          "model_module_version": "1.2.0",
          "state": {
            "_view_name": "LayoutView",
            "grid_template_rows": null,
            "right": null,
            "justify_content": null,
            "_view_module": "@jupyter-widgets/base",
            "overflow": null,
            "_model_module_version": "1.2.0",
            "_view_count": null,
            "flex_flow": null,
            "width": null,
            "min_width": null,
            "border": null,
            "align_items": null,
            "bottom": null,
            "_model_module": "@jupyter-widgets/base",
            "top": null,
            "grid_column": null,
            "overflow_y": null,
            "overflow_x": null,
            "grid_auto_flow": null,
            "grid_area": null,
            "grid_template_columns": null,
            "flex": null,
            "_model_name": "LayoutModel",
            "justify_items": null,
            "grid_row": null,
            "max_height": null,
            "align_content": null,
            "visibility": null,
            "align_self": null,
            "height": null,
            "min_height": null,
            "padding": null,
            "grid_auto_rows": null,
            "grid_gap": null,
            "max_width": null,
            "order": null,
            "_view_module_version": "1.2.0",
            "grid_template_areas": null,
            "object_position": null,
            "object_fit": null,
            "grid_auto_columns": null,
            "margin": null,
            "display": null,
            "left": null
          }
        },
        "a6849b3d76bf438a9ba63111cbebfa1d": {
          "model_module": "@jupyter-widgets/controls",
          "model_name": "VBoxModel",
          "model_module_version": "1.5.0",
          "state": {
            "_view_name": "VBoxView",
            "_dom_classes": [],
            "_model_name": "VBoxModel",
            "_view_module": "@jupyter-widgets/controls",
            "_model_module_version": "1.5.0",
            "_view_count": null,
            "_view_module_version": "1.5.0",
            "box_style": "",
            "layout": "IPY_MODEL_fdaddc93c0a046d9b83ac85851affe82",
            "_model_module": "@jupyter-widgets/controls",
            "children": [
              "IPY_MODEL_11796c1d56a146079788ac607aaa64a3",
              "IPY_MODEL_1a81852827f347ab96c2aa1999ef3607"
            ]
          }
        },
        "fdaddc93c0a046d9b83ac85851affe82": {
          "model_module": "@jupyter-widgets/base",
          "model_name": "LayoutModel",
          "model_module_version": "1.2.0",
          "state": {
            "_view_name": "LayoutView",
            "grid_template_rows": null,
            "right": null,
            "justify_content": null,
            "_view_module": "@jupyter-widgets/base",
            "overflow": null,
            "_model_module_version": "1.2.0",
            "_view_count": null,
            "flex_flow": null,
            "width": null,
            "min_width": null,
            "border": null,
            "align_items": null,
            "bottom": null,
            "_model_module": "@jupyter-widgets/base",
            "top": null,
            "grid_column": null,
            "overflow_y": null,
            "overflow_x": null,
            "grid_auto_flow": null,
            "grid_area": null,
            "grid_template_columns": null,
            "flex": null,
            "_model_name": "LayoutModel",
            "justify_items": null,
            "grid_row": null,
            "max_height": null,
            "align_content": null,
            "visibility": null,
            "align_self": null,
            "height": null,
            "min_height": null,
            "padding": null,
            "grid_auto_rows": null,
            "grid_gap": null,
            "max_width": null,
            "order": null,
            "_view_module_version": "1.2.0",
            "grid_template_areas": null,
            "object_position": null,
            "object_fit": null,
            "grid_auto_columns": null,
            "margin": null,
            "display": null,
            "left": null
          }
        },
        "11796c1d56a146079788ac607aaa64a3": {
          "model_module": "@jupyter-widgets/controls",
          "model_name": "LabelModel",
          "model_module_version": "1.5.0",
          "state": {
            "_view_name": "LabelView",
            "style": "IPY_MODEL_2d5f415b203b422e92764c2d199ac604",
            "_dom_classes": [],
            "description": "",
            "_model_name": "LabelModel",
            "placeholder": "​",
            "_view_module": "@jupyter-widgets/controls",
            "_model_module_version": "1.5.0",
            "value": " 0.01MB of 0.01MB uploaded (0.00MB deduped)\r",
            "_view_count": null,
            "_view_module_version": "1.5.0",
            "description_tooltip": null,
            "_model_module": "@jupyter-widgets/controls",
            "layout": "IPY_MODEL_cae183ba5d074b6ba543ff36b4e4ebe2"
          }
        },
        "1a81852827f347ab96c2aa1999ef3607": {
          "model_module": "@jupyter-widgets/controls",
          "model_name": "FloatProgressModel",
          "model_module_version": "1.5.0",
          "state": {
            "_view_name": "ProgressView",
            "style": "IPY_MODEL_bc1f3483487445d1bdf4ea429c0f4360",
            "_dom_classes": [],
            "description": "",
            "_model_name": "FloatProgressModel",
            "bar_style": "",
            "max": 1,
            "_view_module": "@jupyter-widgets/controls",
            "_model_module_version": "1.5.0",
            "value": 1,
            "_view_count": null,
            "_view_module_version": "1.5.0",
            "orientation": "horizontal",
            "min": 0,
            "description_tooltip": null,
            "_model_module": "@jupyter-widgets/controls",
            "layout": "IPY_MODEL_1bcb34f05e04429ab288547daa34e139"
          }
        },
        "2d5f415b203b422e92764c2d199ac604": {
          "model_module": "@jupyter-widgets/controls",
          "model_name": "DescriptionStyleModel",
          "model_module_version": "1.5.0",
          "state": {
            "_view_name": "StyleView",
            "_model_name": "DescriptionStyleModel",
            "description_width": "",
            "_view_module": "@jupyter-widgets/base",
            "_model_module_version": "1.5.0",
            "_view_count": null,
            "_view_module_version": "1.2.0",
            "_model_module": "@jupyter-widgets/controls"
          }
        },
        "cae183ba5d074b6ba543ff36b4e4ebe2": {
          "model_module": "@jupyter-widgets/base",
          "model_name": "LayoutModel",
          "model_module_version": "1.2.0",
          "state": {
            "_view_name": "LayoutView",
            "grid_template_rows": null,
            "right": null,
            "justify_content": null,
            "_view_module": "@jupyter-widgets/base",
            "overflow": null,
            "_model_module_version": "1.2.0",
            "_view_count": null,
            "flex_flow": null,
            "width": null,
            "min_width": null,
            "border": null,
            "align_items": null,
            "bottom": null,
            "_model_module": "@jupyter-widgets/base",
            "top": null,
            "grid_column": null,
            "overflow_y": null,
            "overflow_x": null,
            "grid_auto_flow": null,
            "grid_area": null,
            "grid_template_columns": null,
            "flex": null,
            "_model_name": "LayoutModel",
            "justify_items": null,
            "grid_row": null,
            "max_height": null,
            "align_content": null,
            "visibility": null,
            "align_self": null,
            "height": null,
            "min_height": null,
            "padding": null,
            "grid_auto_rows": null,
            "grid_gap": null,
            "max_width": null,
            "order": null,
            "_view_module_version": "1.2.0",
            "grid_template_areas": null,
            "object_position": null,
            "object_fit": null,
            "grid_auto_columns": null,
            "margin": null,
            "display": null,
            "left": null
          }
        },
        "bc1f3483487445d1bdf4ea429c0f4360": {
          "model_module": "@jupyter-widgets/controls",
          "model_name": "ProgressStyleModel",
          "model_module_version": "1.5.0",
          "state": {
            "_view_name": "StyleView",
            "_model_name": "ProgressStyleModel",
            "description_width": "",
            "_view_module": "@jupyter-widgets/base",
            "_model_module_version": "1.5.0",
            "_view_count": null,
            "_view_module_version": "1.2.0",
            "bar_color": null,
            "_model_module": "@jupyter-widgets/controls"
          }
        },
        "1bcb34f05e04429ab288547daa34e139": {
          "model_module": "@jupyter-widgets/base",
          "model_name": "LayoutModel",
          "model_module_version": "1.2.0",
          "state": {
            "_view_name": "LayoutView",
            "grid_template_rows": null,
            "right": null,
            "justify_content": null,
            "_view_module": "@jupyter-widgets/base",
            "overflow": null,
            "_model_module_version": "1.2.0",
            "_view_count": null,
            "flex_flow": null,
            "width": null,
            "min_width": null,
            "border": null,
            "align_items": null,
            "bottom": null,
            "_model_module": "@jupyter-widgets/base",
            "top": null,
            "grid_column": null,
            "overflow_y": null,
            "overflow_x": null,
            "grid_auto_flow": null,
            "grid_area": null,
            "grid_template_columns": null,
            "flex": null,
            "_model_name": "LayoutModel",
            "justify_items": null,
            "grid_row": null,
            "max_height": null,
            "align_content": null,
            "visibility": null,
            "align_self": null,
            "height": null,
            "min_height": null,
            "padding": null,
            "grid_auto_rows": null,
            "grid_gap": null,
            "max_width": null,
            "order": null,
            "_view_module_version": "1.2.0",
            "grid_template_areas": null,
            "object_position": null,
            "object_fit": null,
            "grid_auto_columns": null,
            "margin": null,
            "display": null,
            "left": null
          }
        },
        "43bc6461d25c43adaa3513b89c97749b": {
          "model_module": "@jupyter-widgets/controls",
          "model_name": "VBoxModel",
          "model_module_version": "1.5.0",
          "state": {
            "_view_name": "VBoxView",
            "_dom_classes": [],
            "_model_name": "VBoxModel",
            "_view_module": "@jupyter-widgets/controls",
            "_model_module_version": "1.5.0",
            "_view_count": null,
            "_view_module_version": "1.5.0",
            "box_style": "",
            "layout": "IPY_MODEL_f8aa8bf3460f4d6d96780b7cf4982892",
            "_model_module": "@jupyter-widgets/controls",
            "children": [
              "IPY_MODEL_2305df873c824472a847caf2b2d285db",
              "IPY_MODEL_86ccde384b684e3391a97950e0a3ea90"
            ]
          }
        },
        "f8aa8bf3460f4d6d96780b7cf4982892": {
          "model_module": "@jupyter-widgets/base",
          "model_name": "LayoutModel",
          "model_module_version": "1.2.0",
          "state": {
            "_view_name": "LayoutView",
            "grid_template_rows": null,
            "right": null,
            "justify_content": null,
            "_view_module": "@jupyter-widgets/base",
            "overflow": null,
            "_model_module_version": "1.2.0",
            "_view_count": null,
            "flex_flow": null,
            "width": null,
            "min_width": null,
            "border": null,
            "align_items": null,
            "bottom": null,
            "_model_module": "@jupyter-widgets/base",
            "top": null,
            "grid_column": null,
            "overflow_y": null,
            "overflow_x": null,
            "grid_auto_flow": null,
            "grid_area": null,
            "grid_template_columns": null,
            "flex": null,
            "_model_name": "LayoutModel",
            "justify_items": null,
            "grid_row": null,
            "max_height": null,
            "align_content": null,
            "visibility": null,
            "align_self": null,
            "height": null,
            "min_height": null,
            "padding": null,
            "grid_auto_rows": null,
            "grid_gap": null,
            "max_width": null,
            "order": null,
            "_view_module_version": "1.2.0",
            "grid_template_areas": null,
            "object_position": null,
            "object_fit": null,
            "grid_auto_columns": null,
            "margin": null,
            "display": null,
            "left": null
          }
        },
        "2305df873c824472a847caf2b2d285db": {
          "model_module": "@jupyter-widgets/controls",
          "model_name": "LabelModel",
          "model_module_version": "1.5.0",
          "state": {
            "_view_name": "LabelView",
            "style": "IPY_MODEL_493932adb175463ba65a4a66c06192e8",
            "_dom_classes": [],
            "description": "",
            "_model_name": "LabelModel",
            "placeholder": "​",
            "_view_module": "@jupyter-widgets/controls",
            "_model_module_version": "1.5.0",
            "value": " 0.01MB of 0.01MB uploaded (0.00MB deduped)\r",
            "_view_count": null,
            "_view_module_version": "1.5.0",
            "description_tooltip": null,
            "_model_module": "@jupyter-widgets/controls",
            "layout": "IPY_MODEL_93eedbb8a5db4231aac413ed5477827b"
          }
        },
        "86ccde384b684e3391a97950e0a3ea90": {
          "model_module": "@jupyter-widgets/controls",
          "model_name": "FloatProgressModel",
          "model_module_version": "1.5.0",
          "state": {
            "_view_name": "ProgressView",
            "style": "IPY_MODEL_b5afe59ae44e4c2b8235f72c3b749e7c",
            "_dom_classes": [],
            "description": "",
            "_model_name": "FloatProgressModel",
            "bar_style": "",
            "max": 1,
            "_view_module": "@jupyter-widgets/controls",
            "_model_module_version": "1.5.0",
            "value": 1,
            "_view_count": null,
            "_view_module_version": "1.5.0",
            "orientation": "horizontal",
            "min": 0,
            "description_tooltip": null,
            "_model_module": "@jupyter-widgets/controls",
            "layout": "IPY_MODEL_eb8eb55d060c458da8ad75dad34f37cf"
          }
        },
        "493932adb175463ba65a4a66c06192e8": {
          "model_module": "@jupyter-widgets/controls",
          "model_name": "DescriptionStyleModel",
          "model_module_version": "1.5.0",
          "state": {
            "_view_name": "StyleView",
            "_model_name": "DescriptionStyleModel",
            "description_width": "",
            "_view_module": "@jupyter-widgets/base",
            "_model_module_version": "1.5.0",
            "_view_count": null,
            "_view_module_version": "1.2.0",
            "_model_module": "@jupyter-widgets/controls"
          }
        },
        "93eedbb8a5db4231aac413ed5477827b": {
          "model_module": "@jupyter-widgets/base",
          "model_name": "LayoutModel",
          "model_module_version": "1.2.0",
          "state": {
            "_view_name": "LayoutView",
            "grid_template_rows": null,
            "right": null,
            "justify_content": null,
            "_view_module": "@jupyter-widgets/base",
            "overflow": null,
            "_model_module_version": "1.2.0",
            "_view_count": null,
            "flex_flow": null,
            "width": null,
            "min_width": null,
            "border": null,
            "align_items": null,
            "bottom": null,
            "_model_module": "@jupyter-widgets/base",
            "top": null,
            "grid_column": null,
            "overflow_y": null,
            "overflow_x": null,
            "grid_auto_flow": null,
            "grid_area": null,
            "grid_template_columns": null,
            "flex": null,
            "_model_name": "LayoutModel",
            "justify_items": null,
            "grid_row": null,
            "max_height": null,
            "align_content": null,
            "visibility": null,
            "align_self": null,
            "height": null,
            "min_height": null,
            "padding": null,
            "grid_auto_rows": null,
            "grid_gap": null,
            "max_width": null,
            "order": null,
            "_view_module_version": "1.2.0",
            "grid_template_areas": null,
            "object_position": null,
            "object_fit": null,
            "grid_auto_columns": null,
            "margin": null,
            "display": null,
            "left": null
          }
        },
        "b5afe59ae44e4c2b8235f72c3b749e7c": {
          "model_module": "@jupyter-widgets/controls",
          "model_name": "ProgressStyleModel",
          "model_module_version": "1.5.0",
          "state": {
            "_view_name": "StyleView",
            "_model_name": "ProgressStyleModel",
            "description_width": "",
            "_view_module": "@jupyter-widgets/base",
            "_model_module_version": "1.5.0",
            "_view_count": null,
            "_view_module_version": "1.2.0",
            "bar_color": null,
            "_model_module": "@jupyter-widgets/controls"
          }
        },
        "eb8eb55d060c458da8ad75dad34f37cf": {
          "model_module": "@jupyter-widgets/base",
          "model_name": "LayoutModel",
          "model_module_version": "1.2.0",
          "state": {
            "_view_name": "LayoutView",
            "grid_template_rows": null,
            "right": null,
            "justify_content": null,
            "_view_module": "@jupyter-widgets/base",
            "overflow": null,
            "_model_module_version": "1.2.0",
            "_view_count": null,
            "flex_flow": null,
            "width": null,
            "min_width": null,
            "border": null,
            "align_items": null,
            "bottom": null,
            "_model_module": "@jupyter-widgets/base",
            "top": null,
            "grid_column": null,
            "overflow_y": null,
            "overflow_x": null,
            "grid_auto_flow": null,
            "grid_area": null,
            "grid_template_columns": null,
            "flex": null,
            "_model_name": "LayoutModel",
            "justify_items": null,
            "grid_row": null,
            "max_height": null,
            "align_content": null,
            "visibility": null,
            "align_self": null,
            "height": null,
            "min_height": null,
            "padding": null,
            "grid_auto_rows": null,
            "grid_gap": null,
            "max_width": null,
            "order": null,
            "_view_module_version": "1.2.0",
            "grid_template_areas": null,
            "object_position": null,
            "object_fit": null,
            "grid_auto_columns": null,
            "margin": null,
            "display": null,
            "left": null
          }
        },
        "4eabd7b8697a42f284501a4b787f7aa5": {
          "model_module": "@jupyter-widgets/controls",
          "model_name": "VBoxModel",
          "model_module_version": "1.5.0",
          "state": {
            "_view_name": "VBoxView",
            "_dom_classes": [],
            "_model_name": "VBoxModel",
            "_view_module": "@jupyter-widgets/controls",
            "_model_module_version": "1.5.0",
            "_view_count": null,
            "_view_module_version": "1.5.0",
            "box_style": "",
            "layout": "IPY_MODEL_20d7279109d24eb0abb727c1cd8c7026",
            "_model_module": "@jupyter-widgets/controls",
            "children": [
              "IPY_MODEL_43a5b48004ba4bc88d21996190fce19c",
              "IPY_MODEL_d24d4c19154a4ec89464162e0303e0a4"
            ]
          }
        },
        "20d7279109d24eb0abb727c1cd8c7026": {
          "model_module": "@jupyter-widgets/base",
          "model_name": "LayoutModel",
          "model_module_version": "1.2.0",
          "state": {
            "_view_name": "LayoutView",
            "grid_template_rows": null,
            "right": null,
            "justify_content": null,
            "_view_module": "@jupyter-widgets/base",
            "overflow": null,
            "_model_module_version": "1.2.0",
            "_view_count": null,
            "flex_flow": null,
            "width": null,
            "min_width": null,
            "border": null,
            "align_items": null,
            "bottom": null,
            "_model_module": "@jupyter-widgets/base",
            "top": null,
            "grid_column": null,
            "overflow_y": null,
            "overflow_x": null,
            "grid_auto_flow": null,
            "grid_area": null,
            "grid_template_columns": null,
            "flex": null,
            "_model_name": "LayoutModel",
            "justify_items": null,
            "grid_row": null,
            "max_height": null,
            "align_content": null,
            "visibility": null,
            "align_self": null,
            "height": null,
            "min_height": null,
            "padding": null,
            "grid_auto_rows": null,
            "grid_gap": null,
            "max_width": null,
            "order": null,
            "_view_module_version": "1.2.0",
            "grid_template_areas": null,
            "object_position": null,
            "object_fit": null,
            "grid_auto_columns": null,
            "margin": null,
            "display": null,
            "left": null
          }
        },
        "43a5b48004ba4bc88d21996190fce19c": {
          "model_module": "@jupyter-widgets/controls",
          "model_name": "LabelModel",
          "model_module_version": "1.5.0",
          "state": {
            "_view_name": "LabelView",
            "style": "IPY_MODEL_075d43d7cccc4eef8437b6b795c6e07c",
            "_dom_classes": [],
            "description": "",
            "_model_name": "LabelModel",
            "placeholder": "​",
            "_view_module": "@jupyter-widgets/controls",
            "_model_module_version": "1.5.0",
            "value": " 0.01MB of 0.01MB uploaded (0.00MB deduped)\r",
            "_view_count": null,
            "_view_module_version": "1.5.0",
            "description_tooltip": null,
            "_model_module": "@jupyter-widgets/controls",
            "layout": "IPY_MODEL_79a566e84da2424e8a92b9f4e2a80f10"
          }
        },
        "d24d4c19154a4ec89464162e0303e0a4": {
          "model_module": "@jupyter-widgets/controls",
          "model_name": "FloatProgressModel",
          "model_module_version": "1.5.0",
          "state": {
            "_view_name": "ProgressView",
            "style": "IPY_MODEL_5e021e6c4bf24c7cb0e1325c940dbb6f",
            "_dom_classes": [],
            "description": "",
            "_model_name": "FloatProgressModel",
            "bar_style": "",
            "max": 1,
            "_view_module": "@jupyter-widgets/controls",
            "_model_module_version": "1.5.0",
            "value": 1,
            "_view_count": null,
            "_view_module_version": "1.5.0",
            "orientation": "horizontal",
            "min": 0,
            "description_tooltip": null,
            "_model_module": "@jupyter-widgets/controls",
            "layout": "IPY_MODEL_37e10af000474c79b24f1d57581ad960"
          }
        },
        "075d43d7cccc4eef8437b6b795c6e07c": {
          "model_module": "@jupyter-widgets/controls",
          "model_name": "DescriptionStyleModel",
          "model_module_version": "1.5.0",
          "state": {
            "_view_name": "StyleView",
            "_model_name": "DescriptionStyleModel",
            "description_width": "",
            "_view_module": "@jupyter-widgets/base",
            "_model_module_version": "1.5.0",
            "_view_count": null,
            "_view_module_version": "1.2.0",
            "_model_module": "@jupyter-widgets/controls"
          }
        },
        "79a566e84da2424e8a92b9f4e2a80f10": {
          "model_module": "@jupyter-widgets/base",
          "model_name": "LayoutModel",
          "model_module_version": "1.2.0",
          "state": {
            "_view_name": "LayoutView",
            "grid_template_rows": null,
            "right": null,
            "justify_content": null,
            "_view_module": "@jupyter-widgets/base",
            "overflow": null,
            "_model_module_version": "1.2.0",
            "_view_count": null,
            "flex_flow": null,
            "width": null,
            "min_width": null,
            "border": null,
            "align_items": null,
            "bottom": null,
            "_model_module": "@jupyter-widgets/base",
            "top": null,
            "grid_column": null,
            "overflow_y": null,
            "overflow_x": null,
            "grid_auto_flow": null,
            "grid_area": null,
            "grid_template_columns": null,
            "flex": null,
            "_model_name": "LayoutModel",
            "justify_items": null,
            "grid_row": null,
            "max_height": null,
            "align_content": null,
            "visibility": null,
            "align_self": null,
            "height": null,
            "min_height": null,
            "padding": null,
            "grid_auto_rows": null,
            "grid_gap": null,
            "max_width": null,
            "order": null,
            "_view_module_version": "1.2.0",
            "grid_template_areas": null,
            "object_position": null,
            "object_fit": null,
            "grid_auto_columns": null,
            "margin": null,
            "display": null,
            "left": null
          }
        },
        "5e021e6c4bf24c7cb0e1325c940dbb6f": {
          "model_module": "@jupyter-widgets/controls",
          "model_name": "ProgressStyleModel",
          "model_module_version": "1.5.0",
          "state": {
            "_view_name": "StyleView",
            "_model_name": "ProgressStyleModel",
            "description_width": "",
            "_view_module": "@jupyter-widgets/base",
            "_model_module_version": "1.5.0",
            "_view_count": null,
            "_view_module_version": "1.2.0",
            "bar_color": null,
            "_model_module": "@jupyter-widgets/controls"
          }
        },
        "37e10af000474c79b24f1d57581ad960": {
          "model_module": "@jupyter-widgets/base",
          "model_name": "LayoutModel",
          "model_module_version": "1.2.0",
          "state": {
            "_view_name": "LayoutView",
            "grid_template_rows": null,
            "right": null,
            "justify_content": null,
            "_view_module": "@jupyter-widgets/base",
            "overflow": null,
            "_model_module_version": "1.2.0",
            "_view_count": null,
            "flex_flow": null,
            "width": null,
            "min_width": null,
            "border": null,
            "align_items": null,
            "bottom": null,
            "_model_module": "@jupyter-widgets/base",
            "top": null,
            "grid_column": null,
            "overflow_y": null,
            "overflow_x": null,
            "grid_auto_flow": null,
            "grid_area": null,
            "grid_template_columns": null,
            "flex": null,
            "_model_name": "LayoutModel",
            "justify_items": null,
            "grid_row": null,
            "max_height": null,
            "align_content": null,
            "visibility": null,
            "align_self": null,
            "height": null,
            "min_height": null,
            "padding": null,
            "grid_auto_rows": null,
            "grid_gap": null,
            "max_width": null,
            "order": null,
            "_view_module_version": "1.2.0",
            "grid_template_areas": null,
            "object_position": null,
            "object_fit": null,
            "grid_auto_columns": null,
            "margin": null,
            "display": null,
            "left": null
          }
        },
        "25e78492cc2a45c0a1870cdc425df440": {
          "model_module": "@jupyter-widgets/controls",
          "model_name": "VBoxModel",
          "model_module_version": "1.5.0",
          "state": {
            "_view_name": "VBoxView",
            "_dom_classes": [],
            "_model_name": "VBoxModel",
            "_view_module": "@jupyter-widgets/controls",
            "_model_module_version": "1.5.0",
            "_view_count": null,
            "_view_module_version": "1.5.0",
            "box_style": "",
            "layout": "IPY_MODEL_74fc37ce14fe4ee3b63dd49bbdc1fa71",
            "_model_module": "@jupyter-widgets/controls",
            "children": [
              "IPY_MODEL_1ae89406a2654661a22a332969300674",
              "IPY_MODEL_31138a69e721486db544beddead0434f"
            ]
          }
        },
        "74fc37ce14fe4ee3b63dd49bbdc1fa71": {
          "model_module": "@jupyter-widgets/base",
          "model_name": "LayoutModel",
          "model_module_version": "1.2.0",
          "state": {
            "_view_name": "LayoutView",
            "grid_template_rows": null,
            "right": null,
            "justify_content": null,
            "_view_module": "@jupyter-widgets/base",
            "overflow": null,
            "_model_module_version": "1.2.0",
            "_view_count": null,
            "flex_flow": null,
            "width": null,
            "min_width": null,
            "border": null,
            "align_items": null,
            "bottom": null,
            "_model_module": "@jupyter-widgets/base",
            "top": null,
            "grid_column": null,
            "overflow_y": null,
            "overflow_x": null,
            "grid_auto_flow": null,
            "grid_area": null,
            "grid_template_columns": null,
            "flex": null,
            "_model_name": "LayoutModel",
            "justify_items": null,
            "grid_row": null,
            "max_height": null,
            "align_content": null,
            "visibility": null,
            "align_self": null,
            "height": null,
            "min_height": null,
            "padding": null,
            "grid_auto_rows": null,
            "grid_gap": null,
            "max_width": null,
            "order": null,
            "_view_module_version": "1.2.0",
            "grid_template_areas": null,
            "object_position": null,
            "object_fit": null,
            "grid_auto_columns": null,
            "margin": null,
            "display": null,
            "left": null
          }
        },
        "1ae89406a2654661a22a332969300674": {
          "model_module": "@jupyter-widgets/controls",
          "model_name": "LabelModel",
          "model_module_version": "1.5.0",
          "state": {
            "_view_name": "LabelView",
            "style": "IPY_MODEL_bafc1869958f44b58748ac7718b681b4",
            "_dom_classes": [],
            "description": "",
            "_model_name": "LabelModel",
            "placeholder": "​",
            "_view_module": "@jupyter-widgets/controls",
            "_model_module_version": "1.5.0",
            "value": " 0.01MB of 0.01MB uploaded (0.00MB deduped)\r",
            "_view_count": null,
            "_view_module_version": "1.5.0",
            "description_tooltip": null,
            "_model_module": "@jupyter-widgets/controls",
            "layout": "IPY_MODEL_0fc40bcbe1234f458217be1abecf2cb6"
          }
        },
        "31138a69e721486db544beddead0434f": {
          "model_module": "@jupyter-widgets/controls",
          "model_name": "FloatProgressModel",
          "model_module_version": "1.5.0",
          "state": {
            "_view_name": "ProgressView",
            "style": "IPY_MODEL_d5d9a74befc248d2b7b19975958ca2fb",
            "_dom_classes": [],
            "description": "",
            "_model_name": "FloatProgressModel",
            "bar_style": "",
            "max": 1,
            "_view_module": "@jupyter-widgets/controls",
            "_model_module_version": "1.5.0",
            "value": 1,
            "_view_count": null,
            "_view_module_version": "1.5.0",
            "orientation": "horizontal",
            "min": 0,
            "description_tooltip": null,
            "_model_module": "@jupyter-widgets/controls",
            "layout": "IPY_MODEL_85b8de37473843f183155f6255447c49"
          }
        },
        "bafc1869958f44b58748ac7718b681b4": {
          "model_module": "@jupyter-widgets/controls",
          "model_name": "DescriptionStyleModel",
          "model_module_version": "1.5.0",
          "state": {
            "_view_name": "StyleView",
            "_model_name": "DescriptionStyleModel",
            "description_width": "",
            "_view_module": "@jupyter-widgets/base",
            "_model_module_version": "1.5.0",
            "_view_count": null,
            "_view_module_version": "1.2.0",
            "_model_module": "@jupyter-widgets/controls"
          }
        },
        "0fc40bcbe1234f458217be1abecf2cb6": {
          "model_module": "@jupyter-widgets/base",
          "model_name": "LayoutModel",
          "model_module_version": "1.2.0",
          "state": {
            "_view_name": "LayoutView",
            "grid_template_rows": null,
            "right": null,
            "justify_content": null,
            "_view_module": "@jupyter-widgets/base",
            "overflow": null,
            "_model_module_version": "1.2.0",
            "_view_count": null,
            "flex_flow": null,
            "width": null,
            "min_width": null,
            "border": null,
            "align_items": null,
            "bottom": null,
            "_model_module": "@jupyter-widgets/base",
            "top": null,
            "grid_column": null,
            "overflow_y": null,
            "overflow_x": null,
            "grid_auto_flow": null,
            "grid_area": null,
            "grid_template_columns": null,
            "flex": null,
            "_model_name": "LayoutModel",
            "justify_items": null,
            "grid_row": null,
            "max_height": null,
            "align_content": null,
            "visibility": null,
            "align_self": null,
            "height": null,
            "min_height": null,
            "padding": null,
            "grid_auto_rows": null,
            "grid_gap": null,
            "max_width": null,
            "order": null,
            "_view_module_version": "1.2.0",
            "grid_template_areas": null,
            "object_position": null,
            "object_fit": null,
            "grid_auto_columns": null,
            "margin": null,
            "display": null,
            "left": null
          }
        },
        "d5d9a74befc248d2b7b19975958ca2fb": {
          "model_module": "@jupyter-widgets/controls",
          "model_name": "ProgressStyleModel",
          "model_module_version": "1.5.0",
          "state": {
            "_view_name": "StyleView",
            "_model_name": "ProgressStyleModel",
            "description_width": "",
            "_view_module": "@jupyter-widgets/base",
            "_model_module_version": "1.5.0",
            "_view_count": null,
            "_view_module_version": "1.2.0",
            "bar_color": null,
            "_model_module": "@jupyter-widgets/controls"
          }
        },
        "85b8de37473843f183155f6255447c49": {
          "model_module": "@jupyter-widgets/base",
          "model_name": "LayoutModel",
          "model_module_version": "1.2.0",
          "state": {
            "_view_name": "LayoutView",
            "grid_template_rows": null,
            "right": null,
            "justify_content": null,
            "_view_module": "@jupyter-widgets/base",
            "overflow": null,
            "_model_module_version": "1.2.0",
            "_view_count": null,
            "flex_flow": null,
            "width": null,
            "min_width": null,
            "border": null,
            "align_items": null,
            "bottom": null,
            "_model_module": "@jupyter-widgets/base",
            "top": null,
            "grid_column": null,
            "overflow_y": null,
            "overflow_x": null,
            "grid_auto_flow": null,
            "grid_area": null,
            "grid_template_columns": null,
            "flex": null,
            "_model_name": "LayoutModel",
            "justify_items": null,
            "grid_row": null,
            "max_height": null,
            "align_content": null,
            "visibility": null,
            "align_self": null,
            "height": null,
            "min_height": null,
            "padding": null,
            "grid_auto_rows": null,
            "grid_gap": null,
            "max_width": null,
            "order": null,
            "_view_module_version": "1.2.0",
            "grid_template_areas": null,
            "object_position": null,
            "object_fit": null,
            "grid_auto_columns": null,
            "margin": null,
            "display": null,
            "left": null
          }
        },
        "5884aa35adf540cd87caafdd4d885bfe": {
          "model_module": "@jupyter-widgets/controls",
          "model_name": "VBoxModel",
          "model_module_version": "1.5.0",
          "state": {
            "_view_name": "VBoxView",
            "_dom_classes": [],
            "_model_name": "VBoxModel",
            "_view_module": "@jupyter-widgets/controls",
            "_model_module_version": "1.5.0",
            "_view_count": null,
            "_view_module_version": "1.5.0",
            "box_style": "",
            "layout": "IPY_MODEL_d7760b6b8d824163bef58f3a902a017e",
            "_model_module": "@jupyter-widgets/controls",
            "children": [
              "IPY_MODEL_f1e0936f96954ad0ba8e8b4824a01328",
              "IPY_MODEL_296aa56026b4493ebce97ca3f96c060d"
            ]
          }
        },
        "d7760b6b8d824163bef58f3a902a017e": {
          "model_module": "@jupyter-widgets/base",
          "model_name": "LayoutModel",
          "model_module_version": "1.2.0",
          "state": {
            "_view_name": "LayoutView",
            "grid_template_rows": null,
            "right": null,
            "justify_content": null,
            "_view_module": "@jupyter-widgets/base",
            "overflow": null,
            "_model_module_version": "1.2.0",
            "_view_count": null,
            "flex_flow": null,
            "width": null,
            "min_width": null,
            "border": null,
            "align_items": null,
            "bottom": null,
            "_model_module": "@jupyter-widgets/base",
            "top": null,
            "grid_column": null,
            "overflow_y": null,
            "overflow_x": null,
            "grid_auto_flow": null,
            "grid_area": null,
            "grid_template_columns": null,
            "flex": null,
            "_model_name": "LayoutModel",
            "justify_items": null,
            "grid_row": null,
            "max_height": null,
            "align_content": null,
            "visibility": null,
            "align_self": null,
            "height": null,
            "min_height": null,
            "padding": null,
            "grid_auto_rows": null,
            "grid_gap": null,
            "max_width": null,
            "order": null,
            "_view_module_version": "1.2.0",
            "grid_template_areas": null,
            "object_position": null,
            "object_fit": null,
            "grid_auto_columns": null,
            "margin": null,
            "display": null,
            "left": null
          }
        },
        "f1e0936f96954ad0ba8e8b4824a01328": {
          "model_module": "@jupyter-widgets/controls",
          "model_name": "LabelModel",
          "model_module_version": "1.5.0",
          "state": {
            "_view_name": "LabelView",
            "style": "IPY_MODEL_58d730e0041e46d18ee73a69fb03708a",
            "_dom_classes": [],
            "description": "",
            "_model_name": "LabelModel",
            "placeholder": "​",
            "_view_module": "@jupyter-widgets/controls",
            "_model_module_version": "1.5.0",
            "value": " 0.01MB of 0.01MB uploaded (0.00MB deduped)\r",
            "_view_count": null,
            "_view_module_version": "1.5.0",
            "description_tooltip": null,
            "_model_module": "@jupyter-widgets/controls",
            "layout": "IPY_MODEL_d372dffd984a480d94b053bc597a5a89"
          }
        },
        "296aa56026b4493ebce97ca3f96c060d": {
          "model_module": "@jupyter-widgets/controls",
          "model_name": "FloatProgressModel",
          "model_module_version": "1.5.0",
          "state": {
            "_view_name": "ProgressView",
            "style": "IPY_MODEL_c6da7ad5dec0466ca022cbaea79185d0",
            "_dom_classes": [],
            "description": "",
            "_model_name": "FloatProgressModel",
            "bar_style": "",
            "max": 1,
            "_view_module": "@jupyter-widgets/controls",
            "_model_module_version": "1.5.0",
            "value": 1,
            "_view_count": null,
            "_view_module_version": "1.5.0",
            "orientation": "horizontal",
            "min": 0,
            "description_tooltip": null,
            "_model_module": "@jupyter-widgets/controls",
            "layout": "IPY_MODEL_5becacf709544a73889b4bd15cf1d28a"
          }
        },
        "58d730e0041e46d18ee73a69fb03708a": {
          "model_module": "@jupyter-widgets/controls",
          "model_name": "DescriptionStyleModel",
          "model_module_version": "1.5.0",
          "state": {
            "_view_name": "StyleView",
            "_model_name": "DescriptionStyleModel",
            "description_width": "",
            "_view_module": "@jupyter-widgets/base",
            "_model_module_version": "1.5.0",
            "_view_count": null,
            "_view_module_version": "1.2.0",
            "_model_module": "@jupyter-widgets/controls"
          }
        },
        "d372dffd984a480d94b053bc597a5a89": {
          "model_module": "@jupyter-widgets/base",
          "model_name": "LayoutModel",
          "model_module_version": "1.2.0",
          "state": {
            "_view_name": "LayoutView",
            "grid_template_rows": null,
            "right": null,
            "justify_content": null,
            "_view_module": "@jupyter-widgets/base",
            "overflow": null,
            "_model_module_version": "1.2.0",
            "_view_count": null,
            "flex_flow": null,
            "width": null,
            "min_width": null,
            "border": null,
            "align_items": null,
            "bottom": null,
            "_model_module": "@jupyter-widgets/base",
            "top": null,
            "grid_column": null,
            "overflow_y": null,
            "overflow_x": null,
            "grid_auto_flow": null,
            "grid_area": null,
            "grid_template_columns": null,
            "flex": null,
            "_model_name": "LayoutModel",
            "justify_items": null,
            "grid_row": null,
            "max_height": null,
            "align_content": null,
            "visibility": null,
            "align_self": null,
            "height": null,
            "min_height": null,
            "padding": null,
            "grid_auto_rows": null,
            "grid_gap": null,
            "max_width": null,
            "order": null,
            "_view_module_version": "1.2.0",
            "grid_template_areas": null,
            "object_position": null,
            "object_fit": null,
            "grid_auto_columns": null,
            "margin": null,
            "display": null,
            "left": null
          }
        },
        "c6da7ad5dec0466ca022cbaea79185d0": {
          "model_module": "@jupyter-widgets/controls",
          "model_name": "ProgressStyleModel",
          "model_module_version": "1.5.0",
          "state": {
            "_view_name": "StyleView",
            "_model_name": "ProgressStyleModel",
            "description_width": "",
            "_view_module": "@jupyter-widgets/base",
            "_model_module_version": "1.5.0",
            "_view_count": null,
            "_view_module_version": "1.2.0",
            "bar_color": null,
            "_model_module": "@jupyter-widgets/controls"
          }
        },
        "5becacf709544a73889b4bd15cf1d28a": {
          "model_module": "@jupyter-widgets/base",
          "model_name": "LayoutModel",
          "model_module_version": "1.2.0",
          "state": {
            "_view_name": "LayoutView",
            "grid_template_rows": null,
            "right": null,
            "justify_content": null,
            "_view_module": "@jupyter-widgets/base",
            "overflow": null,
            "_model_module_version": "1.2.0",
            "_view_count": null,
            "flex_flow": null,
            "width": null,
            "min_width": null,
            "border": null,
            "align_items": null,
            "bottom": null,
            "_model_module": "@jupyter-widgets/base",
            "top": null,
            "grid_column": null,
            "overflow_y": null,
            "overflow_x": null,
            "grid_auto_flow": null,
            "grid_area": null,
            "grid_template_columns": null,
            "flex": null,
            "_model_name": "LayoutModel",
            "justify_items": null,
            "grid_row": null,
            "max_height": null,
            "align_content": null,
            "visibility": null,
            "align_self": null,
            "height": null,
            "min_height": null,
            "padding": null,
            "grid_auto_rows": null,
            "grid_gap": null,
            "max_width": null,
            "order": null,
            "_view_module_version": "1.2.0",
            "grid_template_areas": null,
            "object_position": null,
            "object_fit": null,
            "grid_auto_columns": null,
            "margin": null,
            "display": null,
            "left": null
          }
        },
        "c31042e507744a349ac8eb02ce66715d": {
          "model_module": "@jupyter-widgets/controls",
          "model_name": "VBoxModel",
          "model_module_version": "1.5.0",
          "state": {
            "_view_name": "VBoxView",
            "_dom_classes": [],
            "_model_name": "VBoxModel",
            "_view_module": "@jupyter-widgets/controls",
            "_model_module_version": "1.5.0",
            "_view_count": null,
            "_view_module_version": "1.5.0",
            "box_style": "",
            "layout": "IPY_MODEL_da08bfa1c1e045f5847a7514dc9d9f28",
            "_model_module": "@jupyter-widgets/controls",
            "children": [
              "IPY_MODEL_db6aeb8a15494ffa93515208dcda3e9c",
              "IPY_MODEL_1b4aa97a853c48f6afa617950c7ca953"
            ]
          }
        },
        "da08bfa1c1e045f5847a7514dc9d9f28": {
          "model_module": "@jupyter-widgets/base",
          "model_name": "LayoutModel",
          "model_module_version": "1.2.0",
          "state": {
            "_view_name": "LayoutView",
            "grid_template_rows": null,
            "right": null,
            "justify_content": null,
            "_view_module": "@jupyter-widgets/base",
            "overflow": null,
            "_model_module_version": "1.2.0",
            "_view_count": null,
            "flex_flow": null,
            "width": null,
            "min_width": null,
            "border": null,
            "align_items": null,
            "bottom": null,
            "_model_module": "@jupyter-widgets/base",
            "top": null,
            "grid_column": null,
            "overflow_y": null,
            "overflow_x": null,
            "grid_auto_flow": null,
            "grid_area": null,
            "grid_template_columns": null,
            "flex": null,
            "_model_name": "LayoutModel",
            "justify_items": null,
            "grid_row": null,
            "max_height": null,
            "align_content": null,
            "visibility": null,
            "align_self": null,
            "height": null,
            "min_height": null,
            "padding": null,
            "grid_auto_rows": null,
            "grid_gap": null,
            "max_width": null,
            "order": null,
            "_view_module_version": "1.2.0",
            "grid_template_areas": null,
            "object_position": null,
            "object_fit": null,
            "grid_auto_columns": null,
            "margin": null,
            "display": null,
            "left": null
          }
        },
        "db6aeb8a15494ffa93515208dcda3e9c": {
          "model_module": "@jupyter-widgets/controls",
          "model_name": "LabelModel",
          "model_module_version": "1.5.0",
          "state": {
            "_view_name": "LabelView",
            "style": "IPY_MODEL_c485dfbc0eff4579a945fa0e3f6ed863",
            "_dom_classes": [],
            "description": "",
            "_model_name": "LabelModel",
            "placeholder": "​",
            "_view_module": "@jupyter-widgets/controls",
            "_model_module_version": "1.5.0",
            "value": " 0.01MB of 0.01MB uploaded (0.00MB deduped)\r",
            "_view_count": null,
            "_view_module_version": "1.5.0",
            "description_tooltip": null,
            "_model_module": "@jupyter-widgets/controls",
            "layout": "IPY_MODEL_7c30a1806f164c729839d7c235fa6cfe"
          }
        },
        "1b4aa97a853c48f6afa617950c7ca953": {
          "model_module": "@jupyter-widgets/controls",
          "model_name": "FloatProgressModel",
          "model_module_version": "1.5.0",
          "state": {
            "_view_name": "ProgressView",
            "style": "IPY_MODEL_87f0cd868c614399adf5fac8bdf73eea",
            "_dom_classes": [],
            "description": "",
            "_model_name": "FloatProgressModel",
            "bar_style": "",
            "max": 1,
            "_view_module": "@jupyter-widgets/controls",
            "_model_module_version": "1.5.0",
            "value": 1,
            "_view_count": null,
            "_view_module_version": "1.5.0",
            "orientation": "horizontal",
            "min": 0,
            "description_tooltip": null,
            "_model_module": "@jupyter-widgets/controls",
            "layout": "IPY_MODEL_994d2459b83d44e7a3ef1605132c7e93"
          }
        },
        "c485dfbc0eff4579a945fa0e3f6ed863": {
          "model_module": "@jupyter-widgets/controls",
          "model_name": "DescriptionStyleModel",
          "model_module_version": "1.5.0",
          "state": {
            "_view_name": "StyleView",
            "_model_name": "DescriptionStyleModel",
            "description_width": "",
            "_view_module": "@jupyter-widgets/base",
            "_model_module_version": "1.5.0",
            "_view_count": null,
            "_view_module_version": "1.2.0",
            "_model_module": "@jupyter-widgets/controls"
          }
        },
        "7c30a1806f164c729839d7c235fa6cfe": {
          "model_module": "@jupyter-widgets/base",
          "model_name": "LayoutModel",
          "model_module_version": "1.2.0",
          "state": {
            "_view_name": "LayoutView",
            "grid_template_rows": null,
            "right": null,
            "justify_content": null,
            "_view_module": "@jupyter-widgets/base",
            "overflow": null,
            "_model_module_version": "1.2.0",
            "_view_count": null,
            "flex_flow": null,
            "width": null,
            "min_width": null,
            "border": null,
            "align_items": null,
            "bottom": null,
            "_model_module": "@jupyter-widgets/base",
            "top": null,
            "grid_column": null,
            "overflow_y": null,
            "overflow_x": null,
            "grid_auto_flow": null,
            "grid_area": null,
            "grid_template_columns": null,
            "flex": null,
            "_model_name": "LayoutModel",
            "justify_items": null,
            "grid_row": null,
            "max_height": null,
            "align_content": null,
            "visibility": null,
            "align_self": null,
            "height": null,
            "min_height": null,
            "padding": null,
            "grid_auto_rows": null,
            "grid_gap": null,
            "max_width": null,
            "order": null,
            "_view_module_version": "1.2.0",
            "grid_template_areas": null,
            "object_position": null,
            "object_fit": null,
            "grid_auto_columns": null,
            "margin": null,
            "display": null,
            "left": null
          }
        },
        "87f0cd868c614399adf5fac8bdf73eea": {
          "model_module": "@jupyter-widgets/controls",
          "model_name": "ProgressStyleModel",
          "model_module_version": "1.5.0",
          "state": {
            "_view_name": "StyleView",
            "_model_name": "ProgressStyleModel",
            "description_width": "",
            "_view_module": "@jupyter-widgets/base",
            "_model_module_version": "1.5.0",
            "_view_count": null,
            "_view_module_version": "1.2.0",
            "bar_color": null,
            "_model_module": "@jupyter-widgets/controls"
          }
        },
        "994d2459b83d44e7a3ef1605132c7e93": {
          "model_module": "@jupyter-widgets/base",
          "model_name": "LayoutModel",
          "model_module_version": "1.2.0",
          "state": {
            "_view_name": "LayoutView",
            "grid_template_rows": null,
            "right": null,
            "justify_content": null,
            "_view_module": "@jupyter-widgets/base",
            "overflow": null,
            "_model_module_version": "1.2.0",
            "_view_count": null,
            "flex_flow": null,
            "width": null,
            "min_width": null,
            "border": null,
            "align_items": null,
            "bottom": null,
            "_model_module": "@jupyter-widgets/base",
            "top": null,
            "grid_column": null,
            "overflow_y": null,
            "overflow_x": null,
            "grid_auto_flow": null,
            "grid_area": null,
            "grid_template_columns": null,
            "flex": null,
            "_model_name": "LayoutModel",
            "justify_items": null,
            "grid_row": null,
            "max_height": null,
            "align_content": null,
            "visibility": null,
            "align_self": null,
            "height": null,
            "min_height": null,
            "padding": null,
            "grid_auto_rows": null,
            "grid_gap": null,
            "max_width": null,
            "order": null,
            "_view_module_version": "1.2.0",
            "grid_template_areas": null,
            "object_position": null,
            "object_fit": null,
            "grid_auto_columns": null,
            "margin": null,
            "display": null,
            "left": null
          }
        },
        "e915e617ed1644fcaeb0105c0584815a": {
          "model_module": "@jupyter-widgets/controls",
          "model_name": "VBoxModel",
          "model_module_version": "1.5.0",
          "state": {
            "_view_name": "VBoxView",
            "_dom_classes": [],
            "_model_name": "VBoxModel",
            "_view_module": "@jupyter-widgets/controls",
            "_model_module_version": "1.5.0",
            "_view_count": null,
            "_view_module_version": "1.5.0",
            "box_style": "",
            "layout": "IPY_MODEL_30ce59809c3b48b894d418437d8b9b01",
            "_model_module": "@jupyter-widgets/controls",
            "children": [
              "IPY_MODEL_ec35d7f5be754200a77c5087b5a70b11",
              "IPY_MODEL_9a03e220f9934faf8b3ff00d7f08ad4a"
            ]
          }
        },
        "30ce59809c3b48b894d418437d8b9b01": {
          "model_module": "@jupyter-widgets/base",
          "model_name": "LayoutModel",
          "model_module_version": "1.2.0",
          "state": {
            "_view_name": "LayoutView",
            "grid_template_rows": null,
            "right": null,
            "justify_content": null,
            "_view_module": "@jupyter-widgets/base",
            "overflow": null,
            "_model_module_version": "1.2.0",
            "_view_count": null,
            "flex_flow": null,
            "width": null,
            "min_width": null,
            "border": null,
            "align_items": null,
            "bottom": null,
            "_model_module": "@jupyter-widgets/base",
            "top": null,
            "grid_column": null,
            "overflow_y": null,
            "overflow_x": null,
            "grid_auto_flow": null,
            "grid_area": null,
            "grid_template_columns": null,
            "flex": null,
            "_model_name": "LayoutModel",
            "justify_items": null,
            "grid_row": null,
            "max_height": null,
            "align_content": null,
            "visibility": null,
            "align_self": null,
            "height": null,
            "min_height": null,
            "padding": null,
            "grid_auto_rows": null,
            "grid_gap": null,
            "max_width": null,
            "order": null,
            "_view_module_version": "1.2.0",
            "grid_template_areas": null,
            "object_position": null,
            "object_fit": null,
            "grid_auto_columns": null,
            "margin": null,
            "display": null,
            "left": null
          }
        },
        "ec35d7f5be754200a77c5087b5a70b11": {
          "model_module": "@jupyter-widgets/controls",
          "model_name": "LabelModel",
          "model_module_version": "1.5.0",
          "state": {
            "_view_name": "LabelView",
            "style": "IPY_MODEL_7e11a96f2b5947939fc5ffcc70d33c24",
            "_dom_classes": [],
            "description": "",
            "_model_name": "LabelModel",
            "placeholder": "​",
            "_view_module": "@jupyter-widgets/controls",
            "_model_module_version": "1.5.0",
            "value": " 0.01MB of 0.01MB uploaded (0.00MB deduped)\r",
            "_view_count": null,
            "_view_module_version": "1.5.0",
            "description_tooltip": null,
            "_model_module": "@jupyter-widgets/controls",
            "layout": "IPY_MODEL_cbb4c90c7cf14ffcb878914a7fadc2af"
          }
        },
        "9a03e220f9934faf8b3ff00d7f08ad4a": {
          "model_module": "@jupyter-widgets/controls",
          "model_name": "FloatProgressModel",
          "model_module_version": "1.5.0",
          "state": {
            "_view_name": "ProgressView",
            "style": "IPY_MODEL_707062b15bda4a02a6698f2bbc24c584",
            "_dom_classes": [],
            "description": "",
            "_model_name": "FloatProgressModel",
            "bar_style": "",
            "max": 1,
            "_view_module": "@jupyter-widgets/controls",
            "_model_module_version": "1.5.0",
            "value": 1,
            "_view_count": null,
            "_view_module_version": "1.5.0",
            "orientation": "horizontal",
            "min": 0,
            "description_tooltip": null,
            "_model_module": "@jupyter-widgets/controls",
            "layout": "IPY_MODEL_6f2a27507f9f443cb956630dcab17be2"
          }
        },
        "7e11a96f2b5947939fc5ffcc70d33c24": {
          "model_module": "@jupyter-widgets/controls",
          "model_name": "DescriptionStyleModel",
          "model_module_version": "1.5.0",
          "state": {
            "_view_name": "StyleView",
            "_model_name": "DescriptionStyleModel",
            "description_width": "",
            "_view_module": "@jupyter-widgets/base",
            "_model_module_version": "1.5.0",
            "_view_count": null,
            "_view_module_version": "1.2.0",
            "_model_module": "@jupyter-widgets/controls"
          }
        },
        "cbb4c90c7cf14ffcb878914a7fadc2af": {
          "model_module": "@jupyter-widgets/base",
          "model_name": "LayoutModel",
          "model_module_version": "1.2.0",
          "state": {
            "_view_name": "LayoutView",
            "grid_template_rows": null,
            "right": null,
            "justify_content": null,
            "_view_module": "@jupyter-widgets/base",
            "overflow": null,
            "_model_module_version": "1.2.0",
            "_view_count": null,
            "flex_flow": null,
            "width": null,
            "min_width": null,
            "border": null,
            "align_items": null,
            "bottom": null,
            "_model_module": "@jupyter-widgets/base",
            "top": null,
            "grid_column": null,
            "overflow_y": null,
            "overflow_x": null,
            "grid_auto_flow": null,
            "grid_area": null,
            "grid_template_columns": null,
            "flex": null,
            "_model_name": "LayoutModel",
            "justify_items": null,
            "grid_row": null,
            "max_height": null,
            "align_content": null,
            "visibility": null,
            "align_self": null,
            "height": null,
            "min_height": null,
            "padding": null,
            "grid_auto_rows": null,
            "grid_gap": null,
            "max_width": null,
            "order": null,
            "_view_module_version": "1.2.0",
            "grid_template_areas": null,
            "object_position": null,
            "object_fit": null,
            "grid_auto_columns": null,
            "margin": null,
            "display": null,
            "left": null
          }
        },
        "707062b15bda4a02a6698f2bbc24c584": {
          "model_module": "@jupyter-widgets/controls",
          "model_name": "ProgressStyleModel",
          "model_module_version": "1.5.0",
          "state": {
            "_view_name": "StyleView",
            "_model_name": "ProgressStyleModel",
            "description_width": "",
            "_view_module": "@jupyter-widgets/base",
            "_model_module_version": "1.5.0",
            "_view_count": null,
            "_view_module_version": "1.2.0",
            "bar_color": null,
            "_model_module": "@jupyter-widgets/controls"
          }
        },
        "6f2a27507f9f443cb956630dcab17be2": {
          "model_module": "@jupyter-widgets/base",
          "model_name": "LayoutModel",
          "model_module_version": "1.2.0",
          "state": {
            "_view_name": "LayoutView",
            "grid_template_rows": null,
            "right": null,
            "justify_content": null,
            "_view_module": "@jupyter-widgets/base",
            "overflow": null,
            "_model_module_version": "1.2.0",
            "_view_count": null,
            "flex_flow": null,
            "width": null,
            "min_width": null,
            "border": null,
            "align_items": null,
            "bottom": null,
            "_model_module": "@jupyter-widgets/base",
            "top": null,
            "grid_column": null,
            "overflow_y": null,
            "overflow_x": null,
            "grid_auto_flow": null,
            "grid_area": null,
            "grid_template_columns": null,
            "flex": null,
            "_model_name": "LayoutModel",
            "justify_items": null,
            "grid_row": null,
            "max_height": null,
            "align_content": null,
            "visibility": null,
            "align_self": null,
            "height": null,
            "min_height": null,
            "padding": null,
            "grid_auto_rows": null,
            "grid_gap": null,
            "max_width": null,
            "order": null,
            "_view_module_version": "1.2.0",
            "grid_template_areas": null,
            "object_position": null,
            "object_fit": null,
            "grid_auto_columns": null,
            "margin": null,
            "display": null,
            "left": null
          }
        },
        "35e3124883674a6e912c248f811557a9": {
          "model_module": "@jupyter-widgets/controls",
          "model_name": "VBoxModel",
          "model_module_version": "1.5.0",
          "state": {
            "_view_name": "VBoxView",
            "_dom_classes": [],
            "_model_name": "VBoxModel",
            "_view_module": "@jupyter-widgets/controls",
            "_model_module_version": "1.5.0",
            "_view_count": null,
            "_view_module_version": "1.5.0",
            "box_style": "",
            "layout": "IPY_MODEL_593fc05b8b1548fbb2dc70bfc71e8630",
            "_model_module": "@jupyter-widgets/controls",
            "children": [
              "IPY_MODEL_8b2158ee834646148fa61aeb0756b875",
              "IPY_MODEL_5f2f52c80d714b8a8b9d6c23362e624d"
            ]
          }
        },
        "593fc05b8b1548fbb2dc70bfc71e8630": {
          "model_module": "@jupyter-widgets/base",
          "model_name": "LayoutModel",
          "model_module_version": "1.2.0",
          "state": {
            "_view_name": "LayoutView",
            "grid_template_rows": null,
            "right": null,
            "justify_content": null,
            "_view_module": "@jupyter-widgets/base",
            "overflow": null,
            "_model_module_version": "1.2.0",
            "_view_count": null,
            "flex_flow": null,
            "width": null,
            "min_width": null,
            "border": null,
            "align_items": null,
            "bottom": null,
            "_model_module": "@jupyter-widgets/base",
            "top": null,
            "grid_column": null,
            "overflow_y": null,
            "overflow_x": null,
            "grid_auto_flow": null,
            "grid_area": null,
            "grid_template_columns": null,
            "flex": null,
            "_model_name": "LayoutModel",
            "justify_items": null,
            "grid_row": null,
            "max_height": null,
            "align_content": null,
            "visibility": null,
            "align_self": null,
            "height": null,
            "min_height": null,
            "padding": null,
            "grid_auto_rows": null,
            "grid_gap": null,
            "max_width": null,
            "order": null,
            "_view_module_version": "1.2.0",
            "grid_template_areas": null,
            "object_position": null,
            "object_fit": null,
            "grid_auto_columns": null,
            "margin": null,
            "display": null,
            "left": null
          }
        },
        "8b2158ee834646148fa61aeb0756b875": {
          "model_module": "@jupyter-widgets/controls",
          "model_name": "LabelModel",
          "model_module_version": "1.5.0",
          "state": {
            "_view_name": "LabelView",
            "style": "IPY_MODEL_c66d6eb938f94300b081a215a358bc12",
            "_dom_classes": [],
            "description": "",
            "_model_name": "LabelModel",
            "placeholder": "​",
            "_view_module": "@jupyter-widgets/controls",
            "_model_module_version": "1.5.0",
            "value": " 0.01MB of 0.01MB uploaded (0.00MB deduped)\r",
            "_view_count": null,
            "_view_module_version": "1.5.0",
            "description_tooltip": null,
            "_model_module": "@jupyter-widgets/controls",
            "layout": "IPY_MODEL_2b2bc74185414c3da01f5345b5dfddb7"
          }
        },
        "5f2f52c80d714b8a8b9d6c23362e624d": {
          "model_module": "@jupyter-widgets/controls",
          "model_name": "FloatProgressModel",
          "model_module_version": "1.5.0",
          "state": {
            "_view_name": "ProgressView",
            "style": "IPY_MODEL_4f2cd98fd7144dcaa3b74946b32bc443",
            "_dom_classes": [],
            "description": "",
            "_model_name": "FloatProgressModel",
            "bar_style": "",
            "max": 1,
            "_view_module": "@jupyter-widgets/controls",
            "_model_module_version": "1.5.0",
            "value": 1,
            "_view_count": null,
            "_view_module_version": "1.5.0",
            "orientation": "horizontal",
            "min": 0,
            "description_tooltip": null,
            "_model_module": "@jupyter-widgets/controls",
            "layout": "IPY_MODEL_87eaf2e0b127480e8f28bbb968c6723e"
          }
        },
        "c66d6eb938f94300b081a215a358bc12": {
          "model_module": "@jupyter-widgets/controls",
          "model_name": "DescriptionStyleModel",
          "model_module_version": "1.5.0",
          "state": {
            "_view_name": "StyleView",
            "_model_name": "DescriptionStyleModel",
            "description_width": "",
            "_view_module": "@jupyter-widgets/base",
            "_model_module_version": "1.5.0",
            "_view_count": null,
            "_view_module_version": "1.2.0",
            "_model_module": "@jupyter-widgets/controls"
          }
        },
        "2b2bc74185414c3da01f5345b5dfddb7": {
          "model_module": "@jupyter-widgets/base",
          "model_name": "LayoutModel",
          "model_module_version": "1.2.0",
          "state": {
            "_view_name": "LayoutView",
            "grid_template_rows": null,
            "right": null,
            "justify_content": null,
            "_view_module": "@jupyter-widgets/base",
            "overflow": null,
            "_model_module_version": "1.2.0",
            "_view_count": null,
            "flex_flow": null,
            "width": null,
            "min_width": null,
            "border": null,
            "align_items": null,
            "bottom": null,
            "_model_module": "@jupyter-widgets/base",
            "top": null,
            "grid_column": null,
            "overflow_y": null,
            "overflow_x": null,
            "grid_auto_flow": null,
            "grid_area": null,
            "grid_template_columns": null,
            "flex": null,
            "_model_name": "LayoutModel",
            "justify_items": null,
            "grid_row": null,
            "max_height": null,
            "align_content": null,
            "visibility": null,
            "align_self": null,
            "height": null,
            "min_height": null,
            "padding": null,
            "grid_auto_rows": null,
            "grid_gap": null,
            "max_width": null,
            "order": null,
            "_view_module_version": "1.2.0",
            "grid_template_areas": null,
            "object_position": null,
            "object_fit": null,
            "grid_auto_columns": null,
            "margin": null,
            "display": null,
            "left": null
          }
        },
        "4f2cd98fd7144dcaa3b74946b32bc443": {
          "model_module": "@jupyter-widgets/controls",
          "model_name": "ProgressStyleModel",
          "model_module_version": "1.5.0",
          "state": {
            "_view_name": "StyleView",
            "_model_name": "ProgressStyleModel",
            "description_width": "",
            "_view_module": "@jupyter-widgets/base",
            "_model_module_version": "1.5.0",
            "_view_count": null,
            "_view_module_version": "1.2.0",
            "bar_color": null,
            "_model_module": "@jupyter-widgets/controls"
          }
        },
        "87eaf2e0b127480e8f28bbb968c6723e": {
          "model_module": "@jupyter-widgets/base",
          "model_name": "LayoutModel",
          "model_module_version": "1.2.0",
          "state": {
            "_view_name": "LayoutView",
            "grid_template_rows": null,
            "right": null,
            "justify_content": null,
            "_view_module": "@jupyter-widgets/base",
            "overflow": null,
            "_model_module_version": "1.2.0",
            "_view_count": null,
            "flex_flow": null,
            "width": null,
            "min_width": null,
            "border": null,
            "align_items": null,
            "bottom": null,
            "_model_module": "@jupyter-widgets/base",
            "top": null,
            "grid_column": null,
            "overflow_y": null,
            "overflow_x": null,
            "grid_auto_flow": null,
            "grid_area": null,
            "grid_template_columns": null,
            "flex": null,
            "_model_name": "LayoutModel",
            "justify_items": null,
            "grid_row": null,
            "max_height": null,
            "align_content": null,
            "visibility": null,
            "align_self": null,
            "height": null,
            "min_height": null,
            "padding": null,
            "grid_auto_rows": null,
            "grid_gap": null,
            "max_width": null,
            "order": null,
            "_view_module_version": "1.2.0",
            "grid_template_areas": null,
            "object_position": null,
            "object_fit": null,
            "grid_auto_columns": null,
            "margin": null,
            "display": null,
            "left": null
          }
        },
        "ced8746940d94a50977237c83993b0f6": {
          "model_module": "@jupyter-widgets/controls",
          "model_name": "VBoxModel",
          "model_module_version": "1.5.0",
          "state": {
            "_view_name": "VBoxView",
            "_dom_classes": [],
            "_model_name": "VBoxModel",
            "_view_module": "@jupyter-widgets/controls",
            "_model_module_version": "1.5.0",
            "_view_count": null,
            "_view_module_version": "1.5.0",
            "box_style": "",
            "layout": "IPY_MODEL_37937ebe14544fb29b9835b92e3088a5",
            "_model_module": "@jupyter-widgets/controls",
            "children": [
              "IPY_MODEL_7b24cebeb9dc4cb2987f05d2904e102d",
              "IPY_MODEL_9b9b6f1bfcd14af1af0b33a53e9917b4"
            ]
          }
        },
        "37937ebe14544fb29b9835b92e3088a5": {
          "model_module": "@jupyter-widgets/base",
          "model_name": "LayoutModel",
          "model_module_version": "1.2.0",
          "state": {
            "_view_name": "LayoutView",
            "grid_template_rows": null,
            "right": null,
            "justify_content": null,
            "_view_module": "@jupyter-widgets/base",
            "overflow": null,
            "_model_module_version": "1.2.0",
            "_view_count": null,
            "flex_flow": null,
            "width": null,
            "min_width": null,
            "border": null,
            "align_items": null,
            "bottom": null,
            "_model_module": "@jupyter-widgets/base",
            "top": null,
            "grid_column": null,
            "overflow_y": null,
            "overflow_x": null,
            "grid_auto_flow": null,
            "grid_area": null,
            "grid_template_columns": null,
            "flex": null,
            "_model_name": "LayoutModel",
            "justify_items": null,
            "grid_row": null,
            "max_height": null,
            "align_content": null,
            "visibility": null,
            "align_self": null,
            "height": null,
            "min_height": null,
            "padding": null,
            "grid_auto_rows": null,
            "grid_gap": null,
            "max_width": null,
            "order": null,
            "_view_module_version": "1.2.0",
            "grid_template_areas": null,
            "object_position": null,
            "object_fit": null,
            "grid_auto_columns": null,
            "margin": null,
            "display": null,
            "left": null
          }
        },
        "7b24cebeb9dc4cb2987f05d2904e102d": {
          "model_module": "@jupyter-widgets/controls",
          "model_name": "LabelModel",
          "model_module_version": "1.5.0",
          "state": {
            "_view_name": "LabelView",
            "style": "IPY_MODEL_f2212444fb2a46ca88f282d78a3b93e1",
            "_dom_classes": [],
            "description": "",
            "_model_name": "LabelModel",
            "placeholder": "​",
            "_view_module": "@jupyter-widgets/controls",
            "_model_module_version": "1.5.0",
            "value": " 0.01MB of 0.01MB uploaded (0.00MB deduped)\r",
            "_view_count": null,
            "_view_module_version": "1.5.0",
            "description_tooltip": null,
            "_model_module": "@jupyter-widgets/controls",
            "layout": "IPY_MODEL_8e79fdcf8b37427589ffb64149832177"
          }
        },
        "9b9b6f1bfcd14af1af0b33a53e9917b4": {
          "model_module": "@jupyter-widgets/controls",
          "model_name": "FloatProgressModel",
          "model_module_version": "1.5.0",
          "state": {
            "_view_name": "ProgressView",
            "style": "IPY_MODEL_804482c2589f485dbca683615bed582d",
            "_dom_classes": [],
            "description": "",
            "_model_name": "FloatProgressModel",
            "bar_style": "",
            "max": 1,
            "_view_module": "@jupyter-widgets/controls",
            "_model_module_version": "1.5.0",
            "value": 1,
            "_view_count": null,
            "_view_module_version": "1.5.0",
            "orientation": "horizontal",
            "min": 0,
            "description_tooltip": null,
            "_model_module": "@jupyter-widgets/controls",
            "layout": "IPY_MODEL_17823460f4154439a1c8e122187238fd"
          }
        },
        "f2212444fb2a46ca88f282d78a3b93e1": {
          "model_module": "@jupyter-widgets/controls",
          "model_name": "DescriptionStyleModel",
          "model_module_version": "1.5.0",
          "state": {
            "_view_name": "StyleView",
            "_model_name": "DescriptionStyleModel",
            "description_width": "",
            "_view_module": "@jupyter-widgets/base",
            "_model_module_version": "1.5.0",
            "_view_count": null,
            "_view_module_version": "1.2.0",
            "_model_module": "@jupyter-widgets/controls"
          }
        },
        "8e79fdcf8b37427589ffb64149832177": {
          "model_module": "@jupyter-widgets/base",
          "model_name": "LayoutModel",
          "model_module_version": "1.2.0",
          "state": {
            "_view_name": "LayoutView",
            "grid_template_rows": null,
            "right": null,
            "justify_content": null,
            "_view_module": "@jupyter-widgets/base",
            "overflow": null,
            "_model_module_version": "1.2.0",
            "_view_count": null,
            "flex_flow": null,
            "width": null,
            "min_width": null,
            "border": null,
            "align_items": null,
            "bottom": null,
            "_model_module": "@jupyter-widgets/base",
            "top": null,
            "grid_column": null,
            "overflow_y": null,
            "overflow_x": null,
            "grid_auto_flow": null,
            "grid_area": null,
            "grid_template_columns": null,
            "flex": null,
            "_model_name": "LayoutModel",
            "justify_items": null,
            "grid_row": null,
            "max_height": null,
            "align_content": null,
            "visibility": null,
            "align_self": null,
            "height": null,
            "min_height": null,
            "padding": null,
            "grid_auto_rows": null,
            "grid_gap": null,
            "max_width": null,
            "order": null,
            "_view_module_version": "1.2.0",
            "grid_template_areas": null,
            "object_position": null,
            "object_fit": null,
            "grid_auto_columns": null,
            "margin": null,
            "display": null,
            "left": null
          }
        },
        "804482c2589f485dbca683615bed582d": {
          "model_module": "@jupyter-widgets/controls",
          "model_name": "ProgressStyleModel",
          "model_module_version": "1.5.0",
          "state": {
            "_view_name": "StyleView",
            "_model_name": "ProgressStyleModel",
            "description_width": "",
            "_view_module": "@jupyter-widgets/base",
            "_model_module_version": "1.5.0",
            "_view_count": null,
            "_view_module_version": "1.2.0",
            "bar_color": null,
            "_model_module": "@jupyter-widgets/controls"
          }
        },
        "17823460f4154439a1c8e122187238fd": {
          "model_module": "@jupyter-widgets/base",
          "model_name": "LayoutModel",
          "model_module_version": "1.2.0",
          "state": {
            "_view_name": "LayoutView",
            "grid_template_rows": null,
            "right": null,
            "justify_content": null,
            "_view_module": "@jupyter-widgets/base",
            "overflow": null,
            "_model_module_version": "1.2.0",
            "_view_count": null,
            "flex_flow": null,
            "width": null,
            "min_width": null,
            "border": null,
            "align_items": null,
            "bottom": null,
            "_model_module": "@jupyter-widgets/base",
            "top": null,
            "grid_column": null,
            "overflow_y": null,
            "overflow_x": null,
            "grid_auto_flow": null,
            "grid_area": null,
            "grid_template_columns": null,
            "flex": null,
            "_model_name": "LayoutModel",
            "justify_items": null,
            "grid_row": null,
            "max_height": null,
            "align_content": null,
            "visibility": null,
            "align_self": null,
            "height": null,
            "min_height": null,
            "padding": null,
            "grid_auto_rows": null,
            "grid_gap": null,
            "max_width": null,
            "order": null,
            "_view_module_version": "1.2.0",
            "grid_template_areas": null,
            "object_position": null,
            "object_fit": null,
            "grid_auto_columns": null,
            "margin": null,
            "display": null,
            "left": null
          }
        },
        "477f228acdb848028c0f3f26674986a8": {
          "model_module": "@jupyter-widgets/controls",
          "model_name": "VBoxModel",
          "model_module_version": "1.5.0",
          "state": {
            "_view_name": "VBoxView",
            "_dom_classes": [],
            "_model_name": "VBoxModel",
            "_view_module": "@jupyter-widgets/controls",
            "_model_module_version": "1.5.0",
            "_view_count": null,
            "_view_module_version": "1.5.0",
            "box_style": "",
            "layout": "IPY_MODEL_00990609006341c08f9fd6ae99a491d7",
            "_model_module": "@jupyter-widgets/controls",
            "children": [
              "IPY_MODEL_7738b1761fd846efab3b45a0393c76bf",
              "IPY_MODEL_d1b5fb0b9649459398b68c7b6869b9fc"
            ]
          }
        },
        "00990609006341c08f9fd6ae99a491d7": {
          "model_module": "@jupyter-widgets/base",
          "model_name": "LayoutModel",
          "model_module_version": "1.2.0",
          "state": {
            "_view_name": "LayoutView",
            "grid_template_rows": null,
            "right": null,
            "justify_content": null,
            "_view_module": "@jupyter-widgets/base",
            "overflow": null,
            "_model_module_version": "1.2.0",
            "_view_count": null,
            "flex_flow": null,
            "width": null,
            "min_width": null,
            "border": null,
            "align_items": null,
            "bottom": null,
            "_model_module": "@jupyter-widgets/base",
            "top": null,
            "grid_column": null,
            "overflow_y": null,
            "overflow_x": null,
            "grid_auto_flow": null,
            "grid_area": null,
            "grid_template_columns": null,
            "flex": null,
            "_model_name": "LayoutModel",
            "justify_items": null,
            "grid_row": null,
            "max_height": null,
            "align_content": null,
            "visibility": null,
            "align_self": null,
            "height": null,
            "min_height": null,
            "padding": null,
            "grid_auto_rows": null,
            "grid_gap": null,
            "max_width": null,
            "order": null,
            "_view_module_version": "1.2.0",
            "grid_template_areas": null,
            "object_position": null,
            "object_fit": null,
            "grid_auto_columns": null,
            "margin": null,
            "display": null,
            "left": null
          }
        },
        "7738b1761fd846efab3b45a0393c76bf": {
          "model_module": "@jupyter-widgets/controls",
          "model_name": "LabelModel",
          "model_module_version": "1.5.0",
          "state": {
            "_view_name": "LabelView",
            "style": "IPY_MODEL_7ee841a177594f7589c3fb2a4fbf774a",
            "_dom_classes": [],
            "description": "",
            "_model_name": "LabelModel",
            "placeholder": "​",
            "_view_module": "@jupyter-widgets/controls",
            "_model_module_version": "1.5.0",
            "value": " 0.01MB of 0.01MB uploaded (0.00MB deduped)\r",
            "_view_count": null,
            "_view_module_version": "1.5.0",
            "description_tooltip": null,
            "_model_module": "@jupyter-widgets/controls",
            "layout": "IPY_MODEL_49a9caf94876456a9913e448dd577cde"
          }
        },
        "d1b5fb0b9649459398b68c7b6869b9fc": {
          "model_module": "@jupyter-widgets/controls",
          "model_name": "FloatProgressModel",
          "model_module_version": "1.5.0",
          "state": {
            "_view_name": "ProgressView",
            "style": "IPY_MODEL_efb16e937afb4cdbbcc4303b376177c5",
            "_dom_classes": [],
            "description": "",
            "_model_name": "FloatProgressModel",
            "bar_style": "",
            "max": 1,
            "_view_module": "@jupyter-widgets/controls",
            "_model_module_version": "1.5.0",
            "value": 1,
            "_view_count": null,
            "_view_module_version": "1.5.0",
            "orientation": "horizontal",
            "min": 0,
            "description_tooltip": null,
            "_model_module": "@jupyter-widgets/controls",
            "layout": "IPY_MODEL_305f9967ea2648dbbf6f39d004a61c1e"
          }
        },
        "7ee841a177594f7589c3fb2a4fbf774a": {
          "model_module": "@jupyter-widgets/controls",
          "model_name": "DescriptionStyleModel",
          "model_module_version": "1.5.0",
          "state": {
            "_view_name": "StyleView",
            "_model_name": "DescriptionStyleModel",
            "description_width": "",
            "_view_module": "@jupyter-widgets/base",
            "_model_module_version": "1.5.0",
            "_view_count": null,
            "_view_module_version": "1.2.0",
            "_model_module": "@jupyter-widgets/controls"
          }
        },
        "49a9caf94876456a9913e448dd577cde": {
          "model_module": "@jupyter-widgets/base",
          "model_name": "LayoutModel",
          "model_module_version": "1.2.0",
          "state": {
            "_view_name": "LayoutView",
            "grid_template_rows": null,
            "right": null,
            "justify_content": null,
            "_view_module": "@jupyter-widgets/base",
            "overflow": null,
            "_model_module_version": "1.2.0",
            "_view_count": null,
            "flex_flow": null,
            "width": null,
            "min_width": null,
            "border": null,
            "align_items": null,
            "bottom": null,
            "_model_module": "@jupyter-widgets/base",
            "top": null,
            "grid_column": null,
            "overflow_y": null,
            "overflow_x": null,
            "grid_auto_flow": null,
            "grid_area": null,
            "grid_template_columns": null,
            "flex": null,
            "_model_name": "LayoutModel",
            "justify_items": null,
            "grid_row": null,
            "max_height": null,
            "align_content": null,
            "visibility": null,
            "align_self": null,
            "height": null,
            "min_height": null,
            "padding": null,
            "grid_auto_rows": null,
            "grid_gap": null,
            "max_width": null,
            "order": null,
            "_view_module_version": "1.2.0",
            "grid_template_areas": null,
            "object_position": null,
            "object_fit": null,
            "grid_auto_columns": null,
            "margin": null,
            "display": null,
            "left": null
          }
        },
        "efb16e937afb4cdbbcc4303b376177c5": {
          "model_module": "@jupyter-widgets/controls",
          "model_name": "ProgressStyleModel",
          "model_module_version": "1.5.0",
          "state": {
            "_view_name": "StyleView",
            "_model_name": "ProgressStyleModel",
            "description_width": "",
            "_view_module": "@jupyter-widgets/base",
            "_model_module_version": "1.5.0",
            "_view_count": null,
            "_view_module_version": "1.2.0",
            "bar_color": null,
            "_model_module": "@jupyter-widgets/controls"
          }
        },
        "305f9967ea2648dbbf6f39d004a61c1e": {
          "model_module": "@jupyter-widgets/base",
          "model_name": "LayoutModel",
          "model_module_version": "1.2.0",
          "state": {
            "_view_name": "LayoutView",
            "grid_template_rows": null,
            "right": null,
            "justify_content": null,
            "_view_module": "@jupyter-widgets/base",
            "overflow": null,
            "_model_module_version": "1.2.0",
            "_view_count": null,
            "flex_flow": null,
            "width": null,
            "min_width": null,
            "border": null,
            "align_items": null,
            "bottom": null,
            "_model_module": "@jupyter-widgets/base",
            "top": null,
            "grid_column": null,
            "overflow_y": null,
            "overflow_x": null,
            "grid_auto_flow": null,
            "grid_area": null,
            "grid_template_columns": null,
            "flex": null,
            "_model_name": "LayoutModel",
            "justify_items": null,
            "grid_row": null,
            "max_height": null,
            "align_content": null,
            "visibility": null,
            "align_self": null,
            "height": null,
            "min_height": null,
            "padding": null,
            "grid_auto_rows": null,
            "grid_gap": null,
            "max_width": null,
            "order": null,
            "_view_module_version": "1.2.0",
            "grid_template_areas": null,
            "object_position": null,
            "object_fit": null,
            "grid_auto_columns": null,
            "margin": null,
            "display": null,
            "left": null
          }
        },
        "dcf337cd39774799987005fc77de2676": {
          "model_module": "@jupyter-widgets/controls",
          "model_name": "VBoxModel",
          "model_module_version": "1.5.0",
          "state": {
            "_view_name": "VBoxView",
            "_dom_classes": [],
            "_model_name": "VBoxModel",
            "_view_module": "@jupyter-widgets/controls",
            "_model_module_version": "1.5.0",
            "_view_count": null,
            "_view_module_version": "1.5.0",
            "box_style": "",
            "layout": "IPY_MODEL_6a76092c103b49cb93ba45d36b9a89c3",
            "_model_module": "@jupyter-widgets/controls",
            "children": [
              "IPY_MODEL_32e79a95ea7345a29260f42bcc0ff9dc",
              "IPY_MODEL_ec7e3c35533e4c058d8651215840d852"
            ]
          }
        },
        "6a76092c103b49cb93ba45d36b9a89c3": {
          "model_module": "@jupyter-widgets/base",
          "model_name": "LayoutModel",
          "model_module_version": "1.2.0",
          "state": {
            "_view_name": "LayoutView",
            "grid_template_rows": null,
            "right": null,
            "justify_content": null,
            "_view_module": "@jupyter-widgets/base",
            "overflow": null,
            "_model_module_version": "1.2.0",
            "_view_count": null,
            "flex_flow": null,
            "width": null,
            "min_width": null,
            "border": null,
            "align_items": null,
            "bottom": null,
            "_model_module": "@jupyter-widgets/base",
            "top": null,
            "grid_column": null,
            "overflow_y": null,
            "overflow_x": null,
            "grid_auto_flow": null,
            "grid_area": null,
            "grid_template_columns": null,
            "flex": null,
            "_model_name": "LayoutModel",
            "justify_items": null,
            "grid_row": null,
            "max_height": null,
            "align_content": null,
            "visibility": null,
            "align_self": null,
            "height": null,
            "min_height": null,
            "padding": null,
            "grid_auto_rows": null,
            "grid_gap": null,
            "max_width": null,
            "order": null,
            "_view_module_version": "1.2.0",
            "grid_template_areas": null,
            "object_position": null,
            "object_fit": null,
            "grid_auto_columns": null,
            "margin": null,
            "display": null,
            "left": null
          }
        },
        "32e79a95ea7345a29260f42bcc0ff9dc": {
          "model_module": "@jupyter-widgets/controls",
          "model_name": "LabelModel",
          "model_module_version": "1.5.0",
          "state": {
            "_view_name": "LabelView",
            "style": "IPY_MODEL_8baef3c8430d4e2e8492673eaddd9384",
            "_dom_classes": [],
            "description": "",
            "_model_name": "LabelModel",
            "placeholder": "​",
            "_view_module": "@jupyter-widgets/controls",
            "_model_module_version": "1.5.0",
            "value": " 0.01MB of 0.01MB uploaded (0.00MB deduped)\r",
            "_view_count": null,
            "_view_module_version": "1.5.0",
            "description_tooltip": null,
            "_model_module": "@jupyter-widgets/controls",
            "layout": "IPY_MODEL_1d9719e3bc104b89b0cc1b39e4ee240b"
          }
        },
        "ec7e3c35533e4c058d8651215840d852": {
          "model_module": "@jupyter-widgets/controls",
          "model_name": "FloatProgressModel",
          "model_module_version": "1.5.0",
          "state": {
            "_view_name": "ProgressView",
            "style": "IPY_MODEL_b6b9dce0f82245b1a95b5b8e59b5bdd9",
            "_dom_classes": [],
            "description": "",
            "_model_name": "FloatProgressModel",
            "bar_style": "",
            "max": 1,
            "_view_module": "@jupyter-widgets/controls",
            "_model_module_version": "1.5.0",
            "value": 1,
            "_view_count": null,
            "_view_module_version": "1.5.0",
            "orientation": "horizontal",
            "min": 0,
            "description_tooltip": null,
            "_model_module": "@jupyter-widgets/controls",
            "layout": "IPY_MODEL_3150395c9b6c44bdb4ef80399ea57a28"
          }
        },
        "8baef3c8430d4e2e8492673eaddd9384": {
          "model_module": "@jupyter-widgets/controls",
          "model_name": "DescriptionStyleModel",
          "model_module_version": "1.5.0",
          "state": {
            "_view_name": "StyleView",
            "_model_name": "DescriptionStyleModel",
            "description_width": "",
            "_view_module": "@jupyter-widgets/base",
            "_model_module_version": "1.5.0",
            "_view_count": null,
            "_view_module_version": "1.2.0",
            "_model_module": "@jupyter-widgets/controls"
          }
        },
        "1d9719e3bc104b89b0cc1b39e4ee240b": {
          "model_module": "@jupyter-widgets/base",
          "model_name": "LayoutModel",
          "model_module_version": "1.2.0",
          "state": {
            "_view_name": "LayoutView",
            "grid_template_rows": null,
            "right": null,
            "justify_content": null,
            "_view_module": "@jupyter-widgets/base",
            "overflow": null,
            "_model_module_version": "1.2.0",
            "_view_count": null,
            "flex_flow": null,
            "width": null,
            "min_width": null,
            "border": null,
            "align_items": null,
            "bottom": null,
            "_model_module": "@jupyter-widgets/base",
            "top": null,
            "grid_column": null,
            "overflow_y": null,
            "overflow_x": null,
            "grid_auto_flow": null,
            "grid_area": null,
            "grid_template_columns": null,
            "flex": null,
            "_model_name": "LayoutModel",
            "justify_items": null,
            "grid_row": null,
            "max_height": null,
            "align_content": null,
            "visibility": null,
            "align_self": null,
            "height": null,
            "min_height": null,
            "padding": null,
            "grid_auto_rows": null,
            "grid_gap": null,
            "max_width": null,
            "order": null,
            "_view_module_version": "1.2.0",
            "grid_template_areas": null,
            "object_position": null,
            "object_fit": null,
            "grid_auto_columns": null,
            "margin": null,
            "display": null,
            "left": null
          }
        },
        "b6b9dce0f82245b1a95b5b8e59b5bdd9": {
          "model_module": "@jupyter-widgets/controls",
          "model_name": "ProgressStyleModel",
          "model_module_version": "1.5.0",
          "state": {
            "_view_name": "StyleView",
            "_model_name": "ProgressStyleModel",
            "description_width": "",
            "_view_module": "@jupyter-widgets/base",
            "_model_module_version": "1.5.0",
            "_view_count": null,
            "_view_module_version": "1.2.0",
            "bar_color": null,
            "_model_module": "@jupyter-widgets/controls"
          }
        },
        "3150395c9b6c44bdb4ef80399ea57a28": {
          "model_module": "@jupyter-widgets/base",
          "model_name": "LayoutModel",
          "model_module_version": "1.2.0",
          "state": {
            "_view_name": "LayoutView",
            "grid_template_rows": null,
            "right": null,
            "justify_content": null,
            "_view_module": "@jupyter-widgets/base",
            "overflow": null,
            "_model_module_version": "1.2.0",
            "_view_count": null,
            "flex_flow": null,
            "width": null,
            "min_width": null,
            "border": null,
            "align_items": null,
            "bottom": null,
            "_model_module": "@jupyter-widgets/base",
            "top": null,
            "grid_column": null,
            "overflow_y": null,
            "overflow_x": null,
            "grid_auto_flow": null,
            "grid_area": null,
            "grid_template_columns": null,
            "flex": null,
            "_model_name": "LayoutModel",
            "justify_items": null,
            "grid_row": null,
            "max_height": null,
            "align_content": null,
            "visibility": null,
            "align_self": null,
            "height": null,
            "min_height": null,
            "padding": null,
            "grid_auto_rows": null,
            "grid_gap": null,
            "max_width": null,
            "order": null,
            "_view_module_version": "1.2.0",
            "grid_template_areas": null,
            "object_position": null,
            "object_fit": null,
            "grid_auto_columns": null,
            "margin": null,
            "display": null,
            "left": null
          }
        },
        "d4e2bc29bbb948fcba65e82673d2f59a": {
          "model_module": "@jupyter-widgets/controls",
          "model_name": "VBoxModel",
          "model_module_version": "1.5.0",
          "state": {
            "_view_name": "VBoxView",
            "_dom_classes": [],
            "_model_name": "VBoxModel",
            "_view_module": "@jupyter-widgets/controls",
            "_model_module_version": "1.5.0",
            "_view_count": null,
            "_view_module_version": "1.5.0",
            "box_style": "",
            "layout": "IPY_MODEL_3ae95cc53b5b4a598adf875d8e1bd6c4",
            "_model_module": "@jupyter-widgets/controls",
            "children": [
              "IPY_MODEL_100fa5ea6ad8427d9f2e1bf4d4a3a42f",
              "IPY_MODEL_7750dbb740124746b6ec0c61e87967d4"
            ]
          }
        },
        "3ae95cc53b5b4a598adf875d8e1bd6c4": {
          "model_module": "@jupyter-widgets/base",
          "model_name": "LayoutModel",
          "model_module_version": "1.2.0",
          "state": {
            "_view_name": "LayoutView",
            "grid_template_rows": null,
            "right": null,
            "justify_content": null,
            "_view_module": "@jupyter-widgets/base",
            "overflow": null,
            "_model_module_version": "1.2.0",
            "_view_count": null,
            "flex_flow": null,
            "width": null,
            "min_width": null,
            "border": null,
            "align_items": null,
            "bottom": null,
            "_model_module": "@jupyter-widgets/base",
            "top": null,
            "grid_column": null,
            "overflow_y": null,
            "overflow_x": null,
            "grid_auto_flow": null,
            "grid_area": null,
            "grid_template_columns": null,
            "flex": null,
            "_model_name": "LayoutModel",
            "justify_items": null,
            "grid_row": null,
            "max_height": null,
            "align_content": null,
            "visibility": null,
            "align_self": null,
            "height": null,
            "min_height": null,
            "padding": null,
            "grid_auto_rows": null,
            "grid_gap": null,
            "max_width": null,
            "order": null,
            "_view_module_version": "1.2.0",
            "grid_template_areas": null,
            "object_position": null,
            "object_fit": null,
            "grid_auto_columns": null,
            "margin": null,
            "display": null,
            "left": null
          }
        },
        "100fa5ea6ad8427d9f2e1bf4d4a3a42f": {
          "model_module": "@jupyter-widgets/controls",
          "model_name": "LabelModel",
          "model_module_version": "1.5.0",
          "state": {
            "_view_name": "LabelView",
            "style": "IPY_MODEL_5ecd4d2c86d34f95b5756de7e9dd6e96",
            "_dom_classes": [],
            "description": "",
            "_model_name": "LabelModel",
            "placeholder": "​",
            "_view_module": "@jupyter-widgets/controls",
            "_model_module_version": "1.5.0",
            "value": " 0.01MB of 0.01MB uploaded (0.00MB deduped)\r",
            "_view_count": null,
            "_view_module_version": "1.5.0",
            "description_tooltip": null,
            "_model_module": "@jupyter-widgets/controls",
            "layout": "IPY_MODEL_c471ac4664a9451fb0b580849a4ff81f"
          }
        },
        "7750dbb740124746b6ec0c61e87967d4": {
          "model_module": "@jupyter-widgets/controls",
          "model_name": "FloatProgressModel",
          "model_module_version": "1.5.0",
          "state": {
            "_view_name": "ProgressView",
            "style": "IPY_MODEL_8d89c25e3f214fe19dcbc19f0ba672e6",
            "_dom_classes": [],
            "description": "",
            "_model_name": "FloatProgressModel",
            "bar_style": "",
            "max": 1,
            "_view_module": "@jupyter-widgets/controls",
            "_model_module_version": "1.5.0",
            "value": 1,
            "_view_count": null,
            "_view_module_version": "1.5.0",
            "orientation": "horizontal",
            "min": 0,
            "description_tooltip": null,
            "_model_module": "@jupyter-widgets/controls",
            "layout": "IPY_MODEL_1165e3b14585448bb42d9f1efe4200f9"
          }
        },
        "5ecd4d2c86d34f95b5756de7e9dd6e96": {
          "model_module": "@jupyter-widgets/controls",
          "model_name": "DescriptionStyleModel",
          "model_module_version": "1.5.0",
          "state": {
            "_view_name": "StyleView",
            "_model_name": "DescriptionStyleModel",
            "description_width": "",
            "_view_module": "@jupyter-widgets/base",
            "_model_module_version": "1.5.0",
            "_view_count": null,
            "_view_module_version": "1.2.0",
            "_model_module": "@jupyter-widgets/controls"
          }
        },
        "c471ac4664a9451fb0b580849a4ff81f": {
          "model_module": "@jupyter-widgets/base",
          "model_name": "LayoutModel",
          "model_module_version": "1.2.0",
          "state": {
            "_view_name": "LayoutView",
            "grid_template_rows": null,
            "right": null,
            "justify_content": null,
            "_view_module": "@jupyter-widgets/base",
            "overflow": null,
            "_model_module_version": "1.2.0",
            "_view_count": null,
            "flex_flow": null,
            "width": null,
            "min_width": null,
            "border": null,
            "align_items": null,
            "bottom": null,
            "_model_module": "@jupyter-widgets/base",
            "top": null,
            "grid_column": null,
            "overflow_y": null,
            "overflow_x": null,
            "grid_auto_flow": null,
            "grid_area": null,
            "grid_template_columns": null,
            "flex": null,
            "_model_name": "LayoutModel",
            "justify_items": null,
            "grid_row": null,
            "max_height": null,
            "align_content": null,
            "visibility": null,
            "align_self": null,
            "height": null,
            "min_height": null,
            "padding": null,
            "grid_auto_rows": null,
            "grid_gap": null,
            "max_width": null,
            "order": null,
            "_view_module_version": "1.2.0",
            "grid_template_areas": null,
            "object_position": null,
            "object_fit": null,
            "grid_auto_columns": null,
            "margin": null,
            "display": null,
            "left": null
          }
        },
        "8d89c25e3f214fe19dcbc19f0ba672e6": {
          "model_module": "@jupyter-widgets/controls",
          "model_name": "ProgressStyleModel",
          "model_module_version": "1.5.0",
          "state": {
            "_view_name": "StyleView",
            "_model_name": "ProgressStyleModel",
            "description_width": "",
            "_view_module": "@jupyter-widgets/base",
            "_model_module_version": "1.5.0",
            "_view_count": null,
            "_view_module_version": "1.2.0",
            "bar_color": null,
            "_model_module": "@jupyter-widgets/controls"
          }
        },
        "1165e3b14585448bb42d9f1efe4200f9": {
          "model_module": "@jupyter-widgets/base",
          "model_name": "LayoutModel",
          "model_module_version": "1.2.0",
          "state": {
            "_view_name": "LayoutView",
            "grid_template_rows": null,
            "right": null,
            "justify_content": null,
            "_view_module": "@jupyter-widgets/base",
            "overflow": null,
            "_model_module_version": "1.2.0",
            "_view_count": null,
            "flex_flow": null,
            "width": null,
            "min_width": null,
            "border": null,
            "align_items": null,
            "bottom": null,
            "_model_module": "@jupyter-widgets/base",
            "top": null,
            "grid_column": null,
            "overflow_y": null,
            "overflow_x": null,
            "grid_auto_flow": null,
            "grid_area": null,
            "grid_template_columns": null,
            "flex": null,
            "_model_name": "LayoutModel",
            "justify_items": null,
            "grid_row": null,
            "max_height": null,
            "align_content": null,
            "visibility": null,
            "align_self": null,
            "height": null,
            "min_height": null,
            "padding": null,
            "grid_auto_rows": null,
            "grid_gap": null,
            "max_width": null,
            "order": null,
            "_view_module_version": "1.2.0",
            "grid_template_areas": null,
            "object_position": null,
            "object_fit": null,
            "grid_auto_columns": null,
            "margin": null,
            "display": null,
            "left": null
          }
        },
        "794dcf13df0e4618b8abf27559598b90": {
          "model_module": "@jupyter-widgets/controls",
          "model_name": "VBoxModel",
          "model_module_version": "1.5.0",
          "state": {
            "_view_name": "VBoxView",
            "_dom_classes": [],
            "_model_name": "VBoxModel",
            "_view_module": "@jupyter-widgets/controls",
            "_model_module_version": "1.5.0",
            "_view_count": null,
            "_view_module_version": "1.5.0",
            "box_style": "",
            "layout": "IPY_MODEL_8bafc5336bde4b359beba24c1582ee9e",
            "_model_module": "@jupyter-widgets/controls",
            "children": [
              "IPY_MODEL_25975c2d613446e48bf32aad487ed991",
              "IPY_MODEL_b29622201f0c487eafb964cc58a29bb6"
            ]
          }
        },
        "8bafc5336bde4b359beba24c1582ee9e": {
          "model_module": "@jupyter-widgets/base",
          "model_name": "LayoutModel",
          "model_module_version": "1.2.0",
          "state": {
            "_view_name": "LayoutView",
            "grid_template_rows": null,
            "right": null,
            "justify_content": null,
            "_view_module": "@jupyter-widgets/base",
            "overflow": null,
            "_model_module_version": "1.2.0",
            "_view_count": null,
            "flex_flow": null,
            "width": null,
            "min_width": null,
            "border": null,
            "align_items": null,
            "bottom": null,
            "_model_module": "@jupyter-widgets/base",
            "top": null,
            "grid_column": null,
            "overflow_y": null,
            "overflow_x": null,
            "grid_auto_flow": null,
            "grid_area": null,
            "grid_template_columns": null,
            "flex": null,
            "_model_name": "LayoutModel",
            "justify_items": null,
            "grid_row": null,
            "max_height": null,
            "align_content": null,
            "visibility": null,
            "align_self": null,
            "height": null,
            "min_height": null,
            "padding": null,
            "grid_auto_rows": null,
            "grid_gap": null,
            "max_width": null,
            "order": null,
            "_view_module_version": "1.2.0",
            "grid_template_areas": null,
            "object_position": null,
            "object_fit": null,
            "grid_auto_columns": null,
            "margin": null,
            "display": null,
            "left": null
          }
        },
        "25975c2d613446e48bf32aad487ed991": {
          "model_module": "@jupyter-widgets/controls",
          "model_name": "LabelModel",
          "model_module_version": "1.5.0",
          "state": {
            "_view_name": "LabelView",
            "style": "IPY_MODEL_525583bd32974a4fb2e4235ce74616c6",
            "_dom_classes": [],
            "description": "",
            "_model_name": "LabelModel",
            "placeholder": "​",
            "_view_module": "@jupyter-widgets/controls",
            "_model_module_version": "1.5.0",
            "value": " 0.01MB of 0.01MB uploaded (0.00MB deduped)\r",
            "_view_count": null,
            "_view_module_version": "1.5.0",
            "description_tooltip": null,
            "_model_module": "@jupyter-widgets/controls",
            "layout": "IPY_MODEL_bd499339ec464ee58155047f1e17d5f2"
          }
        },
        "b29622201f0c487eafb964cc58a29bb6": {
          "model_module": "@jupyter-widgets/controls",
          "model_name": "FloatProgressModel",
          "model_module_version": "1.5.0",
          "state": {
            "_view_name": "ProgressView",
            "style": "IPY_MODEL_dd58132a220242c0b779e10d9964fabb",
            "_dom_classes": [],
            "description": "",
            "_model_name": "FloatProgressModel",
            "bar_style": "",
            "max": 1,
            "_view_module": "@jupyter-widgets/controls",
            "_model_module_version": "1.5.0",
            "value": 1,
            "_view_count": null,
            "_view_module_version": "1.5.0",
            "orientation": "horizontal",
            "min": 0,
            "description_tooltip": null,
            "_model_module": "@jupyter-widgets/controls",
            "layout": "IPY_MODEL_e597c6986b43462cbacfa9179794f164"
          }
        },
        "525583bd32974a4fb2e4235ce74616c6": {
          "model_module": "@jupyter-widgets/controls",
          "model_name": "DescriptionStyleModel",
          "model_module_version": "1.5.0",
          "state": {
            "_view_name": "StyleView",
            "_model_name": "DescriptionStyleModel",
            "description_width": "",
            "_view_module": "@jupyter-widgets/base",
            "_model_module_version": "1.5.0",
            "_view_count": null,
            "_view_module_version": "1.2.0",
            "_model_module": "@jupyter-widgets/controls"
          }
        },
        "bd499339ec464ee58155047f1e17d5f2": {
          "model_module": "@jupyter-widgets/base",
          "model_name": "LayoutModel",
          "model_module_version": "1.2.0",
          "state": {
            "_view_name": "LayoutView",
            "grid_template_rows": null,
            "right": null,
            "justify_content": null,
            "_view_module": "@jupyter-widgets/base",
            "overflow": null,
            "_model_module_version": "1.2.0",
            "_view_count": null,
            "flex_flow": null,
            "width": null,
            "min_width": null,
            "border": null,
            "align_items": null,
            "bottom": null,
            "_model_module": "@jupyter-widgets/base",
            "top": null,
            "grid_column": null,
            "overflow_y": null,
            "overflow_x": null,
            "grid_auto_flow": null,
            "grid_area": null,
            "grid_template_columns": null,
            "flex": null,
            "_model_name": "LayoutModel",
            "justify_items": null,
            "grid_row": null,
            "max_height": null,
            "align_content": null,
            "visibility": null,
            "align_self": null,
            "height": null,
            "min_height": null,
            "padding": null,
            "grid_auto_rows": null,
            "grid_gap": null,
            "max_width": null,
            "order": null,
            "_view_module_version": "1.2.0",
            "grid_template_areas": null,
            "object_position": null,
            "object_fit": null,
            "grid_auto_columns": null,
            "margin": null,
            "display": null,
            "left": null
          }
        },
        "dd58132a220242c0b779e10d9964fabb": {
          "model_module": "@jupyter-widgets/controls",
          "model_name": "ProgressStyleModel",
          "model_module_version": "1.5.0",
          "state": {
            "_view_name": "StyleView",
            "_model_name": "ProgressStyleModel",
            "description_width": "",
            "_view_module": "@jupyter-widgets/base",
            "_model_module_version": "1.5.0",
            "_view_count": null,
            "_view_module_version": "1.2.0",
            "bar_color": null,
            "_model_module": "@jupyter-widgets/controls"
          }
        },
        "e597c6986b43462cbacfa9179794f164": {
          "model_module": "@jupyter-widgets/base",
          "model_name": "LayoutModel",
          "model_module_version": "1.2.0",
          "state": {
            "_view_name": "LayoutView",
            "grid_template_rows": null,
            "right": null,
            "justify_content": null,
            "_view_module": "@jupyter-widgets/base",
            "overflow": null,
            "_model_module_version": "1.2.0",
            "_view_count": null,
            "flex_flow": null,
            "width": null,
            "min_width": null,
            "border": null,
            "align_items": null,
            "bottom": null,
            "_model_module": "@jupyter-widgets/base",
            "top": null,
            "grid_column": null,
            "overflow_y": null,
            "overflow_x": null,
            "grid_auto_flow": null,
            "grid_area": null,
            "grid_template_columns": null,
            "flex": null,
            "_model_name": "LayoutModel",
            "justify_items": null,
            "grid_row": null,
            "max_height": null,
            "align_content": null,
            "visibility": null,
            "align_self": null,
            "height": null,
            "min_height": null,
            "padding": null,
            "grid_auto_rows": null,
            "grid_gap": null,
            "max_width": null,
            "order": null,
            "_view_module_version": "1.2.0",
            "grid_template_areas": null,
            "object_position": null,
            "object_fit": null,
            "grid_auto_columns": null,
            "margin": null,
            "display": null,
            "left": null
          }
        },
        "0a3592aa593440779bd44dee7dc87b91": {
          "model_module": "@jupyter-widgets/controls",
          "model_name": "VBoxModel",
          "model_module_version": "1.5.0",
          "state": {
            "_view_name": "VBoxView",
            "_dom_classes": [],
            "_model_name": "VBoxModel",
            "_view_module": "@jupyter-widgets/controls",
            "_model_module_version": "1.5.0",
            "_view_count": null,
            "_view_module_version": "1.5.0",
            "box_style": "",
            "layout": "IPY_MODEL_326879fc74ab445d9a161ff2965857fa",
            "_model_module": "@jupyter-widgets/controls",
            "children": [
              "IPY_MODEL_43e02806ad7445dfb5b382a6e867b668",
              "IPY_MODEL_de79855947f94087b96c336d8aeac93d"
            ]
          }
        },
        "326879fc74ab445d9a161ff2965857fa": {
          "model_module": "@jupyter-widgets/base",
          "model_name": "LayoutModel",
          "model_module_version": "1.2.0",
          "state": {
            "_view_name": "LayoutView",
            "grid_template_rows": null,
            "right": null,
            "justify_content": null,
            "_view_module": "@jupyter-widgets/base",
            "overflow": null,
            "_model_module_version": "1.2.0",
            "_view_count": null,
            "flex_flow": null,
            "width": null,
            "min_width": null,
            "border": null,
            "align_items": null,
            "bottom": null,
            "_model_module": "@jupyter-widgets/base",
            "top": null,
            "grid_column": null,
            "overflow_y": null,
            "overflow_x": null,
            "grid_auto_flow": null,
            "grid_area": null,
            "grid_template_columns": null,
            "flex": null,
            "_model_name": "LayoutModel",
            "justify_items": null,
            "grid_row": null,
            "max_height": null,
            "align_content": null,
            "visibility": null,
            "align_self": null,
            "height": null,
            "min_height": null,
            "padding": null,
            "grid_auto_rows": null,
            "grid_gap": null,
            "max_width": null,
            "order": null,
            "_view_module_version": "1.2.0",
            "grid_template_areas": null,
            "object_position": null,
            "object_fit": null,
            "grid_auto_columns": null,
            "margin": null,
            "display": null,
            "left": null
          }
        },
        "43e02806ad7445dfb5b382a6e867b668": {
          "model_module": "@jupyter-widgets/controls",
          "model_name": "LabelModel",
          "model_module_version": "1.5.0",
          "state": {
            "_view_name": "LabelView",
            "style": "IPY_MODEL_0f85c62250a046a3a4d0281011036d1c",
            "_dom_classes": [],
            "description": "",
            "_model_name": "LabelModel",
            "placeholder": "​",
            "_view_module": "@jupyter-widgets/controls",
            "_model_module_version": "1.5.0",
            "value": " 0.01MB of 0.01MB uploaded (0.00MB deduped)\r",
            "_view_count": null,
            "_view_module_version": "1.5.0",
            "description_tooltip": null,
            "_model_module": "@jupyter-widgets/controls",
            "layout": "IPY_MODEL_59ef0af623f14b719c20b92e137d4235"
          }
        },
        "de79855947f94087b96c336d8aeac93d": {
          "model_module": "@jupyter-widgets/controls",
          "model_name": "FloatProgressModel",
          "model_module_version": "1.5.0",
          "state": {
            "_view_name": "ProgressView",
            "style": "IPY_MODEL_48c4b1106d664ecd8123fe6de88195d3",
            "_dom_classes": [],
            "description": "",
            "_model_name": "FloatProgressModel",
            "bar_style": "",
            "max": 1,
            "_view_module": "@jupyter-widgets/controls",
            "_model_module_version": "1.5.0",
            "value": 1,
            "_view_count": null,
            "_view_module_version": "1.5.0",
            "orientation": "horizontal",
            "min": 0,
            "description_tooltip": null,
            "_model_module": "@jupyter-widgets/controls",
            "layout": "IPY_MODEL_c88bd7f608ad40ab9d6e7a27892c23cb"
          }
        },
        "0f85c62250a046a3a4d0281011036d1c": {
          "model_module": "@jupyter-widgets/controls",
          "model_name": "DescriptionStyleModel",
          "model_module_version": "1.5.0",
          "state": {
            "_view_name": "StyleView",
            "_model_name": "DescriptionStyleModel",
            "description_width": "",
            "_view_module": "@jupyter-widgets/base",
            "_model_module_version": "1.5.0",
            "_view_count": null,
            "_view_module_version": "1.2.0",
            "_model_module": "@jupyter-widgets/controls"
          }
        },
        "59ef0af623f14b719c20b92e137d4235": {
          "model_module": "@jupyter-widgets/base",
          "model_name": "LayoutModel",
          "model_module_version": "1.2.0",
          "state": {
            "_view_name": "LayoutView",
            "grid_template_rows": null,
            "right": null,
            "justify_content": null,
            "_view_module": "@jupyter-widgets/base",
            "overflow": null,
            "_model_module_version": "1.2.0",
            "_view_count": null,
            "flex_flow": null,
            "width": null,
            "min_width": null,
            "border": null,
            "align_items": null,
            "bottom": null,
            "_model_module": "@jupyter-widgets/base",
            "top": null,
            "grid_column": null,
            "overflow_y": null,
            "overflow_x": null,
            "grid_auto_flow": null,
            "grid_area": null,
            "grid_template_columns": null,
            "flex": null,
            "_model_name": "LayoutModel",
            "justify_items": null,
            "grid_row": null,
            "max_height": null,
            "align_content": null,
            "visibility": null,
            "align_self": null,
            "height": null,
            "min_height": null,
            "padding": null,
            "grid_auto_rows": null,
            "grid_gap": null,
            "max_width": null,
            "order": null,
            "_view_module_version": "1.2.0",
            "grid_template_areas": null,
            "object_position": null,
            "object_fit": null,
            "grid_auto_columns": null,
            "margin": null,
            "display": null,
            "left": null
          }
        },
        "48c4b1106d664ecd8123fe6de88195d3": {
          "model_module": "@jupyter-widgets/controls",
          "model_name": "ProgressStyleModel",
          "model_module_version": "1.5.0",
          "state": {
            "_view_name": "StyleView",
            "_model_name": "ProgressStyleModel",
            "description_width": "",
            "_view_module": "@jupyter-widgets/base",
            "_model_module_version": "1.5.0",
            "_view_count": null,
            "_view_module_version": "1.2.0",
            "bar_color": null,
            "_model_module": "@jupyter-widgets/controls"
          }
        },
        "c88bd7f608ad40ab9d6e7a27892c23cb": {
          "model_module": "@jupyter-widgets/base",
          "model_name": "LayoutModel",
          "model_module_version": "1.2.0",
          "state": {
            "_view_name": "LayoutView",
            "grid_template_rows": null,
            "right": null,
            "justify_content": null,
            "_view_module": "@jupyter-widgets/base",
            "overflow": null,
            "_model_module_version": "1.2.0",
            "_view_count": null,
            "flex_flow": null,
            "width": null,
            "min_width": null,
            "border": null,
            "align_items": null,
            "bottom": null,
            "_model_module": "@jupyter-widgets/base",
            "top": null,
            "grid_column": null,
            "overflow_y": null,
            "overflow_x": null,
            "grid_auto_flow": null,
            "grid_area": null,
            "grid_template_columns": null,
            "flex": null,
            "_model_name": "LayoutModel",
            "justify_items": null,
            "grid_row": null,
            "max_height": null,
            "align_content": null,
            "visibility": null,
            "align_self": null,
            "height": null,
            "min_height": null,
            "padding": null,
            "grid_auto_rows": null,
            "grid_gap": null,
            "max_width": null,
            "order": null,
            "_view_module_version": "1.2.0",
            "grid_template_areas": null,
            "object_position": null,
            "object_fit": null,
            "grid_auto_columns": null,
            "margin": null,
            "display": null,
            "left": null
          }
        },
        "2b5a7c9de4554aab97b7adcb35cbc165": {
          "model_module": "@jupyter-widgets/controls",
          "model_name": "VBoxModel",
          "model_module_version": "1.5.0",
          "state": {
            "_view_name": "VBoxView",
            "_dom_classes": [],
            "_model_name": "VBoxModel",
            "_view_module": "@jupyter-widgets/controls",
            "_model_module_version": "1.5.0",
            "_view_count": null,
            "_view_module_version": "1.5.0",
            "box_style": "",
            "layout": "IPY_MODEL_6b0914242edd4034a99e271c3195c9a7",
            "_model_module": "@jupyter-widgets/controls",
            "children": [
              "IPY_MODEL_610105609ce9411fab496f8e6490327d",
              "IPY_MODEL_21fe6157929e47bfb60edc31cc40a788"
            ]
          }
        },
        "6b0914242edd4034a99e271c3195c9a7": {
          "model_module": "@jupyter-widgets/base",
          "model_name": "LayoutModel",
          "model_module_version": "1.2.0",
          "state": {
            "_view_name": "LayoutView",
            "grid_template_rows": null,
            "right": null,
            "justify_content": null,
            "_view_module": "@jupyter-widgets/base",
            "overflow": null,
            "_model_module_version": "1.2.0",
            "_view_count": null,
            "flex_flow": null,
            "width": null,
            "min_width": null,
            "border": null,
            "align_items": null,
            "bottom": null,
            "_model_module": "@jupyter-widgets/base",
            "top": null,
            "grid_column": null,
            "overflow_y": null,
            "overflow_x": null,
            "grid_auto_flow": null,
            "grid_area": null,
            "grid_template_columns": null,
            "flex": null,
            "_model_name": "LayoutModel",
            "justify_items": null,
            "grid_row": null,
            "max_height": null,
            "align_content": null,
            "visibility": null,
            "align_self": null,
            "height": null,
            "min_height": null,
            "padding": null,
            "grid_auto_rows": null,
            "grid_gap": null,
            "max_width": null,
            "order": null,
            "_view_module_version": "1.2.0",
            "grid_template_areas": null,
            "object_position": null,
            "object_fit": null,
            "grid_auto_columns": null,
            "margin": null,
            "display": null,
            "left": null
          }
        },
        "610105609ce9411fab496f8e6490327d": {
          "model_module": "@jupyter-widgets/controls",
          "model_name": "LabelModel",
          "model_module_version": "1.5.0",
          "state": {
            "_view_name": "LabelView",
            "style": "IPY_MODEL_7955ee0933dc455aacb9cd98fd7c41e7",
            "_dom_classes": [],
            "description": "",
            "_model_name": "LabelModel",
            "placeholder": "​",
            "_view_module": "@jupyter-widgets/controls",
            "_model_module_version": "1.5.0",
            "value": " 0.01MB of 0.01MB uploaded (0.00MB deduped)\r",
            "_view_count": null,
            "_view_module_version": "1.5.0",
            "description_tooltip": null,
            "_model_module": "@jupyter-widgets/controls",
            "layout": "IPY_MODEL_b090b0c53c334dc8ae206c506c8e8cb7"
          }
        },
        "21fe6157929e47bfb60edc31cc40a788": {
          "model_module": "@jupyter-widgets/controls",
          "model_name": "FloatProgressModel",
          "model_module_version": "1.5.0",
          "state": {
            "_view_name": "ProgressView",
            "style": "IPY_MODEL_229ff7d6f7c340efb647f0c4b1ecae7a",
            "_dom_classes": [],
            "description": "",
            "_model_name": "FloatProgressModel",
            "bar_style": "",
            "max": 1,
            "_view_module": "@jupyter-widgets/controls",
            "_model_module_version": "1.5.0",
            "value": 1,
            "_view_count": null,
            "_view_module_version": "1.5.0",
            "orientation": "horizontal",
            "min": 0,
            "description_tooltip": null,
            "_model_module": "@jupyter-widgets/controls",
            "layout": "IPY_MODEL_d38ba9d3296f4e4b8b6cb424001c3e0f"
          }
        },
        "7955ee0933dc455aacb9cd98fd7c41e7": {
          "model_module": "@jupyter-widgets/controls",
          "model_name": "DescriptionStyleModel",
          "model_module_version": "1.5.0",
          "state": {
            "_view_name": "StyleView",
            "_model_name": "DescriptionStyleModel",
            "description_width": "",
            "_view_module": "@jupyter-widgets/base",
            "_model_module_version": "1.5.0",
            "_view_count": null,
            "_view_module_version": "1.2.0",
            "_model_module": "@jupyter-widgets/controls"
          }
        },
        "b090b0c53c334dc8ae206c506c8e8cb7": {
          "model_module": "@jupyter-widgets/base",
          "model_name": "LayoutModel",
          "model_module_version": "1.2.0",
          "state": {
            "_view_name": "LayoutView",
            "grid_template_rows": null,
            "right": null,
            "justify_content": null,
            "_view_module": "@jupyter-widgets/base",
            "overflow": null,
            "_model_module_version": "1.2.0",
            "_view_count": null,
            "flex_flow": null,
            "width": null,
            "min_width": null,
            "border": null,
            "align_items": null,
            "bottom": null,
            "_model_module": "@jupyter-widgets/base",
            "top": null,
            "grid_column": null,
            "overflow_y": null,
            "overflow_x": null,
            "grid_auto_flow": null,
            "grid_area": null,
            "grid_template_columns": null,
            "flex": null,
            "_model_name": "LayoutModel",
            "justify_items": null,
            "grid_row": null,
            "max_height": null,
            "align_content": null,
            "visibility": null,
            "align_self": null,
            "height": null,
            "min_height": null,
            "padding": null,
            "grid_auto_rows": null,
            "grid_gap": null,
            "max_width": null,
            "order": null,
            "_view_module_version": "1.2.0",
            "grid_template_areas": null,
            "object_position": null,
            "object_fit": null,
            "grid_auto_columns": null,
            "margin": null,
            "display": null,
            "left": null
          }
        },
        "229ff7d6f7c340efb647f0c4b1ecae7a": {
          "model_module": "@jupyter-widgets/controls",
          "model_name": "ProgressStyleModel",
          "model_module_version": "1.5.0",
          "state": {
            "_view_name": "StyleView",
            "_model_name": "ProgressStyleModel",
            "description_width": "",
            "_view_module": "@jupyter-widgets/base",
            "_model_module_version": "1.5.0",
            "_view_count": null,
            "_view_module_version": "1.2.0",
            "bar_color": null,
            "_model_module": "@jupyter-widgets/controls"
          }
        },
        "d38ba9d3296f4e4b8b6cb424001c3e0f": {
          "model_module": "@jupyter-widgets/base",
          "model_name": "LayoutModel",
          "model_module_version": "1.2.0",
          "state": {
            "_view_name": "LayoutView",
            "grid_template_rows": null,
            "right": null,
            "justify_content": null,
            "_view_module": "@jupyter-widgets/base",
            "overflow": null,
            "_model_module_version": "1.2.0",
            "_view_count": null,
            "flex_flow": null,
            "width": null,
            "min_width": null,
            "border": null,
            "align_items": null,
            "bottom": null,
            "_model_module": "@jupyter-widgets/base",
            "top": null,
            "grid_column": null,
            "overflow_y": null,
            "overflow_x": null,
            "grid_auto_flow": null,
            "grid_area": null,
            "grid_template_columns": null,
            "flex": null,
            "_model_name": "LayoutModel",
            "justify_items": null,
            "grid_row": null,
            "max_height": null,
            "align_content": null,
            "visibility": null,
            "align_self": null,
            "height": null,
            "min_height": null,
            "padding": null,
            "grid_auto_rows": null,
            "grid_gap": null,
            "max_width": null,
            "order": null,
            "_view_module_version": "1.2.0",
            "grid_template_areas": null,
            "object_position": null,
            "object_fit": null,
            "grid_auto_columns": null,
            "margin": null,
            "display": null,
            "left": null
          }
        },
        "e6fc1db7d1ef439495695bb0642a9f0a": {
          "model_module": "@jupyter-widgets/controls",
          "model_name": "VBoxModel",
          "model_module_version": "1.5.0",
          "state": {
            "_view_name": "VBoxView",
            "_dom_classes": [],
            "_model_name": "VBoxModel",
            "_view_module": "@jupyter-widgets/controls",
            "_model_module_version": "1.5.0",
            "_view_count": null,
            "_view_module_version": "1.5.0",
            "box_style": "",
            "layout": "IPY_MODEL_e53d2e13e0cf4b0491bc537fe1478cf4",
            "_model_module": "@jupyter-widgets/controls",
            "children": [
              "IPY_MODEL_4b4440af43574c41a4b854efc44f5f47",
              "IPY_MODEL_f9d51794e4094e63971b1c9dbcdaf0a9"
            ]
          }
        },
        "e53d2e13e0cf4b0491bc537fe1478cf4": {
          "model_module": "@jupyter-widgets/base",
          "model_name": "LayoutModel",
          "model_module_version": "1.2.0",
          "state": {
            "_view_name": "LayoutView",
            "grid_template_rows": null,
            "right": null,
            "justify_content": null,
            "_view_module": "@jupyter-widgets/base",
            "overflow": null,
            "_model_module_version": "1.2.0",
            "_view_count": null,
            "flex_flow": null,
            "width": null,
            "min_width": null,
            "border": null,
            "align_items": null,
            "bottom": null,
            "_model_module": "@jupyter-widgets/base",
            "top": null,
            "grid_column": null,
            "overflow_y": null,
            "overflow_x": null,
            "grid_auto_flow": null,
            "grid_area": null,
            "grid_template_columns": null,
            "flex": null,
            "_model_name": "LayoutModel",
            "justify_items": null,
            "grid_row": null,
            "max_height": null,
            "align_content": null,
            "visibility": null,
            "align_self": null,
            "height": null,
            "min_height": null,
            "padding": null,
            "grid_auto_rows": null,
            "grid_gap": null,
            "max_width": null,
            "order": null,
            "_view_module_version": "1.2.0",
            "grid_template_areas": null,
            "object_position": null,
            "object_fit": null,
            "grid_auto_columns": null,
            "margin": null,
            "display": null,
            "left": null
          }
        },
        "4b4440af43574c41a4b854efc44f5f47": {
          "model_module": "@jupyter-widgets/controls",
          "model_name": "LabelModel",
          "model_module_version": "1.5.0",
          "state": {
            "_view_name": "LabelView",
            "style": "IPY_MODEL_334cbc60d80d46d5b2594f7854c75a54",
            "_dom_classes": [],
            "description": "",
            "_model_name": "LabelModel",
            "placeholder": "​",
            "_view_module": "@jupyter-widgets/controls",
            "_model_module_version": "1.5.0",
            "value": " 0.01MB of 0.01MB uploaded (0.00MB deduped)\r",
            "_view_count": null,
            "_view_module_version": "1.5.0",
            "description_tooltip": null,
            "_model_module": "@jupyter-widgets/controls",
            "layout": "IPY_MODEL_b47e868950ed4c05b2ac7d43a9575015"
          }
        },
        "f9d51794e4094e63971b1c9dbcdaf0a9": {
          "model_module": "@jupyter-widgets/controls",
          "model_name": "FloatProgressModel",
          "model_module_version": "1.5.0",
          "state": {
            "_view_name": "ProgressView",
            "style": "IPY_MODEL_97ff26e8379d46799087e406cfe594e0",
            "_dom_classes": [],
            "description": "",
            "_model_name": "FloatProgressModel",
            "bar_style": "",
            "max": 1,
            "_view_module": "@jupyter-widgets/controls",
            "_model_module_version": "1.5.0",
            "value": 1,
            "_view_count": null,
            "_view_module_version": "1.5.0",
            "orientation": "horizontal",
            "min": 0,
            "description_tooltip": null,
            "_model_module": "@jupyter-widgets/controls",
            "layout": "IPY_MODEL_1253556f54a94a57a50f30777a384e2e"
          }
        },
        "334cbc60d80d46d5b2594f7854c75a54": {
          "model_module": "@jupyter-widgets/controls",
          "model_name": "DescriptionStyleModel",
          "model_module_version": "1.5.0",
          "state": {
            "_view_name": "StyleView",
            "_model_name": "DescriptionStyleModel",
            "description_width": "",
            "_view_module": "@jupyter-widgets/base",
            "_model_module_version": "1.5.0",
            "_view_count": null,
            "_view_module_version": "1.2.0",
            "_model_module": "@jupyter-widgets/controls"
          }
        },
        "b47e868950ed4c05b2ac7d43a9575015": {
          "model_module": "@jupyter-widgets/base",
          "model_name": "LayoutModel",
          "model_module_version": "1.2.0",
          "state": {
            "_view_name": "LayoutView",
            "grid_template_rows": null,
            "right": null,
            "justify_content": null,
            "_view_module": "@jupyter-widgets/base",
            "overflow": null,
            "_model_module_version": "1.2.0",
            "_view_count": null,
            "flex_flow": null,
            "width": null,
            "min_width": null,
            "border": null,
            "align_items": null,
            "bottom": null,
            "_model_module": "@jupyter-widgets/base",
            "top": null,
            "grid_column": null,
            "overflow_y": null,
            "overflow_x": null,
            "grid_auto_flow": null,
            "grid_area": null,
            "grid_template_columns": null,
            "flex": null,
            "_model_name": "LayoutModel",
            "justify_items": null,
            "grid_row": null,
            "max_height": null,
            "align_content": null,
            "visibility": null,
            "align_self": null,
            "height": null,
            "min_height": null,
            "padding": null,
            "grid_auto_rows": null,
            "grid_gap": null,
            "max_width": null,
            "order": null,
            "_view_module_version": "1.2.0",
            "grid_template_areas": null,
            "object_position": null,
            "object_fit": null,
            "grid_auto_columns": null,
            "margin": null,
            "display": null,
            "left": null
          }
        },
        "97ff26e8379d46799087e406cfe594e0": {
          "model_module": "@jupyter-widgets/controls",
          "model_name": "ProgressStyleModel",
          "model_module_version": "1.5.0",
          "state": {
            "_view_name": "StyleView",
            "_model_name": "ProgressStyleModel",
            "description_width": "",
            "_view_module": "@jupyter-widgets/base",
            "_model_module_version": "1.5.0",
            "_view_count": null,
            "_view_module_version": "1.2.0",
            "bar_color": null,
            "_model_module": "@jupyter-widgets/controls"
          }
        },
        "1253556f54a94a57a50f30777a384e2e": {
          "model_module": "@jupyter-widgets/base",
          "model_name": "LayoutModel",
          "model_module_version": "1.2.0",
          "state": {
            "_view_name": "LayoutView",
            "grid_template_rows": null,
            "right": null,
            "justify_content": null,
            "_view_module": "@jupyter-widgets/base",
            "overflow": null,
            "_model_module_version": "1.2.0",
            "_view_count": null,
            "flex_flow": null,
            "width": null,
            "min_width": null,
            "border": null,
            "align_items": null,
            "bottom": null,
            "_model_module": "@jupyter-widgets/base",
            "top": null,
            "grid_column": null,
            "overflow_y": null,
            "overflow_x": null,
            "grid_auto_flow": null,
            "grid_area": null,
            "grid_template_columns": null,
            "flex": null,
            "_model_name": "LayoutModel",
            "justify_items": null,
            "grid_row": null,
            "max_height": null,
            "align_content": null,
            "visibility": null,
            "align_self": null,
            "height": null,
            "min_height": null,
            "padding": null,
            "grid_auto_rows": null,
            "grid_gap": null,
            "max_width": null,
            "order": null,
            "_view_module_version": "1.2.0",
            "grid_template_areas": null,
            "object_position": null,
            "object_fit": null,
            "grid_auto_columns": null,
            "margin": null,
            "display": null,
            "left": null
          }
        },
        "89f566ad2c9f483caf644dcbb1b7ae85": {
          "model_module": "@jupyter-widgets/controls",
          "model_name": "VBoxModel",
          "model_module_version": "1.5.0",
          "state": {
            "_view_name": "VBoxView",
            "_dom_classes": [],
            "_model_name": "VBoxModel",
            "_view_module": "@jupyter-widgets/controls",
            "_model_module_version": "1.5.0",
            "_view_count": null,
            "_view_module_version": "1.5.0",
            "box_style": "",
            "layout": "IPY_MODEL_5adc5f2de65647fb87125127bd2c052c",
            "_model_module": "@jupyter-widgets/controls",
            "children": [
              "IPY_MODEL_4c7b8427a22c4dcb96b2aa1f080d9c08",
              "IPY_MODEL_ee4e6f985ce44d599109c2f83ac4a75b"
            ]
          }
        },
        "5adc5f2de65647fb87125127bd2c052c": {
          "model_module": "@jupyter-widgets/base",
          "model_name": "LayoutModel",
          "model_module_version": "1.2.0",
          "state": {
            "_view_name": "LayoutView",
            "grid_template_rows": null,
            "right": null,
            "justify_content": null,
            "_view_module": "@jupyter-widgets/base",
            "overflow": null,
            "_model_module_version": "1.2.0",
            "_view_count": null,
            "flex_flow": null,
            "width": null,
            "min_width": null,
            "border": null,
            "align_items": null,
            "bottom": null,
            "_model_module": "@jupyter-widgets/base",
            "top": null,
            "grid_column": null,
            "overflow_y": null,
            "overflow_x": null,
            "grid_auto_flow": null,
            "grid_area": null,
            "grid_template_columns": null,
            "flex": null,
            "_model_name": "LayoutModel",
            "justify_items": null,
            "grid_row": null,
            "max_height": null,
            "align_content": null,
            "visibility": null,
            "align_self": null,
            "height": null,
            "min_height": null,
            "padding": null,
            "grid_auto_rows": null,
            "grid_gap": null,
            "max_width": null,
            "order": null,
            "_view_module_version": "1.2.0",
            "grid_template_areas": null,
            "object_position": null,
            "object_fit": null,
            "grid_auto_columns": null,
            "margin": null,
            "display": null,
            "left": null
          }
        },
        "4c7b8427a22c4dcb96b2aa1f080d9c08": {
          "model_module": "@jupyter-widgets/controls",
          "model_name": "LabelModel",
          "model_module_version": "1.5.0",
          "state": {
            "_view_name": "LabelView",
            "style": "IPY_MODEL_3dd6ee45cca342e1913ec8111a4ebd56",
            "_dom_classes": [],
            "description": "",
            "_model_name": "LabelModel",
            "placeholder": "​",
            "_view_module": "@jupyter-widgets/controls",
            "_model_module_version": "1.5.0",
            "value": " 0.01MB of 0.01MB uploaded (0.00MB deduped)\r",
            "_view_count": null,
            "_view_module_version": "1.5.0",
            "description_tooltip": null,
            "_model_module": "@jupyter-widgets/controls",
            "layout": "IPY_MODEL_59e7825da7f64b8ca5352f284731068b"
          }
        },
        "ee4e6f985ce44d599109c2f83ac4a75b": {
          "model_module": "@jupyter-widgets/controls",
          "model_name": "FloatProgressModel",
          "model_module_version": "1.5.0",
          "state": {
            "_view_name": "ProgressView",
            "style": "IPY_MODEL_dd38d8bac34a4aadb8647f9cd65b3024",
            "_dom_classes": [],
            "description": "",
            "_model_name": "FloatProgressModel",
            "bar_style": "",
            "max": 1,
            "_view_module": "@jupyter-widgets/controls",
            "_model_module_version": "1.5.0",
            "value": 1,
            "_view_count": null,
            "_view_module_version": "1.5.0",
            "orientation": "horizontal",
            "min": 0,
            "description_tooltip": null,
            "_model_module": "@jupyter-widgets/controls",
            "layout": "IPY_MODEL_8bb5b909744c4ee9bfcac49dd22b95dd"
          }
        },
        "3dd6ee45cca342e1913ec8111a4ebd56": {
          "model_module": "@jupyter-widgets/controls",
          "model_name": "DescriptionStyleModel",
          "model_module_version": "1.5.0",
          "state": {
            "_view_name": "StyleView",
            "_model_name": "DescriptionStyleModel",
            "description_width": "",
            "_view_module": "@jupyter-widgets/base",
            "_model_module_version": "1.5.0",
            "_view_count": null,
            "_view_module_version": "1.2.0",
            "_model_module": "@jupyter-widgets/controls"
          }
        },
        "59e7825da7f64b8ca5352f284731068b": {
          "model_module": "@jupyter-widgets/base",
          "model_name": "LayoutModel",
          "model_module_version": "1.2.0",
          "state": {
            "_view_name": "LayoutView",
            "grid_template_rows": null,
            "right": null,
            "justify_content": null,
            "_view_module": "@jupyter-widgets/base",
            "overflow": null,
            "_model_module_version": "1.2.0",
            "_view_count": null,
            "flex_flow": null,
            "width": null,
            "min_width": null,
            "border": null,
            "align_items": null,
            "bottom": null,
            "_model_module": "@jupyter-widgets/base",
            "top": null,
            "grid_column": null,
            "overflow_y": null,
            "overflow_x": null,
            "grid_auto_flow": null,
            "grid_area": null,
            "grid_template_columns": null,
            "flex": null,
            "_model_name": "LayoutModel",
            "justify_items": null,
            "grid_row": null,
            "max_height": null,
            "align_content": null,
            "visibility": null,
            "align_self": null,
            "height": null,
            "min_height": null,
            "padding": null,
            "grid_auto_rows": null,
            "grid_gap": null,
            "max_width": null,
            "order": null,
            "_view_module_version": "1.2.0",
            "grid_template_areas": null,
            "object_position": null,
            "object_fit": null,
            "grid_auto_columns": null,
            "margin": null,
            "display": null,
            "left": null
          }
        },
        "dd38d8bac34a4aadb8647f9cd65b3024": {
          "model_module": "@jupyter-widgets/controls",
          "model_name": "ProgressStyleModel",
          "model_module_version": "1.5.0",
          "state": {
            "_view_name": "StyleView",
            "_model_name": "ProgressStyleModel",
            "description_width": "",
            "_view_module": "@jupyter-widgets/base",
            "_model_module_version": "1.5.0",
            "_view_count": null,
            "_view_module_version": "1.2.0",
            "bar_color": null,
            "_model_module": "@jupyter-widgets/controls"
          }
        },
        "8bb5b909744c4ee9bfcac49dd22b95dd": {
          "model_module": "@jupyter-widgets/base",
          "model_name": "LayoutModel",
          "model_module_version": "1.2.0",
          "state": {
            "_view_name": "LayoutView",
            "grid_template_rows": null,
            "right": null,
            "justify_content": null,
            "_view_module": "@jupyter-widgets/base",
            "overflow": null,
            "_model_module_version": "1.2.0",
            "_view_count": null,
            "flex_flow": null,
            "width": null,
            "min_width": null,
            "border": null,
            "align_items": null,
            "bottom": null,
            "_model_module": "@jupyter-widgets/base",
            "top": null,
            "grid_column": null,
            "overflow_y": null,
            "overflow_x": null,
            "grid_auto_flow": null,
            "grid_area": null,
            "grid_template_columns": null,
            "flex": null,
            "_model_name": "LayoutModel",
            "justify_items": null,
            "grid_row": null,
            "max_height": null,
            "align_content": null,
            "visibility": null,
            "align_self": null,
            "height": null,
            "min_height": null,
            "padding": null,
            "grid_auto_rows": null,
            "grid_gap": null,
            "max_width": null,
            "order": null,
            "_view_module_version": "1.2.0",
            "grid_template_areas": null,
            "object_position": null,
            "object_fit": null,
            "grid_auto_columns": null,
            "margin": null,
            "display": null,
            "left": null
          }
        },
        "7d8fd0e2ef884b17b46312a952517047": {
          "model_module": "@jupyter-widgets/controls",
          "model_name": "VBoxModel",
          "model_module_version": "1.5.0",
          "state": {
            "_view_name": "VBoxView",
            "_dom_classes": [],
            "_model_name": "VBoxModel",
            "_view_module": "@jupyter-widgets/controls",
            "_model_module_version": "1.5.0",
            "_view_count": null,
            "_view_module_version": "1.5.0",
            "box_style": "",
            "layout": "IPY_MODEL_8371c044486e46cc8fe35cc8772931de",
            "_model_module": "@jupyter-widgets/controls",
            "children": [
              "IPY_MODEL_73acaea89a1b46ea91a1050759daeb70",
              "IPY_MODEL_108bbc9f8c4042baacc6ca9239b1158b"
            ]
          }
        },
        "8371c044486e46cc8fe35cc8772931de": {
          "model_module": "@jupyter-widgets/base",
          "model_name": "LayoutModel",
          "model_module_version": "1.2.0",
          "state": {
            "_view_name": "LayoutView",
            "grid_template_rows": null,
            "right": null,
            "justify_content": null,
            "_view_module": "@jupyter-widgets/base",
            "overflow": null,
            "_model_module_version": "1.2.0",
            "_view_count": null,
            "flex_flow": null,
            "width": null,
            "min_width": null,
            "border": null,
            "align_items": null,
            "bottom": null,
            "_model_module": "@jupyter-widgets/base",
            "top": null,
            "grid_column": null,
            "overflow_y": null,
            "overflow_x": null,
            "grid_auto_flow": null,
            "grid_area": null,
            "grid_template_columns": null,
            "flex": null,
            "_model_name": "LayoutModel",
            "justify_items": null,
            "grid_row": null,
            "max_height": null,
            "align_content": null,
            "visibility": null,
            "align_self": null,
            "height": null,
            "min_height": null,
            "padding": null,
            "grid_auto_rows": null,
            "grid_gap": null,
            "max_width": null,
            "order": null,
            "_view_module_version": "1.2.0",
            "grid_template_areas": null,
            "object_position": null,
            "object_fit": null,
            "grid_auto_columns": null,
            "margin": null,
            "display": null,
            "left": null
          }
        },
        "73acaea89a1b46ea91a1050759daeb70": {
          "model_module": "@jupyter-widgets/controls",
          "model_name": "LabelModel",
          "model_module_version": "1.5.0",
          "state": {
            "_view_name": "LabelView",
            "style": "IPY_MODEL_a9198aeba9c44b1ab69b652ea6823d9b",
            "_dom_classes": [],
            "description": "",
            "_model_name": "LabelModel",
            "placeholder": "​",
            "_view_module": "@jupyter-widgets/controls",
            "_model_module_version": "1.5.0",
            "value": " 0.01MB of 0.01MB uploaded (0.00MB deduped)\r",
            "_view_count": null,
            "_view_module_version": "1.5.0",
            "description_tooltip": null,
            "_model_module": "@jupyter-widgets/controls",
            "layout": "IPY_MODEL_5ed4000609fe45fabb14ac9e0e1c2a6b"
          }
        },
        "108bbc9f8c4042baacc6ca9239b1158b": {
          "model_module": "@jupyter-widgets/controls",
          "model_name": "FloatProgressModel",
          "model_module_version": "1.5.0",
          "state": {
            "_view_name": "ProgressView",
            "style": "IPY_MODEL_d3eb3e83c5874c0fa1e97a25c654971f",
            "_dom_classes": [],
            "description": "",
            "_model_name": "FloatProgressModel",
            "bar_style": "",
            "max": 1,
            "_view_module": "@jupyter-widgets/controls",
            "_model_module_version": "1.5.0",
            "value": 1,
            "_view_count": null,
            "_view_module_version": "1.5.0",
            "orientation": "horizontal",
            "min": 0,
            "description_tooltip": null,
            "_model_module": "@jupyter-widgets/controls",
            "layout": "IPY_MODEL_e02d7c3da6a9421eaca53d8bd67930e9"
          }
        },
        "a9198aeba9c44b1ab69b652ea6823d9b": {
          "model_module": "@jupyter-widgets/controls",
          "model_name": "DescriptionStyleModel",
          "model_module_version": "1.5.0",
          "state": {
            "_view_name": "StyleView",
            "_model_name": "DescriptionStyleModel",
            "description_width": "",
            "_view_module": "@jupyter-widgets/base",
            "_model_module_version": "1.5.0",
            "_view_count": null,
            "_view_module_version": "1.2.0",
            "_model_module": "@jupyter-widgets/controls"
          }
        },
        "5ed4000609fe45fabb14ac9e0e1c2a6b": {
          "model_module": "@jupyter-widgets/base",
          "model_name": "LayoutModel",
          "model_module_version": "1.2.0",
          "state": {
            "_view_name": "LayoutView",
            "grid_template_rows": null,
            "right": null,
            "justify_content": null,
            "_view_module": "@jupyter-widgets/base",
            "overflow": null,
            "_model_module_version": "1.2.0",
            "_view_count": null,
            "flex_flow": null,
            "width": null,
            "min_width": null,
            "border": null,
            "align_items": null,
            "bottom": null,
            "_model_module": "@jupyter-widgets/base",
            "top": null,
            "grid_column": null,
            "overflow_y": null,
            "overflow_x": null,
            "grid_auto_flow": null,
            "grid_area": null,
            "grid_template_columns": null,
            "flex": null,
            "_model_name": "LayoutModel",
            "justify_items": null,
            "grid_row": null,
            "max_height": null,
            "align_content": null,
            "visibility": null,
            "align_self": null,
            "height": null,
            "min_height": null,
            "padding": null,
            "grid_auto_rows": null,
            "grid_gap": null,
            "max_width": null,
            "order": null,
            "_view_module_version": "1.2.0",
            "grid_template_areas": null,
            "object_position": null,
            "object_fit": null,
            "grid_auto_columns": null,
            "margin": null,
            "display": null,
            "left": null
          }
        },
        "d3eb3e83c5874c0fa1e97a25c654971f": {
          "model_module": "@jupyter-widgets/controls",
          "model_name": "ProgressStyleModel",
          "model_module_version": "1.5.0",
          "state": {
            "_view_name": "StyleView",
            "_model_name": "ProgressStyleModel",
            "description_width": "",
            "_view_module": "@jupyter-widgets/base",
            "_model_module_version": "1.5.0",
            "_view_count": null,
            "_view_module_version": "1.2.0",
            "bar_color": null,
            "_model_module": "@jupyter-widgets/controls"
          }
        },
        "e02d7c3da6a9421eaca53d8bd67930e9": {
          "model_module": "@jupyter-widgets/base",
          "model_name": "LayoutModel",
          "model_module_version": "1.2.0",
          "state": {
            "_view_name": "LayoutView",
            "grid_template_rows": null,
            "right": null,
            "justify_content": null,
            "_view_module": "@jupyter-widgets/base",
            "overflow": null,
            "_model_module_version": "1.2.0",
            "_view_count": null,
            "flex_flow": null,
            "width": null,
            "min_width": null,
            "border": null,
            "align_items": null,
            "bottom": null,
            "_model_module": "@jupyter-widgets/base",
            "top": null,
            "grid_column": null,
            "overflow_y": null,
            "overflow_x": null,
            "grid_auto_flow": null,
            "grid_area": null,
            "grid_template_columns": null,
            "flex": null,
            "_model_name": "LayoutModel",
            "justify_items": null,
            "grid_row": null,
            "max_height": null,
            "align_content": null,
            "visibility": null,
            "align_self": null,
            "height": null,
            "min_height": null,
            "padding": null,
            "grid_auto_rows": null,
            "grid_gap": null,
            "max_width": null,
            "order": null,
            "_view_module_version": "1.2.0",
            "grid_template_areas": null,
            "object_position": null,
            "object_fit": null,
            "grid_auto_columns": null,
            "margin": null,
            "display": null,
            "left": null
          }
        },
        "ad523b000c544c28842a1808bf98bb90": {
          "model_module": "@jupyter-widgets/controls",
          "model_name": "VBoxModel",
          "model_module_version": "1.5.0",
          "state": {
            "_view_name": "VBoxView",
            "_dom_classes": [],
            "_model_name": "VBoxModel",
            "_view_module": "@jupyter-widgets/controls",
            "_model_module_version": "1.5.0",
            "_view_count": null,
            "_view_module_version": "1.5.0",
            "box_style": "",
            "layout": "IPY_MODEL_68c5d9b157a34bb9901b4b7ef45ce5e6",
            "_model_module": "@jupyter-widgets/controls",
            "children": [
              "IPY_MODEL_a111b5ec0e0a4526973fac2a10d5e766",
              "IPY_MODEL_f45b5148ee774f2b85043f2dc48e3d40"
            ]
          }
        },
        "68c5d9b157a34bb9901b4b7ef45ce5e6": {
          "model_module": "@jupyter-widgets/base",
          "model_name": "LayoutModel",
          "model_module_version": "1.2.0",
          "state": {
            "_view_name": "LayoutView",
            "grid_template_rows": null,
            "right": null,
            "justify_content": null,
            "_view_module": "@jupyter-widgets/base",
            "overflow": null,
            "_model_module_version": "1.2.0",
            "_view_count": null,
            "flex_flow": null,
            "width": null,
            "min_width": null,
            "border": null,
            "align_items": null,
            "bottom": null,
            "_model_module": "@jupyter-widgets/base",
            "top": null,
            "grid_column": null,
            "overflow_y": null,
            "overflow_x": null,
            "grid_auto_flow": null,
            "grid_area": null,
            "grid_template_columns": null,
            "flex": null,
            "_model_name": "LayoutModel",
            "justify_items": null,
            "grid_row": null,
            "max_height": null,
            "align_content": null,
            "visibility": null,
            "align_self": null,
            "height": null,
            "min_height": null,
            "padding": null,
            "grid_auto_rows": null,
            "grid_gap": null,
            "max_width": null,
            "order": null,
            "_view_module_version": "1.2.0",
            "grid_template_areas": null,
            "object_position": null,
            "object_fit": null,
            "grid_auto_columns": null,
            "margin": null,
            "display": null,
            "left": null
          }
        },
        "a111b5ec0e0a4526973fac2a10d5e766": {
          "model_module": "@jupyter-widgets/controls",
          "model_name": "LabelModel",
          "model_module_version": "1.5.0",
          "state": {
            "_view_name": "LabelView",
            "style": "IPY_MODEL_d7b13a45f7f648b6b71a1aef5276ecc3",
            "_dom_classes": [],
            "description": "",
            "_model_name": "LabelModel",
            "placeholder": "​",
            "_view_module": "@jupyter-widgets/controls",
            "_model_module_version": "1.5.0",
            "value": " 0.01MB of 0.01MB uploaded (0.00MB deduped)\r",
            "_view_count": null,
            "_view_module_version": "1.5.0",
            "description_tooltip": null,
            "_model_module": "@jupyter-widgets/controls",
            "layout": "IPY_MODEL_d7e69c93d6624a8e8c3d7c276340b9c4"
          }
        },
        "f45b5148ee774f2b85043f2dc48e3d40": {
          "model_module": "@jupyter-widgets/controls",
          "model_name": "FloatProgressModel",
          "model_module_version": "1.5.0",
          "state": {
            "_view_name": "ProgressView",
            "style": "IPY_MODEL_f54af2f9355e460986b64d0fc05d4d80",
            "_dom_classes": [],
            "description": "",
            "_model_name": "FloatProgressModel",
            "bar_style": "",
            "max": 1,
            "_view_module": "@jupyter-widgets/controls",
            "_model_module_version": "1.5.0",
            "value": 1,
            "_view_count": null,
            "_view_module_version": "1.5.0",
            "orientation": "horizontal",
            "min": 0,
            "description_tooltip": null,
            "_model_module": "@jupyter-widgets/controls",
            "layout": "IPY_MODEL_ec601abdddd740af8e247d552420d195"
          }
        },
        "d7b13a45f7f648b6b71a1aef5276ecc3": {
          "model_module": "@jupyter-widgets/controls",
          "model_name": "DescriptionStyleModel",
          "model_module_version": "1.5.0",
          "state": {
            "_view_name": "StyleView",
            "_model_name": "DescriptionStyleModel",
            "description_width": "",
            "_view_module": "@jupyter-widgets/base",
            "_model_module_version": "1.5.0",
            "_view_count": null,
            "_view_module_version": "1.2.0",
            "_model_module": "@jupyter-widgets/controls"
          }
        },
        "d7e69c93d6624a8e8c3d7c276340b9c4": {
          "model_module": "@jupyter-widgets/base",
          "model_name": "LayoutModel",
          "model_module_version": "1.2.0",
          "state": {
            "_view_name": "LayoutView",
            "grid_template_rows": null,
            "right": null,
            "justify_content": null,
            "_view_module": "@jupyter-widgets/base",
            "overflow": null,
            "_model_module_version": "1.2.0",
            "_view_count": null,
            "flex_flow": null,
            "width": null,
            "min_width": null,
            "border": null,
            "align_items": null,
            "bottom": null,
            "_model_module": "@jupyter-widgets/base",
            "top": null,
            "grid_column": null,
            "overflow_y": null,
            "overflow_x": null,
            "grid_auto_flow": null,
            "grid_area": null,
            "grid_template_columns": null,
            "flex": null,
            "_model_name": "LayoutModel",
            "justify_items": null,
            "grid_row": null,
            "max_height": null,
            "align_content": null,
            "visibility": null,
            "align_self": null,
            "height": null,
            "min_height": null,
            "padding": null,
            "grid_auto_rows": null,
            "grid_gap": null,
            "max_width": null,
            "order": null,
            "_view_module_version": "1.2.0",
            "grid_template_areas": null,
            "object_position": null,
            "object_fit": null,
            "grid_auto_columns": null,
            "margin": null,
            "display": null,
            "left": null
          }
        },
        "f54af2f9355e460986b64d0fc05d4d80": {
          "model_module": "@jupyter-widgets/controls",
          "model_name": "ProgressStyleModel",
          "model_module_version": "1.5.0",
          "state": {
            "_view_name": "StyleView",
            "_model_name": "ProgressStyleModel",
            "description_width": "",
            "_view_module": "@jupyter-widgets/base",
            "_model_module_version": "1.5.0",
            "_view_count": null,
            "_view_module_version": "1.2.0",
            "bar_color": null,
            "_model_module": "@jupyter-widgets/controls"
          }
        },
        "ec601abdddd740af8e247d552420d195": {
          "model_module": "@jupyter-widgets/base",
          "model_name": "LayoutModel",
          "model_module_version": "1.2.0",
          "state": {
            "_view_name": "LayoutView",
            "grid_template_rows": null,
            "right": null,
            "justify_content": null,
            "_view_module": "@jupyter-widgets/base",
            "overflow": null,
            "_model_module_version": "1.2.0",
            "_view_count": null,
            "flex_flow": null,
            "width": null,
            "min_width": null,
            "border": null,
            "align_items": null,
            "bottom": null,
            "_model_module": "@jupyter-widgets/base",
            "top": null,
            "grid_column": null,
            "overflow_y": null,
            "overflow_x": null,
            "grid_auto_flow": null,
            "grid_area": null,
            "grid_template_columns": null,
            "flex": null,
            "_model_name": "LayoutModel",
            "justify_items": null,
            "grid_row": null,
            "max_height": null,
            "align_content": null,
            "visibility": null,
            "align_self": null,
            "height": null,
            "min_height": null,
            "padding": null,
            "grid_auto_rows": null,
            "grid_gap": null,
            "max_width": null,
            "order": null,
            "_view_module_version": "1.2.0",
            "grid_template_areas": null,
            "object_position": null,
            "object_fit": null,
            "grid_auto_columns": null,
            "margin": null,
            "display": null,
            "left": null
          }
        },
        "f080a00d0dec4888af8c1908101deae6": {
          "model_module": "@jupyter-widgets/controls",
          "model_name": "VBoxModel",
          "model_module_version": "1.5.0",
          "state": {
            "_view_name": "VBoxView",
            "_dom_classes": [],
            "_model_name": "VBoxModel",
            "_view_module": "@jupyter-widgets/controls",
            "_model_module_version": "1.5.0",
            "_view_count": null,
            "_view_module_version": "1.5.0",
            "box_style": "",
            "layout": "IPY_MODEL_4daa5537a50e49f8be0692ec259551d9",
            "_model_module": "@jupyter-widgets/controls",
            "children": [
              "IPY_MODEL_55a9c6c802db4a2bac7c2eaadf7649be",
              "IPY_MODEL_fd8908482af84e60940faf2c45d02f90"
            ]
          }
        },
        "4daa5537a50e49f8be0692ec259551d9": {
          "model_module": "@jupyter-widgets/base",
          "model_name": "LayoutModel",
          "model_module_version": "1.2.0",
          "state": {
            "_view_name": "LayoutView",
            "grid_template_rows": null,
            "right": null,
            "justify_content": null,
            "_view_module": "@jupyter-widgets/base",
            "overflow": null,
            "_model_module_version": "1.2.0",
            "_view_count": null,
            "flex_flow": null,
            "width": null,
            "min_width": null,
            "border": null,
            "align_items": null,
            "bottom": null,
            "_model_module": "@jupyter-widgets/base",
            "top": null,
            "grid_column": null,
            "overflow_y": null,
            "overflow_x": null,
            "grid_auto_flow": null,
            "grid_area": null,
            "grid_template_columns": null,
            "flex": null,
            "_model_name": "LayoutModel",
            "justify_items": null,
            "grid_row": null,
            "max_height": null,
            "align_content": null,
            "visibility": null,
            "align_self": null,
            "height": null,
            "min_height": null,
            "padding": null,
            "grid_auto_rows": null,
            "grid_gap": null,
            "max_width": null,
            "order": null,
            "_view_module_version": "1.2.0",
            "grid_template_areas": null,
            "object_position": null,
            "object_fit": null,
            "grid_auto_columns": null,
            "margin": null,
            "display": null,
            "left": null
          }
        },
        "55a9c6c802db4a2bac7c2eaadf7649be": {
          "model_module": "@jupyter-widgets/controls",
          "model_name": "LabelModel",
          "model_module_version": "1.5.0",
          "state": {
            "_view_name": "LabelView",
            "style": "IPY_MODEL_8c11a945c10141fa8b07ffb087a61c5d",
            "_dom_classes": [],
            "description": "",
            "_model_name": "LabelModel",
            "placeholder": "​",
            "_view_module": "@jupyter-widgets/controls",
            "_model_module_version": "1.5.0",
            "value": " 0.01MB of 0.01MB uploaded (0.00MB deduped)\r",
            "_view_count": null,
            "_view_module_version": "1.5.0",
            "description_tooltip": null,
            "_model_module": "@jupyter-widgets/controls",
            "layout": "IPY_MODEL_685e1680ffa14b25b90f78e647f36be4"
          }
        },
        "fd8908482af84e60940faf2c45d02f90": {
          "model_module": "@jupyter-widgets/controls",
          "model_name": "FloatProgressModel",
          "model_module_version": "1.5.0",
          "state": {
            "_view_name": "ProgressView",
            "style": "IPY_MODEL_c7e08219100f40879a9ad622413fb819",
            "_dom_classes": [],
            "description": "",
            "_model_name": "FloatProgressModel",
            "bar_style": "",
            "max": 1,
            "_view_module": "@jupyter-widgets/controls",
            "_model_module_version": "1.5.0",
            "value": 1,
            "_view_count": null,
            "_view_module_version": "1.5.0",
            "orientation": "horizontal",
            "min": 0,
            "description_tooltip": null,
            "_model_module": "@jupyter-widgets/controls",
            "layout": "IPY_MODEL_25b4c8b1af2e4f2eb787501cc563784c"
          }
        },
        "8c11a945c10141fa8b07ffb087a61c5d": {
          "model_module": "@jupyter-widgets/controls",
          "model_name": "DescriptionStyleModel",
          "model_module_version": "1.5.0",
          "state": {
            "_view_name": "StyleView",
            "_model_name": "DescriptionStyleModel",
            "description_width": "",
            "_view_module": "@jupyter-widgets/base",
            "_model_module_version": "1.5.0",
            "_view_count": null,
            "_view_module_version": "1.2.0",
            "_model_module": "@jupyter-widgets/controls"
          }
        },
        "685e1680ffa14b25b90f78e647f36be4": {
          "model_module": "@jupyter-widgets/base",
          "model_name": "LayoutModel",
          "model_module_version": "1.2.0",
          "state": {
            "_view_name": "LayoutView",
            "grid_template_rows": null,
            "right": null,
            "justify_content": null,
            "_view_module": "@jupyter-widgets/base",
            "overflow": null,
            "_model_module_version": "1.2.0",
            "_view_count": null,
            "flex_flow": null,
            "width": null,
            "min_width": null,
            "border": null,
            "align_items": null,
            "bottom": null,
            "_model_module": "@jupyter-widgets/base",
            "top": null,
            "grid_column": null,
            "overflow_y": null,
            "overflow_x": null,
            "grid_auto_flow": null,
            "grid_area": null,
            "grid_template_columns": null,
            "flex": null,
            "_model_name": "LayoutModel",
            "justify_items": null,
            "grid_row": null,
            "max_height": null,
            "align_content": null,
            "visibility": null,
            "align_self": null,
            "height": null,
            "min_height": null,
            "padding": null,
            "grid_auto_rows": null,
            "grid_gap": null,
            "max_width": null,
            "order": null,
            "_view_module_version": "1.2.0",
            "grid_template_areas": null,
            "object_position": null,
            "object_fit": null,
            "grid_auto_columns": null,
            "margin": null,
            "display": null,
            "left": null
          }
        },
        "c7e08219100f40879a9ad622413fb819": {
          "model_module": "@jupyter-widgets/controls",
          "model_name": "ProgressStyleModel",
          "model_module_version": "1.5.0",
          "state": {
            "_view_name": "StyleView",
            "_model_name": "ProgressStyleModel",
            "description_width": "",
            "_view_module": "@jupyter-widgets/base",
            "_model_module_version": "1.5.0",
            "_view_count": null,
            "_view_module_version": "1.2.0",
            "bar_color": null,
            "_model_module": "@jupyter-widgets/controls"
          }
        },
        "25b4c8b1af2e4f2eb787501cc563784c": {
          "model_module": "@jupyter-widgets/base",
          "model_name": "LayoutModel",
          "model_module_version": "1.2.0",
          "state": {
            "_view_name": "LayoutView",
            "grid_template_rows": null,
            "right": null,
            "justify_content": null,
            "_view_module": "@jupyter-widgets/base",
            "overflow": null,
            "_model_module_version": "1.2.0",
            "_view_count": null,
            "flex_flow": null,
            "width": null,
            "min_width": null,
            "border": null,
            "align_items": null,
            "bottom": null,
            "_model_module": "@jupyter-widgets/base",
            "top": null,
            "grid_column": null,
            "overflow_y": null,
            "overflow_x": null,
            "grid_auto_flow": null,
            "grid_area": null,
            "grid_template_columns": null,
            "flex": null,
            "_model_name": "LayoutModel",
            "justify_items": null,
            "grid_row": null,
            "max_height": null,
            "align_content": null,
            "visibility": null,
            "align_self": null,
            "height": null,
            "min_height": null,
            "padding": null,
            "grid_auto_rows": null,
            "grid_gap": null,
            "max_width": null,
            "order": null,
            "_view_module_version": "1.2.0",
            "grid_template_areas": null,
            "object_position": null,
            "object_fit": null,
            "grid_auto_columns": null,
            "margin": null,
            "display": null,
            "left": null
          }
        },
        "ed9bcbe8158847efa5a6d157653ccddd": {
          "model_module": "@jupyter-widgets/controls",
          "model_name": "VBoxModel",
          "model_module_version": "1.5.0",
          "state": {
            "_view_name": "VBoxView",
            "_dom_classes": [],
            "_model_name": "VBoxModel",
            "_view_module": "@jupyter-widgets/controls",
            "_model_module_version": "1.5.0",
            "_view_count": null,
            "_view_module_version": "1.5.0",
            "box_style": "",
            "layout": "IPY_MODEL_07e473d7fc0847e6a8438da00a1dd7d4",
            "_model_module": "@jupyter-widgets/controls",
            "children": [
              "IPY_MODEL_adb8905897694b6893cda94f692f4ae6",
              "IPY_MODEL_4c5ff8f6c3f2417fae67f377e6179e9d"
            ]
          }
        },
        "07e473d7fc0847e6a8438da00a1dd7d4": {
          "model_module": "@jupyter-widgets/base",
          "model_name": "LayoutModel",
          "model_module_version": "1.2.0",
          "state": {
            "_view_name": "LayoutView",
            "grid_template_rows": null,
            "right": null,
            "justify_content": null,
            "_view_module": "@jupyter-widgets/base",
            "overflow": null,
            "_model_module_version": "1.2.0",
            "_view_count": null,
            "flex_flow": null,
            "width": null,
            "min_width": null,
            "border": null,
            "align_items": null,
            "bottom": null,
            "_model_module": "@jupyter-widgets/base",
            "top": null,
            "grid_column": null,
            "overflow_y": null,
            "overflow_x": null,
            "grid_auto_flow": null,
            "grid_area": null,
            "grid_template_columns": null,
            "flex": null,
            "_model_name": "LayoutModel",
            "justify_items": null,
            "grid_row": null,
            "max_height": null,
            "align_content": null,
            "visibility": null,
            "align_self": null,
            "height": null,
            "min_height": null,
            "padding": null,
            "grid_auto_rows": null,
            "grid_gap": null,
            "max_width": null,
            "order": null,
            "_view_module_version": "1.2.0",
            "grid_template_areas": null,
            "object_position": null,
            "object_fit": null,
            "grid_auto_columns": null,
            "margin": null,
            "display": null,
            "left": null
          }
        },
        "adb8905897694b6893cda94f692f4ae6": {
          "model_module": "@jupyter-widgets/controls",
          "model_name": "LabelModel",
          "model_module_version": "1.5.0",
          "state": {
            "_view_name": "LabelView",
            "style": "IPY_MODEL_ec37b0ae3309405e89bc3241f7aea184",
            "_dom_classes": [],
            "description": "",
            "_model_name": "LabelModel",
            "placeholder": "​",
            "_view_module": "@jupyter-widgets/controls",
            "_model_module_version": "1.5.0",
            "value": " 0.01MB of 0.01MB uploaded (0.00MB deduped)\r",
            "_view_count": null,
            "_view_module_version": "1.5.0",
            "description_tooltip": null,
            "_model_module": "@jupyter-widgets/controls",
            "layout": "IPY_MODEL_f4644d2ea2974c07a9f35a33b27e6e90"
          }
        },
        "4c5ff8f6c3f2417fae67f377e6179e9d": {
          "model_module": "@jupyter-widgets/controls",
          "model_name": "FloatProgressModel",
          "model_module_version": "1.5.0",
          "state": {
            "_view_name": "ProgressView",
            "style": "IPY_MODEL_1d2ec5fe55164ee78dd9ea387fc01aec",
            "_dom_classes": [],
            "description": "",
            "_model_name": "FloatProgressModel",
            "bar_style": "",
            "max": 1,
            "_view_module": "@jupyter-widgets/controls",
            "_model_module_version": "1.5.0",
            "value": 1,
            "_view_count": null,
            "_view_module_version": "1.5.0",
            "orientation": "horizontal",
            "min": 0,
            "description_tooltip": null,
            "_model_module": "@jupyter-widgets/controls",
            "layout": "IPY_MODEL_89daf9f2f65943408098f3de93ef0454"
          }
        },
        "ec37b0ae3309405e89bc3241f7aea184": {
          "model_module": "@jupyter-widgets/controls",
          "model_name": "DescriptionStyleModel",
          "model_module_version": "1.5.0",
          "state": {
            "_view_name": "StyleView",
            "_model_name": "DescriptionStyleModel",
            "description_width": "",
            "_view_module": "@jupyter-widgets/base",
            "_model_module_version": "1.5.0",
            "_view_count": null,
            "_view_module_version": "1.2.0",
            "_model_module": "@jupyter-widgets/controls"
          }
        },
        "f4644d2ea2974c07a9f35a33b27e6e90": {
          "model_module": "@jupyter-widgets/base",
          "model_name": "LayoutModel",
          "model_module_version": "1.2.0",
          "state": {
            "_view_name": "LayoutView",
            "grid_template_rows": null,
            "right": null,
            "justify_content": null,
            "_view_module": "@jupyter-widgets/base",
            "overflow": null,
            "_model_module_version": "1.2.0",
            "_view_count": null,
            "flex_flow": null,
            "width": null,
            "min_width": null,
            "border": null,
            "align_items": null,
            "bottom": null,
            "_model_module": "@jupyter-widgets/base",
            "top": null,
            "grid_column": null,
            "overflow_y": null,
            "overflow_x": null,
            "grid_auto_flow": null,
            "grid_area": null,
            "grid_template_columns": null,
            "flex": null,
            "_model_name": "LayoutModel",
            "justify_items": null,
            "grid_row": null,
            "max_height": null,
            "align_content": null,
            "visibility": null,
            "align_self": null,
            "height": null,
            "min_height": null,
            "padding": null,
            "grid_auto_rows": null,
            "grid_gap": null,
            "max_width": null,
            "order": null,
            "_view_module_version": "1.2.0",
            "grid_template_areas": null,
            "object_position": null,
            "object_fit": null,
            "grid_auto_columns": null,
            "margin": null,
            "display": null,
            "left": null
          }
        },
        "1d2ec5fe55164ee78dd9ea387fc01aec": {
          "model_module": "@jupyter-widgets/controls",
          "model_name": "ProgressStyleModel",
          "model_module_version": "1.5.0",
          "state": {
            "_view_name": "StyleView",
            "_model_name": "ProgressStyleModel",
            "description_width": "",
            "_view_module": "@jupyter-widgets/base",
            "_model_module_version": "1.5.0",
            "_view_count": null,
            "_view_module_version": "1.2.0",
            "bar_color": null,
            "_model_module": "@jupyter-widgets/controls"
          }
        },
        "89daf9f2f65943408098f3de93ef0454": {
          "model_module": "@jupyter-widgets/base",
          "model_name": "LayoutModel",
          "model_module_version": "1.2.0",
          "state": {
            "_view_name": "LayoutView",
            "grid_template_rows": null,
            "right": null,
            "justify_content": null,
            "_view_module": "@jupyter-widgets/base",
            "overflow": null,
            "_model_module_version": "1.2.0",
            "_view_count": null,
            "flex_flow": null,
            "width": null,
            "min_width": null,
            "border": null,
            "align_items": null,
            "bottom": null,
            "_model_module": "@jupyter-widgets/base",
            "top": null,
            "grid_column": null,
            "overflow_y": null,
            "overflow_x": null,
            "grid_auto_flow": null,
            "grid_area": null,
            "grid_template_columns": null,
            "flex": null,
            "_model_name": "LayoutModel",
            "justify_items": null,
            "grid_row": null,
            "max_height": null,
            "align_content": null,
            "visibility": null,
            "align_self": null,
            "height": null,
            "min_height": null,
            "padding": null,
            "grid_auto_rows": null,
            "grid_gap": null,
            "max_width": null,
            "order": null,
            "_view_module_version": "1.2.0",
            "grid_template_areas": null,
            "object_position": null,
            "object_fit": null,
            "grid_auto_columns": null,
            "margin": null,
            "display": null,
            "left": null
          }
        },
        "240df98fc3cf47f6bfcf97151e823d37": {
          "model_module": "@jupyter-widgets/controls",
          "model_name": "VBoxModel",
          "model_module_version": "1.5.0",
          "state": {
            "_view_name": "VBoxView",
            "_dom_classes": [],
            "_model_name": "VBoxModel",
            "_view_module": "@jupyter-widgets/controls",
            "_model_module_version": "1.5.0",
            "_view_count": null,
            "_view_module_version": "1.5.0",
            "box_style": "",
            "layout": "IPY_MODEL_986b1aa60f5a478d8ff9f8c0e3713ebe",
            "_model_module": "@jupyter-widgets/controls",
            "children": [
              "IPY_MODEL_97d527ecf628428687b038f4336ffd03",
              "IPY_MODEL_e96a7467be974da0956008b70ee6b800"
            ]
          }
        },
        "986b1aa60f5a478d8ff9f8c0e3713ebe": {
          "model_module": "@jupyter-widgets/base",
          "model_name": "LayoutModel",
          "model_module_version": "1.2.0",
          "state": {
            "_view_name": "LayoutView",
            "grid_template_rows": null,
            "right": null,
            "justify_content": null,
            "_view_module": "@jupyter-widgets/base",
            "overflow": null,
            "_model_module_version": "1.2.0",
            "_view_count": null,
            "flex_flow": null,
            "width": null,
            "min_width": null,
            "border": null,
            "align_items": null,
            "bottom": null,
            "_model_module": "@jupyter-widgets/base",
            "top": null,
            "grid_column": null,
            "overflow_y": null,
            "overflow_x": null,
            "grid_auto_flow": null,
            "grid_area": null,
            "grid_template_columns": null,
            "flex": null,
            "_model_name": "LayoutModel",
            "justify_items": null,
            "grid_row": null,
            "max_height": null,
            "align_content": null,
            "visibility": null,
            "align_self": null,
            "height": null,
            "min_height": null,
            "padding": null,
            "grid_auto_rows": null,
            "grid_gap": null,
            "max_width": null,
            "order": null,
            "_view_module_version": "1.2.0",
            "grid_template_areas": null,
            "object_position": null,
            "object_fit": null,
            "grid_auto_columns": null,
            "margin": null,
            "display": null,
            "left": null
          }
        },
        "97d527ecf628428687b038f4336ffd03": {
          "model_module": "@jupyter-widgets/controls",
          "model_name": "LabelModel",
          "model_module_version": "1.5.0",
          "state": {
            "_view_name": "LabelView",
            "style": "IPY_MODEL_4d141b14c1b94eb4be4741fcaadd95eb",
            "_dom_classes": [],
            "description": "",
            "_model_name": "LabelModel",
            "placeholder": "​",
            "_view_module": "@jupyter-widgets/controls",
            "_model_module_version": "1.5.0",
            "value": " 0.01MB of 0.01MB uploaded (0.00MB deduped)\r",
            "_view_count": null,
            "_view_module_version": "1.5.0",
            "description_tooltip": null,
            "_model_module": "@jupyter-widgets/controls",
            "layout": "IPY_MODEL_3bfdd68efa84461d9ea9103f23cb02a8"
          }
        },
        "e96a7467be974da0956008b70ee6b800": {
          "model_module": "@jupyter-widgets/controls",
          "model_name": "FloatProgressModel",
          "model_module_version": "1.5.0",
          "state": {
            "_view_name": "ProgressView",
            "style": "IPY_MODEL_8352715f36194a3ab08230bef2cd7a2a",
            "_dom_classes": [],
            "description": "",
            "_model_name": "FloatProgressModel",
            "bar_style": "",
            "max": 1,
            "_view_module": "@jupyter-widgets/controls",
            "_model_module_version": "1.5.0",
            "value": 1,
            "_view_count": null,
            "_view_module_version": "1.5.0",
            "orientation": "horizontal",
            "min": 0,
            "description_tooltip": null,
            "_model_module": "@jupyter-widgets/controls",
            "layout": "IPY_MODEL_aed5f44c8ee0455383703ceee418200f"
          }
        },
        "4d141b14c1b94eb4be4741fcaadd95eb": {
          "model_module": "@jupyter-widgets/controls",
          "model_name": "DescriptionStyleModel",
          "model_module_version": "1.5.0",
          "state": {
            "_view_name": "StyleView",
            "_model_name": "DescriptionStyleModel",
            "description_width": "",
            "_view_module": "@jupyter-widgets/base",
            "_model_module_version": "1.5.0",
            "_view_count": null,
            "_view_module_version": "1.2.0",
            "_model_module": "@jupyter-widgets/controls"
          }
        },
        "3bfdd68efa84461d9ea9103f23cb02a8": {
          "model_module": "@jupyter-widgets/base",
          "model_name": "LayoutModel",
          "model_module_version": "1.2.0",
          "state": {
            "_view_name": "LayoutView",
            "grid_template_rows": null,
            "right": null,
            "justify_content": null,
            "_view_module": "@jupyter-widgets/base",
            "overflow": null,
            "_model_module_version": "1.2.0",
            "_view_count": null,
            "flex_flow": null,
            "width": null,
            "min_width": null,
            "border": null,
            "align_items": null,
            "bottom": null,
            "_model_module": "@jupyter-widgets/base",
            "top": null,
            "grid_column": null,
            "overflow_y": null,
            "overflow_x": null,
            "grid_auto_flow": null,
            "grid_area": null,
            "grid_template_columns": null,
            "flex": null,
            "_model_name": "LayoutModel",
            "justify_items": null,
            "grid_row": null,
            "max_height": null,
            "align_content": null,
            "visibility": null,
            "align_self": null,
            "height": null,
            "min_height": null,
            "padding": null,
            "grid_auto_rows": null,
            "grid_gap": null,
            "max_width": null,
            "order": null,
            "_view_module_version": "1.2.0",
            "grid_template_areas": null,
            "object_position": null,
            "object_fit": null,
            "grid_auto_columns": null,
            "margin": null,
            "display": null,
            "left": null
          }
        },
        "8352715f36194a3ab08230bef2cd7a2a": {
          "model_module": "@jupyter-widgets/controls",
          "model_name": "ProgressStyleModel",
          "model_module_version": "1.5.0",
          "state": {
            "_view_name": "StyleView",
            "_model_name": "ProgressStyleModel",
            "description_width": "",
            "_view_module": "@jupyter-widgets/base",
            "_model_module_version": "1.5.0",
            "_view_count": null,
            "_view_module_version": "1.2.0",
            "bar_color": null,
            "_model_module": "@jupyter-widgets/controls"
          }
        },
        "aed5f44c8ee0455383703ceee418200f": {
          "model_module": "@jupyter-widgets/base",
          "model_name": "LayoutModel",
          "model_module_version": "1.2.0",
          "state": {
            "_view_name": "LayoutView",
            "grid_template_rows": null,
            "right": null,
            "justify_content": null,
            "_view_module": "@jupyter-widgets/base",
            "overflow": null,
            "_model_module_version": "1.2.0",
            "_view_count": null,
            "flex_flow": null,
            "width": null,
            "min_width": null,
            "border": null,
            "align_items": null,
            "bottom": null,
            "_model_module": "@jupyter-widgets/base",
            "top": null,
            "grid_column": null,
            "overflow_y": null,
            "overflow_x": null,
            "grid_auto_flow": null,
            "grid_area": null,
            "grid_template_columns": null,
            "flex": null,
            "_model_name": "LayoutModel",
            "justify_items": null,
            "grid_row": null,
            "max_height": null,
            "align_content": null,
            "visibility": null,
            "align_self": null,
            "height": null,
            "min_height": null,
            "padding": null,
            "grid_auto_rows": null,
            "grid_gap": null,
            "max_width": null,
            "order": null,
            "_view_module_version": "1.2.0",
            "grid_template_areas": null,
            "object_position": null,
            "object_fit": null,
            "grid_auto_columns": null,
            "margin": null,
            "display": null,
            "left": null
          }
        },
        "194750b4a6bc4cc08107d67a800cbcca": {
          "model_module": "@jupyter-widgets/controls",
          "model_name": "VBoxModel",
          "model_module_version": "1.5.0",
          "state": {
            "_view_name": "VBoxView",
            "_dom_classes": [],
            "_model_name": "VBoxModel",
            "_view_module": "@jupyter-widgets/controls",
            "_model_module_version": "1.5.0",
            "_view_count": null,
            "_view_module_version": "1.5.0",
            "box_style": "",
            "layout": "IPY_MODEL_023379f651b547f6b1ccc5d45b3390fc",
            "_model_module": "@jupyter-widgets/controls",
            "children": [
              "IPY_MODEL_cf75ea10f11146789904ad1872df5089",
              "IPY_MODEL_7f384228c82742bea7b97eea56f65d31"
            ]
          }
        },
        "023379f651b547f6b1ccc5d45b3390fc": {
          "model_module": "@jupyter-widgets/base",
          "model_name": "LayoutModel",
          "model_module_version": "1.2.0",
          "state": {
            "_view_name": "LayoutView",
            "grid_template_rows": null,
            "right": null,
            "justify_content": null,
            "_view_module": "@jupyter-widgets/base",
            "overflow": null,
            "_model_module_version": "1.2.0",
            "_view_count": null,
            "flex_flow": null,
            "width": null,
            "min_width": null,
            "border": null,
            "align_items": null,
            "bottom": null,
            "_model_module": "@jupyter-widgets/base",
            "top": null,
            "grid_column": null,
            "overflow_y": null,
            "overflow_x": null,
            "grid_auto_flow": null,
            "grid_area": null,
            "grid_template_columns": null,
            "flex": null,
            "_model_name": "LayoutModel",
            "justify_items": null,
            "grid_row": null,
            "max_height": null,
            "align_content": null,
            "visibility": null,
            "align_self": null,
            "height": null,
            "min_height": null,
            "padding": null,
            "grid_auto_rows": null,
            "grid_gap": null,
            "max_width": null,
            "order": null,
            "_view_module_version": "1.2.0",
            "grid_template_areas": null,
            "object_position": null,
            "object_fit": null,
            "grid_auto_columns": null,
            "margin": null,
            "display": null,
            "left": null
          }
        },
        "cf75ea10f11146789904ad1872df5089": {
          "model_module": "@jupyter-widgets/controls",
          "model_name": "LabelModel",
          "model_module_version": "1.5.0",
          "state": {
            "_view_name": "LabelView",
            "style": "IPY_MODEL_1192c8742656498f810e07513a423c7d",
            "_dom_classes": [],
            "description": "",
            "_model_name": "LabelModel",
            "placeholder": "​",
            "_view_module": "@jupyter-widgets/controls",
            "_model_module_version": "1.5.0",
            "value": " 0.01MB of 0.01MB uploaded (0.00MB deduped)\r",
            "_view_count": null,
            "_view_module_version": "1.5.0",
            "description_tooltip": null,
            "_model_module": "@jupyter-widgets/controls",
            "layout": "IPY_MODEL_a7598801bb8d4d74be9f1cfbe6c91557"
          }
        },
        "7f384228c82742bea7b97eea56f65d31": {
          "model_module": "@jupyter-widgets/controls",
          "model_name": "FloatProgressModel",
          "model_module_version": "1.5.0",
          "state": {
            "_view_name": "ProgressView",
            "style": "IPY_MODEL_1d4cd2b838a94aa8b32d0b7086b56e8a",
            "_dom_classes": [],
            "description": "",
            "_model_name": "FloatProgressModel",
            "bar_style": "",
            "max": 1,
            "_view_module": "@jupyter-widgets/controls",
            "_model_module_version": "1.5.0",
            "value": 1,
            "_view_count": null,
            "_view_module_version": "1.5.0",
            "orientation": "horizontal",
            "min": 0,
            "description_tooltip": null,
            "_model_module": "@jupyter-widgets/controls",
            "layout": "IPY_MODEL_cc7d2d35b863459ba18499419c264d99"
          }
        },
        "1192c8742656498f810e07513a423c7d": {
          "model_module": "@jupyter-widgets/controls",
          "model_name": "DescriptionStyleModel",
          "model_module_version": "1.5.0",
          "state": {
            "_view_name": "StyleView",
            "_model_name": "DescriptionStyleModel",
            "description_width": "",
            "_view_module": "@jupyter-widgets/base",
            "_model_module_version": "1.5.0",
            "_view_count": null,
            "_view_module_version": "1.2.0",
            "_model_module": "@jupyter-widgets/controls"
          }
        },
        "a7598801bb8d4d74be9f1cfbe6c91557": {
          "model_module": "@jupyter-widgets/base",
          "model_name": "LayoutModel",
          "model_module_version": "1.2.0",
          "state": {
            "_view_name": "LayoutView",
            "grid_template_rows": null,
            "right": null,
            "justify_content": null,
            "_view_module": "@jupyter-widgets/base",
            "overflow": null,
            "_model_module_version": "1.2.0",
            "_view_count": null,
            "flex_flow": null,
            "width": null,
            "min_width": null,
            "border": null,
            "align_items": null,
            "bottom": null,
            "_model_module": "@jupyter-widgets/base",
            "top": null,
            "grid_column": null,
            "overflow_y": null,
            "overflow_x": null,
            "grid_auto_flow": null,
            "grid_area": null,
            "grid_template_columns": null,
            "flex": null,
            "_model_name": "LayoutModel",
            "justify_items": null,
            "grid_row": null,
            "max_height": null,
            "align_content": null,
            "visibility": null,
            "align_self": null,
            "height": null,
            "min_height": null,
            "padding": null,
            "grid_auto_rows": null,
            "grid_gap": null,
            "max_width": null,
            "order": null,
            "_view_module_version": "1.2.0",
            "grid_template_areas": null,
            "object_position": null,
            "object_fit": null,
            "grid_auto_columns": null,
            "margin": null,
            "display": null,
            "left": null
          }
        },
        "1d4cd2b838a94aa8b32d0b7086b56e8a": {
          "model_module": "@jupyter-widgets/controls",
          "model_name": "ProgressStyleModel",
          "model_module_version": "1.5.0",
          "state": {
            "_view_name": "StyleView",
            "_model_name": "ProgressStyleModel",
            "description_width": "",
            "_view_module": "@jupyter-widgets/base",
            "_model_module_version": "1.5.0",
            "_view_count": null,
            "_view_module_version": "1.2.0",
            "bar_color": null,
            "_model_module": "@jupyter-widgets/controls"
          }
        },
        "cc7d2d35b863459ba18499419c264d99": {
          "model_module": "@jupyter-widgets/base",
          "model_name": "LayoutModel",
          "model_module_version": "1.2.0",
          "state": {
            "_view_name": "LayoutView",
            "grid_template_rows": null,
            "right": null,
            "justify_content": null,
            "_view_module": "@jupyter-widgets/base",
            "overflow": null,
            "_model_module_version": "1.2.0",
            "_view_count": null,
            "flex_flow": null,
            "width": null,
            "min_width": null,
            "border": null,
            "align_items": null,
            "bottom": null,
            "_model_module": "@jupyter-widgets/base",
            "top": null,
            "grid_column": null,
            "overflow_y": null,
            "overflow_x": null,
            "grid_auto_flow": null,
            "grid_area": null,
            "grid_template_columns": null,
            "flex": null,
            "_model_name": "LayoutModel",
            "justify_items": null,
            "grid_row": null,
            "max_height": null,
            "align_content": null,
            "visibility": null,
            "align_self": null,
            "height": null,
            "min_height": null,
            "padding": null,
            "grid_auto_rows": null,
            "grid_gap": null,
            "max_width": null,
            "order": null,
            "_view_module_version": "1.2.0",
            "grid_template_areas": null,
            "object_position": null,
            "object_fit": null,
            "grid_auto_columns": null,
            "margin": null,
            "display": null,
            "left": null
          }
        },
        "e193e7b926ac458bacbec078aad57096": {
          "model_module": "@jupyter-widgets/controls",
          "model_name": "VBoxModel",
          "model_module_version": "1.5.0",
          "state": {
            "_view_name": "VBoxView",
            "_dom_classes": [],
            "_model_name": "VBoxModel",
            "_view_module": "@jupyter-widgets/controls",
            "_model_module_version": "1.5.0",
            "_view_count": null,
            "_view_module_version": "1.5.0",
            "box_style": "",
            "layout": "IPY_MODEL_2edb034a02a142cca6fd8cac5661ddb7",
            "_model_module": "@jupyter-widgets/controls",
            "children": [
              "IPY_MODEL_5a473eed93044b6fa7a3aa304c915c7c",
              "IPY_MODEL_9b1971bf0ed94d59b5b18d9556185a75"
            ]
          }
        },
        "2edb034a02a142cca6fd8cac5661ddb7": {
          "model_module": "@jupyter-widgets/base",
          "model_name": "LayoutModel",
          "model_module_version": "1.2.0",
          "state": {
            "_view_name": "LayoutView",
            "grid_template_rows": null,
            "right": null,
            "justify_content": null,
            "_view_module": "@jupyter-widgets/base",
            "overflow": null,
            "_model_module_version": "1.2.0",
            "_view_count": null,
            "flex_flow": null,
            "width": null,
            "min_width": null,
            "border": null,
            "align_items": null,
            "bottom": null,
            "_model_module": "@jupyter-widgets/base",
            "top": null,
            "grid_column": null,
            "overflow_y": null,
            "overflow_x": null,
            "grid_auto_flow": null,
            "grid_area": null,
            "grid_template_columns": null,
            "flex": null,
            "_model_name": "LayoutModel",
            "justify_items": null,
            "grid_row": null,
            "max_height": null,
            "align_content": null,
            "visibility": null,
            "align_self": null,
            "height": null,
            "min_height": null,
            "padding": null,
            "grid_auto_rows": null,
            "grid_gap": null,
            "max_width": null,
            "order": null,
            "_view_module_version": "1.2.0",
            "grid_template_areas": null,
            "object_position": null,
            "object_fit": null,
            "grid_auto_columns": null,
            "margin": null,
            "display": null,
            "left": null
          }
        },
        "5a473eed93044b6fa7a3aa304c915c7c": {
          "model_module": "@jupyter-widgets/controls",
          "model_name": "LabelModel",
          "model_module_version": "1.5.0",
          "state": {
            "_view_name": "LabelView",
            "style": "IPY_MODEL_c0eed216ef8d4c1aa09503529c0d3124",
            "_dom_classes": [],
            "description": "",
            "_model_name": "LabelModel",
            "placeholder": "​",
            "_view_module": "@jupyter-widgets/controls",
            "_model_module_version": "1.5.0",
            "value": " 0.01MB of 0.01MB uploaded (0.00MB deduped)\r",
            "_view_count": null,
            "_view_module_version": "1.5.0",
            "description_tooltip": null,
            "_model_module": "@jupyter-widgets/controls",
            "layout": "IPY_MODEL_ebd2f7d82d9a4af98a83d0ad008865cb"
          }
        },
        "9b1971bf0ed94d59b5b18d9556185a75": {
          "model_module": "@jupyter-widgets/controls",
          "model_name": "FloatProgressModel",
          "model_module_version": "1.5.0",
          "state": {
            "_view_name": "ProgressView",
            "style": "IPY_MODEL_ffb5c3cbd8ee4dbbaa157d42d8654179",
            "_dom_classes": [],
            "description": "",
            "_model_name": "FloatProgressModel",
            "bar_style": "",
            "max": 1,
            "_view_module": "@jupyter-widgets/controls",
            "_model_module_version": "1.5.0",
            "value": 1,
            "_view_count": null,
            "_view_module_version": "1.5.0",
            "orientation": "horizontal",
            "min": 0,
            "description_tooltip": null,
            "_model_module": "@jupyter-widgets/controls",
            "layout": "IPY_MODEL_01f496a260814e989306fe88f2be6e42"
          }
        },
        "c0eed216ef8d4c1aa09503529c0d3124": {
          "model_module": "@jupyter-widgets/controls",
          "model_name": "DescriptionStyleModel",
          "model_module_version": "1.5.0",
          "state": {
            "_view_name": "StyleView",
            "_model_name": "DescriptionStyleModel",
            "description_width": "",
            "_view_module": "@jupyter-widgets/base",
            "_model_module_version": "1.5.0",
            "_view_count": null,
            "_view_module_version": "1.2.0",
            "_model_module": "@jupyter-widgets/controls"
          }
        },
        "ebd2f7d82d9a4af98a83d0ad008865cb": {
          "model_module": "@jupyter-widgets/base",
          "model_name": "LayoutModel",
          "model_module_version": "1.2.0",
          "state": {
            "_view_name": "LayoutView",
            "grid_template_rows": null,
            "right": null,
            "justify_content": null,
            "_view_module": "@jupyter-widgets/base",
            "overflow": null,
            "_model_module_version": "1.2.0",
            "_view_count": null,
            "flex_flow": null,
            "width": null,
            "min_width": null,
            "border": null,
            "align_items": null,
            "bottom": null,
            "_model_module": "@jupyter-widgets/base",
            "top": null,
            "grid_column": null,
            "overflow_y": null,
            "overflow_x": null,
            "grid_auto_flow": null,
            "grid_area": null,
            "grid_template_columns": null,
            "flex": null,
            "_model_name": "LayoutModel",
            "justify_items": null,
            "grid_row": null,
            "max_height": null,
            "align_content": null,
            "visibility": null,
            "align_self": null,
            "height": null,
            "min_height": null,
            "padding": null,
            "grid_auto_rows": null,
            "grid_gap": null,
            "max_width": null,
            "order": null,
            "_view_module_version": "1.2.0",
            "grid_template_areas": null,
            "object_position": null,
            "object_fit": null,
            "grid_auto_columns": null,
            "margin": null,
            "display": null,
            "left": null
          }
        },
        "ffb5c3cbd8ee4dbbaa157d42d8654179": {
          "model_module": "@jupyter-widgets/controls",
          "model_name": "ProgressStyleModel",
          "model_module_version": "1.5.0",
          "state": {
            "_view_name": "StyleView",
            "_model_name": "ProgressStyleModel",
            "description_width": "",
            "_view_module": "@jupyter-widgets/base",
            "_model_module_version": "1.5.0",
            "_view_count": null,
            "_view_module_version": "1.2.0",
            "bar_color": null,
            "_model_module": "@jupyter-widgets/controls"
          }
        },
        "01f496a260814e989306fe88f2be6e42": {
          "model_module": "@jupyter-widgets/base",
          "model_name": "LayoutModel",
          "model_module_version": "1.2.0",
          "state": {
            "_view_name": "LayoutView",
            "grid_template_rows": null,
            "right": null,
            "justify_content": null,
            "_view_module": "@jupyter-widgets/base",
            "overflow": null,
            "_model_module_version": "1.2.0",
            "_view_count": null,
            "flex_flow": null,
            "width": null,
            "min_width": null,
            "border": null,
            "align_items": null,
            "bottom": null,
            "_model_module": "@jupyter-widgets/base",
            "top": null,
            "grid_column": null,
            "overflow_y": null,
            "overflow_x": null,
            "grid_auto_flow": null,
            "grid_area": null,
            "grid_template_columns": null,
            "flex": null,
            "_model_name": "LayoutModel",
            "justify_items": null,
            "grid_row": null,
            "max_height": null,
            "align_content": null,
            "visibility": null,
            "align_self": null,
            "height": null,
            "min_height": null,
            "padding": null,
            "grid_auto_rows": null,
            "grid_gap": null,
            "max_width": null,
            "order": null,
            "_view_module_version": "1.2.0",
            "grid_template_areas": null,
            "object_position": null,
            "object_fit": null,
            "grid_auto_columns": null,
            "margin": null,
            "display": null,
            "left": null
          }
        },
        "fa101fb4eae7465a9c676c5ef5b10e71": {
          "model_module": "@jupyter-widgets/controls",
          "model_name": "VBoxModel",
          "model_module_version": "1.5.0",
          "state": {
            "_view_name": "VBoxView",
            "_dom_classes": [],
            "_model_name": "VBoxModel",
            "_view_module": "@jupyter-widgets/controls",
            "_model_module_version": "1.5.0",
            "_view_count": null,
            "_view_module_version": "1.5.0",
            "box_style": "",
            "layout": "IPY_MODEL_c52e57cd5e484c4fa8008f70ea472f98",
            "_model_module": "@jupyter-widgets/controls",
            "children": [
              "IPY_MODEL_b11caf868c72421883eb779e7cd5aee5",
              "IPY_MODEL_49c8d7b4702c40399046c389479d9aeb"
            ]
          }
        },
        "c52e57cd5e484c4fa8008f70ea472f98": {
          "model_module": "@jupyter-widgets/base",
          "model_name": "LayoutModel",
          "model_module_version": "1.2.0",
          "state": {
            "_view_name": "LayoutView",
            "grid_template_rows": null,
            "right": null,
            "justify_content": null,
            "_view_module": "@jupyter-widgets/base",
            "overflow": null,
            "_model_module_version": "1.2.0",
            "_view_count": null,
            "flex_flow": null,
            "width": null,
            "min_width": null,
            "border": null,
            "align_items": null,
            "bottom": null,
            "_model_module": "@jupyter-widgets/base",
            "top": null,
            "grid_column": null,
            "overflow_y": null,
            "overflow_x": null,
            "grid_auto_flow": null,
            "grid_area": null,
            "grid_template_columns": null,
            "flex": null,
            "_model_name": "LayoutModel",
            "justify_items": null,
            "grid_row": null,
            "max_height": null,
            "align_content": null,
            "visibility": null,
            "align_self": null,
            "height": null,
            "min_height": null,
            "padding": null,
            "grid_auto_rows": null,
            "grid_gap": null,
            "max_width": null,
            "order": null,
            "_view_module_version": "1.2.0",
            "grid_template_areas": null,
            "object_position": null,
            "object_fit": null,
            "grid_auto_columns": null,
            "margin": null,
            "display": null,
            "left": null
          }
        },
        "b11caf868c72421883eb779e7cd5aee5": {
          "model_module": "@jupyter-widgets/controls",
          "model_name": "LabelModel",
          "model_module_version": "1.5.0",
          "state": {
            "_view_name": "LabelView",
            "style": "IPY_MODEL_43e59d2dc36d475bbef723537ce8d50d",
            "_dom_classes": [],
            "description": "",
            "_model_name": "LabelModel",
            "placeholder": "​",
            "_view_module": "@jupyter-widgets/controls",
            "_model_module_version": "1.5.0",
            "value": " 0.01MB of 0.01MB uploaded (0.00MB deduped)\r",
            "_view_count": null,
            "_view_module_version": "1.5.0",
            "description_tooltip": null,
            "_model_module": "@jupyter-widgets/controls",
            "layout": "IPY_MODEL_283d2008711144ad930dfa80b030bc9d"
          }
        },
        "49c8d7b4702c40399046c389479d9aeb": {
          "model_module": "@jupyter-widgets/controls",
          "model_name": "FloatProgressModel",
          "model_module_version": "1.5.0",
          "state": {
            "_view_name": "ProgressView",
            "style": "IPY_MODEL_6310220dd73b4684af0cb77bdd8a8337",
            "_dom_classes": [],
            "description": "",
            "_model_name": "FloatProgressModel",
            "bar_style": "",
            "max": 1,
            "_view_module": "@jupyter-widgets/controls",
            "_model_module_version": "1.5.0",
            "value": 1,
            "_view_count": null,
            "_view_module_version": "1.5.0",
            "orientation": "horizontal",
            "min": 0,
            "description_tooltip": null,
            "_model_module": "@jupyter-widgets/controls",
            "layout": "IPY_MODEL_aca78d286f9d4aa3884327258a0b7e02"
          }
        },
        "43e59d2dc36d475bbef723537ce8d50d": {
          "model_module": "@jupyter-widgets/controls",
          "model_name": "DescriptionStyleModel",
          "model_module_version": "1.5.0",
          "state": {
            "_view_name": "StyleView",
            "_model_name": "DescriptionStyleModel",
            "description_width": "",
            "_view_module": "@jupyter-widgets/base",
            "_model_module_version": "1.5.0",
            "_view_count": null,
            "_view_module_version": "1.2.0",
            "_model_module": "@jupyter-widgets/controls"
          }
        },
        "283d2008711144ad930dfa80b030bc9d": {
          "model_module": "@jupyter-widgets/base",
          "model_name": "LayoutModel",
          "model_module_version": "1.2.0",
          "state": {
            "_view_name": "LayoutView",
            "grid_template_rows": null,
            "right": null,
            "justify_content": null,
            "_view_module": "@jupyter-widgets/base",
            "overflow": null,
            "_model_module_version": "1.2.0",
            "_view_count": null,
            "flex_flow": null,
            "width": null,
            "min_width": null,
            "border": null,
            "align_items": null,
            "bottom": null,
            "_model_module": "@jupyter-widgets/base",
            "top": null,
            "grid_column": null,
            "overflow_y": null,
            "overflow_x": null,
            "grid_auto_flow": null,
            "grid_area": null,
            "grid_template_columns": null,
            "flex": null,
            "_model_name": "LayoutModel",
            "justify_items": null,
            "grid_row": null,
            "max_height": null,
            "align_content": null,
            "visibility": null,
            "align_self": null,
            "height": null,
            "min_height": null,
            "padding": null,
            "grid_auto_rows": null,
            "grid_gap": null,
            "max_width": null,
            "order": null,
            "_view_module_version": "1.2.0",
            "grid_template_areas": null,
            "object_position": null,
            "object_fit": null,
            "grid_auto_columns": null,
            "margin": null,
            "display": null,
            "left": null
          }
        },
        "6310220dd73b4684af0cb77bdd8a8337": {
          "model_module": "@jupyter-widgets/controls",
          "model_name": "ProgressStyleModel",
          "model_module_version": "1.5.0",
          "state": {
            "_view_name": "StyleView",
            "_model_name": "ProgressStyleModel",
            "description_width": "",
            "_view_module": "@jupyter-widgets/base",
            "_model_module_version": "1.5.0",
            "_view_count": null,
            "_view_module_version": "1.2.0",
            "bar_color": null,
            "_model_module": "@jupyter-widgets/controls"
          }
        },
        "aca78d286f9d4aa3884327258a0b7e02": {
          "model_module": "@jupyter-widgets/base",
          "model_name": "LayoutModel",
          "model_module_version": "1.2.0",
          "state": {
            "_view_name": "LayoutView",
            "grid_template_rows": null,
            "right": null,
            "justify_content": null,
            "_view_module": "@jupyter-widgets/base",
            "overflow": null,
            "_model_module_version": "1.2.0",
            "_view_count": null,
            "flex_flow": null,
            "width": null,
            "min_width": null,
            "border": null,
            "align_items": null,
            "bottom": null,
            "_model_module": "@jupyter-widgets/base",
            "top": null,
            "grid_column": null,
            "overflow_y": null,
            "overflow_x": null,
            "grid_auto_flow": null,
            "grid_area": null,
            "grid_template_columns": null,
            "flex": null,
            "_model_name": "LayoutModel",
            "justify_items": null,
            "grid_row": null,
            "max_height": null,
            "align_content": null,
            "visibility": null,
            "align_self": null,
            "height": null,
            "min_height": null,
            "padding": null,
            "grid_auto_rows": null,
            "grid_gap": null,
            "max_width": null,
            "order": null,
            "_view_module_version": "1.2.0",
            "grid_template_areas": null,
            "object_position": null,
            "object_fit": null,
            "grid_auto_columns": null,
            "margin": null,
            "display": null,
            "left": null
          }
        },
        "1d0b6a369bce4661a4e485d701eda799": {
          "model_module": "@jupyter-widgets/controls",
          "model_name": "VBoxModel",
          "model_module_version": "1.5.0",
          "state": {
            "_view_name": "VBoxView",
            "_dom_classes": [],
            "_model_name": "VBoxModel",
            "_view_module": "@jupyter-widgets/controls",
            "_model_module_version": "1.5.0",
            "_view_count": null,
            "_view_module_version": "1.5.0",
            "box_style": "",
            "layout": "IPY_MODEL_546b5574e7fb4353aef490bf58050a91",
            "_model_module": "@jupyter-widgets/controls",
            "children": [
              "IPY_MODEL_c15af0ea8cf04866be944a55c01ea8ab",
              "IPY_MODEL_07bbfe3dc5e743d18c2da0c7d69eafd1"
            ]
          }
        },
        "546b5574e7fb4353aef490bf58050a91": {
          "model_module": "@jupyter-widgets/base",
          "model_name": "LayoutModel",
          "model_module_version": "1.2.0",
          "state": {
            "_view_name": "LayoutView",
            "grid_template_rows": null,
            "right": null,
            "justify_content": null,
            "_view_module": "@jupyter-widgets/base",
            "overflow": null,
            "_model_module_version": "1.2.0",
            "_view_count": null,
            "flex_flow": null,
            "width": null,
            "min_width": null,
            "border": null,
            "align_items": null,
            "bottom": null,
            "_model_module": "@jupyter-widgets/base",
            "top": null,
            "grid_column": null,
            "overflow_y": null,
            "overflow_x": null,
            "grid_auto_flow": null,
            "grid_area": null,
            "grid_template_columns": null,
            "flex": null,
            "_model_name": "LayoutModel",
            "justify_items": null,
            "grid_row": null,
            "max_height": null,
            "align_content": null,
            "visibility": null,
            "align_self": null,
            "height": null,
            "min_height": null,
            "padding": null,
            "grid_auto_rows": null,
            "grid_gap": null,
            "max_width": null,
            "order": null,
            "_view_module_version": "1.2.0",
            "grid_template_areas": null,
            "object_position": null,
            "object_fit": null,
            "grid_auto_columns": null,
            "margin": null,
            "display": null,
            "left": null
          }
        },
        "c15af0ea8cf04866be944a55c01ea8ab": {
          "model_module": "@jupyter-widgets/controls",
          "model_name": "LabelModel",
          "model_module_version": "1.5.0",
          "state": {
            "_view_name": "LabelView",
            "style": "IPY_MODEL_dea370dd4f344cbd9d7179f8754a7942",
            "_dom_classes": [],
            "description": "",
            "_model_name": "LabelModel",
            "placeholder": "​",
            "_view_module": "@jupyter-widgets/controls",
            "_model_module_version": "1.5.0",
            "value": " 0.01MB of 0.01MB uploaded (0.00MB deduped)\r",
            "_view_count": null,
            "_view_module_version": "1.5.0",
            "description_tooltip": null,
            "_model_module": "@jupyter-widgets/controls",
            "layout": "IPY_MODEL_fdd278c19d4d4c9489f3d35b985b1c8c"
          }
        },
        "07bbfe3dc5e743d18c2da0c7d69eafd1": {
          "model_module": "@jupyter-widgets/controls",
          "model_name": "FloatProgressModel",
          "model_module_version": "1.5.0",
          "state": {
            "_view_name": "ProgressView",
            "style": "IPY_MODEL_14e054837edd4373aac5f040dda35ef8",
            "_dom_classes": [],
            "description": "",
            "_model_name": "FloatProgressModel",
            "bar_style": "",
            "max": 1,
            "_view_module": "@jupyter-widgets/controls",
            "_model_module_version": "1.5.0",
            "value": 1,
            "_view_count": null,
            "_view_module_version": "1.5.0",
            "orientation": "horizontal",
            "min": 0,
            "description_tooltip": null,
            "_model_module": "@jupyter-widgets/controls",
            "layout": "IPY_MODEL_4f9e64925ce74261a25ae3fe836e3333"
          }
        },
        "dea370dd4f344cbd9d7179f8754a7942": {
          "model_module": "@jupyter-widgets/controls",
          "model_name": "DescriptionStyleModel",
          "model_module_version": "1.5.0",
          "state": {
            "_view_name": "StyleView",
            "_model_name": "DescriptionStyleModel",
            "description_width": "",
            "_view_module": "@jupyter-widgets/base",
            "_model_module_version": "1.5.0",
            "_view_count": null,
            "_view_module_version": "1.2.0",
            "_model_module": "@jupyter-widgets/controls"
          }
        },
        "fdd278c19d4d4c9489f3d35b985b1c8c": {
          "model_module": "@jupyter-widgets/base",
          "model_name": "LayoutModel",
          "model_module_version": "1.2.0",
          "state": {
            "_view_name": "LayoutView",
            "grid_template_rows": null,
            "right": null,
            "justify_content": null,
            "_view_module": "@jupyter-widgets/base",
            "overflow": null,
            "_model_module_version": "1.2.0",
            "_view_count": null,
            "flex_flow": null,
            "width": null,
            "min_width": null,
            "border": null,
            "align_items": null,
            "bottom": null,
            "_model_module": "@jupyter-widgets/base",
            "top": null,
            "grid_column": null,
            "overflow_y": null,
            "overflow_x": null,
            "grid_auto_flow": null,
            "grid_area": null,
            "grid_template_columns": null,
            "flex": null,
            "_model_name": "LayoutModel",
            "justify_items": null,
            "grid_row": null,
            "max_height": null,
            "align_content": null,
            "visibility": null,
            "align_self": null,
            "height": null,
            "min_height": null,
            "padding": null,
            "grid_auto_rows": null,
            "grid_gap": null,
            "max_width": null,
            "order": null,
            "_view_module_version": "1.2.0",
            "grid_template_areas": null,
            "object_position": null,
            "object_fit": null,
            "grid_auto_columns": null,
            "margin": null,
            "display": null,
            "left": null
          }
        },
        "14e054837edd4373aac5f040dda35ef8": {
          "model_module": "@jupyter-widgets/controls",
          "model_name": "ProgressStyleModel",
          "model_module_version": "1.5.0",
          "state": {
            "_view_name": "StyleView",
            "_model_name": "ProgressStyleModel",
            "description_width": "",
            "_view_module": "@jupyter-widgets/base",
            "_model_module_version": "1.5.0",
            "_view_count": null,
            "_view_module_version": "1.2.0",
            "bar_color": null,
            "_model_module": "@jupyter-widgets/controls"
          }
        },
        "4f9e64925ce74261a25ae3fe836e3333": {
          "model_module": "@jupyter-widgets/base",
          "model_name": "LayoutModel",
          "model_module_version": "1.2.0",
          "state": {
            "_view_name": "LayoutView",
            "grid_template_rows": null,
            "right": null,
            "justify_content": null,
            "_view_module": "@jupyter-widgets/base",
            "overflow": null,
            "_model_module_version": "1.2.0",
            "_view_count": null,
            "flex_flow": null,
            "width": null,
            "min_width": null,
            "border": null,
            "align_items": null,
            "bottom": null,
            "_model_module": "@jupyter-widgets/base",
            "top": null,
            "grid_column": null,
            "overflow_y": null,
            "overflow_x": null,
            "grid_auto_flow": null,
            "grid_area": null,
            "grid_template_columns": null,
            "flex": null,
            "_model_name": "LayoutModel",
            "justify_items": null,
            "grid_row": null,
            "max_height": null,
            "align_content": null,
            "visibility": null,
            "align_self": null,
            "height": null,
            "min_height": null,
            "padding": null,
            "grid_auto_rows": null,
            "grid_gap": null,
            "max_width": null,
            "order": null,
            "_view_module_version": "1.2.0",
            "grid_template_areas": null,
            "object_position": null,
            "object_fit": null,
            "grid_auto_columns": null,
            "margin": null,
            "display": null,
            "left": null
          }
        },
        "eae8c28b75184ec292bb128cc2b7a7a8": {
          "model_module": "@jupyter-widgets/controls",
          "model_name": "VBoxModel",
          "model_module_version": "1.5.0",
          "state": {
            "_view_name": "VBoxView",
            "_dom_classes": [],
            "_model_name": "VBoxModel",
            "_view_module": "@jupyter-widgets/controls",
            "_model_module_version": "1.5.0",
            "_view_count": null,
            "_view_module_version": "1.5.0",
            "box_style": "",
            "layout": "IPY_MODEL_b30a4925c7524fdc84354a45699b081a",
            "_model_module": "@jupyter-widgets/controls",
            "children": [
              "IPY_MODEL_604c70d81ac64ab3a444544e19281e03",
              "IPY_MODEL_4636c5591bff4375a3be17084b91bdb7"
            ]
          }
        },
        "b30a4925c7524fdc84354a45699b081a": {
          "model_module": "@jupyter-widgets/base",
          "model_name": "LayoutModel",
          "model_module_version": "1.2.0",
          "state": {
            "_view_name": "LayoutView",
            "grid_template_rows": null,
            "right": null,
            "justify_content": null,
            "_view_module": "@jupyter-widgets/base",
            "overflow": null,
            "_model_module_version": "1.2.0",
            "_view_count": null,
            "flex_flow": null,
            "width": null,
            "min_width": null,
            "border": null,
            "align_items": null,
            "bottom": null,
            "_model_module": "@jupyter-widgets/base",
            "top": null,
            "grid_column": null,
            "overflow_y": null,
            "overflow_x": null,
            "grid_auto_flow": null,
            "grid_area": null,
            "grid_template_columns": null,
            "flex": null,
            "_model_name": "LayoutModel",
            "justify_items": null,
            "grid_row": null,
            "max_height": null,
            "align_content": null,
            "visibility": null,
            "align_self": null,
            "height": null,
            "min_height": null,
            "padding": null,
            "grid_auto_rows": null,
            "grid_gap": null,
            "max_width": null,
            "order": null,
            "_view_module_version": "1.2.0",
            "grid_template_areas": null,
            "object_position": null,
            "object_fit": null,
            "grid_auto_columns": null,
            "margin": null,
            "display": null,
            "left": null
          }
        },
        "604c70d81ac64ab3a444544e19281e03": {
          "model_module": "@jupyter-widgets/controls",
          "model_name": "LabelModel",
          "model_module_version": "1.5.0",
          "state": {
            "_view_name": "LabelView",
            "style": "IPY_MODEL_bee5fe8d4500410bb6075dba303991f3",
            "_dom_classes": [],
            "description": "",
            "_model_name": "LabelModel",
            "placeholder": "​",
            "_view_module": "@jupyter-widgets/controls",
            "_model_module_version": "1.5.0",
            "value": " 0.01MB of 0.01MB uploaded (0.00MB deduped)\r",
            "_view_count": null,
            "_view_module_version": "1.5.0",
            "description_tooltip": null,
            "_model_module": "@jupyter-widgets/controls",
            "layout": "IPY_MODEL_9d5d39943c8c49a7bc53d3197bbbfff9"
          }
        },
        "4636c5591bff4375a3be17084b91bdb7": {
          "model_module": "@jupyter-widgets/controls",
          "model_name": "FloatProgressModel",
          "model_module_version": "1.5.0",
          "state": {
            "_view_name": "ProgressView",
            "style": "IPY_MODEL_51685ff497604b97806b7dac704c4f1f",
            "_dom_classes": [],
            "description": "",
            "_model_name": "FloatProgressModel",
            "bar_style": "",
            "max": 1,
            "_view_module": "@jupyter-widgets/controls",
            "_model_module_version": "1.5.0",
            "value": 1,
            "_view_count": null,
            "_view_module_version": "1.5.0",
            "orientation": "horizontal",
            "min": 0,
            "description_tooltip": null,
            "_model_module": "@jupyter-widgets/controls",
            "layout": "IPY_MODEL_7d5cf934922842b68c3e4983fd664fbe"
          }
        },
        "bee5fe8d4500410bb6075dba303991f3": {
          "model_module": "@jupyter-widgets/controls",
          "model_name": "DescriptionStyleModel",
          "model_module_version": "1.5.0",
          "state": {
            "_view_name": "StyleView",
            "_model_name": "DescriptionStyleModel",
            "description_width": "",
            "_view_module": "@jupyter-widgets/base",
            "_model_module_version": "1.5.0",
            "_view_count": null,
            "_view_module_version": "1.2.0",
            "_model_module": "@jupyter-widgets/controls"
          }
        },
        "9d5d39943c8c49a7bc53d3197bbbfff9": {
          "model_module": "@jupyter-widgets/base",
          "model_name": "LayoutModel",
          "model_module_version": "1.2.0",
          "state": {
            "_view_name": "LayoutView",
            "grid_template_rows": null,
            "right": null,
            "justify_content": null,
            "_view_module": "@jupyter-widgets/base",
            "overflow": null,
            "_model_module_version": "1.2.0",
            "_view_count": null,
            "flex_flow": null,
            "width": null,
            "min_width": null,
            "border": null,
            "align_items": null,
            "bottom": null,
            "_model_module": "@jupyter-widgets/base",
            "top": null,
            "grid_column": null,
            "overflow_y": null,
            "overflow_x": null,
            "grid_auto_flow": null,
            "grid_area": null,
            "grid_template_columns": null,
            "flex": null,
            "_model_name": "LayoutModel",
            "justify_items": null,
            "grid_row": null,
            "max_height": null,
            "align_content": null,
            "visibility": null,
            "align_self": null,
            "height": null,
            "min_height": null,
            "padding": null,
            "grid_auto_rows": null,
            "grid_gap": null,
            "max_width": null,
            "order": null,
            "_view_module_version": "1.2.0",
            "grid_template_areas": null,
            "object_position": null,
            "object_fit": null,
            "grid_auto_columns": null,
            "margin": null,
            "display": null,
            "left": null
          }
        },
        "51685ff497604b97806b7dac704c4f1f": {
          "model_module": "@jupyter-widgets/controls",
          "model_name": "ProgressStyleModel",
          "model_module_version": "1.5.0",
          "state": {
            "_view_name": "StyleView",
            "_model_name": "ProgressStyleModel",
            "description_width": "",
            "_view_module": "@jupyter-widgets/base",
            "_model_module_version": "1.5.0",
            "_view_count": null,
            "_view_module_version": "1.2.0",
            "bar_color": null,
            "_model_module": "@jupyter-widgets/controls"
          }
        },
        "7d5cf934922842b68c3e4983fd664fbe": {
          "model_module": "@jupyter-widgets/base",
          "model_name": "LayoutModel",
          "model_module_version": "1.2.0",
          "state": {
            "_view_name": "LayoutView",
            "grid_template_rows": null,
            "right": null,
            "justify_content": null,
            "_view_module": "@jupyter-widgets/base",
            "overflow": null,
            "_model_module_version": "1.2.0",
            "_view_count": null,
            "flex_flow": null,
            "width": null,
            "min_width": null,
            "border": null,
            "align_items": null,
            "bottom": null,
            "_model_module": "@jupyter-widgets/base",
            "top": null,
            "grid_column": null,
            "overflow_y": null,
            "overflow_x": null,
            "grid_auto_flow": null,
            "grid_area": null,
            "grid_template_columns": null,
            "flex": null,
            "_model_name": "LayoutModel",
            "justify_items": null,
            "grid_row": null,
            "max_height": null,
            "align_content": null,
            "visibility": null,
            "align_self": null,
            "height": null,
            "min_height": null,
            "padding": null,
            "grid_auto_rows": null,
            "grid_gap": null,
            "max_width": null,
            "order": null,
            "_view_module_version": "1.2.0",
            "grid_template_areas": null,
            "object_position": null,
            "object_fit": null,
            "grid_auto_columns": null,
            "margin": null,
            "display": null,
            "left": null
          }
        },
        "9f5db92724ce4d048b9d21368812ee44": {
          "model_module": "@jupyter-widgets/controls",
          "model_name": "VBoxModel",
          "model_module_version": "1.5.0",
          "state": {
            "_view_name": "VBoxView",
            "_dom_classes": [],
            "_model_name": "VBoxModel",
            "_view_module": "@jupyter-widgets/controls",
            "_model_module_version": "1.5.0",
            "_view_count": null,
            "_view_module_version": "1.5.0",
            "box_style": "",
            "layout": "IPY_MODEL_e35a256401484bebb4fc4143dbde1a57",
            "_model_module": "@jupyter-widgets/controls",
            "children": [
              "IPY_MODEL_723014a0e0d7487b82e828084ed914e2",
              "IPY_MODEL_faf9d46cb0ce4e1cbd06c8d3c6033271"
            ]
          }
        },
        "e35a256401484bebb4fc4143dbde1a57": {
          "model_module": "@jupyter-widgets/base",
          "model_name": "LayoutModel",
          "model_module_version": "1.2.0",
          "state": {
            "_view_name": "LayoutView",
            "grid_template_rows": null,
            "right": null,
            "justify_content": null,
            "_view_module": "@jupyter-widgets/base",
            "overflow": null,
            "_model_module_version": "1.2.0",
            "_view_count": null,
            "flex_flow": null,
            "width": null,
            "min_width": null,
            "border": null,
            "align_items": null,
            "bottom": null,
            "_model_module": "@jupyter-widgets/base",
            "top": null,
            "grid_column": null,
            "overflow_y": null,
            "overflow_x": null,
            "grid_auto_flow": null,
            "grid_area": null,
            "grid_template_columns": null,
            "flex": null,
            "_model_name": "LayoutModel",
            "justify_items": null,
            "grid_row": null,
            "max_height": null,
            "align_content": null,
            "visibility": null,
            "align_self": null,
            "height": null,
            "min_height": null,
            "padding": null,
            "grid_auto_rows": null,
            "grid_gap": null,
            "max_width": null,
            "order": null,
            "_view_module_version": "1.2.0",
            "grid_template_areas": null,
            "object_position": null,
            "object_fit": null,
            "grid_auto_columns": null,
            "margin": null,
            "display": null,
            "left": null
          }
        },
        "723014a0e0d7487b82e828084ed914e2": {
          "model_module": "@jupyter-widgets/controls",
          "model_name": "LabelModel",
          "model_module_version": "1.5.0",
          "state": {
            "_view_name": "LabelView",
            "style": "IPY_MODEL_2206c32ef7044542a8884b698be806b6",
            "_dom_classes": [],
            "description": "",
            "_model_name": "LabelModel",
            "placeholder": "​",
            "_view_module": "@jupyter-widgets/controls",
            "_model_module_version": "1.5.0",
            "value": " 0.01MB of 0.01MB uploaded (0.00MB deduped)\r",
            "_view_count": null,
            "_view_module_version": "1.5.0",
            "description_tooltip": null,
            "_model_module": "@jupyter-widgets/controls",
            "layout": "IPY_MODEL_41269efe4b7d45569d78c1f299f2dc34"
          }
        },
        "faf9d46cb0ce4e1cbd06c8d3c6033271": {
          "model_module": "@jupyter-widgets/controls",
          "model_name": "FloatProgressModel",
          "model_module_version": "1.5.0",
          "state": {
            "_view_name": "ProgressView",
            "style": "IPY_MODEL_cb9af72693b9481ba5494b60570585b0",
            "_dom_classes": [],
            "description": "",
            "_model_name": "FloatProgressModel",
            "bar_style": "",
            "max": 1,
            "_view_module": "@jupyter-widgets/controls",
            "_model_module_version": "1.5.0",
            "value": 1,
            "_view_count": null,
            "_view_module_version": "1.5.0",
            "orientation": "horizontal",
            "min": 0,
            "description_tooltip": null,
            "_model_module": "@jupyter-widgets/controls",
            "layout": "IPY_MODEL_be8cf20ce5bb4105969bce6f6dbcd2e9"
          }
        },
        "2206c32ef7044542a8884b698be806b6": {
          "model_module": "@jupyter-widgets/controls",
          "model_name": "DescriptionStyleModel",
          "model_module_version": "1.5.0",
          "state": {
            "_view_name": "StyleView",
            "_model_name": "DescriptionStyleModel",
            "description_width": "",
            "_view_module": "@jupyter-widgets/base",
            "_model_module_version": "1.5.0",
            "_view_count": null,
            "_view_module_version": "1.2.0",
            "_model_module": "@jupyter-widgets/controls"
          }
        },
        "41269efe4b7d45569d78c1f299f2dc34": {
          "model_module": "@jupyter-widgets/base",
          "model_name": "LayoutModel",
          "model_module_version": "1.2.0",
          "state": {
            "_view_name": "LayoutView",
            "grid_template_rows": null,
            "right": null,
            "justify_content": null,
            "_view_module": "@jupyter-widgets/base",
            "overflow": null,
            "_model_module_version": "1.2.0",
            "_view_count": null,
            "flex_flow": null,
            "width": null,
            "min_width": null,
            "border": null,
            "align_items": null,
            "bottom": null,
            "_model_module": "@jupyter-widgets/base",
            "top": null,
            "grid_column": null,
            "overflow_y": null,
            "overflow_x": null,
            "grid_auto_flow": null,
            "grid_area": null,
            "grid_template_columns": null,
            "flex": null,
            "_model_name": "LayoutModel",
            "justify_items": null,
            "grid_row": null,
            "max_height": null,
            "align_content": null,
            "visibility": null,
            "align_self": null,
            "height": null,
            "min_height": null,
            "padding": null,
            "grid_auto_rows": null,
            "grid_gap": null,
            "max_width": null,
            "order": null,
            "_view_module_version": "1.2.0",
            "grid_template_areas": null,
            "object_position": null,
            "object_fit": null,
            "grid_auto_columns": null,
            "margin": null,
            "display": null,
            "left": null
          }
        },
        "cb9af72693b9481ba5494b60570585b0": {
          "model_module": "@jupyter-widgets/controls",
          "model_name": "ProgressStyleModel",
          "model_module_version": "1.5.0",
          "state": {
            "_view_name": "StyleView",
            "_model_name": "ProgressStyleModel",
            "description_width": "",
            "_view_module": "@jupyter-widgets/base",
            "_model_module_version": "1.5.0",
            "_view_count": null,
            "_view_module_version": "1.2.0",
            "bar_color": null,
            "_model_module": "@jupyter-widgets/controls"
          }
        },
        "be8cf20ce5bb4105969bce6f6dbcd2e9": {
          "model_module": "@jupyter-widgets/base",
          "model_name": "LayoutModel",
          "model_module_version": "1.2.0",
          "state": {
            "_view_name": "LayoutView",
            "grid_template_rows": null,
            "right": null,
            "justify_content": null,
            "_view_module": "@jupyter-widgets/base",
            "overflow": null,
            "_model_module_version": "1.2.0",
            "_view_count": null,
            "flex_flow": null,
            "width": null,
            "min_width": null,
            "border": null,
            "align_items": null,
            "bottom": null,
            "_model_module": "@jupyter-widgets/base",
            "top": null,
            "grid_column": null,
            "overflow_y": null,
            "overflow_x": null,
            "grid_auto_flow": null,
            "grid_area": null,
            "grid_template_columns": null,
            "flex": null,
            "_model_name": "LayoutModel",
            "justify_items": null,
            "grid_row": null,
            "max_height": null,
            "align_content": null,
            "visibility": null,
            "align_self": null,
            "height": null,
            "min_height": null,
            "padding": null,
            "grid_auto_rows": null,
            "grid_gap": null,
            "max_width": null,
            "order": null,
            "_view_module_version": "1.2.0",
            "grid_template_areas": null,
            "object_position": null,
            "object_fit": null,
            "grid_auto_columns": null,
            "margin": null,
            "display": null,
            "left": null
          }
        },
        "04af3481ccce48bf96f9b1f41127ae91": {
          "model_module": "@jupyter-widgets/controls",
          "model_name": "VBoxModel",
          "model_module_version": "1.5.0",
          "state": {
            "_view_name": "VBoxView",
            "_dom_classes": [],
            "_model_name": "VBoxModel",
            "_view_module": "@jupyter-widgets/controls",
            "_model_module_version": "1.5.0",
            "_view_count": null,
            "_view_module_version": "1.5.0",
            "box_style": "",
            "layout": "IPY_MODEL_15e3041085384bf1ac0e0c189d7731aa",
            "_model_module": "@jupyter-widgets/controls",
            "children": [
              "IPY_MODEL_8489649ad8b74a1caff08e3a9de6dc2a",
              "IPY_MODEL_aa12036204de4842952cde1571484516"
            ]
          }
        },
        "15e3041085384bf1ac0e0c189d7731aa": {
          "model_module": "@jupyter-widgets/base",
          "model_name": "LayoutModel",
          "model_module_version": "1.2.0",
          "state": {
            "_view_name": "LayoutView",
            "grid_template_rows": null,
            "right": null,
            "justify_content": null,
            "_view_module": "@jupyter-widgets/base",
            "overflow": null,
            "_model_module_version": "1.2.0",
            "_view_count": null,
            "flex_flow": null,
            "width": null,
            "min_width": null,
            "border": null,
            "align_items": null,
            "bottom": null,
            "_model_module": "@jupyter-widgets/base",
            "top": null,
            "grid_column": null,
            "overflow_y": null,
            "overflow_x": null,
            "grid_auto_flow": null,
            "grid_area": null,
            "grid_template_columns": null,
            "flex": null,
            "_model_name": "LayoutModel",
            "justify_items": null,
            "grid_row": null,
            "max_height": null,
            "align_content": null,
            "visibility": null,
            "align_self": null,
            "height": null,
            "min_height": null,
            "padding": null,
            "grid_auto_rows": null,
            "grid_gap": null,
            "max_width": null,
            "order": null,
            "_view_module_version": "1.2.0",
            "grid_template_areas": null,
            "object_position": null,
            "object_fit": null,
            "grid_auto_columns": null,
            "margin": null,
            "display": null,
            "left": null
          }
        },
        "8489649ad8b74a1caff08e3a9de6dc2a": {
          "model_module": "@jupyter-widgets/controls",
          "model_name": "LabelModel",
          "model_module_version": "1.5.0",
          "state": {
            "_view_name": "LabelView",
            "style": "IPY_MODEL_cf54b1dd2b9d4017ae5d461543129dc2",
            "_dom_classes": [],
            "description": "",
            "_model_name": "LabelModel",
            "placeholder": "​",
            "_view_module": "@jupyter-widgets/controls",
            "_model_module_version": "1.5.0",
            "value": " 0.01MB of 0.01MB uploaded (0.00MB deduped)\r",
            "_view_count": null,
            "_view_module_version": "1.5.0",
            "description_tooltip": null,
            "_model_module": "@jupyter-widgets/controls",
            "layout": "IPY_MODEL_d1c437433ce641dc962a4dfbe8bedca3"
          }
        },
        "aa12036204de4842952cde1571484516": {
          "model_module": "@jupyter-widgets/controls",
          "model_name": "FloatProgressModel",
          "model_module_version": "1.5.0",
          "state": {
            "_view_name": "ProgressView",
            "style": "IPY_MODEL_124ce66eea094b4a9d887803d7a34e90",
            "_dom_classes": [],
            "description": "",
            "_model_name": "FloatProgressModel",
            "bar_style": "",
            "max": 1,
            "_view_module": "@jupyter-widgets/controls",
            "_model_module_version": "1.5.0",
            "value": 1,
            "_view_count": null,
            "_view_module_version": "1.5.0",
            "orientation": "horizontal",
            "min": 0,
            "description_tooltip": null,
            "_model_module": "@jupyter-widgets/controls",
            "layout": "IPY_MODEL_31afe8b8a8894ba0bffe2b8c8a634911"
          }
        },
        "cf54b1dd2b9d4017ae5d461543129dc2": {
          "model_module": "@jupyter-widgets/controls",
          "model_name": "DescriptionStyleModel",
          "model_module_version": "1.5.0",
          "state": {
            "_view_name": "StyleView",
            "_model_name": "DescriptionStyleModel",
            "description_width": "",
            "_view_module": "@jupyter-widgets/base",
            "_model_module_version": "1.5.0",
            "_view_count": null,
            "_view_module_version": "1.2.0",
            "_model_module": "@jupyter-widgets/controls"
          }
        },
        "d1c437433ce641dc962a4dfbe8bedca3": {
          "model_module": "@jupyter-widgets/base",
          "model_name": "LayoutModel",
          "model_module_version": "1.2.0",
          "state": {
            "_view_name": "LayoutView",
            "grid_template_rows": null,
            "right": null,
            "justify_content": null,
            "_view_module": "@jupyter-widgets/base",
            "overflow": null,
            "_model_module_version": "1.2.0",
            "_view_count": null,
            "flex_flow": null,
            "width": null,
            "min_width": null,
            "border": null,
            "align_items": null,
            "bottom": null,
            "_model_module": "@jupyter-widgets/base",
            "top": null,
            "grid_column": null,
            "overflow_y": null,
            "overflow_x": null,
            "grid_auto_flow": null,
            "grid_area": null,
            "grid_template_columns": null,
            "flex": null,
            "_model_name": "LayoutModel",
            "justify_items": null,
            "grid_row": null,
            "max_height": null,
            "align_content": null,
            "visibility": null,
            "align_self": null,
            "height": null,
            "min_height": null,
            "padding": null,
            "grid_auto_rows": null,
            "grid_gap": null,
            "max_width": null,
            "order": null,
            "_view_module_version": "1.2.0",
            "grid_template_areas": null,
            "object_position": null,
            "object_fit": null,
            "grid_auto_columns": null,
            "margin": null,
            "display": null,
            "left": null
          }
        },
        "124ce66eea094b4a9d887803d7a34e90": {
          "model_module": "@jupyter-widgets/controls",
          "model_name": "ProgressStyleModel",
          "model_module_version": "1.5.0",
          "state": {
            "_view_name": "StyleView",
            "_model_name": "ProgressStyleModel",
            "description_width": "",
            "_view_module": "@jupyter-widgets/base",
            "_model_module_version": "1.5.0",
            "_view_count": null,
            "_view_module_version": "1.2.0",
            "bar_color": null,
            "_model_module": "@jupyter-widgets/controls"
          }
        },
        "31afe8b8a8894ba0bffe2b8c8a634911": {
          "model_module": "@jupyter-widgets/base",
          "model_name": "LayoutModel",
          "model_module_version": "1.2.0",
          "state": {
            "_view_name": "LayoutView",
            "grid_template_rows": null,
            "right": null,
            "justify_content": null,
            "_view_module": "@jupyter-widgets/base",
            "overflow": null,
            "_model_module_version": "1.2.0",
            "_view_count": null,
            "flex_flow": null,
            "width": null,
            "min_width": null,
            "border": null,
            "align_items": null,
            "bottom": null,
            "_model_module": "@jupyter-widgets/base",
            "top": null,
            "grid_column": null,
            "overflow_y": null,
            "overflow_x": null,
            "grid_auto_flow": null,
            "grid_area": null,
            "grid_template_columns": null,
            "flex": null,
            "_model_name": "LayoutModel",
            "justify_items": null,
            "grid_row": null,
            "max_height": null,
            "align_content": null,
            "visibility": null,
            "align_self": null,
            "height": null,
            "min_height": null,
            "padding": null,
            "grid_auto_rows": null,
            "grid_gap": null,
            "max_width": null,
            "order": null,
            "_view_module_version": "1.2.0",
            "grid_template_areas": null,
            "object_position": null,
            "object_fit": null,
            "grid_auto_columns": null,
            "margin": null,
            "display": null,
            "left": null
          }
        },
        "60119958536849f7a270dc946d91c916": {
          "model_module": "@jupyter-widgets/controls",
          "model_name": "VBoxModel",
          "model_module_version": "1.5.0",
          "state": {
            "_view_name": "VBoxView",
            "_dom_classes": [],
            "_model_name": "VBoxModel",
            "_view_module": "@jupyter-widgets/controls",
            "_model_module_version": "1.5.0",
            "_view_count": null,
            "_view_module_version": "1.5.0",
            "box_style": "",
            "layout": "IPY_MODEL_3debec8a26a040dca142788c972eb729",
            "_model_module": "@jupyter-widgets/controls",
            "children": [
              "IPY_MODEL_404ac5f5febe416aaeaf264e682215a5",
              "IPY_MODEL_c41d5497e06847e28dbba3b40e6ee9bb"
            ]
          }
        },
        "3debec8a26a040dca142788c972eb729": {
          "model_module": "@jupyter-widgets/base",
          "model_name": "LayoutModel",
          "model_module_version": "1.2.0",
          "state": {
            "_view_name": "LayoutView",
            "grid_template_rows": null,
            "right": null,
            "justify_content": null,
            "_view_module": "@jupyter-widgets/base",
            "overflow": null,
            "_model_module_version": "1.2.0",
            "_view_count": null,
            "flex_flow": null,
            "width": null,
            "min_width": null,
            "border": null,
            "align_items": null,
            "bottom": null,
            "_model_module": "@jupyter-widgets/base",
            "top": null,
            "grid_column": null,
            "overflow_y": null,
            "overflow_x": null,
            "grid_auto_flow": null,
            "grid_area": null,
            "grid_template_columns": null,
            "flex": null,
            "_model_name": "LayoutModel",
            "justify_items": null,
            "grid_row": null,
            "max_height": null,
            "align_content": null,
            "visibility": null,
            "align_self": null,
            "height": null,
            "min_height": null,
            "padding": null,
            "grid_auto_rows": null,
            "grid_gap": null,
            "max_width": null,
            "order": null,
            "_view_module_version": "1.2.0",
            "grid_template_areas": null,
            "object_position": null,
            "object_fit": null,
            "grid_auto_columns": null,
            "margin": null,
            "display": null,
            "left": null
          }
        },
        "404ac5f5febe416aaeaf264e682215a5": {
          "model_module": "@jupyter-widgets/controls",
          "model_name": "LabelModel",
          "model_module_version": "1.5.0",
          "state": {
            "_view_name": "LabelView",
            "style": "IPY_MODEL_086db0eda95a4549b67f9d0dbb220b1b",
            "_dom_classes": [],
            "description": "",
            "_model_name": "LabelModel",
            "placeholder": "​",
            "_view_module": "@jupyter-widgets/controls",
            "_model_module_version": "1.5.0",
            "value": " 0.01MB of 0.01MB uploaded (0.00MB deduped)\r",
            "_view_count": null,
            "_view_module_version": "1.5.0",
            "description_tooltip": null,
            "_model_module": "@jupyter-widgets/controls",
            "layout": "IPY_MODEL_a59e2c585ea34fe88dff4f6469e7a8b5"
          }
        },
        "c41d5497e06847e28dbba3b40e6ee9bb": {
          "model_module": "@jupyter-widgets/controls",
          "model_name": "FloatProgressModel",
          "model_module_version": "1.5.0",
          "state": {
            "_view_name": "ProgressView",
            "style": "IPY_MODEL_53faf3be6449462888b524f948561241",
            "_dom_classes": [],
            "description": "",
            "_model_name": "FloatProgressModel",
            "bar_style": "",
            "max": 1,
            "_view_module": "@jupyter-widgets/controls",
            "_model_module_version": "1.5.0",
            "value": 1,
            "_view_count": null,
            "_view_module_version": "1.5.0",
            "orientation": "horizontal",
            "min": 0,
            "description_tooltip": null,
            "_model_module": "@jupyter-widgets/controls",
            "layout": "IPY_MODEL_1941925846ff47f78ac40225394d3358"
          }
        },
        "086db0eda95a4549b67f9d0dbb220b1b": {
          "model_module": "@jupyter-widgets/controls",
          "model_name": "DescriptionStyleModel",
          "model_module_version": "1.5.0",
          "state": {
            "_view_name": "StyleView",
            "_model_name": "DescriptionStyleModel",
            "description_width": "",
            "_view_module": "@jupyter-widgets/base",
            "_model_module_version": "1.5.0",
            "_view_count": null,
            "_view_module_version": "1.2.0",
            "_model_module": "@jupyter-widgets/controls"
          }
        },
        "a59e2c585ea34fe88dff4f6469e7a8b5": {
          "model_module": "@jupyter-widgets/base",
          "model_name": "LayoutModel",
          "model_module_version": "1.2.0",
          "state": {
            "_view_name": "LayoutView",
            "grid_template_rows": null,
            "right": null,
            "justify_content": null,
            "_view_module": "@jupyter-widgets/base",
            "overflow": null,
            "_model_module_version": "1.2.0",
            "_view_count": null,
            "flex_flow": null,
            "width": null,
            "min_width": null,
            "border": null,
            "align_items": null,
            "bottom": null,
            "_model_module": "@jupyter-widgets/base",
            "top": null,
            "grid_column": null,
            "overflow_y": null,
            "overflow_x": null,
            "grid_auto_flow": null,
            "grid_area": null,
            "grid_template_columns": null,
            "flex": null,
            "_model_name": "LayoutModel",
            "justify_items": null,
            "grid_row": null,
            "max_height": null,
            "align_content": null,
            "visibility": null,
            "align_self": null,
            "height": null,
            "min_height": null,
            "padding": null,
            "grid_auto_rows": null,
            "grid_gap": null,
            "max_width": null,
            "order": null,
            "_view_module_version": "1.2.0",
            "grid_template_areas": null,
            "object_position": null,
            "object_fit": null,
            "grid_auto_columns": null,
            "margin": null,
            "display": null,
            "left": null
          }
        },
        "53faf3be6449462888b524f948561241": {
          "model_module": "@jupyter-widgets/controls",
          "model_name": "ProgressStyleModel",
          "model_module_version": "1.5.0",
          "state": {
            "_view_name": "StyleView",
            "_model_name": "ProgressStyleModel",
            "description_width": "",
            "_view_module": "@jupyter-widgets/base",
            "_model_module_version": "1.5.0",
            "_view_count": null,
            "_view_module_version": "1.2.0",
            "bar_color": null,
            "_model_module": "@jupyter-widgets/controls"
          }
        },
        "1941925846ff47f78ac40225394d3358": {
          "model_module": "@jupyter-widgets/base",
          "model_name": "LayoutModel",
          "model_module_version": "1.2.0",
          "state": {
            "_view_name": "LayoutView",
            "grid_template_rows": null,
            "right": null,
            "justify_content": null,
            "_view_module": "@jupyter-widgets/base",
            "overflow": null,
            "_model_module_version": "1.2.0",
            "_view_count": null,
            "flex_flow": null,
            "width": null,
            "min_width": null,
            "border": null,
            "align_items": null,
            "bottom": null,
            "_model_module": "@jupyter-widgets/base",
            "top": null,
            "grid_column": null,
            "overflow_y": null,
            "overflow_x": null,
            "grid_auto_flow": null,
            "grid_area": null,
            "grid_template_columns": null,
            "flex": null,
            "_model_name": "LayoutModel",
            "justify_items": null,
            "grid_row": null,
            "max_height": null,
            "align_content": null,
            "visibility": null,
            "align_self": null,
            "height": null,
            "min_height": null,
            "padding": null,
            "grid_auto_rows": null,
            "grid_gap": null,
            "max_width": null,
            "order": null,
            "_view_module_version": "1.2.0",
            "grid_template_areas": null,
            "object_position": null,
            "object_fit": null,
            "grid_auto_columns": null,
            "margin": null,
            "display": null,
            "left": null
          }
        },
        "43275a0dd4de431f8aeeffb4dbdb3d3d": {
          "model_module": "@jupyter-widgets/controls",
          "model_name": "VBoxModel",
          "model_module_version": "1.5.0",
          "state": {
            "_view_name": "VBoxView",
            "_dom_classes": [],
            "_model_name": "VBoxModel",
            "_view_module": "@jupyter-widgets/controls",
            "_model_module_version": "1.5.0",
            "_view_count": null,
            "_view_module_version": "1.5.0",
            "box_style": "",
            "layout": "IPY_MODEL_fc540515cbe24585a9358aa5e4a3ebe6",
            "_model_module": "@jupyter-widgets/controls",
            "children": [
              "IPY_MODEL_d36671a344964660a6ddba263e69ce47",
              "IPY_MODEL_19e0113beaeb4afab053a2b3e5053531"
            ]
          }
        },
        "fc540515cbe24585a9358aa5e4a3ebe6": {
          "model_module": "@jupyter-widgets/base",
          "model_name": "LayoutModel",
          "model_module_version": "1.2.0",
          "state": {
            "_view_name": "LayoutView",
            "grid_template_rows": null,
            "right": null,
            "justify_content": null,
            "_view_module": "@jupyter-widgets/base",
            "overflow": null,
            "_model_module_version": "1.2.0",
            "_view_count": null,
            "flex_flow": null,
            "width": null,
            "min_width": null,
            "border": null,
            "align_items": null,
            "bottom": null,
            "_model_module": "@jupyter-widgets/base",
            "top": null,
            "grid_column": null,
            "overflow_y": null,
            "overflow_x": null,
            "grid_auto_flow": null,
            "grid_area": null,
            "grid_template_columns": null,
            "flex": null,
            "_model_name": "LayoutModel",
            "justify_items": null,
            "grid_row": null,
            "max_height": null,
            "align_content": null,
            "visibility": null,
            "align_self": null,
            "height": null,
            "min_height": null,
            "padding": null,
            "grid_auto_rows": null,
            "grid_gap": null,
            "max_width": null,
            "order": null,
            "_view_module_version": "1.2.0",
            "grid_template_areas": null,
            "object_position": null,
            "object_fit": null,
            "grid_auto_columns": null,
            "margin": null,
            "display": null,
            "left": null
          }
        },
        "d36671a344964660a6ddba263e69ce47": {
          "model_module": "@jupyter-widgets/controls",
          "model_name": "LabelModel",
          "model_module_version": "1.5.0",
          "state": {
            "_view_name": "LabelView",
            "style": "IPY_MODEL_afee7f6294be4b5b8bae7f094530270c",
            "_dom_classes": [],
            "description": "",
            "_model_name": "LabelModel",
            "placeholder": "​",
            "_view_module": "@jupyter-widgets/controls",
            "_model_module_version": "1.5.0",
            "value": " 0.01MB of 0.01MB uploaded (0.00MB deduped)\r",
            "_view_count": null,
            "_view_module_version": "1.5.0",
            "description_tooltip": null,
            "_model_module": "@jupyter-widgets/controls",
            "layout": "IPY_MODEL_f132e279a009401fa8bedee1db1d37f9"
          }
        },
        "19e0113beaeb4afab053a2b3e5053531": {
          "model_module": "@jupyter-widgets/controls",
          "model_name": "FloatProgressModel",
          "model_module_version": "1.5.0",
          "state": {
            "_view_name": "ProgressView",
            "style": "IPY_MODEL_d097d2bb3fc74a168e25b32adf0bee1d",
            "_dom_classes": [],
            "description": "",
            "_model_name": "FloatProgressModel",
            "bar_style": "",
            "max": 1,
            "_view_module": "@jupyter-widgets/controls",
            "_model_module_version": "1.5.0",
            "value": 1,
            "_view_count": null,
            "_view_module_version": "1.5.0",
            "orientation": "horizontal",
            "min": 0,
            "description_tooltip": null,
            "_model_module": "@jupyter-widgets/controls",
            "layout": "IPY_MODEL_19a84e15782d4261b4643ce1f9c7b6c7"
          }
        },
        "afee7f6294be4b5b8bae7f094530270c": {
          "model_module": "@jupyter-widgets/controls",
          "model_name": "DescriptionStyleModel",
          "model_module_version": "1.5.0",
          "state": {
            "_view_name": "StyleView",
            "_model_name": "DescriptionStyleModel",
            "description_width": "",
            "_view_module": "@jupyter-widgets/base",
            "_model_module_version": "1.5.0",
            "_view_count": null,
            "_view_module_version": "1.2.0",
            "_model_module": "@jupyter-widgets/controls"
          }
        },
        "f132e279a009401fa8bedee1db1d37f9": {
          "model_module": "@jupyter-widgets/base",
          "model_name": "LayoutModel",
          "model_module_version": "1.2.0",
          "state": {
            "_view_name": "LayoutView",
            "grid_template_rows": null,
            "right": null,
            "justify_content": null,
            "_view_module": "@jupyter-widgets/base",
            "overflow": null,
            "_model_module_version": "1.2.0",
            "_view_count": null,
            "flex_flow": null,
            "width": null,
            "min_width": null,
            "border": null,
            "align_items": null,
            "bottom": null,
            "_model_module": "@jupyter-widgets/base",
            "top": null,
            "grid_column": null,
            "overflow_y": null,
            "overflow_x": null,
            "grid_auto_flow": null,
            "grid_area": null,
            "grid_template_columns": null,
            "flex": null,
            "_model_name": "LayoutModel",
            "justify_items": null,
            "grid_row": null,
            "max_height": null,
            "align_content": null,
            "visibility": null,
            "align_self": null,
            "height": null,
            "min_height": null,
            "padding": null,
            "grid_auto_rows": null,
            "grid_gap": null,
            "max_width": null,
            "order": null,
            "_view_module_version": "1.2.0",
            "grid_template_areas": null,
            "object_position": null,
            "object_fit": null,
            "grid_auto_columns": null,
            "margin": null,
            "display": null,
            "left": null
          }
        },
        "d097d2bb3fc74a168e25b32adf0bee1d": {
          "model_module": "@jupyter-widgets/controls",
          "model_name": "ProgressStyleModel",
          "model_module_version": "1.5.0",
          "state": {
            "_view_name": "StyleView",
            "_model_name": "ProgressStyleModel",
            "description_width": "",
            "_view_module": "@jupyter-widgets/base",
            "_model_module_version": "1.5.0",
            "_view_count": null,
            "_view_module_version": "1.2.0",
            "bar_color": null,
            "_model_module": "@jupyter-widgets/controls"
          }
        },
        "19a84e15782d4261b4643ce1f9c7b6c7": {
          "model_module": "@jupyter-widgets/base",
          "model_name": "LayoutModel",
          "model_module_version": "1.2.0",
          "state": {
            "_view_name": "LayoutView",
            "grid_template_rows": null,
            "right": null,
            "justify_content": null,
            "_view_module": "@jupyter-widgets/base",
            "overflow": null,
            "_model_module_version": "1.2.0",
            "_view_count": null,
            "flex_flow": null,
            "width": null,
            "min_width": null,
            "border": null,
            "align_items": null,
            "bottom": null,
            "_model_module": "@jupyter-widgets/base",
            "top": null,
            "grid_column": null,
            "overflow_y": null,
            "overflow_x": null,
            "grid_auto_flow": null,
            "grid_area": null,
            "grid_template_columns": null,
            "flex": null,
            "_model_name": "LayoutModel",
            "justify_items": null,
            "grid_row": null,
            "max_height": null,
            "align_content": null,
            "visibility": null,
            "align_self": null,
            "height": null,
            "min_height": null,
            "padding": null,
            "grid_auto_rows": null,
            "grid_gap": null,
            "max_width": null,
            "order": null,
            "_view_module_version": "1.2.0",
            "grid_template_areas": null,
            "object_position": null,
            "object_fit": null,
            "grid_auto_columns": null,
            "margin": null,
            "display": null,
            "left": null
          }
        },
        "f2720a7161284bc4a20a1721d925ca32": {
          "model_module": "@jupyter-widgets/controls",
          "model_name": "VBoxModel",
          "model_module_version": "1.5.0",
          "state": {
            "_view_name": "VBoxView",
            "_dom_classes": [],
            "_model_name": "VBoxModel",
            "_view_module": "@jupyter-widgets/controls",
            "_model_module_version": "1.5.0",
            "_view_count": null,
            "_view_module_version": "1.5.0",
            "box_style": "",
            "layout": "IPY_MODEL_84e4012e30814f7ab65e4310a6ab1823",
            "_model_module": "@jupyter-widgets/controls",
            "children": [
              "IPY_MODEL_381265c0d88b4ef596197cdfca41c1da",
              "IPY_MODEL_5749f84840094aaeadad50303a237f55"
            ]
          }
        },
        "84e4012e30814f7ab65e4310a6ab1823": {
          "model_module": "@jupyter-widgets/base",
          "model_name": "LayoutModel",
          "model_module_version": "1.2.0",
          "state": {
            "_view_name": "LayoutView",
            "grid_template_rows": null,
            "right": null,
            "justify_content": null,
            "_view_module": "@jupyter-widgets/base",
            "overflow": null,
            "_model_module_version": "1.2.0",
            "_view_count": null,
            "flex_flow": null,
            "width": null,
            "min_width": null,
            "border": null,
            "align_items": null,
            "bottom": null,
            "_model_module": "@jupyter-widgets/base",
            "top": null,
            "grid_column": null,
            "overflow_y": null,
            "overflow_x": null,
            "grid_auto_flow": null,
            "grid_area": null,
            "grid_template_columns": null,
            "flex": null,
            "_model_name": "LayoutModel",
            "justify_items": null,
            "grid_row": null,
            "max_height": null,
            "align_content": null,
            "visibility": null,
            "align_self": null,
            "height": null,
            "min_height": null,
            "padding": null,
            "grid_auto_rows": null,
            "grid_gap": null,
            "max_width": null,
            "order": null,
            "_view_module_version": "1.2.0",
            "grid_template_areas": null,
            "object_position": null,
            "object_fit": null,
            "grid_auto_columns": null,
            "margin": null,
            "display": null,
            "left": null
          }
        },
        "381265c0d88b4ef596197cdfca41c1da": {
          "model_module": "@jupyter-widgets/controls",
          "model_name": "LabelModel",
          "model_module_version": "1.5.0",
          "state": {
            "_view_name": "LabelView",
            "style": "IPY_MODEL_e7fa8c4c12f5485b958dcc811721e92d",
            "_dom_classes": [],
            "description": "",
            "_model_name": "LabelModel",
            "placeholder": "​",
            "_view_module": "@jupyter-widgets/controls",
            "_model_module_version": "1.5.0",
            "value": " 0.01MB of 0.01MB uploaded (0.00MB deduped)\r",
            "_view_count": null,
            "_view_module_version": "1.5.0",
            "description_tooltip": null,
            "_model_module": "@jupyter-widgets/controls",
            "layout": "IPY_MODEL_3409389b3621495d8e995fb3d9216acc"
          }
        },
        "5749f84840094aaeadad50303a237f55": {
          "model_module": "@jupyter-widgets/controls",
          "model_name": "FloatProgressModel",
          "model_module_version": "1.5.0",
          "state": {
            "_view_name": "ProgressView",
            "style": "IPY_MODEL_e0027f65492449c8af562ab7142c4ef8",
            "_dom_classes": [],
            "description": "",
            "_model_name": "FloatProgressModel",
            "bar_style": "",
            "max": 1,
            "_view_module": "@jupyter-widgets/controls",
            "_model_module_version": "1.5.0",
            "value": 1,
            "_view_count": null,
            "_view_module_version": "1.5.0",
            "orientation": "horizontal",
            "min": 0,
            "description_tooltip": null,
            "_model_module": "@jupyter-widgets/controls",
            "layout": "IPY_MODEL_8b655912b7304de2be52d476021084ae"
          }
        },
        "e7fa8c4c12f5485b958dcc811721e92d": {
          "model_module": "@jupyter-widgets/controls",
          "model_name": "DescriptionStyleModel",
          "model_module_version": "1.5.0",
          "state": {
            "_view_name": "StyleView",
            "_model_name": "DescriptionStyleModel",
            "description_width": "",
            "_view_module": "@jupyter-widgets/base",
            "_model_module_version": "1.5.0",
            "_view_count": null,
            "_view_module_version": "1.2.0",
            "_model_module": "@jupyter-widgets/controls"
          }
        },
        "3409389b3621495d8e995fb3d9216acc": {
          "model_module": "@jupyter-widgets/base",
          "model_name": "LayoutModel",
          "model_module_version": "1.2.0",
          "state": {
            "_view_name": "LayoutView",
            "grid_template_rows": null,
            "right": null,
            "justify_content": null,
            "_view_module": "@jupyter-widgets/base",
            "overflow": null,
            "_model_module_version": "1.2.0",
            "_view_count": null,
            "flex_flow": null,
            "width": null,
            "min_width": null,
            "border": null,
            "align_items": null,
            "bottom": null,
            "_model_module": "@jupyter-widgets/base",
            "top": null,
            "grid_column": null,
            "overflow_y": null,
            "overflow_x": null,
            "grid_auto_flow": null,
            "grid_area": null,
            "grid_template_columns": null,
            "flex": null,
            "_model_name": "LayoutModel",
            "justify_items": null,
            "grid_row": null,
            "max_height": null,
            "align_content": null,
            "visibility": null,
            "align_self": null,
            "height": null,
            "min_height": null,
            "padding": null,
            "grid_auto_rows": null,
            "grid_gap": null,
            "max_width": null,
            "order": null,
            "_view_module_version": "1.2.0",
            "grid_template_areas": null,
            "object_position": null,
            "object_fit": null,
            "grid_auto_columns": null,
            "margin": null,
            "display": null,
            "left": null
          }
        },
        "e0027f65492449c8af562ab7142c4ef8": {
          "model_module": "@jupyter-widgets/controls",
          "model_name": "ProgressStyleModel",
          "model_module_version": "1.5.0",
          "state": {
            "_view_name": "StyleView",
            "_model_name": "ProgressStyleModel",
            "description_width": "",
            "_view_module": "@jupyter-widgets/base",
            "_model_module_version": "1.5.0",
            "_view_count": null,
            "_view_module_version": "1.2.0",
            "bar_color": null,
            "_model_module": "@jupyter-widgets/controls"
          }
        },
        "8b655912b7304de2be52d476021084ae": {
          "model_module": "@jupyter-widgets/base",
          "model_name": "LayoutModel",
          "model_module_version": "1.2.0",
          "state": {
            "_view_name": "LayoutView",
            "grid_template_rows": null,
            "right": null,
            "justify_content": null,
            "_view_module": "@jupyter-widgets/base",
            "overflow": null,
            "_model_module_version": "1.2.0",
            "_view_count": null,
            "flex_flow": null,
            "width": null,
            "min_width": null,
            "border": null,
            "align_items": null,
            "bottom": null,
            "_model_module": "@jupyter-widgets/base",
            "top": null,
            "grid_column": null,
            "overflow_y": null,
            "overflow_x": null,
            "grid_auto_flow": null,
            "grid_area": null,
            "grid_template_columns": null,
            "flex": null,
            "_model_name": "LayoutModel",
            "justify_items": null,
            "grid_row": null,
            "max_height": null,
            "align_content": null,
            "visibility": null,
            "align_self": null,
            "height": null,
            "min_height": null,
            "padding": null,
            "grid_auto_rows": null,
            "grid_gap": null,
            "max_width": null,
            "order": null,
            "_view_module_version": "1.2.0",
            "grid_template_areas": null,
            "object_position": null,
            "object_fit": null,
            "grid_auto_columns": null,
            "margin": null,
            "display": null,
            "left": null
          }
        },
        "f7a8f8e12ae244569f8b5ae0ccae8288": {
          "model_module": "@jupyter-widgets/controls",
          "model_name": "VBoxModel",
          "model_module_version": "1.5.0",
          "state": {
            "_view_name": "VBoxView",
            "_dom_classes": [],
            "_model_name": "VBoxModel",
            "_view_module": "@jupyter-widgets/controls",
            "_model_module_version": "1.5.0",
            "_view_count": null,
            "_view_module_version": "1.5.0",
            "box_style": "",
            "layout": "IPY_MODEL_576480ed248142afa9b82d5d92360ee1",
            "_model_module": "@jupyter-widgets/controls",
            "children": [
              "IPY_MODEL_f1266995bbe94b63983e248a45d26101",
              "IPY_MODEL_7e856d3a855f45c89bdb71bb13efc70e"
            ]
          }
        },
        "576480ed248142afa9b82d5d92360ee1": {
          "model_module": "@jupyter-widgets/base",
          "model_name": "LayoutModel",
          "model_module_version": "1.2.0",
          "state": {
            "_view_name": "LayoutView",
            "grid_template_rows": null,
            "right": null,
            "justify_content": null,
            "_view_module": "@jupyter-widgets/base",
            "overflow": null,
            "_model_module_version": "1.2.0",
            "_view_count": null,
            "flex_flow": null,
            "width": null,
            "min_width": null,
            "border": null,
            "align_items": null,
            "bottom": null,
            "_model_module": "@jupyter-widgets/base",
            "top": null,
            "grid_column": null,
            "overflow_y": null,
            "overflow_x": null,
            "grid_auto_flow": null,
            "grid_area": null,
            "grid_template_columns": null,
            "flex": null,
            "_model_name": "LayoutModel",
            "justify_items": null,
            "grid_row": null,
            "max_height": null,
            "align_content": null,
            "visibility": null,
            "align_self": null,
            "height": null,
            "min_height": null,
            "padding": null,
            "grid_auto_rows": null,
            "grid_gap": null,
            "max_width": null,
            "order": null,
            "_view_module_version": "1.2.0",
            "grid_template_areas": null,
            "object_position": null,
            "object_fit": null,
            "grid_auto_columns": null,
            "margin": null,
            "display": null,
            "left": null
          }
        },
        "f1266995bbe94b63983e248a45d26101": {
          "model_module": "@jupyter-widgets/controls",
          "model_name": "LabelModel",
          "model_module_version": "1.5.0",
          "state": {
            "_view_name": "LabelView",
            "style": "IPY_MODEL_8755f22ea83b41dba3c402cf7ffeb3c2",
            "_dom_classes": [],
            "description": "",
            "_model_name": "LabelModel",
            "placeholder": "​",
            "_view_module": "@jupyter-widgets/controls",
            "_model_module_version": "1.5.0",
            "value": " 0.01MB of 0.01MB uploaded (0.00MB deduped)\r",
            "_view_count": null,
            "_view_module_version": "1.5.0",
            "description_tooltip": null,
            "_model_module": "@jupyter-widgets/controls",
            "layout": "IPY_MODEL_3ba4f870e1164f37af967d622e217185"
          }
        },
        "7e856d3a855f45c89bdb71bb13efc70e": {
          "model_module": "@jupyter-widgets/controls",
          "model_name": "FloatProgressModel",
          "model_module_version": "1.5.0",
          "state": {
            "_view_name": "ProgressView",
            "style": "IPY_MODEL_ba8efe4a6fde416987b346e6f8e9cdb3",
            "_dom_classes": [],
            "description": "",
            "_model_name": "FloatProgressModel",
            "bar_style": "",
            "max": 1,
            "_view_module": "@jupyter-widgets/controls",
            "_model_module_version": "1.5.0",
            "value": 1,
            "_view_count": null,
            "_view_module_version": "1.5.0",
            "orientation": "horizontal",
            "min": 0,
            "description_tooltip": null,
            "_model_module": "@jupyter-widgets/controls",
            "layout": "IPY_MODEL_93ed2f3ff7f6496b90d7bf28f34bc413"
          }
        },
        "8755f22ea83b41dba3c402cf7ffeb3c2": {
          "model_module": "@jupyter-widgets/controls",
          "model_name": "DescriptionStyleModel",
          "model_module_version": "1.5.0",
          "state": {
            "_view_name": "StyleView",
            "_model_name": "DescriptionStyleModel",
            "description_width": "",
            "_view_module": "@jupyter-widgets/base",
            "_model_module_version": "1.5.0",
            "_view_count": null,
            "_view_module_version": "1.2.0",
            "_model_module": "@jupyter-widgets/controls"
          }
        },
        "3ba4f870e1164f37af967d622e217185": {
          "model_module": "@jupyter-widgets/base",
          "model_name": "LayoutModel",
          "model_module_version": "1.2.0",
          "state": {
            "_view_name": "LayoutView",
            "grid_template_rows": null,
            "right": null,
            "justify_content": null,
            "_view_module": "@jupyter-widgets/base",
            "overflow": null,
            "_model_module_version": "1.2.0",
            "_view_count": null,
            "flex_flow": null,
            "width": null,
            "min_width": null,
            "border": null,
            "align_items": null,
            "bottom": null,
            "_model_module": "@jupyter-widgets/base",
            "top": null,
            "grid_column": null,
            "overflow_y": null,
            "overflow_x": null,
            "grid_auto_flow": null,
            "grid_area": null,
            "grid_template_columns": null,
            "flex": null,
            "_model_name": "LayoutModel",
            "justify_items": null,
            "grid_row": null,
            "max_height": null,
            "align_content": null,
            "visibility": null,
            "align_self": null,
            "height": null,
            "min_height": null,
            "padding": null,
            "grid_auto_rows": null,
            "grid_gap": null,
            "max_width": null,
            "order": null,
            "_view_module_version": "1.2.0",
            "grid_template_areas": null,
            "object_position": null,
            "object_fit": null,
            "grid_auto_columns": null,
            "margin": null,
            "display": null,
            "left": null
          }
        },
        "ba8efe4a6fde416987b346e6f8e9cdb3": {
          "model_module": "@jupyter-widgets/controls",
          "model_name": "ProgressStyleModel",
          "model_module_version": "1.5.0",
          "state": {
            "_view_name": "StyleView",
            "_model_name": "ProgressStyleModel",
            "description_width": "",
            "_view_module": "@jupyter-widgets/base",
            "_model_module_version": "1.5.0",
            "_view_count": null,
            "_view_module_version": "1.2.0",
            "bar_color": null,
            "_model_module": "@jupyter-widgets/controls"
          }
        },
        "93ed2f3ff7f6496b90d7bf28f34bc413": {
          "model_module": "@jupyter-widgets/base",
          "model_name": "LayoutModel",
          "model_module_version": "1.2.0",
          "state": {
            "_view_name": "LayoutView",
            "grid_template_rows": null,
            "right": null,
            "justify_content": null,
            "_view_module": "@jupyter-widgets/base",
            "overflow": null,
            "_model_module_version": "1.2.0",
            "_view_count": null,
            "flex_flow": null,
            "width": null,
            "min_width": null,
            "border": null,
            "align_items": null,
            "bottom": null,
            "_model_module": "@jupyter-widgets/base",
            "top": null,
            "grid_column": null,
            "overflow_y": null,
            "overflow_x": null,
            "grid_auto_flow": null,
            "grid_area": null,
            "grid_template_columns": null,
            "flex": null,
            "_model_name": "LayoutModel",
            "justify_items": null,
            "grid_row": null,
            "max_height": null,
            "align_content": null,
            "visibility": null,
            "align_self": null,
            "height": null,
            "min_height": null,
            "padding": null,
            "grid_auto_rows": null,
            "grid_gap": null,
            "max_width": null,
            "order": null,
            "_view_module_version": "1.2.0",
            "grid_template_areas": null,
            "object_position": null,
            "object_fit": null,
            "grid_auto_columns": null,
            "margin": null,
            "display": null,
            "left": null
          }
        },
        "083561ec11004e958e725fd84d627183": {
          "model_module": "@jupyter-widgets/controls",
          "model_name": "VBoxModel",
          "model_module_version": "1.5.0",
          "state": {
            "_view_name": "VBoxView",
            "_dom_classes": [],
            "_model_name": "VBoxModel",
            "_view_module": "@jupyter-widgets/controls",
            "_model_module_version": "1.5.0",
            "_view_count": null,
            "_view_module_version": "1.5.0",
            "box_style": "",
            "layout": "IPY_MODEL_dba1df2c9bc6443bb0f867805245e094",
            "_model_module": "@jupyter-widgets/controls",
            "children": [
              "IPY_MODEL_354a0584d7e84f608cb22f8659dcb458",
              "IPY_MODEL_e91052c4f7254946ac15f5b5a5df9778"
            ]
          }
        },
        "dba1df2c9bc6443bb0f867805245e094": {
          "model_module": "@jupyter-widgets/base",
          "model_name": "LayoutModel",
          "model_module_version": "1.2.0",
          "state": {
            "_view_name": "LayoutView",
            "grid_template_rows": null,
            "right": null,
            "justify_content": null,
            "_view_module": "@jupyter-widgets/base",
            "overflow": null,
            "_model_module_version": "1.2.0",
            "_view_count": null,
            "flex_flow": null,
            "width": null,
            "min_width": null,
            "border": null,
            "align_items": null,
            "bottom": null,
            "_model_module": "@jupyter-widgets/base",
            "top": null,
            "grid_column": null,
            "overflow_y": null,
            "overflow_x": null,
            "grid_auto_flow": null,
            "grid_area": null,
            "grid_template_columns": null,
            "flex": null,
            "_model_name": "LayoutModel",
            "justify_items": null,
            "grid_row": null,
            "max_height": null,
            "align_content": null,
            "visibility": null,
            "align_self": null,
            "height": null,
            "min_height": null,
            "padding": null,
            "grid_auto_rows": null,
            "grid_gap": null,
            "max_width": null,
            "order": null,
            "_view_module_version": "1.2.0",
            "grid_template_areas": null,
            "object_position": null,
            "object_fit": null,
            "grid_auto_columns": null,
            "margin": null,
            "display": null,
            "left": null
          }
        },
        "354a0584d7e84f608cb22f8659dcb458": {
          "model_module": "@jupyter-widgets/controls",
          "model_name": "LabelModel",
          "model_module_version": "1.5.0",
          "state": {
            "_view_name": "LabelView",
            "style": "IPY_MODEL_f4ab454beeaf48f090b48d7ec98eb722",
            "_dom_classes": [],
            "description": "",
            "_model_name": "LabelModel",
            "placeholder": "​",
            "_view_module": "@jupyter-widgets/controls",
            "_model_module_version": "1.5.0",
            "value": " 0.01MB of 0.01MB uploaded (0.00MB deduped)\r",
            "_view_count": null,
            "_view_module_version": "1.5.0",
            "description_tooltip": null,
            "_model_module": "@jupyter-widgets/controls",
            "layout": "IPY_MODEL_83144f5ee6e34daa987b636d5f52d67c"
          }
        },
        "e91052c4f7254946ac15f5b5a5df9778": {
          "model_module": "@jupyter-widgets/controls",
          "model_name": "FloatProgressModel",
          "model_module_version": "1.5.0",
          "state": {
            "_view_name": "ProgressView",
            "style": "IPY_MODEL_f3127b6df51b4a189f4764a470c752e5",
            "_dom_classes": [],
            "description": "",
            "_model_name": "FloatProgressModel",
            "bar_style": "",
            "max": 1,
            "_view_module": "@jupyter-widgets/controls",
            "_model_module_version": "1.5.0",
            "value": 1,
            "_view_count": null,
            "_view_module_version": "1.5.0",
            "orientation": "horizontal",
            "min": 0,
            "description_tooltip": null,
            "_model_module": "@jupyter-widgets/controls",
            "layout": "IPY_MODEL_ea7d801e71cf4a9cb8351079c60132e6"
          }
        },
        "f4ab454beeaf48f090b48d7ec98eb722": {
          "model_module": "@jupyter-widgets/controls",
          "model_name": "DescriptionStyleModel",
          "model_module_version": "1.5.0",
          "state": {
            "_view_name": "StyleView",
            "_model_name": "DescriptionStyleModel",
            "description_width": "",
            "_view_module": "@jupyter-widgets/base",
            "_model_module_version": "1.5.0",
            "_view_count": null,
            "_view_module_version": "1.2.0",
            "_model_module": "@jupyter-widgets/controls"
          }
        },
        "83144f5ee6e34daa987b636d5f52d67c": {
          "model_module": "@jupyter-widgets/base",
          "model_name": "LayoutModel",
          "model_module_version": "1.2.0",
          "state": {
            "_view_name": "LayoutView",
            "grid_template_rows": null,
            "right": null,
            "justify_content": null,
            "_view_module": "@jupyter-widgets/base",
            "overflow": null,
            "_model_module_version": "1.2.0",
            "_view_count": null,
            "flex_flow": null,
            "width": null,
            "min_width": null,
            "border": null,
            "align_items": null,
            "bottom": null,
            "_model_module": "@jupyter-widgets/base",
            "top": null,
            "grid_column": null,
            "overflow_y": null,
            "overflow_x": null,
            "grid_auto_flow": null,
            "grid_area": null,
            "grid_template_columns": null,
            "flex": null,
            "_model_name": "LayoutModel",
            "justify_items": null,
            "grid_row": null,
            "max_height": null,
            "align_content": null,
            "visibility": null,
            "align_self": null,
            "height": null,
            "min_height": null,
            "padding": null,
            "grid_auto_rows": null,
            "grid_gap": null,
            "max_width": null,
            "order": null,
            "_view_module_version": "1.2.0",
            "grid_template_areas": null,
            "object_position": null,
            "object_fit": null,
            "grid_auto_columns": null,
            "margin": null,
            "display": null,
            "left": null
          }
        },
        "f3127b6df51b4a189f4764a470c752e5": {
          "model_module": "@jupyter-widgets/controls",
          "model_name": "ProgressStyleModel",
          "model_module_version": "1.5.0",
          "state": {
            "_view_name": "StyleView",
            "_model_name": "ProgressStyleModel",
            "description_width": "",
            "_view_module": "@jupyter-widgets/base",
            "_model_module_version": "1.5.0",
            "_view_count": null,
            "_view_module_version": "1.2.0",
            "bar_color": null,
            "_model_module": "@jupyter-widgets/controls"
          }
        },
        "ea7d801e71cf4a9cb8351079c60132e6": {
          "model_module": "@jupyter-widgets/base",
          "model_name": "LayoutModel",
          "model_module_version": "1.2.0",
          "state": {
            "_view_name": "LayoutView",
            "grid_template_rows": null,
            "right": null,
            "justify_content": null,
            "_view_module": "@jupyter-widgets/base",
            "overflow": null,
            "_model_module_version": "1.2.0",
            "_view_count": null,
            "flex_flow": null,
            "width": null,
            "min_width": null,
            "border": null,
            "align_items": null,
            "bottom": null,
            "_model_module": "@jupyter-widgets/base",
            "top": null,
            "grid_column": null,
            "overflow_y": null,
            "overflow_x": null,
            "grid_auto_flow": null,
            "grid_area": null,
            "grid_template_columns": null,
            "flex": null,
            "_model_name": "LayoutModel",
            "justify_items": null,
            "grid_row": null,
            "max_height": null,
            "align_content": null,
            "visibility": null,
            "align_self": null,
            "height": null,
            "min_height": null,
            "padding": null,
            "grid_auto_rows": null,
            "grid_gap": null,
            "max_width": null,
            "order": null,
            "_view_module_version": "1.2.0",
            "grid_template_areas": null,
            "object_position": null,
            "object_fit": null,
            "grid_auto_columns": null,
            "margin": null,
            "display": null,
            "left": null
          }
        },
        "e25042bf9ccc40c2bab5c42894bd8e77": {
          "model_module": "@jupyter-widgets/controls",
          "model_name": "VBoxModel",
          "model_module_version": "1.5.0",
          "state": {
            "_view_name": "VBoxView",
            "_dom_classes": [],
            "_model_name": "VBoxModel",
            "_view_module": "@jupyter-widgets/controls",
            "_model_module_version": "1.5.0",
            "_view_count": null,
            "_view_module_version": "1.5.0",
            "box_style": "",
            "layout": "IPY_MODEL_cee67067f72742ec8d69e5090205f5cf",
            "_model_module": "@jupyter-widgets/controls",
            "children": [
              "IPY_MODEL_1203262d5e324041967e3e46d67d2051",
              "IPY_MODEL_ff895a4f08f24718980521f5b20a8436"
            ]
          }
        },
        "cee67067f72742ec8d69e5090205f5cf": {
          "model_module": "@jupyter-widgets/base",
          "model_name": "LayoutModel",
          "model_module_version": "1.2.0",
          "state": {
            "_view_name": "LayoutView",
            "grid_template_rows": null,
            "right": null,
            "justify_content": null,
            "_view_module": "@jupyter-widgets/base",
            "overflow": null,
            "_model_module_version": "1.2.0",
            "_view_count": null,
            "flex_flow": null,
            "width": null,
            "min_width": null,
            "border": null,
            "align_items": null,
            "bottom": null,
            "_model_module": "@jupyter-widgets/base",
            "top": null,
            "grid_column": null,
            "overflow_y": null,
            "overflow_x": null,
            "grid_auto_flow": null,
            "grid_area": null,
            "grid_template_columns": null,
            "flex": null,
            "_model_name": "LayoutModel",
            "justify_items": null,
            "grid_row": null,
            "max_height": null,
            "align_content": null,
            "visibility": null,
            "align_self": null,
            "height": null,
            "min_height": null,
            "padding": null,
            "grid_auto_rows": null,
            "grid_gap": null,
            "max_width": null,
            "order": null,
            "_view_module_version": "1.2.0",
            "grid_template_areas": null,
            "object_position": null,
            "object_fit": null,
            "grid_auto_columns": null,
            "margin": null,
            "display": null,
            "left": null
          }
        },
        "1203262d5e324041967e3e46d67d2051": {
          "model_module": "@jupyter-widgets/controls",
          "model_name": "LabelModel",
          "model_module_version": "1.5.0",
          "state": {
            "_view_name": "LabelView",
            "style": "IPY_MODEL_bead629eaa2e4326bab448940d0d7363",
            "_dom_classes": [],
            "description": "",
            "_model_name": "LabelModel",
            "placeholder": "​",
            "_view_module": "@jupyter-widgets/controls",
            "_model_module_version": "1.5.0",
            "value": " 0.01MB of 0.01MB uploaded (0.00MB deduped)\r",
            "_view_count": null,
            "_view_module_version": "1.5.0",
            "description_tooltip": null,
            "_model_module": "@jupyter-widgets/controls",
            "layout": "IPY_MODEL_d73408dc70264a479471023462b1f35e"
          }
        },
        "ff895a4f08f24718980521f5b20a8436": {
          "model_module": "@jupyter-widgets/controls",
          "model_name": "FloatProgressModel",
          "model_module_version": "1.5.0",
          "state": {
            "_view_name": "ProgressView",
            "style": "IPY_MODEL_068496dd79cd47a88e01483ddb6dfe8a",
            "_dom_classes": [],
            "description": "",
            "_model_name": "FloatProgressModel",
            "bar_style": "",
            "max": 1,
            "_view_module": "@jupyter-widgets/controls",
            "_model_module_version": "1.5.0",
            "value": 1,
            "_view_count": null,
            "_view_module_version": "1.5.0",
            "orientation": "horizontal",
            "min": 0,
            "description_tooltip": null,
            "_model_module": "@jupyter-widgets/controls",
            "layout": "IPY_MODEL_cb9c9768ca914cf49ef5bd9fa6b84b65"
          }
        },
        "bead629eaa2e4326bab448940d0d7363": {
          "model_module": "@jupyter-widgets/controls",
          "model_name": "DescriptionStyleModel",
          "model_module_version": "1.5.0",
          "state": {
            "_view_name": "StyleView",
            "_model_name": "DescriptionStyleModel",
            "description_width": "",
            "_view_module": "@jupyter-widgets/base",
            "_model_module_version": "1.5.0",
            "_view_count": null,
            "_view_module_version": "1.2.0",
            "_model_module": "@jupyter-widgets/controls"
          }
        },
        "d73408dc70264a479471023462b1f35e": {
          "model_module": "@jupyter-widgets/base",
          "model_name": "LayoutModel",
          "model_module_version": "1.2.0",
          "state": {
            "_view_name": "LayoutView",
            "grid_template_rows": null,
            "right": null,
            "justify_content": null,
            "_view_module": "@jupyter-widgets/base",
            "overflow": null,
            "_model_module_version": "1.2.0",
            "_view_count": null,
            "flex_flow": null,
            "width": null,
            "min_width": null,
            "border": null,
            "align_items": null,
            "bottom": null,
            "_model_module": "@jupyter-widgets/base",
            "top": null,
            "grid_column": null,
            "overflow_y": null,
            "overflow_x": null,
            "grid_auto_flow": null,
            "grid_area": null,
            "grid_template_columns": null,
            "flex": null,
            "_model_name": "LayoutModel",
            "justify_items": null,
            "grid_row": null,
            "max_height": null,
            "align_content": null,
            "visibility": null,
            "align_self": null,
            "height": null,
            "min_height": null,
            "padding": null,
            "grid_auto_rows": null,
            "grid_gap": null,
            "max_width": null,
            "order": null,
            "_view_module_version": "1.2.0",
            "grid_template_areas": null,
            "object_position": null,
            "object_fit": null,
            "grid_auto_columns": null,
            "margin": null,
            "display": null,
            "left": null
          }
        },
        "068496dd79cd47a88e01483ddb6dfe8a": {
          "model_module": "@jupyter-widgets/controls",
          "model_name": "ProgressStyleModel",
          "model_module_version": "1.5.0",
          "state": {
            "_view_name": "StyleView",
            "_model_name": "ProgressStyleModel",
            "description_width": "",
            "_view_module": "@jupyter-widgets/base",
            "_model_module_version": "1.5.0",
            "_view_count": null,
            "_view_module_version": "1.2.0",
            "bar_color": null,
            "_model_module": "@jupyter-widgets/controls"
          }
        },
        "cb9c9768ca914cf49ef5bd9fa6b84b65": {
          "model_module": "@jupyter-widgets/base",
          "model_name": "LayoutModel",
          "model_module_version": "1.2.0",
          "state": {
            "_view_name": "LayoutView",
            "grid_template_rows": null,
            "right": null,
            "justify_content": null,
            "_view_module": "@jupyter-widgets/base",
            "overflow": null,
            "_model_module_version": "1.2.0",
            "_view_count": null,
            "flex_flow": null,
            "width": null,
            "min_width": null,
            "border": null,
            "align_items": null,
            "bottom": null,
            "_model_module": "@jupyter-widgets/base",
            "top": null,
            "grid_column": null,
            "overflow_y": null,
            "overflow_x": null,
            "grid_auto_flow": null,
            "grid_area": null,
            "grid_template_columns": null,
            "flex": null,
            "_model_name": "LayoutModel",
            "justify_items": null,
            "grid_row": null,
            "max_height": null,
            "align_content": null,
            "visibility": null,
            "align_self": null,
            "height": null,
            "min_height": null,
            "padding": null,
            "grid_auto_rows": null,
            "grid_gap": null,
            "max_width": null,
            "order": null,
            "_view_module_version": "1.2.0",
            "grid_template_areas": null,
            "object_position": null,
            "object_fit": null,
            "grid_auto_columns": null,
            "margin": null,
            "display": null,
            "left": null
          }
        },
        "79a85e4ba9114c67a8268100097cc260": {
          "model_module": "@jupyter-widgets/controls",
          "model_name": "VBoxModel",
          "model_module_version": "1.5.0",
          "state": {
            "_view_name": "VBoxView",
            "_dom_classes": [],
            "_model_name": "VBoxModel",
            "_view_module": "@jupyter-widgets/controls",
            "_model_module_version": "1.5.0",
            "_view_count": null,
            "_view_module_version": "1.5.0",
            "box_style": "",
            "layout": "IPY_MODEL_29de0065eed24b2b9b64db1965e9ddb2",
            "_model_module": "@jupyter-widgets/controls",
            "children": [
              "IPY_MODEL_03058b3d23ee40f2a3c8c4ea1f3d9bc1",
              "IPY_MODEL_64c46dec013048f98ea63a27043ef914"
            ]
          }
        },
        "29de0065eed24b2b9b64db1965e9ddb2": {
          "model_module": "@jupyter-widgets/base",
          "model_name": "LayoutModel",
          "model_module_version": "1.2.0",
          "state": {
            "_view_name": "LayoutView",
            "grid_template_rows": null,
            "right": null,
            "justify_content": null,
            "_view_module": "@jupyter-widgets/base",
            "overflow": null,
            "_model_module_version": "1.2.0",
            "_view_count": null,
            "flex_flow": null,
            "width": null,
            "min_width": null,
            "border": null,
            "align_items": null,
            "bottom": null,
            "_model_module": "@jupyter-widgets/base",
            "top": null,
            "grid_column": null,
            "overflow_y": null,
            "overflow_x": null,
            "grid_auto_flow": null,
            "grid_area": null,
            "grid_template_columns": null,
            "flex": null,
            "_model_name": "LayoutModel",
            "justify_items": null,
            "grid_row": null,
            "max_height": null,
            "align_content": null,
            "visibility": null,
            "align_self": null,
            "height": null,
            "min_height": null,
            "padding": null,
            "grid_auto_rows": null,
            "grid_gap": null,
            "max_width": null,
            "order": null,
            "_view_module_version": "1.2.0",
            "grid_template_areas": null,
            "object_position": null,
            "object_fit": null,
            "grid_auto_columns": null,
            "margin": null,
            "display": null,
            "left": null
          }
        },
        "03058b3d23ee40f2a3c8c4ea1f3d9bc1": {
          "model_module": "@jupyter-widgets/controls",
          "model_name": "LabelModel",
          "model_module_version": "1.5.0",
          "state": {
            "_view_name": "LabelView",
            "style": "IPY_MODEL_16955f6ee95346a39fbe979ea5438b9b",
            "_dom_classes": [],
            "description": "",
            "_model_name": "LabelModel",
            "placeholder": "​",
            "_view_module": "@jupyter-widgets/controls",
            "_model_module_version": "1.5.0",
            "value": " 0.01MB of 0.01MB uploaded (0.00MB deduped)\r",
            "_view_count": null,
            "_view_module_version": "1.5.0",
            "description_tooltip": null,
            "_model_module": "@jupyter-widgets/controls",
            "layout": "IPY_MODEL_4960ee14cd6f4bfda4964f08c6bfd365"
          }
        },
        "64c46dec013048f98ea63a27043ef914": {
          "model_module": "@jupyter-widgets/controls",
          "model_name": "FloatProgressModel",
          "model_module_version": "1.5.0",
          "state": {
            "_view_name": "ProgressView",
            "style": "IPY_MODEL_2e808e00120c466da4a443e12c5ad3be",
            "_dom_classes": [],
            "description": "",
            "_model_name": "FloatProgressModel",
            "bar_style": "",
            "max": 1,
            "_view_module": "@jupyter-widgets/controls",
            "_model_module_version": "1.5.0",
            "value": 1,
            "_view_count": null,
            "_view_module_version": "1.5.0",
            "orientation": "horizontal",
            "min": 0,
            "description_tooltip": null,
            "_model_module": "@jupyter-widgets/controls",
            "layout": "IPY_MODEL_6f70806b87b648d8b25d54d9000734b7"
          }
        },
        "16955f6ee95346a39fbe979ea5438b9b": {
          "model_module": "@jupyter-widgets/controls",
          "model_name": "DescriptionStyleModel",
          "model_module_version": "1.5.0",
          "state": {
            "_view_name": "StyleView",
            "_model_name": "DescriptionStyleModel",
            "description_width": "",
            "_view_module": "@jupyter-widgets/base",
            "_model_module_version": "1.5.0",
            "_view_count": null,
            "_view_module_version": "1.2.0",
            "_model_module": "@jupyter-widgets/controls"
          }
        },
        "4960ee14cd6f4bfda4964f08c6bfd365": {
          "model_module": "@jupyter-widgets/base",
          "model_name": "LayoutModel",
          "model_module_version": "1.2.0",
          "state": {
            "_view_name": "LayoutView",
            "grid_template_rows": null,
            "right": null,
            "justify_content": null,
            "_view_module": "@jupyter-widgets/base",
            "overflow": null,
            "_model_module_version": "1.2.0",
            "_view_count": null,
            "flex_flow": null,
            "width": null,
            "min_width": null,
            "border": null,
            "align_items": null,
            "bottom": null,
            "_model_module": "@jupyter-widgets/base",
            "top": null,
            "grid_column": null,
            "overflow_y": null,
            "overflow_x": null,
            "grid_auto_flow": null,
            "grid_area": null,
            "grid_template_columns": null,
            "flex": null,
            "_model_name": "LayoutModel",
            "justify_items": null,
            "grid_row": null,
            "max_height": null,
            "align_content": null,
            "visibility": null,
            "align_self": null,
            "height": null,
            "min_height": null,
            "padding": null,
            "grid_auto_rows": null,
            "grid_gap": null,
            "max_width": null,
            "order": null,
            "_view_module_version": "1.2.0",
            "grid_template_areas": null,
            "object_position": null,
            "object_fit": null,
            "grid_auto_columns": null,
            "margin": null,
            "display": null,
            "left": null
          }
        },
        "2e808e00120c466da4a443e12c5ad3be": {
          "model_module": "@jupyter-widgets/controls",
          "model_name": "ProgressStyleModel",
          "model_module_version": "1.5.0",
          "state": {
            "_view_name": "StyleView",
            "_model_name": "ProgressStyleModel",
            "description_width": "",
            "_view_module": "@jupyter-widgets/base",
            "_model_module_version": "1.5.0",
            "_view_count": null,
            "_view_module_version": "1.2.0",
            "bar_color": null,
            "_model_module": "@jupyter-widgets/controls"
          }
        },
        "6f70806b87b648d8b25d54d9000734b7": {
          "model_module": "@jupyter-widgets/base",
          "model_name": "LayoutModel",
          "model_module_version": "1.2.0",
          "state": {
            "_view_name": "LayoutView",
            "grid_template_rows": null,
            "right": null,
            "justify_content": null,
            "_view_module": "@jupyter-widgets/base",
            "overflow": null,
            "_model_module_version": "1.2.0",
            "_view_count": null,
            "flex_flow": null,
            "width": null,
            "min_width": null,
            "border": null,
            "align_items": null,
            "bottom": null,
            "_model_module": "@jupyter-widgets/base",
            "top": null,
            "grid_column": null,
            "overflow_y": null,
            "overflow_x": null,
            "grid_auto_flow": null,
            "grid_area": null,
            "grid_template_columns": null,
            "flex": null,
            "_model_name": "LayoutModel",
            "justify_items": null,
            "grid_row": null,
            "max_height": null,
            "align_content": null,
            "visibility": null,
            "align_self": null,
            "height": null,
            "min_height": null,
            "padding": null,
            "grid_auto_rows": null,
            "grid_gap": null,
            "max_width": null,
            "order": null,
            "_view_module_version": "1.2.0",
            "grid_template_areas": null,
            "object_position": null,
            "object_fit": null,
            "grid_auto_columns": null,
            "margin": null,
            "display": null,
            "left": null
          }
        },
        "731b39c2d8274fb5889e7507c7150b0c": {
          "model_module": "@jupyter-widgets/controls",
          "model_name": "VBoxModel",
          "model_module_version": "1.5.0",
          "state": {
            "_view_name": "VBoxView",
            "_dom_classes": [],
            "_model_name": "VBoxModel",
            "_view_module": "@jupyter-widgets/controls",
            "_model_module_version": "1.5.0",
            "_view_count": null,
            "_view_module_version": "1.5.0",
            "box_style": "",
            "layout": "IPY_MODEL_f0dbdefc066849d288a0b598828ce48e",
            "_model_module": "@jupyter-widgets/controls",
            "children": [
              "IPY_MODEL_c7ee7067601a4e28acd0abbdd9cae57e",
              "IPY_MODEL_66e6594089cc4a9f96259be9b103c583"
            ]
          }
        },
        "f0dbdefc066849d288a0b598828ce48e": {
          "model_module": "@jupyter-widgets/base",
          "model_name": "LayoutModel",
          "model_module_version": "1.2.0",
          "state": {
            "_view_name": "LayoutView",
            "grid_template_rows": null,
            "right": null,
            "justify_content": null,
            "_view_module": "@jupyter-widgets/base",
            "overflow": null,
            "_model_module_version": "1.2.0",
            "_view_count": null,
            "flex_flow": null,
            "width": null,
            "min_width": null,
            "border": null,
            "align_items": null,
            "bottom": null,
            "_model_module": "@jupyter-widgets/base",
            "top": null,
            "grid_column": null,
            "overflow_y": null,
            "overflow_x": null,
            "grid_auto_flow": null,
            "grid_area": null,
            "grid_template_columns": null,
            "flex": null,
            "_model_name": "LayoutModel",
            "justify_items": null,
            "grid_row": null,
            "max_height": null,
            "align_content": null,
            "visibility": null,
            "align_self": null,
            "height": null,
            "min_height": null,
            "padding": null,
            "grid_auto_rows": null,
            "grid_gap": null,
            "max_width": null,
            "order": null,
            "_view_module_version": "1.2.0",
            "grid_template_areas": null,
            "object_position": null,
            "object_fit": null,
            "grid_auto_columns": null,
            "margin": null,
            "display": null,
            "left": null
          }
        },
        "c7ee7067601a4e28acd0abbdd9cae57e": {
          "model_module": "@jupyter-widgets/controls",
          "model_name": "LabelModel",
          "model_module_version": "1.5.0",
          "state": {
            "_view_name": "LabelView",
            "style": "IPY_MODEL_da2f544facbd420597c652007a78045d",
            "_dom_classes": [],
            "description": "",
            "_model_name": "LabelModel",
            "placeholder": "​",
            "_view_module": "@jupyter-widgets/controls",
            "_model_module_version": "1.5.0",
            "value": " 0.01MB of 0.01MB uploaded (0.00MB deduped)\r",
            "_view_count": null,
            "_view_module_version": "1.5.0",
            "description_tooltip": null,
            "_model_module": "@jupyter-widgets/controls",
            "layout": "IPY_MODEL_373262a6ab704fa58a9425283e6022b4"
          }
        },
        "66e6594089cc4a9f96259be9b103c583": {
          "model_module": "@jupyter-widgets/controls",
          "model_name": "FloatProgressModel",
          "model_module_version": "1.5.0",
          "state": {
            "_view_name": "ProgressView",
            "style": "IPY_MODEL_0767c2cc2feb4b31b5bdeef98c4f926a",
            "_dom_classes": [],
            "description": "",
            "_model_name": "FloatProgressModel",
            "bar_style": "",
            "max": 1,
            "_view_module": "@jupyter-widgets/controls",
            "_model_module_version": "1.5.0",
            "value": 1,
            "_view_count": null,
            "_view_module_version": "1.5.0",
            "orientation": "horizontal",
            "min": 0,
            "description_tooltip": null,
            "_model_module": "@jupyter-widgets/controls",
            "layout": "IPY_MODEL_36fe0c6b573741dca8b08dc21c8dc840"
          }
        },
        "da2f544facbd420597c652007a78045d": {
          "model_module": "@jupyter-widgets/controls",
          "model_name": "DescriptionStyleModel",
          "model_module_version": "1.5.0",
          "state": {
            "_view_name": "StyleView",
            "_model_name": "DescriptionStyleModel",
            "description_width": "",
            "_view_module": "@jupyter-widgets/base",
            "_model_module_version": "1.5.0",
            "_view_count": null,
            "_view_module_version": "1.2.0",
            "_model_module": "@jupyter-widgets/controls"
          }
        },
        "373262a6ab704fa58a9425283e6022b4": {
          "model_module": "@jupyter-widgets/base",
          "model_name": "LayoutModel",
          "model_module_version": "1.2.0",
          "state": {
            "_view_name": "LayoutView",
            "grid_template_rows": null,
            "right": null,
            "justify_content": null,
            "_view_module": "@jupyter-widgets/base",
            "overflow": null,
            "_model_module_version": "1.2.0",
            "_view_count": null,
            "flex_flow": null,
            "width": null,
            "min_width": null,
            "border": null,
            "align_items": null,
            "bottom": null,
            "_model_module": "@jupyter-widgets/base",
            "top": null,
            "grid_column": null,
            "overflow_y": null,
            "overflow_x": null,
            "grid_auto_flow": null,
            "grid_area": null,
            "grid_template_columns": null,
            "flex": null,
            "_model_name": "LayoutModel",
            "justify_items": null,
            "grid_row": null,
            "max_height": null,
            "align_content": null,
            "visibility": null,
            "align_self": null,
            "height": null,
            "min_height": null,
            "padding": null,
            "grid_auto_rows": null,
            "grid_gap": null,
            "max_width": null,
            "order": null,
            "_view_module_version": "1.2.0",
            "grid_template_areas": null,
            "object_position": null,
            "object_fit": null,
            "grid_auto_columns": null,
            "margin": null,
            "display": null,
            "left": null
          }
        },
        "0767c2cc2feb4b31b5bdeef98c4f926a": {
          "model_module": "@jupyter-widgets/controls",
          "model_name": "ProgressStyleModel",
          "model_module_version": "1.5.0",
          "state": {
            "_view_name": "StyleView",
            "_model_name": "ProgressStyleModel",
            "description_width": "",
            "_view_module": "@jupyter-widgets/base",
            "_model_module_version": "1.5.0",
            "_view_count": null,
            "_view_module_version": "1.2.0",
            "bar_color": null,
            "_model_module": "@jupyter-widgets/controls"
          }
        },
        "36fe0c6b573741dca8b08dc21c8dc840": {
          "model_module": "@jupyter-widgets/base",
          "model_name": "LayoutModel",
          "model_module_version": "1.2.0",
          "state": {
            "_view_name": "LayoutView",
            "grid_template_rows": null,
            "right": null,
            "justify_content": null,
            "_view_module": "@jupyter-widgets/base",
            "overflow": null,
            "_model_module_version": "1.2.0",
            "_view_count": null,
            "flex_flow": null,
            "width": null,
            "min_width": null,
            "border": null,
            "align_items": null,
            "bottom": null,
            "_model_module": "@jupyter-widgets/base",
            "top": null,
            "grid_column": null,
            "overflow_y": null,
            "overflow_x": null,
            "grid_auto_flow": null,
            "grid_area": null,
            "grid_template_columns": null,
            "flex": null,
            "_model_name": "LayoutModel",
            "justify_items": null,
            "grid_row": null,
            "max_height": null,
            "align_content": null,
            "visibility": null,
            "align_self": null,
            "height": null,
            "min_height": null,
            "padding": null,
            "grid_auto_rows": null,
            "grid_gap": null,
            "max_width": null,
            "order": null,
            "_view_module_version": "1.2.0",
            "grid_template_areas": null,
            "object_position": null,
            "object_fit": null,
            "grid_auto_columns": null,
            "margin": null,
            "display": null,
            "left": null
          }
        }
      }
    }
  },
  "nbformat": 4,
  "nbformat_minor": 0
}
